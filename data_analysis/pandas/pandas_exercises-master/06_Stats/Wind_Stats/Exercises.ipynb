{
 "cells": [
  {
   "cell_type": "markdown",
   "metadata": {},
   "source": [
    "# Wind Statistics"
   ]
  },
  {
   "cell_type": "markdown",
   "metadata": {},
   "source": [
    "### Introduction:\n",
    "\n",
    "The data have been modified to contain some missing values, identified by NaN.  \n",
    "Using pandas should make this exercise\n",
    "easier, in particular for the bonus question.\n",
    "\n",
    "You should be able to perform all of these operations without using\n",
    "a for loop or other looping construct.\n",
    "\n",
    "\n",
    "1. The data in 'wind.data' has the following format:"
   ]
  },
  {
   "cell_type": "code",
   "execution_count": null,
   "metadata": {
    "collapsed": false,
    "jupyter": {
     "outputs_hidden": false
    }
   },
   "outputs": [],
   "source": [
    "\"\"\"\n",
    "Yr Mo Dy   RPT   VAL   ROS   KIL   SHA   BIR   DUB   CLA   MUL   CLO   BEL   MAL\n",
    "61  1  1 15.04 14.96 13.17  9.29   NaN  9.87 13.67 10.25 10.83 12.58 18.50 15.04\n",
    "61  1  2 14.71   NaN 10.83  6.50 12.62  7.67 11.50 10.04  9.79  9.67 17.54 13.83\n",
    "61  1  3 18.50 16.88 12.33 10.13 11.17  6.17 11.25   NaN  8.50  7.67 12.75 12.71\n",
    "\"\"\""
   ]
  },
  {
   "cell_type": "markdown",
   "metadata": {},
   "source": [
    "   The first three columns are year, month and day.  The\n",
    "   remaining 12 columns are average windspeeds in knots at 12\n",
    "   locations in Ireland on that day.   \n",
    "\n",
    "   More information about the dataset go [here](wind.desc)."
   ]
  },
  {
   "cell_type": "markdown",
   "metadata": {},
   "source": [
    "### Step 1. Import the necessary libraries"
   ]
  },
  {
   "cell_type": "code",
   "execution_count": 2,
   "metadata": {
    "collapsed": false,
    "jupyter": {
     "outputs_hidden": false
    }
   },
   "outputs": [],
   "source": [
    "import pandas as pd\n",
    "from datetime import datetime"
   ]
  },
  {
   "cell_type": "markdown",
   "metadata": {},
   "source": [
    "### Step 2. Import the dataset from this [address](https://raw.githubusercontent.com/guipsamora/pandas_exercises/master/06_Stats/Wind_Stats/wind.data)"
   ]
  },
  {
   "cell_type": "markdown",
   "metadata": {},
   "source": [
    "### Step 3. Assign it to a variable called data and replace the first 3 columns by a proper datetime index."
   ]
  },
  {
   "cell_type": "code",
   "execution_count": 3,
   "metadata": {
    "collapsed": false,
    "jupyter": {
     "outputs_hidden": false
    }
   },
   "outputs": [],
   "source": [
    "data = pd.read_csv('wind.data', sep='\\s+', engine='python')"
   ]
  },
  {
   "cell_type": "code",
   "execution_count": 4,
   "metadata": {},
   "outputs": [
    {
     "name": "stdout",
     "output_type": "stream",
     "text": [
      "<class 'pandas.core.frame.DataFrame'>\n",
      "RangeIndex: 6574 entries, 0 to 6573\n",
      "Data columns (total 15 columns):\n",
      " #   Column  Non-Null Count  Dtype  \n",
      "---  ------  --------------  -----  \n",
      " 0   Yr      6574 non-null   int64  \n",
      " 1   Mo      6574 non-null   int64  \n",
      " 2   Dy      6574 non-null   int64  \n",
      " 3   RPT     6568 non-null   float64\n",
      " 4   VAL     6571 non-null   float64\n",
      " 5   ROS     6572 non-null   float64\n",
      " 6   KIL     6569 non-null   float64\n",
      " 7   SHA     6572 non-null   float64\n",
      " 8   BIR     6574 non-null   float64\n",
      " 9   DUB     6571 non-null   float64\n",
      " 10  CLA     6572 non-null   float64\n",
      " 11  MUL     6571 non-null   float64\n",
      " 12  CLO     6573 non-null   float64\n",
      " 13  BEL     6574 non-null   float64\n",
      " 14  MAL     6570 non-null   float64\n",
      "dtypes: float64(12), int64(3)\n",
      "memory usage: 770.5 KB\n"
     ]
    }
   ],
   "source": [
    "data.info()"
   ]
  },
  {
   "cell_type": "code",
   "execution_count": 5,
   "metadata": {},
   "outputs": [],
   "source": [
    "# remove first 3 columns and replace by a datetime value.\n",
    "data['Y'] = pd.to_datetime(dict(year=1900+data.Yr, month=data.Mo, day=data.Dy))\n",
    "data.drop(columns=['Yr', 'Mo', 'Dy'], inplace=True)"
   ]
  },
  {
   "cell_type": "code",
   "execution_count": 6,
   "metadata": {},
   "outputs": [],
   "source": [
    "# make Y the index\n",
    "data.set_index(keys=data.Y, drop=True, inplace=True)"
   ]
  },
  {
   "cell_type": "markdown",
   "metadata": {},
   "source": [
    "### Step 4. Year 2061? Do we really have data from this year? Create a function to fix it and apply it."
   ]
  },
  {
   "cell_type": "code",
   "execution_count": 7,
   "metadata": {
    "collapsed": false,
    "jupyter": {
     "outputs_hidden": false
    }
   },
   "outputs": [
    {
     "data": {
      "text/html": [
       "<div>\n",
       "<style scoped>\n",
       "    .dataframe tbody tr th:only-of-type {\n",
       "        vertical-align: middle;\n",
       "    }\n",
       "\n",
       "    .dataframe tbody tr th {\n",
       "        vertical-align: top;\n",
       "    }\n",
       "\n",
       "    .dataframe thead th {\n",
       "        text-align: right;\n",
       "    }\n",
       "</style>\n",
       "<table border=\"1\" class=\"dataframe\">\n",
       "  <thead>\n",
       "    <tr style=\"text-align: right;\">\n",
       "      <th></th>\n",
       "      <th>RPT</th>\n",
       "      <th>VAL</th>\n",
       "      <th>ROS</th>\n",
       "      <th>KIL</th>\n",
       "      <th>SHA</th>\n",
       "      <th>BIR</th>\n",
       "      <th>DUB</th>\n",
       "      <th>CLA</th>\n",
       "      <th>MUL</th>\n",
       "      <th>CLO</th>\n",
       "      <th>BEL</th>\n",
       "      <th>MAL</th>\n",
       "    </tr>\n",
       "    <tr>\n",
       "      <th>Y</th>\n",
       "      <th></th>\n",
       "      <th></th>\n",
       "      <th></th>\n",
       "      <th></th>\n",
       "      <th></th>\n",
       "      <th></th>\n",
       "      <th></th>\n",
       "      <th></th>\n",
       "      <th></th>\n",
       "      <th></th>\n",
       "      <th></th>\n",
       "      <th></th>\n",
       "    </tr>\n",
       "  </thead>\n",
       "  <tbody>\n",
       "    <tr>\n",
       "      <th>1961-01-01</th>\n",
       "      <td>15.04</td>\n",
       "      <td>14.96</td>\n",
       "      <td>13.17</td>\n",
       "      <td>9.29</td>\n",
       "      <td>NaN</td>\n",
       "      <td>9.87</td>\n",
       "      <td>13.67</td>\n",
       "      <td>10.25</td>\n",
       "      <td>10.83</td>\n",
       "      <td>12.58</td>\n",
       "      <td>18.50</td>\n",
       "      <td>15.04</td>\n",
       "    </tr>\n",
       "    <tr>\n",
       "      <th>1961-01-02</th>\n",
       "      <td>14.71</td>\n",
       "      <td>NaN</td>\n",
       "      <td>10.83</td>\n",
       "      <td>6.50</td>\n",
       "      <td>12.62</td>\n",
       "      <td>7.67</td>\n",
       "      <td>11.50</td>\n",
       "      <td>10.04</td>\n",
       "      <td>9.79</td>\n",
       "      <td>9.67</td>\n",
       "      <td>17.54</td>\n",
       "      <td>13.83</td>\n",
       "    </tr>\n",
       "    <tr>\n",
       "      <th>1961-01-03</th>\n",
       "      <td>18.50</td>\n",
       "      <td>16.88</td>\n",
       "      <td>12.33</td>\n",
       "      <td>10.13</td>\n",
       "      <td>11.17</td>\n",
       "      <td>6.17</td>\n",
       "      <td>11.25</td>\n",
       "      <td>NaN</td>\n",
       "      <td>8.50</td>\n",
       "      <td>7.67</td>\n",
       "      <td>12.75</td>\n",
       "      <td>12.71</td>\n",
       "    </tr>\n",
       "    <tr>\n",
       "      <th>1961-01-04</th>\n",
       "      <td>10.58</td>\n",
       "      <td>6.63</td>\n",
       "      <td>11.75</td>\n",
       "      <td>4.58</td>\n",
       "      <td>4.54</td>\n",
       "      <td>2.88</td>\n",
       "      <td>8.63</td>\n",
       "      <td>1.79</td>\n",
       "      <td>5.83</td>\n",
       "      <td>5.88</td>\n",
       "      <td>5.46</td>\n",
       "      <td>10.88</td>\n",
       "    </tr>\n",
       "    <tr>\n",
       "      <th>1961-01-05</th>\n",
       "      <td>13.33</td>\n",
       "      <td>13.25</td>\n",
       "      <td>11.42</td>\n",
       "      <td>6.17</td>\n",
       "      <td>10.71</td>\n",
       "      <td>8.21</td>\n",
       "      <td>11.92</td>\n",
       "      <td>6.54</td>\n",
       "      <td>10.92</td>\n",
       "      <td>10.34</td>\n",
       "      <td>12.92</td>\n",
       "      <td>11.83</td>\n",
       "    </tr>\n",
       "  </tbody>\n",
       "</table>\n",
       "</div>"
      ],
      "text/plain": [
       "              RPT    VAL    ROS    KIL    SHA   BIR    DUB    CLA    MUL  \\\n",
       "Y                                                                          \n",
       "1961-01-01  15.04  14.96  13.17   9.29    NaN  9.87  13.67  10.25  10.83   \n",
       "1961-01-02  14.71    NaN  10.83   6.50  12.62  7.67  11.50  10.04   9.79   \n",
       "1961-01-03  18.50  16.88  12.33  10.13  11.17  6.17  11.25    NaN   8.50   \n",
       "1961-01-04  10.58   6.63  11.75   4.58   4.54  2.88   8.63   1.79   5.83   \n",
       "1961-01-05  13.33  13.25  11.42   6.17  10.71  8.21  11.92   6.54  10.92   \n",
       "\n",
       "              CLO    BEL    MAL  \n",
       "Y                                \n",
       "1961-01-01  12.58  18.50  15.04  \n",
       "1961-01-02   9.67  17.54  13.83  \n",
       "1961-01-03   7.67  12.75  12.71  \n",
       "1961-01-04   5.88   5.46  10.88  \n",
       "1961-01-05  10.34  12.92  11.83  "
      ]
     },
     "execution_count": 7,
     "metadata": {},
     "output_type": "execute_result"
    }
   ],
   "source": [
    "del data['Y']\n",
    "data.head()"
   ]
  },
  {
   "cell_type": "markdown",
   "metadata": {},
   "source": [
    "### Step 5. Set the right dates as the index. Pay attention at the data type, it should be datetime64[ns]."
   ]
  },
  {
   "cell_type": "code",
   "execution_count": 8,
   "metadata": {
    "collapsed": false,
    "jupyter": {
     "outputs_hidden": false
    }
   },
   "outputs": [
    {
     "data": {
      "text/plain": [
       "DatetimeIndex(['1961-01-01', '1961-01-02', '1961-01-03', '1961-01-04',\n",
       "               '1961-01-05', '1961-01-06', '1961-01-07', '1961-01-08',\n",
       "               '1961-01-09', '1961-01-10',\n",
       "               ...\n",
       "               '1978-12-22', '1978-12-23', '1978-12-24', '1978-12-25',\n",
       "               '1978-12-26', '1978-12-27', '1978-12-28', '1978-12-29',\n",
       "               '1978-12-30', '1978-12-31'],\n",
       "              dtype='datetime64[ns]', name='Y', length=6574, freq=None)"
      ]
     },
     "execution_count": 8,
     "metadata": {},
     "output_type": "execute_result"
    }
   ],
   "source": [
    "data.index"
   ]
  },
  {
   "cell_type": "markdown",
   "metadata": {},
   "source": [
    "### Step 6. Compute how many values are missing for each location over the entire record.  \n",
    "#### They should be ignored in all calculations below. "
   ]
  },
  {
   "cell_type": "code",
   "execution_count": 9,
   "metadata": {
    "collapsed": false,
    "jupyter": {
     "outputs_hidden": false
    }
   },
   "outputs": [
    {
     "data": {
      "text/plain": [
       "RPT    6\n",
       "VAL    3\n",
       "ROS    2\n",
       "KIL    5\n",
       "SHA    2\n",
       "BIR    0\n",
       "DUB    3\n",
       "CLA    2\n",
       "MUL    3\n",
       "CLO    1\n",
       "BEL    0\n",
       "MAL    4\n",
       "dtype: int64"
      ]
     },
     "execution_count": 9,
     "metadata": {},
     "output_type": "execute_result"
    }
   ],
   "source": [
    "data.isna().sum()"
   ]
  },
  {
   "cell_type": "markdown",
   "metadata": {},
   "source": [
    "### Step 7. Compute how many non-missing values there are in total."
   ]
  },
  {
   "cell_type": "code",
   "execution_count": 10,
   "metadata": {
    "collapsed": false,
    "jupyter": {
     "outputs_hidden": false
    },
    "scrolled": true
   },
   "outputs": [
    {
     "name": "stdout",
     "output_type": "stream",
     "text": [
      "<class 'pandas.core.frame.DataFrame'>\n",
      "DatetimeIndex: 6574 entries, 1961-01-01 to 1978-12-31\n",
      "Data columns (total 12 columns):\n",
      " #   Column  Non-Null Count  Dtype  \n",
      "---  ------  --------------  -----  \n",
      " 0   RPT     6568 non-null   float64\n",
      " 1   VAL     6571 non-null   float64\n",
      " 2   ROS     6572 non-null   float64\n",
      " 3   KIL     6569 non-null   float64\n",
      " 4   SHA     6572 non-null   float64\n",
      " 5   BIR     6574 non-null   float64\n",
      " 6   DUB     6571 non-null   float64\n",
      " 7   CLA     6572 non-null   float64\n",
      " 8   MUL     6571 non-null   float64\n",
      " 9   CLO     6573 non-null   float64\n",
      " 10  BEL     6574 non-null   float64\n",
      " 11  MAL     6570 non-null   float64\n",
      "dtypes: float64(12)\n",
      "memory usage: 667.7 KB\n"
     ]
    }
   ],
   "source": [
    "data.info()"
   ]
  },
  {
   "cell_type": "markdown",
   "metadata": {},
   "source": [
    "### Step 8. Calculate the mean windspeeds of the windspeeds over all the locations and all the times.\n",
    "#### A single number for the entire dataset."
   ]
  },
  {
   "cell_type": "code",
   "execution_count": 11,
   "metadata": {
    "collapsed": false,
    "jupyter": {
     "outputs_hidden": false
    }
   },
   "outputs": [
    {
     "data": {
      "text/plain": [
       "RPT    12.362987\n",
       "VAL    10.644314\n",
       "ROS    11.660526\n",
       "KIL     6.306468\n",
       "SHA    10.455834\n",
       "BIR     7.092254\n",
       "DUB     9.797343\n",
       "CLA     8.495053\n",
       "MUL     8.493590\n",
       "CLO     8.707332\n",
       "BEL    13.121007\n",
       "MAL    15.599079\n",
       "dtype: float64"
      ]
     },
     "execution_count": 11,
     "metadata": {},
     "output_type": "execute_result"
    }
   ],
   "source": [
    "data.mean()"
   ]
  },
  {
   "cell_type": "markdown",
   "metadata": {},
   "source": [
    "### Step 9. Create a DataFrame called loc_stats and calculate the min, max and mean windspeeds and standard deviations of the windspeeds at each location over all the days \n",
    "\n",
    "#### A different set of numbers for each location."
   ]
  },
  {
   "cell_type": "code",
   "execution_count": 12,
   "metadata": {
    "collapsed": false,
    "jupyter": {
     "outputs_hidden": false
    }
   },
   "outputs": [
    {
     "data": {
      "text/plain": [
       "min      0.670000\n",
       "max     35.800000\n",
       "mean    12.362987\n",
       "std      5.618413\n",
       "Name: RPT, dtype: float64"
      ]
     },
     "execution_count": 12,
     "metadata": {},
     "output_type": "execute_result"
    }
   ],
   "source": [
    "rpt = pd.Series({\"min\": data.RPT.min(), \"max\": data.RPT.max(), \"mean\": data.RPT.mean(), \"std\": data.RPT.std()}, name='RPT')\n",
    "rpt"
   ]
  },
  {
   "cell_type": "code",
   "execution_count": 13,
   "metadata": {},
   "outputs": [
    {
     "data": {
      "text/plain": [
       "min      1.500000\n",
       "max     33.370000\n",
       "mean    10.644314\n",
       "std      5.267356\n",
       "Name: VAL, dtype: float64"
      ]
     },
     "execution_count": 13,
     "metadata": {},
     "output_type": "execute_result"
    }
   ],
   "source": [
    "val = pd.Series({\"min\": data.ROS.min(), \"max\": data.VAL.max(), \"mean\": data.VAL.mean(), \"std\": data.VAL.std()}, name='VAL')\n",
    "val"
   ]
  },
  {
   "cell_type": "code",
   "execution_count": 14,
   "metadata": {},
   "outputs": [
    {
     "data": {
      "text/plain": [
       "min      1.500000\n",
       "max     33.840000\n",
       "mean    11.660526\n",
       "std      5.008450\n",
       "Name: ROS, dtype: float64"
      ]
     },
     "execution_count": 14,
     "metadata": {},
     "output_type": "execute_result"
    }
   ],
   "source": [
    "ros = pd.Series({\"min\": data.ROS.min(), \"max\": data.ROS.max(), \"mean\": data.ROS.mean(), \"std\": data.ROS.std()}, name='ROS')\n",
    "ros"
   ]
  },
  {
   "cell_type": "code",
   "execution_count": 15,
   "metadata": {},
   "outputs": [
    {
     "data": {
      "text/plain": [
       "min      0.000000\n",
       "max     28.460000\n",
       "mean     6.306468\n",
       "std      5.008450\n",
       "Name: KIL, dtype: float64"
      ]
     },
     "execution_count": 15,
     "metadata": {},
     "output_type": "execute_result"
    }
   ],
   "source": [
    "kil = pd.Series({\"min\": data.KIL.min(), \"max\": data.KIL.max(), \"mean\": data.KIL.mean(), \"std\": data.ROS.std()}, name='KIL')\n",
    "kil"
   ]
  },
  {
   "cell_type": "code",
   "execution_count": 16,
   "metadata": {},
   "outputs": [
    {
     "data": {
      "text/plain": [
       "min      0.130000\n",
       "max     37.540000\n",
       "mean    10.455834\n",
       "std      4.936125\n",
       "Name: SHA, dtype: float64"
      ]
     },
     "execution_count": 16,
     "metadata": {},
     "output_type": "execute_result"
    }
   ],
   "source": [
    "sha = pd.Series({\"min\": data.SHA.min(), \"max\": data.SHA.max(), \"mean\": data.SHA.mean(), \"std\": data.SHA.std()}, name='SHA')\n",
    "sha"
   ]
  },
  {
   "cell_type": "code",
   "execution_count": 17,
   "metadata": {},
   "outputs": [
    {
     "data": {
      "text/plain": [
       "min      0.000000\n",
       "max     26.160000\n",
       "mean     7.092254\n",
       "std      3.968683\n",
       "Name: SHA, dtype: float64"
      ]
     },
     "execution_count": 17,
     "metadata": {},
     "output_type": "execute_result"
    }
   ],
   "source": [
    "bir = pd.Series({\"min\": data.BIR.min(), \"max\": data.BIR.max(), \"mean\": data.BIR.mean(), \"std\": data.BIR.std()}, name='SHA')\n",
    "bir"
   ]
  },
  {
   "cell_type": "code",
   "execution_count": 18,
   "metadata": {},
   "outputs": [
    {
     "data": {
      "text/plain": [
       "min      0.000000\n",
       "max     30.370000\n",
       "mean     9.797343\n",
       "std      4.977555\n",
       "Name: DUB, dtype: float64"
      ]
     },
     "execution_count": 18,
     "metadata": {},
     "output_type": "execute_result"
    }
   ],
   "source": [
    "dub = pd.Series({\"min\": data.DUB.min(), \"max\": data.DUB.max(), \"mean\": data.DUB.mean(), \"std\": data.DUB.std()}, name='DUB')\n",
    "dub"
   ]
  },
  {
   "cell_type": "code",
   "execution_count": 19,
   "metadata": {},
   "outputs": [
    {
     "data": {
      "text/plain": [
       "min      0.000000\n",
       "max     31.080000\n",
       "mean     8.495053\n",
       "std      4.499449\n",
       "Name: CLA, dtype: float64"
      ]
     },
     "execution_count": 19,
     "metadata": {},
     "output_type": "execute_result"
    }
   ],
   "source": [
    "cla = pd.Series({\"min\": data.CLA.min(), \"max\": data.CLA.max(), \"mean\": data.CLA.mean(), \"std\": data.CLA.std()}, name='CLA')\n",
    "cla"
   ]
  },
  {
   "cell_type": "code",
   "execution_count": 20,
   "metadata": {},
   "outputs": [
    {
     "data": {
      "text/plain": [
       "min      0.000000\n",
       "max     25.880000\n",
       "mean     8.493590\n",
       "std      4.166872\n",
       "Name: MUL, dtype: float64"
      ]
     },
     "execution_count": 20,
     "metadata": {},
     "output_type": "execute_result"
    }
   ],
   "source": [
    "mul = pd.Series({\"min\": data.MUL.min(), \"max\": data.MUL.max(), \"mean\": data.MUL.mean(), \"std\": data.MUL.std()}, name='MUL')\n",
    "mul"
   ]
  },
  {
   "cell_type": "code",
   "execution_count": 21,
   "metadata": {},
   "outputs": [
    {
     "data": {
      "text/plain": [
       "min      0.040000\n",
       "max     28.210000\n",
       "mean     8.707332\n",
       "std      4.503954\n",
       "Name: CLO, dtype: float64"
      ]
     },
     "execution_count": 21,
     "metadata": {},
     "output_type": "execute_result"
    }
   ],
   "source": [
    "clo = pd.Series({\"min\": data.CLO.min(), \"max\": data.CLO.max(), \"mean\": data.CLO.mean(), \"std\": data.CLO.std()}, name='CLO')\n",
    "clo"
   ]
  },
  {
   "cell_type": "code",
   "execution_count": 22,
   "metadata": {},
   "outputs": [
    {
     "data": {
      "text/plain": [
       "min      0.040000\n",
       "max     28.210000\n",
       "mean     8.707332\n",
       "std      4.503954\n",
       "Name: CLO, dtype: float64"
      ]
     },
     "execution_count": 22,
     "metadata": {},
     "output_type": "execute_result"
    }
   ],
   "source": [
    "clo = pd.Series({\"min\": data.CLO.min(), \"max\": data.CLO.max(), \"mean\": data.CLO.mean(), \"std\": data.CLO.std()}, name='CLO')\n",
    "clo"
   ]
  },
  {
   "cell_type": "code",
   "execution_count": 23,
   "metadata": {},
   "outputs": [
    {
     "data": {
      "text/plain": [
       "min      0.130000\n",
       "max     42.380000\n",
       "mean    13.121007\n",
       "std      5.835037\n",
       "Name: BEL, dtype: float64"
      ]
     },
     "execution_count": 23,
     "metadata": {},
     "output_type": "execute_result"
    }
   ],
   "source": [
    "bel = pd.Series({\"min\": data.BEL.min(), \"max\": data.BEL.max(), \"mean\": data.BEL.mean(), \"std\": data.BEL.std()}, name='BEL')\n",
    "bel"
   ]
  },
  {
   "cell_type": "code",
   "execution_count": 35,
   "metadata": {},
   "outputs": [
    {
     "data": {
      "text/plain": [
       "min      0.6700\n",
       "max     42.5400\n",
       "mean    15.5991\n",
       "std      6.6998\n",
       "Name: MAL, dtype: float64"
      ]
     },
     "execution_count": 35,
     "metadata": {},
     "output_type": "execute_result"
    }
   ],
   "source": [
    "mal = pd.Series({\"min\": data.MAL.min(), \"max\": data.MAL.max(), \"mean\": data.MAL.mean(), \"std\": data.MAL.std()}, name='MAL')\n",
    "mal"
   ]
  },
  {
   "cell_type": "code",
   "execution_count": 25,
   "metadata": {},
   "outputs": [
    {
     "data": {
      "text/plain": [
       "Index(['RPT', 'VAL', 'ROS', 'KIL', 'SHA', 'BIR', 'DUB', 'CLA', 'MUL', 'CLO',\n",
       "       'BEL', 'MAL'],\n",
       "      dtype='object')"
      ]
     },
     "execution_count": 25,
     "metadata": {},
     "output_type": "execute_result"
    }
   ],
   "source": [
    "data.columns"
   ]
  },
  {
   "cell_type": "code",
   "execution_count": 26,
   "metadata": {},
   "outputs": [],
   "source": [
    "loc_stats = pd.concat([rpt, val, ros, kil, sha, bir, dub, cla, mul, clo, bel, mal], axis=1)"
   ]
  },
  {
   "cell_type": "code",
   "execution_count": 27,
   "metadata": {},
   "outputs": [
    {
     "data": {
      "text/html": [
       "<div>\n",
       "<style scoped>\n",
       "    .dataframe tbody tr th:only-of-type {\n",
       "        vertical-align: middle;\n",
       "    }\n",
       "\n",
       "    .dataframe tbody tr th {\n",
       "        vertical-align: top;\n",
       "    }\n",
       "\n",
       "    .dataframe thead th {\n",
       "        text-align: right;\n",
       "    }\n",
       "</style>\n",
       "<table border=\"1\" class=\"dataframe\">\n",
       "  <thead>\n",
       "    <tr style=\"text-align: right;\">\n",
       "      <th></th>\n",
       "      <th>RPT</th>\n",
       "      <th>VAL</th>\n",
       "      <th>ROS</th>\n",
       "      <th>KIL</th>\n",
       "      <th>SHA</th>\n",
       "      <th>SHA</th>\n",
       "      <th>DUB</th>\n",
       "      <th>CLA</th>\n",
       "      <th>MUL</th>\n",
       "      <th>CLO</th>\n",
       "      <th>BEL</th>\n",
       "      <th>MAL</th>\n",
       "    </tr>\n",
       "  </thead>\n",
       "  <tbody>\n",
       "    <tr>\n",
       "      <th>min</th>\n",
       "      <td>0.6700</td>\n",
       "      <td>1.5000</td>\n",
       "      <td>1.5000</td>\n",
       "      <td>0.0000</td>\n",
       "      <td>0.1300</td>\n",
       "      <td>0.0000</td>\n",
       "      <td>0.0000</td>\n",
       "      <td>0.0000</td>\n",
       "      <td>0.0000</td>\n",
       "      <td>0.0400</td>\n",
       "      <td>0.130</td>\n",
       "      <td>0.6700</td>\n",
       "    </tr>\n",
       "    <tr>\n",
       "      <th>max</th>\n",
       "      <td>35.8000</td>\n",
       "      <td>33.3700</td>\n",
       "      <td>33.8400</td>\n",
       "      <td>28.4600</td>\n",
       "      <td>37.5400</td>\n",
       "      <td>26.1600</td>\n",
       "      <td>30.3700</td>\n",
       "      <td>31.0800</td>\n",
       "      <td>25.8800</td>\n",
       "      <td>28.2100</td>\n",
       "      <td>42.380</td>\n",
       "      <td>42.5400</td>\n",
       "    </tr>\n",
       "    <tr>\n",
       "      <th>mean</th>\n",
       "      <td>12.3630</td>\n",
       "      <td>10.6443</td>\n",
       "      <td>11.6605</td>\n",
       "      <td>6.3065</td>\n",
       "      <td>10.4558</td>\n",
       "      <td>7.0923</td>\n",
       "      <td>9.7973</td>\n",
       "      <td>8.4951</td>\n",
       "      <td>8.4936</td>\n",
       "      <td>8.7073</td>\n",
       "      <td>13.121</td>\n",
       "      <td>15.5991</td>\n",
       "    </tr>\n",
       "    <tr>\n",
       "      <th>std</th>\n",
       "      <td>5.6184</td>\n",
       "      <td>5.2674</td>\n",
       "      <td>5.0084</td>\n",
       "      <td>5.0084</td>\n",
       "      <td>4.9361</td>\n",
       "      <td>3.9687</td>\n",
       "      <td>4.9776</td>\n",
       "      <td>4.4994</td>\n",
       "      <td>4.1669</td>\n",
       "      <td>4.5040</td>\n",
       "      <td>5.835</td>\n",
       "      <td>6.6998</td>\n",
       "    </tr>\n",
       "  </tbody>\n",
       "</table>\n",
       "</div>"
      ],
      "text/plain": [
       "          RPT      VAL      ROS      KIL      SHA      SHA      DUB      CLA  \\\n",
       "min    0.6700   1.5000   1.5000   0.0000   0.1300   0.0000   0.0000   0.0000   \n",
       "max   35.8000  33.3700  33.8400  28.4600  37.5400  26.1600  30.3700  31.0800   \n",
       "mean  12.3630  10.6443  11.6605   6.3065  10.4558   7.0923   9.7973   8.4951   \n",
       "std    5.6184   5.2674   5.0084   5.0084   4.9361   3.9687   4.9776   4.4994   \n",
       "\n",
       "          MUL      CLO     BEL      MAL  \n",
       "min    0.0000   0.0400   0.130   0.6700  \n",
       "max   25.8800  28.2100  42.380  42.5400  \n",
       "mean   8.4936   8.7073  13.121  15.5991  \n",
       "std    4.1669   4.5040   5.835   6.6998  "
      ]
     },
     "execution_count": 27,
     "metadata": {},
     "output_type": "execute_result"
    }
   ],
   "source": [
    "pd.set_option('display.precision', 4)\n",
    "loc_stats"
   ]
  },
  {
   "cell_type": "markdown",
   "metadata": {},
   "source": [
    "### Step 10. Create a DataFrame called day_stats and calculate the min, max and mean windspeed and standard deviations of the windspeeds across all the locations at each day.\n",
    "\n",
    "#### A different set of numbers for each day."
   ]
  },
  {
   "cell_type": "code",
   "execution_count": 28,
   "metadata": {
    "collapsed": false,
    "jupyter": {
     "outputs_hidden": false
    }
   },
   "outputs": [
    {
     "data": {
      "text/plain": [
       "Y\n",
       "1961-01-01    18.50\n",
       "1961-01-02    17.54\n",
       "1961-01-03    18.50\n",
       "1961-01-04    11.75\n",
       "1961-01-05    13.33\n",
       "              ...  \n",
       "1978-12-27    40.08\n",
       "1978-12-28    41.46\n",
       "1978-12-29    29.58\n",
       "1978-12-30    28.79\n",
       "1978-12-31    27.29\n",
       "Length: 6574, dtype: float64"
      ]
     },
     "execution_count": 28,
     "metadata": {},
     "output_type": "execute_result"
    }
   ],
   "source": [
    "data_max = data.apply(max, axis=1)\n",
    "data_max"
   ]
  },
  {
   "cell_type": "code",
   "execution_count": 29,
   "metadata": {},
   "outputs": [
    {
     "data": {
      "text/plain": [
       "Y\n",
       "1961-01-01    9.29\n",
       "1961-01-02    6.50\n",
       "1961-01-03    6.17\n",
       "1961-01-04    1.79\n",
       "1961-01-05    6.17\n",
       "              ... \n",
       "1978-12-27    8.08\n",
       "1978-12-28    5.00\n",
       "1978-12-29    8.71\n",
       "1978-12-30    9.13\n",
       "1978-12-31    9.59\n",
       "Length: 6574, dtype: float64"
      ]
     },
     "execution_count": 29,
     "metadata": {},
     "output_type": "execute_result"
    }
   ],
   "source": [
    "data_min = data.apply(min, axis=1)\n",
    "data_min"
   ]
  },
  {
   "cell_type": "code",
   "execution_count": 30,
   "metadata": {},
   "outputs": [
    {
     "data": {
      "text/plain": [
       "Y\n",
       "1961-01-01    13.0182\n",
       "1961-01-02    11.3364\n",
       "1961-01-03    11.6418\n",
       "1961-01-04     6.6192\n",
       "1961-01-05    10.6300\n",
       "               ...   \n",
       "1978-12-27    16.7083\n",
       "1978-12-28    15.1500\n",
       "1978-12-29    14.8900\n",
       "1978-12-30    15.3675\n",
       "1978-12-31    15.4025\n",
       "Length: 6574, dtype: float64"
      ]
     },
     "execution_count": 30,
     "metadata": {},
     "output_type": "execute_result"
    }
   ],
   "source": [
    "data_mean = data.apply(lambda x: x.mean(), axis=1)\n",
    "data_mean"
   ]
  },
  {
   "cell_type": "code",
   "execution_count": 31,
   "metadata": {},
   "outputs": [
    {
     "data": {
      "text/plain": [
       "Y\n",
       "1961-01-01    2.8089\n",
       "1961-01-02    3.1890\n",
       "1961-01-03    3.6819\n",
       "1961-01-04    3.1981\n",
       "1961-01-05    2.4454\n",
       "               ...  \n",
       "1978-12-27    7.8681\n",
       "1978-12-28    9.6879\n",
       "1978-12-29    5.7568\n",
       "1978-12-30    5.5404\n",
       "1978-12-31    5.7025\n",
       "Length: 6574, dtype: float64"
      ]
     },
     "execution_count": 31,
     "metadata": {},
     "output_type": "execute_result"
    }
   ],
   "source": [
    "data_std = data.apply(lambda x: x.std(), axis=1)\n",
    "data_std"
   ]
  },
  {
   "cell_type": "code",
   "execution_count": 32,
   "metadata": {},
   "outputs": [],
   "source": [
    "day_stats = pd.concat([data_min, data_max, data_mean, data_std], axis=1)\n",
    "day_stats.columns = ['min', 'max', 'mean', 'std']"
   ]
  },
  {
   "cell_type": "code",
   "execution_count": 33,
   "metadata": {},
   "outputs": [
    {
     "data": {
      "text/html": [
       "<div>\n",
       "<style scoped>\n",
       "    .dataframe tbody tr th:only-of-type {\n",
       "        vertical-align: middle;\n",
       "    }\n",
       "\n",
       "    .dataframe tbody tr th {\n",
       "        vertical-align: top;\n",
       "    }\n",
       "\n",
       "    .dataframe thead th {\n",
       "        text-align: right;\n",
       "    }\n",
       "</style>\n",
       "<table border=\"1\" class=\"dataframe\">\n",
       "  <thead>\n",
       "    <tr style=\"text-align: right;\">\n",
       "      <th></th>\n",
       "      <th>min</th>\n",
       "      <th>max</th>\n",
       "      <th>mean</th>\n",
       "      <th>std</th>\n",
       "    </tr>\n",
       "    <tr>\n",
       "      <th>Y</th>\n",
       "      <th></th>\n",
       "      <th></th>\n",
       "      <th></th>\n",
       "      <th></th>\n",
       "    </tr>\n",
       "  </thead>\n",
       "  <tbody>\n",
       "    <tr>\n",
       "      <th>1961-01-01</th>\n",
       "      <td>9.29</td>\n",
       "      <td>18.50</td>\n",
       "      <td>13.0182</td>\n",
       "      <td>2.8089</td>\n",
       "    </tr>\n",
       "    <tr>\n",
       "      <th>1961-01-02</th>\n",
       "      <td>6.50</td>\n",
       "      <td>17.54</td>\n",
       "      <td>11.3364</td>\n",
       "      <td>3.1890</td>\n",
       "    </tr>\n",
       "    <tr>\n",
       "      <th>1961-01-03</th>\n",
       "      <td>6.17</td>\n",
       "      <td>18.50</td>\n",
       "      <td>11.6418</td>\n",
       "      <td>3.6819</td>\n",
       "    </tr>\n",
       "    <tr>\n",
       "      <th>1961-01-04</th>\n",
       "      <td>1.79</td>\n",
       "      <td>11.75</td>\n",
       "      <td>6.6192</td>\n",
       "      <td>3.1981</td>\n",
       "    </tr>\n",
       "    <tr>\n",
       "      <th>1961-01-05</th>\n",
       "      <td>6.17</td>\n",
       "      <td>13.33</td>\n",
       "      <td>10.6300</td>\n",
       "      <td>2.4454</td>\n",
       "    </tr>\n",
       "    <tr>\n",
       "      <th>...</th>\n",
       "      <td>...</td>\n",
       "      <td>...</td>\n",
       "      <td>...</td>\n",
       "      <td>...</td>\n",
       "    </tr>\n",
       "    <tr>\n",
       "      <th>1978-12-27</th>\n",
       "      <td>8.08</td>\n",
       "      <td>40.08</td>\n",
       "      <td>16.7083</td>\n",
       "      <td>7.8681</td>\n",
       "    </tr>\n",
       "    <tr>\n",
       "      <th>1978-12-28</th>\n",
       "      <td>5.00</td>\n",
       "      <td>41.46</td>\n",
       "      <td>15.1500</td>\n",
       "      <td>9.6879</td>\n",
       "    </tr>\n",
       "    <tr>\n",
       "      <th>1978-12-29</th>\n",
       "      <td>8.71</td>\n",
       "      <td>29.58</td>\n",
       "      <td>14.8900</td>\n",
       "      <td>5.7568</td>\n",
       "    </tr>\n",
       "    <tr>\n",
       "      <th>1978-12-30</th>\n",
       "      <td>9.13</td>\n",
       "      <td>28.79</td>\n",
       "      <td>15.3675</td>\n",
       "      <td>5.5404</td>\n",
       "    </tr>\n",
       "    <tr>\n",
       "      <th>1978-12-31</th>\n",
       "      <td>9.59</td>\n",
       "      <td>27.29</td>\n",
       "      <td>15.4025</td>\n",
       "      <td>5.7025</td>\n",
       "    </tr>\n",
       "  </tbody>\n",
       "</table>\n",
       "<p>6574 rows × 4 columns</p>\n",
       "</div>"
      ],
      "text/plain": [
       "             min    max     mean     std\n",
       "Y                                       \n",
       "1961-01-01  9.29  18.50  13.0182  2.8089\n",
       "1961-01-02  6.50  17.54  11.3364  3.1890\n",
       "1961-01-03  6.17  18.50  11.6418  3.6819\n",
       "1961-01-04  1.79  11.75   6.6192  3.1981\n",
       "1961-01-05  6.17  13.33  10.6300  2.4454\n",
       "...          ...    ...      ...     ...\n",
       "1978-12-27  8.08  40.08  16.7083  7.8681\n",
       "1978-12-28  5.00  41.46  15.1500  9.6879\n",
       "1978-12-29  8.71  29.58  14.8900  5.7568\n",
       "1978-12-30  9.13  28.79  15.3675  5.5404\n",
       "1978-12-31  9.59  27.29  15.4025  5.7025\n",
       "\n",
       "[6574 rows x 4 columns]"
      ]
     },
     "execution_count": 33,
     "metadata": {},
     "output_type": "execute_result"
    }
   ],
   "source": [
    "day_stats"
   ]
  },
  {
   "cell_type": "markdown",
   "metadata": {},
   "source": [
    "### Step 11. Find the average windspeed in January for each location.  \n",
    "#### Treat January 1961 and January 1962 both as January."
   ]
  },
  {
   "cell_type": "code",
   "execution_count": 53,
   "metadata": {
    "collapsed": false,
    "jupyter": {
     "outputs_hidden": false
    }
   },
   "outputs": [
    {
     "data": {
      "text/plain": [
       "RPT    14.8473\n",
       "VAL    12.9146\n",
       "ROS    13.2996\n",
       "KIL     7.1995\n",
       "SHA    11.6677\n",
       "BIR     8.0548\n",
       "DUB    11.8194\n",
       "CLA     9.5120\n",
       "MUL     9.5432\n",
       "CLO    10.0536\n",
       "BEL    14.5505\n",
       "MAL    18.0288\n",
       "dtype: float64"
      ]
     },
     "execution_count": 53,
     "metadata": {},
     "output_type": "execute_result"
    }
   ],
   "source": [
    "data.loc[data.index.month == 1].mean(axis=0)"
   ]
  },
  {
   "cell_type": "markdown",
   "metadata": {},
   "source": [
    "### Step 12. Downsample the record to a yearly frequency for each location."
   ]
  },
  {
   "cell_type": "code",
   "execution_count": 51,
   "metadata": {
    "collapsed": false,
    "jupyter": {
     "outputs_hidden": false
    }
   },
   "outputs": [
    {
     "data": {
      "text/html": [
       "<div>\n",
       "<style scoped>\n",
       "    .dataframe tbody tr th:only-of-type {\n",
       "        vertical-align: middle;\n",
       "    }\n",
       "\n",
       "    .dataframe tbody tr th {\n",
       "        vertical-align: top;\n",
       "    }\n",
       "\n",
       "    .dataframe thead th {\n",
       "        text-align: right;\n",
       "    }\n",
       "</style>\n",
       "<table border=\"1\" class=\"dataframe\">\n",
       "  <thead>\n",
       "    <tr style=\"text-align: right;\">\n",
       "      <th></th>\n",
       "      <th>RPT</th>\n",
       "      <th>VAL</th>\n",
       "      <th>ROS</th>\n",
       "      <th>KIL</th>\n",
       "      <th>SHA</th>\n",
       "      <th>BIR</th>\n",
       "      <th>DUB</th>\n",
       "      <th>CLA</th>\n",
       "      <th>MUL</th>\n",
       "      <th>CLO</th>\n",
       "      <th>BEL</th>\n",
       "      <th>MAL</th>\n",
       "    </tr>\n",
       "    <tr>\n",
       "      <th>Y</th>\n",
       "      <th></th>\n",
       "      <th></th>\n",
       "      <th></th>\n",
       "      <th></th>\n",
       "      <th></th>\n",
       "      <th></th>\n",
       "      <th></th>\n",
       "      <th></th>\n",
       "      <th></th>\n",
       "      <th></th>\n",
       "      <th></th>\n",
       "      <th></th>\n",
       "    </tr>\n",
       "  </thead>\n",
       "  <tbody>\n",
       "    <tr>\n",
       "      <th>1961</th>\n",
       "      <td>4427.85</td>\n",
       "      <td>3747.35</td>\n",
       "      <td>4124.54</td>\n",
       "      <td>2511.92</td>\n",
       "      <td>3950.08</td>\n",
       "      <td>2821.35</td>\n",
       "      <td>3523.68</td>\n",
       "      <td>3215.74</td>\n",
       "      <td>3130.45</td>\n",
       "      <td>3580.15</td>\n",
       "      <td>4928.52</td>\n",
       "      <td>4952.44</td>\n",
       "    </tr>\n",
       "    <tr>\n",
       "      <th>1962</th>\n",
       "      <td>4457.88</td>\n",
       "      <td>3690.31</td>\n",
       "      <td>4282.44</td>\n",
       "      <td>2533.60</td>\n",
       "      <td>3890.14</td>\n",
       "      <td>2698.47</td>\n",
       "      <td>4022.56</td>\n",
       "      <td>3209.72</td>\n",
       "      <td>3035.64</td>\n",
       "      <td>3531.83</td>\n",
       "      <td>4719.70</td>\n",
       "      <td>5213.92</td>\n",
       "    </tr>\n",
       "    <tr>\n",
       "      <th>1963</th>\n",
       "      <td>4676.91</td>\n",
       "      <td>3955.50</td>\n",
       "      <td>4577.52</td>\n",
       "      <td>2675.47</td>\n",
       "      <td>4279.30</td>\n",
       "      <td>3078.67</td>\n",
       "      <td>4042.63</td>\n",
       "      <td>3772.84</td>\n",
       "      <td>3249.81</td>\n",
       "      <td>3731.92</td>\n",
       "      <td>4978.19</td>\n",
       "      <td>5474.64</td>\n",
       "    </tr>\n",
       "    <tr>\n",
       "      <th>1964</th>\n",
       "      <td>4525.10</td>\n",
       "      <td>3996.78</td>\n",
       "      <td>4430.20</td>\n",
       "      <td>2484.33</td>\n",
       "      <td>4192.34</td>\n",
       "      <td>2770.94</td>\n",
       "      <td>3754.85</td>\n",
       "      <td>3465.05</td>\n",
       "      <td>2850.78</td>\n",
       "      <td>3736.11</td>\n",
       "      <td>5029.04</td>\n",
       "      <td>5457.17</td>\n",
       "    </tr>\n",
       "    <tr>\n",
       "      <th>1965</th>\n",
       "      <td>4544.75</td>\n",
       "      <td>4042.57</td>\n",
       "      <td>4324.80</td>\n",
       "      <td>2503.34</td>\n",
       "      <td>4024.05</td>\n",
       "      <td>2729.51</td>\n",
       "      <td>3875.83</td>\n",
       "      <td>3241.17</td>\n",
       "      <td>2886.21</td>\n",
       "      <td>3620.10</td>\n",
       "      <td>4731.95</td>\n",
       "      <td>5690.95</td>\n",
       "    </tr>\n",
       "    <tr>\n",
       "      <th>1966</th>\n",
       "      <td>4913.62</td>\n",
       "      <td>4218.38</td>\n",
       "      <td>4387.53</td>\n",
       "      <td>2681.19</td>\n",
       "      <td>4308.84</td>\n",
       "      <td>2844.69</td>\n",
       "      <td>3861.63</td>\n",
       "      <td>3224.81</td>\n",
       "      <td>3107.77</td>\n",
       "      <td>3565.67</td>\n",
       "      <td>5207.03</td>\n",
       "      <td>5952.15</td>\n",
       "    </tr>\n",
       "    <tr>\n",
       "      <th>1967</th>\n",
       "      <td>4649.06</td>\n",
       "      <td>4011.71</td>\n",
       "      <td>4284.88</td>\n",
       "      <td>2607.35</td>\n",
       "      <td>4245.22</td>\n",
       "      <td>2689.38</td>\n",
       "      <td>3887.99</td>\n",
       "      <td>3403.85</td>\n",
       "      <td>3155.43</td>\n",
       "      <td>3484.81</td>\n",
       "      <td>5392.71</td>\n",
       "      <td>6254.62</td>\n",
       "    </tr>\n",
       "    <tr>\n",
       "      <th>1968</th>\n",
       "      <td>4331.84</td>\n",
       "      <td>3831.36</td>\n",
       "      <td>4175.97</td>\n",
       "      <td>2370.83</td>\n",
       "      <td>3938.44</td>\n",
       "      <td>2220.64</td>\n",
       "      <td>3242.46</td>\n",
       "      <td>3021.52</td>\n",
       "      <td>2644.33</td>\n",
       "      <td>2866.87</td>\n",
       "      <td>4687.96</td>\n",
       "      <td>5496.40</td>\n",
       "    </tr>\n",
       "    <tr>\n",
       "      <th>1969</th>\n",
       "      <td>4075.72</td>\n",
       "      <td>3549.15</td>\n",
       "      <td>3979.23</td>\n",
       "      <td>2105.31</td>\n",
       "      <td>3603.98</td>\n",
       "      <td>2259.34</td>\n",
       "      <td>3126.04</td>\n",
       "      <td>2814.66</td>\n",
       "      <td>2892.45</td>\n",
       "      <td>2830.35</td>\n",
       "      <td>4606.75</td>\n",
       "      <td>5753.46</td>\n",
       "    </tr>\n",
       "    <tr>\n",
       "      <th>1970</th>\n",
       "      <td>4599.12</td>\n",
       "      <td>3915.33</td>\n",
       "      <td>4281.54</td>\n",
       "      <td>2269.27</td>\n",
       "      <td>3857.09</td>\n",
       "      <td>2777.45</td>\n",
       "      <td>3507.61</td>\n",
       "      <td>3042.14</td>\n",
       "      <td>3393.63</td>\n",
       "      <td>3025.78</td>\n",
       "      <td>4812.03</td>\n",
       "      <td>6006.45</td>\n",
       "    </tr>\n",
       "    <tr>\n",
       "      <th>1971</th>\n",
       "      <td>4114.69</td>\n",
       "      <td>3319.74</td>\n",
       "      <td>4047.24</td>\n",
       "      <td>1913.15</td>\n",
       "      <td>3445.72</td>\n",
       "      <td>2225.46</td>\n",
       "      <td>3060.85</td>\n",
       "      <td>2466.42</td>\n",
       "      <td>2889.11</td>\n",
       "      <td>2638.86</td>\n",
       "      <td>4456.26</td>\n",
       "      <td>5484.21</td>\n",
       "    </tr>\n",
       "    <tr>\n",
       "      <th>1972</th>\n",
       "      <td>4561.81</td>\n",
       "      <td>3865.44</td>\n",
       "      <td>4413.35</td>\n",
       "      <td>2170.27</td>\n",
       "      <td>3451.53</td>\n",
       "      <td>2327.33</td>\n",
       "      <td>3551.85</td>\n",
       "      <td>2811.17</td>\n",
       "      <td>3058.77</td>\n",
       "      <td>2750.59</td>\n",
       "      <td>4658.22</td>\n",
       "      <td>5500.51</td>\n",
       "    </tr>\n",
       "    <tr>\n",
       "      <th>1973</th>\n",
       "      <td>4317.39</td>\n",
       "      <td>3898.38</td>\n",
       "      <td>3898.38</td>\n",
       "      <td>2024.97</td>\n",
       "      <td>3518.92</td>\n",
       "      <td>2390.29</td>\n",
       "      <td>3095.97</td>\n",
       "      <td>2779.21</td>\n",
       "      <td>3009.62</td>\n",
       "      <td>2851.53</td>\n",
       "      <td>4441.94</td>\n",
       "      <td>5636.00</td>\n",
       "    </tr>\n",
       "    <tr>\n",
       "      <th>1974</th>\n",
       "      <td>4979.73</td>\n",
       "      <td>4311.30</td>\n",
       "      <td>4502.77</td>\n",
       "      <td>2345.87</td>\n",
       "      <td>4055.51</td>\n",
       "      <td>2485.57</td>\n",
       "      <td>3680.88</td>\n",
       "      <td>3612.40</td>\n",
       "      <td>3406.09</td>\n",
       "      <td>3188.77</td>\n",
       "      <td>4837.33</td>\n",
       "      <td>6185.90</td>\n",
       "    </tr>\n",
       "    <tr>\n",
       "      <th>1975</th>\n",
       "      <td>4383.13</td>\n",
       "      <td>3757.25</td>\n",
       "      <td>4221.12</td>\n",
       "      <td>1923.22</td>\n",
       "      <td>3354.38</td>\n",
       "      <td>2069.01</td>\n",
       "      <td>3125.35</td>\n",
       "      <td>2863.00</td>\n",
       "      <td>3211.25</td>\n",
       "      <td>2694.73</td>\n",
       "      <td>4610.56</td>\n",
       "      <td>5587.37</td>\n",
       "    </tr>\n",
       "    <tr>\n",
       "      <th>1976</th>\n",
       "      <td>4296.05</td>\n",
       "      <td>3734.34</td>\n",
       "      <td>3938.61</td>\n",
       "      <td>1870.05</td>\n",
       "      <td>3237.76</td>\n",
       "      <td>2309.84</td>\n",
       "      <td>3348.58</td>\n",
       "      <td>2615.51</td>\n",
       "      <td>3251.44</td>\n",
       "      <td>2885.21</td>\n",
       "      <td>4513.65</td>\n",
       "      <td>5662.55</td>\n",
       "    </tr>\n",
       "    <tr>\n",
       "      <th>1977</th>\n",
       "      <td>4781.36</td>\n",
       "      <td>4067.74</td>\n",
       "      <td>4609.16</td>\n",
       "      <td>2216.99</td>\n",
       "      <td>3651.40</td>\n",
       "      <td>3134.05</td>\n",
       "      <td>4205.97</td>\n",
       "      <td>3058.11</td>\n",
       "      <td>3320.84</td>\n",
       "      <td>3219.89</td>\n",
       "      <td>4912.56</td>\n",
       "      <td>6055.66</td>\n",
       "    </tr>\n",
       "    <tr>\n",
       "      <th>1978</th>\n",
       "      <td>4564.09</td>\n",
       "      <td>4031.16</td>\n",
       "      <td>4153.70</td>\n",
       "      <td>2220.06</td>\n",
       "      <td>3711.04</td>\n",
       "      <td>2792.49</td>\n",
       "      <td>3463.61</td>\n",
       "      <td>3212.17</td>\n",
       "      <td>3317.76</td>\n",
       "      <td>3030.12</td>\n",
       "      <td>4733.10</td>\n",
       "      <td>6121.55</td>\n",
       "    </tr>\n",
       "  </tbody>\n",
       "</table>\n",
       "</div>"
      ],
      "text/plain": [
       "          RPT      VAL      ROS      KIL      SHA      BIR      DUB      CLA  \\\n",
       "Y                                                                              \n",
       "1961  4427.85  3747.35  4124.54  2511.92  3950.08  2821.35  3523.68  3215.74   \n",
       "1962  4457.88  3690.31  4282.44  2533.60  3890.14  2698.47  4022.56  3209.72   \n",
       "1963  4676.91  3955.50  4577.52  2675.47  4279.30  3078.67  4042.63  3772.84   \n",
       "1964  4525.10  3996.78  4430.20  2484.33  4192.34  2770.94  3754.85  3465.05   \n",
       "1965  4544.75  4042.57  4324.80  2503.34  4024.05  2729.51  3875.83  3241.17   \n",
       "1966  4913.62  4218.38  4387.53  2681.19  4308.84  2844.69  3861.63  3224.81   \n",
       "1967  4649.06  4011.71  4284.88  2607.35  4245.22  2689.38  3887.99  3403.85   \n",
       "1968  4331.84  3831.36  4175.97  2370.83  3938.44  2220.64  3242.46  3021.52   \n",
       "1969  4075.72  3549.15  3979.23  2105.31  3603.98  2259.34  3126.04  2814.66   \n",
       "1970  4599.12  3915.33  4281.54  2269.27  3857.09  2777.45  3507.61  3042.14   \n",
       "1971  4114.69  3319.74  4047.24  1913.15  3445.72  2225.46  3060.85  2466.42   \n",
       "1972  4561.81  3865.44  4413.35  2170.27  3451.53  2327.33  3551.85  2811.17   \n",
       "1973  4317.39  3898.38  3898.38  2024.97  3518.92  2390.29  3095.97  2779.21   \n",
       "1974  4979.73  4311.30  4502.77  2345.87  4055.51  2485.57  3680.88  3612.40   \n",
       "1975  4383.13  3757.25  4221.12  1923.22  3354.38  2069.01  3125.35  2863.00   \n",
       "1976  4296.05  3734.34  3938.61  1870.05  3237.76  2309.84  3348.58  2615.51   \n",
       "1977  4781.36  4067.74  4609.16  2216.99  3651.40  3134.05  4205.97  3058.11   \n",
       "1978  4564.09  4031.16  4153.70  2220.06  3711.04  2792.49  3463.61  3212.17   \n",
       "\n",
       "          MUL      CLO      BEL      MAL  \n",
       "Y                                         \n",
       "1961  3130.45  3580.15  4928.52  4952.44  \n",
       "1962  3035.64  3531.83  4719.70  5213.92  \n",
       "1963  3249.81  3731.92  4978.19  5474.64  \n",
       "1964  2850.78  3736.11  5029.04  5457.17  \n",
       "1965  2886.21  3620.10  4731.95  5690.95  \n",
       "1966  3107.77  3565.67  5207.03  5952.15  \n",
       "1967  3155.43  3484.81  5392.71  6254.62  \n",
       "1968  2644.33  2866.87  4687.96  5496.40  \n",
       "1969  2892.45  2830.35  4606.75  5753.46  \n",
       "1970  3393.63  3025.78  4812.03  6006.45  \n",
       "1971  2889.11  2638.86  4456.26  5484.21  \n",
       "1972  3058.77  2750.59  4658.22  5500.51  \n",
       "1973  3009.62  2851.53  4441.94  5636.00  \n",
       "1974  3406.09  3188.77  4837.33  6185.90  \n",
       "1975  3211.25  2694.73  4610.56  5587.37  \n",
       "1976  3251.44  2885.21  4513.65  5662.55  \n",
       "1977  3320.84  3219.89  4912.56  6055.66  \n",
       "1978  3317.76  3030.12  4733.10  6121.55  "
      ]
     },
     "execution_count": 51,
     "metadata": {},
     "output_type": "execute_result"
    }
   ],
   "source": [
    "data.groupby(data.index.year).sum()"
   ]
  },
  {
   "cell_type": "markdown",
   "metadata": {},
   "source": [
    "### Step 13. Downsample the record to a monthly frequency for each location."
   ]
  },
  {
   "cell_type": "code",
   "execution_count": 52,
   "metadata": {
    "collapsed": false,
    "jupyter": {
     "outputs_hidden": false
    }
   },
   "outputs": [
    {
     "data": {
      "text/html": [
       "<div>\n",
       "<style scoped>\n",
       "    .dataframe tbody tr th:only-of-type {\n",
       "        vertical-align: middle;\n",
       "    }\n",
       "\n",
       "    .dataframe tbody tr th {\n",
       "        vertical-align: top;\n",
       "    }\n",
       "\n",
       "    .dataframe thead th {\n",
       "        text-align: right;\n",
       "    }\n",
       "</style>\n",
       "<table border=\"1\" class=\"dataframe\">\n",
       "  <thead>\n",
       "    <tr style=\"text-align: right;\">\n",
       "      <th></th>\n",
       "      <th>RPT</th>\n",
       "      <th>VAL</th>\n",
       "      <th>ROS</th>\n",
       "      <th>KIL</th>\n",
       "      <th>SHA</th>\n",
       "      <th>BIR</th>\n",
       "      <th>DUB</th>\n",
       "      <th>CLA</th>\n",
       "      <th>MUL</th>\n",
       "      <th>CLO</th>\n",
       "      <th>BEL</th>\n",
       "      <th>MAL</th>\n",
       "    </tr>\n",
       "    <tr>\n",
       "      <th>Y</th>\n",
       "      <th></th>\n",
       "      <th></th>\n",
       "      <th></th>\n",
       "      <th></th>\n",
       "      <th></th>\n",
       "      <th></th>\n",
       "      <th></th>\n",
       "      <th></th>\n",
       "      <th></th>\n",
       "      <th></th>\n",
       "      <th></th>\n",
       "      <th></th>\n",
       "    </tr>\n",
       "  </thead>\n",
       "  <tbody>\n",
       "    <tr>\n",
       "      <th>1</th>\n",
       "      <td>8269.96</td>\n",
       "      <td>7193.41</td>\n",
       "      <td>7421.19</td>\n",
       "      <td>4017.32</td>\n",
       "      <td>6487.26</td>\n",
       "      <td>4494.60</td>\n",
       "      <td>6595.20</td>\n",
       "      <td>5298.21</td>\n",
       "      <td>5325.11</td>\n",
       "      <td>5609.89</td>\n",
       "      <td>8119.19</td>\n",
       "      <td>10060.05</td>\n",
       "    </tr>\n",
       "    <tr>\n",
       "      <th>2</th>\n",
       "      <td>6965.14</td>\n",
       "      <td>6152.45</td>\n",
       "      <td>6529.72</td>\n",
       "      <td>3512.86</td>\n",
       "      <td>5868.30</td>\n",
       "      <td>3878.00</td>\n",
       "      <td>5692.66</td>\n",
       "      <td>4745.45</td>\n",
       "      <td>4731.09</td>\n",
       "      <td>4835.17</td>\n",
       "      <td>6974.28</td>\n",
       "      <td>8715.32</td>\n",
       "    </tr>\n",
       "    <tr>\n",
       "      <th>3</th>\n",
       "      <td>7316.23</td>\n",
       "      <td>6420.26</td>\n",
       "      <td>7057.65</td>\n",
       "      <td>4047.11</td>\n",
       "      <td>6447.42</td>\n",
       "      <td>4441.35</td>\n",
       "      <td>6311.08</td>\n",
       "      <td>5376.83</td>\n",
       "      <td>5393.38</td>\n",
       "      <td>5634.10</td>\n",
       "      <td>7706.32</td>\n",
       "      <td>9401.58</td>\n",
       "    </tr>\n",
       "    <tr>\n",
       "      <th>4</th>\n",
       "      <td>6780.05</td>\n",
       "      <td>5632.07</td>\n",
       "      <td>6590.60</td>\n",
       "      <td>3724.94</td>\n",
       "      <td>5765.94</td>\n",
       "      <td>4018.35</td>\n",
       "      <td>5519.51</td>\n",
       "      <td>4810.89</td>\n",
       "      <td>4822.67</td>\n",
       "      <td>4945.33</td>\n",
       "      <td>6838.97</td>\n",
       "      <td>8066.31</td>\n",
       "    </tr>\n",
       "    <tr>\n",
       "      <th>5</th>\n",
       "      <td>6542.01</td>\n",
       "      <td>5651.11</td>\n",
       "      <td>6445.12</td>\n",
       "      <td>3513.27</td>\n",
       "      <td>5705.16</td>\n",
       "      <td>3873.67</td>\n",
       "      <td>4900.34</td>\n",
       "      <td>4716.72</td>\n",
       "      <td>4486.77</td>\n",
       "      <td>4756.87</td>\n",
       "      <td>7124.13</td>\n",
       "      <td>7664.71</td>\n",
       "    </tr>\n",
       "    <tr>\n",
       "      <th>6</th>\n",
       "      <td>5633.26</td>\n",
       "      <td>4832.84</td>\n",
       "      <td>5595.11</td>\n",
       "      <td>3052.23</td>\n",
       "      <td>5146.16</td>\n",
       "      <td>3461.45</td>\n",
       "      <td>4325.16</td>\n",
       "      <td>4277.23</td>\n",
       "      <td>4125.49</td>\n",
       "      <td>4173.76</td>\n",
       "      <td>6613.06</td>\n",
       "      <td>6932.52</td>\n",
       "    </tr>\n",
       "    <tr>\n",
       "      <th>7</th>\n",
       "      <td>5575.54</td>\n",
       "      <td>4663.64</td>\n",
       "      <td>5217.10</td>\n",
       "      <td>3022.65</td>\n",
       "      <td>5190.87</td>\n",
       "      <td>3332.57</td>\n",
       "      <td>4368.83</td>\n",
       "      <td>4052.62</td>\n",
       "      <td>4209.82</td>\n",
       "      <td>4085.35</td>\n",
       "      <td>6515.49</td>\n",
       "      <td>7142.84</td>\n",
       "    </tr>\n",
       "    <tr>\n",
       "      <th>8</th>\n",
       "      <td>5688.87</td>\n",
       "      <td>4695.65</td>\n",
       "      <td>5576.34</td>\n",
       "      <td>2941.04</td>\n",
       "      <td>4967.07</td>\n",
       "      <td>3287.21</td>\n",
       "      <td>4336.95</td>\n",
       "      <td>3817.85</td>\n",
       "      <td>4040.24</td>\n",
       "      <td>3900.55</td>\n",
       "      <td>6199.43</td>\n",
       "      <td>6999.23</td>\n",
       "    </tr>\n",
       "    <tr>\n",
       "      <th>9</th>\n",
       "      <td>6187.60</td>\n",
       "      <td>5379.76</td>\n",
       "      <td>5797.96</td>\n",
       "      <td>3026.58</td>\n",
       "      <td>5273.81</td>\n",
       "      <td>3545.76</td>\n",
       "      <td>4649.25</td>\n",
       "      <td>4174.92</td>\n",
       "      <td>4109.70</td>\n",
       "      <td>4152.21</td>\n",
       "      <td>6850.65</td>\n",
       "      <td>7971.46</td>\n",
       "    </tr>\n",
       "    <tr>\n",
       "      <th>10</th>\n",
       "      <td>7051.96</td>\n",
       "      <td>6143.96</td>\n",
       "      <td>6391.30</td>\n",
       "      <td>3384.39</td>\n",
       "      <td>5887.04</td>\n",
       "      <td>3995.23</td>\n",
       "      <td>5238.38</td>\n",
       "      <td>4869.28</td>\n",
       "      <td>4649.38</td>\n",
       "      <td>4938.51</td>\n",
       "      <td>7898.67</td>\n",
       "      <td>9317.01</td>\n",
       "    </tr>\n",
       "    <tr>\n",
       "      <th>11</th>\n",
       "      <td>7128.39</td>\n",
       "      <td>6285.33</td>\n",
       "      <td>6638.44</td>\n",
       "      <td>3373.71</td>\n",
       "      <td>5670.61</td>\n",
       "      <td>3852.54</td>\n",
       "      <td>5829.21</td>\n",
       "      <td>4550.67</td>\n",
       "      <td>4646.16</td>\n",
       "      <td>4829.31</td>\n",
       "      <td>7460.50</td>\n",
       "      <td>9781.66</td>\n",
       "    </tr>\n",
       "    <tr>\n",
       "      <th>12</th>\n",
       "      <td>8061.09</td>\n",
       "      <td>6893.31</td>\n",
       "      <td>7372.45</td>\n",
       "      <td>3811.09</td>\n",
       "      <td>6306.10</td>\n",
       "      <td>4443.75</td>\n",
       "      <td>6611.77</td>\n",
       "      <td>5138.82</td>\n",
       "      <td>5271.57</td>\n",
       "      <td>5372.24</td>\n",
       "      <td>7956.81</td>\n",
       "      <td>10433.26</td>\n",
       "    </tr>\n",
       "  </tbody>\n",
       "</table>\n",
       "</div>"
      ],
      "text/plain": [
       "        RPT      VAL      ROS      KIL      SHA      BIR      DUB      CLA  \\\n",
       "Y                                                                            \n",
       "1   8269.96  7193.41  7421.19  4017.32  6487.26  4494.60  6595.20  5298.21   \n",
       "2   6965.14  6152.45  6529.72  3512.86  5868.30  3878.00  5692.66  4745.45   \n",
       "3   7316.23  6420.26  7057.65  4047.11  6447.42  4441.35  6311.08  5376.83   \n",
       "4   6780.05  5632.07  6590.60  3724.94  5765.94  4018.35  5519.51  4810.89   \n",
       "5   6542.01  5651.11  6445.12  3513.27  5705.16  3873.67  4900.34  4716.72   \n",
       "6   5633.26  4832.84  5595.11  3052.23  5146.16  3461.45  4325.16  4277.23   \n",
       "7   5575.54  4663.64  5217.10  3022.65  5190.87  3332.57  4368.83  4052.62   \n",
       "8   5688.87  4695.65  5576.34  2941.04  4967.07  3287.21  4336.95  3817.85   \n",
       "9   6187.60  5379.76  5797.96  3026.58  5273.81  3545.76  4649.25  4174.92   \n",
       "10  7051.96  6143.96  6391.30  3384.39  5887.04  3995.23  5238.38  4869.28   \n",
       "11  7128.39  6285.33  6638.44  3373.71  5670.61  3852.54  5829.21  4550.67   \n",
       "12  8061.09  6893.31  7372.45  3811.09  6306.10  4443.75  6611.77  5138.82   \n",
       "\n",
       "        MUL      CLO      BEL       MAL  \n",
       "Y                                        \n",
       "1   5325.11  5609.89  8119.19  10060.05  \n",
       "2   4731.09  4835.17  6974.28   8715.32  \n",
       "3   5393.38  5634.10  7706.32   9401.58  \n",
       "4   4822.67  4945.33  6838.97   8066.31  \n",
       "5   4486.77  4756.87  7124.13   7664.71  \n",
       "6   4125.49  4173.76  6613.06   6932.52  \n",
       "7   4209.82  4085.35  6515.49   7142.84  \n",
       "8   4040.24  3900.55  6199.43   6999.23  \n",
       "9   4109.70  4152.21  6850.65   7971.46  \n",
       "10  4649.38  4938.51  7898.67   9317.01  \n",
       "11  4646.16  4829.31  7460.50   9781.66  \n",
       "12  5271.57  5372.24  7956.81  10433.26  "
      ]
     },
     "execution_count": 52,
     "metadata": {},
     "output_type": "execute_result"
    }
   ],
   "source": [
    "data.groupby(data.index.month).sum()"
   ]
  },
  {
   "cell_type": "markdown",
   "metadata": {},
   "source": [
    "### Step 14. Downsample the record to a weekly frequency for each location."
   ]
  },
  {
   "cell_type": "code",
   "execution_count": null,
   "metadata": {
    "collapsed": false,
    "jupyter": {
     "outputs_hidden": false
    }
   },
   "outputs": [],
   "source": []
  },
  {
   "cell_type": "markdown",
   "metadata": {},
   "source": [
    "### Step 15. Calculate the min, max and mean windspeeds and standard deviations of the windspeeds across all locations for each week (assume that the first week starts on January 2 1961) for the first 52 weeks."
   ]
  },
  {
   "cell_type": "code",
   "execution_count": null,
   "metadata": {
    "collapsed": false,
    "jupyter": {
     "outputs_hidden": false
    }
   },
   "outputs": [],
   "source": []
  }
 ],
 "metadata": {
  "anaconda-cloud": {},
  "kernelspec": {
   "display_name": "Python 3",
   "language": "python",
   "name": "python3"
  },
  "language_info": {
   "codemirror_mode": {
    "name": "ipython",
    "version": 3
   },
   "file_extension": ".py",
   "mimetype": "text/x-python",
   "name": "python",
   "nbconvert_exporter": "python",
   "pygments_lexer": "ipython3",
   "version": "3.8.5"
  }
 },
 "nbformat": 4,
 "nbformat_minor": 4
}
