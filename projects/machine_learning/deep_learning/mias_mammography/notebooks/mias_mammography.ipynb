{
 "cells": [
  {
   "cell_type": "markdown",
   "id": "bbb8d8e8",
   "metadata": {},
   "source": [
    "# PROJECT : Mammogram Classification Using CNNs"
   ]
  },
  {
   "cell_type": "markdown",
   "id": "e4f62a6f",
   "metadata": {},
   "source": [
    "DATASET: THE MIAS-MAMMOGRAPHY DATASET"
   ]
  },
  {
   "cell_type": "markdown",
   "id": "bd94e0da",
   "metadata": {},
   "source": [
    "INFORMATION:\n",
    "\n",
    "This file lists the films in the MIAS database and provides     \n",
    "appropriate details as follows:\n",
    "\n",
    "1st column: MIAS database reference number.\n",
    "\n",
    "2nd column: Character of background tissue: \n",
    "                F - Fatty \n",
    "                G - Fatty-glandular\n",
    "                D - Dense-glandular\n",
    "\n",
    "3rd column: Class of abnormality present:\n",
    "                CALC - Calcification\n",
    "                CIRC - Well-defined/circumscribed masses\n",
    "                SPIC - Spiculated masses\n",
    "                MISC - Other, ill-defined masses\n",
    "                ARCH - Architectural distortion\n",
    "                ASYM - Asymmetry\n",
    "                NORM - Normal\n",
    "\n",
    "4th column: Severity of abnormality;\n",
    "                B - Benign\n",
    "                M - Malignant\n",
    "                \n",
    "5th,6th columns: x,y image-coordinates of centre of abnormality.\n",
    "\n",
    "7th column: Approximate radius (in pixels) of a circle enclosing\n",
    "            the abnormality.\n",
    "            \n",
    "NOTES\n",
    "\n",
    "1- The list is arranged in pairs of films, where each pair \n",
    "   represents the left (even filename numbers) and right mammograms\n",
    "   (odd filename numbers) of a single patient.\n",
    "   \n",
    "2- The size of ALL the images is 1024 pixels x 1024 pixels. The images\n",
    "   have been centered in the matrix.  \n",
    "\n",
    "3- When calcifications are present, centre locations and radii \n",
    "   apply to clusters rather than individual calcifications.\n",
    "   Coordinate system origin is the bottom-left corner.\n",
    "\n",
    "4- In some cases calcifications are widely distributed throughout\n",
    "   the image rather than concentrated at a single site. In these\n",
    "   cases centre locations and radii are inappropriate and have\n",
    "   been omitted."
   ]
  },
  {
   "cell_type": "markdown",
   "id": "4c4a4530",
   "metadata": {
    "heading_collapsed": "true"
   },
   "source": [
    "### Importing Libraries"
   ]
  },
  {
   "cell_type": "code",
   "execution_count": null,
   "id": "b6c2f806",
   "metadata": {},
   "outputs": [],
   "source": [
    "# system related\n",
    "import os\n",
    "import sys\n",
    "sys.path.append('../src/')\n",
    "# import custom modules\n",
    "from modules import helpers as hp\n",
    "from modules import mammoscan as ms\n",
    "\n",
    "# path manipulation\n",
    "from pathlib import Path\n",
    "\n",
    "# regex\n",
    "import re\n",
    "\n",
    "# plotting\n",
    "import matplotlib.pyplot as plt\n",
    "import matplotlib.image as mpimg\n",
    "from matplotlib.patches import Circle\n",
    "\n",
    "# data manipulation / preparation\n",
    "import numpy as np\n",
    "import pandas as pd\n",
    "from sklearn.model_selection import train_test_split\n",
    "from tensorflow.keras.preprocessing.image import ImageDataGenerator\n",
    "\n",
    "# image manipulation\n",
    "from PIL import Image\n",
    "from IPython.display import Image\n",
    "\n",
    "# metrics\n",
    "from sklearn.metrics import confusion_matrix, classification_report\n",
    "\n",
    "\n",
    "# keras\n",
    "from tensorflow.keras.models import Sequential, Model\n",
    "from tensorflow.keras.layers import Conv2D, Dense, Flatten, MaxPool2D, Dropout, Input\n",
    "from tensorflow.keras.utils import plot_model\n",
    "from tensorflow.keras.callbacks import EarlyStopping, ModelCheckpoint\n",
    "from tensorflow.keras.optimizers import Adam"
   ]
  },
  {
   "cell_type": "markdown",
   "id": "ec32ae36",
   "metadata": {
    "heading_collapsed": "true"
   },
   "source": [
    "### Data Collection"
   ]
  },
  {
   "cell_type": "markdown",
   "id": "6d46e56b",
   "metadata": {
    "heading_collapsed": "true"
   },
   "source": [
    "#### Get the scans data"
   ]
  },
  {
   "cell_type": "code",
   "execution_count": null,
   "id": "c45b9d9b",
   "metadata": {},
   "outputs": [],
   "source": [
    "mias = hp.create_mias_dataset('../scan_file_data.txt')\n",
    "mias"
   ]
  },
  {
   "cell_type": "markdown",
   "id": "555908f0",
   "metadata": {
    "heading_collapsed": "true"
   },
   "source": [
    "### Data Preparation / Augmentation"
   ]
  },
  {
   "cell_type": "markdown",
   "id": "624a4ac5",
   "metadata": {},
   "source": [
    "This process takes the original images (1024x1024) and generates rotated and mirrored subsamples of them. \n",
    "\n",
    "The subsamples generated by this process have size (48x48) and rotated versions by 0, 90, 180, 270 degrees.\n",
    "\n",
    "There also are top/bottom and right/left mirrored versions of the original images.\n",
    "\n",
    "Originally, the clean dataset has 319 images. \n",
    "\n",
    "The transformation process produces 3828 images. \n",
    "\n",
    "That is to say that for each image, 12 new images are created or a 1200% increase."
   ]
  },
  {
   "cell_type": "code",
   "execution_count": null,
   "id": "7aee3b12",
   "metadata": {},
   "outputs": [],
   "source": [
    "mias = hp.generate_subsamples('../all-mias/', mias)"
   ]
  },
  {
   "cell_type": "code",
   "execution_count": null,
   "id": "ac8e3b2f",
   "metadata": {},
   "outputs": [],
   "source": [
    "mias"
   ]
  },
  {
   "cell_type": "markdown",
   "id": "a2a9f0ce",
   "metadata": {},
   "source": [
    "#### Data Distribution"
   ]
  },
  {
   "cell_type": "markdown",
   "id": "45bb3cf9",
   "metadata": {},
   "source": [
    "The NORM class, which accounts for the scans with no abnormalities, stands for 64.8% of the scan samples. Its severity was defined as 'A' and it happens during the creation of the mias dataframe.\n",
    "\n",
    "There is also a slight difference between Malign (M) and Benign (B) samples in all classes\n",
    "\n",
    "The strategy to atenuate such disparity is to randomly remove whichever class is predominant (either M or N) so that we can have a balanced set. Classes to be balanced prior to be tested to ensure randomness.\n",
    "\n",
    "As for the NORM class, it will reduced, also randomly, to the average of the samples for each class"
   ]
  },
  {
   "cell_type": "code",
   "execution_count": null,
   "id": "d67c584a",
   "metadata": {},
   "outputs": [],
   "source": [
    "mias.groupby(['ab_class']).severity.value_counts() / len(mias.index)"
   ]
  },
  {
   "cell_type": "code",
   "execution_count": null,
   "id": "3c8233fd",
   "metadata": {},
   "outputs": [],
   "source": [
    "mias.groupby(['ab_class', 'severity']).size().unstack().plot(kind='bar', \n",
    "                                                               figsize=(10, 8), \n",
    "                                                               xlabel='Abnormality Class', \n",
    "                                                               ylabel='SCANS',\n",
    "                                                               title='SEVERITY BY CLASS');\n"
   ]
  },
  {
   "cell_type": "markdown",
   "id": "621330fc",
   "metadata": {},
   "source": [
    "Abnormalities only"
   ]
  },
  {
   "cell_type": "code",
   "execution_count": null,
   "id": "de1d75f7",
   "metadata": {},
   "outputs": [],
   "source": [
    "mias[mias.ab_class != 'NORM'].groupby(['ab_class', 'severity']).size().unstack().plot(kind='bar', \n",
    "                                                                                      stacked=True, \n",
    "                                                                                      figsize=(10, 8), \n",
    "                                                                                      xlabel='ABNORMALITIES ONLY', \n",
    "                                                                                      ylabel='Percentage',\n",
    "                                                                                      title='SEVERITY BY CLASS');"
   ]
  },
  {
   "cell_type": "markdown",
   "id": "c50c9eb0",
   "metadata": {},
   "source": [
    "#### Dataset balancing Example"
   ]
  },
  {
   "cell_type": "markdown",
   "id": "573e629b",
   "metadata": {},
   "source": [
    "Calcifications before balancing"
   ]
  },
  {
   "cell_type": "code",
   "execution_count": null,
   "id": "59e594c9",
   "metadata": {},
   "outputs": [],
   "source": [
    "calcifications_unbalanced = mias[mias.ab_class == 'CALC']\n",
    "\n",
    "calcifications_unbalanced.severity.value_counts().plot(kind='bar');"
   ]
  },
  {
   "cell_type": "markdown",
   "id": "5f25603b",
   "metadata": {},
   "source": [
    "Calcifications after balancing"
   ]
  },
  {
   "cell_type": "code",
   "execution_count": null,
   "id": "adc75245",
   "metadata": {},
   "outputs": [],
   "source": [
    "calcifications_balanced = hp.balance_by_severity(mias, 'CALC')\n",
    "\n",
    "calcifications_balanced.severity.value_counts().plot(kind='bar');"
   ]
  },
  {
   "cell_type": "markdown",
   "id": "8f6208c6",
   "metadata": {},
   "source": [
    "### TRAIN AND EVALUATE MODEL FOR CALCIFICATIONS"
   ]
  },
  {
   "cell_type": "code",
   "execution_count": null,
   "id": "b51933af",
   "metadata": {},
   "outputs": [],
   "source": [
    "calcifications = hp.balance_by_severity(mias, 'CALC')\n",
    "calcifications"
   ]
  },
  {
   "cell_type": "code",
   "execution_count": null,
   "id": "6f1f59e4",
   "metadata": {},
   "outputs": [],
   "source": [
    "calcifications = calcifications.sample(len(calcifications), replace=False)"
   ]
  },
  {
   "cell_type": "markdown",
   "id": "6b141254",
   "metadata": {},
   "source": [
    "#### Generate Train and Test Data"
   ]
  },
  {
   "cell_type": "code",
   "execution_count": null,
   "id": "90160288",
   "metadata": {},
   "outputs": [],
   "source": [
    "data_generator = ImageDataGenerator(validation_split=.25, \n",
    "                                    height_shift_range=.10, \n",
    "                                    width_shift_range=.10, \n",
    "                                    rotation_range=30, \n",
    "                                    rescale=1/255.)\n",
    "\n",
    "# train data\n",
    "train_data = data_generator.flow_from_dataframe(calcifications, \n",
    "                                                x_col=\"subsample_path\", \n",
    "                                                y_col=\"severity\",\n",
    "                                                class_mode=\"categorical\",\n",
    "                                                target_size=(48,48),\n",
    "                                                subset=\"training\",\n",
    "                                                color_mode=\"grayscale\",\n",
    "                                                shuffle=True)\n",
    "\n",
    "# test data\n",
    "test_data = data_generator.flow_from_dataframe(calcifications, \n",
    "                                               x_col=\"subsample_path\", \n",
    "                                               y_col=\"severity\",\n",
    "                                               class_mode=\"categorical\",\n",
    "                                               target_size=(48,48),\n",
    "                                               subset=\"validation\",\n",
    "                                               color_mode=\"grayscale\",\n",
    "                                               shuffle=False)"
   ]
  },
  {
   "cell_type": "markdown",
   "id": "fb6dda5b",
   "metadata": {},
   "source": [
    "#### Create Convolutional Neural Network"
   ]
  },
  {
   "cell_type": "code",
   "execution_count": null,
   "id": "3d7e9e73",
   "metadata": {},
   "outputs": [],
   "source": [
    "cnn_calc = Sequential()\n",
    "# first layer\n",
    "cnn_calc.add(Conv2D(32, kernel_size=(3, 3),activation='relu',input_shape=(48, 48, 1)))\n",
    "cnn_calc.add(Conv2D(64, kernel_size=(3,3),activation='relu'))\n",
    "cnn_calc.add(MaxPool2D(pool_size=(2, 2)))\n",
    "\n",
    "cnn_calc.add(Conv2D(64, kernel_size=(3,3),activation='relu'))\n",
    "cnn_calc.add(MaxPool2D(pool_size=(2, 2)))\n",
    "cnn_calc.add(Dropout(0.25))\n",
    "# Add dense layer to reduce the number of features\n",
    "cnn_calc.add(Dense(64, activation='relu'))\n",
    "cnn_calc.add(Dropout(0.25))\n",
    "# flattening results\n",
    "cnn_calc.add(Flatten())\n",
    "# Dense layer to produce final output\n",
    "cnn_calc.add(Dense(2, activation='softmax'))\n",
    "# print summary\n",
    "cnn_calc.summary()"
   ]
  },
  {
   "cell_type": "markdown",
   "id": "fad207a5",
   "metadata": {},
   "source": [
    "#### Visualise the Model's Structure\n"
   ]
  },
  {
   "cell_type": "code",
   "execution_count": null,
   "id": "7a93b7c8",
   "metadata": {},
   "outputs": [],
   "source": [
    "plot_model(cnn_calc, to_file='convnet.png', show_shapes=True, show_layer_names=True)\n",
    "Image(filename='convnet.png')"
   ]
  },
  {
   "cell_type": "markdown",
   "id": "84ea7ffc",
   "metadata": {},
   "source": [
    "#### Compiling the model"
   ]
  },
  {
   "cell_type": "code",
   "execution_count": null,
   "id": "962c38c5",
   "metadata": {},
   "outputs": [],
   "source": [
    "adam = Adam(0.001)\n",
    "cnn_calc.compile(optimizer=adam,\n",
    "            loss='categorical_crossentropy',\n",
    "            metrics=['accuracy'])"
   ]
  },
  {
   "cell_type": "markdown",
   "id": "565ba7a6",
   "metadata": {},
   "source": [
    "#### Training and Evaluating the Model"
   ]
  },
  {
   "cell_type": "code",
   "execution_count": null,
   "id": "0b64a06b",
   "metadata": {},
   "outputs": [],
   "source": [
    "# set callbacks\n",
    "early_stopping = EarlyStopping(patience=10_000, restore_best_weights=True)\n",
    "\n",
    "\n",
    "model_check_point = ModelCheckpoint(filepath= './', \n",
    "                                    monitor='val_loss', verbose=1, \n",
    "                                    save_best_only=True,\n",
    "                                    save_weights_only=False, \n",
    "                                    mode='auto', save_freq='epoch')\n",
    "\n",
    "# fit the model\n",
    "hist = cnn_calc.fit(train_data, \n",
    "                    validation_data=test_data, \n",
    "                    epochs=10_000,\n",
    "                    callbacks=[early_stopping, model_check_point])"
   ]
  },
  {
   "cell_type": "code",
   "execution_count": null,
   "id": "04a1e683",
   "metadata": {},
   "outputs": [],
   "source": [
    "loss_value , accuracy = cnn_calc.evaluate(train_data)\n",
    "\n",
    "print('Test_loss_value = ' +str(loss_value))\n",
    "print('test_accuracy = ' + str(accuracy))"
   ]
  },
  {
   "cell_type": "markdown",
   "id": "bfa93b53",
   "metadata": {},
   "source": [
    "#### Making predictions"
   ]
  },
  {
   "cell_type": "code",
   "execution_count": null,
   "id": "6a2885c6",
   "metadata": {},
   "outputs": [],
   "source": [
    "y_pred = cnn_calc.predict(test_data)\n",
    "predicted = [np.argmax(w) for w in y_pred]\n",
    "expected = test_data.labels"
   ]
  },
  {
   "cell_type": "markdown",
   "id": "6a4ae388",
   "metadata": {},
   "source": [
    "#### Confusion Matrix"
   ]
  },
  {
   "cell_type": "code",
   "execution_count": null,
   "id": "e051b5ee",
   "metadata": {},
   "outputs": [],
   "source": [
    "confusion_matrix(expected, predicted)"
   ]
  },
  {
   "cell_type": "markdown",
   "id": "ffe2ee43",
   "metadata": {},
   "source": [
    "#### Classification Report"
   ]
  },
  {
   "cell_type": "code",
   "execution_count": null,
   "id": "9352e15b",
   "metadata": {},
   "outputs": [],
   "source": [
    "print(classification_report(expected, predicted))"
   ]
  },
  {
   "cell_type": "markdown",
   "id": "78d34531",
   "metadata": {},
   "source": [
    "#### Results"
   ]
  },
  {
   "cell_type": "code",
   "execution_count": null,
   "id": "9ccf41dc",
   "metadata": {},
   "outputs": [],
   "source": [
    "results_plot = hp.plot_result(hist.history['accuracy'],\n",
    "                            hist.history['val_accuracy'], \n",
    "                            hist.history['loss'], \n",
    "                            hist.history['val_loss'])"
   ]
  },
  {
   "cell_type": "markdown",
   "id": "b742d861",
   "metadata": {},
   "source": [
    "### TRAIN AND EVALUATE MODEL FOR MASSES"
   ]
  },
  {
   "cell_type": "code",
   "execution_count": null,
   "id": "7aa9a2da",
   "metadata": {},
   "outputs": [],
   "source": [
    "# prepare dataset\n",
    "circ_balanced = hp.balance_by_severity(mias, 'CIRC')\n",
    "spic_balanced = hp.balance_by_severity(mias, 'SPIC')\n",
    "misc_balanced = hp.balance_by_severity(mias, 'MISC')\n",
    "# shuffle\n",
    "circ_balanced = circ_balanced.sample(len(circ_balanced), replace=False)\n",
    "spic_balanced = spic_balanced.sample(len(spic_balanced), replace=False)\n",
    "misc_balanced = misc_balanced.sample(len(misc_balanced), replace=False)\n",
    "# create new dataframe for the masses only\n",
    "masses_balanced = pd.concat([circ_balanced, spic_balanced])\n",
    "masses_balanced = pd.concat([masses_balanced, misc_balanced])\n",
    "# masses dataset\n",
    "masses_balanced = masses_balanced.sample(len(masses_balanced), replace=False)\n",
    "masses_balanced"
   ]
  },
  {
   "cell_type": "markdown",
   "id": "5df4dfdb",
   "metadata": {},
   "source": [
    "#### Check Balancing"
   ]
  },
  {
   "cell_type": "code",
   "execution_count": null,
   "id": "2172cc8f",
   "metadata": {},
   "outputs": [],
   "source": [
    "masses_balanced.groupby('ab_class').severity.value_counts()"
   ]
  },
  {
   "cell_type": "code",
   "execution_count": null,
   "id": "640f9ca9",
   "metadata": {},
   "outputs": [],
   "source": [
    "masses_balanced.unstack().plot(kind='bar', \n",
    "                              stacked=True, \n",
    "                              figsize=(10, 8), \n",
    "                              xlabel='Abnormality Class', \n",
    "                              ylabel='Percentage',\n",
    "                              title='SEVERITY BY CLASS');"
   ]
  },
  {
   "cell_type": "markdown",
   "id": "0f76e67c",
   "metadata": {},
   "source": [
    "#### Generate Train and Test Data"
   ]
  },
  {
   "cell_type": "code",
   "execution_count": null,
   "id": "300d6ed7",
   "metadata": {},
   "outputs": [],
   "source": [
    "data_generator = ImageDataGenerator(validation_split=.25, \n",
    "                                    height_shift_range=.10, \n",
    "                                    width_shift_range=.10, \n",
    "                                    rotation_range=30, \n",
    "                                    rescale=1/255.)\n",
    "\n",
    "train_data = data_generator.flow_from_dataframe(masses_balanced, \n",
    "                                                x_col=\"subsample_path\", \n",
    "                                                y_col=\"severity\",\n",
    "                                                class_mode=\"categorical\",\n",
    "                                                target_size=(48,48),\n",
    "                                                subset=\"training\",\n",
    "                                                color_mode=\"grayscale\",\n",
    "                                                shuffle=True)\n",
    "test_data = data_generator.flow_from_dataframe(masses_balanced, \n",
    "                                               x_col=\"subsample_path\", \n",
    "                                               y_col=\"severity\",\n",
    "                                               class_mode=\"categorical\",\n",
    "                                               target_size=(48,48),\n",
    "                                               subset=\"validation\",\n",
    "                                               color_mode=\"grayscale\",\n",
    "                                               shuffle=False)"
   ]
  },
  {
   "cell_type": "markdown",
   "id": "25c5a349",
   "metadata": {},
   "source": [
    "#### Create Convolutional Neural Network"
   ]
  },
  {
   "cell_type": "code",
   "execution_count": null,
   "id": "3ae36b26",
   "metadata": {},
   "outputs": [],
   "source": [
    "mass_calc = Sequential()\n",
    "# first layer\n",
    "mass_calc.add(Conv2D(32, kernel_size=(3, 3),activation='relu',input_shape=(48, 48, 1)))\n",
    "mass_calc.add(Conv2D(64, kernel_size=(3,3),activation='relu'))\n",
    "mass_calc.add(MaxPool2D(pool_size=(2, 2)))\n",
    "\n",
    "mass_calc.add(Conv2D(64, kernel_size=(3,3),activation='relu'))\n",
    "mass_calc.add(MaxPool2D(pool_size=(2, 2)))\n",
    "mass_calc.add(Dropout(0.25))\n",
    "# Add dense layer to reduce the number of features\n",
    "mass_calc.add(Dense(64, activation='relu'))\n",
    "mass_calc.add(Dropout(0.25))\n",
    "# flattening results\n",
    "mass_calc.add(Flatten())\n",
    "# Dense layer to produce final output\n",
    "mass_calc.add(Dense(2, activation='softmax'))\n",
    "# print summary\n",
    "mass_calc.summary()"
   ]
  },
  {
   "cell_type": "markdown",
   "id": "2d951797",
   "metadata": {},
   "source": [
    "#### Visualise the Model's Structure"
   ]
  },
  {
   "cell_type": "code",
   "execution_count": null,
   "id": "6cddf1c2",
   "metadata": {},
   "outputs": [],
   "source": [
    "plot_model(mass_calc, to_file='convnet.png', show_shapes=True, show_layer_names=True)\n",
    "Image(filename='convnet.png')"
   ]
  },
  {
   "cell_type": "markdown",
   "id": "44f568e0",
   "metadata": {},
   "source": [
    "#### Compiling the model"
   ]
  },
  {
   "cell_type": "code",
   "execution_count": null,
   "id": "3cd4a0da",
   "metadata": {},
   "outputs": [],
   "source": [
    "# # set optmizer and learning rate\n",
    "adam = Adam(0.001)\n",
    "mass_calc.compile(optimizer=adam,\n",
    "            loss='categorical_crossentropy',\n",
    "            metrics=['accuracy'])"
   ]
  },
  {
   "cell_type": "code",
   "execution_count": null,
   "id": "e7798922",
   "metadata": {},
   "outputs": [],
   "source": [
    "# set callbacks\n",
    "early_stopping = EarlyStopping(patience=3500, restore_best_weights=True)\n",
    "\n",
    "\n",
    "model_check_point = ModelCheckpoint(filepath= './', \n",
    "                                    monitor='val_loss', verbose=1, \n",
    "                                    save_best_only=True,\n",
    "                                    save_weights_only=False, \n",
    "                                    mode='auto', save_freq='epoch')\n",
    "\n",
    "# fit the model\n",
    "hist = mass_calc.fit(train_data, \n",
    "                    validation_data=test_data, \n",
    "                    epochs=10000,\n",
    "                    callbacks=[early_stopping, model_check_point])"
   ]
  },
  {
   "cell_type": "markdown",
   "id": "9e520fa9",
   "metadata": {},
   "source": [
    "#### Results"
   ]
  },
  {
   "cell_type": "code",
   "execution_count": null,
   "id": "98409f3c",
   "metadata": {},
   "outputs": [],
   "source": [
    "results_plot = hp.plot_results()"
   ]
  },
  {
   "cell_type": "markdown",
   "id": "8e3fb8f7",
   "metadata": {},
   "source": [
    "### TRAIN AND EVALUATE MODEL FOR ALL CLASSES"
   ]
  },
  {
   "cell_type": "code",
   "execution_count": null,
   "id": "bd075a49",
   "metadata": {},
   "outputs": [],
   "source": [
    "all_mias = hp.full_balance_df_by_severity(mias)\n",
    "all_mias"
   ]
  },
  {
   "cell_type": "markdown",
   "id": "667dc9f5",
   "metadata": {},
   "source": [
    "#### Check Balancing"
   ]
  },
  {
   "cell_type": "code",
   "execution_count": null,
   "id": "9a416578",
   "metadata": {},
   "outputs": [],
   "source": [
    "all_mias.groupby('ab_class').severity.value_counts()"
   ]
  },
  {
   "cell_type": "code",
   "execution_count": null,
   "id": "05296e71",
   "metadata": {},
   "outputs": [],
   "source": [
    "all_mias.groupby(['ab_class', 'severity']).size().unstack().plot(kind='bar', \n",
    "                                                              stacked=True, \n",
    "                                                              figsize=(10, 8), \n",
    "                                                              xlabel='ABNORMALITIES ONLY', \n",
    "                                                              ylabel='Percentage',\n",
    "                                                              title='SEVERITY BY CLASS');"
   ]
  },
  {
   "cell_type": "markdown",
   "id": "ce8e2744",
   "metadata": {},
   "source": [
    "#### Generate Train and Test Data"
   ]
  },
  {
   "cell_type": "code",
   "execution_count": null,
   "id": "841707cc",
   "metadata": {},
   "outputs": [],
   "source": [
    "data_generator = ImageDataGenerator(validation_split=.25, \n",
    "                                    height_shift_range=.10, \n",
    "                                    width_shift_range=.10, \n",
    "                                    rotation_range=30, \n",
    "                                    rescale=1/255.)\n",
    "\n",
    "train_data = data_generator.flow_from_dataframe(all_mias, \n",
    "                                                x_col=\"subsample_path\", \n",
    "                                                y_col=\"severity\",\n",
    "                                                class_mode=\"categorical\",\n",
    "                                                target_size=(48,48),\n",
    "                                                subset=\"training\",\n",
    "                                                color_mode=\"grayscale\",\n",
    "                                                shuffle=True)\n",
    "test_data = data_generator.flow_from_dataframe(all_mias, \n",
    "                                               x_col=\"subsample_path\", \n",
    "                                               y_col=\"severity\",\n",
    "                                               class_mode=\"categorical\",\n",
    "                                               target_size=(48,48),\n",
    "                                               subset=\"validation\",\n",
    "                                               color_mode=\"grayscale\",\n",
    "                                               shuffle=False)"
   ]
  },
  {
   "cell_type": "markdown",
   "id": "f2ef3333",
   "metadata": {},
   "source": [
    "#### Create Convolutional Neural Network"
   ]
  },
  {
   "cell_type": "code",
   "execution_count": null,
   "id": "f1d1e056",
   "metadata": {},
   "outputs": [],
   "source": [
    "all_mias = Sequential()\n",
    "# first layer\n",
    "all_mias.add(Conv2D(32, kernel_size=(3, 3),activation='relu',input_shape=(48, 48, 1)))\n",
    "all_mias.add(Conv2D(64, kernel_size=(3,3),activation='relu'))\n",
    "all_mias.add(MaxPool2D(pool_size=(2, 2)))\n",
    "\n",
    "all_mias.add(Conv2D(64, kernel_size=(3,3),activation='relu'))\n",
    "all_mias.add(MaxPool2D(pool_size=(2, 2)))\n",
    "all_mias.add(Dropout(0.25))\n",
    "# Add dense layer to reduce the number of features\n",
    "all_mias.add(Dense(64, activation='relu'))\n",
    "all_mias.add(Dropout(0.25))\n",
    "# flattening results\n",
    "all_mias.add(Flatten())\n",
    "# Dense layer to produce final output\n",
    "all_mias.add(Dense(3, activation='softmax'))\n",
    "# print summary\n",
    "all_mias.summary()"
   ]
  },
  {
   "cell_type": "markdown",
   "id": "8fd706de",
   "metadata": {},
   "source": [
    "#### Visualise the Model's Structure"
   ]
  },
  {
   "cell_type": "code",
   "execution_count": null,
   "id": "2b4482b1",
   "metadata": {},
   "outputs": [],
   "source": [
    "plot_model(all_mias, to_file='convnet.png', show_shapes=True, show_layer_names=True)\n",
    "Image(filename='convnet.png')"
   ]
  },
  {
   "cell_type": "markdown",
   "id": "e091db70",
   "metadata": {},
   "source": [
    "#### Compiling the model"
   ]
  },
  {
   "cell_type": "code",
   "execution_count": null,
   "id": "d5f3e1c4",
   "metadata": {},
   "outputs": [],
   "source": [
    "# # set optmizer and learning rate\n",
    "adam = Adam(0.001)\n",
    "all_mias.compile(optimizer=adam,\n",
    "            loss='categorical_crossentropy',\n",
    "            metrics=['accuracy'])"
   ]
  },
  {
   "cell_type": "code",
   "execution_count": null,
   "id": "7bcb1d68",
   "metadata": {},
   "outputs": [],
   "source": [
    "# set callbacks\n",
    "early_stopping = EarlyStopping(patience=1500, restore_best_weights=True)\n",
    "\n",
    "\n",
    "model_check_point = ModelCheckpoint(filepath= './', \n",
    "                                    monitor='val_loss', verbose=1, \n",
    "                                    save_best_only=True,\n",
    "                                    save_weights_only=False, \n",
    "                                    mode='auto', save_freq='epoch')\n",
    "\n",
    "# fit the model\n",
    "hist = all_mias.fit(train_data, \n",
    "                    validation_data=test_data, \n",
    "                    epochs=5000,\n",
    "                    callbacks=[early_stopping, model_check_point])"
   ]
  },
  {
   "cell_type": "code",
   "execution_count": null,
   "id": "81ef42bc",
   "metadata": {},
   "outputs": [],
   "source": [
    "results_plot = hp.plot_result(hist.history['accuracy'],\n",
    "                            hist.history['val_accuracy'], \n",
    "                            hist.history['loss'], \n",
    "                            hist.history['val_loss'])"
   ]
  },
  {
   "cell_type": "code",
   "execution_count": null,
   "id": "812890a1",
   "metadata": {},
   "outputs": [],
   "source": []
  }
 ],
 "metadata": {
  "kernelspec": {
   "display_name": "Python 3",
   "language": "python",
   "name": "python3"
  },
  "language_info": {
   "codemirror_mode": {
    "name": "ipython",
    "version": 3
   },
   "file_extension": ".py",
   "mimetype": "text/x-python",
   "name": "python",
   "nbconvert_exporter": "python",
   "pygments_lexer": "ipython3",
   "version": "3.8.8"
  }
 },
 "nbformat": 4,
 "nbformat_minor": 5
}
