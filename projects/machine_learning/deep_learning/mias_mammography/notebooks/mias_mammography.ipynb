{
 "cells": [
  {
   "cell_type": "markdown",
   "id": "016c00f7",
   "metadata": {},
   "source": [
    "# PROJECT : Mammography Classification Using CNNs"
   ]
  },
  {
   "cell_type": "markdown",
   "id": "554129c8",
   "metadata": {},
   "source": [
    "DATASET: THE MIAS-MAMMOGRAPHY DATASET"
   ]
  },
  {
   "cell_type": "markdown",
   "id": "33cb3c30",
   "metadata": {},
   "source": [
    "INFORMATION:\n",
    "\n",
    "This file lists the films in the MIAS database and provides     \n",
    "appropriate details as follows:\n",
    "\n",
    "1st column: MIAS database reference number.\n",
    "\n",
    "2nd column: Character of background tissue: \n",
    "                F - Fatty \n",
    "                G - Fatty-glandular\n",
    "                D - Dense-glandular\n",
    "\n",
    "3rd column: Class of abnormality present:\n",
    "                CALC - Calcification\n",
    "                CIRC - Well-defined/circumscribed masses\n",
    "                SPIC - Spiculated masses\n",
    "                MISC - Other, ill-defined masses\n",
    "                ARCH - Architectural distortion\n",
    "                ASYM - Asymmetry\n",
    "                NORM - Normal\n",
    "\n",
    "4th column: Severity of abnormality;\n",
    "                B - Benign\n",
    "                M - Malignant\n",
    "                \n",
    "5th,6th columns: x,y image-coordinates of centre of abnormality.\n",
    "\n",
    "7th column: Approximate radius (in pixels) of a circle enclosing\n",
    "            the abnormality.\n",
    "            \n",
    "NOTES\n",
    "\n",
    "1- The list is arranged in pairs of films, where each pair \n",
    "   represents the left (even filename numbers) and right mammograms\n",
    "   (odd filename numbers) of a single patient.\n",
    "   \n",
    "2- The size of ALL the images is 1024 pixels x 1024 pixels. The images\n",
    "   have been centered in the matrix.  \n",
    "\n",
    "3- When calcifications are present, centre locations and radii \n",
    "   apply to clusters rather than individual calcifications.\n",
    "   Coordinate system origin is the bottom-left corner.\n",
    "\n",
    "4- In some cases calcifications are widely distributed throughout\n",
    "   the image rather than concentrated at a single site. In these\n",
    "   cases centre locations and radii are inappropriate and have\n",
    "   been omitted."
   ]
  },
  {
   "cell_type": "markdown",
   "id": "18d89707",
   "metadata": {},
   "source": [
    "### Importing Libraries"
   ]
  },
  {
   "cell_type": "code",
   "execution_count": 1,
   "id": "ca6979e8",
   "metadata": {},
   "outputs": [],
   "source": [
    "# system related\n",
    "import os\n",
    "import sys\n",
    "sys.path.append('../src/')\n",
    "# import custom modules\n",
    "from modules import helpers as hp\n",
    "from modules import mammoscan as ms\n",
    "\n",
    "# path manipulation\n",
    "from pathlib import Path\n",
    "\n",
    "# regex\n",
    "import re\n",
    "\n",
    "# plotting\n",
    "import matplotlib.pyplot as plt\n",
    "import matplotlib.image as mpimg\n",
    "from matplotlib.patches import Circle\n",
    "\n",
    "# data manipulation / preparation\n",
    "import numpy as np\n",
    "import pandas as pd\n",
    "from sklearn.model_selection import train_test_split\n",
    "from tensorflow.keras.preprocessing.image import ImageDataGenerator\n",
    "\n",
    "# image manipulation\n",
    "from PIL import Image\n",
    "from IPython.display import Image\n",
    "\n",
    "# metrics\n",
    "from sklearn.metrics import confusion_matrix, classification_report\n",
    "\n",
    "\n",
    "# keras\n",
    "from tensorflow.keras.models import Sequential, Model\n",
    "from tensorflow.keras.layers import Conv2D, Dense, Flatten, MaxPool2D, Dropout, Input\n",
    "from tensorflow.keras.utils import plot_model\n",
    "from tensorflow.keras.callbacks import EarlyStopping\n",
    "from tensorflow.keras.optimizers import Adam"
   ]
  },
  {
   "cell_type": "markdown",
   "id": "08ad8ba6",
   "metadata": {},
   "source": [
    "### Data Collection"
   ]
  },
  {
   "cell_type": "markdown",
   "id": "22fca878",
   "metadata": {},
   "source": [
    "#### Get the scans data"
   ]
  },
  {
   "cell_type": "code",
   "execution_count": 2,
   "id": "367063fa",
   "metadata": {},
   "outputs": [
    {
     "data": {
      "text/html": [
       "<div>\n",
       "<style scoped>\n",
       "    .dataframe tbody tr th:only-of-type {\n",
       "        vertical-align: middle;\n",
       "    }\n",
       "\n",
       "    .dataframe tbody tr th {\n",
       "        vertical-align: top;\n",
       "    }\n",
       "\n",
       "    .dataframe thead th {\n",
       "        text-align: right;\n",
       "    }\n",
       "</style>\n",
       "<table border=\"1\" class=\"dataframe\">\n",
       "  <thead>\n",
       "    <tr style=\"text-align: right;\">\n",
       "      <th></th>\n",
       "      <th>bg</th>\n",
       "      <th>ab_class</th>\n",
       "      <th>severity</th>\n",
       "      <th>x</th>\n",
       "      <th>y</th>\n",
       "      <th>radius</th>\n",
       "    </tr>\n",
       "    <tr>\n",
       "      <th>refnum</th>\n",
       "      <th></th>\n",
       "      <th></th>\n",
       "      <th></th>\n",
       "      <th></th>\n",
       "      <th></th>\n",
       "      <th></th>\n",
       "    </tr>\n",
       "  </thead>\n",
       "  <tbody>\n",
       "    <tr>\n",
       "      <th>mdb001</th>\n",
       "      <td>G</td>\n",
       "      <td>CIRC</td>\n",
       "      <td>B</td>\n",
       "      <td>535.0</td>\n",
       "      <td>425.0</td>\n",
       "      <td>197.0</td>\n",
       "    </tr>\n",
       "    <tr>\n",
       "      <th>mdb002</th>\n",
       "      <td>G</td>\n",
       "      <td>CIRC</td>\n",
       "      <td>B</td>\n",
       "      <td>522.0</td>\n",
       "      <td>280.0</td>\n",
       "      <td>69.0</td>\n",
       "    </tr>\n",
       "    <tr>\n",
       "      <th>mdb003</th>\n",
       "      <td>D</td>\n",
       "      <td>NORM</td>\n",
       "      <td>A</td>\n",
       "      <td>NaN</td>\n",
       "      <td>NaN</td>\n",
       "      <td>NaN</td>\n",
       "    </tr>\n",
       "    <tr>\n",
       "      <th>mdb004</th>\n",
       "      <td>D</td>\n",
       "      <td>NORM</td>\n",
       "      <td>A</td>\n",
       "      <td>NaN</td>\n",
       "      <td>NaN</td>\n",
       "      <td>NaN</td>\n",
       "    </tr>\n",
       "    <tr>\n",
       "      <th>mdb005</th>\n",
       "      <td>F</td>\n",
       "      <td>CIRC</td>\n",
       "      <td>B</td>\n",
       "      <td>477.0</td>\n",
       "      <td>133.0</td>\n",
       "      <td>30.0</td>\n",
       "    </tr>\n",
       "    <tr>\n",
       "      <th>...</th>\n",
       "      <td>...</td>\n",
       "      <td>...</td>\n",
       "      <td>...</td>\n",
       "      <td>...</td>\n",
       "      <td>...</td>\n",
       "      <td>...</td>\n",
       "    </tr>\n",
       "    <tr>\n",
       "      <th>mdb318</th>\n",
       "      <td>D</td>\n",
       "      <td>NORM</td>\n",
       "      <td>A</td>\n",
       "      <td>NaN</td>\n",
       "      <td>NaN</td>\n",
       "      <td>NaN</td>\n",
       "    </tr>\n",
       "    <tr>\n",
       "      <th>mdb319</th>\n",
       "      <td>D</td>\n",
       "      <td>NORM</td>\n",
       "      <td>A</td>\n",
       "      <td>NaN</td>\n",
       "      <td>NaN</td>\n",
       "      <td>NaN</td>\n",
       "    </tr>\n",
       "    <tr>\n",
       "      <th>mdb320</th>\n",
       "      <td>D</td>\n",
       "      <td>NORM</td>\n",
       "      <td>A</td>\n",
       "      <td>NaN</td>\n",
       "      <td>NaN</td>\n",
       "      <td>NaN</td>\n",
       "    </tr>\n",
       "    <tr>\n",
       "      <th>mdb321</th>\n",
       "      <td>D</td>\n",
       "      <td>NORM</td>\n",
       "      <td>A</td>\n",
       "      <td>NaN</td>\n",
       "      <td>NaN</td>\n",
       "      <td>NaN</td>\n",
       "    </tr>\n",
       "    <tr>\n",
       "      <th>mdb322</th>\n",
       "      <td>D</td>\n",
       "      <td>NORM</td>\n",
       "      <td>A</td>\n",
       "      <td>NaN</td>\n",
       "      <td>NaN</td>\n",
       "      <td>NaN</td>\n",
       "    </tr>\n",
       "  </tbody>\n",
       "</table>\n",
       "<p>319 rows × 6 columns</p>\n",
       "</div>"
      ],
      "text/plain": [
       "       bg ab_class severity      x      y  radius\n",
       "refnum                                           \n",
       "mdb001  G     CIRC        B  535.0  425.0   197.0\n",
       "mdb002  G     CIRC        B  522.0  280.0    69.0\n",
       "mdb003  D     NORM        A    NaN    NaN     NaN\n",
       "mdb004  D     NORM        A    NaN    NaN     NaN\n",
       "mdb005  F     CIRC        B  477.0  133.0    30.0\n",
       "...    ..      ...      ...    ...    ...     ...\n",
       "mdb318  D     NORM        A    NaN    NaN     NaN\n",
       "mdb319  D     NORM        A    NaN    NaN     NaN\n",
       "mdb320  D     NORM        A    NaN    NaN     NaN\n",
       "mdb321  D     NORM        A    NaN    NaN     NaN\n",
       "mdb322  D     NORM        A    NaN    NaN     NaN\n",
       "\n",
       "[319 rows x 6 columns]"
      ]
     },
     "execution_count": 2,
     "metadata": {},
     "output_type": "execute_result"
    }
   ],
   "source": [
    "mias = hp.create_mias_dataset('../scan_file_data.txt')\n",
    "mias"
   ]
  },
  {
   "cell_type": "markdown",
   "id": "db439263",
   "metadata": {},
   "source": [
    "### Data Preparation / Augmentation"
   ]
  },
  {
   "cell_type": "markdown",
   "id": "643499cf",
   "metadata": {},
   "source": [
    "This process takes the original images (1024x1024) and generates rotated and mirrored subsamples of them. \n",
    "\n",
    "The subsamples generated by this process have size (48x48) and rotated versions by 0, 90, 180, 270 degrees.\n",
    "\n",
    "There also are top/bottom and right/left mirrored versions of the original images.\n",
    "\n",
    "Originally, the clean dataset has 319 images. \n",
    "\n",
    "The transformation process produces 3828 images. \n",
    "\n",
    "That is to say that for each image, 12 new images are created or a 1200% increase."
   ]
  },
  {
   "cell_type": "code",
   "execution_count": 3,
   "id": "0eae66ca",
   "metadata": {},
   "outputs": [],
   "source": [
    "mias = hp.generate_subsamples('../all-mias/', mias)"
   ]
  },
  {
   "cell_type": "code",
   "execution_count": 4,
   "id": "be5a9a36",
   "metadata": {},
   "outputs": [
    {
     "data": {
      "text/html": [
       "<div>\n",
       "<style scoped>\n",
       "    .dataframe tbody tr th:only-of-type {\n",
       "        vertical-align: middle;\n",
       "    }\n",
       "\n",
       "    .dataframe tbody tr th {\n",
       "        vertical-align: top;\n",
       "    }\n",
       "\n",
       "    .dataframe thead th {\n",
       "        text-align: right;\n",
       "    }\n",
       "</style>\n",
       "<table border=\"1\" class=\"dataframe\">\n",
       "  <thead>\n",
       "    <tr style=\"text-align: right;\">\n",
       "      <th></th>\n",
       "      <th>ab_class</th>\n",
       "      <th>bg</th>\n",
       "      <th>severity</th>\n",
       "      <th>subsample_path</th>\n",
       "    </tr>\n",
       "  </thead>\n",
       "  <tbody>\n",
       "    <tr>\n",
       "      <th>mdb001_0_rotated</th>\n",
       "      <td>CIRC</td>\n",
       "      <td>G</td>\n",
       "      <td>B</td>\n",
       "      <td>../subsamples/mdb001_0_rotated.png</td>\n",
       "    </tr>\n",
       "    <tr>\n",
       "      <th>mdb001_0_mirr_lr</th>\n",
       "      <td>CIRC</td>\n",
       "      <td>G</td>\n",
       "      <td>B</td>\n",
       "      <td>../subsamples/mdb001_0_mirr_lr.png</td>\n",
       "    </tr>\n",
       "    <tr>\n",
       "      <th>mdb001_0_mirr_tp</th>\n",
       "      <td>CIRC</td>\n",
       "      <td>G</td>\n",
       "      <td>B</td>\n",
       "      <td>../subsamples/mdb001_0_mirr_tp.png</td>\n",
       "    </tr>\n",
       "    <tr>\n",
       "      <th>mdb001_90_rotated</th>\n",
       "      <td>CIRC</td>\n",
       "      <td>G</td>\n",
       "      <td>B</td>\n",
       "      <td>../subsamples/mdb001_90_rotated.png</td>\n",
       "    </tr>\n",
       "    <tr>\n",
       "      <th>mdb001_90_mirr_lr</th>\n",
       "      <td>CIRC</td>\n",
       "      <td>G</td>\n",
       "      <td>B</td>\n",
       "      <td>../subsamples/mdb001_90_mirr_lr.png</td>\n",
       "    </tr>\n",
       "    <tr>\n",
       "      <th>...</th>\n",
       "      <td>...</td>\n",
       "      <td>...</td>\n",
       "      <td>...</td>\n",
       "      <td>...</td>\n",
       "    </tr>\n",
       "    <tr>\n",
       "      <th>mdb322_180_mirr_lr</th>\n",
       "      <td>NORM</td>\n",
       "      <td>D</td>\n",
       "      <td>A</td>\n",
       "      <td>../subsamples/mdb322_180_mirr_lr.png</td>\n",
       "    </tr>\n",
       "    <tr>\n",
       "      <th>mdb322_180_mirr_tp</th>\n",
       "      <td>NORM</td>\n",
       "      <td>D</td>\n",
       "      <td>A</td>\n",
       "      <td>../subsamples/mdb322_180_mirr_tp.png</td>\n",
       "    </tr>\n",
       "    <tr>\n",
       "      <th>mdb322_270_rotated</th>\n",
       "      <td>NORM</td>\n",
       "      <td>D</td>\n",
       "      <td>A</td>\n",
       "      <td>../subsamples/mdb322_270_rotated.png</td>\n",
       "    </tr>\n",
       "    <tr>\n",
       "      <th>mdb322_270_mirr_lr</th>\n",
       "      <td>NORM</td>\n",
       "      <td>D</td>\n",
       "      <td>A</td>\n",
       "      <td>../subsamples/mdb322_270_mirr_lr.png</td>\n",
       "    </tr>\n",
       "    <tr>\n",
       "      <th>mdb322_270_mirr_tp</th>\n",
       "      <td>NORM</td>\n",
       "      <td>D</td>\n",
       "      <td>A</td>\n",
       "      <td>../subsamples/mdb322_270_mirr_tp.png</td>\n",
       "    </tr>\n",
       "  </tbody>\n",
       "</table>\n",
       "<p>3828 rows × 4 columns</p>\n",
       "</div>"
      ],
      "text/plain": [
       "                   ab_class bg severity                        subsample_path\n",
       "mdb001_0_rotated       CIRC  G        B    ../subsamples/mdb001_0_rotated.png\n",
       "mdb001_0_mirr_lr       CIRC  G        B    ../subsamples/mdb001_0_mirr_lr.png\n",
       "mdb001_0_mirr_tp       CIRC  G        B    ../subsamples/mdb001_0_mirr_tp.png\n",
       "mdb001_90_rotated      CIRC  G        B   ../subsamples/mdb001_90_rotated.png\n",
       "mdb001_90_mirr_lr      CIRC  G        B   ../subsamples/mdb001_90_mirr_lr.png\n",
       "...                     ... ..      ...                                   ...\n",
       "mdb322_180_mirr_lr     NORM  D        A  ../subsamples/mdb322_180_mirr_lr.png\n",
       "mdb322_180_mirr_tp     NORM  D        A  ../subsamples/mdb322_180_mirr_tp.png\n",
       "mdb322_270_rotated     NORM  D        A  ../subsamples/mdb322_270_rotated.png\n",
       "mdb322_270_mirr_lr     NORM  D        A  ../subsamples/mdb322_270_mirr_lr.png\n",
       "mdb322_270_mirr_tp     NORM  D        A  ../subsamples/mdb322_270_mirr_tp.png\n",
       "\n",
       "[3828 rows x 4 columns]"
      ]
     },
     "execution_count": 4,
     "metadata": {},
     "output_type": "execute_result"
    }
   ],
   "source": [
    "mias"
   ]
  },
  {
   "cell_type": "markdown",
   "id": "585529b9",
   "metadata": {},
   "source": [
    "#### Data Distribution"
   ]
  },
  {
   "cell_type": "markdown",
   "id": "2bda6215",
   "metadata": {},
   "source": [
    "The NORM class, which accounts for the scans with no abnormalities, stands for 64.8% of the scan samples\n",
    "\n",
    "There is also a slight difference between Malign (M) and Benign (B) samples in all classes\n",
    "\n",
    "The strategy to atenuate such disparity is to randomly remove whichever class is predominant (either M or N) so that we can have a balanced set. Classes to be balanced prior to be tested to ensure randomness.\n",
    "\n",
    "As for the NORM class, it will reduced, also randomly, to the average of the samples for each class"
   ]
  },
  {
   "cell_type": "code",
   "execution_count": 5,
   "id": "19cea30c",
   "metadata": {},
   "outputs": [
    {
     "data": {
      "text/plain": [
       "ab_class  severity\n",
       "ARCH      M           0.031348\n",
       "          B           0.028213\n",
       "ASYM      M           0.028213\n",
       "          B           0.018809\n",
       "CALC      B           0.037618\n",
       "          M           0.031348\n",
       "CIRC      B           0.059561\n",
       "          M           0.012539\n",
       "MISC      B           0.021944\n",
       "          M           0.021944\n",
       "NORM      A           0.648903\n",
       "SPIC      B           0.034483\n",
       "          M           0.025078\n",
       "Name: severity, dtype: float64"
      ]
     },
     "execution_count": 5,
     "metadata": {},
     "output_type": "execute_result"
    }
   ],
   "source": [
    "mias.groupby(['ab_class']).severity.value_counts() / len(mias.index)"
   ]
  },
  {
   "cell_type": "code",
   "execution_count": 6,
   "id": "d867328b",
   "metadata": {},
   "outputs": [
    {
     "data": {
      "text/plain": [
       "<AxesSubplot:title={'center':'SEVERITY BY CLASS'}, xlabel='Abnormality Class', ylabel='SCANS'>"
      ]
     },
     "execution_count": 6,
     "metadata": {},
     "output_type": "execute_result"
    },
    {
     "data": {
      "image/png": "[encoded data removed]",
      "text/plain": [
       "<Figure size 720x576 with 1 Axes>"
      ]
     },
     "metadata": {
      "needs_background": "light"
     },
     "output_type": "display_data"
    }
   ],
   "source": [
    "mias.groupby(['ab_class', 'severity']).size().unstack().plot(kind='bar', \n",
    "                                                               figsize=(10, 8), \n",
    "                                                               xlabel='Abnormality Class', \n",
    "                                                               ylabel='SCANS',\n",
    "                                                               title='SEVERITY BY CLASS')\n"
   ]
  },
  {
   "cell_type": "markdown",
   "id": "bd0c405c",
   "metadata": {},
   "source": [
    "#### Dataset balancing"
   ]
  },
  {
   "cell_type": "markdown",
   "id": "3b07cb64",
   "metadata": {},
   "source": [
    "Calcifications before balancing"
   ]
  },
  {
   "cell_type": "code",
   "execution_count": 7,
   "id": "de29acd4",
   "metadata": {},
   "outputs": [
    {
     "data": {
      "text/plain": [
       "<AxesSubplot:>"
      ]
     },
     "execution_count": 7,
     "metadata": {},
     "output_type": "execute_result"
    },
    {
     "data": {
      "image/png": "[encoded data removed]",
      "text/plain": [
       "<Figure size 432x288 with 1 Axes>"
      ]
     },
     "metadata": {
      "needs_background": "light"
     },
     "output_type": "display_data"
    }
   ],
   "source": [
    "calcifications_unbalanced = mias[mias.ab_class == 'CALC']\n",
    "\n",
    "calcifications_unbalanced.severity.value_counts().plot(kind='bar')"
   ]
  },
  {
   "cell_type": "markdown",
   "id": "b352bcc5",
   "metadata": {},
   "source": [
    "Calcifications after balancing"
   ]
  },
  {
   "cell_type": "code",
   "execution_count": 8,
   "id": "5cabcd93",
   "metadata": {},
   "outputs": [
    {
     "data": {
      "text/plain": [
       "<AxesSubplot:>"
      ]
     },
     "execution_count": 8,
     "metadata": {},
     "output_type": "execute_result"
    },
    {
     "data": {
      "image/png": "[encoded data removed]",
      "text/plain": [
       "<Figure size 432x288 with 1 Axes>"
      ]
     },
     "metadata": {
      "needs_background": "light"
     },
     "output_type": "display_data"
    }
   ],
   "source": [
    "calcifications_balanced = hp.balance_by_severity(mias, 'CALC')\n",
    "\n",
    "calcifications_balanced.severity.value_counts().plot(kind='bar')"
   ]
  },
  {
   "cell_type": "markdown",
   "id": "1355302a",
   "metadata": {},
   "source": [
    "### TRAIN AND EVALUATE MODEL FOR CALCIFICATIONS"
   ]
  },
  {
   "cell_type": "code",
   "execution_count": 9,
   "id": "209471e2",
   "metadata": {},
   "outputs": [
    {
     "data": {
      "text/html": [
       "<div>\n",
       "<style scoped>\n",
       "    .dataframe tbody tr th:only-of-type {\n",
       "        vertical-align: middle;\n",
       "    }\n",
       "\n",
       "    .dataframe tbody tr th {\n",
       "        vertical-align: top;\n",
       "    }\n",
       "\n",
       "    .dataframe thead th {\n",
       "        text-align: right;\n",
       "    }\n",
       "</style>\n",
       "<table border=\"1\" class=\"dataframe\">\n",
       "  <thead>\n",
       "    <tr style=\"text-align: right;\">\n",
       "      <th></th>\n",
       "      <th>ab_class</th>\n",
       "      <th>bg</th>\n",
       "      <th>severity</th>\n",
       "      <th>subsample_path</th>\n",
       "    </tr>\n",
       "  </thead>\n",
       "  <tbody>\n",
       "    <tr>\n",
       "      <th>mdb227_180_mirr_lr</th>\n",
       "      <td>CALC</td>\n",
       "      <td>G</td>\n",
       "      <td>B</td>\n",
       "      <td>../subsamples/mdb227_180_mirr_lr.png</td>\n",
       "    </tr>\n",
       "    <tr>\n",
       "      <th>mdb248_270_rotated</th>\n",
       "      <td>CALC</td>\n",
       "      <td>F</td>\n",
       "      <td>B</td>\n",
       "      <td>../subsamples/mdb248_270_rotated.png</td>\n",
       "    </tr>\n",
       "    <tr>\n",
       "      <th>mdb214_90_mirr_lr</th>\n",
       "      <td>CALC</td>\n",
       "      <td>G</td>\n",
       "      <td>B</td>\n",
       "      <td>../subsamples/mdb214_90_mirr_lr.png</td>\n",
       "    </tr>\n",
       "    <tr>\n",
       "      <th>mdb212_270_mirr_tp</th>\n",
       "      <td>CALC</td>\n",
       "      <td>G</td>\n",
       "      <td>B</td>\n",
       "      <td>../subsamples/mdb212_270_mirr_tp.png</td>\n",
       "    </tr>\n",
       "    <tr>\n",
       "      <th>mdb226_90_rotated</th>\n",
       "      <td>CALC</td>\n",
       "      <td>D</td>\n",
       "      <td>B</td>\n",
       "      <td>../subsamples/mdb226_90_rotated.png</td>\n",
       "    </tr>\n",
       "    <tr>\n",
       "      <th>...</th>\n",
       "      <td>...</td>\n",
       "      <td>...</td>\n",
       "      <td>...</td>\n",
       "      <td>...</td>\n",
       "    </tr>\n",
       "    <tr>\n",
       "      <th>mdb256_180_mirr_lr</th>\n",
       "      <td>CALC</td>\n",
       "      <td>F</td>\n",
       "      <td>M</td>\n",
       "      <td>../subsamples/mdb256_180_mirr_lr.png</td>\n",
       "    </tr>\n",
       "    <tr>\n",
       "      <th>mdb256_180_mirr_tp</th>\n",
       "      <td>CALC</td>\n",
       "      <td>F</td>\n",
       "      <td>M</td>\n",
       "      <td>../subsamples/mdb256_180_mirr_tp.png</td>\n",
       "    </tr>\n",
       "    <tr>\n",
       "      <th>mdb256_270_rotated</th>\n",
       "      <td>CALC</td>\n",
       "      <td>F</td>\n",
       "      <td>M</td>\n",
       "      <td>../subsamples/mdb256_270_rotated.png</td>\n",
       "    </tr>\n",
       "    <tr>\n",
       "      <th>mdb256_270_mirr_lr</th>\n",
       "      <td>CALC</td>\n",
       "      <td>F</td>\n",
       "      <td>M</td>\n",
       "      <td>../subsamples/mdb256_270_mirr_lr.png</td>\n",
       "    </tr>\n",
       "    <tr>\n",
       "      <th>mdb256_270_mirr_tp</th>\n",
       "      <td>CALC</td>\n",
       "      <td>F</td>\n",
       "      <td>M</td>\n",
       "      <td>../subsamples/mdb256_270_mirr_tp.png</td>\n",
       "    </tr>\n",
       "  </tbody>\n",
       "</table>\n",
       "<p>240 rows × 4 columns</p>\n",
       "</div>"
      ],
      "text/plain": [
       "                   ab_class bg severity                        subsample_path\n",
       "mdb227_180_mirr_lr     CALC  G        B  ../subsamples/mdb227_180_mirr_lr.png\n",
       "mdb248_270_rotated     CALC  F        B  ../subsamples/mdb248_270_rotated.png\n",
       "mdb214_90_mirr_lr      CALC  G        B   ../subsamples/mdb214_90_mirr_lr.png\n",
       "mdb212_270_mirr_tp     CALC  G        B  ../subsamples/mdb212_270_mirr_tp.png\n",
       "mdb226_90_rotated      CALC  D        B   ../subsamples/mdb226_90_rotated.png\n",
       "...                     ... ..      ...                                   ...\n",
       "mdb256_180_mirr_lr     CALC  F        M  ../subsamples/mdb256_180_mirr_lr.png\n",
       "mdb256_180_mirr_tp     CALC  F        M  ../subsamples/mdb256_180_mirr_tp.png\n",
       "mdb256_270_rotated     CALC  F        M  ../subsamples/mdb256_270_rotated.png\n",
       "mdb256_270_mirr_lr     CALC  F        M  ../subsamples/mdb256_270_mirr_lr.png\n",
       "mdb256_270_mirr_tp     CALC  F        M  ../subsamples/mdb256_270_mirr_tp.png\n",
       "\n",
       "[240 rows x 4 columns]"
      ]
     },
     "execution_count": 9,
     "metadata": {},
     "output_type": "execute_result"
    }
   ],
   "source": [
    "calcifications = hp.balance_by_severity(mias, 'CALC')\n",
    "calcifications"
   ]
  },
  {
   "cell_type": "code",
   "execution_count": 10,
   "id": "5620e00e",
   "metadata": {},
   "outputs": [],
   "source": [
    "calcifications = calcifications.sample(len(calcifications), replace=False)"
   ]
  },
  {
   "cell_type": "markdown",
   "id": "827a2254",
   "metadata": {},
   "source": [
    "#### Generate Train and Test Data"
   ]
  },
  {
   "cell_type": "code",
   "execution_count": 11,
   "id": "f7dc4f8c",
   "metadata": {},
   "outputs": [
    {
     "name": "stdout",
     "output_type": "stream",
     "text": [
      "Found 180 validated image filenames belonging to 2 classes.\n",
      "Found 60 validated image filenames belonging to 2 classes.\n"
     ]
    }
   ],
   "source": [
    "data_generator = ImageDataGenerator(validation_split=.25, \n",
    "                                    height_shift_range=.10, \n",
    "                                    width_shift_range=.10, \n",
    "                                    rotation_range=30, \n",
    "                                    rescale=1/255.)\n",
    "train_data = data_generator.flow_from_dataframe(calcifications, \n",
    "                                                x_col=\"subsample_path\", \n",
    "                                                y_col=\"severity\",\n",
    "                                                class_mode=\"categorical\",\n",
    "                                                target_size=(48,48),\n",
    "                                                subset=\"training\",\n",
    "                                                color_mode=\"grayscale\",\n",
    "                                                shuffle=True)\n",
    "test_data = data_generator.flow_from_dataframe(calcifications, \n",
    "                                               x_col=\"subsample_path\", \n",
    "                                               y_col=\"severity\",\n",
    "                                               class_mode=\"categorical\",\n",
    "                                               target_size=(48,48),\n",
    "                                               subset=\"validation\",\n",
    "                                               color_mode=\"grayscale\",\n",
    "                                               shuffle=False)"
   ]
  },
  {
   "cell_type": "code",
   "execution_count": 12,
   "id": "a969399e",
   "metadata": {},
   "outputs": [
    {
     "data": {
      "text/plain": [
       "array([0, 1])"
      ]
     },
     "execution_count": 12,
     "metadata": {},
     "output_type": "execute_result"
    }
   ],
   "source": [
    "np.unique(test_data.labels)"
   ]
  },
  {
   "cell_type": "code",
   "execution_count": 13,
   "id": "fbe1500d",
   "metadata": {},
   "outputs": [
    {
     "data": {
      "text/plain": [
       "60"
      ]
     },
     "execution_count": 13,
     "metadata": {},
     "output_type": "execute_result"
    }
   ],
   "source": [
    "len(test_data.labels)"
   ]
  },
  {
   "cell_type": "code",
   "execution_count": 14,
   "id": "4289fb30",
   "metadata": {},
   "outputs": [
    {
     "data": {
      "text/plain": [
       "array([0, 1])"
      ]
     },
     "execution_count": 14,
     "metadata": {},
     "output_type": "execute_result"
    }
   ],
   "source": [
    "np.unique(train_data.labels)"
   ]
  },
  {
   "cell_type": "code",
   "execution_count": 15,
   "id": "5824fa05",
   "metadata": {},
   "outputs": [
    {
     "data": {
      "text/plain": [
       "180"
      ]
     },
     "execution_count": 15,
     "metadata": {},
     "output_type": "execute_result"
    }
   ],
   "source": [
    "len(train_data.labels)"
   ]
  },
  {
   "cell_type": "markdown",
   "id": "e2891ce5",
   "metadata": {},
   "source": [
    "#### Create Convolutional Neural Network"
   ]
  },
  {
   "cell_type": "code",
   "execution_count": 16,
   "id": "2b8ba751",
   "metadata": {},
   "outputs": [
    {
     "name": "stdout",
     "output_type": "stream",
     "text": [
      "Model: \"sequential\"\n",
      "_________________________________________________________________\n",
      "Layer (type)                 Output Shape              Param #   \n",
      "=================================================================\n",
      "conv2d (Conv2D)              (None, 46, 46, 32)        320       \n",
      "_________________________________________________________________\n",
      "conv2d_1 (Conv2D)            (None, 44, 44, 64)        18496     \n",
      "_________________________________________________________________\n",
      "max_pooling2d (MaxPooling2D) (None, 22, 22, 64)        0         \n",
      "_________________________________________________________________\n",
      "conv2d_2 (Conv2D)            (None, 20, 20, 64)        36928     \n",
      "_________________________________________________________________\n",
      "max_pooling2d_1 (MaxPooling2 (None, 10, 10, 64)        0         \n",
      "_________________________________________________________________\n",
      "dropout (Dropout)            (None, 10, 10, 64)        0         \n",
      "_________________________________________________________________\n",
      "dense (Dense)                (None, 10, 10, 64)        4160      \n",
      "_________________________________________________________________\n",
      "dropout_1 (Dropout)          (None, 10, 10, 64)        0         \n",
      "_________________________________________________________________\n",
      "flatten (Flatten)            (None, 6400)              0         \n",
      "_________________________________________________________________\n",
      "dense_1 (Dense)              (None, 2)                 12802     \n",
      "=================================================================\n",
      "Total params: 72,706\n",
      "Trainable params: 72,706\n",
      "Non-trainable params: 0\n",
      "_________________________________________________________________\n"
     ]
    }
   ],
   "source": [
    "cnn_calc = Sequential()\n",
    "# first layer\n",
    "cnn_calc.add(Conv2D(32, kernel_size=(3, 3),activation='relu',input_shape=(48, 48, 1)))\n",
    "cnn_calc.add(Conv2D(64, kernel_size=(3,3),activation='relu'))\n",
    "cnn_calc.add(MaxPool2D(pool_size=(2, 2)))\n",
    "\n",
    "cnn_calc.add(Conv2D(64, kernel_size=(3,3),activation='relu'))\n",
    "cnn_calc.add(MaxPool2D(pool_size=(2, 2)))\n",
    "cnn_calc.add(Dropout(0.25))\n",
    "# Add dense layer to reduce the number of features\n",
    "cnn_calc.add(Dense(64, activation='relu'))\n",
    "cnn_calc.add(Dropout(0.25))\n",
    "# flattening results\n",
    "cnn_calc.add(Flatten())\n",
    "# Dense layer to produce final output\n",
    "cnn_calc.add(Dense(2, activation='softmax'))\n",
    "# print summary\n",
    "cnn_calc.summary()"
   ]
  },
  {
   "cell_type": "markdown",
   "id": "88087c71",
   "metadata": {},
   "source": [
    "#### Visualise the Model's Structure\n"
   ]
  },
  {
   "cell_type": "code",
   "execution_count": 17,
   "id": "ed539b99",
   "metadata": {},
   "outputs": [
    {
     "data": {
      "image/png": "[encoded data removed]",
      "text/plain": [
       "<IPython.core.display.Image object>"
      ]
     },
     "execution_count": 17,
     "metadata": {},
     "output_type": "execute_result"
    }
   ],
   "source": [
    "plot_model(cnn_calc, to_file='convnet.png', show_shapes=True, show_layer_names=True)\n",
    "Image(filename='convnet.png')"
   ]
  },
  {
   "cell_type": "markdown",
   "id": "87df30ba",
   "metadata": {},
   "source": [
    "#### Compiling the model"
   ]
  },
  {
   "cell_type": "code",
   "execution_count": 18,
   "id": "b30c6b98",
   "metadata": {},
   "outputs": [],
   "source": [
    "adam = Adam(0.001)\n",
    "cnn_calc.compile(optimizer=adam,\n",
    "            loss='categorical_crossentropy',\n",
    "            metrics=['accuracy'])"
   ]
  },
  {
   "cell_type": "markdown",
   "id": "8b9f0516",
   "metadata": {},
   "source": [
    "#### Training and Evaluating the Model"
   ]
  },
  {
   "cell_type": "code",
   "execution_count": null,
   "id": "865aae27",
   "metadata": {},
   "outputs": [],
   "source": [
    "early_stopping = EarlyStopping(patience=500, restore_best_weights=True)\n",
    "\n",
    "cnn_calc.fit(train_data, \n",
    "             validation_data=test_data, \n",
    "             epochs=500,\n",
    "             callbacks=[early_stopping])"
   ]
  },
  {
   "cell_type": "code",
   "execution_count": 20,
   "id": "55b3c9b1",
   "metadata": {},
   "outputs": [
    {
     "name": "stdout",
     "output_type": "stream",
     "text": [
      "6/6 [==============================] - 0s 26ms/step - loss: 0.5062 - accuracy: 0.7333\n",
      "Test_loss_value = 0.5061928033828735\n",
      "test_accuracy = 0.7333333492279053\n"
     ]
    }
   ],
   "source": [
    "loss_value , accuracy = cnn_calc.evaluate(train_data)\n",
    "\n",
    "print('Test_loss_value = ' +str(loss_value))\n",
    "print('test_accuracy = ' + str(accuracy))"
   ]
  },
  {
   "cell_type": "markdown",
   "id": "fb0eee81",
   "metadata": {},
   "source": [
    "#### Making predictions"
   ]
  },
  {
   "cell_type": "code",
   "execution_count": 21,
   "id": "718ef4dd",
   "metadata": {},
   "outputs": [],
   "source": [
    "y_pred = cnn_calc.predict(test_data)\n",
    "predicted = [np.argmax(w) for w in y_pred]\n",
    "expected = test_data.labels"
   ]
  },
  {
   "cell_type": "markdown",
   "id": "3f700fc6",
   "metadata": {},
   "source": [
    "#### Confusion Matrix"
   ]
  },
  {
   "cell_type": "code",
   "execution_count": 22,
   "id": "d88a7680",
   "metadata": {},
   "outputs": [
    {
     "data": {
      "text/plain": [
       "array([[19, 10],\n",
       "       [13, 18]])"
      ]
     },
     "execution_count": 22,
     "metadata": {},
     "output_type": "execute_result"
    }
   ],
   "source": [
    "confusion_matrix(expected, predicted)"
   ]
  },
  {
   "cell_type": "markdown",
   "id": "b8f5a99c",
   "metadata": {},
   "source": [
    "#### Classification Report"
   ]
  },
  {
   "cell_type": "code",
   "execution_count": 23,
   "id": "6ea60f25",
   "metadata": {},
   "outputs": [
    {
     "name": "stdout",
     "output_type": "stream",
     "text": [
      "              precision    recall  f1-score   support\n",
      "\n",
      "           0       0.59      0.66      0.62        29\n",
      "           1       0.64      0.58      0.61        31\n",
      "\n",
      "    accuracy                           0.62        60\n",
      "   macro avg       0.62      0.62      0.62        60\n",
      "weighted avg       0.62      0.62      0.62        60\n",
      "\n"
     ]
    }
   ],
   "source": [
    "print(classification_report(expected, predicted))"
   ]
  },
  {
   "cell_type": "code",
   "execution_count": null,
   "id": "4a999dd2",
   "metadata": {},
   "outputs": [],
   "source": []
  },
  {
   "cell_type": "markdown",
   "id": "84f542fe",
   "metadata": {},
   "source": [
    "#### Results"
   ]
  },
  {
   "cell_type": "code",
   "execution_count": 24,
   "id": "6d39be4e",
   "metadata": {},
   "outputs": [
    {
     "ename": "NameError",
     "evalue": "name 'hist' is not defined",
     "output_type": "error",
     "traceback": [
      "\u001b[0;31m---------------------------------------------------------------------------\u001b[0m",
      "\u001b[0;31mNameError\u001b[0m                                 Traceback (most recent call last)",
      "\u001b[0;32m<ipython-input-24-1b6186642a0f>\u001b[0m in \u001b[0;36m<module>\u001b[0;34m\u001b[0m\n\u001b[1;32m     38\u001b[0m     \u001b[0mplt\u001b[0m\u001b[0;34m.\u001b[0m\u001b[0mshow\u001b[0m\u001b[0;34m(\u001b[0m\u001b[0;34m)\u001b[0m\u001b[0;34m\u001b[0m\u001b[0;34m\u001b[0m\u001b[0m\n\u001b[1;32m     39\u001b[0m \u001b[0;34m\u001b[0m\u001b[0m\n\u001b[0;32m---> 40\u001b[0;31m visualize_result = Visualize_Result(hist.history['accuracy'],\n\u001b[0m\u001b[1;32m     41\u001b[0m                                     \u001b[0mhist\u001b[0m\u001b[0;34m.\u001b[0m\u001b[0mhistory\u001b[0m\u001b[0;34m[\u001b[0m\u001b[0;34m'val_accuracy'\u001b[0m\u001b[0;34m]\u001b[0m\u001b[0;34m,\u001b[0m\u001b[0;34m\u001b[0m\u001b[0;34m\u001b[0m\u001b[0m\n\u001b[1;32m     42\u001b[0m                                     \u001b[0mhist\u001b[0m\u001b[0;34m.\u001b[0m\u001b[0mhistory\u001b[0m\u001b[0;34m[\u001b[0m\u001b[0;34m'loss'\u001b[0m\u001b[0;34m]\u001b[0m\u001b[0;34m,\u001b[0m\u001b[0;34m\u001b[0m\u001b[0;34m\u001b[0m\u001b[0m\n",
      "\u001b[0;31mNameError\u001b[0m: name 'hist' is not defined"
     ]
    }
   ],
   "source": [
    "def Visualize_Result(acc,val_acc,loss, val_loss):\n",
    "    fig, (ax1, ax2) = plt.subplots(nrows = 1,\n",
    "                                   ncols = 2,\n",
    "                                   figsize = (15,6),\n",
    "                                   sharex =True)\n",
    "\n",
    "    plot1 = ax1.plot(range(0, len(acc)),\n",
    "                     acc,\n",
    "                     label = 'accuracy')\n",
    "\n",
    "    plot2 = ax1.plot(range(0, len(val_acc)),\n",
    "                     val_acc,\n",
    "                     label = 'val_accuracy')\n",
    "\n",
    "    ax1.set(title = 'Accuracy And Val Accuracy progress',\n",
    "            xlabel = 'epoch',\n",
    "            ylabel = 'accuracy/ validation accuracy')\n",
    "\n",
    "    ax1.legend()\n",
    "\n",
    "    plot3 = ax2.plot(range(0, len(loss)),\n",
    "                     loss,\n",
    "                     label = 'loss')\n",
    "    \n",
    "    plot4 = ax2.plot(range(0, len(val_loss)),\n",
    "                     val_loss,\n",
    "                     label = 'val_loss')\n",
    "    \n",
    "    ax2.set(title = 'Loss And Val loss progress',\n",
    "            xlabel = 'epoch',\n",
    "            ylabel = 'loss/ validation loss')\n",
    "\n",
    "    ax2.legend()\n",
    "\n",
    "    fig.suptitle('Result Of Model', fontsize = 20, fontweight = 'bold')\n",
    "    fig.savefig('Accuracy_Loss_figure.png')\n",
    "    plt.tight_layout()\n",
    "    plt.show()\n",
    "\n",
    "visualize_result = Visualize_Result(hist.history['accuracy'],\n",
    "                                    hist.history['val_accuracy'], \n",
    "                                    hist.history['loss'], \n",
    "                                    hist.history['val_loss'])"
   ]
  },
  {
   "cell_type": "code",
   "execution_count": null,
   "id": "c69d045a",
   "metadata": {},
   "outputs": [],
   "source": []
  },
  {
   "cell_type": "code",
   "execution_count": null,
   "id": "4c93f776",
   "metadata": {},
   "outputs": [],
   "source": []
  }
 ],
 "metadata": {
  "kernelspec": {
   "display_name": "Python 3",
   "language": "python",
   "name": "python3"
  },
  "language_info": {
   "codemirror_mode": {
    "name": "ipython",
    "version": 3
   },
   "file_extension": ".py",
   "mimetype": "text/x-python",
   "name": "python",
   "nbconvert_exporter": "python",
   "pygments_lexer": "ipython3",
   "version": "3.8.8"
  }
 },
 "nbformat": 4,
 "nbformat_minor": 5
}
