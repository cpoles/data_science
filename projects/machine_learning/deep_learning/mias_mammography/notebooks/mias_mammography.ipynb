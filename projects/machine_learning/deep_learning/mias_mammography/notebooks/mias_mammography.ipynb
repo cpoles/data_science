{
 "cells": [
  {
   "cell_type": "markdown",
   "id": "2d93d956",
   "metadata": {},
   "source": [
    "# PROJECT : Mammography Classification Using CNNs"
   ]
  },
  {
   "cell_type": "markdown",
   "id": "f60d296e",
   "metadata": {},
   "source": [
    "DATASET: THE MIAS-MAMMOGRAPHY DATASET"
   ]
  },
  {
   "cell_type": "markdown",
   "id": "6fb801db",
   "metadata": {},
   "source": [
    "INFORMATION:\n",
    "\n",
    "This file lists the films in the MIAS database and provides     \n",
    "appropriate details as follows:\n",
    "\n",
    "1st column: MIAS database reference number.\n",
    "\n",
    "2nd column: Character of background tissue: \n",
    "                F - Fatty \n",
    "                G - Fatty-glandular\n",
    "                D - Dense-glandular\n",
    "\n",
    "3rd column: Class of abnormality present:\n",
    "                CALC - Calcification\n",
    "                CIRC - Well-defined/circumscribed masses\n",
    "                SPIC - Spiculated masses\n",
    "                MISC - Other, ill-defined masses\n",
    "                ARCH - Architectural distortion\n",
    "                ASYM - Asymmetry\n",
    "                NORM - Normal\n",
    "\n",
    "4th column: Severity of abnormality;\n",
    "                B - Benign\n",
    "                M - Malignant\n",
    "                \n",
    "5th,6th columns: x,y image-coordinates of centre of abnormality.\n",
    "\n",
    "7th column: Approximate radius (in pixels) of a circle enclosing\n",
    "            the abnormality.\n",
    "            \n",
    "NOTES\n",
    "\n",
    "1- The list is arranged in pairs of films, where each pair \n",
    "   represents the left (even filename numbers) and right mammograms\n",
    "   (odd filename numbers) of a single patient.\n",
    "   \n",
    "2- The size of ALL the images is 1024 pixels x 1024 pixels. The images\n",
    "   have been centered in the matrix.  \n",
    "\n",
    "3- When calcifications are present, centre locations and radii \n",
    "   apply to clusters rather than individual calcifications.\n",
    "   Coordinate system origin is the bottom-left corner.\n",
    "\n",
    "4- In some cases calcifications are widely distributed throughout\n",
    "   the image rather than concentrated at a single site. In these\n",
    "   cases centre locations and radii are inappropriate and have\n",
    "   been omitted."
   ]
  },
  {
   "cell_type": "markdown",
   "id": "28410893",
   "metadata": {},
   "source": [
    "### Importing Libraries"
   ]
  },
  {
   "cell_type": "code",
   "execution_count": 1,
   "id": "20c3109a",
   "metadata": {},
   "outputs": [],
   "source": [
    "# system related\n",
    "import os\n",
    "import sys\n",
    "sys.path.append('../src/')\n",
    "# import custom modules\n",
    "from modules import helpers as hp\n",
    "from modules import mammoscan as ms\n",
    "\n",
    "# path manipulation\n",
    "from pathlib import Path\n",
    "\n",
    "# regex\n",
    "import re\n",
    "\n",
    "# plotting\n",
    "import matplotlib.pyplot as plt\n",
    "import matplotlib.image as mpimg\n",
    "from matplotlib.patches import Circle\n",
    "\n",
    "# data manipulation / preparation\n",
    "import numpy as np\n",
    "import pandas as pd\n",
    "from sklearn.model_selection import train_test_split\n",
    "from tensorflow.keras.preprocessing.image import ImageDataGenerator\n",
    "\n",
    "# image manipulation\n",
    "from PIL import Image\n",
    "from IPython.display import Image\n",
    "\n",
    "# metrics\n",
    "from sklearn.metrics import confusion_matrix, classification_report\n",
    "\n",
    "\n",
    "# keras\n",
    "from tensorflow.keras.models import Sequential, Model\n",
    "from tensorflow.keras.layers import Conv2D, Dense, Flatten, MaxPool2D, Dropout, Input\n",
    "from tensorflow.keras.utils import plot_model\n",
    "from tensorflow.keras.callbacks import EarlyStopping\n",
    "from tensorflow.keras.optimizers import Adam"
   ]
  },
  {
   "cell_type": "markdown",
   "id": "9bc359bb",
   "metadata": {},
   "source": [
    "### Data Collection"
   ]
  },
  {
   "cell_type": "markdown",
   "id": "ec440aa4",
   "metadata": {},
   "source": [
    "#### Get the scans data"
   ]
  },
  {
   "cell_type": "code",
   "execution_count": 2,
   "id": "2234cd3f",
   "metadata": {},
   "outputs": [
    {
     "data": {
      "text/html": [
       "<div>\n",
       "<style scoped>\n",
       "    .dataframe tbody tr th:only-of-type {\n",
       "        vertical-align: middle;\n",
       "    }\n",
       "\n",
       "    .dataframe tbody tr th {\n",
       "        vertical-align: top;\n",
       "    }\n",
       "\n",
       "    .dataframe thead th {\n",
       "        text-align: right;\n",
       "    }\n",
       "</style>\n",
       "<table border=\"1\" class=\"dataframe\">\n",
       "  <thead>\n",
       "    <tr style=\"text-align: right;\">\n",
       "      <th></th>\n",
       "      <th>bg</th>\n",
       "      <th>ab_class</th>\n",
       "      <th>severity</th>\n",
       "      <th>x</th>\n",
       "      <th>y</th>\n",
       "      <th>radius</th>\n",
       "    </tr>\n",
       "    <tr>\n",
       "      <th>refnum</th>\n",
       "      <th></th>\n",
       "      <th></th>\n",
       "      <th></th>\n",
       "      <th></th>\n",
       "      <th></th>\n",
       "      <th></th>\n",
       "    </tr>\n",
       "  </thead>\n",
       "  <tbody>\n",
       "    <tr>\n",
       "      <th>mdb001</th>\n",
       "      <td>G</td>\n",
       "      <td>CIRC</td>\n",
       "      <td>B</td>\n",
       "      <td>535.0</td>\n",
       "      <td>425.0</td>\n",
       "      <td>197.0</td>\n",
       "    </tr>\n",
       "    <tr>\n",
       "      <th>mdb002</th>\n",
       "      <td>G</td>\n",
       "      <td>CIRC</td>\n",
       "      <td>B</td>\n",
       "      <td>522.0</td>\n",
       "      <td>280.0</td>\n",
       "      <td>69.0</td>\n",
       "    </tr>\n",
       "    <tr>\n",
       "      <th>mdb003</th>\n",
       "      <td>D</td>\n",
       "      <td>NORM</td>\n",
       "      <td>A</td>\n",
       "      <td>NaN</td>\n",
       "      <td>NaN</td>\n",
       "      <td>NaN</td>\n",
       "    </tr>\n",
       "    <tr>\n",
       "      <th>mdb004</th>\n",
       "      <td>D</td>\n",
       "      <td>NORM</td>\n",
       "      <td>A</td>\n",
       "      <td>NaN</td>\n",
       "      <td>NaN</td>\n",
       "      <td>NaN</td>\n",
       "    </tr>\n",
       "    <tr>\n",
       "      <th>mdb005</th>\n",
       "      <td>F</td>\n",
       "      <td>CIRC</td>\n",
       "      <td>B</td>\n",
       "      <td>477.0</td>\n",
       "      <td>133.0</td>\n",
       "      <td>30.0</td>\n",
       "    </tr>\n",
       "    <tr>\n",
       "      <th>...</th>\n",
       "      <td>...</td>\n",
       "      <td>...</td>\n",
       "      <td>...</td>\n",
       "      <td>...</td>\n",
       "      <td>...</td>\n",
       "      <td>...</td>\n",
       "    </tr>\n",
       "    <tr>\n",
       "      <th>mdb318</th>\n",
       "      <td>D</td>\n",
       "      <td>NORM</td>\n",
       "      <td>A</td>\n",
       "      <td>NaN</td>\n",
       "      <td>NaN</td>\n",
       "      <td>NaN</td>\n",
       "    </tr>\n",
       "    <tr>\n",
       "      <th>mdb319</th>\n",
       "      <td>D</td>\n",
       "      <td>NORM</td>\n",
       "      <td>A</td>\n",
       "      <td>NaN</td>\n",
       "      <td>NaN</td>\n",
       "      <td>NaN</td>\n",
       "    </tr>\n",
       "    <tr>\n",
       "      <th>mdb320</th>\n",
       "      <td>D</td>\n",
       "      <td>NORM</td>\n",
       "      <td>A</td>\n",
       "      <td>NaN</td>\n",
       "      <td>NaN</td>\n",
       "      <td>NaN</td>\n",
       "    </tr>\n",
       "    <tr>\n",
       "      <th>mdb321</th>\n",
       "      <td>D</td>\n",
       "      <td>NORM</td>\n",
       "      <td>A</td>\n",
       "      <td>NaN</td>\n",
       "      <td>NaN</td>\n",
       "      <td>NaN</td>\n",
       "    </tr>\n",
       "    <tr>\n",
       "      <th>mdb322</th>\n",
       "      <td>D</td>\n",
       "      <td>NORM</td>\n",
       "      <td>A</td>\n",
       "      <td>NaN</td>\n",
       "      <td>NaN</td>\n",
       "      <td>NaN</td>\n",
       "    </tr>\n",
       "  </tbody>\n",
       "</table>\n",
       "<p>319 rows × 6 columns</p>\n",
       "</div>"
      ],
      "text/plain": [
       "       bg ab_class severity      x      y  radius\n",
       "refnum                                           \n",
       "mdb001  G     CIRC        B  535.0  425.0   197.0\n",
       "mdb002  G     CIRC        B  522.0  280.0    69.0\n",
       "mdb003  D     NORM        A    NaN    NaN     NaN\n",
       "mdb004  D     NORM        A    NaN    NaN     NaN\n",
       "mdb005  F     CIRC        B  477.0  133.0    30.0\n",
       "...    ..      ...      ...    ...    ...     ...\n",
       "mdb318  D     NORM        A    NaN    NaN     NaN\n",
       "mdb319  D     NORM        A    NaN    NaN     NaN\n",
       "mdb320  D     NORM        A    NaN    NaN     NaN\n",
       "mdb321  D     NORM        A    NaN    NaN     NaN\n",
       "mdb322  D     NORM        A    NaN    NaN     NaN\n",
       "\n",
       "[319 rows x 6 columns]"
      ]
     },
     "execution_count": 2,
     "metadata": {},
     "output_type": "execute_result"
    }
   ],
   "source": [
    "mias = hp.create_mias_dataset('../scan_file_data.txt')\n",
    "mias"
   ]
  },
  {
   "cell_type": "markdown",
   "id": "eef8f0fd",
   "metadata": {},
   "source": [
    "### Data Preparation / Augmentation"
   ]
  },
  {
   "cell_type": "markdown",
   "id": "eeb5e726",
   "metadata": {},
   "source": [
    "This process takes the original images (1024x1024) and generates rotated and mirrored subsamples of them. \n",
    "\n",
    "The subsamples generated by this process have size (48x48) and rotated versions by 0, 90, 180, 270 degrees.\n",
    "\n",
    "There also are top/bottom and right/left mirrored versions of the original images.\n",
    "\n",
    "Originally, the clean dataset has 319 images. \n",
    "\n",
    "The transformation process produces 3828 images. \n",
    "\n",
    "That is to say that for each image, 12 new images are created or a 1200% increase."
   ]
  },
  {
   "cell_type": "code",
   "execution_count": 3,
   "id": "70d4174c",
   "metadata": {},
   "outputs": [],
   "source": [
    "mias = hp.generate_subsamples('../all-mias/', mias)"
   ]
  },
  {
   "cell_type": "code",
   "execution_count": 4,
   "id": "519113f1",
   "metadata": {},
   "outputs": [
    {
     "data": {
      "text/html": [
       "<div>\n",
       "<style scoped>\n",
       "    .dataframe tbody tr th:only-of-type {\n",
       "        vertical-align: middle;\n",
       "    }\n",
       "\n",
       "    .dataframe tbody tr th {\n",
       "        vertical-align: top;\n",
       "    }\n",
       "\n",
       "    .dataframe thead th {\n",
       "        text-align: right;\n",
       "    }\n",
       "</style>\n",
       "<table border=\"1\" class=\"dataframe\">\n",
       "  <thead>\n",
       "    <tr style=\"text-align: right;\">\n",
       "      <th></th>\n",
       "      <th>ab_class</th>\n",
       "      <th>bg</th>\n",
       "      <th>severity</th>\n",
       "      <th>subsample_path</th>\n",
       "    </tr>\n",
       "  </thead>\n",
       "  <tbody>\n",
       "    <tr>\n",
       "      <th>mdb001_0_rotated</th>\n",
       "      <td>CIRC</td>\n",
       "      <td>G</td>\n",
       "      <td>B</td>\n",
       "      <td>../subsamples/mdb001_0_rotated.png</td>\n",
       "    </tr>\n",
       "    <tr>\n",
       "      <th>mdb001_0_mirr_lr</th>\n",
       "      <td>CIRC</td>\n",
       "      <td>G</td>\n",
       "      <td>B</td>\n",
       "      <td>../subsamples/mdb001_0_mirr_lr.png</td>\n",
       "    </tr>\n",
       "    <tr>\n",
       "      <th>mdb001_0_mirr_tp</th>\n",
       "      <td>CIRC</td>\n",
       "      <td>G</td>\n",
       "      <td>B</td>\n",
       "      <td>../subsamples/mdb001_0_mirr_tp.png</td>\n",
       "    </tr>\n",
       "    <tr>\n",
       "      <th>mdb001_90_rotated</th>\n",
       "      <td>CIRC</td>\n",
       "      <td>G</td>\n",
       "      <td>B</td>\n",
       "      <td>../subsamples/mdb001_90_rotated.png</td>\n",
       "    </tr>\n",
       "    <tr>\n",
       "      <th>mdb001_90_mirr_lr</th>\n",
       "      <td>CIRC</td>\n",
       "      <td>G</td>\n",
       "      <td>B</td>\n",
       "      <td>../subsamples/mdb001_90_mirr_lr.png</td>\n",
       "    </tr>\n",
       "    <tr>\n",
       "      <th>...</th>\n",
       "      <td>...</td>\n",
       "      <td>...</td>\n",
       "      <td>...</td>\n",
       "      <td>...</td>\n",
       "    </tr>\n",
       "    <tr>\n",
       "      <th>mdb322_180_mirr_lr</th>\n",
       "      <td>NORM</td>\n",
       "      <td>D</td>\n",
       "      <td>A</td>\n",
       "      <td>../subsamples/mdb322_180_mirr_lr.png</td>\n",
       "    </tr>\n",
       "    <tr>\n",
       "      <th>mdb322_180_mirr_tp</th>\n",
       "      <td>NORM</td>\n",
       "      <td>D</td>\n",
       "      <td>A</td>\n",
       "      <td>../subsamples/mdb322_180_mirr_tp.png</td>\n",
       "    </tr>\n",
       "    <tr>\n",
       "      <th>mdb322_270_rotated</th>\n",
       "      <td>NORM</td>\n",
       "      <td>D</td>\n",
       "      <td>A</td>\n",
       "      <td>../subsamples/mdb322_270_rotated.png</td>\n",
       "    </tr>\n",
       "    <tr>\n",
       "      <th>mdb322_270_mirr_lr</th>\n",
       "      <td>NORM</td>\n",
       "      <td>D</td>\n",
       "      <td>A</td>\n",
       "      <td>../subsamples/mdb322_270_mirr_lr.png</td>\n",
       "    </tr>\n",
       "    <tr>\n",
       "      <th>mdb322_270_mirr_tp</th>\n",
       "      <td>NORM</td>\n",
       "      <td>D</td>\n",
       "      <td>A</td>\n",
       "      <td>../subsamples/mdb322_270_mirr_tp.png</td>\n",
       "    </tr>\n",
       "  </tbody>\n",
       "</table>\n",
       "<p>3828 rows × 4 columns</p>\n",
       "</div>"
      ],
      "text/plain": [
       "                   ab_class bg severity                        subsample_path\n",
       "mdb001_0_rotated       CIRC  G        B    ../subsamples/mdb001_0_rotated.png\n",
       "mdb001_0_mirr_lr       CIRC  G        B    ../subsamples/mdb001_0_mirr_lr.png\n",
       "mdb001_0_mirr_tp       CIRC  G        B    ../subsamples/mdb001_0_mirr_tp.png\n",
       "mdb001_90_rotated      CIRC  G        B   ../subsamples/mdb001_90_rotated.png\n",
       "mdb001_90_mirr_lr      CIRC  G        B   ../subsamples/mdb001_90_mirr_lr.png\n",
       "...                     ... ..      ...                                   ...\n",
       "mdb322_180_mirr_lr     NORM  D        A  ../subsamples/mdb322_180_mirr_lr.png\n",
       "mdb322_180_mirr_tp     NORM  D        A  ../subsamples/mdb322_180_mirr_tp.png\n",
       "mdb322_270_rotated     NORM  D        A  ../subsamples/mdb322_270_rotated.png\n",
       "mdb322_270_mirr_lr     NORM  D        A  ../subsamples/mdb322_270_mirr_lr.png\n",
       "mdb322_270_mirr_tp     NORM  D        A  ../subsamples/mdb322_270_mirr_tp.png\n",
       "\n",
       "[3828 rows x 4 columns]"
      ]
     },
     "execution_count": 4,
     "metadata": {},
     "output_type": "execute_result"
    }
   ],
   "source": [
    "mias"
   ]
  },
  {
   "cell_type": "markdown",
   "id": "3326df81",
   "metadata": {},
   "source": [
    "#### Data Distribution"
   ]
  },
  {
   "cell_type": "markdown",
   "id": "276446ef",
   "metadata": {},
   "source": [
    "The NORM class, which accounts for the scans with no abnormalities, stands for 64.8% of the scan samples\n",
    "\n",
    "There is also a slight difference between Malign (M) and Benign (B) samples in all classes\n",
    "\n",
    "The strategy to atenuate such disparity is to randomly remove whichever class is predominant (either M or N) so that we can have a balanced set. Classes to be balanced prior to be tested to ensure randomness.\n",
    "\n",
    "As for the NORM class, it will reduced, also randomly, to the average of the samples for each class"
   ]
  },
  {
   "cell_type": "code",
   "execution_count": 5,
   "id": "b3163656",
   "metadata": {},
   "outputs": [
    {
     "data": {
      "text/plain": [
       "ab_class  severity\n",
       "ARCH      M           0.031348\n",
       "          B           0.028213\n",
       "ASYM      M           0.028213\n",
       "          B           0.018809\n",
       "CALC      B           0.037618\n",
       "          M           0.031348\n",
       "CIRC      B           0.059561\n",
       "          M           0.012539\n",
       "MISC      B           0.021944\n",
       "          M           0.021944\n",
       "NORM      A           0.648903\n",
       "SPIC      B           0.034483\n",
       "          M           0.025078\n",
       "Name: severity, dtype: float64"
      ]
     },
     "execution_count": 5,
     "metadata": {},
     "output_type": "execute_result"
    }
   ],
   "source": [
    "mias.groupby(['ab_class']).severity.value_counts() / len(mias.index)"
   ]
  },
  {
   "cell_type": "code",
   "execution_count": 6,
   "id": "be0a4de7",
   "metadata": {},
   "outputs": [
    {
     "data": {
      "text/plain": [
       "<AxesSubplot:title={'center':'SEVERITY BY CLASS'}, xlabel='Abnormality Class', ylabel='SCANS'>"
      ]
     },
     "execution_count": 6,
     "metadata": {},
     "output_type": "execute_result"
    },
    {
     "data": {
      "image/png": "[encoded data removed]",
      "text/plain": [
       "<Figure size 720x576 with 1 Axes>"
      ]
     },
     "metadata": {
      "needs_background": "light"
     },
     "output_type": "display_data"
    }
   ],
   "source": [
    "mias.groupby(['ab_class', 'severity']).size().unstack().plot(kind='bar', \n",
    "                                                               figsize=(10, 8), \n",
    "                                                               xlabel='Abnormality Class', \n",
    "                                                               ylabel='SCANS',\n",
    "                                                               title='SEVERITY BY CLASS')\n"
   ]
  },
  {
   "cell_type": "markdown",
   "id": "e478032a",
   "metadata": {},
   "source": [
    "#### Dataset balancing"
   ]
  },
  {
   "cell_type": "markdown",
   "id": "5b455e9d",
   "metadata": {},
   "source": [
    "Calcifications before balancing"
   ]
  },
  {
   "cell_type": "code",
   "execution_count": 7,
   "id": "3ab04992",
   "metadata": {},
   "outputs": [
    {
     "data": {
      "text/plain": [
       "<AxesSubplot:>"
      ]
     },
     "execution_count": 7,
     "metadata": {},
     "output_type": "execute_result"
    },
    {
     "data": {
      "image/png": "[encoded data removed]",
      "text/plain": [
       "<Figure size 432x288 with 1 Axes>"
      ]
     },
     "metadata": {
      "needs_background": "light"
     },
     "output_type": "display_data"
    }
   ],
   "source": [
    "calcifications_unbalanced = mias[mias.ab_class == 'CALC']\n",
    "\n",
    "calcifications_unbalanced.severity.value_counts().plot(kind='bar')"
   ]
  },
  {
   "cell_type": "markdown",
   "id": "696a85dd",
   "metadata": {},
   "source": [
    "Calcifications after balancing"
   ]
  },
  {
   "cell_type": "code",
   "execution_count": 8,
   "id": "6c61e30a",
   "metadata": {},
   "outputs": [
    {
     "data": {
      "text/plain": [
       "<AxesSubplot:>"
      ]
     },
     "execution_count": 8,
     "metadata": {},
     "output_type": "execute_result"
    },
    {
     "data": {
      "image/png": "[encoded data removed]",
      "text/plain": [
       "<Figure size 432x288 with 1 Axes>"
      ]
     },
     "metadata": {
      "needs_background": "light"
     },
     "output_type": "display_data"
    }
   ],
   "source": [
    "calcifications_balanced = hp.balance_by_severity(mias, 'CALC')\n",
    "\n",
    "calcifications_balanced.severity.value_counts().plot(kind='bar')"
   ]
  },
  {
   "cell_type": "markdown",
   "id": "eedad698",
   "metadata": {},
   "source": [
    "### TRAIN AND EVALUATE MODEL FOR CALCIFICATIONS"
   ]
  },
  {
   "cell_type": "code",
   "execution_count": 9,
   "id": "4c7560f2",
   "metadata": {},
   "outputs": [
    {
     "data": {
      "text/html": [
       "<div>\n",
       "<style scoped>\n",
       "    .dataframe tbody tr th:only-of-type {\n",
       "        vertical-align: middle;\n",
       "    }\n",
       "\n",
       "    .dataframe tbody tr th {\n",
       "        vertical-align: top;\n",
       "    }\n",
       "\n",
       "    .dataframe thead th {\n",
       "        text-align: right;\n",
       "    }\n",
       "</style>\n",
       "<table border=\"1\" class=\"dataframe\">\n",
       "  <thead>\n",
       "    <tr style=\"text-align: right;\">\n",
       "      <th></th>\n",
       "      <th>ab_class</th>\n",
       "      <th>bg</th>\n",
       "      <th>severity</th>\n",
       "      <th>subsample_path</th>\n",
       "    </tr>\n",
       "  </thead>\n",
       "  <tbody>\n",
       "    <tr>\n",
       "      <th>mdb223_180_rotated</th>\n",
       "      <td>CALC</td>\n",
       "      <td>D</td>\n",
       "      <td>B</td>\n",
       "      <td>../subsamples/mdb223_180_rotated.png</td>\n",
       "    </tr>\n",
       "    <tr>\n",
       "      <th>mdb236_0_mirr_lr</th>\n",
       "      <td>CALC</td>\n",
       "      <td>D</td>\n",
       "      <td>B</td>\n",
       "      <td>../subsamples/mdb236_0_mirr_lr.png</td>\n",
       "    </tr>\n",
       "    <tr>\n",
       "      <th>mdb226_180_mirr_lr</th>\n",
       "      <td>CALC</td>\n",
       "      <td>D</td>\n",
       "      <td>B</td>\n",
       "      <td>../subsamples/mdb226_180_mirr_lr.png</td>\n",
       "    </tr>\n",
       "    <tr>\n",
       "      <th>mdb212_180_mirr_tp</th>\n",
       "      <td>CALC</td>\n",
       "      <td>G</td>\n",
       "      <td>B</td>\n",
       "      <td>../subsamples/mdb212_180_mirr_tp.png</td>\n",
       "    </tr>\n",
       "    <tr>\n",
       "      <th>mdb248_0_mirr_tp</th>\n",
       "      <td>CALC</td>\n",
       "      <td>F</td>\n",
       "      <td>B</td>\n",
       "      <td>../subsamples/mdb248_0_mirr_tp.png</td>\n",
       "    </tr>\n",
       "    <tr>\n",
       "      <th>...</th>\n",
       "      <td>...</td>\n",
       "      <td>...</td>\n",
       "      <td>...</td>\n",
       "      <td>...</td>\n",
       "    </tr>\n",
       "    <tr>\n",
       "      <th>mdb256_180_mirr_lr</th>\n",
       "      <td>CALC</td>\n",
       "      <td>F</td>\n",
       "      <td>M</td>\n",
       "      <td>../subsamples/mdb256_180_mirr_lr.png</td>\n",
       "    </tr>\n",
       "    <tr>\n",
       "      <th>mdb256_180_mirr_tp</th>\n",
       "      <td>CALC</td>\n",
       "      <td>F</td>\n",
       "      <td>M</td>\n",
       "      <td>../subsamples/mdb256_180_mirr_tp.png</td>\n",
       "    </tr>\n",
       "    <tr>\n",
       "      <th>mdb256_270_rotated</th>\n",
       "      <td>CALC</td>\n",
       "      <td>F</td>\n",
       "      <td>M</td>\n",
       "      <td>../subsamples/mdb256_270_rotated.png</td>\n",
       "    </tr>\n",
       "    <tr>\n",
       "      <th>mdb256_270_mirr_lr</th>\n",
       "      <td>CALC</td>\n",
       "      <td>F</td>\n",
       "      <td>M</td>\n",
       "      <td>../subsamples/mdb256_270_mirr_lr.png</td>\n",
       "    </tr>\n",
       "    <tr>\n",
       "      <th>mdb256_270_mirr_tp</th>\n",
       "      <td>CALC</td>\n",
       "      <td>F</td>\n",
       "      <td>M</td>\n",
       "      <td>../subsamples/mdb256_270_mirr_tp.png</td>\n",
       "    </tr>\n",
       "  </tbody>\n",
       "</table>\n",
       "<p>240 rows × 4 columns</p>\n",
       "</div>"
      ],
      "text/plain": [
       "                   ab_class bg severity                        subsample_path\n",
       "mdb223_180_rotated     CALC  D        B  ../subsamples/mdb223_180_rotated.png\n",
       "mdb236_0_mirr_lr       CALC  D        B    ../subsamples/mdb236_0_mirr_lr.png\n",
       "mdb226_180_mirr_lr     CALC  D        B  ../subsamples/mdb226_180_mirr_lr.png\n",
       "mdb212_180_mirr_tp     CALC  G        B  ../subsamples/mdb212_180_mirr_tp.png\n",
       "mdb248_0_mirr_tp       CALC  F        B    ../subsamples/mdb248_0_mirr_tp.png\n",
       "...                     ... ..      ...                                   ...\n",
       "mdb256_180_mirr_lr     CALC  F        M  ../subsamples/mdb256_180_mirr_lr.png\n",
       "mdb256_180_mirr_tp     CALC  F        M  ../subsamples/mdb256_180_mirr_tp.png\n",
       "mdb256_270_rotated     CALC  F        M  ../subsamples/mdb256_270_rotated.png\n",
       "mdb256_270_mirr_lr     CALC  F        M  ../subsamples/mdb256_270_mirr_lr.png\n",
       "mdb256_270_mirr_tp     CALC  F        M  ../subsamples/mdb256_270_mirr_tp.png\n",
       "\n",
       "[240 rows x 4 columns]"
      ]
     },
     "execution_count": 9,
     "metadata": {},
     "output_type": "execute_result"
    }
   ],
   "source": [
    "calcifications = hp.balance_by_severity(mias, 'CALC')\n",
    "calcifications"
   ]
  },
  {
   "cell_type": "code",
   "execution_count": 10,
   "id": "e2faafff",
   "metadata": {},
   "outputs": [],
   "source": [
    "calcifications = calcifications.sample(len(calcifications), replace=False)"
   ]
  },
  {
   "cell_type": "markdown",
   "id": "fc3e2bd0",
   "metadata": {},
   "source": [
    "#### Generate Train and Test Data"
   ]
  },
  {
   "cell_type": "code",
   "execution_count": 11,
   "id": "f0e257ee",
   "metadata": {},
   "outputs": [
    {
     "name": "stdout",
     "output_type": "stream",
     "text": [
      "Found 180 validated image filenames belonging to 2 classes.\n",
      "Found 60 validated image filenames belonging to 2 classes.\n"
     ]
    }
   ],
   "source": [
    "data_generator = ImageDataGenerator(validation_split=.25, \n",
    "                                    height_shift_range=.10, \n",
    "                                    width_shift_range=.10, \n",
    "                                    rotation_range=30, \n",
    "                                    rescale=1/255.)\n",
    "train_data = data_generator.flow_from_dataframe(calcifications, \n",
    "                                                x_col=\"subsample_path\", \n",
    "                                                y_col=\"severity\",\n",
    "                                                class_mode=\"categorical\",\n",
    "                                                target_size=(48,48),\n",
    "                                                subset=\"training\",\n",
    "                                                color_mode=\"grayscale\",\n",
    "                                                shuffle=True)\n",
    "test_data = data_generator.flow_from_dataframe(calcifications, \n",
    "                                               x_col=\"subsample_path\", \n",
    "                                               y_col=\"severity\",\n",
    "                                               class_mode=\"categorical\",\n",
    "                                               target_size=(48,48),\n",
    "                                               subset=\"validation\",\n",
    "                                               color_mode=\"grayscale\",\n",
    "                                               shuffle=False)"
   ]
  },
  {
   "cell_type": "code",
   "execution_count": 12,
   "id": "ab916fcb",
   "metadata": {},
   "outputs": [
    {
     "data": {
      "text/plain": [
       "array([0, 1])"
      ]
     },
     "execution_count": 12,
     "metadata": {},
     "output_type": "execute_result"
    }
   ],
   "source": [
    "np.unique(test_data.labels)"
   ]
  },
  {
   "cell_type": "code",
   "execution_count": 13,
   "id": "75068224",
   "metadata": {},
   "outputs": [
    {
     "data": {
      "text/plain": [
       "60"
      ]
     },
     "execution_count": 13,
     "metadata": {},
     "output_type": "execute_result"
    }
   ],
   "source": [
    "len(test_data.labels)"
   ]
  },
  {
   "cell_type": "code",
   "execution_count": 14,
   "id": "80d17d93",
   "metadata": {},
   "outputs": [
    {
     "data": {
      "text/plain": [
       "array([0, 1])"
      ]
     },
     "execution_count": 14,
     "metadata": {},
     "output_type": "execute_result"
    }
   ],
   "source": [
    "np.unique(train_data.labels)"
   ]
  },
  {
   "cell_type": "code",
   "execution_count": 15,
   "id": "e1ec5256",
   "metadata": {},
   "outputs": [
    {
     "data": {
      "text/plain": [
       "180"
      ]
     },
     "execution_count": 15,
     "metadata": {},
     "output_type": "execute_result"
    }
   ],
   "source": [
    "len(train_data.labels)"
   ]
  },
  {
   "cell_type": "markdown",
   "id": "8bbf968b",
   "metadata": {},
   "source": [
    "#### Create Convolutional Neural Network"
   ]
  },
  {
   "cell_type": "code",
   "execution_count": 16,
   "id": "e4f5971b",
   "metadata": {},
   "outputs": [
    {
     "name": "stdout",
     "output_type": "stream",
     "text": [
      "Model: \"sequential\"\n",
      "_________________________________________________________________\n",
      "Layer (type)                 Output Shape              Param #   \n",
      "=================================================================\n",
      "conv2d (Conv2D)              (None, 46, 46, 32)        320       \n",
      "_________________________________________________________________\n",
      "conv2d_1 (Conv2D)            (None, 44, 44, 64)        18496     \n",
      "_________________________________________________________________\n",
      "max_pooling2d (MaxPooling2D) (None, 22, 22, 64)        0         \n",
      "_________________________________________________________________\n",
      "conv2d_2 (Conv2D)            (None, 20, 20, 64)        36928     \n",
      "_________________________________________________________________\n",
      "max_pooling2d_1 (MaxPooling2 (None, 10, 10, 64)        0         \n",
      "_________________________________________________________________\n",
      "dropout (Dropout)            (None, 10, 10, 64)        0         \n",
      "_________________________________________________________________\n",
      "dense (Dense)                (None, 10, 10, 64)        4160      \n",
      "_________________________________________________________________\n",
      "dropout_1 (Dropout)          (None, 10, 10, 64)        0         \n",
      "_________________________________________________________________\n",
      "flatten (Flatten)            (None, 6400)              0         \n",
      "_________________________________________________________________\n",
      "dense_1 (Dense)              (None, 2)                 12802     \n",
      "=================================================================\n",
      "Total params: 72,706\n",
      "Trainable params: 72,706\n",
      "Non-trainable params: 0\n",
      "_________________________________________________________________\n"
     ]
    }
   ],
   "source": [
    "cnn_calc = Sequential()\n",
    "# first layer\n",
    "cnn_calc.add(Conv2D(32, kernel_size=(3, 3),activation='relu',input_shape=(48, 48, 1)))\n",
    "cnn_calc.add(Conv2D(64, kernel_size=(3,3),activation='relu'))\n",
    "cnn_calc.add(MaxPool2D(pool_size=(2, 2)))\n",
    "\n",
    "cnn_calc.add(Conv2D(64, kernel_size=(3,3),activation='relu'))\n",
    "cnn_calc.add(MaxPool2D(pool_size=(2, 2)))\n",
    "cnn_calc.add(Dropout(0.25))\n",
    "# Add dense layer to reduce the number of features\n",
    "cnn_calc.add(Dense(64, activation='relu'))\n",
    "cnn_calc.add(Dropout(0.25))\n",
    "# flattening results\n",
    "cnn_calc.add(Flatten())\n",
    "# Dense layer to produce final output\n",
    "cnn_calc.add(Dense(2, activation='softmax'))\n",
    "# print summary\n",
    "cnn_calc.summary()"
   ]
  },
  {
   "cell_type": "markdown",
   "id": "8430de93",
   "metadata": {},
   "source": [
    "#### Visualise the Model's Structure\n"
   ]
  },
  {
   "cell_type": "code",
   "execution_count": 17,
   "id": "a5552975",
   "metadata": {},
   "outputs": [
    {
     "data": {
      "image/png": "[encoded data removed]",
      "text/plain": [
       "<IPython.core.display.Image object>"
      ]
     },
     "execution_count": 17,
     "metadata": {},
     "output_type": "execute_result"
    }
   ],
   "source": [
    "plot_model(cnn_calc, to_file='convnet.png', show_shapes=True, show_layer_names=True)\n",
    "Image(filename='convnet.png')"
   ]
  },
  {
   "cell_type": "markdown",
   "id": "e00dc7b0",
   "metadata": {},
   "source": [
    "#### Compiling the model"
   ]
  },
  {
   "cell_type": "code",
   "execution_count": 18,
   "id": "880a74e3",
   "metadata": {},
   "outputs": [],
   "source": [
    "adam = Adam(0.001)\n",
    "cnn_calc.compile(optimizer=adam,\n",
    "            loss='categorical_crossentropy',\n",
    "            metrics=['accuracy'])"
   ]
  },
  {
   "cell_type": "markdown",
   "id": "0b5fa850",
   "metadata": {},
   "source": [
    "#### Training and Evaluating the Model"
   ]
  },
  {
   "cell_type": "code",
   "execution_count": 19,
   "id": "6d312d46",
   "metadata": {},
   "outputs": [
    {
     "name": "stdout",
     "output_type": "stream",
     "text": [
      "Epoch 1/275\n",
      "6/6 [==============================] - 3s 421ms/step - loss: 0.6901 - accuracy: 0.5966 - val_loss: 0.7043 - val_accuracy: 0.4833\n",
      "Epoch 2/275\n",
      "6/6 [==============================] - 1s 217ms/step - loss: 0.6918 - accuracy: 0.5446 - val_loss: 0.6905 - val_accuracy: 0.6167\n",
      "Epoch 3/275\n",
      "6/6 [==============================] - 1s 218ms/step - loss: 0.6904 - accuracy: 0.5410 - val_loss: 0.7089 - val_accuracy: 0.4833\n",
      "Epoch 4/275\n",
      "6/6 [==============================] - 1s 221ms/step - loss: 0.6776 - accuracy: 0.6270 - val_loss: 0.7188 - val_accuracy: 0.4833\n",
      "Epoch 5/275\n",
      "6/6 [==============================] - 1s 222ms/step - loss: 0.6722 - accuracy: 0.6156 - val_loss: 0.6810 - val_accuracy: 0.4333\n",
      "Epoch 6/275\n",
      "6/6 [==============================] - 1s 222ms/step - loss: 0.6528 - accuracy: 0.6213 - val_loss: 0.6714 - val_accuracy: 0.4833\n",
      "Epoch 7/275\n",
      "6/6 [==============================] - 1s 224ms/step - loss: 0.6264 - accuracy: 0.6575 - val_loss: 0.6791 - val_accuracy: 0.4833\n",
      "Epoch 8/275\n",
      "6/6 [==============================] - 1s 226ms/step - loss: 0.6452 - accuracy: 0.6080 - val_loss: 0.6517 - val_accuracy: 0.4833\n",
      "Epoch 9/275\n",
      "6/6 [==============================] - 1s 227ms/step - loss: 0.6323 - accuracy: 0.6188 - val_loss: 0.6537 - val_accuracy: 0.4833\n",
      "Epoch 10/275\n",
      "6/6 [==============================] - 1s 225ms/step - loss: 0.6471 - accuracy: 0.5861 - val_loss: 0.6644 - val_accuracy: 0.4833\n",
      "Epoch 11/275\n",
      "6/6 [==============================] - 1s 239ms/step - loss: 0.6428 - accuracy: 0.6165 - val_loss: 0.6780 - val_accuracy: 0.4833\n",
      "Epoch 12/275\n",
      "6/6 [==============================] - 1s 242ms/step - loss: 0.6387 - accuracy: 0.6147 - val_loss: 0.6638 - val_accuracy: 0.4833\n",
      "Epoch 13/275\n",
      "6/6 [==============================] - 1s 225ms/step - loss: 0.6346 - accuracy: 0.6064 - val_loss: 0.6637 - val_accuracy: 0.4833\n",
      "Epoch 14/275\n",
      "6/6 [==============================] - 1s 224ms/step - loss: 0.6386 - accuracy: 0.6008 - val_loss: 0.6530 - val_accuracy: 0.4833\n",
      "Epoch 15/275\n",
      "6/6 [==============================] - 1s 227ms/step - loss: 0.6259 - accuracy: 0.6109 - val_loss: 0.6662 - val_accuracy: 0.4833\n",
      "Epoch 16/275\n",
      "6/6 [==============================] - 1s 227ms/step - loss: 0.6348 - accuracy: 0.5967 - val_loss: 0.6759 - val_accuracy: 0.4833\n",
      "Epoch 17/275\n",
      "6/6 [==============================] - 1s 227ms/step - loss: 0.6428 - accuracy: 0.5926 - val_loss: 0.6596 - val_accuracy: 0.4833\n",
      "Epoch 18/275\n",
      "6/6 [==============================] - 1s 228ms/step - loss: 0.6219 - accuracy: 0.6341 - val_loss: 0.6646 - val_accuracy: 0.4833\n",
      "Epoch 19/275\n",
      "6/6 [==============================] - 1s 226ms/step - loss: 0.6447 - accuracy: 0.5587 - val_loss: 0.6453 - val_accuracy: 0.4833\n",
      "Epoch 20/275\n",
      "6/6 [==============================] - 1s 225ms/step - loss: 0.6321 - accuracy: 0.6302 - val_loss: 0.6541 - val_accuracy: 0.4833\n",
      "Epoch 21/275\n",
      "6/6 [==============================] - 1s 227ms/step - loss: 0.6286 - accuracy: 0.6004 - val_loss: 0.6589 - val_accuracy: 0.4833\n",
      "Epoch 22/275\n",
      "6/6 [==============================] - 1s 230ms/step - loss: 0.6355 - accuracy: 0.6284 - val_loss: 0.6817 - val_accuracy: 0.4833\n",
      "Epoch 23/275\n",
      "6/6 [==============================] - 1s 225ms/step - loss: 0.6523 - accuracy: 0.5816 - val_loss: 0.6604 - val_accuracy: 0.4833\n",
      "Epoch 24/275\n",
      "6/6 [==============================] - 1s 226ms/step - loss: 0.6304 - accuracy: 0.6173 - val_loss: 0.6610 - val_accuracy: 0.4833\n",
      "Epoch 25/275\n",
      "6/6 [==============================] - 1s 224ms/step - loss: 0.6349 - accuracy: 0.6153 - val_loss: 0.6629 - val_accuracy: 0.4833\n",
      "Epoch 26/275\n",
      "6/6 [==============================] - 1s 237ms/step - loss: 0.6191 - accuracy: 0.6404 - val_loss: 0.6602 - val_accuracy: 0.4833\n",
      "Epoch 27/275\n",
      "6/6 [==============================] - 1s 224ms/step - loss: 0.6241 - accuracy: 0.6180 - val_loss: 0.6495 - val_accuracy: 0.4833\n",
      "Epoch 28/275\n",
      "6/6 [==============================] - 1s 222ms/step - loss: 0.6141 - accuracy: 0.6209 - val_loss: 0.6506 - val_accuracy: 0.4833\n",
      "Epoch 29/275\n",
      "6/6 [==============================] - 1s 239ms/step - loss: 0.6227 - accuracy: 0.6200 - val_loss: 0.6752 - val_accuracy: 0.4833\n",
      "Epoch 30/275\n",
      "6/6 [==============================] - 1s 228ms/step - loss: 0.6174 - accuracy: 0.6301 - val_loss: 0.6378 - val_accuracy: 0.4833\n",
      "Epoch 31/275\n",
      "6/6 [==============================] - 1s 222ms/step - loss: 0.6284 - accuracy: 0.6274 - val_loss: 0.6549 - val_accuracy: 0.4833\n",
      "Epoch 32/275\n",
      "6/6 [==============================] - 1s 224ms/step - loss: 0.6340 - accuracy: 0.5909 - val_loss: 0.6804 - val_accuracy: 0.4833\n",
      "Epoch 33/275\n",
      "6/6 [==============================] - 1s 223ms/step - loss: 0.6414 - accuracy: 0.5940 - val_loss: 0.6670 - val_accuracy: 0.4833\n",
      "Epoch 34/275\n",
      "6/6 [==============================] - 1s 225ms/step - loss: 0.6050 - accuracy: 0.6250 - val_loss: 0.6390 - val_accuracy: 0.4833\n",
      "Epoch 35/275\n",
      "6/6 [==============================] - 1s 224ms/step - loss: 0.6342 - accuracy: 0.6087 - val_loss: 0.6493 - val_accuracy: 0.4833\n",
      "Epoch 36/275\n",
      "6/6 [==============================] - 1s 221ms/step - loss: 0.6086 - accuracy: 0.6260 - val_loss: 0.6527 - val_accuracy: 0.4833\n",
      "Epoch 37/275\n",
      "6/6 [==============================] - 1s 222ms/step - loss: 0.6237 - accuracy: 0.5883 - val_loss: 0.6700 - val_accuracy: 0.4833\n",
      "Epoch 38/275\n",
      "6/6 [==============================] - 1s 225ms/step - loss: 0.6187 - accuracy: 0.6347 - val_loss: 0.6047 - val_accuracy: 0.6500\n",
      "Epoch 39/275\n",
      "6/6 [==============================] - 1s 239ms/step - loss: 0.6300 - accuracy: 0.5968 - val_loss: 0.6357 - val_accuracy: 0.4833\n",
      "Epoch 40/275\n",
      "6/6 [==============================] - 1s 221ms/step - loss: 0.6193 - accuracy: 0.6205 - val_loss: 0.6816 - val_accuracy: 0.4833\n",
      "Epoch 41/275\n",
      "6/6 [==============================] - 1s 225ms/step - loss: 0.6239 - accuracy: 0.6153 - val_loss: 0.6747 - val_accuracy: 0.4833\n",
      "Epoch 42/275\n",
      "6/6 [==============================] - 1s 223ms/step - loss: 0.6077 - accuracy: 0.6409 - val_loss: 0.6596 - val_accuracy: 0.4833\n",
      "Epoch 43/275\n",
      "6/6 [==============================] - 1s 224ms/step - loss: 0.6099 - accuracy: 0.6342 - val_loss: 0.6650 - val_accuracy: 0.4833\n",
      "Epoch 44/275\n",
      "6/6 [==============================] - 1s 223ms/step - loss: 0.6332 - accuracy: 0.5854 - val_loss: 0.6402 - val_accuracy: 0.4833\n",
      "Epoch 45/275\n",
      "6/6 [==============================] - 1s 228ms/step - loss: 0.6196 - accuracy: 0.6043 - val_loss: 0.6359 - val_accuracy: 0.4833\n",
      "Epoch 46/275\n",
      "6/6 [==============================] - 1s 236ms/step - loss: 0.6222 - accuracy: 0.5832 - val_loss: 0.6838 - val_accuracy: 0.4833\n",
      "Epoch 47/275\n",
      "6/6 [==============================] - 1s 219ms/step - loss: 0.6502 - accuracy: 0.5867 - val_loss: 0.6155 - val_accuracy: 0.4833\n",
      "Epoch 48/275\n",
      "6/6 [==============================] - 1s 227ms/step - loss: 0.6211 - accuracy: 0.5968 - val_loss: 0.6242 - val_accuracy: 0.4833\n",
      "Epoch 49/275\n",
      "6/6 [==============================] - 1s 220ms/step - loss: 0.6098 - accuracy: 0.6297 - val_loss: 0.6405 - val_accuracy: 0.4833\n",
      "Epoch 50/275\n",
      "6/6 [==============================] - 1s 224ms/step - loss: 0.6115 - accuracy: 0.6299 - val_loss: 0.6098 - val_accuracy: 0.4833\n",
      "Epoch 51/275\n",
      "6/6 [==============================] - 1s 223ms/step - loss: 0.6248 - accuracy: 0.5997 - val_loss: 0.6503 - val_accuracy: 0.4833\n",
      "Epoch 52/275\n",
      "6/6 [==============================] - 1s 225ms/step - loss: 0.6088 - accuracy: 0.6067 - val_loss: 0.5919 - val_accuracy: 0.4833\n",
      "Epoch 53/275\n",
      "6/6 [==============================] - 1s 222ms/step - loss: 0.6128 - accuracy: 0.6026 - val_loss: 0.6404 - val_accuracy: 0.4833\n",
      "Epoch 54/275\n",
      "6/6 [==============================] - 1s 220ms/step - loss: 0.5772 - accuracy: 0.6621 - val_loss: 0.5938 - val_accuracy: 0.4833\n",
      "Epoch 55/275\n",
      "6/6 [==============================] - 1s 221ms/step - loss: 0.6165 - accuracy: 0.6089 - val_loss: 0.6034 - val_accuracy: 0.4833\n",
      "Epoch 56/275\n",
      "6/6 [==============================] - 1s 219ms/step - loss: 0.6210 - accuracy: 0.6137 - val_loss: 0.6221 - val_accuracy: 0.4833\n",
      "Epoch 57/275\n",
      "6/6 [==============================] - 1s 222ms/step - loss: 0.6193 - accuracy: 0.6051 - val_loss: 0.6264 - val_accuracy: 0.4833\n",
      "Epoch 58/275\n",
      "6/6 [==============================] - 1s 219ms/step - loss: 0.6205 - accuracy: 0.5666 - val_loss: 0.6793 - val_accuracy: 0.4833\n",
      "Epoch 59/275\n",
      "6/6 [==============================] - 1s 235ms/step - loss: 0.6164 - accuracy: 0.6417 - val_loss: 0.6121 - val_accuracy: 0.4833\n",
      "Epoch 60/275\n",
      "6/6 [==============================] - 2s 277ms/step - loss: 0.5966 - accuracy: 0.6358 - val_loss: 0.6094 - val_accuracy: 0.4833\n",
      "Epoch 61/275\n",
      "6/6 [==============================] - 2s 279ms/step - loss: 0.6094 - accuracy: 0.5995 - val_loss: 0.6084 - val_accuracy: 0.4833\n",
      "Epoch 62/275\n",
      "6/6 [==============================] - 2s 242ms/step - loss: 0.6037 - accuracy: 0.6231 - val_loss: 0.6147 - val_accuracy: 0.4833\n",
      "Epoch 63/275\n",
      "6/6 [==============================] - 1s 225ms/step - loss: 0.6195 - accuracy: 0.6243 - val_loss: 0.6223 - val_accuracy: 0.4833\n",
      "Epoch 64/275\n",
      "6/6 [==============================] - 1s 222ms/step - loss: 0.5815 - accuracy: 0.6685 - val_loss: 0.6203 - val_accuracy: 0.4833\n",
      "Epoch 65/275\n",
      "6/6 [==============================] - 1s 226ms/step - loss: 0.6105 - accuracy: 0.6067 - val_loss: 0.5961 - val_accuracy: 0.4833\n",
      "Epoch 66/275\n",
      "6/6 [==============================] - 1s 238ms/step - loss: 0.5618 - accuracy: 0.6642 - val_loss: 0.5959 - val_accuracy: 0.4833\n",
      "Epoch 67/275\n",
      "6/6 [==============================] - 1s 232ms/step - loss: 0.6134 - accuracy: 0.5369 - val_loss: 0.5656 - val_accuracy: 0.5833\n",
      "Epoch 68/275\n",
      "6/6 [==============================] - 1s 231ms/step - loss: 0.5991 - accuracy: 0.5653 - val_loss: 0.6153 - val_accuracy: 0.4833\n",
      "Epoch 69/275\n",
      "6/6 [==============================] - 1s 235ms/step - loss: 0.5828 - accuracy: 0.6127 - val_loss: 0.6045 - val_accuracy: 0.4833\n",
      "Epoch 70/275\n",
      "6/6 [==============================] - 1s 235ms/step - loss: 0.6202 - accuracy: 0.5899 - val_loss: 0.6034 - val_accuracy: 0.4833\n",
      "Epoch 71/275\n",
      "6/6 [==============================] - 1s 232ms/step - loss: 0.6063 - accuracy: 0.6121 - val_loss: 0.6010 - val_accuracy: 0.4833\n",
      "Epoch 72/275\n",
      "6/6 [==============================] - 2s 272ms/step - loss: 0.5818 - accuracy: 0.5987 - val_loss: 0.5971 - val_accuracy: 0.4833\n",
      "Epoch 73/275\n",
      "6/6 [==============================] - 2s 257ms/step - loss: 0.5828 - accuracy: 0.6521 - val_loss: 0.6070 - val_accuracy: 0.4833\n",
      "Epoch 74/275\n",
      "6/6 [==============================] - 1s 253ms/step - loss: 0.6081 - accuracy: 0.6160 - val_loss: 0.5994 - val_accuracy: 0.4833\n",
      "Epoch 75/275\n",
      "6/6 [==============================] - 1s 238ms/step - loss: 0.5876 - accuracy: 0.6092 - val_loss: 0.5971 - val_accuracy: 0.4833\n",
      "Epoch 76/275\n",
      "6/6 [==============================] - 1s 231ms/step - loss: 0.6120 - accuracy: 0.6086 - val_loss: 0.6010 - val_accuracy: 0.4833\n",
      "Epoch 77/275\n",
      "6/6 [==============================] - 1s 246ms/step - loss: 0.5872 - accuracy: 0.6169 - val_loss: 0.5923 - val_accuracy: 0.6500\n",
      "Epoch 78/275\n",
      "6/6 [==============================] - 2s 297ms/step - loss: 0.6142 - accuracy: 0.5634 - val_loss: 0.5630 - val_accuracy: 0.6667\n",
      "Epoch 79/275\n",
      "6/6 [==============================] - 1s 225ms/step - loss: 0.6001 - accuracy: 0.5768 - val_loss: 0.5913 - val_accuracy: 0.4833\n",
      "Epoch 80/275\n",
      "6/6 [==============================] - 1s 235ms/step - loss: 0.5696 - accuracy: 0.6447 - val_loss: 0.5831 - val_accuracy: 0.4833\n",
      "Epoch 81/275\n",
      "6/6 [==============================] - 1s 220ms/step - loss: 0.5780 - accuracy: 0.6271 - val_loss: 0.5895 - val_accuracy: 0.4833\n",
      "Epoch 82/275\n",
      "6/6 [==============================] - 1s 222ms/step - loss: 0.6197 - accuracy: 0.5600 - val_loss: 0.5998 - val_accuracy: 0.4833\n",
      "Epoch 83/275\n",
      "6/6 [==============================] - 1s 223ms/step - loss: 0.5862 - accuracy: 0.6446 - val_loss: 0.5898 - val_accuracy: 0.4833\n",
      "Epoch 84/275\n",
      "6/6 [==============================] - 1s 222ms/step - loss: 0.5912 - accuracy: 0.6768 - val_loss: 0.5773 - val_accuracy: 0.5333\n",
      "Epoch 85/275\n",
      "6/6 [==============================] - 1s 223ms/step - loss: 0.6085 - accuracy: 0.5879 - val_loss: 0.5797 - val_accuracy: 0.4833\n",
      "Epoch 86/275\n",
      "6/6 [==============================] - 1s 227ms/step - loss: 0.5873 - accuracy: 0.6413 - val_loss: 0.6089 - val_accuracy: 0.4833\n",
      "Epoch 87/275\n",
      "6/6 [==============================] - 1s 224ms/step - loss: 0.5931 - accuracy: 0.6073 - val_loss: 0.5943 - val_accuracy: 0.4833\n",
      "Epoch 88/275\n",
      "6/6 [==============================] - 1s 222ms/step - loss: 0.5851 - accuracy: 0.6385 - val_loss: 0.5862 - val_accuracy: 0.4833\n",
      "Epoch 89/275\n",
      "6/6 [==============================] - 1s 222ms/step - loss: 0.5882 - accuracy: 0.5725 - val_loss: 0.5862 - val_accuracy: 0.4833\n",
      "Epoch 90/275\n",
      "6/6 [==============================] - 1s 234ms/step - loss: 0.5937 - accuracy: 0.5853 - val_loss: 0.5608 - val_accuracy: 0.6500\n",
      "Epoch 91/275\n",
      "6/6 [==============================] - 1s 221ms/step - loss: 0.5880 - accuracy: 0.5996 - val_loss: 0.5935 - val_accuracy: 0.5000\n",
      "Epoch 92/275\n",
      "6/6 [==============================] - 1s 232ms/step - loss: 0.5518 - accuracy: 0.6508 - val_loss: 0.5612 - val_accuracy: 0.6500\n",
      "Epoch 93/275\n",
      "6/6 [==============================] - 1s 227ms/step - loss: 0.5903 - accuracy: 0.5825 - val_loss: 0.5701 - val_accuracy: 0.6500\n",
      "Epoch 94/275\n",
      "6/6 [==============================] - 1s 225ms/step - loss: 0.5875 - accuracy: 0.6079 - val_loss: 0.5918 - val_accuracy: 0.4833\n",
      "Epoch 95/275\n",
      "6/6 [==============================] - 1s 223ms/step - loss: 0.6126 - accuracy: 0.5874 - val_loss: 0.6071 - val_accuracy: 0.4833\n",
      "Epoch 96/275\n",
      "6/6 [==============================] - 1s 227ms/step - loss: 0.5934 - accuracy: 0.6313 - val_loss: 0.6115 - val_accuracy: 0.4833\n",
      "Epoch 97/275\n",
      "6/6 [==============================] - 1s 226ms/step - loss: 0.6060 - accuracy: 0.6285 - val_loss: 0.6113 - val_accuracy: 0.4833\n",
      "Epoch 98/275\n",
      "6/6 [==============================] - 1s 224ms/step - loss: 0.6057 - accuracy: 0.6142 - val_loss: 0.6057 - val_accuracy: 0.4833\n",
      "Epoch 99/275\n",
      "6/6 [==============================] - 1s 225ms/step - loss: 0.5787 - accuracy: 0.6555 - val_loss: 0.6007 - val_accuracy: 0.4833\n",
      "Epoch 100/275\n",
      "6/6 [==============================] - 1s 238ms/step - loss: 0.6071 - accuracy: 0.5950 - val_loss: 0.5766 - val_accuracy: 0.6167\n",
      "Epoch 101/275\n",
      "6/6 [==============================] - 1s 243ms/step - loss: 0.5771 - accuracy: 0.6820 - val_loss: 0.6122 - val_accuracy: 0.4833\n",
      "Epoch 102/275\n",
      "6/6 [==============================] - 1s 222ms/step - loss: 0.5855 - accuracy: 0.6041 - val_loss: 0.5525 - val_accuracy: 0.5667\n",
      "Epoch 103/275\n",
      "6/6 [==============================] - 1s 222ms/step - loss: 0.6074 - accuracy: 0.5765 - val_loss: 0.6092 - val_accuracy: 0.4833\n",
      "Epoch 104/275\n",
      "6/6 [==============================] - 1s 224ms/step - loss: 0.5943 - accuracy: 0.5942 - val_loss: 0.6127 - val_accuracy: 0.4833\n",
      "Epoch 105/275\n",
      "6/6 [==============================] - 1s 225ms/step - loss: 0.5948 - accuracy: 0.6011 - val_loss: 0.6231 - val_accuracy: 0.4833\n",
      "Epoch 106/275\n",
      "6/6 [==============================] - 1s 223ms/step - loss: 0.5717 - accuracy: 0.6341 - val_loss: 0.5959 - val_accuracy: 0.4833\n",
      "Epoch 107/275\n",
      "6/6 [==============================] - 1s 224ms/step - loss: 0.5818 - accuracy: 0.6375 - val_loss: 0.5756 - val_accuracy: 0.5500\n",
      "Epoch 108/275\n",
      "6/6 [==============================] - 1s 228ms/step - loss: 0.6070 - accuracy: 0.6059 - val_loss: 0.5875 - val_accuracy: 0.4833\n",
      "Epoch 109/275\n",
      "6/6 [==============================] - 1s 225ms/step - loss: 0.5601 - accuracy: 0.6352 - val_loss: 0.5913 - val_accuracy: 0.4833\n",
      "Epoch 110/275\n",
      "6/6 [==============================] - 1s 236ms/step - loss: 0.5874 - accuracy: 0.6345 - val_loss: 0.5746 - val_accuracy: 0.5500\n",
      "Epoch 111/275\n",
      "6/6 [==============================] - 1s 219ms/step - loss: 0.5920 - accuracy: 0.5646 - val_loss: 0.5671 - val_accuracy: 0.5667\n",
      "Epoch 112/275\n",
      "6/6 [==============================] - 1s 221ms/step - loss: 0.5813 - accuracy: 0.6212 - val_loss: 0.5823 - val_accuracy: 0.5167\n",
      "Epoch 113/275\n",
      "6/6 [==============================] - 1s 222ms/step - loss: 0.6032 - accuracy: 0.6217 - val_loss: 0.5694 - val_accuracy: 0.6500\n",
      "Epoch 114/275\n",
      "6/6 [==============================] - 1s 233ms/step - loss: 0.5926 - accuracy: 0.6632 - val_loss: 0.5984 - val_accuracy: 0.4833\n",
      "Epoch 115/275\n",
      "6/6 [==============================] - 1s 227ms/step - loss: 0.5852 - accuracy: 0.6225 - val_loss: 0.5870 - val_accuracy: 0.4833\n",
      "Epoch 116/275\n",
      "6/6 [==============================] - 1s 234ms/step - loss: 0.5785 - accuracy: 0.6122 - val_loss: 0.5727 - val_accuracy: 0.5833\n",
      "Epoch 117/275\n",
      "6/6 [==============================] - 1s 243ms/step - loss: 0.5820 - accuracy: 0.6595 - val_loss: 0.5843 - val_accuracy: 0.4833\n",
      "Epoch 118/275\n",
      "6/6 [==============================] - 1s 220ms/step - loss: 0.5762 - accuracy: 0.6336 - val_loss: 0.5730 - val_accuracy: 0.5333\n",
      "Epoch 119/275\n",
      "6/6 [==============================] - 1s 221ms/step - loss: 0.5719 - accuracy: 0.6423 - val_loss: 0.5568 - val_accuracy: 0.6500\n",
      "Epoch 120/275\n",
      "6/6 [==============================] - 1s 230ms/step - loss: 0.5592 - accuracy: 0.6595 - val_loss: 0.5619 - val_accuracy: 0.6667\n",
      "Epoch 121/275\n",
      "6/6 [==============================] - 1s 228ms/step - loss: 0.5978 - accuracy: 0.6930 - val_loss: 0.5444 - val_accuracy: 0.6833\n",
      "Epoch 122/275\n",
      "6/6 [==============================] - 1s 221ms/step - loss: 0.5785 - accuracy: 0.6006 - val_loss: 0.5670 - val_accuracy: 0.5333\n",
      "Epoch 123/275\n",
      "6/6 [==============================] - 1s 223ms/step - loss: 0.5867 - accuracy: 0.5905 - val_loss: 0.6255 - val_accuracy: 0.4833\n",
      "Epoch 124/275\n",
      "6/6 [==============================] - 1s 225ms/step - loss: 0.5795 - accuracy: 0.6435 - val_loss: 0.5762 - val_accuracy: 0.4833\n",
      "Epoch 125/275\n",
      "6/6 [==============================] - 1s 229ms/step - loss: 0.5618 - accuracy: 0.6491 - val_loss: 0.5682 - val_accuracy: 0.6000\n",
      "Epoch 126/275\n",
      "6/6 [==============================] - 1s 238ms/step - loss: 0.5925 - accuracy: 0.6262 - val_loss: 0.5822 - val_accuracy: 0.5333\n",
      "Epoch 127/275\n",
      "6/6 [==============================] - 1s 221ms/step - loss: 0.5831 - accuracy: 0.6536 - val_loss: 0.5615 - val_accuracy: 0.5833\n",
      "Epoch 128/275\n",
      "6/6 [==============================] - 1s 221ms/step - loss: 0.5822 - accuracy: 0.6611 - val_loss: 0.5825 - val_accuracy: 0.4833\n",
      "Epoch 129/275\n",
      "6/6 [==============================] - 1s 222ms/step - loss: 0.5691 - accuracy: 0.6506 - val_loss: 0.5589 - val_accuracy: 0.6333\n",
      "Epoch 130/275\n",
      "6/6 [==============================] - 1s 227ms/step - loss: 0.5512 - accuracy: 0.6756 - val_loss: 0.5600 - val_accuracy: 0.6500\n",
      "Epoch 131/275\n",
      "6/6 [==============================] - 1s 227ms/step - loss: 0.5720 - accuracy: 0.6461 - val_loss: 0.5564 - val_accuracy: 0.6667\n",
      "Epoch 132/275\n",
      "6/6 [==============================] - 1s 223ms/step - loss: 0.5585 - accuracy: 0.6665 - val_loss: 0.5769 - val_accuracy: 0.4833\n",
      "Epoch 133/275\n",
      "6/6 [==============================] - 1s 233ms/step - loss: 0.5512 - accuracy: 0.5928 - val_loss: 0.5497 - val_accuracy: 0.6500\n",
      "Epoch 134/275\n",
      "6/6 [==============================] - 1s 226ms/step - loss: 0.5404 - accuracy: 0.6920 - val_loss: 0.5682 - val_accuracy: 0.5167\n",
      "Epoch 135/275\n",
      "6/6 [==============================] - 1s 244ms/step - loss: 0.5618 - accuracy: 0.6988 - val_loss: 0.5808 - val_accuracy: 0.4833\n",
      "Epoch 136/275\n",
      "6/6 [==============================] - 1s 222ms/step - loss: 0.5746 - accuracy: 0.6533 - val_loss: 0.5781 - val_accuracy: 0.5000\n",
      "Epoch 137/275\n",
      "6/6 [==============================] - 1s 238ms/step - loss: 0.5744 - accuracy: 0.6922 - val_loss: 0.5643 - val_accuracy: 0.4833\n",
      "Epoch 138/275\n",
      "6/6 [==============================] - 1s 220ms/step - loss: 0.5761 - accuracy: 0.6367 - val_loss: 0.5421 - val_accuracy: 0.6500\n",
      "Epoch 139/275\n",
      "6/6 [==============================] - 1s 224ms/step - loss: 0.5573 - accuracy: 0.6452 - val_loss: 0.5639 - val_accuracy: 0.5000\n",
      "Epoch 140/275\n",
      "6/6 [==============================] - 1s 230ms/step - loss: 0.5536 - accuracy: 0.6751 - val_loss: 0.5644 - val_accuracy: 0.5333\n",
      "Epoch 141/275\n",
      "6/6 [==============================] - 1s 220ms/step - loss: 0.5617 - accuracy: 0.6356 - val_loss: 0.5816 - val_accuracy: 0.4833\n",
      "Epoch 142/275\n",
      "6/6 [==============================] - 1s 224ms/step - loss: 0.5681 - accuracy: 0.5998 - val_loss: 0.5580 - val_accuracy: 0.5667\n",
      "Epoch 143/275\n",
      "6/6 [==============================] - 1s 223ms/step - loss: 0.5715 - accuracy: 0.6178 - val_loss: 0.5482 - val_accuracy: 0.6000\n",
      "Epoch 144/275\n",
      "6/6 [==============================] - 1s 229ms/step - loss: 0.5657 - accuracy: 0.6673 - val_loss: 0.5817 - val_accuracy: 0.5000\n",
      "Epoch 145/275\n",
      "6/6 [==============================] - 1s 229ms/step - loss: 0.5634 - accuracy: 0.6459 - val_loss: 0.5894 - val_accuracy: 0.4833\n",
      "Epoch 146/275\n",
      "6/6 [==============================] - 1s 233ms/step - loss: 0.5522 - accuracy: 0.6089 - val_loss: 0.5445 - val_accuracy: 0.6167\n",
      "Epoch 147/275\n",
      "6/6 [==============================] - 1s 224ms/step - loss: 0.5640 - accuracy: 0.6092 - val_loss: 0.5566 - val_accuracy: 0.5833\n",
      "Epoch 148/275\n",
      "6/6 [==============================] - 1s 230ms/step - loss: 0.5731 - accuracy: 0.6458 - val_loss: 0.5446 - val_accuracy: 0.6167\n",
      "Epoch 149/275\n",
      "6/6 [==============================] - 1s 224ms/step - loss: 0.5746 - accuracy: 0.6137 - val_loss: 0.5489 - val_accuracy: 0.6333\n",
      "Epoch 150/275\n",
      "6/6 [==============================] - 1s 233ms/step - loss: 0.5832 - accuracy: 0.6251 - val_loss: 0.5639 - val_accuracy: 0.5000\n",
      "Epoch 151/275\n",
      "6/6 [==============================] - 1s 223ms/step - loss: 0.5494 - accuracy: 0.6332 - val_loss: 0.5552 - val_accuracy: 0.6000\n",
      "Epoch 152/275\n",
      "6/6 [==============================] - 1s 233ms/step - loss: 0.5551 - accuracy: 0.7055 - val_loss: 0.5369 - val_accuracy: 0.7000\n",
      "Epoch 153/275\n",
      "6/6 [==============================] - 1s 228ms/step - loss: 0.5750 - accuracy: 0.6366 - val_loss: 0.6266 - val_accuracy: 0.5167\n",
      "Epoch 154/275\n",
      "6/6 [==============================] - 1s 234ms/step - loss: 0.5961 - accuracy: 0.5783 - val_loss: 0.6071 - val_accuracy: 0.5000\n",
      "Epoch 155/275\n",
      "6/6 [==============================] - 1s 222ms/step - loss: 0.5720 - accuracy: 0.6049 - val_loss: 0.5784 - val_accuracy: 0.6500\n",
      "Epoch 156/275\n",
      "6/6 [==============================] - 1s 224ms/step - loss: 0.5922 - accuracy: 0.6740 - val_loss: 0.5145 - val_accuracy: 0.6667\n",
      "Epoch 157/275\n",
      "6/6 [==============================] - 1s 226ms/step - loss: 0.6131 - accuracy: 0.5469 - val_loss: 0.6699 - val_accuracy: 0.4167\n",
      "Epoch 158/275\n",
      "6/6 [==============================] - 1s 237ms/step - loss: 0.5919 - accuracy: 0.5953 - val_loss: 0.6175 - val_accuracy: 0.4667\n",
      "Epoch 159/275\n",
      "6/6 [==============================] - 1s 225ms/step - loss: 0.5914 - accuracy: 0.5776 - val_loss: 0.5801 - val_accuracy: 0.4833\n",
      "Epoch 160/275\n",
      "6/6 [==============================] - 1s 240ms/step - loss: 0.5748 - accuracy: 0.6190 - val_loss: 0.5652 - val_accuracy: 0.5000\n",
      "Epoch 161/275\n",
      "6/6 [==============================] - 1s 241ms/step - loss: 0.5700 - accuracy: 0.6110 - val_loss: 0.5543 - val_accuracy: 0.5167\n",
      "Epoch 162/275\n",
      "6/6 [==============================] - 1s 221ms/step - loss: 0.5592 - accuracy: 0.6530 - val_loss: 0.5452 - val_accuracy: 0.6167\n",
      "Epoch 163/275\n",
      "6/6 [==============================] - 1s 223ms/step - loss: 0.5386 - accuracy: 0.6491 - val_loss: 0.5524 - val_accuracy: 0.5167\n",
      "Epoch 164/275\n",
      "6/6 [==============================] - 1s 226ms/step - loss: 0.5761 - accuracy: 0.5925 - val_loss: 0.5385 - val_accuracy: 0.6667\n",
      "Epoch 165/275\n",
      "6/6 [==============================] - 1s 222ms/step - loss: 0.5639 - accuracy: 0.6104 - val_loss: 0.5579 - val_accuracy: 0.5167\n",
      "Epoch 166/275\n",
      "6/6 [==============================] - 1s 227ms/step - loss: 0.5365 - accuracy: 0.7160 - val_loss: 0.5844 - val_accuracy: 0.5000\n",
      "Epoch 167/275\n",
      "6/6 [==============================] - 1s 239ms/step - loss: 0.5653 - accuracy: 0.6855 - val_loss: 0.5486 - val_accuracy: 0.6167\n",
      "Epoch 168/275\n",
      "6/6 [==============================] - 2s 260ms/step - loss: 0.5590 - accuracy: 0.6265 - val_loss: 0.5941 - val_accuracy: 0.5000\n",
      "Epoch 169/275\n",
      "6/6 [==============================] - 1s 238ms/step - loss: 0.5292 - accuracy: 0.6790 - val_loss: 0.5856 - val_accuracy: 0.5000\n",
      "Epoch 170/275\n",
      "6/6 [==============================] - 1s 231ms/step - loss: 0.5558 - accuracy: 0.6814 - val_loss: 0.5695 - val_accuracy: 0.5333\n",
      "Epoch 171/275\n",
      "6/6 [==============================] - 1s 246ms/step - loss: 0.5490 - accuracy: 0.7245 - val_loss: 0.5442 - val_accuracy: 0.6500\n",
      "Epoch 172/275\n",
      "6/6 [==============================] - 1s 225ms/step - loss: 0.5700 - accuracy: 0.6403 - val_loss: 0.5979 - val_accuracy: 0.4667\n",
      "Epoch 173/275\n",
      "6/6 [==============================] - 1s 230ms/step - loss: 0.5549 - accuracy: 0.6630 - val_loss: 0.5730 - val_accuracy: 0.5000\n",
      "Epoch 174/275\n",
      "6/6 [==============================] - 1s 233ms/step - loss: 0.5552 - accuracy: 0.6882 - val_loss: 0.5522 - val_accuracy: 0.5667\n",
      "Epoch 175/275\n",
      "6/6 [==============================] - 1s 220ms/step - loss: 0.5491 - accuracy: 0.6498 - val_loss: 0.6397 - val_accuracy: 0.5000\n",
      "Epoch 176/275\n",
      "6/6 [==============================] - 1s 236ms/step - loss: 0.5723 - accuracy: 0.6582 - val_loss: 0.6021 - val_accuracy: 0.5000\n",
      "Epoch 177/275\n",
      "6/6 [==============================] - 1s 221ms/step - loss: 0.5588 - accuracy: 0.6700 - val_loss: 0.6540 - val_accuracy: 0.4833\n",
      "Epoch 178/275\n",
      "6/6 [==============================] - 1s 224ms/step - loss: 0.5738 - accuracy: 0.6003 - val_loss: 0.6442 - val_accuracy: 0.5000\n",
      "Epoch 179/275\n",
      "6/6 [==============================] - 1s 240ms/step - loss: 0.5551 - accuracy: 0.6433 - val_loss: 0.5429 - val_accuracy: 0.6167\n",
      "Epoch 180/275\n",
      "6/6 [==============================] - 1s 221ms/step - loss: 0.5512 - accuracy: 0.6776 - val_loss: 0.5636 - val_accuracy: 0.5833\n",
      "Epoch 181/275\n",
      "6/6 [==============================] - 1s 227ms/step - loss: 0.5446 - accuracy: 0.6765 - val_loss: 0.5470 - val_accuracy: 0.5333\n",
      "Epoch 182/275\n",
      "6/6 [==============================] - 1s 229ms/step - loss: 0.5505 - accuracy: 0.6638 - val_loss: 0.5480 - val_accuracy: 0.5500\n",
      "Epoch 183/275\n",
      "6/6 [==============================] - 1s 222ms/step - loss: 0.5391 - accuracy: 0.6923 - val_loss: 0.5616 - val_accuracy: 0.6167\n",
      "Epoch 184/275\n",
      "6/6 [==============================] - 1s 224ms/step - loss: 0.5706 - accuracy: 0.6034 - val_loss: 0.5732 - val_accuracy: 0.5500\n",
      "Epoch 185/275\n",
      "6/6 [==============================] - 1s 227ms/step - loss: 0.5158 - accuracy: 0.6921 - val_loss: 0.5826 - val_accuracy: 0.5500\n",
      "Epoch 186/275\n",
      "6/6 [==============================] - 1s 226ms/step - loss: 0.5476 - accuracy: 0.6016 - val_loss: 0.5599 - val_accuracy: 0.6000\n",
      "Epoch 187/275\n",
      "6/6 [==============================] - 1s 224ms/step - loss: 0.5322 - accuracy: 0.7009 - val_loss: 0.5424 - val_accuracy: 0.6500\n",
      "Epoch 188/275\n",
      "6/6 [==============================] - 1s 225ms/step - loss: 0.4957 - accuracy: 0.7544 - val_loss: 0.5723 - val_accuracy: 0.5833\n",
      "Epoch 189/275\n",
      "6/6 [==============================] - 1s 223ms/step - loss: 0.5656 - accuracy: 0.6580 - val_loss: 0.6249 - val_accuracy: 0.5333\n",
      "Epoch 190/275\n",
      "6/6 [==============================] - 1s 227ms/step - loss: 0.6213 - accuracy: 0.5896 - val_loss: 0.6239 - val_accuracy: 0.5167\n",
      "Epoch 191/275\n",
      "6/6 [==============================] - 1s 232ms/step - loss: 0.6014 - accuracy: 0.6051 - val_loss: 0.6621 - val_accuracy: 0.4833\n",
      "Epoch 192/275\n",
      "6/6 [==============================] - 1s 234ms/step - loss: 0.6049 - accuracy: 0.6090 - val_loss: 0.7270 - val_accuracy: 0.4833\n",
      "Epoch 193/275\n",
      "6/6 [==============================] - 1s 231ms/step - loss: 0.6017 - accuracy: 0.6423 - val_loss: 0.6184 - val_accuracy: 0.4833\n",
      "Epoch 194/275\n",
      "6/6 [==============================] - 1s 230ms/step - loss: 0.5401 - accuracy: 0.6710 - val_loss: 0.5571 - val_accuracy: 0.5000\n",
      "Epoch 195/275\n",
      "6/6 [==============================] - 1s 224ms/step - loss: 0.5631 - accuracy: 0.5701 - val_loss: 0.5442 - val_accuracy: 0.5833\n",
      "Epoch 196/275\n",
      "6/6 [==============================] - 1s 226ms/step - loss: 0.5545 - accuracy: 0.6712 - val_loss: 0.5432 - val_accuracy: 0.7167\n",
      "Epoch 197/275\n",
      "6/6 [==============================] - 1s 227ms/step - loss: 0.5212 - accuracy: 0.7523 - val_loss: 0.6331 - val_accuracy: 0.4333\n",
      "Epoch 198/275\n",
      "6/6 [==============================] - 1s 234ms/step - loss: 0.5807 - accuracy: 0.6152 - val_loss: 0.5523 - val_accuracy: 0.6333\n",
      "Epoch 199/275\n",
      "6/6 [==============================] - 1s 223ms/step - loss: 0.5551 - accuracy: 0.6423 - val_loss: 0.5275 - val_accuracy: 0.6167\n",
      "Epoch 200/275\n",
      "6/6 [==============================] - 1s 231ms/step - loss: 0.5179 - accuracy: 0.7511 - val_loss: 0.5707 - val_accuracy: 0.5333\n",
      "Epoch 201/275\n",
      "6/6 [==============================] - 1s 229ms/step - loss: 0.5520 - accuracy: 0.5900 - val_loss: 0.5577 - val_accuracy: 0.6000\n",
      "Epoch 202/275\n",
      "6/6 [==============================] - 1s 225ms/step - loss: 0.5189 - accuracy: 0.7054 - val_loss: 0.5208 - val_accuracy: 0.6667\n",
      "Epoch 203/275\n",
      "6/6 [==============================] - 1s 234ms/step - loss: 0.5281 - accuracy: 0.7360 - val_loss: 0.5759 - val_accuracy: 0.5000\n",
      "Epoch 204/275\n",
      "6/6 [==============================] - 1s 227ms/step - loss: 0.5081 - accuracy: 0.7146 - val_loss: 0.5451 - val_accuracy: 0.6667\n",
      "Epoch 205/275\n",
      "6/6 [==============================] - 1s 229ms/step - loss: 0.5357 - accuracy: 0.7129 - val_loss: 0.5472 - val_accuracy: 0.6833\n",
      "Epoch 206/275\n",
      "6/6 [==============================] - 1s 233ms/step - loss: 0.4909 - accuracy: 0.7265 - val_loss: 0.5998 - val_accuracy: 0.4833\n",
      "Epoch 207/275\n",
      "6/6 [==============================] - 1s 225ms/step - loss: 0.5336 - accuracy: 0.6940 - val_loss: 0.5453 - val_accuracy: 0.6333\n",
      "Epoch 208/275\n",
      "6/6 [==============================] - 1s 222ms/step - loss: 0.5160 - accuracy: 0.6838 - val_loss: 0.5883 - val_accuracy: 0.5667\n",
      "Epoch 209/275\n",
      "6/6 [==============================] - 1s 222ms/step - loss: 0.5226 - accuracy: 0.7026 - val_loss: 0.5366 - val_accuracy: 0.7000\n",
      "Epoch 210/275\n",
      "6/6 [==============================] - 1s 229ms/step - loss: 0.5044 - accuracy: 0.7326 - val_loss: 0.5288 - val_accuracy: 0.6000\n",
      "Epoch 211/275\n",
      "6/6 [==============================] - 1s 228ms/step - loss: 0.5332 - accuracy: 0.7036 - val_loss: 0.5579 - val_accuracy: 0.6000\n",
      "Epoch 212/275\n",
      "6/6 [==============================] - 1s 223ms/step - loss: 0.5172 - accuracy: 0.6995 - val_loss: 0.5404 - val_accuracy: 0.6167\n",
      "Epoch 213/275\n",
      "6/6 [==============================] - 1s 223ms/step - loss: 0.4885 - accuracy: 0.7208 - val_loss: 0.5845 - val_accuracy: 0.5167\n",
      "Epoch 214/275\n",
      "6/6 [==============================] - 1s 224ms/step - loss: 0.5029 - accuracy: 0.7111 - val_loss: 0.5188 - val_accuracy: 0.7000\n",
      "Epoch 215/275\n",
      "6/6 [==============================] - 1s 228ms/step - loss: 0.4906 - accuracy: 0.7417 - val_loss: 0.5590 - val_accuracy: 0.5500\n",
      "Epoch 216/275\n",
      "6/6 [==============================] - 1s 222ms/step - loss: 0.5289 - accuracy: 0.6582 - val_loss: 0.5724 - val_accuracy: 0.5333\n",
      "Epoch 217/275\n",
      "6/6 [==============================] - 1s 226ms/step - loss: 0.4853 - accuracy: 0.7158 - val_loss: 0.6007 - val_accuracy: 0.4500\n",
      "Epoch 218/275\n",
      "6/6 [==============================] - 1s 226ms/step - loss: 0.5194 - accuracy: 0.7122 - val_loss: 0.5657 - val_accuracy: 0.6667\n",
      "Epoch 219/275\n",
      "6/6 [==============================] - 1s 229ms/step - loss: 0.4959 - accuracy: 0.7420 - val_loss: 0.5889 - val_accuracy: 0.5833\n",
      "Epoch 220/275\n",
      "6/6 [==============================] - 1s 227ms/step - loss: 0.4638 - accuracy: 0.7805 - val_loss: 0.5582 - val_accuracy: 0.6667\n",
      "Epoch 221/275\n",
      "6/6 [==============================] - 1s 222ms/step - loss: 0.4808 - accuracy: 0.7371 - val_loss: 0.4961 - val_accuracy: 0.7333\n",
      "Epoch 222/275\n",
      "6/6 [==============================] - 1s 226ms/step - loss: 0.5053 - accuracy: 0.7010 - val_loss: 0.5095 - val_accuracy: 0.6833\n",
      "Epoch 223/275\n",
      "6/6 [==============================] - 1s 229ms/step - loss: 0.5301 - accuracy: 0.6929 - val_loss: 0.5301 - val_accuracy: 0.6167\n",
      "Epoch 224/275\n",
      "6/6 [==============================] - 1s 224ms/step - loss: 0.5157 - accuracy: 0.7072 - val_loss: 0.6464 - val_accuracy: 0.5333\n",
      "Epoch 225/275\n",
      "6/6 [==============================] - 1s 227ms/step - loss: 0.5629 - accuracy: 0.6650 - val_loss: 0.6345 - val_accuracy: 0.5333\n",
      "Epoch 226/275\n",
      "6/6 [==============================] - 1s 241ms/step - loss: 0.6243 - accuracy: 0.5832 - val_loss: 0.5931 - val_accuracy: 0.6000\n",
      "Epoch 227/275\n",
      "6/6 [==============================] - 1s 246ms/step - loss: 0.5242 - accuracy: 0.6809 - val_loss: 0.5681 - val_accuracy: 0.5500\n",
      "Epoch 228/275\n",
      "6/6 [==============================] - 2s 253ms/step - loss: 0.5715 - accuracy: 0.6361 - val_loss: 0.5196 - val_accuracy: 0.6667\n",
      "Epoch 229/275\n",
      "6/6 [==============================] - 1s 253ms/step - loss: 0.5166 - accuracy: 0.7027 - val_loss: 0.5327 - val_accuracy: 0.5333\n",
      "Epoch 230/275\n",
      "6/6 [==============================] - 2s 299ms/step - loss: 0.5361 - accuracy: 0.6780 - val_loss: 0.5493 - val_accuracy: 0.6667\n",
      "Epoch 231/275\n",
      "6/6 [==============================] - 2s 276ms/step - loss: 0.5574 - accuracy: 0.6636 - val_loss: 0.5444 - val_accuracy: 0.6000\n",
      "Epoch 232/275\n",
      "6/6 [==============================] - 1s 237ms/step - loss: 0.4954 - accuracy: 0.6849 - val_loss: 0.5553 - val_accuracy: 0.6833\n",
      "Epoch 233/275\n",
      "6/6 [==============================] - 1s 234ms/step - loss: 0.4991 - accuracy: 0.7402 - val_loss: 0.4767 - val_accuracy: 0.6667\n",
      "Epoch 234/275\n",
      "6/6 [==============================] - 1s 231ms/step - loss: 0.5097 - accuracy: 0.6751 - val_loss: 0.5266 - val_accuracy: 0.7167\n",
      "Epoch 235/275\n",
      "6/6 [==============================] - 1s 231ms/step - loss: 0.4988 - accuracy: 0.7428 - val_loss: 0.5342 - val_accuracy: 0.5667\n",
      "Epoch 236/275\n",
      "6/6 [==============================] - 1s 250ms/step - loss: 0.4630 - accuracy: 0.7613 - val_loss: 0.5302 - val_accuracy: 0.6833\n",
      "Epoch 237/275\n",
      "6/6 [==============================] - 1s 225ms/step - loss: 0.4863 - accuracy: 0.7744 - val_loss: 0.4996 - val_accuracy: 0.7167\n",
      "Epoch 238/275\n",
      "6/6 [==============================] - 1s 224ms/step - loss: 0.4814 - accuracy: 0.7404 - val_loss: 0.5254 - val_accuracy: 0.7000\n",
      "Epoch 239/275\n",
      "6/6 [==============================] - 1s 229ms/step - loss: 0.4647 - accuracy: 0.7767 - val_loss: 0.6202 - val_accuracy: 0.5167\n",
      "Epoch 240/275\n",
      "6/6 [==============================] - 1s 228ms/step - loss: 0.4849 - accuracy: 0.6985 - val_loss: 0.5396 - val_accuracy: 0.7000\n",
      "Epoch 241/275\n",
      "6/6 [==============================] - 1s 241ms/step - loss: 0.4594 - accuracy: 0.7496 - val_loss: 0.5018 - val_accuracy: 0.7000\n",
      "Epoch 242/275\n",
      "6/6 [==============================] - 1s 245ms/step - loss: 0.4555 - accuracy: 0.7572 - val_loss: 0.4925 - val_accuracy: 0.7333\n",
      "Epoch 243/275\n",
      "6/6 [==============================] - 1s 250ms/step - loss: 0.4572 - accuracy: 0.7724 - val_loss: 0.4628 - val_accuracy: 0.7333\n",
      "Epoch 244/275\n",
      "6/6 [==============================] - 1s 241ms/step - loss: 0.4557 - accuracy: 0.7926 - val_loss: 0.5687 - val_accuracy: 0.6333\n",
      "Epoch 245/275\n",
      "6/6 [==============================] - 1s 240ms/step - loss: 0.5264 - accuracy: 0.6792 - val_loss: 0.6799 - val_accuracy: 0.5000\n",
      "Epoch 246/275\n",
      "6/6 [==============================] - 2s 314ms/step - loss: 0.5148 - accuracy: 0.6851 - val_loss: 0.5812 - val_accuracy: 0.6333\n",
      "Epoch 247/275\n",
      "6/6 [==============================] - 2s 279ms/step - loss: 0.5065 - accuracy: 0.6972 - val_loss: 0.5455 - val_accuracy: 0.6000\n",
      "Epoch 248/275\n",
      "6/6 [==============================] - 1s 226ms/step - loss: 0.5507 - accuracy: 0.6755 - val_loss: 0.5159 - val_accuracy: 0.7167\n",
      "Epoch 249/275\n",
      "6/6 [==============================] - 1s 221ms/step - loss: 0.4685 - accuracy: 0.7261 - val_loss: 0.5912 - val_accuracy: 0.5833\n",
      "Epoch 250/275\n",
      "6/6 [==============================] - 1s 237ms/step - loss: 0.4714 - accuracy: 0.7112 - val_loss: 0.6014 - val_accuracy: 0.6667\n",
      "Epoch 251/275\n",
      "6/6 [==============================] - 1s 230ms/step - loss: 0.4813 - accuracy: 0.7270 - val_loss: 0.5488 - val_accuracy: 0.6500\n",
      "Epoch 252/275\n",
      "6/6 [==============================] - 1s 225ms/step - loss: 0.4615 - accuracy: 0.7086 - val_loss: 0.5113 - val_accuracy: 0.7167\n",
      "Epoch 253/275\n",
      "6/6 [==============================] - 1s 227ms/step - loss: 0.5110 - accuracy: 0.7233 - val_loss: 0.5497 - val_accuracy: 0.6167\n",
      "Epoch 254/275\n",
      "6/6 [==============================] - 1s 226ms/step - loss: 0.5319 - accuracy: 0.6989 - val_loss: 0.4720 - val_accuracy: 0.7333\n",
      "Epoch 255/275\n",
      "6/6 [==============================] - 1s 231ms/step - loss: 0.5021 - accuracy: 0.6939 - val_loss: 0.5244 - val_accuracy: 0.7000\n",
      "Epoch 256/275\n",
      "6/6 [==============================] - 1s 227ms/step - loss: 0.4814 - accuracy: 0.7519 - val_loss: 0.5535 - val_accuracy: 0.6000\n",
      "Epoch 257/275\n",
      "6/6 [==============================] - 1s 223ms/step - loss: 0.4869 - accuracy: 0.7312 - val_loss: 0.4980 - val_accuracy: 0.7333\n",
      "Epoch 258/275\n",
      "6/6 [==============================] - 1s 228ms/step - loss: 0.4602 - accuracy: 0.7535 - val_loss: 0.5521 - val_accuracy: 0.6667\n",
      "Epoch 259/275\n",
      "6/6 [==============================] - 1s 240ms/step - loss: 0.4413 - accuracy: 0.7815 - val_loss: 0.5695 - val_accuracy: 0.6333\n",
      "Epoch 260/275\n",
      "6/6 [==============================] - 1s 233ms/step - loss: 0.4641 - accuracy: 0.7619 - val_loss: 0.5435 - val_accuracy: 0.6500\n",
      "Epoch 261/275\n",
      "6/6 [==============================] - 1s 232ms/step - loss: 0.4632 - accuracy: 0.7580 - val_loss: 0.5199 - val_accuracy: 0.6667\n",
      "Epoch 262/275\n",
      "6/6 [==============================] - 1s 240ms/step - loss: 0.4520 - accuracy: 0.7836 - val_loss: 0.5842 - val_accuracy: 0.7000\n",
      "Epoch 263/275\n",
      "6/6 [==============================] - 1s 226ms/step - loss: 0.4905 - accuracy: 0.7213 - val_loss: 0.4946 - val_accuracy: 0.7167\n",
      "Epoch 264/275\n",
      "6/6 [==============================] - 1s 228ms/step - loss: 0.4367 - accuracy: 0.7738 - val_loss: 0.5377 - val_accuracy: 0.6833\n",
      "Epoch 265/275\n",
      "6/6 [==============================] - 1s 232ms/step - loss: 0.5082 - accuracy: 0.7249 - val_loss: 0.5604 - val_accuracy: 0.5833\n",
      "Epoch 266/275\n",
      "6/6 [==============================] - 1s 236ms/step - loss: 0.4701 - accuracy: 0.7356 - val_loss: 0.6011 - val_accuracy: 0.5833\n",
      "Epoch 267/275\n",
      "6/6 [==============================] - 1s 232ms/step - loss: 0.5093 - accuracy: 0.7659 - val_loss: 0.5509 - val_accuracy: 0.6000\n",
      "Epoch 268/275\n",
      "6/6 [==============================] - 1s 229ms/step - loss: 0.5252 - accuracy: 0.6933 - val_loss: 0.5656 - val_accuracy: 0.6833\n",
      "Epoch 269/275\n",
      "6/6 [==============================] - 1s 231ms/step - loss: 0.5608 - accuracy: 0.6708 - val_loss: 0.4915 - val_accuracy: 0.6333\n",
      "Epoch 270/275\n",
      "6/6 [==============================] - 1s 235ms/step - loss: 0.5591 - accuracy: 0.6700 - val_loss: 0.6194 - val_accuracy: 0.5833\n",
      "Epoch 271/275\n",
      "6/6 [==============================] - 1s 227ms/step - loss: 0.5267 - accuracy: 0.7335 - val_loss: 0.5183 - val_accuracy: 0.6667\n",
      "Epoch 272/275\n",
      "6/6 [==============================] - 1s 224ms/step - loss: 0.4659 - accuracy: 0.7043 - val_loss: 0.5251 - val_accuracy: 0.6167\n",
      "Epoch 273/275\n",
      "6/6 [==============================] - 1s 245ms/step - loss: 0.4417 - accuracy: 0.6915 - val_loss: 0.5204 - val_accuracy: 0.7333\n",
      "Epoch 274/275\n",
      "6/6 [==============================] - 1s 233ms/step - loss: 0.4760 - accuracy: 0.7221 - val_loss: 0.5026 - val_accuracy: 0.7000\n",
      "Epoch 275/275\n",
      "6/6 [==============================] - 1s 228ms/step - loss: 0.4957 - accuracy: 0.7683 - val_loss: 0.5197 - val_accuracy: 0.7167\n"
     ]
    },
    {
     "data": {
      "text/plain": [
       "<tensorflow.python.keras.callbacks.History at 0x7fbed80862e0>"
      ]
     },
     "execution_count": 19,
     "metadata": {},
     "output_type": "execute_result"
    }
   ],
   "source": [
    "early_stopping = EarlyStopping(patience=275, restore_best_weights=True)\n",
    "\n",
    "cnn_calc.fit(train_data, \n",
    "             validation_data=test_data, \n",
    "             epochs=275,\n",
    "             callbacks=[early_stopping])"
   ]
  },
  {
   "cell_type": "code",
   "execution_count": 20,
   "id": "6a3e3b38",
   "metadata": {},
   "outputs": [
    {
     "name": "stdout",
     "output_type": "stream",
     "text": [
      "6/6 [==============================] - 0s 53ms/step - loss: 0.4595 - accuracy: 0.7667\n",
      "Test_loss_value = 0.4595465362071991\n",
      "test_accuracy = 0.7666666507720947\n"
     ]
    }
   ],
   "source": [
    "loss_value , accuracy = cnn_calc.evaluate(train_data)\n",
    "\n",
    "print('Test_loss_value = ' +str(loss_value))\n",
    "print('test_accuracy = ' + str(accuracy))"
   ]
  },
  {
   "cell_type": "markdown",
   "id": "349f60b5",
   "metadata": {},
   "source": [
    "#### Making predictions"
   ]
  },
  {
   "cell_type": "code",
   "execution_count": 21,
   "id": "550a96dc",
   "metadata": {},
   "outputs": [],
   "source": [
    "y_pred = cnn_calc.predict(test_data)\n",
    "predicted = [np.argmax(w) for w in y_pred]\n",
    "expected = test_data.labels"
   ]
  },
  {
   "cell_type": "markdown",
   "id": "2ff8464f",
   "metadata": {},
   "source": [
    "#### Confusion Matrix"
   ]
  },
  {
   "cell_type": "code",
   "execution_count": 22,
   "id": "acf91fce",
   "metadata": {},
   "outputs": [
    {
     "data": {
      "text/plain": [
       "array([[23, 14],\n",
       "       [ 2, 21]])"
      ]
     },
     "execution_count": 22,
     "metadata": {},
     "output_type": "execute_result"
    }
   ],
   "source": [
    "confusion_matrix(expected, predicted)"
   ]
  },
  {
   "cell_type": "markdown",
   "id": "1660453b",
   "metadata": {},
   "source": [
    "#### Classification Report"
   ]
  },
  {
   "cell_type": "code",
   "execution_count": 23,
   "id": "ef9db013",
   "metadata": {},
   "outputs": [
    {
     "name": "stdout",
     "output_type": "stream",
     "text": [
      "              precision    recall  f1-score   support\n",
      "\n",
      "           0       0.92      0.62      0.74        37\n",
      "           1       0.60      0.91      0.72        23\n",
      "\n",
      "    accuracy                           0.73        60\n",
      "   macro avg       0.76      0.77      0.73        60\n",
      "weighted avg       0.80      0.73      0.74        60\n",
      "\n"
     ]
    }
   ],
   "source": [
    "print(classification_report(expected, predicted))"
   ]
  },
  {
   "cell_type": "code",
   "execution_count": null,
   "id": "444c4424",
   "metadata": {},
   "outputs": [],
   "source": []
  },
  {
   "cell_type": "markdown",
   "id": "6e771365",
   "metadata": {},
   "source": [
    "#### Results"
   ]
  },
  {
   "cell_type": "code",
   "execution_count": 24,
   "id": "0b606504",
   "metadata": {},
   "outputs": [
    {
     "ename": "NameError",
     "evalue": "name 'hist' is not defined",
     "output_type": "error",
     "traceback": [
      "\u001b[0;31m---------------------------------------------------------------------------\u001b[0m",
      "\u001b[0;31mNameError\u001b[0m                                 Traceback (most recent call last)",
      "\u001b[0;32m<ipython-input-24-1b6186642a0f>\u001b[0m in \u001b[0;36m<module>\u001b[0;34m\u001b[0m\n\u001b[1;32m     38\u001b[0m     \u001b[0mplt\u001b[0m\u001b[0;34m.\u001b[0m\u001b[0mshow\u001b[0m\u001b[0;34m(\u001b[0m\u001b[0;34m)\u001b[0m\u001b[0;34m\u001b[0m\u001b[0;34m\u001b[0m\u001b[0m\n\u001b[1;32m     39\u001b[0m \u001b[0;34m\u001b[0m\u001b[0m\n\u001b[0;32m---> 40\u001b[0;31m visualize_result = Visualize_Result(hist.history['accuracy'],\n\u001b[0m\u001b[1;32m     41\u001b[0m                                     \u001b[0mhist\u001b[0m\u001b[0;34m.\u001b[0m\u001b[0mhistory\u001b[0m\u001b[0;34m[\u001b[0m\u001b[0;34m'val_accuracy'\u001b[0m\u001b[0;34m]\u001b[0m\u001b[0;34m,\u001b[0m\u001b[0;34m\u001b[0m\u001b[0;34m\u001b[0m\u001b[0m\n\u001b[1;32m     42\u001b[0m                                     \u001b[0mhist\u001b[0m\u001b[0;34m.\u001b[0m\u001b[0mhistory\u001b[0m\u001b[0;34m[\u001b[0m\u001b[0;34m'loss'\u001b[0m\u001b[0;34m]\u001b[0m\u001b[0;34m,\u001b[0m\u001b[0;34m\u001b[0m\u001b[0;34m\u001b[0m\u001b[0m\n",
      "\u001b[0;31mNameError\u001b[0m: name 'hist' is not defined"
     ]
    }
   ],
   "source": [
    "def Visualize_Result(acc,val_acc,loss, val_loss):\n",
    "    fig, (ax1, ax2) = plt.subplots(nrows = 1,\n",
    "                                   ncols = 2,\n",
    "                                   figsize = (15,6),\n",
    "                                   sharex =True)\n",
    "\n",
    "    plot1 = ax1.plot(range(0, len(acc)),\n",
    "                     acc,\n",
    "                     label = 'accuracy')\n",
    "\n",
    "    plot2 = ax1.plot(range(0, len(val_acc)),\n",
    "                     val_acc,\n",
    "                     label = 'val_accuracy')\n",
    "\n",
    "    ax1.set(title = 'Accuracy And Val Accuracy progress',\n",
    "            xlabel = 'epoch',\n",
    "            ylabel = 'accuracy/ validation accuracy')\n",
    "\n",
    "    ax1.legend()\n",
    "\n",
    "    plot3 = ax2.plot(range(0, len(loss)),\n",
    "                     loss,\n",
    "                     label = 'loss')\n",
    "    \n",
    "    plot4 = ax2.plot(range(0, len(val_loss)),\n",
    "                     val_loss,\n",
    "                     label = 'val_loss')\n",
    "    \n",
    "    ax2.set(title = 'Loss And Val loss progress',\n",
    "            xlabel = 'epoch',\n",
    "            ylabel = 'loss/ validation loss')\n",
    "\n",
    "    ax2.legend()\n",
    "\n",
    "    fig.suptitle('Result Of Model', fontsize = 20, fontweight = 'bold')\n",
    "    fig.savefig('Accuracy_Loss_figure.png')\n",
    "    plt.tight_layout()\n",
    "    plt.show()\n",
    "\n",
    "visualize_result = Visualize_Result(hist.history['accuracy'],\n",
    "                                    hist.history['val_accuracy'], \n",
    "                                    hist.history['loss'], \n",
    "                                    hist.history['val_loss'])"
   ]
  },
  {
   "cell_type": "code",
   "execution_count": null,
   "id": "f4abc625",
   "metadata": {},
   "outputs": [],
   "source": []
  },
  {
   "cell_type": "code",
   "execution_count": null,
   "id": "1aecc7be",
   "metadata": {},
   "outputs": [],
   "source": []
  }
 ],
 "metadata": {
  "kernelspec": {
   "display_name": "Python 3",
   "language": "python",
   "name": "python3"
  },
  "language_info": {
   "codemirror_mode": {
    "name": "ipython",
    "version": 3
   },
   "file_extension": ".py",
   "mimetype": "text/x-python",
   "name": "python",
   "nbconvert_exporter": "python",
   "pygments_lexer": "ipython3",
   "version": "3.8.5"
  }
 },
 "nbformat": 4,
 "nbformat_minor": 5
}
