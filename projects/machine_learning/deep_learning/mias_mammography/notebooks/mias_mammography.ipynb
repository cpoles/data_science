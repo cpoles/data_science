{
 "cells": [
  {
   "cell_type": "code",
   "execution_count": null,
   "id": "mechanical-lotus",
   "metadata": {},
   "outputs": [],
   "source": [
    "import pandas as pd\n",
    "import matplotlib.pyplot as plt\n",
    "import matplotlib.image as mpimg\n",
    "from matplotlib.patches import Circle\n",
    "import numpy as np\n",
    "import os\n",
    "import sys"
   ]
  },
  {
   "cell_type": "code",
   "execution_count": null,
   "id": "popular-joshua",
   "metadata": {},
   "outputs": [],
   "source": [
    "sys.path.append('../src/')"
   ]
  },
  {
   "cell_type": "code",
   "execution_count": null,
   "id": "middle-advertiser",
   "metadata": {},
   "outputs": [],
   "source": [
    "from modules import helpers\n",
    "from modules import mammoscan"
   ]
  },
  {
   "cell_type": "code",
   "execution_count": null,
   "id": "subject-polish",
   "metadata": {},
   "outputs": [],
   "source": [
    "plt.style.use('dark_background') # comment or delete it for light background"
   ]
  },
  {
   "cell_type": "code",
   "execution_count": null,
   "id": "stuck-freeze",
   "metadata": {},
   "outputs": [],
   "source": [
    "mammo = pd.read_table('../scan_file_data.txt', delimiter='\\s', engine='python')"
   ]
  },
  {
   "cell_type": "code",
   "execution_count": null,
   "id": "diverse-extraction",
   "metadata": {},
   "outputs": [],
   "source": [
    "# rename the class column to avoid conflicts with the class keyword in python\n",
    "mammo.columns = ['refnum', 'bg', 'ab_class', 'severity', 'x', 'y', 'radius']"
   ]
  },
  {
   "cell_type": "code",
   "execution_count": null,
   "id": "mighty-millennium",
   "metadata": {},
   "outputs": [],
   "source": [
    "mammo.refnum.value_counts()"
   ]
  },
  {
   "cell_type": "code",
   "execution_count": null,
   "id": "constant-hunter",
   "metadata": {},
   "outputs": [],
   "source": [
    "mammo.severity.value_counts(normalize=True)"
   ]
  },
  {
   "cell_type": "code",
   "execution_count": null,
   "id": "regulation-telephone",
   "metadata": {},
   "outputs": [],
   "source": [
    "mammo.info()"
   ]
  },
  {
   "cell_type": "code",
   "execution_count": null,
   "id": "promising-corpus",
   "metadata": {},
   "outputs": [],
   "source": [
    "from pathlib import Path\n",
    "import re"
   ]
  },
  {
   "cell_type": "markdown",
   "id": "complete-imagination",
   "metadata": {},
   "source": [
    "INITIALLY REMOVE ONLY THE SCANS WITHOUT INVALID X ENTRY *NOTE"
   ]
  },
  {
   "cell_type": "code",
   "execution_count": null,
   "id": "lovely-secretary",
   "metadata": {},
   "outputs": [],
   "source": [
    "test_df = mammo.copy()"
   ]
  },
  {
   "cell_type": "code",
   "execution_count": null,
   "id": "functional-fantasy",
   "metadata": {},
   "outputs": [],
   "source": [
    "test_df.drop_duplicates(subset='refnum', keep='first', inplace=True)"
   ]
  },
  {
   "cell_type": "code",
   "execution_count": null,
   "id": "aboriginal-smooth",
   "metadata": {},
   "outputs": [],
   "source": [
    "test_df.set_index(keys='refnum', drop=True, inplace=True)"
   ]
  },
  {
   "cell_type": "code",
   "execution_count": null,
   "id": "published-defeat",
   "metadata": {},
   "outputs": [],
   "source": [
    "test_df.index;"
   ]
  },
  {
   "cell_type": "code",
   "execution_count": null,
   "id": "everyday-southeast",
   "metadata": {},
   "outputs": [],
   "source": [
    "def delete_image(filename: str, directory='../all-mias/'):\n",
    "    paths = Path(directory).glob('**/*.pgm')\n",
    "    filename += '.pgm'\n",
    "    for f_path in sorted(paths):\n",
    "        try:\n",
    "            if f_path.name == filename:\n",
    "                os.remove(f_path)\n",
    "                break\n",
    "        except FileNotFoundError as fnf:\n",
    "            print('{fnf}') \n",
    "        "
   ]
  },
  {
   "cell_type": "code",
   "execution_count": null,
   "id": "latest-glory",
   "metadata": {},
   "outputs": [],
   "source": [
    "def clean_ds_files(df: pd.DataFrame) -> pd.DataFrame:\n",
    "    new_df = df.copy()\n",
    "    # search for invalid x values for removal\n",
    "    indices = new_df.x[lambda x: x == '*NOTE'].index\n",
    "    \n",
    "    for idx in indices:\n",
    "        n_idx = new_df.index.get_loc(idx)\n",
    "        # drop from dataset\n",
    "        new_df.drop(new_df.index[n_idx], inplace=True)\n",
    "        # delete from directory\n",
    "        delete_image(idx)\n",
    "\n",
    "    # make x and y float values\n",
    "    new_df.x = new_df.x.astype(float)\n",
    "    new_df.y = new_df.y.astype(float)\n",
    "    \n",
    "    return new_df"
   ]
  },
  {
   "cell_type": "code",
   "execution_count": null,
   "id": "major-burst",
   "metadata": {},
   "outputs": [],
   "source": [
    "clean_df = clean_ds_files(test_df)"
   ]
  },
  {
   "cell_type": "code",
   "execution_count": null,
   "id": "polish-postcard",
   "metadata": {},
   "outputs": [],
   "source": [
    "clean_df.info()"
   ]
  },
  {
   "cell_type": "code",
   "execution_count": null,
   "id": "actual-violin",
   "metadata": {},
   "outputs": [],
   "source": [
    "# save clean to file\n",
    "test_df.to_csv('test_df.csv')"
   ]
  },
  {
   "cell_type": "code",
   "execution_count": null,
   "id": "expensive-messenger",
   "metadata": {},
   "outputs": [],
   "source": [
    "type(clean_df.loc['mdb005'])"
   ]
  },
  {
   "cell_type": "code",
   "execution_count": null,
   "id": "compressed-truth",
   "metadata": {},
   "outputs": [],
   "source": [
    "def create_scan_filenames_dic(path: str) -> dict:\n",
    "    '''Creates a dictionary with image filenames'''\n",
    "    paths = Path(path).glob('**/*.pgm')\n",
    "    img_dic = dict()\n",
    "    for f_path in sorted(paths):\n",
    "        # get full filename\n",
    "        full_fname = f_path.name\n",
    "        # get filename (no extension)\n",
    "        filename = f_path.stem\n",
    "        # create dictionary\n",
    "        img_dic[filename] = f_path.as_posix()\n",
    "    \n",
    "    return img_dic"
   ]
  },
  {
   "cell_type": "code",
   "execution_count": null,
   "id": "foster-proportion",
   "metadata": {},
   "outputs": [],
   "source": [
    "scan_info = clean_df.loc['mdb005'].copy() # need to ensure we get a deep copy of the Series to avoid changing a value in it and keeping the reference\n",
    "scan_info"
   ]
  },
  {
   "cell_type": "code",
   "execution_count": null,
   "id": "apart-wonder",
   "metadata": {},
   "outputs": [],
   "source": [
    "from PIL import Image"
   ]
  },
  {
   "cell_type": "code",
   "execution_count": null,
   "id": "specific-worthy",
   "metadata": {},
   "outputs": [],
   "source": [
    "test_img = Image.open('../all-mias/mdb005.pgm')\n",
    "test_img"
   ]
  },
  {
   "cell_type": "code",
   "execution_count": null,
   "id": "domestic-capacity",
   "metadata": {},
   "outputs": [],
   "source": [
    "class MammoScan:\n",
    "    def __init__(self, scan, sc_info):\n",
    "        self._scan = scan\n",
    "        self._sc_info = sc_info\n",
    "    \n",
    "    @property\n",
    "    def scan(self):\n",
    "        return self._scan\n",
    "    \n",
    "    @property\n",
    "    def scan_info(self):\n",
    "        return self._sc_info\n",
    "    \n",
    "    @property\n",
    "    def x(self):\n",
    "        return self._sc_info.x\n",
    "    \n",
    "    @property\n",
    "    def y(self):\n",
    "        return self._sc_info.y\n",
    "    \n",
    "    @property\n",
    "    def radius(self):\n",
    "        return self._sc_info.radius\n",
    "\n",
    "    @property\n",
    "    def ab_class(self):\n",
    "        return self._sc_info.ab_class\n",
    "    \n",
    "    @property\n",
    "    def bg(self):\n",
    "        return self._sc_info.bg\n",
    "    \n",
    "    @property\n",
    "    def severity(self):\n",
    "        return self._sc_info.severity\n",
    "\n",
    "    @property\n",
    "    def transformations(self):\n",
    "        return self.__transform()\n",
    "    \n",
    "    # instance method\n",
    "    def plot(self):\n",
    "        img = self.scan\n",
    "\n",
    "        # Create a figure. Equal aspect so circles look circular\n",
    "        fig, ax = plt.subplots(1)\n",
    "\n",
    "        fig.set_size_inches(12, 10)\n",
    "        ax.set_aspect('equal')\n",
    "\n",
    "        # Show the image\n",
    "        ax.imshow(img)\n",
    "        ax.set_ylim(bottom=0, top=1024)\n",
    "\n",
    "        # create a circle to patch on the image\n",
    "        x = pd.to_numeric(self.x)\n",
    "        y = pd.to_numeric(self.y)\n",
    "        r = pd.to_numeric(self.radius)\n",
    "        circ = Circle((x,1024-y), r, fill=False)\n",
    "        ax.add_patch(circ)\n",
    "        print(x, y, r)\n",
    "    \n",
    "    # private method\n",
    "    def __set_x(self, xValue):\n",
    "        self._sc_info.x = xValue\n",
    "    \n",
    "    # private method\n",
    "    def __set_y(self, yValue):\n",
    "        self._sc_info.y = yValue\n",
    "    \n",
    "    # private method\n",
    "    def __set_radius(self, rValue):\n",
    "        self._sc_info.radius = rValue\n",
    "        \n",
    "    # private method\n",
    "    def __get_crop_coords(self):\n",
    "        '''Returns a tuple with x, y and r'''\n",
    "        # check scan class to decide on how to crop\n",
    "        if pd.isnull(self.radius):\n",
    "            self.__set_radius(48.0)\n",
    "        if pd.isnull(self.x):\n",
    "            x = float(np.random.randint(500, 513))\n",
    "            self.__set_x(x)\n",
    "        if pd.isnull(self.y):\n",
    "            y = float(np.random.randint(500, 513))\n",
    "            self.__set_y(y)\n",
    "            \n",
    "        return (self.x, self.y, self.radius)\n",
    "    \n",
    "    # private method\n",
    "    def __transform(self):\n",
    "        '''Creates a dict \n",
    "                  with rotated and mirrored versions of self.scan'''\n",
    "        # create dictionary\n",
    "        transformations = dict()\n",
    "        # get crop values\n",
    "        x, y, r = self.__get_crop_coords()\n",
    "        # crop and resize scan\n",
    "        cropped_scan = self.scan.crop((x-r, y-r, x+r, y+r))\n",
    "        resized_scan = cropped_scan.resize((48,48))\n",
    "        # create rotated images\n",
    "        for angle in [0, 90, 180, 270]:\n",
    "            rotated = resized_scan.rotate(angle) # rotated by angle\n",
    "            mirr_lr = rotated.transpose(Image.FLIP_LEFT_RIGHT)\n",
    "            mirr_tp = rotated.transpose(Image.FLIP_TOP_BOTTOM)\n",
    "            transformations[angle] = dict(zip(['rotated', 'mirr_lr', 'mirr_tp'], \n",
    "                                         [rotated, mirr_lr, mirr_tp]))\n",
    "\n",
    "        return transformations"
   ]
  },
  {
   "cell_type": "code",
   "execution_count": null,
   "id": "graphic-dealing",
   "metadata": {},
   "outputs": [],
   "source": [
    "test = MammoScan(test_img, scan_info)"
   ]
  },
  {
   "cell_type": "code",
   "execution_count": null,
   "id": "complete-nothing",
   "metadata": {},
   "outputs": [],
   "source": [
    "transformed = test.transformations"
   ]
  },
  {
   "cell_type": "code",
   "execution_count": null,
   "id": "funded-investor",
   "metadata": {},
   "outputs": [],
   "source": [
    "for angle, imgs in transformed.items():\n",
    "    for img in imgs.values():\n",
    "        print(angle)\n",
    "        display(img)\n",
    "        \n",
    "        \n",
    "# 90 degrees left-right == 270 degree top-bottom\n",
    "# 0 degrees left-right == 180 top-bottom"
   ]
  },
  {
   "cell_type": "code",
   "execution_count": null,
   "id": "endless-india",
   "metadata": {},
   "outputs": [],
   "source": [
    "scans_filenames_dic = create_scan_filenames_dic('../all-mias/')"
   ]
  },
  {
   "cell_type": "code",
   "execution_count": null,
   "id": "prescribed-evening",
   "metadata": {},
   "outputs": [],
   "source": [
    "def save_subsamples(scans_dic: dict(), df: pd.DataFrame) -> pd.DataFrame:\n",
    "    # define subsamples folder\n",
    "    folder = '../subsamples'\n",
    "    df_sub = pd.DataFrame()\n",
    "    try:\n",
    "        # create if not yet\n",
    "        if not os.path.exists(folder):\n",
    "            os.mkdir(folder)\n",
    "    except:\n",
    "        print('An error occurred when searching for the folder')\n",
    "        \n",
    " \n",
    "    # iterate dictionary of filenames\n",
    "    for scan_name, filename in scans_dic.items():\n",
    "        \n",
    "        # create image and scan info objects\n",
    "        try:\n",
    "            scan = Image.open(filename)\n",
    "        except FileNotFoundError as fnf:\n",
    "            print({fnf})\n",
    "            \n",
    "        scan_info = df.loc[scan_name].copy()\n",
    "        # create the MammoScan object\n",
    "        m_scan = MammoScan(scan, scan_info)\n",
    "        # get the transformations\n",
    "        transf_scans = m_scan.transformations\n",
    "        # create filenames\n",
    "        filenames = create_subsample_filename(scan_name, transf_scans)\n",
    "        # get transformed scans Image objects\n",
    "        imgs = get_transformed_scans(transf_scans)\n",
    "        # prepare for saving\n",
    "        fs_and_is = list(zip(filenames, imgs))\n",
    "        \n",
    "        for filename, image in fs_and_is:\n",
    "            # create new observation with subsample name\n",
    "            scan_info.name = filename\n",
    "            # append to dataframe\n",
    "            df_sub = df_sub.append(scan_info)\n",
    "            print(scan_name)\n",
    "            path = os.path.join('../subsamples', filename) \n",
    "            print(path)\n",
    "            try:\n",
    "                image.save(path, compress_level=0)\n",
    "            except ValueError as ve:\n",
    "                print('Output format could not be determined from the file name.')\n",
    "            except OSError as ose:\n",
    "                print('File could not be written.')\n",
    "                print({ose})\n",
    "        \n",
    "    return df_sub"
   ]
  },
  {
   "cell_type": "code",
   "execution_count": null,
   "id": "spanish-hypothetical",
   "metadata": {},
   "outputs": [],
   "source": [
    "def create_subsample_filename(scan_name: str, transf_dic: dict) -> list:\n",
    "    '''Creates suffix pattern filename for transformed scans'''\n",
    "    filename = ''\n",
    "    file_names = list()\n",
    "    for angle, transfs in transf_dic.items():\n",
    "        for tf in transfs.keys():\n",
    "            filename += f'{scan_name}_{angle}_{tf}.png'\n",
    "            #print(filename)\n",
    "            file_names.append(filename)\n",
    "            filename = ''\n",
    "     \n",
    "    return file_names"
   ]
  },
  {
   "cell_type": "code",
   "execution_count": null,
   "id": "infinite-programmer",
   "metadata": {},
   "outputs": [],
   "source": [
    "def get_transformed_scans(transf_dic: dict):\n",
    "    scans = list()\n",
    "    for angle, transfs in transf_dic.items():\n",
    "        for scan in transfs.values():\n",
    "            scans.append(scan)\n",
    "    \n",
    "    return scans"
   ]
  },
  {
   "cell_type": "code",
   "execution_count": null,
   "id": "hungarian-techno",
   "metadata": {},
   "outputs": [],
   "source": [
    "test_sub = save_subsamples(scans_filenames_dic, clean_df)"
   ]
  },
  {
   "cell_type": "code",
   "execution_count": null,
   "id": "christian-store",
   "metadata": {},
   "outputs": [],
   "source": [
    "test_sub"
   ]
  },
  {
   "cell_type": "code",
   "execution_count": null,
   "id": "destroyed-shaft",
   "metadata": {},
   "outputs": [],
   "source": [
    "def plot_scan(scan: MammoScan):\n",
    "    img = scan.scan\n",
    "\n",
    "    # Create a figure. Equal aspect so circles look circular\n",
    "    fig, ax = plt.subplots(1)\n",
    "\n",
    "    fig.set_size_inches(12, 10)\n",
    "    ax.set_aspect('equal')\n",
    "\n",
    "    # Show the image\n",
    "    ax.imshow(img)\n",
    "    ax.set_ylim(bottom=0, top=1024)\n",
    "\n",
    "    # create a circle to patch on the image\n",
    "    x = pd.to_numeric(scan.x)\n",
    "    y = pd.to_numeric(scan.y)\n",
    "    r = pd.to_numeric(scan.radius)\n",
    "    circ = Circle((x,1024-y), r, fill=False)\n",
    "    ax.add_patch(circ)\n",
    "    print(x, y, r)"
   ]
  },
  {
   "cell_type": "code",
   "execution_count": null,
   "id": "tribal-fairy",
   "metadata": {},
   "outputs": [],
   "source": [
    "test_df"
   ]
  },
  {
   "cell_type": "code",
   "execution_count": null,
   "id": "sealed-hanging",
   "metadata": {},
   "outputs": [],
   "source": [
    "newt = test.scan_info\n",
    "newt.name = 'test'"
   ]
  },
  {
   "cell_type": "code",
   "execution_count": null,
   "id": "figured-interim",
   "metadata": {},
   "outputs": [],
   "source": [
    "test_df.append(newt)"
   ]
  },
  {
   "cell_type": "code",
   "execution_count": null,
   "id": "substantial-tract",
   "metadata": {},
   "outputs": [],
   "source": []
  }
 ],
 "metadata": {
  "kernelspec": {
   "display_name": "Python 3",
   "language": "python",
   "name": "python3"
  },
  "language_info": {
   "codemirror_mode": {
    "name": "ipython",
    "version": 3
   },
   "file_extension": ".py",
   "mimetype": "text/x-python",
   "name": "python",
   "nbconvert_exporter": "python",
   "pygments_lexer": "ipython3",
   "version": "3.8.8"
  }
 },
 "nbformat": 4,
 "nbformat_minor": 5
}
