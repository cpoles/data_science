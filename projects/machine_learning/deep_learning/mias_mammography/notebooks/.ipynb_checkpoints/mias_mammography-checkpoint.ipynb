{
 "cells": [
  {
   "cell_type": "markdown",
   "id": "ee0537b7",
   "metadata": {},
   "source": [
    "# PROJECT : Mammography Classification Using CNNs"
   ]
  },
  {
   "cell_type": "markdown",
   "id": "de9c6a0b",
   "metadata": {},
   "source": [
    "DATASET: THE MIAS-MAMMOGRAPHY DATASET"
   ]
  },
  {
   "cell_type": "markdown",
   "id": "88003d22",
   "metadata": {},
   "source": [
    "INFORMATION:\n",
    "\n",
    "This file lists the films in the MIAS database and provides     \n",
    "appropriate details as follows:\n",
    "\n",
    "1st column: MIAS database reference number.\n",
    "\n",
    "2nd column: Character of background tissue: \n",
    "                F - Fatty \n",
    "                G - Fatty-glandular\n",
    "                D - Dense-glandular\n",
    "\n",
    "3rd column: Class of abnormality present:\n",
    "                CALC - Calcification\n",
    "                CIRC - Well-defined/circumscribed masses\n",
    "                SPIC - Spiculated masses\n",
    "                MISC - Other, ill-defined masses\n",
    "                ARCH - Architectural distortion\n",
    "                ASYM - Asymmetry\n",
    "                NORM - Normal\n",
    "\n",
    "4th column: Severity of abnormality;\n",
    "                B - Benign\n",
    "                M - Malignant\n",
    "                \n",
    "5th,6th columns: x,y image-coordinates of centre of abnormality.\n",
    "\n",
    "7th column: Approximate radius (in pixels) of a circle enclosing\n",
    "            the abnormality.\n",
    "            \n",
    "NOTES\n",
    "\n",
    "1- The list is arranged in pairs of films, where each pair \n",
    "   represents the left (even filename numbers) and right mammograms\n",
    "   (odd filename numbers) of a single patient.\n",
    "   \n",
    "2- The size of ALL the images is 1024 pixels x 1024 pixels. The images\n",
    "   have been centered in the matrix.  \n",
    "\n",
    "3- When calcifications are present, centre locations and radii \n",
    "   apply to clusters rather than individual calcifications.\n",
    "   Coordinate system origin is the bottom-left corner.\n",
    "\n",
    "4- In some cases calcifications are widely distributed throughout\n",
    "   the image rather than concentrated at a single site. In these\n",
    "   cases centre locations and radii are inappropriate and have\n",
    "   been omitted."
   ]
  },
  {
   "cell_type": "markdown",
   "id": "38e8901d",
   "metadata": {},
   "source": [
    "### Importing Libraries"
   ]
  },
  {
   "cell_type": "code",
   "execution_count": 1,
   "id": "bd78572b",
   "metadata": {},
   "outputs": [],
   "source": [
    "# system related\n",
    "import os\n",
    "import sys\n",
    "sys.path.append('../src/')\n",
    "# import custom modules\n",
    "from modules import helpers as hp\n",
    "from modules import mammoscan as ms\n",
    "\n",
    "# path manipulation\n",
    "from pathlib import Path\n",
    "\n",
    "# regex\n",
    "import re\n",
    "\n",
    "# plotting\n",
    "import matplotlib.pyplot as plt\n",
    "import matplotlib.image as mpimg\n",
    "from matplotlib.patches import Circle\n",
    "\n",
    "# data manipulation / preparation\n",
    "import numpy as np\n",
    "import pandas as pd\n",
    "from sklearn.model_selection import train_test_split\n",
    "from tensorflow.keras.preprocessing.image import ImageDataGenerator\n",
    "\n",
    "# image manipulation\n",
    "from PIL import Image\n",
    "from IPython.display import Image\n",
    "\n",
    "# metrics\n",
    "from sklearn.metrics import confusion_matrix, classification_report\n",
    "\n",
    "# keras\n",
    "from tensorflow.keras.models import Sequential\n",
    "from tensorflow.keras.layers import Conv2D, Dense, Flatten, MaxPooling2D, Dropout\n",
    "from tensorflow.keras.utils import plot_model\n",
    "from tensorflow.keras.callbacks import EarlyStopping"
   ]
  },
  {
   "cell_type": "markdown",
   "id": "d03b373a",
   "metadata": {},
   "source": [
    "### Data Collection"
   ]
  },
  {
   "cell_type": "markdown",
   "id": "6e1561de",
   "metadata": {},
   "source": [
    "#### Get the scans data"
   ]
  },
  {
   "cell_type": "code",
   "execution_count": 3,
   "id": "cc35f744",
   "metadata": {},
   "outputs": [
    {
     "data": {
      "text/html": [
       "<div>\n",
       "<style scoped>\n",
       "    .dataframe tbody tr th:only-of-type {\n",
       "        vertical-align: middle;\n",
       "    }\n",
       "\n",
       "    .dataframe tbody tr th {\n",
       "        vertical-align: top;\n",
       "    }\n",
       "\n",
       "    .dataframe thead th {\n",
       "        text-align: right;\n",
       "    }\n",
       "</style>\n",
       "<table border=\"1\" class=\"dataframe\">\n",
       "  <thead>\n",
       "    <tr style=\"text-align: right;\">\n",
       "      <th></th>\n",
       "      <th>bg</th>\n",
       "      <th>ab_class</th>\n",
       "      <th>severity</th>\n",
       "      <th>x</th>\n",
       "      <th>y</th>\n",
       "      <th>radius</th>\n",
       "    </tr>\n",
       "    <tr>\n",
       "      <th>refnum</th>\n",
       "      <th></th>\n",
       "      <th></th>\n",
       "      <th></th>\n",
       "      <th></th>\n",
       "      <th></th>\n",
       "      <th></th>\n",
       "    </tr>\n",
       "  </thead>\n",
       "  <tbody>\n",
       "    <tr>\n",
       "      <th>mdb001</th>\n",
       "      <td>G</td>\n",
       "      <td>CIRC</td>\n",
       "      <td>B</td>\n",
       "      <td>535.0</td>\n",
       "      <td>425.0</td>\n",
       "      <td>197.0</td>\n",
       "    </tr>\n",
       "    <tr>\n",
       "      <th>mdb002</th>\n",
       "      <td>G</td>\n",
       "      <td>CIRC</td>\n",
       "      <td>B</td>\n",
       "      <td>522.0</td>\n",
       "      <td>280.0</td>\n",
       "      <td>69.0</td>\n",
       "    </tr>\n",
       "    <tr>\n",
       "      <th>mdb003</th>\n",
       "      <td>D</td>\n",
       "      <td>NORM</td>\n",
       "      <td>A</td>\n",
       "      <td>NaN</td>\n",
       "      <td>NaN</td>\n",
       "      <td>NaN</td>\n",
       "    </tr>\n",
       "    <tr>\n",
       "      <th>mdb004</th>\n",
       "      <td>D</td>\n",
       "      <td>NORM</td>\n",
       "      <td>A</td>\n",
       "      <td>NaN</td>\n",
       "      <td>NaN</td>\n",
       "      <td>NaN</td>\n",
       "    </tr>\n",
       "    <tr>\n",
       "      <th>mdb005</th>\n",
       "      <td>F</td>\n",
       "      <td>CIRC</td>\n",
       "      <td>B</td>\n",
       "      <td>477.0</td>\n",
       "      <td>133.0</td>\n",
       "      <td>30.0</td>\n",
       "    </tr>\n",
       "    <tr>\n",
       "      <th>...</th>\n",
       "      <td>...</td>\n",
       "      <td>...</td>\n",
       "      <td>...</td>\n",
       "      <td>...</td>\n",
       "      <td>...</td>\n",
       "      <td>...</td>\n",
       "    </tr>\n",
       "    <tr>\n",
       "      <th>mdb318</th>\n",
       "      <td>D</td>\n",
       "      <td>NORM</td>\n",
       "      <td>A</td>\n",
       "      <td>NaN</td>\n",
       "      <td>NaN</td>\n",
       "      <td>NaN</td>\n",
       "    </tr>\n",
       "    <tr>\n",
       "      <th>mdb319</th>\n",
       "      <td>D</td>\n",
       "      <td>NORM</td>\n",
       "      <td>A</td>\n",
       "      <td>NaN</td>\n",
       "      <td>NaN</td>\n",
       "      <td>NaN</td>\n",
       "    </tr>\n",
       "    <tr>\n",
       "      <th>mdb320</th>\n",
       "      <td>D</td>\n",
       "      <td>NORM</td>\n",
       "      <td>A</td>\n",
       "      <td>NaN</td>\n",
       "      <td>NaN</td>\n",
       "      <td>NaN</td>\n",
       "    </tr>\n",
       "    <tr>\n",
       "      <th>mdb321</th>\n",
       "      <td>D</td>\n",
       "      <td>NORM</td>\n",
       "      <td>A</td>\n",
       "      <td>NaN</td>\n",
       "      <td>NaN</td>\n",
       "      <td>NaN</td>\n",
       "    </tr>\n",
       "    <tr>\n",
       "      <th>mdb322</th>\n",
       "      <td>D</td>\n",
       "      <td>NORM</td>\n",
       "      <td>A</td>\n",
       "      <td>NaN</td>\n",
       "      <td>NaN</td>\n",
       "      <td>NaN</td>\n",
       "    </tr>\n",
       "  </tbody>\n",
       "</table>\n",
       "<p>319 rows × 6 columns</p>\n",
       "</div>"
      ],
      "text/plain": [
       "       bg ab_class severity      x      y  radius\n",
       "refnum                                           \n",
       "mdb001  G     CIRC        B  535.0  425.0   197.0\n",
       "mdb002  G     CIRC        B  522.0  280.0    69.0\n",
       "mdb003  D     NORM        A    NaN    NaN     NaN\n",
       "mdb004  D     NORM        A    NaN    NaN     NaN\n",
       "mdb005  F     CIRC        B  477.0  133.0    30.0\n",
       "...    ..      ...      ...    ...    ...     ...\n",
       "mdb318  D     NORM        A    NaN    NaN     NaN\n",
       "mdb319  D     NORM        A    NaN    NaN     NaN\n",
       "mdb320  D     NORM        A    NaN    NaN     NaN\n",
       "mdb321  D     NORM        A    NaN    NaN     NaN\n",
       "mdb322  D     NORM        A    NaN    NaN     NaN\n",
       "\n",
       "[319 rows x 6 columns]"
      ]
     },
     "execution_count": 3,
     "metadata": {},
     "output_type": "execute_result"
    }
   ],
   "source": [
    "mias = hp.create_mias_dataset('../scan_file_data.txt')\n",
    "mias"
   ]
  },
  {
   "cell_type": "markdown",
   "id": "f1aa0dd0",
   "metadata": {},
   "source": [
    "### Data Preparation / Augmentation"
   ]
  },
  {
   "cell_type": "markdown",
   "id": "14294b78",
   "metadata": {},
   "source": [
    "This process takes the original images (1024x1024) and generates rotated and mirrored subsamples of them. \n",
    "\n",
    "The subsamples generated by this process have size (48x48) and rotated versions by 0, 90, 180, 270 degrees.\n",
    "\n",
    "There also are top/bottom and right/left mirrored versions of the original images.\n",
    "\n",
    "Originally, the clean dataset has 319 images. \n",
    "\n",
    "The transformation process produces 3828 images. \n",
    "\n",
    "That is to say that for each image, 12 new images or a 1200% increase."
   ]
  },
  {
   "cell_type": "code",
   "execution_count": 5,
   "id": "87c67ffd",
   "metadata": {},
   "outputs": [],
   "source": [
    "mias = hp.generate_subsamples('../all-mias/', mias)"
   ]
  },
  {
   "cell_type": "code",
   "execution_count": 6,
   "id": "87153a7c",
   "metadata": {},
   "outputs": [
    {
     "data": {
      "text/html": [
       "<div>\n",
       "<style scoped>\n",
       "    .dataframe tbody tr th:only-of-type {\n",
       "        vertical-align: middle;\n",
       "    }\n",
       "\n",
       "    .dataframe tbody tr th {\n",
       "        vertical-align: top;\n",
       "    }\n",
       "\n",
       "    .dataframe thead th {\n",
       "        text-align: right;\n",
       "    }\n",
       "</style>\n",
       "<table border=\"1\" class=\"dataframe\">\n",
       "  <thead>\n",
       "    <tr style=\"text-align: right;\">\n",
       "      <th></th>\n",
       "      <th>ab_class</th>\n",
       "      <th>bg</th>\n",
       "      <th>severity</th>\n",
       "      <th>subsample_path</th>\n",
       "    </tr>\n",
       "  </thead>\n",
       "  <tbody>\n",
       "    <tr>\n",
       "      <th>mdb001_0_rotated</th>\n",
       "      <td>CIRC</td>\n",
       "      <td>G</td>\n",
       "      <td>B</td>\n",
       "      <td>../subsamples/mdb001_0_rotated.png</td>\n",
       "    </tr>\n",
       "    <tr>\n",
       "      <th>mdb001_0_mirr_lr</th>\n",
       "      <td>CIRC</td>\n",
       "      <td>G</td>\n",
       "      <td>B</td>\n",
       "      <td>../subsamples/mdb001_0_mirr_lr.png</td>\n",
       "    </tr>\n",
       "    <tr>\n",
       "      <th>mdb001_0_mirr_tp</th>\n",
       "      <td>CIRC</td>\n",
       "      <td>G</td>\n",
       "      <td>B</td>\n",
       "      <td>../subsamples/mdb001_0_mirr_tp.png</td>\n",
       "    </tr>\n",
       "    <tr>\n",
       "      <th>mdb001_90_rotated</th>\n",
       "      <td>CIRC</td>\n",
       "      <td>G</td>\n",
       "      <td>B</td>\n",
       "      <td>../subsamples/mdb001_90_rotated.png</td>\n",
       "    </tr>\n",
       "    <tr>\n",
       "      <th>mdb001_90_mirr_lr</th>\n",
       "      <td>CIRC</td>\n",
       "      <td>G</td>\n",
       "      <td>B</td>\n",
       "      <td>../subsamples/mdb001_90_mirr_lr.png</td>\n",
       "    </tr>\n",
       "    <tr>\n",
       "      <th>...</th>\n",
       "      <td>...</td>\n",
       "      <td>...</td>\n",
       "      <td>...</td>\n",
       "      <td>...</td>\n",
       "    </tr>\n",
       "    <tr>\n",
       "      <th>mdb322_180_mirr_lr</th>\n",
       "      <td>NORM</td>\n",
       "      <td>D</td>\n",
       "      <td>A</td>\n",
       "      <td>../subsamples/mdb322_180_mirr_lr.png</td>\n",
       "    </tr>\n",
       "    <tr>\n",
       "      <th>mdb322_180_mirr_tp</th>\n",
       "      <td>NORM</td>\n",
       "      <td>D</td>\n",
       "      <td>A</td>\n",
       "      <td>../subsamples/mdb322_180_mirr_tp.png</td>\n",
       "    </tr>\n",
       "    <tr>\n",
       "      <th>mdb322_270_rotated</th>\n",
       "      <td>NORM</td>\n",
       "      <td>D</td>\n",
       "      <td>A</td>\n",
       "      <td>../subsamples/mdb322_270_rotated.png</td>\n",
       "    </tr>\n",
       "    <tr>\n",
       "      <th>mdb322_270_mirr_lr</th>\n",
       "      <td>NORM</td>\n",
       "      <td>D</td>\n",
       "      <td>A</td>\n",
       "      <td>../subsamples/mdb322_270_mirr_lr.png</td>\n",
       "    </tr>\n",
       "    <tr>\n",
       "      <th>mdb322_270_mirr_tp</th>\n",
       "      <td>NORM</td>\n",
       "      <td>D</td>\n",
       "      <td>A</td>\n",
       "      <td>../subsamples/mdb322_270_mirr_tp.png</td>\n",
       "    </tr>\n",
       "  </tbody>\n",
       "</table>\n",
       "<p>3828 rows × 4 columns</p>\n",
       "</div>"
      ],
      "text/plain": [
       "                   ab_class bg severity                        subsample_path\n",
       "mdb001_0_rotated       CIRC  G        B    ../subsamples/mdb001_0_rotated.png\n",
       "mdb001_0_mirr_lr       CIRC  G        B    ../subsamples/mdb001_0_mirr_lr.png\n",
       "mdb001_0_mirr_tp       CIRC  G        B    ../subsamples/mdb001_0_mirr_tp.png\n",
       "mdb001_90_rotated      CIRC  G        B   ../subsamples/mdb001_90_rotated.png\n",
       "mdb001_90_mirr_lr      CIRC  G        B   ../subsamples/mdb001_90_mirr_lr.png\n",
       "...                     ... ..      ...                                   ...\n",
       "mdb322_180_mirr_lr     NORM  D        A  ../subsamples/mdb322_180_mirr_lr.png\n",
       "mdb322_180_mirr_tp     NORM  D        A  ../subsamples/mdb322_180_mirr_tp.png\n",
       "mdb322_270_rotated     NORM  D        A  ../subsamples/mdb322_270_rotated.png\n",
       "mdb322_270_mirr_lr     NORM  D        A  ../subsamples/mdb322_270_mirr_lr.png\n",
       "mdb322_270_mirr_tp     NORM  D        A  ../subsamples/mdb322_270_mirr_tp.png\n",
       "\n",
       "[3828 rows x 4 columns]"
      ]
     },
     "execution_count": 6,
     "metadata": {},
     "output_type": "execute_result"
    }
   ],
   "source": [
    "mias"
   ]
  },
  {
   "cell_type": "markdown",
   "id": "176247a8",
   "metadata": {},
   "source": [
    "#### Data Distribution"
   ]
  },
  {
   "cell_type": "markdown",
   "id": "fdc50cf2",
   "metadata": {},
   "source": [
    "The NORM class, which accounts for the scans with no abnormalities, stands for 64.8% of the scan samples\n",
    "\n",
    "There is also a slight difference between Malign (M) and Benign (B) samples in all classes\n",
    "\n",
    "The strategy to atenuate such disparity is to randomly remove whichever class is predominant (either M or N) so that we can have a balanced set. Classes to be balanced prior to be tested to ensure randomness.\n",
    "\n",
    "As for the NORM class, it will reduced, also randomly, to the average of the samples for each class"
   ]
  },
  {
   "cell_type": "code",
   "execution_count": 7,
   "id": "bd9b05e6",
   "metadata": {},
   "outputs": [
    {
     "data": {
      "text/plain": [
       "ab_class  severity\n",
       "ARCH      M           0.031348\n",
       "          B           0.028213\n",
       "ASYM      M           0.028213\n",
       "          B           0.018809\n",
       "CALC      B           0.037618\n",
       "          M           0.031348\n",
       "CIRC      B           0.059561\n",
       "          M           0.012539\n",
       "MISC      B           0.021944\n",
       "          M           0.021944\n",
       "NORM      A           0.648903\n",
       "SPIC      B           0.034483\n",
       "          M           0.025078\n",
       "Name: severity, dtype: float64"
      ]
     },
     "execution_count": 7,
     "metadata": {},
     "output_type": "execute_result"
    }
   ],
   "source": [
    "mias.groupby(['ab_class']).severity.value_counts() / len(mias.index)"
   ]
  },
  {
   "cell_type": "code",
   "execution_count": 8,
   "id": "55b1ceda",
   "metadata": {},
   "outputs": [
    {
     "data": {
      "text/plain": [
       "<AxesSubplot:title={'center':'SEVERITY BY CLASS'}, xlabel='Abnormality Class', ylabel='SCANS'>"
      ]
     },
     "execution_count": 8,
     "metadata": {},
     "output_type": "execute_result"
    },
    {
     "data": {
      "image/png": "[encoded data removed]",
      "text/plain": [
       "<Figure size 720x576 with 1 Axes>"
      ]
     },
     "metadata": {
      "needs_background": "light"
     },
     "output_type": "display_data"
    }
   ],
   "source": [
    "mias.groupby(['ab_class', 'severity']).size().unstack().plot(kind='bar', \n",
    "                                                               figsize=(10, 8), \n",
    "                                                               xlabel='Abnormality Class', \n",
    "                                                               ylabel='SCANS',\n",
    "                                                               title='SEVERITY BY CLASS')\n"
   ]
  },
  {
   "cell_type": "markdown",
   "id": "00c4477f",
   "metadata": {},
   "source": [
    "#### Dataset balancing"
   ]
  },
  {
   "cell_type": "markdown",
   "id": "273c3342",
   "metadata": {},
   "source": [
    "Calcifications before balancing"
   ]
  },
  {
   "cell_type": "code",
   "execution_count": 42,
   "id": "c690537d",
   "metadata": {},
   "outputs": [
    {
     "data": {
      "text/plain": [
       "<AxesSubplot:>"
      ]
     },
     "execution_count": 42,
     "metadata": {},
     "output_type": "execute_result"
    },
    {
     "data": {
      "image/png": "[encoded data removed]",
      "text/plain": [
       "<Figure size 432x288 with 1 Axes>"
      ]
     },
     "metadata": {
      "needs_background": "light"
     },
     "output_type": "display_data"
    }
   ],
   "source": [
    "calcifications_unbalanced = mias[mias.ab_class == 'CALC']\n",
    "\n",
    "calcifications_unbalanced.severity.value_counts().plot(kind='bar')"
   ]
  },
  {
   "cell_type": "markdown",
   "id": "1fed52e7",
   "metadata": {},
   "source": [
    "Calcifications after balancing"
   ]
  },
  {
   "cell_type": "code",
   "execution_count": 44,
   "id": "0ddecc0f",
   "metadata": {},
   "outputs": [
    {
     "data": {
      "text/plain": [
       "<AxesSubplot:>"
      ]
     },
     "execution_count": 44,
     "metadata": {},
     "output_type": "execute_result"
    },
    {
     "data": {
      "image/png": "[encoded data removed]",
      "text/plain": [
       "<Figure size 432x288 with 1 Axes>"
      ]
     },
     "metadata": {
      "needs_background": "light"
     },
     "output_type": "display_data"
    }
   ],
   "source": [
    "calcifications_balanced = hp.balance_by_severity(mias, 'CALC')\n",
    "\n",
    "calcifications_balanced.severity.value_counts().plot(kind='bar')"
   ]
  },
  {
   "cell_type": "code",
   "execution_count": 20,
   "id": "4e2e701f",
   "metadata": {},
   "outputs": [
    {
     "data": {
      "text/plain": [
       "B    72\n",
       "M    72\n",
       "Name: severity, dtype: int64"
      ]
     },
     "execution_count": 20,
     "metadata": {},
     "output_type": "execute_result"
    }
   ],
   "source": [
    "hp.balance_by_severity(mias, 'ASYM').severity.value_counts()"
   ]
  },
  {
   "cell_type": "code",
   "execution_count": 36,
   "id": "4518ed1f",
   "metadata": {},
   "outputs": [
    {
     "data": {
      "text/plain": [
       "A    224\n",
       "Name: severity, dtype: int64"
      ]
     },
     "execution_count": 36,
     "metadata": {},
     "output_type": "execute_result"
    }
   ],
   "source": [
    "hp.balance_by_severity(mias, 'NORM').severity.value_counts()"
   ]
  },
  {
   "cell_type": "code",
   "execution_count": null,
   "id": "355d1aec",
   "metadata": {},
   "outputs": [],
   "source": []
  }
 ],
 "metadata": {
  "kernelspec": {
   "display_name": "Python 3",
   "language": "python",
   "name": "python3"
  },
  "language_info": {
   "codemirror_mode": {
    "name": "ipython",
    "version": 3
   },
   "file_extension": ".py",
   "mimetype": "text/x-python",
   "name": "python",
   "nbconvert_exporter": "python",
   "pygments_lexer": "ipython3",
   "version": "3.8.8"
  }
 },
 "nbformat": 4,
 "nbformat_minor": 5
}
