{
 "cells": [
  {
   "cell_type": "code",
   "execution_count": null,
   "id": "6c50f12d",
   "metadata": {},
   "outputs": [],
   "source": [
    "import pandas as pd\n",
    "import matplotlib.pyplot as plt\n",
    "import matplotlib.image as mpimg\n",
    "from matplotlib.patches import Circle\n",
    "import numpy as np\n",
    "import os\n",
    "import sys"
   ]
  },
  {
   "cell_type": "code",
   "execution_count": null,
   "id": "75e1b727",
   "metadata": {},
   "outputs": [],
   "source": [
    "sys.path.append('../src/')"
   ]
  },
  {
   "cell_type": "code",
   "execution_count": null,
   "id": "d72c6e11",
   "metadata": {},
   "outputs": [],
   "source": [
    "from modules import helpers as hp\n",
    "from modules import mammoscan as ms"
   ]
  },
  {
   "cell_type": "code",
   "execution_count": null,
   "id": "9fa8c3f4",
   "metadata": {},
   "outputs": [],
   "source": [
    "plt.style.use('dark_background') # comment or delete it for light background"
   ]
  },
  {
   "cell_type": "code",
   "execution_count": null,
   "id": "2c81eae8",
   "metadata": {},
   "outputs": [],
   "source": [
    "mammo = pd.read_table('../scan_file_data.txt', delimiter='\\s', engine='python')"
   ]
  },
  {
   "cell_type": "code",
   "execution_count": null,
   "id": "76e07d07",
   "metadata": {},
   "outputs": [],
   "source": [
    "# rename the class column to avoid conflicts with the class keyword in python\n",
    "mammo.columns = ['refnum', 'bg', 'ab_class', 'severity', 'x', 'y', 'radius']"
   ]
  },
  {
   "cell_type": "code",
   "execution_count": null,
   "id": "414c9519",
   "metadata": {},
   "outputs": [],
   "source": [
    "mammo.ab_class.value_counts().plot(kind='bar', color='orange')"
   ]
  },
  {
   "cell_type": "code",
   "execution_count": null,
   "id": "1da949c4",
   "metadata": {},
   "outputs": [],
   "source": [
    "mammo.severity.value_counts().plot(kind='bar', color='orange')"
   ]
  },
  {
   "cell_type": "code",
   "execution_count": null,
   "id": "9eb4c722",
   "metadata": {},
   "outputs": [],
   "source": [
    "mammo.bg.value_counts().plot(kind='bar', color='orange')"
   ]
  },
  {
   "cell_type": "code",
   "execution_count": null,
   "id": "ccc24c82",
   "metadata": {},
   "outputs": [],
   "source": [
    "mammo.info()"
   ]
  },
  {
   "cell_type": "code",
   "execution_count": null,
   "id": "0f031270",
   "metadata": {},
   "outputs": [],
   "source": [
    "mx = mammo.groupby(['ab_class', 'severity']).size().unstack().plot(kind='bar', \n",
    "                                                                   figsize=(10, 8), \n",
    "                                                                   xlabel='Abnormality Class', \n",
    "                                                                   ylabel='SCANS',\n",
    "                                                                   title='SEVERITY BY CLASS')\n"
   ]
  },
  {
   "cell_type": "code",
   "execution_count": null,
   "id": "571c004a",
   "metadata": {},
   "outputs": [],
   "source": [
    "ab_sev = mammo.groupby(['ab_class', 'severity']).size()"
   ]
  },
  {
   "cell_type": "code",
   "execution_count": null,
   "id": "01af8fe2",
   "metadata": {},
   "outputs": [],
   "source": [
    "ab_sev = mammo.groupby('ab_class').severity.value_counts(normalize=True)\n",
    "ab_sev"
   ]
  },
  {
   "cell_type": "code",
   "execution_count": null,
   "id": "d4a0564d",
   "metadata": {},
   "outputs": [],
   "source": [
    "ax = ab_sev.unstack().plot(kind='bar', \n",
    "                      stacked=True, \n",
    "                      figsize=(10, 8), \n",
    "                      xlabel='Abnormality Class', \n",
    "                      ylabel='Percentage',\n",
    "                      title='SEVERITY BY CLASS');\n",
    "\n",
    "# manipulate\n",
    "vals = ax.get_yticks()\n",
    "ax.set_yticklabels([f'{x:.2%}' for x in vals]);"
   ]
  },
  {
   "cell_type": "code",
   "execution_count": null,
   "id": "0fd6de34",
   "metadata": {},
   "outputs": [],
   "source": [
    "# get indices of the norm class only\n",
    "norms = lambda x: x == 'NORM'\n",
    "mammo.severity = mammo.severity.fillna('A')"
   ]
  },
  {
   "cell_type": "code",
   "execution_count": null,
   "id": "43042c22",
   "metadata": {},
   "outputs": [],
   "source": [
    "from pathlib import Path\n",
    "import re"
   ]
  },
  {
   "cell_type": "markdown",
   "id": "2ed6ddd7",
   "metadata": {},
   "source": [
    "INITIALLY REMOVE ONLY THE SCANS WITHOUT INVALID X ENTRY *NOTE"
   ]
  },
  {
   "cell_type": "code",
   "execution_count": null,
   "id": "2d612306",
   "metadata": {},
   "outputs": [],
   "source": [
    "test_df = mammo.copy()"
   ]
  },
  {
   "cell_type": "code",
   "execution_count": null,
   "id": "c4c27967",
   "metadata": {},
   "outputs": [],
   "source": [
    "test_df"
   ]
  },
  {
   "cell_type": "code",
   "execution_count": null,
   "id": "66399a11",
   "metadata": {},
   "outputs": [],
   "source": [
    "test_df.drop_duplicates(subset='refnum', keep='first', inplace=True)"
   ]
  },
  {
   "cell_type": "code",
   "execution_count": null,
   "id": "037a30eb",
   "metadata": {},
   "outputs": [],
   "source": [
    "test_df.set_index(keys='refnum', drop=True, inplace=True)"
   ]
  },
  {
   "cell_type": "code",
   "execution_count": null,
   "id": "a9fcc9be",
   "metadata": {},
   "outputs": [],
   "source": [
    "test_df.index;"
   ]
  },
  {
   "cell_type": "code",
   "execution_count": null,
   "id": "710c9f18",
   "metadata": {},
   "outputs": [],
   "source": [
    "clean_df = hp.clean_ds_files(test_df)"
   ]
  },
  {
   "cell_type": "code",
   "execution_count": null,
   "id": "9a7ee8be",
   "metadata": {},
   "outputs": [],
   "source": [
    "clean_df.head()"
   ]
  },
  {
   "cell_type": "code",
   "execution_count": null,
   "id": "a52c289c",
   "metadata": {},
   "outputs": [],
   "source": [
    "# save clean to file\n",
    "clean_df.to_csv('test_df.csv')"
   ]
  },
  {
   "cell_type": "code",
   "execution_count": null,
   "id": "65e1db4e",
   "metadata": {},
   "outputs": [],
   "source": [
    "type(clean_df.loc['mdb005'])"
   ]
  },
  {
   "cell_type": "code",
   "execution_count": null,
   "id": "c181dc1c",
   "metadata": {},
   "outputs": [],
   "source": [
    "scan_info = clean_df.loc['mdb003'].copy() # need to ensure we get a deep copy of the Series to avoid changing a value in it and keeping the reference\n",
    "scan_info"
   ]
  },
  {
   "cell_type": "code",
   "execution_count": null,
   "id": "56556ade",
   "metadata": {},
   "outputs": [],
   "source": [
    "from PIL import Image"
   ]
  },
  {
   "cell_type": "code",
   "execution_count": null,
   "id": "ab6ddbfc",
   "metadata": {},
   "outputs": [],
   "source": [
    "test_img = Image.open('../all-mias/mdb003.pgm')"
   ]
  },
  {
   "cell_type": "code",
   "execution_count": null,
   "id": "7befe6f8",
   "metadata": {},
   "outputs": [],
   "source": [
    "test = ms.MammoScan(test_img, scan_info)"
   ]
  },
  {
   "cell_type": "code",
   "execution_count": null,
   "id": "b3e75cb5",
   "metadata": {},
   "outputs": [],
   "source": [
    "test.pixel_matrix.shape"
   ]
  },
  {
   "cell_type": "code",
   "execution_count": null,
   "id": "7606883d",
   "metadata": {},
   "outputs": [],
   "source": [
    "test.plot()"
   ]
  },
  {
   "cell_type": "code",
   "execution_count": null,
   "id": "39485b61",
   "metadata": {},
   "outputs": [],
   "source": [
    "transformed = test.transformations\n",
    "transformed"
   ]
  },
  {
   "cell_type": "code",
   "execution_count": null,
   "id": "6745cc3d",
   "metadata": {},
   "outputs": [],
   "source": [
    "'''\n",
    "\n",
    "for angle, imgs in transformed.items():\n",
    "    for transf, img in imgs.items():\n",
    "        print(f'{angle}, {transf}')\n",
    "        print(np.asarray(img))\n",
    "        display(img)\n",
    "        \n",
    "'''        \n",
    "        \n",
    "# 90 degrees left-right == 270 degree top-bottom\n",
    "# 0 degrees left-right == 180 top-bottom\n",
    "# drop duplicates???"
   ]
  },
  {
   "cell_type": "code",
   "execution_count": null,
   "id": "74e7d6d4",
   "metadata": {},
   "outputs": [],
   "source": [
    "scans_filenames_dic = hp.create_scan_filenames_dic('../all-mias/')"
   ]
  },
  {
   "cell_type": "markdown",
   "id": "57442894",
   "metadata": {},
   "source": [
    "### Check the quality of crops"
   ]
  },
  {
   "cell_type": "code",
   "execution_count": null,
   "id": "75b634d6",
   "metadata": {},
   "outputs": [],
   "source": [
    "counter = 0\n",
    "for scan_name, filename in scans_filenames_dic.items():\n",
    "        # create image and scan info objects\n",
    "        try:\n",
    "            scan = Image.open(filename)\n",
    "        except FileNotFoundError as fnf:\n",
    "            print({fnf})\n",
    "            \n",
    "        scan_info = clean_df.loc[scan_name].copy()\n",
    "        print(scan_info.name)\n",
    "        # create the MammoScan object\n",
    "        m_scan = ms.MammoScan(scan, scan_info)\n",
    "        \n",
    "        m_scan.plot()\n",
    "        # get the transformations\n",
    "        transf_scans = m_scan.transformations\n",
    "        \n",
    "        figure, axes = plt.subplots(nrows=1, ncols=4, figsize=(6, 6))\n",
    "        \n",
    "        for item in zip(axes.ravel(), transf_scans.items()):\n",
    "            axes, images = item\n",
    "            angle, transfs = images\n",
    "            for transf, img in transfs.items():\n",
    "                axes.imshow(img, cmap=plt.cm.gray_r)\n",
    "                axes.set_xticks([]) # remove x-axis tick marks\n",
    "                axes.set_yticks([]) # remove y-axis tick marks\n",
    "                axes.set_title(f'{angle}: {transf}')\n",
    "        # plt.tight_layout\n",
    "        counter+= 1\n",
    "        if counter == 19:\n",
    "            break\n"
   ]
  },
  {
   "cell_type": "code",
   "execution_count": null,
   "id": "99dbb0d3",
   "metadata": {},
   "outputs": [],
   "source": [
    "test_sub = hp.save_subsamples(scans_filenames_dic, clean_df)"
   ]
  },
  {
   "cell_type": "code",
   "execution_count": null,
   "id": "993e7e91",
   "metadata": {},
   "outputs": [],
   "source": [
    "test_sub"
   ]
  },
  {
   "cell_type": "markdown",
   "id": "aea7a38c",
   "metadata": {},
   "source": [
    "### Using Image Generator"
   ]
  },
  {
   "cell_type": "code",
   "execution_count": null,
   "id": "de1061fb",
   "metadata": {},
   "outputs": [],
   "source": [
    "# TRAIN AND TEST DATA FOR THE CALCIFICATIONS\n",
    "from tensorflow.keras.preprocessing.image import ImageDataGenerator"
   ]
  },
  {
   "cell_type": "code",
   "execution_count": null,
   "id": "2a0559ef",
   "metadata": {},
   "outputs": [],
   "source": [
    "data_generator = ImageDataGenerator(width_shift_range=.1, \n",
    "                                    height_shift_range=.1, \n",
    "                                    rotation_range=180,\n",
    "                                    zoom_range=.1,\n",
    "                                    horizontal_flip=True,\n",
    "                                    validation_split=.2)"
   ]
  },
  {
   "cell_type": "code",
   "execution_count": null,
   "id": "8a2d2536",
   "metadata": {},
   "outputs": [],
   "source": [
    "train_data = data_generator.flow_from_dataframe(calcifications, \n",
    "                                                x_col=\"subsample_path\", \n",
    "                                                y_col=\"severity\",\n",
    "                                                class_mode=\"categorical\",\n",
    "                                                target_size=(48,48),\n",
    "                                                subset=\"training\",\n",
    "                                                color_mode=\"grayscale\",\n",
    "                                                shuffle=True)\n",
    "test_data = data_generator.flow_from_dataframe(calcifications, \n",
    "                                               x_col=\"subsample_path\", \n",
    "                                               y_col=\"severity\",\n",
    "                                               class_mode=\"categorical\",\n",
    "                                               target_size=(48,48),\n",
    "                                               subset=\"validation\",\n",
    "                                               color_mode=\"grayscale\",\n",
    "                                               shuffle=False)\n"
   ]
  },
  {
   "cell_type": "code",
   "execution_count": null,
   "id": "571746c6",
   "metadata": {},
   "outputs": [],
   "source": []
  },
  {
   "cell_type": "code",
   "execution_count": null,
   "id": "c3f216d6",
   "metadata": {},
   "outputs": [],
   "source": [
    "# create neural network\n",
    "from tensorflow.keras.models import Sequential"
   ]
  },
  {
   "cell_type": "code",
   "execution_count": null,
   "id": "b2a94754",
   "metadata": {},
   "outputs": [],
   "source": [
    "cnn_calc = Sequential()"
   ]
  },
  {
   "cell_type": "code",
   "execution_count": null,
   "id": "af3c0ad4",
   "metadata": {},
   "outputs": [],
   "source": [
    "from tensorflow.keras.layers import Conv2D, Dense, Flatten, MaxPooling2D"
   ]
  },
  {
   "cell_type": "code",
   "execution_count": null,
   "id": "5f2ccaa4",
   "metadata": {},
   "outputs": [],
   "source": [
    "# add layers\n",
    "cnn_calc.add(Conv2D(filters=32, kernel_size=(5,5), activation='relu', input_shape=(48, 48, 1)))"
   ]
  },
  {
   "cell_type": "code",
   "execution_count": null,
   "id": "cc5707ec",
   "metadata": {},
   "outputs": [],
   "source": [
    "# Add a Pooling Layer\n",
    "cnn_calc.add(MaxPooling2D(pool_size=(2, 2)))"
   ]
  },
  {
   "cell_type": "code",
   "execution_count": null,
   "id": "74d37f80",
   "metadata": {},
   "outputs": [],
   "source": [
    "cnn_calc.add(Conv2D(filters=64, kernel_size=(5,5), activation='relu'))"
   ]
  },
  {
   "cell_type": "code",
   "execution_count": null,
   "id": "5ffb9bb1",
   "metadata": {},
   "outputs": [],
   "source": [
    "cnn_calc.add(MaxPooling2D(pool_size=(2,2)))"
   ]
  },
  {
   "cell_type": "markdown",
   "id": "a822b402",
   "metadata": {},
   "source": [
    "#### Flattening the results"
   ]
  },
  {
   "cell_type": "code",
   "execution_count": null,
   "id": "41af72b4",
   "metadata": {},
   "outputs": [],
   "source": [
    "cnn_calc.add(Flatten())"
   ]
  },
  {
   "cell_type": "markdown",
   "id": "19de08da",
   "metadata": {},
   "source": [
    "#### Add dense layer to reduce the number of features"
   ]
  },
  {
   "cell_type": "code",
   "execution_count": null,
   "id": "4b936677",
   "metadata": {},
   "outputs": [],
   "source": [
    "from tensorflow.keras.layers import Dropout\n"
   ]
  },
  {
   "cell_type": "code",
   "execution_count": null,
   "id": "af4edc4f",
   "metadata": {},
   "outputs": [],
   "source": [
    "cnn_calc.add(Dropout(0.5)) # to avoid overfitting , drop 50%"
   ]
  },
  {
   "cell_type": "code",
   "execution_count": null,
   "id": "b77972ed",
   "metadata": {},
   "outputs": [],
   "source": [
    "cnn_calc.add(Dense(units=1024, activation='relu'))"
   ]
  },
  {
   "cell_type": "markdown",
   "id": "da092086",
   "metadata": {},
   "source": [
    "#### Dense layer to produce final output"
   ]
  },
  {
   "cell_type": "code",
   "execution_count": null,
   "id": "d8740d7f",
   "metadata": {},
   "outputs": [],
   "source": [
    "cnn_calc.add(Dense(units=2, activation='softmax')) # 2 units - B/ M"
   ]
  },
  {
   "cell_type": "code",
   "execution_count": null,
   "id": "f0c4225f",
   "metadata": {},
   "outputs": [],
   "source": [
    "cnn_calc.summary()"
   ]
  },
  {
   "cell_type": "markdown",
   "id": "7acc9e52",
   "metadata": {},
   "source": [
    "#### Visualise the Model's Structure"
   ]
  },
  {
   "cell_type": "code",
   "execution_count": null,
   "id": "bdd1daf8",
   "metadata": {},
   "outputs": [],
   "source": [
    "from tensorflow.keras.utils import plot_model\n",
    "from IPython.display import Image"
   ]
  },
  {
   "cell_type": "code",
   "execution_count": null,
   "id": "06ad6462",
   "metadata": {},
   "outputs": [],
   "source": [
    "plot_model(cnn_calc, to_file='convnet.png', show_shapes=True, show_layer_names=True)\n",
    "Image(filename='convnet.png')"
   ]
  },
  {
   "cell_type": "code",
   "execution_count": null,
   "id": "a903abc2",
   "metadata": {},
   "outputs": [],
   "source": [
    "cnn_calc.compile(optimizer='adam',\n",
    "            loss='categorical_crossentropy',\n",
    "            metrics=['accuracy'])"
   ]
  },
  {
   "cell_type": "markdown",
   "id": "57c3916c",
   "metadata": {},
   "source": [
    "### Training and Evaluating the Model"
   ]
  },
  {
   "cell_type": "code",
   "execution_count": null,
   "id": "73b5839f",
   "metadata": {},
   "outputs": [],
   "source": [
    "from tensorflow.keras.callbacks import EarlyStopping\n",
    "early_stopping = EarlyStopping(patience=5, restore_best_weights=True)"
   ]
  },
  {
   "cell_type": "code",
   "execution_count": null,
   "id": "dc6fd168",
   "metadata": {},
   "outputs": [],
   "source": [
    "cnn_calc.fit(train_data, \n",
    "             validation_data=test_data, \n",
    "             epochs=100, \n",
    "             batch_size=32,\n",
    "             callbacks=[early_stopping])"
   ]
  },
  {
   "cell_type": "code",
   "execution_count": null,
   "id": "d12b1bc9",
   "metadata": {},
   "outputs": [],
   "source": []
  },
  {
   "cell_type": "code",
   "execution_count": null,
   "id": "e61cc5f8",
   "metadata": {},
   "outputs": [],
   "source": []
  }
 ],
 "metadata": {
  "kernelspec": {
   "display_name": "Python 3",
   "language": "python",
   "name": "python3"
  },
  "language_info": {
   "codemirror_mode": {
    "name": "ipython",
    "version": 3
   },
   "file_extension": ".py",
   "mimetype": "text/x-python",
   "name": "python",
   "nbconvert_exporter": "python",
   "pygments_lexer": "ipython3",
   "version": "3.8.8"
  }
 },
 "nbformat": 4,
 "nbformat_minor": 5
}
