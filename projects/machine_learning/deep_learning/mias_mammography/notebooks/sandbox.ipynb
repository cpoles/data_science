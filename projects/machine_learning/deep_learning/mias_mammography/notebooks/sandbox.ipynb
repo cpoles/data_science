{
 "cells": [
  {
   "cell_type": "code",
   "execution_count": null,
   "id": "876061e9",
   "metadata": {},
   "outputs": [],
   "source": [
    "import pandas as pd\n",
    "import matplotlib.pyplot as plt\n",
    "import matplotlib.image as mpimg\n",
    "from matplotlib.patches import Circle\n",
    "import numpy as np\n",
    "import os\n",
    "import sys"
   ]
  },
  {
   "cell_type": "code",
   "execution_count": null,
   "id": "f1c41442",
   "metadata": {},
   "outputs": [],
   "source": [
    "sys.path.append('../src/')"
   ]
  },
  {
   "cell_type": "code",
   "execution_count": null,
   "id": "6d3a4785",
   "metadata": {},
   "outputs": [],
   "source": [
    "from modules import helpers as hp\n",
    "from modules import mammoscan as ms"
   ]
  },
  {
   "cell_type": "code",
   "execution_count": null,
   "id": "94095ec2",
   "metadata": {},
   "outputs": [],
   "source": [
    "plt.style.use('dark_background') # comment or delete it for light background"
   ]
  },
  {
   "cell_type": "code",
   "execution_count": null,
   "id": "800feab4",
   "metadata": {},
   "outputs": [],
   "source": [
    "mammo = pd.read_table('../scan_file_data.txt', delimiter='\\s', engine='python')"
   ]
  },
  {
   "cell_type": "code",
   "execution_count": null,
   "id": "b0fdcdc5",
   "metadata": {},
   "outputs": [],
   "source": [
    "# rename the class column to avoid conflicts with the class keyword in python\n",
    "mammo.columns = ['refnum', 'bg', 'ab_class', 'severity', 'x', 'y', 'radius']"
   ]
  },
  {
   "cell_type": "code",
   "execution_count": null,
   "id": "fd02c3cc",
   "metadata": {},
   "outputs": [],
   "source": [
    "mammo.ab_class.value_counts().plot(kind='bar', color='orange')"
   ]
  },
  {
   "cell_type": "code",
   "execution_count": null,
   "id": "ab0055cd",
   "metadata": {},
   "outputs": [],
   "source": [
    "mammo.severity.value_counts().plot(kind='bar', color='orange')"
   ]
  },
  {
   "cell_type": "code",
   "execution_count": null,
   "id": "4e46d655",
   "metadata": {},
   "outputs": [],
   "source": [
    "mammo.bg.value_counts().plot(kind='bar', color='orange')"
   ]
  },
  {
   "cell_type": "code",
   "execution_count": null,
   "id": "a3c2b67e",
   "metadata": {},
   "outputs": [],
   "source": [
    "mammo.info()"
   ]
  },
  {
   "cell_type": "code",
   "execution_count": null,
   "id": "db0b8cfd",
   "metadata": {},
   "outputs": [],
   "source": [
    "mx = mammo.groupby(['ab_class', 'severity']).size().unstack().plot(kind='bar', \n",
    "                                                                   figsize=(10, 8), \n",
    "                                                                   xlabel='Abnormality Class', \n",
    "                                                                   ylabel='SCANS',\n",
    "                                                                   title='SEVERITY BY CLASS')\n"
   ]
  },
  {
   "cell_type": "code",
   "execution_count": null,
   "id": "2ba0eff1",
   "metadata": {},
   "outputs": [],
   "source": [
    "ab_sev = mammo.groupby(['ab_class', 'severity']).size()"
   ]
  },
  {
   "cell_type": "code",
   "execution_count": null,
   "id": "1da87d7b",
   "metadata": {},
   "outputs": [],
   "source": [
    "ab_sev = mammo.groupby('ab_class').severity.value_counts(normalize=True)\n",
    "ab_sev"
   ]
  },
  {
   "cell_type": "code",
   "execution_count": null,
   "id": "7c93f4f9",
   "metadata": {},
   "outputs": [],
   "source": [
    "ax = ab_sev.unstack().plot(kind='bar', \n",
    "                      stacked=True, \n",
    "                      figsize=(10, 8), \n",
    "                      xlabel='Abnormality Class', \n",
    "                      ylabel='Percentage',\n",
    "                      title='SEVERITY BY CLASS');\n",
    "\n",
    "# manipulate\n",
    "vals = ax.get_yticks()\n",
    "ax.set_yticklabels([f'{x:.2%}' for x in vals]);"
   ]
  },
  {
   "cell_type": "code",
   "execution_count": null,
   "id": "9b48c7fa",
   "metadata": {},
   "outputs": [],
   "source": [
    "# get indices of the norm class only\n",
    "norms = lambda x: x == 'NORM'\n",
    "mammo.severity = mammo.severity.fillna('A')"
   ]
  },
  {
   "cell_type": "code",
   "execution_count": null,
   "id": "82637f30",
   "metadata": {},
   "outputs": [],
   "source": [
    "from pathlib import Path\n",
    "import re"
   ]
  },
  {
   "cell_type": "markdown",
   "id": "5e32efa5",
   "metadata": {},
   "source": [
    "INITIALLY REMOVE ONLY THE SCANS WITHOUT INVALID X ENTRY *NOTE"
   ]
  },
  {
   "cell_type": "code",
   "execution_count": null,
   "id": "b94ffa34",
   "metadata": {},
   "outputs": [],
   "source": [
    "test_df = mammo.copy()"
   ]
  },
  {
   "cell_type": "code",
   "execution_count": null,
   "id": "2fe6d759",
   "metadata": {},
   "outputs": [],
   "source": [
    "test_df"
   ]
  },
  {
   "cell_type": "code",
   "execution_count": null,
   "id": "d211103c",
   "metadata": {},
   "outputs": [],
   "source": [
    "test_df.drop_duplicates(subset='refnum', keep='first', inplace=True)"
   ]
  },
  {
   "cell_type": "code",
   "execution_count": null,
   "id": "2089c0fd",
   "metadata": {},
   "outputs": [],
   "source": [
    "test_df.set_index(keys='refnum', drop=True, inplace=True)"
   ]
  },
  {
   "cell_type": "code",
   "execution_count": null,
   "id": "d61708da",
   "metadata": {},
   "outputs": [],
   "source": [
    "test_df.index;"
   ]
  },
  {
   "cell_type": "code",
   "execution_count": null,
   "id": "0ce0f019",
   "metadata": {},
   "outputs": [],
   "source": [
    "clean_df = hp.clean_ds_files(test_df)"
   ]
  },
  {
   "cell_type": "code",
   "execution_count": null,
   "id": "4c951c68",
   "metadata": {},
   "outputs": [],
   "source": [
    "clean_df.info()"
   ]
  },
  {
   "cell_type": "code",
   "execution_count": null,
   "id": "42c6ffa3",
   "metadata": {},
   "outputs": [],
   "source": [
    "# save clean to file\n",
    "clean_df.to_csv('test_df.csv')"
   ]
  },
  {
   "cell_type": "code",
   "execution_count": null,
   "id": "6ab8ffba",
   "metadata": {},
   "outputs": [],
   "source": [
    "type(clean_df.loc['mdb005'])"
   ]
  },
  {
   "cell_type": "code",
   "execution_count": null,
   "id": "27733e83",
   "metadata": {},
   "outputs": [],
   "source": [
    "scan_info = clean_df.loc['mdb015'].copy() # need to ensure we get a deep copy of the Series to avoid changing a value in it and keeping the reference\n",
    "scan_info"
   ]
  },
  {
   "cell_type": "code",
   "execution_count": null,
   "id": "0e1903b6",
   "metadata": {},
   "outputs": [],
   "source": [
    "from PIL import Image"
   ]
  },
  {
   "cell_type": "code",
   "execution_count": null,
   "id": "241e6ef9",
   "metadata": {},
   "outputs": [],
   "source": [
    "test_img = Image.open('../all-mias/mdb015.pgm')"
   ]
  },
  {
   "cell_type": "code",
   "execution_count": null,
   "id": "6fa3ed19",
   "metadata": {},
   "outputs": [],
   "source": [
    "test = ms.MammoScan(test_img, scan_info)"
   ]
  },
  {
   "cell_type": "code",
   "execution_count": null,
   "id": "ed561539",
   "metadata": {},
   "outputs": [],
   "source": [
    "test.pixel_matrix.shape"
   ]
  },
  {
   "cell_type": "code",
   "execution_count": null,
   "id": "27464995",
   "metadata": {},
   "outputs": [],
   "source": [
    "test.plot()"
   ]
  },
  {
   "cell_type": "code",
   "execution_count": null,
   "id": "59e3e82f",
   "metadata": {},
   "outputs": [],
   "source": [
    "transformed = test.transformations\n",
    "transformed"
   ]
  },
  {
   "cell_type": "code",
   "execution_count": null,
   "id": "aa2886f5",
   "metadata": {},
   "outputs": [],
   "source": [
    "for angle, imgs in transformed.items():\n",
    "    for transf, img in imgs.items():\n",
    "        print(f'{angle}, {transf}')\n",
    "        print(np.asarray(img))\n",
    "        display(img)\n",
    "        \n",
    "        \n",
    "        \n",
    "# 90 degrees left-right == 270 degree top-bottom\n",
    "# 0 degrees left-right == 180 top-bottom\n",
    "# drop duplicates???"
   ]
  },
  {
   "cell_type": "code",
   "execution_count": null,
   "id": "4bb5e951",
   "metadata": {},
   "outputs": [],
   "source": [
    "scans_filenames_dic = hp.create_scan_filenames_dic('../all-mias/')"
   ]
  },
  {
   "cell_type": "code",
   "execution_count": null,
   "id": "e6e12772",
   "metadata": {},
   "outputs": [],
   "source": []
  },
  {
   "cell_type": "code",
   "execution_count": null,
   "id": "11a86875",
   "metadata": {},
   "outputs": [],
   "source": [
    "test_sub = hp.save_subsamples(scans_filenames_dic, clean_df)"
   ]
  },
  {
   "cell_type": "code",
   "execution_count": null,
   "id": "ecc4a27e",
   "metadata": {},
   "outputs": [],
   "source": [
    "test_sub"
   ]
  },
  {
   "cell_type": "code",
   "execution_count": null,
   "id": "4dbaee14",
   "metadata": {},
   "outputs": [],
   "source": [
    "test_sub[test_sub.ab_class == 'CIRC']"
   ]
  },
  {
   "cell_type": "code",
   "execution_count": null,
   "id": "8d6afe22",
   "metadata": {},
   "outputs": [],
   "source": [
    "# create datasets by abnormalities for model creation, training and test\n",
    "def create_df_by_abnormality(abnormality: str, df: pd.DataFrame) -> pd.DataFrame:\n",
    "    df_ab = df.copy()\n",
    "    #print(id(df))\n",
    "    #print(id(df_ab))\n",
    "    try:\n",
    "        if 'ab_class' in df.columns:\n",
    "            df_ab = df_ab[df_ab.ab_class == abnormality][['subsample_path', 'severity']]\n",
    "            df_ab.reset_index(drop=True, inplace=True)\n",
    "            return df_ab\n",
    "    except KeyError as ke:\n",
    "        print('Column ab_class does not exist in the provided DataFrame')\n",
    "        print(ke)   \n"
   ]
  },
  {
   "cell_type": "code",
   "execution_count": null,
   "id": "7a16ac9c",
   "metadata": {},
   "outputs": [],
   "source": [
    "id(test_sub)"
   ]
  },
  {
   "cell_type": "markdown",
   "id": "66d53303",
   "metadata": {},
   "source": [
    "### Using Image Generator"
   ]
  },
  {
   "cell_type": "code",
   "execution_count": null,
   "id": "bf745e10",
   "metadata": {},
   "outputs": [],
   "source": [
    "# create the calcifications only dataset\n",
    "calcifications = create_df_by_abnormality('CALC', test_sub)\n",
    "calcifications"
   ]
  },
  {
   "cell_type": "code",
   "execution_count": null,
   "id": "ce45a433",
   "metadata": {},
   "outputs": [],
   "source": [
    "# TRAIN AND TEST DATA FOR THE CALCIFICATIONS\n",
    "from tensorflow.keras.preprocessing.image import ImageDataGenerator"
   ]
  },
  {
   "cell_type": "code",
   "execution_count": null,
   "id": "9a8ff504",
   "metadata": {},
   "outputs": [],
   "source": [
    "data_generator = ImageDataGenerator(width_shift_range=.1, \n",
    "                                    height_shift_range=.1, \n",
    "                                    rotation_range=180,\n",
    "                                    zoom_range=.1,\n",
    "                                    horizontal_flip=True,\n",
    "                                    validation_split=.2)"
   ]
  },
  {
   "cell_type": "code",
   "execution_count": null,
   "id": "b78e55d6",
   "metadata": {},
   "outputs": [],
   "source": [
    "train_data = data_generator.flow_from_dataframe(calcifications, \n",
    "                                                x_col=\"subsample_path\", \n",
    "                                                y_col=\"severity\",\n",
    "                                                class_mode=\"categorical\",\n",
    "                                                target_size=(48,48),\n",
    "                                                subset=\"training\",\n",
    "                                                color_mode=\"grayscale\",\n",
    "                                                shuffle=True)\n",
    "test_data = data_generator.flow_from_dataframe(calcifications, \n",
    "                                               x_col=\"subsample_path\", \n",
    "                                               y_col=\"severity\",\n",
    "                                               class_mode=\"categorical\",\n",
    "                                               target_size=(48,48),\n",
    "                                               subset=\"validation\",\n",
    "                                               color_mode=\"grayscale\",\n",
    "                                               shuffle=False)\n"
   ]
  },
  {
   "cell_type": "code",
   "execution_count": null,
   "id": "757fb7e0",
   "metadata": {},
   "outputs": [],
   "source": []
  },
  {
   "cell_type": "code",
   "execution_count": null,
   "id": "5866756f",
   "metadata": {},
   "outputs": [],
   "source": [
    "# create neural network\n",
    "from tensorflow.keras.models import Sequential"
   ]
  },
  {
   "cell_type": "code",
   "execution_count": null,
   "id": "610b41c6",
   "metadata": {},
   "outputs": [],
   "source": [
    "cnn_calc = Sequential()"
   ]
  },
  {
   "cell_type": "code",
   "execution_count": null,
   "id": "f2752837",
   "metadata": {},
   "outputs": [],
   "source": [
    "from tensorflow.keras.layers import Conv2D, Dense, Flatten, MaxPooling2D"
   ]
  },
  {
   "cell_type": "code",
   "execution_count": null,
   "id": "dd82f1b2",
   "metadata": {},
   "outputs": [],
   "source": [
    "# add layers\n",
    "cnn_calc.add(Conv2D(filters=32, kernel_size=(5,5), activation='relu', input_shape=(48, 48, 1)))"
   ]
  },
  {
   "cell_type": "code",
   "execution_count": null,
   "id": "2b7527d8",
   "metadata": {},
   "outputs": [],
   "source": [
    "# Add a Pooling Layer\n",
    "cnn_calc.add(MaxPooling2D(pool_size=(2, 2)))"
   ]
  },
  {
   "cell_type": "code",
   "execution_count": null,
   "id": "a4c7bf4d",
   "metadata": {},
   "outputs": [],
   "source": [
    "cnn_calc.add(Conv2D(filters=64, kernel_size=(5,5), activation='relu'))"
   ]
  },
  {
   "cell_type": "code",
   "execution_count": null,
   "id": "806f5ed6",
   "metadata": {},
   "outputs": [],
   "source": [
    "cnn_calc.add(MaxPooling2D(pool_size=(2,2)))"
   ]
  },
  {
   "cell_type": "markdown",
   "id": "e82c4d7c",
   "metadata": {},
   "source": [
    "#### Flattening the results"
   ]
  },
  {
   "cell_type": "code",
   "execution_count": null,
   "id": "4c43b2e0",
   "metadata": {},
   "outputs": [],
   "source": [
    "cnn_calc.add(Flatten())"
   ]
  },
  {
   "cell_type": "markdown",
   "id": "1948d170",
   "metadata": {},
   "source": [
    "#### Add dense layer to reduce the number of features"
   ]
  },
  {
   "cell_type": "code",
   "execution_count": null,
   "id": "a9a9a5d5",
   "metadata": {},
   "outputs": [],
   "source": [
    "from tensorflow.keras.layers import Dropout\n"
   ]
  },
  {
   "cell_type": "code",
   "execution_count": null,
   "id": "d5ee9d7a",
   "metadata": {},
   "outputs": [],
   "source": [
    "cnn_calc.add(Dropout(0.5)) # to avoid overfitting , drop 50%"
   ]
  },
  {
   "cell_type": "code",
   "execution_count": null,
   "id": "6be1cb0f",
   "metadata": {},
   "outputs": [],
   "source": [
    "cnn_calc.add(Dense(units=1024, activation='relu'))"
   ]
  },
  {
   "cell_type": "markdown",
   "id": "3387bffc",
   "metadata": {},
   "source": [
    "#### Dense layer to produce final output"
   ]
  },
  {
   "cell_type": "code",
   "execution_count": null,
   "id": "81f2e96a",
   "metadata": {},
   "outputs": [],
   "source": [
    "cnn_calc.add(Dense(units=2, activation='softmax')) # 2 units - B/ M"
   ]
  },
  {
   "cell_type": "code",
   "execution_count": null,
   "id": "64634982",
   "metadata": {},
   "outputs": [],
   "source": [
    "cnn_calc.summary()"
   ]
  },
  {
   "cell_type": "markdown",
   "id": "7b5561f7",
   "metadata": {},
   "source": [
    "#### Visualise the Model's Structure"
   ]
  },
  {
   "cell_type": "code",
   "execution_count": null,
   "id": "05fb2429",
   "metadata": {},
   "outputs": [],
   "source": [
    "from tensorflow.keras.utils import plot_model\n",
    "from IPython.display import Image"
   ]
  },
  {
   "cell_type": "code",
   "execution_count": null,
   "id": "6ce04ca7",
   "metadata": {},
   "outputs": [],
   "source": [
    "plot_model(cnn_calc, to_file='convnet.png', show_shapes=True, show_layer_names=True)\n",
    "Image(filename='convnet.png')"
   ]
  },
  {
   "cell_type": "code",
   "execution_count": null,
   "id": "c7b9a36e",
   "metadata": {},
   "outputs": [],
   "source": [
    "cnn_calc.compile(optimizer='adam',\n",
    "            loss='categorical_crossentropy',\n",
    "            metrics=['accuracy'])"
   ]
  },
  {
   "cell_type": "markdown",
   "id": "21ab17cb",
   "metadata": {},
   "source": [
    "### Training and Evaluating the Model"
   ]
  },
  {
   "cell_type": "code",
   "execution_count": null,
   "id": "6dea96e5",
   "metadata": {},
   "outputs": [],
   "source": [
    "from tensorflow.keras.callbacks import EarlyStopping\n",
    "early_stopping = EarlyStopping(patience=5, restore_best_weights=True)"
   ]
  },
  {
   "cell_type": "code",
   "execution_count": null,
   "id": "49cfa09d",
   "metadata": {},
   "outputs": [],
   "source": [
    "cnn_calc.fit(train_data, \n",
    "             validation_data=test_data, \n",
    "             epochs=100, \n",
    "             batch_size=32,\n",
    "             callbacks=[early_stopping])"
   ]
  },
  {
   "cell_type": "code",
   "execution_count": null,
   "id": "2da7d22f",
   "metadata": {},
   "outputs": [],
   "source": []
  },
  {
   "cell_type": "code",
   "execution_count": null,
   "id": "da56ba3e",
   "metadata": {},
   "outputs": [],
   "source": [
    "calcifications2 = test_sub[test_sub.ab_class == 'CALC']\n",
    "calcifications2"
   ]
  },
  {
   "cell_type": "code",
   "execution_count": null,
   "id": "4242b07c",
   "metadata": {},
   "outputs": [],
   "source": [
    "from PIL import Image\n",
    "for idx, row in calcifications2.iterrows():\n",
    "    print(row)\n",
    "    img = Image.open(row['subsample_path'])\n",
    "    # Create a figure. Equal aspect so circles look circular\n",
    "    fig, ax = plt.subplots(1)\n",
    "\n",
    "    fig.set_size_inches(12, 10)\n",
    "    ax.set_aspect('equal')\n",
    "\n",
    "    # Show the image\n",
    "    ax.imshow(img)\n",
    "    ax.set_ylim(bottom=0, top=1024)\n",
    "\n",
    "    # create a circle to patch on the image\n",
    "    x = pd.to_numeric(row['x'])\n",
    "    y = pd.to_numeric(row['y'])\n",
    "    r = pd.to_numeric(row['radius'])\n",
    "    circ = Circle((x,1024-y), r, fill=False)\n",
    "    ax.add_patch(circ)\n",
    "    print(x, y, r)"
   ]
  },
  {
   "cell_type": "code",
   "execution_count": null,
   "id": "5874b601",
   "metadata": {},
   "outputs": [],
   "source": [
    "scans_filenames_dic"
   ]
  },
  {
   "cell_type": "code",
   "execution_count": null,
   "id": "f63e1976",
   "metadata": {},
   "outputs": [],
   "source": []
  }
 ],
 "metadata": {
  "kernelspec": {
   "display_name": "Python 3",
   "language": "python",
   "name": "python3"
  },
  "language_info": {
   "codemirror_mode": {
    "name": "ipython",
    "version": 3
   },
   "file_extension": ".py",
   "mimetype": "text/x-python",
   "name": "python",
   "nbconvert_exporter": "python",
   "pygments_lexer": "ipython3",
   "version": "3.8.8"
  }
 },
 "nbformat": 4,
 "nbformat_minor": 5
}
