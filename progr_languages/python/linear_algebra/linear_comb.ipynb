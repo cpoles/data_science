{
 "cells": [
  {
   "cell_type": "markdown",
   "id": "2ea661be",
   "metadata": {},
   "source": [
    "### Linear Combinations"
   ]
  },
  {
   "cell_type": "markdown",
   "id": "c0ece69c",
   "metadata": {},
   "source": [
    "Optimizing Investment Stock Options"
   ]
  },
  {
   "cell_type": "code",
   "execution_count": 3,
   "id": "14a85209",
   "metadata": {},
   "outputs": [],
   "source": [
    "import numpy as np\n",
    "from scipy.optimize import linprog"
   ]
  },
  {
   "cell_type": "code",
   "execution_count": 4,
   "id": "9594a0c0",
   "metadata": {},
   "outputs": [],
   "source": [
    "c = [0.0037, 0.0024, 0.0014, 0.0030, 0.0024, 0.0019, 0.0028, 0.0018, 0.0025, 0.0024]\n",
    "c = np.multiply(-1.0, c) # multiply by -1 so that we can use the linprog function for maximization"
   ]
  },
  {
   "cell_type": "code",
   "execution_count": 6,
   "id": "43ba0398",
   "metadata": {},
   "outputs": [],
   "source": [
    "A_eq = np.ones((1,10)) # equality condition\n",
    "b_eq = np.array([1.0]) # equality condition"
   ]
  },
  {
   "cell_type": "code",
   "execution_count": 7,
   "id": "69b21da9",
   "metadata": {},
   "outputs": [
    {
     "data": {
      "text/plain": [
       "array([[ 1.,  0.,  0.,  0.,  0.,  0.,  0.,  0.,  0.,  0.],\n",
       "       [ 0.,  1.,  0.,  0.,  0.,  0.,  0.,  0.,  0.,  0.],\n",
       "       [ 0.,  0.,  1.,  0.,  0.,  0.,  0.,  0.,  0.,  0.],\n",
       "       [ 0.,  0.,  0.,  1.,  0.,  0.,  0.,  0.,  0.,  0.],\n",
       "       [ 0.,  0.,  0.,  0.,  1.,  0.,  0.,  0.,  0.,  0.],\n",
       "       [ 0.,  0.,  0.,  0.,  0.,  1.,  0.,  0.,  0.,  0.],\n",
       "       [ 0.,  0.,  0.,  0.,  0.,  0.,  1.,  0.,  0.,  0.],\n",
       "       [ 0.,  0.,  0.,  0.,  0.,  0.,  0.,  1.,  0.,  0.],\n",
       "       [ 0.,  0.,  0.,  0.,  0.,  0.,  0.,  0.,  1.,  0.],\n",
       "       [ 0.,  0.,  0.,  0.,  0.,  0.,  0.,  0.,  0.,  1.],\n",
       "       [-1., -0., -0., -0., -0., -0., -0., -0., -0., -0.],\n",
       "       [-0., -1., -0., -0., -0., -0., -0., -0., -0., -0.],\n",
       "       [-0., -0., -1., -0., -0., -0., -0., -0., -0., -0.],\n",
       "       [-0., -0., -0., -1., -0., -0., -0., -0., -0., -0.],\n",
       "       [-0., -0., -0., -0., -1., -0., -0., -0., -0., -0.],\n",
       "       [-0., -0., -0., -0., -0., -1., -0., -0., -0., -0.],\n",
       "       [-0., -0., -0., -0., -0., -0., -1., -0., -0., -0.],\n",
       "       [-0., -0., -0., -0., -0., -0., -0., -1., -0., -0.],\n",
       "       [-0., -0., -0., -0., -0., -0., -0., -0., -1., -0.],\n",
       "       [-0., -0., -0., -0., -0., -0., -0., -0., -0., -1.]])"
      ]
     },
     "execution_count": 7,
     "metadata": {},
     "output_type": "execute_result"
    }
   ],
   "source": [
    "A_ub = np.append(np.eye(10), -1.0*np.eye(10), axis=0) # Para as inequações\n",
    "b_ub = np.append(0.30*np.ones((10,)), np.zeros((10,)), axis=0) # Para as inequações\n",
    "\n",
    "A_ub"
   ]
  },
  {
   "cell_type": "code",
   "execution_count": 8,
   "id": "287dcb78",
   "metadata": {},
   "outputs": [
    {
     "data": {
      "text/plain": [
       "array([[ 1.    ,  0.    ,  0.    ,  0.    ,  0.    ,  0.    ,  0.    ,\n",
       "         0.    ,  0.    ,  0.    ],\n",
       "       [ 0.    ,  1.    ,  0.    ,  0.    ,  0.    ,  0.    ,  0.    ,\n",
       "         0.    ,  0.    ,  0.    ],\n",
       "       [ 0.    ,  0.    ,  1.    ,  0.    ,  0.    ,  0.    ,  0.    ,\n",
       "         0.    ,  0.    ,  0.    ],\n",
       "       [ 0.    ,  0.    ,  0.    ,  1.    ,  0.    ,  0.    ,  0.    ,\n",
       "         0.    ,  0.    ,  0.    ],\n",
       "       [ 0.    ,  0.    ,  0.    ,  0.    ,  1.    ,  0.    ,  0.    ,\n",
       "         0.    ,  0.    ,  0.    ],\n",
       "       [ 0.    ,  0.    ,  0.    ,  0.    ,  0.    ,  1.    ,  0.    ,\n",
       "         0.    ,  0.    ,  0.    ],\n",
       "       [ 0.    ,  0.    ,  0.    ,  0.    ,  0.    ,  0.    ,  1.    ,\n",
       "         0.    ,  0.    ,  0.    ],\n",
       "       [ 0.    ,  0.    ,  0.    ,  0.    ,  0.    ,  0.    ,  0.    ,\n",
       "         1.    ,  0.    ,  0.    ],\n",
       "       [ 0.    ,  0.    ,  0.    ,  0.    ,  0.    ,  0.    ,  0.    ,\n",
       "         0.    ,  1.    ,  0.    ],\n",
       "       [ 0.    ,  0.    ,  0.    ,  0.    ,  0.    ,  0.    ,  0.    ,\n",
       "         0.    ,  0.    ,  1.    ],\n",
       "       [-1.    , -0.    , -0.    , -0.    , -0.    , -0.    , -0.    ,\n",
       "        -0.    , -0.    , -0.    ],\n",
       "       [-0.    , -1.    , -0.    , -0.    , -0.    , -0.    , -0.    ,\n",
       "        -0.    , -0.    , -0.    ],\n",
       "       [-0.    , -0.    , -1.    , -0.    , -0.    , -0.    , -0.    ,\n",
       "        -0.    , -0.    , -0.    ],\n",
       "       [-0.    , -0.    , -0.    , -1.    , -0.    , -0.    , -0.    ,\n",
       "        -0.    , -0.    , -0.    ],\n",
       "       [-0.    , -0.    , -0.    , -0.    , -1.    , -0.    , -0.    ,\n",
       "        -0.    , -0.    , -0.    ],\n",
       "       [-0.    , -0.    , -0.    , -0.    , -0.    , -1.    , -0.    ,\n",
       "        -0.    , -0.    , -0.    ],\n",
       "       [-0.    , -0.    , -0.    , -0.    , -0.    , -0.    , -1.    ,\n",
       "        -0.    , -0.    , -0.    ],\n",
       "       [-0.    , -0.    , -0.    , -0.    , -0.    , -0.    , -0.    ,\n",
       "        -1.    , -0.    , -0.    ],\n",
       "       [-0.    , -0.    , -0.    , -0.    , -0.    , -0.    , -0.    ,\n",
       "        -0.    , -1.    , -0.    ],\n",
       "       [-0.    , -0.    , -0.    , -0.    , -0.    , -0.    , -0.    ,\n",
       "        -0.    , -0.    , -1.    ],\n",
       "       [ 0.0248,  0.0216,  0.0195,  0.0293,  0.024 ,  0.02  ,  0.0263,\n",
       "         0.0214,  0.0273,  0.0247]])"
      ]
     },
     "execution_count": 8,
     "metadata": {},
     "output_type": "execute_result"
    }
   ],
   "source": [
    "A_ub = np.append(A_ub, [[0.0248, 0.0216, 0.0195, 0.0293, 0.0240, 0.0200, 0.0263, 0.0214, 0.0273, 0.0247]], axis=0)\n",
    "b_ub = np.append(b_ub, [0.0250])\n",
    "\n",
    "A_ub"
   ]
  },
  {
   "cell_type": "code",
   "execution_count": 9,
   "id": "668aee09",
   "metadata": {},
   "outputs": [
    {
     "name": "stdout",
     "output_type": "stream",
     "text": [
      "Optimization terminated successfully.\n",
      "         Current function value: -0.002990   \n",
      "         Iterations: 19\n"
     ]
    }
   ],
   "source": [
    "res = linprog(c, A_eq=A_eq, b_eq=b_eq, A_ub=A_ub, b_ub=b_ub, method='simplex', options = {'disp': True, 'maxiter': 1000})"
   ]
  },
  {
   "cell_type": "code",
   "execution_count": 10,
   "id": "53073956",
   "metadata": {},
   "outputs": [
    {
     "name": "stdout",
     "output_type": "stream",
     "text": [
      "Valor ótimo:  0.0029902597402597405\n",
      "X:\n",
      "x_{ 1 } =  0.3\n",
      "x_{ 2 } =  0.2662337662337659\n",
      "x_{ 3 } =  0.0\n",
      "x_{ 4 } =  0.13376623376623417\n",
      "x_{ 5 } =  0.0\n",
      "x_{ 6 } =  0.0\n",
      "x_{ 7 } =  0.3\n",
      "x_{ 8 } =  0.0\n",
      "x_{ 9 } =  0.0\n",
      "x_{ 10 } =  0.0\n"
     ]
    }
   ],
   "source": [
    "print(\"Valor ótimo: \", -res.fun)\n",
    "print( \"X:\")\n",
    "for k, xk in enumerate(res.x):\n",
    "    print(\"x_{\", str(k+1), \"} = \", xk)"
   ]
  },
  {
   "cell_type": "code",
   "execution_count": null,
   "id": "37d11177",
   "metadata": {},
   "outputs": [],
   "source": []
  }
 ],
 "metadata": {
  "kernelspec": {
   "display_name": "Python 3",
   "language": "python",
   "name": "python3"
  },
  "language_info": {
   "codemirror_mode": {
    "name": "ipython",
    "version": 3
   },
   "file_extension": ".py",
   "mimetype": "text/x-python",
   "name": "python",
   "nbconvert_exporter": "python",
   "pygments_lexer": "ipython3",
   "version": "3.8.8"
  }
 },
 "nbformat": 4,
 "nbformat_minor": 5
}
