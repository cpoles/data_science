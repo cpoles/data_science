{
 "cells": [
  {
   "cell_type": "markdown",
   "id": "amateur-youth",
   "metadata": {},
   "source": [
    "# Determinants"
   ]
  },
  {
   "cell_type": "code",
   "execution_count": 1,
   "id": "underlying-monster",
   "metadata": {},
   "outputs": [],
   "source": [
    "import numpy as np"
   ]
  },
  {
   "cell_type": "code",
   "execution_count": 2,
   "id": "complimentary-valley",
   "metadata": {},
   "outputs": [
    {
     "data": {
      "text/plain": [
       "array([[ 1,  2,  4],\n",
       "       [ 5,  3, -1],\n",
       "       [ 7,  2,  0]])"
      ]
     },
     "execution_count": 2,
     "metadata": {},
     "output_type": "execute_result"
    }
   ],
   "source": [
    "A = np.array([[1,2,4], [5,3,-1], [7,2,0]])\n",
    "A"
   ]
  },
  {
   "cell_type": "code",
   "execution_count": 6,
   "id": "adapted-conditions",
   "metadata": {},
   "outputs": [
    {
     "data": {
      "text/plain": [
       "-56.00000000000002"
      ]
     },
     "execution_count": 6,
     "metadata": {},
     "output_type": "execute_result"
    }
   ],
   "source": [
    "det_A = np.linalg.det(A)\n",
    "det_A"
   ]
  },
  {
   "cell_type": "code",
   "execution_count": 7,
   "id": "mysterious-somalia",
   "metadata": {},
   "outputs": [
    {
     "data": {
      "text/plain": [
       "array([[ 1,  2,  4,  5,  6,  7],\n",
       "       [ 5,  3, -1,  5,  1,  2],\n",
       "       [ 7,  2,  0,  1,  4,  9]])"
      ]
     },
     "execution_count": 7,
     "metadata": {},
     "output_type": "execute_result"
    }
   ],
   "source": [
    "B = np.array([[1,2,4,5,6,7], [5,3,-1,5,1,2], [7,2,0,1,4,9]])\n",
    "B # can't calculate determinant. it must be a squared matrix"
   ]
  },
  {
   "cell_type": "code",
   "execution_count": 15,
   "id": "fatal-failure",
   "metadata": {},
   "outputs": [
    {
     "ename": "LinAlgError",
     "evalue": "Last 2 dimensions of the array must be square",
     "output_type": "error",
     "traceback": [
      "\u001b[0;31m---------------------------------------------------------------------------\u001b[0m",
      "\u001b[0;31mLinAlgError\u001b[0m                               Traceback (most recent call last)",
      "\u001b[0;32m<ipython-input-15-56f5f190c7bc>\u001b[0m in \u001b[0;36m<module>\u001b[0;34m\u001b[0m\n\u001b[0;32m----> 1\u001b[0;31m \u001b[0mdet_B\u001b[0m \u001b[0;34m=\u001b[0m \u001b[0mnp\u001b[0m\u001b[0;34m.\u001b[0m\u001b[0mlinalg\u001b[0m\u001b[0;34m.\u001b[0m\u001b[0mdet\u001b[0m\u001b[0;34m(\u001b[0m\u001b[0mB\u001b[0m\u001b[0;34m)\u001b[0m \u001b[0;31m# error. Not a squared matrix. B.shape = 3x6\u001b[0m\u001b[0;34m\u001b[0m\u001b[0;34m\u001b[0m\u001b[0m\n\u001b[0m",
      "\u001b[0;32m<__array_function__ internals>\u001b[0m in \u001b[0;36mdet\u001b[0;34m(*args, **kwargs)\u001b[0m\n",
      "\u001b[0;32m/opt/anaconda3/lib/python3.8/site-packages/numpy/linalg/linalg.py\u001b[0m in \u001b[0;36mdet\u001b[0;34m(a)\u001b[0m\n\u001b[1;32m   2154\u001b[0m     \u001b[0ma\u001b[0m \u001b[0;34m=\u001b[0m \u001b[0masarray\u001b[0m\u001b[0;34m(\u001b[0m\u001b[0ma\u001b[0m\u001b[0;34m)\u001b[0m\u001b[0;34m\u001b[0m\u001b[0;34m\u001b[0m\u001b[0m\n\u001b[1;32m   2155\u001b[0m     \u001b[0m_assert_stacked_2d\u001b[0m\u001b[0;34m(\u001b[0m\u001b[0ma\u001b[0m\u001b[0;34m)\u001b[0m\u001b[0;34m\u001b[0m\u001b[0;34m\u001b[0m\u001b[0m\n\u001b[0;32m-> 2156\u001b[0;31m     \u001b[0m_assert_stacked_square\u001b[0m\u001b[0;34m(\u001b[0m\u001b[0ma\u001b[0m\u001b[0;34m)\u001b[0m\u001b[0;34m\u001b[0m\u001b[0;34m\u001b[0m\u001b[0m\n\u001b[0m\u001b[1;32m   2157\u001b[0m     \u001b[0mt\u001b[0m\u001b[0;34m,\u001b[0m \u001b[0mresult_t\u001b[0m \u001b[0;34m=\u001b[0m \u001b[0m_commonType\u001b[0m\u001b[0;34m(\u001b[0m\u001b[0ma\u001b[0m\u001b[0;34m)\u001b[0m\u001b[0;34m\u001b[0m\u001b[0;34m\u001b[0m\u001b[0m\n\u001b[1;32m   2158\u001b[0m     \u001b[0msignature\u001b[0m \u001b[0;34m=\u001b[0m \u001b[0;34m'D->D'\u001b[0m \u001b[0;32mif\u001b[0m \u001b[0misComplexType\u001b[0m\u001b[0;34m(\u001b[0m\u001b[0mt\u001b[0m\u001b[0;34m)\u001b[0m \u001b[0;32melse\u001b[0m \u001b[0;34m'd->d'\u001b[0m\u001b[0;34m\u001b[0m\u001b[0;34m\u001b[0m\u001b[0m\n",
      "\u001b[0;32m/opt/anaconda3/lib/python3.8/site-packages/numpy/linalg/linalg.py\u001b[0m in \u001b[0;36m_assert_stacked_square\u001b[0;34m(*arrays)\u001b[0m\n\u001b[1;32m    202\u001b[0m         \u001b[0mm\u001b[0m\u001b[0;34m,\u001b[0m \u001b[0mn\u001b[0m \u001b[0;34m=\u001b[0m \u001b[0ma\u001b[0m\u001b[0;34m.\u001b[0m\u001b[0mshape\u001b[0m\u001b[0;34m[\u001b[0m\u001b[0;34m-\u001b[0m\u001b[0;36m2\u001b[0m\u001b[0;34m:\u001b[0m\u001b[0;34m]\u001b[0m\u001b[0;34m\u001b[0m\u001b[0;34m\u001b[0m\u001b[0m\n\u001b[1;32m    203\u001b[0m         \u001b[0;32mif\u001b[0m \u001b[0mm\u001b[0m \u001b[0;34m!=\u001b[0m \u001b[0mn\u001b[0m\u001b[0;34m:\u001b[0m\u001b[0;34m\u001b[0m\u001b[0;34m\u001b[0m\u001b[0m\n\u001b[0;32m--> 204\u001b[0;31m             \u001b[0;32mraise\u001b[0m \u001b[0mLinAlgError\u001b[0m\u001b[0;34m(\u001b[0m\u001b[0;34m'Last 2 dimensions of the array must be square'\u001b[0m\u001b[0;34m)\u001b[0m\u001b[0;34m\u001b[0m\u001b[0;34m\u001b[0m\u001b[0m\n\u001b[0m\u001b[1;32m    205\u001b[0m \u001b[0;34m\u001b[0m\u001b[0m\n\u001b[1;32m    206\u001b[0m \u001b[0;32mdef\u001b[0m \u001b[0m_assert_finite\u001b[0m\u001b[0;34m(\u001b[0m\u001b[0;34m*\u001b[0m\u001b[0marrays\u001b[0m\u001b[0;34m)\u001b[0m\u001b[0;34m:\u001b[0m\u001b[0;34m\u001b[0m\u001b[0;34m\u001b[0m\u001b[0m\n",
      "\u001b[0;31mLinAlgError\u001b[0m: Last 2 dimensions of the array must be square"
     ]
    }
   ],
   "source": [
    "det_B = np.linalg.det(B) # error. Not a squared matrix. B.shape = 3x6"
   ]
  },
  {
   "cell_type": "code",
   "execution_count": 9,
   "id": "needed-kingdom",
   "metadata": {},
   "outputs": [
    {
     "data": {
      "text/plain": [
       "(6, 6)"
      ]
     },
     "execution_count": 9,
     "metadata": {},
     "output_type": "execute_result"
    }
   ],
   "source": [
    "C = np.array([[1,2,4,5,6,7], [5,3,-1,5,1,2], [7,2,0,1,4,9],\n",
    "              [1,2,1,5,6,5], [-7,2,4,-1,6,6], [0,2,5,5,9,7]])\n",
    "C.shape"
   ]
  },
  {
   "cell_type": "code",
   "execution_count": 16,
   "id": "selective-wallace",
   "metadata": {},
   "outputs": [
    {
     "data": {
      "text/plain": [
       "8184.000000000006"
      ]
     },
     "execution_count": 16,
     "metadata": {},
     "output_type": "execute_result"
    }
   ],
   "source": [
    "# calculate the determinant of C (6,6)\n",
    "det_C = np.linalg.det(C)\n",
    "det_C"
   ]
  },
  {
   "cell_type": "markdown",
   "id": "southern-specific",
   "metadata": {},
   "source": [
    "### Properties of Determinants"
   ]
  },
  {
   "cell_type": "code",
   "execution_count": 17,
   "id": "advance-theme",
   "metadata": {},
   "outputs": [],
   "source": [
    "A = np.array([[1,2,4],\n",
    "              [5,3,-1],\n",
    "              [7,2,0]]) # 3x3 squared matrix\n",
    "\n",
    "Az = np.zeros((3,3)) # null matrix"
   ]
  },
  {
   "cell_type": "code",
   "execution_count": 18,
   "id": "greatest-palestine",
   "metadata": {},
   "outputs": [
    {
     "data": {
      "text/plain": [
       "array([[ 1,  2,  4],\n",
       "       [ 5,  3, -1],\n",
       "       [ 7,  2,  0]])"
      ]
     },
     "execution_count": 18,
     "metadata": {},
     "output_type": "execute_result"
    }
   ],
   "source": [
    "A"
   ]
  },
  {
   "cell_type": "code",
   "execution_count": 19,
   "id": "incomplete-discount",
   "metadata": {},
   "outputs": [
    {
     "data": {
      "text/plain": [
       "array([[0., 0., 0.],\n",
       "       [0., 0., 0.],\n",
       "       [0., 0., 0.]])"
      ]
     },
     "execution_count": 19,
     "metadata": {},
     "output_type": "execute_result"
    }
   ],
   "source": [
    "Az"
   ]
  },
  {
   "cell_type": "markdown",
   "id": "romance-midwest",
   "metadata": {},
   "source": [
    "- 1. The determinant of null matrix is zero"
   ]
  },
  {
   "cell_type": "code",
   "execution_count": 22,
   "id": "improving-medication",
   "metadata": {},
   "outputs": [
    {
     "data": {
      "text/plain": [
       "0.0"
      ]
     },
     "execution_count": 22,
     "metadata": {},
     "output_type": "execute_result"
    }
   ],
   "source": [
    "det_Az = np.linalg.det(Az)\n",
    "det_Az"
   ]
  },
  {
   "cell_type": "markdown",
   "id": "express-folder",
   "metadata": {},
   "source": [
    "- 2. The determinant of A = Determinant of A.T"
   ]
  },
  {
   "cell_type": "code",
   "execution_count": 23,
   "id": "veterinary-holly",
   "metadata": {},
   "outputs": [
    {
     "data": {
      "text/plain": [
       "True"
      ]
     },
     "execution_count": 23,
     "metadata": {},
     "output_type": "execute_result"
    }
   ],
   "source": [
    "np.linalg.det(A) == np.linalg.det(A.T)"
   ]
  },
  {
   "cell_type": "markdown",
   "id": "economic-camping",
   "metadata": {},
   "source": [
    "- 3. If B = k*A[0,:], det(B) = k*det(A)"
   ]
  },
  {
   "cell_type": "code",
   "execution_count": 25,
   "id": "attached-steel",
   "metadata": {},
   "outputs": [
    {
     "data": {
      "text/plain": [
       "array([[ 3,  6, 12],\n",
       "       [ 5,  3, -1],\n",
       "       [ 7,  2,  0]])"
      ]
     },
     "execution_count": 25,
     "metadata": {},
     "output_type": "execute_result"
    }
   ],
   "source": [
    "k = 3\n",
    "F = A.copy()\n",
    "F[0,:] = k*F[0,:]\n",
    "F"
   ]
  },
  {
   "cell_type": "code",
   "execution_count": 33,
   "id": "imported-papua",
   "metadata": {},
   "outputs": [
    {
     "data": {
      "text/plain": [
       "True"
      ]
     },
     "execution_count": 33,
     "metadata": {},
     "output_type": "execute_result"
    }
   ],
   "source": [
    "np.linalg.det(A).round() * k == np.linalg.det(F).round()"
   ]
  },
  {
   "cell_type": "markdown",
   "id": "recovered-merit",
   "metadata": {},
   "source": [
    "- 4. Swaping two rows negates the det signal"
   ]
  },
  {
   "cell_type": "code",
   "execution_count": 34,
   "id": "champion-syntax",
   "metadata": {},
   "outputs": [],
   "source": [
    "row1 = A[0,:]\n",
    "row2 = A[1,:]\n",
    "row3 = A[2,:]"
   ]
  },
  {
   "cell_type": "code",
   "execution_count": 36,
   "id": "traditional-picnic",
   "metadata": {},
   "outputs": [
    {
     "data": {
      "text/plain": [
       "array([[ 5,  3, -1],\n",
       "       [ 1,  2,  4],\n",
       "       [ 7,  2,  0]])"
      ]
     },
     "execution_count": 36,
     "metadata": {},
     "output_type": "execute_result"
    }
   ],
   "source": [
    "G = np.array([row2, row1, row3])\n",
    "G"
   ]
  },
  {
   "cell_type": "code",
   "execution_count": 38,
   "id": "smaller-perfume",
   "metadata": {},
   "outputs": [
    {
     "data": {
      "text/plain": [
       "-56.00000000000002"
      ]
     },
     "execution_count": 38,
     "metadata": {},
     "output_type": "execute_result"
    }
   ],
   "source": [
    "np.linalg.det(A) # negative"
   ]
  },
  {
   "cell_type": "code",
   "execution_count": 39,
   "id": "affected-advocate",
   "metadata": {},
   "outputs": [
    {
     "data": {
      "text/plain": [
       "56.00000000000002"
      ]
     },
     "execution_count": 39,
     "metadata": {},
     "output_type": "execute_result"
    }
   ],
   "source": [
    "np.linalg.det(G) # positive"
   ]
  },
  {
   "cell_type": "code",
   "execution_count": 40,
   "id": "signed-audience",
   "metadata": {},
   "outputs": [
    {
     "data": {
      "text/plain": [
       "True"
      ]
     },
     "execution_count": 40,
     "metadata": {},
     "output_type": "execute_result"
    }
   ],
   "source": [
    "np.linalg.det(A) == -(np.linalg.det(G))"
   ]
  },
  {
   "cell_type": "markdown",
   "id": "clear-flower",
   "metadata": {},
   "source": [
    "- 5. Matrix with two equal rows -> determinant = 0"
   ]
  },
  {
   "cell_type": "code",
   "execution_count": 41,
   "id": "strong-liberty",
   "metadata": {},
   "outputs": [
    {
     "data": {
      "text/plain": [
       "array([[1, 2, 4],\n",
       "       [1, 2, 4],\n",
       "       [7, 2, 0]])"
      ]
     },
     "execution_count": 41,
     "metadata": {},
     "output_type": "execute_result"
    }
   ],
   "source": [
    "H = np.array([row1, row1, row3])\n",
    "H"
   ]
  },
  {
   "cell_type": "code",
   "execution_count": 42,
   "id": "forty-grocery",
   "metadata": {},
   "outputs": [
    {
     "data": {
      "text/plain": [
       "True"
      ]
     },
     "execution_count": 42,
     "metadata": {},
     "output_type": "execute_result"
    }
   ],
   "source": [
    "np.linalg.det(H) == 0"
   ]
  },
  {
   "cell_type": "markdown",
   "id": "grave-gauge",
   "metadata": {},
   "source": [
    "- 6. Det(A+B) != det(A) + det(B)"
   ]
  },
  {
   "cell_type": "code",
   "execution_count": 49,
   "id": "german-style",
   "metadata": {},
   "outputs": [],
   "source": [
    "B = np.array([[0,5,4], \n",
    "              [8,2,1], \n",
    "              [9,2,3]])\n",
    "\n",
    "det_B = np.linalg.det(B)"
   ]
  },
  {
   "cell_type": "code",
   "execution_count": 50,
   "id": "broke-hundred",
   "metadata": {},
   "outputs": [
    {
     "data": {
      "text/plain": [
       "True"
      ]
     },
     "execution_count": 50,
     "metadata": {},
     "output_type": "execute_result"
    }
   ],
   "source": [
    "np.linalg.det(A+B) != det_A + det_B"
   ]
  },
  {
   "cell_type": "code",
   "execution_count": 51,
   "id": "chemical-report",
   "metadata": {},
   "outputs": [
    {
     "data": {
      "text/plain": [
       "False"
      ]
     },
     "execution_count": 51,
     "metadata": {},
     "output_type": "execute_result"
    }
   ],
   "source": [
    "np.array_equal(np.linalg.det(A+B), det_A + det_B)"
   ]
  },
  {
   "cell_type": "markdown",
   "id": "sustained-execution",
   "metadata": {},
   "source": [
    "- 7. Determinant of the dot product == product of the determinants"
   ]
  },
  {
   "cell_type": "code",
   "execution_count": 54,
   "id": "clear-blood",
   "metadata": {},
   "outputs": [
    {
     "data": {
      "text/plain": [
       "True"
      ]
     },
     "execution_count": 54,
     "metadata": {},
     "output_type": "execute_result"
    }
   ],
   "source": [
    "np.linalg.det(A.dot(B)).round() == (det_A * det_B).round()"
   ]
  },
  {
   "cell_type": "code",
   "execution_count": null,
   "id": "maritime-percentage",
   "metadata": {},
   "outputs": [],
   "source": []
  }
 ],
 "metadata": {
  "kernelspec": {
   "display_name": "Python 3",
   "language": "python",
   "name": "python3"
  },
  "language_info": {
   "codemirror_mode": {
    "name": "ipython",
    "version": 3
   },
   "file_extension": ".py",
   "mimetype": "text/x-python",
   "name": "python",
   "nbconvert_exporter": "python",
   "pygments_lexer": "ipython3",
   "version": "3.8.8"
  }
 },
 "nbformat": 4,
 "nbformat_minor": 5
}
