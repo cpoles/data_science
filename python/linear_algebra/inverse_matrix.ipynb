{
 "cells": [
  {
   "cell_type": "markdown",
   "id": "functioning-decrease",
   "metadata": {},
   "source": [
    "# Inverse Matrix"
   ]
  },
  {
   "cell_type": "code",
   "execution_count": 2,
   "id": "electoral-breathing",
   "metadata": {},
   "outputs": [],
   "source": [
    "import numpy as np\n",
    "from numpy.linalg import det, inv"
   ]
  },
  {
   "cell_type": "code",
   "execution_count": 3,
   "id": "bearing-issue",
   "metadata": {},
   "outputs": [],
   "source": [
    "A = np.array([[1,-7,2],\n",
    "              [4,2,7],\n",
    "              [1,4,-1]])\n",
    "B = np.array([[1,1,2],\n",
    "              [1,1,2],\n",
    "              [3,-1,-1]])"
   ]
  },
  {
   "cell_type": "code",
   "execution_count": 4,
   "id": "whole-covering",
   "metadata": {},
   "outputs": [
    {
     "data": {
      "text/plain": [
       "array([[ 1, -7,  2],\n",
       "       [ 4,  2,  7],\n",
       "       [ 1,  4, -1]])"
      ]
     },
     "execution_count": 4,
     "metadata": {},
     "output_type": "execute_result"
    }
   ],
   "source": [
    "A"
   ]
  },
  {
   "cell_type": "code",
   "execution_count": 5,
   "id": "respected-distance",
   "metadata": {},
   "outputs": [
    {
     "data": {
      "text/plain": [
       "array([[ 1,  1,  2],\n",
       "       [ 1,  1,  2],\n",
       "       [ 3, -1, -1]])"
      ]
     },
     "execution_count": 5,
     "metadata": {},
     "output_type": "execute_result"
    }
   ],
   "source": [
    "B"
   ]
  },
  {
   "cell_type": "code",
   "execution_count": 6,
   "id": "greenhouse-wrestling",
   "metadata": {},
   "outputs": [
    {
     "data": {
      "text/plain": [
       "True"
      ]
     },
     "execution_count": 6,
     "metadata": {},
     "output_type": "execute_result"
    }
   ],
   "source": [
    "# check if the inverse matrix exists. det(A) != 0\n",
    "det(A) != 0"
   ]
  },
  {
   "cell_type": "code",
   "execution_count": 7,
   "id": "severe-subject",
   "metadata": {},
   "outputs": [
    {
     "data": {
      "text/plain": [
       "array([[ 0.37974684, -0.01265823,  0.67088608],\n",
       "       [-0.13924051,  0.03797468, -0.01265823],\n",
       "       [-0.17721519,  0.13924051, -0.37974684]])"
      ]
     },
     "execution_count": 7,
     "metadata": {},
     "output_type": "execute_result"
    }
   ],
   "source": [
    "# get the inverse matrix of A\n",
    "inv_A = inv(A)\n",
    "inv_A"
   ]
  },
  {
   "cell_type": "code",
   "execution_count": 11,
   "id": "vertical-texture",
   "metadata": {},
   "outputs": [
    {
     "data": {
      "text/plain": [
       "array([[ 1.,  0., -0.],\n",
       "       [ 0.,  1.,  0.],\n",
       "       [ 0.,  0.,  1.]])"
      ]
     },
     "execution_count": 11,
     "metadata": {},
     "output_type": "execute_result"
    }
   ],
   "source": [
    "inv_A.dot(A).round()"
   ]
  },
  {
   "cell_type": "code",
   "execution_count": 12,
   "id": "accepted-upgrade",
   "metadata": {},
   "outputs": [
    {
     "data": {
      "text/plain": [
       "0.0"
      ]
     },
     "execution_count": 12,
     "metadata": {},
     "output_type": "execute_result"
    }
   ],
   "source": [
    "# check if B has an inverse matrix\n",
    "det(B)"
   ]
  },
  {
   "cell_type": "code",
   "execution_count": 13,
   "id": "ready-gates",
   "metadata": {},
   "outputs": [],
   "source": [
    "# since det(B) == 0, B has not inverse matrix"
   ]
  },
  {
   "cell_type": "markdown",
   "id": "automated-raising",
   "metadata": {},
   "source": [
    "### Properties of Inverse Matrix"
   ]
  },
  {
   "cell_type": "code",
   "execution_count": 14,
   "id": "sustainable-aberdeen",
   "metadata": {},
   "outputs": [],
   "source": [
    "# those matrices do not represent general cases\n",
    "C = np.array([[1,-2,3],\n",
    "              [4,6,1],\n",
    "              [0,2,1]])\n",
    "\n",
    "D = np.array([[0,2,5],\n",
    "              [1,3,1],\n",
    "              [0,1,-3]])"
   ]
  },
  {
   "cell_type": "code",
   "execution_count": 15,
   "id": "iraqi-tattoo",
   "metadata": {},
   "outputs": [
    {
     "data": {
      "text/plain": [
       "array([[ 1, -2,  3],\n",
       "       [ 4,  6,  1],\n",
       "       [ 0,  2,  1]])"
      ]
     },
     "execution_count": 15,
     "metadata": {},
     "output_type": "execute_result"
    }
   ],
   "source": [
    "C"
   ]
  },
  {
   "cell_type": "code",
   "execution_count": 16,
   "id": "genetic-upset",
   "metadata": {},
   "outputs": [
    {
     "data": {
      "text/plain": [
       "array([[ 0,  2,  5],\n",
       "       [ 1,  3,  1],\n",
       "       [ 0,  1, -3]])"
      ]
     },
     "execution_count": 16,
     "metadata": {},
     "output_type": "execute_result"
    }
   ],
   "source": [
    "D"
   ]
  },
  {
   "cell_type": "markdown",
   "id": "suspended-brain",
   "metadata": {},
   "source": [
    "- 1. if inv(A) exists then inv(inv(A)) also does\n"
   ]
  },
  {
   "cell_type": "code",
   "execution_count": 25,
   "id": "local-beijing",
   "metadata": {},
   "outputs": [
    {
     "data": {
      "text/plain": [
       "array([[-1.,  1., -1.],\n",
       "       [ 0.,  0.,  0.],\n",
       "       [ 0., -0., -0.]])"
      ]
     },
     "execution_count": 25,
     "metadata": {},
     "output_type": "execute_result"
    }
   ],
   "source": [
    "inv(D).round()"
   ]
  },
  {
   "cell_type": "code",
   "execution_count": 27,
   "id": "spread-average",
   "metadata": {},
   "outputs": [
    {
     "data": {
      "text/plain": [
       "array([[ True,  True,  True],\n",
       "       [ True,  True,  True],\n",
       "       [ True,  True,  True]])"
      ]
     },
     "execution_count": 27,
     "metadata": {},
     "output_type": "execute_result"
    }
   ],
   "source": [
    "inv(inv(D)).round() == D"
   ]
  },
  {
   "cell_type": "markdown",
   "id": "environmental-possession",
   "metadata": {},
   "source": [
    "- 2. inv(A\\*B) = inv(B)\\*inv(A)"
   ]
  },
  {
   "cell_type": "code",
   "execution_count": 28,
   "id": "pharmaceutical-virginia",
   "metadata": {},
   "outputs": [
    {
     "data": {
      "text/plain": [
       "array([[ True,  True,  True],\n",
       "       [ True,  True,  True],\n",
       "       [ True,  True,  True]])"
      ]
     },
     "execution_count": 28,
     "metadata": {},
     "output_type": "execute_result"
    }
   ],
   "source": [
    "inv(C.dot(D)).round() == inv(C).dot(inv(D)).round()"
   ]
  },
  {
   "cell_type": "markdown",
   "id": "elementary-setting",
   "metadata": {},
   "source": [
    "- 3. inv(A.T) = inv(A).T"
   ]
  },
  {
   "cell_type": "code",
   "execution_count": 31,
   "id": "mental-black",
   "metadata": {},
   "outputs": [
    {
     "data": {
      "text/plain": [
       "array([[ True,  True,  True],\n",
       "       [ True,  True,  True],\n",
       "       [ True,  True,  True]])"
      ]
     },
     "execution_count": 31,
     "metadata": {},
     "output_type": "execute_result"
    }
   ],
   "source": [
    "inv(C.T).round() == inv(C).T.round()"
   ]
  }
 ],
 "metadata": {
  "kernelspec": {
   "display_name": "Python 3",
   "language": "python",
   "name": "python3"
  },
  "language_info": {
   "codemirror_mode": {
    "name": "ipython",
    "version": 3
   },
   "file_extension": ".py",
   "mimetype": "text/x-python",
   "name": "python",
   "nbconvert_exporter": "python",
   "pygments_lexer": "ipython3",
   "version": "3.8.8"
  }
 },
 "nbformat": 4,
 "nbformat_minor": 5
}
