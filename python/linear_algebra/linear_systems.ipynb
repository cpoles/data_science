{
 "cells": [
  {
   "cell_type": "markdown",
   "id": "existing-robert",
   "metadata": {},
   "source": [
    "# Linear Systems"
   ]
  },
  {
   "cell_type": "code",
   "execution_count": 1,
   "id": "endless-conviction",
   "metadata": {},
   "outputs": [],
   "source": [
    "import numpy as np"
   ]
  },
  {
   "cell_type": "code",
   "execution_count": 2,
   "id": "rough-extension",
   "metadata": {},
   "outputs": [
    {
     "data": {
      "text/plain": [
       "array([[ 1.,  4.,  3.,  1.],\n",
       "       [ 2.,  5.,  4.,  4.],\n",
       "       [ 1., -3., -2.,  5.]])"
      ]
     },
     "execution_count": 2,
     "metadata": {},
     "output_type": "execute_result"
    }
   ],
   "source": [
    "M = np.array([[1.,4,3,1],[2.,5.,4.,4.],[1,-3,-2,5]])\n",
    "M"
   ]
  },
  {
   "cell_type": "code",
   "execution_count": 3,
   "id": "invalid-means",
   "metadata": {},
   "outputs": [
    {
     "data": {
      "text/plain": [
       "array([[ 1.,  4.,  3.,  1.],\n",
       "       [ 0.,  3.,  2., -2.],\n",
       "       [ 1., -3., -2.,  5.]])"
      ]
     },
     "execution_count": 3,
     "metadata": {},
     "output_type": "execute_result"
    }
   ],
   "source": [
    "M[1,:] = 2*M[0,:] - M[1,:]\n",
    "M"
   ]
  },
  {
   "cell_type": "code",
   "execution_count": 4,
   "id": "front-transfer",
   "metadata": {},
   "outputs": [
    {
     "data": {
      "text/plain": [
       "array([[ 1.,  4.,  3.,  1.],\n",
       "       [ 0.,  3.,  2., -2.],\n",
       "       [ 0.,  7.,  5., -4.]])"
      ]
     },
     "execution_count": 4,
     "metadata": {},
     "output_type": "execute_result"
    }
   ],
   "source": [
    "M[2,:] = 1*M[0,:] - M[2,:]\n",
    "M"
   ]
  },
  {
   "cell_type": "code",
   "execution_count": 5,
   "id": "bored-statistics",
   "metadata": {},
   "outputs": [
    {
     "data": {
      "text/plain": [
       "array([[ 1.        ,  4.        ,  3.        ,  1.        ],\n",
       "       [ 0.        ,  1.        ,  0.66666667, -0.66666667],\n",
       "       [ 0.        ,  7.        ,  5.        , -4.        ]])"
      ]
     },
     "execution_count": 5,
     "metadata": {},
     "output_type": "execute_result"
    }
   ],
   "source": [
    "M[1,:] = (1/3)*M[1,:]\n",
    "M"
   ]
  },
  {
   "cell_type": "code",
   "execution_count": 6,
   "id": "streaming-rolling",
   "metadata": {},
   "outputs": [
    {
     "data": {
      "text/plain": [
       "array([[ 1.        ,  0.        ,  0.33333333,  3.66666667],\n",
       "       [ 0.        ,  1.        ,  0.66666667, -0.66666667],\n",
       "       [ 0.        ,  7.        ,  5.        , -4.        ]])"
      ]
     },
     "execution_count": 6,
     "metadata": {},
     "output_type": "execute_result"
    }
   ],
   "source": [
    "M[0,:] = -4*M[1,:] + M[0,]\n",
    "M"
   ]
  },
  {
   "cell_type": "code",
   "execution_count": 7,
   "id": "muslim-wisconsin",
   "metadata": {},
   "outputs": [
    {
     "data": {
      "text/plain": [
       "array([[ 1.        ,  0.        ,  0.33333333,  3.66666667],\n",
       "       [ 0.        ,  1.        ,  0.66666667, -0.66666667],\n",
       "       [ 0.        ,  0.        ,  0.33333333,  0.66666667]])"
      ]
     },
     "execution_count": 7,
     "metadata": {},
     "output_type": "execute_result"
    }
   ],
   "source": [
    "M[2,:] = -7*M[1,:] + M[2,:]\n",
    "M"
   ]
  },
  {
   "cell_type": "code",
   "execution_count": 8,
   "id": "noted-produce",
   "metadata": {},
   "outputs": [
    {
     "data": {
      "text/plain": [
       "array([[ 1.        ,  0.        ,  0.33333333,  3.66666667],\n",
       "       [ 0.        ,  1.        ,  0.66666667, -0.66666667],\n",
       "       [ 0.        ,  0.        ,  1.        ,  2.        ]])"
      ]
     },
     "execution_count": 8,
     "metadata": {},
     "output_type": "execute_result"
    }
   ],
   "source": [
    "M[2,:] = 3*M[2,:]\n",
    "M"
   ]
  },
  {
   "cell_type": "code",
   "execution_count": 9,
   "id": "agreed-needle",
   "metadata": {},
   "outputs": [
    {
     "data": {
      "text/plain": [
       "array([[ 1.00000000e+00,  0.00000000e+00,  3.33333289e-09,\n",
       "         3.00000001e+00],\n",
       "       [ 0.00000000e+00,  1.00000000e+00,  6.66666667e-01,\n",
       "        -6.66666667e-01],\n",
       "       [ 0.00000000e+00,  0.00000000e+00,  1.00000000e+00,\n",
       "         2.00000000e+00]])"
      ]
     },
     "execution_count": 9,
     "metadata": {},
     "output_type": "execute_result"
    }
   ],
   "source": [
    "M[0,:] = (-0.33333333*M[2,:]) + M[0,:]\n",
    "M"
   ]
  },
  {
   "cell_type": "code",
   "execution_count": 10,
   "id": "pharmaceutical-centre",
   "metadata": {},
   "outputs": [
    {
     "data": {
      "text/plain": [
       "array([[ 1.00000000e+00,  0.00000000e+00,  3.33333289e-09,\n",
       "         3.00000001e+00],\n",
       "       [ 0.00000000e+00,  1.00000000e+00, -3.33333461e-09,\n",
       "        -2.00000001e+00],\n",
       "       [ 0.00000000e+00,  0.00000000e+00,  1.00000000e+00,\n",
       "         2.00000000e+00]])"
      ]
     },
     "execution_count": 10,
     "metadata": {},
     "output_type": "execute_result"
    }
   ],
   "source": [
    "M[1,:] = (-0.66666667)*M[2,:] + M[1,:]\n",
    "M # x1 = 3, x2 = -2, x3 = 2"
   ]
  },
  {
   "cell_type": "code",
   "execution_count": 11,
   "id": "sized-dragon",
   "metadata": {},
   "outputs": [
    {
     "data": {
      "text/plain": [
       "array([[ 1.,  0.,  0.,  3.],\n",
       "       [ 0.,  1., -0., -2.],\n",
       "       [ 0.,  0.,  1.,  2.]])"
      ]
     },
     "execution_count": 11,
     "metadata": {},
     "output_type": "execute_result"
    }
   ],
   "source": [
    "np.round(M)"
   ]
  },
  {
   "cell_type": "markdown",
   "id": "subsequent-freeze",
   "metadata": {},
   "source": [
    "### Linear System Solution using Inverse Matrix"
   ]
  },
  {
   "cell_type": "code",
   "execution_count": 12,
   "id": "nonprofit-farming",
   "metadata": {},
   "outputs": [],
   "source": [
    "A = np.array(([-1, 2], [2,1])) # coeficient matrix\n",
    "B = np.array(([-1],[5])) # indepedent terms matrix"
   ]
  },
  {
   "cell_type": "code",
   "execution_count": 14,
   "id": "sudden-python",
   "metadata": {},
   "outputs": [
    {
     "data": {
      "text/plain": [
       "True"
      ]
     },
     "execution_count": 14,
     "metadata": {},
     "output_type": "execute_result"
    }
   ],
   "source": [
    "# check if there A has an inverse matrix\n",
    "# check det(A) != 0\n",
    "np.linalg.det(A) != 0"
   ]
  },
  {
   "cell_type": "code",
   "execution_count": 16,
   "id": "radical-acceptance",
   "metadata": {},
   "outputs": [
    {
     "data": {
      "text/plain": [
       "array([[2.2],\n",
       "       [0.6]])"
      ]
     },
     "execution_count": 16,
     "metadata": {},
     "output_type": "execute_result"
    }
   ],
   "source": [
    "# solution vector\n",
    "X = np.linalg.inv(A).dot(B)\n",
    "X"
   ]
  },
  {
   "cell_type": "code",
   "execution_count": 22,
   "id": "vulnerable-purple",
   "metadata": {},
   "outputs": [
    {
     "data": {
      "text/plain": [
       "array([[-1.],\n",
       "       [ 5.]])"
      ]
     },
     "execution_count": 22,
     "metadata": {},
     "output_type": "execute_result"
    }
   ],
   "source": [
    "# checking solution\n",
    "A.dot(X)"
   ]
  },
  {
   "cell_type": "code",
   "execution_count": 18,
   "id": "chinese-preparation",
   "metadata": {},
   "outputs": [],
   "source": [
    "# 3 x 3 system\n",
    "G = np.array([[1,2,3], [6,0,1], [4,5,-1]]) # coeficients\n",
    "H = np.array([[3], [-6], [1]]) # indepent terms"
   ]
  },
  {
   "cell_type": "code",
   "execution_count": 19,
   "id": "sunset-empire",
   "metadata": {},
   "outputs": [
    {
     "data": {
      "text/plain": [
       "True"
      ]
     },
     "execution_count": 19,
     "metadata": {},
     "output_type": "execute_result"
    }
   ],
   "source": [
    "# check if G has an inverse matrix\n",
    "np.linalg.det(G) != 0"
   ]
  },
  {
   "cell_type": "code",
   "execution_count": 20,
   "id": "composite-temple",
   "metadata": {},
   "outputs": [
    {
     "data": {
      "text/plain": [
       "array([[-1.0952381 ],\n",
       "       [ 1.19047619],\n",
       "       [ 0.57142857]])"
      ]
     },
     "execution_count": 20,
     "metadata": {},
     "output_type": "execute_result"
    }
   ],
   "source": [
    "# solution vector\n",
    "K = np.linalg.inv(G).dot(H)\n",
    "K"
   ]
  },
  {
   "cell_type": "code",
   "execution_count": 25,
   "id": "unauthorized-service",
   "metadata": {},
   "outputs": [
    {
     "data": {
      "text/plain": [
       "array([[ 3.],\n",
       "       [-6.],\n",
       "       [ 1.]])"
      ]
     },
     "execution_count": 25,
     "metadata": {},
     "output_type": "execute_result"
    }
   ],
   "source": [
    "G.dot(K)"
   ]
  },
  {
   "cell_type": "markdown",
   "id": "italian-healthcare",
   "metadata": {},
   "source": [
    "### Using Cramer's Rule"
   ]
  },
  {
   "cell_type": "code",
   "execution_count": 26,
   "id": "double-vintage",
   "metadata": {},
   "outputs": [],
   "source": [
    "M = np.array([[-1,2], [2,1]])\n",
    "N = np.array([[-1], [5]])"
   ]
  },
  {
   "cell_type": "code",
   "execution_count": 29,
   "id": "invisible-parking",
   "metadata": {},
   "outputs": [],
   "source": [
    "D = np.linalg.det(M)"
   ]
  },
  {
   "cell_type": "code",
   "execution_count": 31,
   "id": "prompt-recipient",
   "metadata": {},
   "outputs": [],
   "source": [
    "Mx = M.copy()\n",
    "Mx[:,0] = N[:,0]"
   ]
  },
  {
   "cell_type": "code",
   "execution_count": 32,
   "id": "adaptive-bloom",
   "metadata": {},
   "outputs": [
    {
     "data": {
      "text/plain": [
       "array([[-1,  2],\n",
       "       [ 5,  1]])"
      ]
     },
     "execution_count": 32,
     "metadata": {},
     "output_type": "execute_result"
    }
   ],
   "source": [
    "Mx"
   ]
  },
  {
   "cell_type": "code",
   "execution_count": 33,
   "id": "distinguished-steps",
   "metadata": {},
   "outputs": [],
   "source": [
    "My = M.copy()\n",
    "My[:,1] = N[:,0]"
   ]
  },
  {
   "cell_type": "code",
   "execution_count": 35,
   "id": "contrary-animation",
   "metadata": {},
   "outputs": [
    {
     "data": {
      "text/plain": [
       "array([[-1, -1],\n",
       "       [ 2,  5]])"
      ]
     },
     "execution_count": 35,
     "metadata": {},
     "output_type": "execute_result"
    }
   ],
   "source": [
    "My"
   ]
  },
  {
   "cell_type": "code",
   "execution_count": 36,
   "id": "hungarian-studio",
   "metadata": {},
   "outputs": [
    {
     "data": {
      "text/plain": [
       "2.2"
      ]
     },
     "execution_count": 36,
     "metadata": {},
     "output_type": "execute_result"
    }
   ],
   "source": [
    "x = np.linalg.det(Mx) / np.linalg.det(M)\n",
    "x"
   ]
  },
  {
   "cell_type": "code",
   "execution_count": 37,
   "id": "stone-restriction",
   "metadata": {},
   "outputs": [
    {
     "data": {
      "text/plain": [
       "0.5999999999999998"
      ]
     },
     "execution_count": 37,
     "metadata": {},
     "output_type": "execute_result"
    }
   ],
   "source": [
    "y = np.linalg.det(My) / np.linalg.det(M)\n",
    "y"
   ]
  },
  {
   "cell_type": "code",
   "execution_count": 38,
   "id": "celtic-wayne",
   "metadata": {},
   "outputs": [],
   "source": [
    "R = np.array([[1,2,3], [6,0,1], [4,5,-1]]) # coeficients\n",
    "S = np.array([[3], [-6], [1]]) # indepent terms"
   ]
  },
  {
   "cell_type": "code",
   "execution_count": 39,
   "id": "traditional-bennett",
   "metadata": {},
   "outputs": [
    {
     "data": {
      "text/plain": [
       "array([[ 3,  2,  3],\n",
       "       [-6,  0,  1],\n",
       "       [ 1,  5, -1]])"
      ]
     },
     "execution_count": 39,
     "metadata": {},
     "output_type": "execute_result"
    }
   ],
   "source": [
    "Rx = R.copy()\n",
    "Rx[:,0] = S[:,0]\n",
    "Rx"
   ]
  },
  {
   "cell_type": "code",
   "execution_count": 40,
   "id": "decent-novelty",
   "metadata": {},
   "outputs": [
    {
     "data": {
      "text/plain": [
       "array([[ 1,  3,  3],\n",
       "       [ 6, -6,  1],\n",
       "       [ 4,  1, -1]])"
      ]
     },
     "execution_count": 40,
     "metadata": {},
     "output_type": "execute_result"
    }
   ],
   "source": [
    "Ry = R.copy() # make copy of R\n",
    "Ry[:,1] = S[:,0] # replace the first column (Y) by S\n",
    "Ry"
   ]
  },
  {
   "cell_type": "code",
   "execution_count": 52,
   "id": "rural-cement",
   "metadata": {},
   "outputs": [
    {
     "data": {
      "text/plain": [
       "array([[ 1,  2,  3],\n",
       "       [ 6,  0, -6],\n",
       "       [ 4,  5,  1]])"
      ]
     },
     "execution_count": 52,
     "metadata": {},
     "output_type": "execute_result"
    }
   ],
   "source": [
    "Rz = R.copy()\n",
    "Rz[:,2] = S[:,0]\n",
    "Rz"
   ]
  },
  {
   "cell_type": "code",
   "execution_count": 53,
   "id": "nervous-chemistry",
   "metadata": {},
   "outputs": [],
   "source": [
    "det_R = np.linalg.det(R)\n",
    "det_Rx = np.linalg.det(Rx)\n",
    "det_Ry = np.linalg.det(Ry)\n",
    "det_Rz = np.linalg.det(Rz)"
   ]
  },
  {
   "cell_type": "code",
   "execution_count": 54,
   "id": "antique-bikini",
   "metadata": {},
   "outputs": [
    {
     "data": {
      "text/plain": [
       "-1.0952380952380947"
      ]
     },
     "execution_count": 54,
     "metadata": {},
     "output_type": "execute_result"
    }
   ],
   "source": [
    "x = det_Rx / det_R\n",
    "x"
   ]
  },
  {
   "cell_type": "code",
   "execution_count": 55,
   "id": "expensive-rebecca",
   "metadata": {},
   "outputs": [
    {
     "data": {
      "text/plain": [
       "1.1904761904761902"
      ]
     },
     "execution_count": 55,
     "metadata": {},
     "output_type": "execute_result"
    }
   ],
   "source": [
    "y = det_Ry / det_R\n",
    "y"
   ]
  },
  {
   "cell_type": "code",
   "execution_count": 56,
   "id": "selected-characterization",
   "metadata": {},
   "outputs": [
    {
     "data": {
      "text/plain": [
       "0.5714285714285714"
      ]
     },
     "execution_count": 56,
     "metadata": {},
     "output_type": "execute_result"
    }
   ],
   "source": [
    "z = det_Rz / det_R\n",
    "z"
   ]
  },
  {
   "cell_type": "markdown",
   "id": "occupied-university",
   "metadata": {},
   "source": [
    "### Graphical Solution"
   ]
  },
  {
   "cell_type": "code",
   "execution_count": 58,
   "id": "stuck-korea",
   "metadata": {},
   "outputs": [],
   "source": [
    "import matplotlib.pyplot as plt"
   ]
  },
  {
   "cell_type": "markdown",
   "id": "composed-sympathy",
   "metadata": {},
   "source": [
    "System:\n",
    "\n",
    "y - 2x = 5\n",
    "\n",
    "y + 3x = 2"
   ]
  },
  {
   "cell_type": "code",
   "execution_count": 59,
   "id": "political-trauma",
   "metadata": {},
   "outputs": [],
   "source": [
    "# For plotting purposes, isolating y\n",
    "x = np.linspace(-10, 10, 100)\n",
    "\n",
    "y1 = 5 + 2*x\n",
    "y2 = 2 - 3*x"
   ]
  },
  {
   "cell_type": "code",
   "execution_count": 61,
   "id": "requested-martin",
   "metadata": {},
   "outputs": [
    {
     "data": {
      "text/plain": [
       "Text(0, 0.5, 'Y')"
      ]
     },
     "execution_count": 61,
     "metadata": {},
     "output_type": "execute_result"
    },
    {
     "data": {
      "image/png": "[encoded data removed]",
      "text/plain": [
       "<Figure size 432x288 with 1 Axes>"
      ]
     },
     "metadata": {
      "needs_background": "light"
     },
     "output_type": "display_data"
    }
   ],
   "source": [
    "plt.plot(x, y1, 'red', label='sys 1')\n",
    "plt.plot(x, y2, 'blue', label='sys 2')\n",
    "\n",
    "plt.xlabel('X')\n",
    "plt.ylabel('Y')"
   ]
  },
  {
   "cell_type": "code",
   "execution_count": 62,
   "id": "checked-outreach",
   "metadata": {},
   "outputs": [],
   "source": [
    "A = np.array([[1,-2], [1,3]])\n",
    "B = np.array([[5],[2]])"
   ]
  },
  {
   "cell_type": "code",
   "execution_count": 63,
   "id": "experimental-specification",
   "metadata": {},
   "outputs": [
    {
     "data": {
      "text/plain": [
       "True"
      ]
     },
     "execution_count": 63,
     "metadata": {},
     "output_type": "execute_result"
    }
   ],
   "source": [
    "# get the variables matrix\n",
    "\n",
    "# calculate the det(A) !=0\n",
    "np.linalg.det(A) != 0"
   ]
  },
  {
   "cell_type": "code",
   "execution_count": 66,
   "id": "swedish-plaza",
   "metadata": {},
   "outputs": [
    {
     "data": {
      "text/plain": [
       "array([[ 3.8],\n",
       "       [-0.6]])"
      ]
     },
     "execution_count": 66,
     "metadata": {},
     "output_type": "execute_result"
    }
   ],
   "source": [
    "# the vector of variables/incognito represent the \n",
    "# intersection of the curves y1 and y2\n",
    "X = np.linalg.inv(A).dot(B)\n",
    "X"
   ]
  },
  {
   "cell_type": "markdown",
   "id": "abandoned-milton",
   "metadata": {},
   "source": [
    "System 2\n",
    "\n",
    "y - 2x = 4\n",
    "\n",
    "y - 2x = 8"
   ]
  },
  {
   "cell_type": "code",
   "execution_count": 67,
   "id": "centered-valentine",
   "metadata": {},
   "outputs": [],
   "source": [
    "y3 = 4 + 2*x\n",
    "y4 = 8 + 2*x"
   ]
  },
  {
   "cell_type": "code",
   "execution_count": 68,
   "id": "arranged-rocket",
   "metadata": {},
   "outputs": [
    {
     "data": {
      "text/plain": [
       "Text(0, 0.5, 'Y')"
      ]
     },
     "execution_count": 68,
     "metadata": {},
     "output_type": "execute_result"
    },
    {
     "data": {
      "image/png": "[encoded data removed]",
      "text/plain": [
       "<Figure size 432x288 with 1 Axes>"
      ]
     },
     "metadata": {
      "needs_background": "light"
     },
     "output_type": "display_data"
    }
   ],
   "source": [
    "plt.plot(x, y3, 'red')\n",
    "plt.plot(x, y4, 'blue')\n",
    "\n",
    "plt.legend(['y3 = 2x+4', 'y4 = 2*x+8'])\n",
    "\n",
    "plt.xlabel('X')\n",
    "plt.ylabel('Y')"
   ]
  },
  {
   "cell_type": "code",
   "execution_count": 69,
   "id": "vital-georgia",
   "metadata": {},
   "outputs": [],
   "source": [
    "F = np.array([[1,-2], [1,-2]])\n",
    "G = np.array([[4], [8]])"
   ]
  },
  {
   "cell_type": "code",
   "execution_count": 70,
   "id": "terminal-massage",
   "metadata": {},
   "outputs": [
    {
     "data": {
      "text/plain": [
       "0.0"
      ]
     },
     "execution_count": 70,
     "metadata": {},
     "output_type": "execute_result"
    }
   ],
   "source": [
    "# check if the determinant of F (coefs) != 0\n",
    "np.linalg.det(F)"
   ]
  },
  {
   "cell_type": "markdown",
   "id": "standing-finish",
   "metadata": {},
   "source": [
    "The determinant of the coeficients matrix is equal to zero.\n",
    "\n",
    "The curves are parallel and have no intersection. \n",
    "\n",
    "It means the system has no solution."
   ]
  },
  {
   "cell_type": "code",
   "execution_count": null,
   "id": "applicable-decade",
   "metadata": {},
   "outputs": [],
   "source": []
  }
 ],
 "metadata": {
  "kernelspec": {
   "display_name": "Python 3",
   "language": "python",
   "name": "python3"
  },
  "language_info": {
   "codemirror_mode": {
    "name": "ipython",
    "version": 3
   },
   "file_extension": ".py",
   "mimetype": "text/x-python",
   "name": "python",
   "nbconvert_exporter": "python",
   "pygments_lexer": "ipython3",
   "version": "3.8.8"
  }
 },
 "nbformat": 4,
 "nbformat_minor": 5
}
