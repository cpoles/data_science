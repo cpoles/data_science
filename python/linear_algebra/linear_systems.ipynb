{
 "cells": [
  {
   "cell_type": "markdown",
   "id": "periodic-metallic",
   "metadata": {},
   "source": [
    "# Linear Systems"
   ]
  },
  {
   "cell_type": "code",
   "execution_count": 1,
   "id": "guilty-norway",
   "metadata": {},
   "outputs": [],
   "source": [
    "import numpy as np"
   ]
  },
  {
   "cell_type": "code",
   "execution_count": 2,
   "id": "social-outreach",
   "metadata": {},
   "outputs": [
    {
     "data": {
      "text/plain": [
       "array([[ 1.,  4.,  3.,  1.],\n",
       "       [ 2.,  5.,  4.,  4.],\n",
       "       [ 1., -3., -2.,  5.]])"
      ]
     },
     "execution_count": 2,
     "metadata": {},
     "output_type": "execute_result"
    }
   ],
   "source": [
    "M = np.array([[1.,4,3,1],[2.,5.,4.,4.],[1,-3,-2,5]])\n",
    "M"
   ]
  },
  {
   "cell_type": "code",
   "execution_count": 3,
   "id": "potential-fault",
   "metadata": {},
   "outputs": [
    {
     "data": {
      "text/plain": [
       "array([[ 1.,  4.,  3.,  1.],\n",
       "       [ 0.,  3.,  2., -2.],\n",
       "       [ 1., -3., -2.,  5.]])"
      ]
     },
     "execution_count": 3,
     "metadata": {},
     "output_type": "execute_result"
    }
   ],
   "source": [
    "M[1,:] = 2*M[0,:] - M[1,:]\n",
    "M"
   ]
  },
  {
   "cell_type": "code",
   "execution_count": 4,
   "id": "twelve-cholesterol",
   "metadata": {},
   "outputs": [
    {
     "data": {
      "text/plain": [
       "array([[ 1.,  4.,  3.,  1.],\n",
       "       [ 0.,  3.,  2., -2.],\n",
       "       [ 0.,  7.,  5., -4.]])"
      ]
     },
     "execution_count": 4,
     "metadata": {},
     "output_type": "execute_result"
    }
   ],
   "source": [
    "M[2,:] = 1*M[0,:] - M[2,:]\n",
    "M"
   ]
  },
  {
   "cell_type": "code",
   "execution_count": 5,
   "id": "vulnerable-inspection",
   "metadata": {},
   "outputs": [
    {
     "data": {
      "text/plain": [
       "array([[ 1.        ,  4.        ,  3.        ,  1.        ],\n",
       "       [ 0.        ,  1.        ,  0.66666667, -0.66666667],\n",
       "       [ 0.        ,  7.        ,  5.        , -4.        ]])"
      ]
     },
     "execution_count": 5,
     "metadata": {},
     "output_type": "execute_result"
    }
   ],
   "source": [
    "M[1,:] = (1/3)*M[1,:]\n",
    "M"
   ]
  },
  {
   "cell_type": "code",
   "execution_count": 6,
   "id": "occupied-segment",
   "metadata": {},
   "outputs": [
    {
     "data": {
      "text/plain": [
       "array([[ 1.        ,  0.        ,  0.33333333,  3.66666667],\n",
       "       [ 0.        ,  1.        ,  0.66666667, -0.66666667],\n",
       "       [ 0.        ,  7.        ,  5.        , -4.        ]])"
      ]
     },
     "execution_count": 6,
     "metadata": {},
     "output_type": "execute_result"
    }
   ],
   "source": [
    "M[0,:] = -4*M[1,:] + M[0,]\n",
    "M"
   ]
  },
  {
   "cell_type": "code",
   "execution_count": 7,
   "id": "pleasant-munich",
   "metadata": {},
   "outputs": [
    {
     "data": {
      "text/plain": [
       "array([[ 1.        ,  0.        ,  0.33333333,  3.66666667],\n",
       "       [ 0.        ,  1.        ,  0.66666667, -0.66666667],\n",
       "       [ 0.        ,  0.        ,  0.33333333,  0.66666667]])"
      ]
     },
     "execution_count": 7,
     "metadata": {},
     "output_type": "execute_result"
    }
   ],
   "source": [
    "M[2,:] = -7*M[1,:] + M[2,:]\n",
    "M"
   ]
  },
  {
   "cell_type": "code",
   "execution_count": 8,
   "id": "historical-cornell",
   "metadata": {},
   "outputs": [
    {
     "data": {
      "text/plain": [
       "array([[ 1.        ,  0.        ,  0.33333333,  3.66666667],\n",
       "       [ 0.        ,  1.        ,  0.66666667, -0.66666667],\n",
       "       [ 0.        ,  0.        ,  1.        ,  2.        ]])"
      ]
     },
     "execution_count": 8,
     "metadata": {},
     "output_type": "execute_result"
    }
   ],
   "source": [
    "M[2,:] = 3*M[2,:]\n",
    "M"
   ]
  },
  {
   "cell_type": "code",
   "execution_count": 9,
   "id": "strange-anatomy",
   "metadata": {},
   "outputs": [
    {
     "data": {
      "text/plain": [
       "array([[ 1.00000000e+00,  0.00000000e+00,  3.33333289e-09,\n",
       "         3.00000001e+00],\n",
       "       [ 0.00000000e+00,  1.00000000e+00,  6.66666667e-01,\n",
       "        -6.66666667e-01],\n",
       "       [ 0.00000000e+00,  0.00000000e+00,  1.00000000e+00,\n",
       "         2.00000000e+00]])"
      ]
     },
     "execution_count": 9,
     "metadata": {},
     "output_type": "execute_result"
    }
   ],
   "source": [
    "M[0,:] = (-0.33333333*M[2,:]) + M[0,:]\n",
    "M"
   ]
  },
  {
   "cell_type": "code",
   "execution_count": 10,
   "id": "racial-charter",
   "metadata": {},
   "outputs": [
    {
     "data": {
      "text/plain": [
       "array([[ 1.00000000e+00,  0.00000000e+00,  3.33333289e-09,\n",
       "         3.00000001e+00],\n",
       "       [ 0.00000000e+00,  1.00000000e+00, -3.33333461e-09,\n",
       "        -2.00000001e+00],\n",
       "       [ 0.00000000e+00,  0.00000000e+00,  1.00000000e+00,\n",
       "         2.00000000e+00]])"
      ]
     },
     "execution_count": 10,
     "metadata": {},
     "output_type": "execute_result"
    }
   ],
   "source": [
    "M[1,:] = (-0.66666667)*M[2,:] + M[1,:]\n",
    "M # x1 = 3, x2 = -2, x3 = 2"
   ]
  },
  {
   "cell_type": "code",
   "execution_count": 11,
   "id": "personalized-receptor",
   "metadata": {},
   "outputs": [
    {
     "data": {
      "text/plain": [
       "array([[ 1.,  0.,  0.,  3.],\n",
       "       [ 0.,  1., -0., -2.],\n",
       "       [ 0.,  0.,  1.,  2.]])"
      ]
     },
     "execution_count": 11,
     "metadata": {},
     "output_type": "execute_result"
    }
   ],
   "source": [
    "np.round(M)"
   ]
  },
  {
   "cell_type": "code",
   "execution_count": null,
   "id": "labeled-remains",
   "metadata": {},
   "outputs": [],
   "source": []
  }
 ],
 "metadata": {
  "kernelspec": {
   "display_name": "Python 3",
   "language": "python",
   "name": "python3"
  },
  "language_info": {
   "codemirror_mode": {
    "name": "ipython",
    "version": 3
   },
   "file_extension": ".py",
   "mimetype": "text/x-python",
   "name": "python",
   "nbconvert_exporter": "python",
   "pygments_lexer": "ipython3",
   "version": "3.8.5"
  }
 },
 "nbformat": 4,
 "nbformat_minor": 5
}
