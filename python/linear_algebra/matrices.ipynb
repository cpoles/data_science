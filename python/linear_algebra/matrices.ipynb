{
 "cells": [
  {
   "cell_type": "markdown",
   "id": "wireless-compensation",
   "metadata": {},
   "source": [
    "# Matrices"
   ]
  },
  {
   "cell_type": "code",
   "execution_count": 1,
   "id": "italic-radar",
   "metadata": {},
   "outputs": [],
   "source": [
    "import numpy as np"
   ]
  },
  {
   "cell_type": "code",
   "execution_count": 2,
   "id": "broke-departure",
   "metadata": {},
   "outputs": [
    {
     "data": {
      "text/plain": [
       "array([[ 2, -1],\n",
       "       [ 0,  4]])"
      ]
     },
     "execution_count": 2,
     "metadata": {},
     "output_type": "execute_result"
    }
   ],
   "source": [
    "# Matrix\n",
    "a = np.array([[2,-1], [0,4]])\n",
    "a"
   ]
  },
  {
   "cell_type": "code",
   "execution_count": 3,
   "id": "circular-communications",
   "metadata": {},
   "outputs": [
    {
     "data": {
      "text/plain": [
       "array([[ 1,  0,  4],\n",
       "       [ 4, -3,  2]])"
      ]
     },
     "execution_count": 3,
     "metadata": {},
     "output_type": "execute_result"
    }
   ],
   "source": [
    "b = np.array([[1, 0, 4],\n",
    "              [4, -3, 2]])\n",
    "b"
   ]
  },
  {
   "cell_type": "markdown",
   "id": "abstract-permission",
   "metadata": {},
   "source": [
    "### Matrix Function"
   ]
  },
  {
   "cell_type": "code",
   "execution_count": 4,
   "id": "comparative-fluid",
   "metadata": {},
   "outputs": [
    {
     "data": {
      "text/plain": [
       "matrix([[1, 2],\n",
       "        [3, 4]])"
      ]
     },
     "execution_count": 4,
     "metadata": {},
     "output_type": "execute_result"
    }
   ],
   "source": [
    "c = np.matrix('1 2; 3 4')\n",
    "c"
   ]
  },
  {
   "cell_type": "code",
   "execution_count": 5,
   "id": "present-andorra",
   "metadata": {},
   "outputs": [
    {
     "data": {
      "text/plain": [
       "matrix([[ 2, -1],\n",
       "        [ 0,  4]])"
      ]
     },
     "execution_count": 5,
     "metadata": {},
     "output_type": "execute_result"
    }
   ],
   "source": [
    "d = np.matrix([[2, -1],\n",
    "               [0, 4]])\n",
    "d"
   ]
  },
  {
   "cell_type": "code",
   "execution_count": 6,
   "id": "mounted-surfing",
   "metadata": {},
   "outputs": [
    {
     "data": {
      "text/plain": [
       "numpy.matrix"
      ]
     },
     "execution_count": 6,
     "metadata": {},
     "output_type": "execute_result"
    }
   ],
   "source": [
    "type(d)"
   ]
  },
  {
   "cell_type": "markdown",
   "id": "current-sweet",
   "metadata": {},
   "source": [
    "### Types of Matrices"
   ]
  },
  {
   "cell_type": "code",
   "execution_count": 7,
   "id": "genuine-midnight",
   "metadata": {},
   "outputs": [
    {
     "data": {
      "text/plain": [
       "array([[3, 4, 5]])"
      ]
     },
     "execution_count": 7,
     "metadata": {},
     "output_type": "execute_result"
    }
   ],
   "source": [
    "# Row Matrix\n",
    "r_mt = np.array([[3, 4, 5]])\n",
    "r_mt"
   ]
  },
  {
   "cell_type": "code",
   "execution_count": 8,
   "id": "catholic-farmer",
   "metadata": {},
   "outputs": [
    {
     "data": {
      "text/plain": [
       "matrix([[1],\n",
       "        [2],\n",
       "        [3]])"
      ]
     },
     "execution_count": 8,
     "metadata": {},
     "output_type": "execute_result"
    }
   ],
   "source": [
    "# Column Matrix\n",
    "c_mt = np.matrix([[1], [2], [3]])\n",
    "c_mt"
   ]
  },
  {
   "cell_type": "code",
   "execution_count": 9,
   "id": "boxed-sensitivity",
   "metadata": {},
   "outputs": [
    {
     "data": {
      "text/plain": [
       "array([[0., 0.],\n",
       "       [0., 0.]])"
      ]
     },
     "execution_count": 9,
     "metadata": {},
     "output_type": "execute_result"
    }
   ],
   "source": [
    "# Null Matrix\n",
    "n_zeros = np.zeros((2,2))\n",
    "n_zeros"
   ]
  },
  {
   "cell_type": "code",
   "execution_count": 10,
   "id": "hungry-fraction",
   "metadata": {},
   "outputs": [
    {
     "data": {
      "text/plain": [
       "array([[0., 0., 0., 0., 0.],\n",
       "       [0., 0., 0., 0., 0.],\n",
       "       [0., 0., 0., 0., 0.],\n",
       "       [0., 0., 0., 0., 0.],\n",
       "       [0., 0., 0., 0., 0.]])"
      ]
     },
     "execution_count": 10,
     "metadata": {},
     "output_type": "execute_result"
    }
   ],
   "source": [
    "n2_zeros = np.zeros((5,5))\n",
    "n2_zeros"
   ]
  },
  {
   "cell_type": "code",
   "execution_count": 11,
   "id": "verbal-valuable",
   "metadata": {},
   "outputs": [
    {
     "data": {
      "text/plain": [
       "array([[1, 0, 0, 0, 0],\n",
       "       [0, 3, 0, 0, 0],\n",
       "       [0, 0, 5, 0, 0],\n",
       "       [0, 0, 0, 6, 0],\n",
       "       [0, 0, 0, 0, 7]])"
      ]
     },
     "execution_count": 11,
     "metadata": {},
     "output_type": "execute_result"
    }
   ],
   "source": [
    "# Diagonal Matrix\n",
    "d_mt = np.diag([1,3,5,6,7])\n",
    "d_mt"
   ]
  },
  {
   "cell_type": "code",
   "execution_count": 12,
   "id": "ranking-suspect",
   "metadata": {},
   "outputs": [
    {
     "data": {
      "text/plain": [
       "array([[1., 0., 0., 0.],\n",
       "       [0., 1., 0., 0.],\n",
       "       [0., 0., 1., 0.],\n",
       "       [0., 0., 0., 1.]])"
      ]
     },
     "execution_count": 12,
     "metadata": {},
     "output_type": "execute_result"
    }
   ],
   "source": [
    "# Identity Matrix\n",
    "id_mt = np.eye(4,4)\n",
    "id_mt"
   ]
  },
  {
   "cell_type": "markdown",
   "id": "approved-neighborhood",
   "metadata": {},
   "source": [
    "### Matrix Transpose"
   ]
  },
  {
   "cell_type": "code",
   "execution_count": 13,
   "id": "equipped-transcription",
   "metadata": {},
   "outputs": [],
   "source": [
    "s = np.array([[1,4,3], [4,2,5], [3,5,0]]) # symmetric matrix\n",
    "a = np.array([[1,2,3,6], [9,7,4,6]])\n",
    "b = np.array([[8, 5, 3, 3], [1,0,1,8]])"
   ]
  },
  {
   "cell_type": "code",
   "execution_count": 14,
   "id": "central-communist",
   "metadata": {},
   "outputs": [
    {
     "data": {
      "text/plain": [
       "array([[1, 4, 3],\n",
       "       [4, 2, 5],\n",
       "       [3, 5, 0]])"
      ]
     },
     "execution_count": 14,
     "metadata": {},
     "output_type": "execute_result"
    }
   ],
   "source": [
    "s"
   ]
  },
  {
   "cell_type": "code",
   "execution_count": 15,
   "id": "occupied-antenna",
   "metadata": {},
   "outputs": [
    {
     "data": {
      "text/plain": [
       "True"
      ]
     },
     "execution_count": 15,
     "metadata": {},
     "output_type": "execute_result"
    }
   ],
   "source": [
    "# check if s is symetric using its transpose\n",
    "np.array_equal(s,s.T)"
   ]
  },
  {
   "cell_type": "code",
   "execution_count": 16,
   "id": "documented-staff",
   "metadata": {},
   "outputs": [
    {
     "data": {
      "text/plain": [
       "array([[1, 2, 3, 6],\n",
       "       [9, 7, 4, 6]])"
      ]
     },
     "execution_count": 16,
     "metadata": {},
     "output_type": "execute_result"
    }
   ],
   "source": [
    "# tranpose a\n",
    "a"
   ]
  },
  {
   "cell_type": "code",
   "execution_count": 17,
   "id": "random-guyana",
   "metadata": {},
   "outputs": [
    {
     "data": {
      "text/plain": [
       "array([[1, 9],\n",
       "       [2, 7],\n",
       "       [3, 4],\n",
       "       [6, 6]])"
      ]
     },
     "execution_count": 17,
     "metadata": {},
     "output_type": "execute_result"
    }
   ],
   "source": [
    "a_t = np.transpose(a)\n",
    "a_t"
   ]
  },
  {
   "cell_type": "code",
   "execution_count": 18,
   "id": "convinced-european",
   "metadata": {},
   "outputs": [
    {
     "data": {
      "text/plain": [
       "array([[1, 2, 3, 6],\n",
       "       [9, 7, 4, 6]])"
      ]
     },
     "execution_count": 18,
     "metadata": {},
     "output_type": "execute_result"
    }
   ],
   "source": [
    "a_t.T # transpose of transpose is the original matrix"
   ]
  },
  {
   "cell_type": "markdown",
   "id": "mounted-climate",
   "metadata": {},
   "source": [
    "#### Transpose Matrix Properties"
   ]
  },
  {
   "cell_type": "code",
   "execution_count": 19,
   "id": "recognized-testament",
   "metadata": {},
   "outputs": [
    {
     "data": {
      "text/plain": [
       "True"
      ]
     },
     "execution_count": 19,
     "metadata": {},
     "output_type": "execute_result"
    }
   ],
   "source": [
    "# simmetric equality\n",
    "# s = s.T\n",
    "\n",
    "np.array_equal(s,s.T)"
   ]
  },
  {
   "cell_type": "code",
   "execution_count": 20,
   "id": "improved-province",
   "metadata": {},
   "outputs": [
    {
     "data": {
      "text/plain": [
       "True"
      ]
     },
     "execution_count": 20,
     "metadata": {},
     "output_type": "execute_result"
    }
   ],
   "source": [
    "# transpose of transpose is the original matrix\n",
    "np.array_equal(s.T.T, s)"
   ]
  },
  {
   "cell_type": "code",
   "execution_count": 21,
   "id": "broke-feeding",
   "metadata": {},
   "outputs": [
    {
     "data": {
      "text/plain": [
       "True"
      ]
     },
     "execution_count": 21,
     "metadata": {},
     "output_type": "execute_result"
    }
   ],
   "source": [
    "# the transposed sum is equal to the sum of transposed\n",
    "np.array_equal((a+b).T, a.T + b.T)"
   ]
  },
  {
   "cell_type": "code",
   "execution_count": 22,
   "id": "banned-pavilion",
   "metadata": {},
   "outputs": [
    {
     "data": {
      "text/plain": [
       "True"
      ]
     },
     "execution_count": 22,
     "metadata": {},
     "output_type": "execute_result"
    }
   ],
   "source": [
    "# (scalar * matrix)Transpose = scalar * (matrix Transpose)\n",
    "k = 7\n",
    "np.array_equal((k*a).T, k*a.T)"
   ]
  },
  {
   "cell_type": "markdown",
   "id": "committed-evening",
   "metadata": {},
   "source": [
    "### Slicing Matrices"
   ]
  },
  {
   "cell_type": "code",
   "execution_count": 23,
   "id": "executive-explorer",
   "metadata": {},
   "outputs": [
    {
     "data": {
      "text/plain": [
       "array([[2, 4, 6],\n",
       "       [4, 7, 1],\n",
       "       [9, 3, 8]])"
      ]
     },
     "execution_count": 23,
     "metadata": {},
     "output_type": "execute_result"
    }
   ],
   "source": [
    "a = np.array([[2,4,6], [4,7,1], [9,3,8]])\n",
    "a"
   ]
  },
  {
   "cell_type": "code",
   "execution_count": 24,
   "id": "prerequisite-zambia",
   "metadata": {},
   "outputs": [
    {
     "data": {
      "text/plain": [
       "(3, 3)"
      ]
     },
     "execution_count": 24,
     "metadata": {},
     "output_type": "execute_result"
    }
   ],
   "source": [
    "a.shape"
   ]
  },
  {
   "cell_type": "code",
   "execution_count": 25,
   "id": "imported-musical",
   "metadata": {},
   "outputs": [
    {
     "data": {
      "text/plain": [
       "array([4, 7, 1])"
      ]
     },
     "execution_count": 25,
     "metadata": {},
     "output_type": "execute_result"
    }
   ],
   "source": [
    "# get the second row\n",
    "a[1,:]"
   ]
  },
  {
   "cell_type": "code",
   "execution_count": 26,
   "id": "raised-completion",
   "metadata": {},
   "outputs": [
    {
     "data": {
      "text/plain": [
       "7"
      ]
     },
     "execution_count": 26,
     "metadata": {},
     "output_type": "execute_result"
    }
   ],
   "source": [
    "# get a2,2\n",
    "a[1,1]"
   ]
  },
  {
   "cell_type": "code",
   "execution_count": 27,
   "id": "underlying-anime",
   "metadata": {},
   "outputs": [
    {
     "data": {
      "text/plain": [
       "8"
      ]
     },
     "execution_count": 27,
     "metadata": {},
     "output_type": "execute_result"
    }
   ],
   "source": [
    "# get a3,3\n",
    "a[2,2]"
   ]
  },
  {
   "cell_type": "code",
   "execution_count": 28,
   "id": "sonic-distance",
   "metadata": {},
   "outputs": [],
   "source": [
    "b = a"
   ]
  },
  {
   "cell_type": "code",
   "execution_count": 29,
   "id": "tested-validity",
   "metadata": {},
   "outputs": [],
   "source": [
    "# set b2,3 = 77\n",
    "b[1,2] = 77"
   ]
  },
  {
   "cell_type": "code",
   "execution_count": 30,
   "id": "aging-least",
   "metadata": {},
   "outputs": [
    {
     "data": {
      "text/plain": [
       "array([[ 2,  4,  6],\n",
       "       [ 4,  7, 77],\n",
       "       [ 9,  3,  8]])"
      ]
     },
     "execution_count": 30,
     "metadata": {},
     "output_type": "execute_result"
    }
   ],
   "source": [
    "b"
   ]
  },
  {
   "cell_type": "code",
   "execution_count": 31,
   "id": "vulnerable-edinburgh",
   "metadata": {},
   "outputs": [
    {
     "data": {
      "text/plain": [
       "array([[ 2,  4,  6],\n",
       "       [ 4,  7, 77],\n",
       "       [ 9,  3,  8]])"
      ]
     },
     "execution_count": 31,
     "metadata": {},
     "output_type": "execute_result"
    }
   ],
   "source": [
    "# note that b is just a pointer to a. A also changes. \n",
    "# to make a copy we need to use the copy function\n",
    "a # it also has b2,3 == 77"
   ]
  },
  {
   "cell_type": "code",
   "execution_count": 32,
   "id": "friendly-moore",
   "metadata": {},
   "outputs": [
    {
     "data": {
      "text/plain": [
       "array([[ 2,  4,  6],\n",
       "       [ 4,  7, 77],\n",
       "       [ 9,  3,  8]])"
      ]
     },
     "execution_count": 32,
     "metadata": {},
     "output_type": "execute_result"
    }
   ],
   "source": [
    "c = b.copy()\n",
    "c"
   ]
  },
  {
   "cell_type": "code",
   "execution_count": 33,
   "id": "electoral-willow",
   "metadata": {},
   "outputs": [
    {
     "data": {
      "text/plain": [
       "array([[  2,   4,   6],\n",
       "       [  4,   7,  77],\n",
       "       [123,   3,   8]])"
      ]
     },
     "execution_count": 33,
     "metadata": {},
     "output_type": "execute_result"
    }
   ],
   "source": [
    "# changing c won't change b in this case\n",
    "c[2,0] = 123\n",
    "c"
   ]
  },
  {
   "cell_type": "code",
   "execution_count": 34,
   "id": "religious-gentleman",
   "metadata": {},
   "outputs": [
    {
     "data": {
      "text/plain": [
       "array([[ 2,  4,  6],\n",
       "       [ 4,  7, 77],\n",
       "       [ 9,  3,  8]])"
      ]
     },
     "execution_count": 34,
     "metadata": {},
     "output_type": "execute_result"
    }
   ],
   "source": [
    "b # b2,1 is not 123"
   ]
  },
  {
   "cell_type": "code",
   "execution_count": 35,
   "id": "robust-groove",
   "metadata": {},
   "outputs": [
    {
     "data": {
      "text/plain": [
       "array([4, 7, 3])"
      ]
     },
     "execution_count": 35,
     "metadata": {},
     "output_type": "execute_result"
    }
   ],
   "source": [
    "f = c[:, 1] # save column 1 in f\n",
    "f"
   ]
  },
  {
   "cell_type": "code",
   "execution_count": 36,
   "id": "electronic-performer",
   "metadata": {},
   "outputs": [],
   "source": [
    "A = np.array([[2,3,7,1], [8,6,9,3], [6,9,3,2], [4,3,7,5]])"
   ]
  },
  {
   "cell_type": "code",
   "execution_count": 37,
   "id": "frank-raising",
   "metadata": {},
   "outputs": [
    {
     "data": {
      "text/plain": [
       "(4, 4)"
      ]
     },
     "execution_count": 37,
     "metadata": {},
     "output_type": "execute_result"
    }
   ],
   "source": [
    "A.shape"
   ]
  },
  {
   "cell_type": "code",
   "execution_count": 38,
   "id": "joint-concentration",
   "metadata": {},
   "outputs": [
    {
     "data": {
      "text/plain": [
       "array([9, 3, 2])"
      ]
     },
     "execution_count": 38,
     "metadata": {},
     "output_type": "execute_result"
    }
   ],
   "source": [
    "A[2,1:4]"
   ]
  },
  {
   "cell_type": "code",
   "execution_count": 39,
   "id": "single-constant",
   "metadata": {},
   "outputs": [
    {
     "data": {
      "text/plain": [
       "array([4, 3, 7])"
      ]
     },
     "execution_count": 39,
     "metadata": {},
     "output_type": "execute_result"
    }
   ],
   "source": [
    "A[3,0:3]"
   ]
  },
  {
   "cell_type": "code",
   "execution_count": 40,
   "id": "postal-madrid",
   "metadata": {},
   "outputs": [
    {
     "data": {
      "text/plain": [
       "array([[2, 3, 7, 1],\n",
       "       [8, 6, 9, 3],\n",
       "       [6, 9, 3, 2],\n",
       "       [4, 3, 7, 5]])"
      ]
     },
     "execution_count": 40,
     "metadata": {},
     "output_type": "execute_result"
    }
   ],
   "source": [
    "A"
   ]
  },
  {
   "cell_type": "code",
   "execution_count": 41,
   "id": "educational-framework",
   "metadata": {},
   "outputs": [
    {
     "data": {
      "text/plain": [
       "array([9, 3, 7])"
      ]
     },
     "execution_count": 41,
     "metadata": {},
     "output_type": "execute_result"
    }
   ],
   "source": [
    "A[1:4,2]"
   ]
  },
  {
   "cell_type": "markdown",
   "id": "ordered-carpet",
   "metadata": {},
   "source": [
    "### Operations with Matrices"
   ]
  },
  {
   "cell_type": "code",
   "execution_count": 42,
   "id": "front-concentrate",
   "metadata": {},
   "outputs": [],
   "source": [
    "# create matrices\n",
    "J = np.array([[2,4,6], [1,2,7], [3,2,9]])\n",
    "K = np.array([[-1,4,5], [6,3,1]])\n",
    "L = np.array([[0,4,3], [1,-3,1], [3,1,2]])"
   ]
  },
  {
   "cell_type": "code",
   "execution_count": 43,
   "id": "middle-catalog",
   "metadata": {},
   "outputs": [
    {
     "name": "stdout",
     "output_type": "stream",
     "text": [
      "J:\n",
      "[[2 4 6]\n",
      " [1 2 7]\n",
      " [3 2 9]]\n",
      "(3, 3)\n",
      "\n",
      "K:\n",
      "[[-1  4  5]\n",
      " [ 6  3  1]]\n",
      "(2, 3)\n",
      "\n",
      "L:\n",
      "[[ 0  4  3]\n",
      " [ 1 -3  1]\n",
      " [ 3  1  2]]\n",
      "(3, 3)\n",
      "\n"
     ]
    }
   ],
   "source": [
    "print(f'J:\\n{J}\\n{J.shape}\\n')\n",
    "print(f'K:\\n{K}\\n{K.shape}\\n')\n",
    "print(f'L:\\n{L}\\n{L.shape}\\n')"
   ]
  },
  {
   "cell_type": "markdown",
   "id": "retained-liberia",
   "metadata": {},
   "source": [
    "#### Sum"
   ]
  },
  {
   "cell_type": "code",
   "execution_count": 44,
   "id": "medium-exclusion",
   "metadata": {},
   "outputs": [
    {
     "ename": "ValueError",
     "evalue": "operands could not be broadcast together with shapes (3,3) (2,3) ",
     "output_type": "error",
     "traceback": [
      "\u001b[0;31m---------------------------------------------------------------------------\u001b[0m",
      "\u001b[0;31mValueError\u001b[0m                                Traceback (most recent call last)",
      "\u001b[0;32m<ipython-input-44-6ea7dc51f58c>\u001b[0m in \u001b[0;36m<module>\u001b[0;34m\u001b[0m\n\u001b[0;32m----> 1\u001b[0;31m \u001b[0mJ\u001b[0m \u001b[0;34m+\u001b[0m \u001b[0mK\u001b[0m \u001b[0;31m# it wont work because they do not have the same amount of rows and columns\u001b[0m\u001b[0;34m\u001b[0m\u001b[0;34m\u001b[0m\u001b[0m\n\u001b[0m",
      "\u001b[0;31mValueError\u001b[0m: operands could not be broadcast together with shapes (3,3) (2,3) "
     ]
    }
   ],
   "source": [
    "J + K # it wont work because they do not have the same amount of rows and columns"
   ]
  },
  {
   "cell_type": "code",
   "execution_count": 45,
   "id": "cloudy-ivory",
   "metadata": {},
   "outputs": [
    {
     "data": {
      "text/plain": [
       "array([ 1,  8, 11])"
      ]
     },
     "execution_count": 45,
     "metadata": {},
     "output_type": "execute_result"
    }
   ],
   "source": [
    "# Sum lines\n",
    "J[0,:] + K[0,:]"
   ]
  },
  {
   "cell_type": "code",
   "execution_count": 46,
   "id": "stretch-ministry",
   "metadata": {},
   "outputs": [
    {
     "data": {
      "text/plain": [
       "array([[ 2,  8,  9],\n",
       "       [ 2, -1,  8],\n",
       "       [ 6,  3, 11]])"
      ]
     },
     "execution_count": 46,
     "metadata": {},
     "output_type": "execute_result"
    }
   ],
   "source": [
    "# Sum Matrices\n",
    "J + L"
   ]
  },
  {
   "cell_type": "code",
   "execution_count": 47,
   "id": "lesser-victor",
   "metadata": {},
   "outputs": [
    {
     "data": {
      "text/plain": [
       "array([[2, 0, 3],\n",
       "       [0, 5, 6],\n",
       "       [0, 1, 7]])"
      ]
     },
     "execution_count": 47,
     "metadata": {},
     "output_type": "execute_result"
    }
   ],
   "source": [
    "# Subtract Matrices\n",
    "J - L"
   ]
  },
  {
   "cell_type": "code",
   "execution_count": 52,
   "id": "cordless-guidance",
   "metadata": {},
   "outputs": [
    {
     "data": {
      "text/plain": [
       "array([[22,  2, 22],\n",
       "       [23,  5, 19],\n",
       "       [29, 15, 29]])"
      ]
     },
     "execution_count": 52,
     "metadata": {},
     "output_type": "execute_result"
    }
   ],
   "source": [
    "# Multiplication Matrices\n",
    "F = np.dot(J,L)\n",
    "F"
   ]
  },
  {
   "cell_type": "code",
   "execution_count": 53,
   "id": "professional-wellington",
   "metadata": {},
   "outputs": [
    {
     "name": "stderr",
     "output_type": "stream",
     "text": [
      "<ipython-input-53-2e6b16971391>:2: RuntimeWarning: divide by zero encountered in true_divide\n",
      "  J / L\n"
     ]
    },
    {
     "data": {
      "text/plain": [
       "array([[        inf,  1.        ,  2.        ],\n",
       "       [ 1.        , -0.66666667,  7.        ],\n",
       "       [ 1.        ,  2.        ,  4.5       ]])"
      ]
     },
     "execution_count": 53,
     "metadata": {},
     "output_type": "execute_result"
    }
   ],
   "source": [
    "# Division\n",
    "J / L"
   ]
  },
  {
   "cell_type": "code",
   "execution_count": 54,
   "id": "plain-spare",
   "metadata": {},
   "outputs": [
    {
     "data": {
      "text/plain": [
       "array([[ 4,  8, 12],\n",
       "       [ 2,  4, 14],\n",
       "       [ 6,  4, 18]])"
      ]
     },
     "execution_count": 54,
     "metadata": {},
     "output_type": "execute_result"
    }
   ],
   "source": [
    "# scalar multiplication\n",
    "n = 2\n",
    "n * J"
   ]
  },
  {
   "cell_type": "code",
   "execution_count": 55,
   "id": "dried-mercury",
   "metadata": {},
   "outputs": [
    {
     "data": {
      "text/plain": [
       "True"
      ]
     },
     "execution_count": 55,
     "metadata": {},
     "output_type": "execute_result"
    }
   ],
   "source": [
    "# validating multiplication\n",
    "f11 = F[0,0]\n",
    "f11_ = J[0,:].dot(L[:,0])\n",
    "f11 == f11_\n"
   ]
  },
  {
   "cell_type": "code",
   "execution_count": 56,
   "id": "fuzzy-metropolitan",
   "metadata": {},
   "outputs": [
    {
     "data": {
      "text/plain": [
       "True"
      ]
     },
     "execution_count": 56,
     "metadata": {},
     "output_type": "execute_result"
    }
   ],
   "source": [
    "f12 = F[0,1]\n",
    "f12_ = J[0,:].dot(L[:,1])\n",
    "f12 == f12_"
   ]
  },
  {
   "cell_type": "code",
   "execution_count": null,
   "id": "lesser-removal",
   "metadata": {},
   "outputs": [],
   "source": []
  }
 ],
 "metadata": {
  "kernelspec": {
   "display_name": "Python 3",
   "language": "python",
   "name": "python3"
  },
  "language_info": {
   "codemirror_mode": {
    "name": "ipython",
    "version": 3
   },
   "file_extension": ".py",
   "mimetype": "text/x-python",
   "name": "python",
   "nbconvert_exporter": "python",
   "pygments_lexer": "ipython3",
   "version": "3.8.5"
  }
 },
 "nbformat": 4,
 "nbformat_minor": 5
}
