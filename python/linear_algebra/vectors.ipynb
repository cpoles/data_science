{
 "cells": [
  {
   "cell_type": "markdown",
   "id": "major-electronics",
   "metadata": {},
   "source": [
    "# Vectors"
   ]
  },
  {
   "cell_type": "code",
   "execution_count": 2,
   "id": "equipped-flexibility",
   "metadata": {},
   "outputs": [],
   "source": [
    "import numpy as np"
   ]
  },
  {
   "cell_type": "markdown",
   "id": "integral-google",
   "metadata": {},
   "source": [
    "### Addition and Subtraction"
   ]
  },
  {
   "cell_type": "code",
   "execution_count": 1,
   "id": "hourly-battery",
   "metadata": {},
   "outputs": [],
   "source": [
    "u = [1, 2]\n",
    "v = [2, 1]"
   ]
  },
  {
   "cell_type": "code",
   "execution_count": 3,
   "id": "common-midnight",
   "metadata": {},
   "outputs": [],
   "source": [
    "u = np.array(u)\n",
    "v = np.array(v)"
   ]
  },
  {
   "cell_type": "code",
   "execution_count": 4,
   "id": "least-badge",
   "metadata": {},
   "outputs": [
    {
     "data": {
      "text/plain": [
       "array([3, 3])"
      ]
     },
     "execution_count": 4,
     "metadata": {},
     "output_type": "execute_result"
    }
   ],
   "source": [
    "# addition\n",
    "u + v"
   ]
  },
  {
   "cell_type": "code",
   "execution_count": 5,
   "id": "optional-lingerie",
   "metadata": {},
   "outputs": [
    {
     "data": {
      "text/plain": [
       "array([-1,  1])"
      ]
     },
     "execution_count": 5,
     "metadata": {},
     "output_type": "execute_result"
    }
   ],
   "source": [
    "# subtraction\n",
    "u - v"
   ]
  },
  {
   "cell_type": "markdown",
   "id": "trying-accent",
   "metadata": {},
   "source": [
    "### Scalar Product"
   ]
  },
  {
   "cell_type": "code",
   "execution_count": 6,
   "id": "stock-caution",
   "metadata": {},
   "outputs": [],
   "source": [
    "u = np.array([2, 3])\n",
    "v = np.array([4, -1])"
   ]
  },
  {
   "cell_type": "code",
   "execution_count": 7,
   "id": "friendly-rwanda",
   "metadata": {},
   "outputs": [
    {
     "data": {
      "text/plain": [
       "5"
      ]
     },
     "execution_count": 7,
     "metadata": {},
     "output_type": "execute_result"
    }
   ],
   "source": [
    "u.dot(v)"
   ]
  },
  {
   "cell_type": "markdown",
   "id": "scientific-turkey",
   "metadata": {},
   "source": [
    "### Norm"
   ]
  },
  {
   "cell_type": "code",
   "execution_count": 10,
   "id": "closed-alarm",
   "metadata": {},
   "outputs": [
    {
     "data": {
      "text/plain": [
       "3.605551275463989"
      ]
     },
     "execution_count": 10,
     "metadata": {},
     "output_type": "execute_result"
    }
   ],
   "source": [
    "np.linalg.norm(u)"
   ]
  },
  {
   "cell_type": "code",
   "execution_count": 11,
   "id": "wound-publisher",
   "metadata": {},
   "outputs": [
    {
     "data": {
      "text/plain": [
       "4.123105625617661"
      ]
     },
     "execution_count": 11,
     "metadata": {},
     "output_type": "execute_result"
    }
   ],
   "source": [
    "np.linalg.norm(v)"
   ]
  },
  {
   "cell_type": "markdown",
   "id": "instrumental-lounge",
   "metadata": {},
   "source": [
    "### Vectors in Numpy"
   ]
  },
  {
   "cell_type": "code",
   "execution_count": 12,
   "id": "lined-disposition",
   "metadata": {},
   "outputs": [],
   "source": [
    "# created from list\n",
    "v = np.array([1,2,3,4])"
   ]
  },
  {
   "cell_type": "code",
   "execution_count": 13,
   "id": "every-taiwan",
   "metadata": {},
   "outputs": [],
   "source": [
    "# create from tuple\n",
    "u = np.array((1, 2, 3, 4, 5))"
   ]
  },
  {
   "cell_type": "markdown",
   "id": "amazing-meditation",
   "metadata": {},
   "source": [
    "### Graphic Representation"
   ]
  },
  {
   "cell_type": "code",
   "execution_count": 16,
   "id": "completed-sauce",
   "metadata": {},
   "outputs": [],
   "source": [
    "import matplotlib.pyplot as plt"
   ]
  },
  {
   "cell_type": "code",
   "execution_count": 17,
   "id": "nominated-difference",
   "metadata": {},
   "outputs": [],
   "source": [
    "e1 = np.array([1, 0, 0])\n",
    "e2 = np.array([0, 1, 0])\n",
    "e3 = np.array([0, 0, 1])"
   ]
  },
  {
   "cell_type": "code",
   "execution_count": 18,
   "id": "blond-glass",
   "metadata": {},
   "outputs": [],
   "source": [
    "def plotVectors(vecs, cols, alpha=1):\n",
    "    \"\"\"\n",
    "    Plot set of vectors.\n",
    "\n",
    "    Parameters\n",
    "    ----------\n",
    "    vecs : array-like\n",
    "        Coordinates of the vectors to plot. Each vectors is in an array. For\n",
    "        instance: [[1, 3], [2, 2]] can be used to plot 2 vectors.\n",
    "    cols : array-like\n",
    "        Colors of the vectors. For instance: ['red', 'blue'] will display the\n",
    "        first vector in red and the second in blue.\n",
    "    alpha : float\n",
    "        Opacity of vectors\n",
    "\n",
    "    Returns:\n",
    "\n",
    "    fig : instance of matplotlib.figure.Figure\n",
    "        The figure of the vectors\n",
    "    \"\"\"\n",
    "    plt.figure()\n",
    "    plt.axvline(x=0, color='#A9A9A9', zorder=0)\n",
    "    plt.axhline(y=0, color='#A9A9A9', zorder=0)\n",
    "\n",
    "    for i in range(len(vecs)):\n",
    "        x = np.concatenate([[0,0],vecs[i]])\n",
    "        plt.quiver([x[0]],\n",
    "                   [x[1]],\n",
    "                   [x[2]],\n",
    "                   [x[3]],\n",
    "                   angles='xy', scale_units='xy', scale=1, color=cols[i],\n",
    "                  alpha=alpha)"
   ]
  },
  {
   "cell_type": "code",
   "execution_count": 24,
   "id": "invalid-bowling",
   "metadata": {},
   "outputs": [
    {
     "data": {
      "text/plain": [
       "(-5.0, 5.0)"
      ]
     },
     "execution_count": 24,
     "metadata": {},
     "output_type": "execute_result"
    },
    {
     "data": {
      "image/png": "[encoded data removed]",
      "text/plain": [
       "<Figure size 432x288 with 1 Axes>"
      ]
     },
     "metadata": {
      "needs_background": "light"
     },
     "output_type": "display_data"
    }
   ],
   "source": [
    "laranja = '#FF9A13'\n",
    "azul = '#1190FF'\n",
    "\n",
    "res = '#11FFFF'\n",
    "\n",
    "plotVectors([[2,3], [4,-1], [6,2]], [laranja, azul, res])\n",
    "\n",
    "plt.xlim(0,7)\n",
    "plt.ylim(-5,5)"
   ]
  },
  {
   "cell_type": "code",
   "execution_count": 29,
   "id": "chubby-weight",
   "metadata": {},
   "outputs": [
    {
     "data": {
      "text/plain": [
       "(0.0, 5.0)"
      ]
     },
     "execution_count": 29,
     "metadata": {},
     "output_type": "execute_result"
    },
    {
     "data": {
      "image/png": "[encoded data removed]",
      "text/plain": [
       "<Figure size 432x288 with 1 Axes>"
      ]
     },
     "metadata": {
      "needs_background": "light"
     },
     "output_type": "display_data"
    }
   ],
   "source": [
    "u = np.array([2,3])\n",
    "v = np.array([3,1])\n",
    "\n",
    "r = u + v\n",
    "\n",
    "plotVectors([u, v, r], [laranja, azul, res])\n",
    "\n",
    "plt.xlim(0,6)\n",
    "plt.ylim(0,5)"
   ]
  },
  {
   "cell_type": "markdown",
   "id": "optional-richardson",
   "metadata": {},
   "source": [
    "### Angle Between Vectors"
   ]
  },
  {
   "cell_type": "code",
   "execution_count": 34,
   "id": "tamil-vaccine",
   "metadata": {},
   "outputs": [],
   "source": [
    "def ang_to_vet(v, u):\n",
    "    # calculate the scalar product of the adjacent vectors\n",
    "    scalar_product = v.dot(u)\n",
    "    # calculate the norms of each vector\n",
    "    v_norm = np.linalg.norm(v)\n",
    "    u_norm = np.linalg.norm(u)\n",
    "    # calculate the cosin of theta\n",
    "    cos_theta = scalar_product / (v_norm * u_norm)\n",
    "    # calculate theta \n",
    "    angle = np.arccos(cos_theta) # in radians\n",
    "\n",
    "    return (180/np.pi)*angle # in degrees"
   ]
  },
  {
   "cell_type": "code",
   "execution_count": 35,
   "id": "funky-exclusive",
   "metadata": {},
   "outputs": [],
   "source": [
    "u = np.array([0, 1])\n",
    "v = np.array([1, 0])"
   ]
  },
  {
   "cell_type": "code",
   "execution_count": 36,
   "id": "overhead-consultancy",
   "metadata": {},
   "outputs": [
    {
     "data": {
      "text/plain": [
       "(-1.0, 5.0)"
      ]
     },
     "execution_count": 36,
     "metadata": {},
     "output_type": "execute_result"
    },
    {
     "data": {
      "image/png": "[encoded data removed]",
      "text/plain": [
       "<Figure size 432x288 with 1 Axes>"
      ]
     },
     "metadata": {
      "needs_background": "light"
     },
     "output_type": "display_data"
    }
   ],
   "source": [
    "red = 'red'\n",
    "blue = 'blue'\n",
    "\n",
    "plotVectors([u, v], [red, blue])\n",
    "plt.xlim(-1, 5)\n",
    "plt.ylim(-1, 5)"
   ]
  },
  {
   "cell_type": "code",
   "execution_count": 37,
   "id": "minimal-defendant",
   "metadata": {},
   "outputs": [
    {
     "data": {
      "text/plain": [
       "90.0"
      ]
     },
     "execution_count": 37,
     "metadata": {},
     "output_type": "execute_result"
    }
   ],
   "source": [
    "# get the angle between u and v\n",
    "ang_to_vet(u, v)"
   ]
  },
  {
   "cell_type": "code",
   "execution_count": 38,
   "id": "removed-posting",
   "metadata": {},
   "outputs": [],
   "source": [
    "u2 = np.array([1, 1])\n",
    "v2 = np.array([1, 0])"
   ]
  },
  {
   "cell_type": "code",
   "execution_count": 40,
   "id": "young-renewal",
   "metadata": {},
   "outputs": [
    {
     "data": {
      "text/plain": [
       "(-1.0, 2.0)"
      ]
     },
     "execution_count": 40,
     "metadata": {},
     "output_type": "execute_result"
    },
    {
     "data": {
      "image/png": "[encoded data removed]",
      "text/plain": [
       "<Figure size 432x288 with 1 Axes>"
      ]
     },
     "metadata": {
      "needs_background": "light"
     },
     "output_type": "display_data"
    }
   ],
   "source": [
    "red = 'red'\n",
    "blue = 'blue'\n",
    "\n",
    "plotVectors([u2, v2], [red, blue])\n",
    "plt.xlim(-1, 2)\n",
    "plt.ylim(-1, 2)"
   ]
  },
  {
   "cell_type": "code",
   "execution_count": 41,
   "id": "numerous-universal",
   "metadata": {},
   "outputs": [
    {
     "data": {
      "text/plain": [
       "45.00000000000001"
      ]
     },
     "execution_count": 41,
     "metadata": {},
     "output_type": "execute_result"
    }
   ],
   "source": [
    "ang_to_vet(u2, v2)"
   ]
  },
  {
   "cell_type": "markdown",
   "id": "grave-visibility",
   "metadata": {},
   "source": [
    "### Unit Vector"
   ]
  },
  {
   "cell_type": "code",
   "execution_count": 42,
   "id": "related-header",
   "metadata": {},
   "outputs": [],
   "source": [
    "def unit_vector(vec: np.array) -> np.array:\n",
    "    # calculate the norm\n",
    "    vec_norm = np.linalg.norm(vec)\n",
    "    return vec / vec_norm"
   ]
  },
  {
   "cell_type": "code",
   "execution_count": 44,
   "id": "identical-scout",
   "metadata": {},
   "outputs": [],
   "source": [
    "v = np.array([2,1])"
   ]
  },
  {
   "cell_type": "code",
   "execution_count": 47,
   "id": "commercial-occasion",
   "metadata": {},
   "outputs": [
    {
     "data": {
      "text/plain": [
       "array([0.89442719, 0.4472136 ])"
      ]
     },
     "execution_count": 47,
     "metadata": {},
     "output_type": "execute_result"
    }
   ],
   "source": [
    "unit_v = unit_vector(v)\n",
    "unit_v"
   ]
  },
  {
   "cell_type": "code",
   "execution_count": 48,
   "id": "renewable-webster",
   "metadata": {},
   "outputs": [
    {
     "data": {
      "text/plain": [
       "0.9999999999999999"
      ]
     },
     "execution_count": 48,
     "metadata": {},
     "output_type": "execute_result"
    }
   ],
   "source": [
    "np.linalg.norm(unit_v)"
   ]
  },
  {
   "cell_type": "code",
   "execution_count": null,
   "id": "wicked-edmonton",
   "metadata": {},
   "outputs": [],
   "source": []
  }
 ],
 "metadata": {
  "kernelspec": {
   "display_name": "Python 3",
   "language": "python",
   "name": "python3"
  },
  "language_info": {
   "codemirror_mode": {
    "name": "ipython",
    "version": 3
   },
   "file_extension": ".py",
   "mimetype": "text/x-python",
   "name": "python",
   "nbconvert_exporter": "python",
   "pygments_lexer": "ipython3",
   "version": "3.8.5"
  }
 },
 "nbformat": 4,
 "nbformat_minor": 5
}
