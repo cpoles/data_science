{
 "metadata": {
  "language_info": {
   "codemirror_mode": {
    "name": "ipython",
    "version": 3
   },
   "file_extension": ".py",
   "mimetype": "text/x-python",
   "name": "python",
   "nbconvert_exporter": "python",
   "pygments_lexer": "ipython3",
   "version": "3.8.5-final"
  },
  "orig_nbformat": 2,
  "kernelspec": {
   "name": "python3",
   "display_name": "Python 3",
   "language": "python"
  }
 },
 "nbformat": 4,
 "nbformat_minor": 2,
 "cells": [
  {
   "source": [
    "# Try, Except, Finally"
   ],
   "cell_type": "markdown",
   "metadata": {}
  },
  {
   "cell_type": "code",
   "execution_count": 2,
   "metadata": {},
   "outputs": [
    {
     "output_type": "stream",
     "name": "stdout",
     "text": [
      "division by 0\nthis always executes\n"
     ]
    }
   ],
   "source": [
    "a = 10\n",
    "b = 0\n",
    "\n",
    "try:\n",
    "    a/b\n",
    "except ZeroDivisionError:\n",
    "    print(\"division by 0\")\n",
    "finally:\n",
    "    print('this always executes')"
   ]
  },
  {
   "cell_type": "code",
   "execution_count": 5,
   "metadata": {},
   "outputs": [
    {
     "output_type": "stream",
     "name": "stdout",
     "text": [
      "---------------------------\n1, 1 - always executes\n1, 1 - main loop\n---------------------------\n2, 0 - division by 0.\n2, 0 - always executes\n---------------------------\n3, -1 - always executes\n3, -1 - main loop\n---------------------------\n4, -2 - always executes\n4, -2 - main loop\n"
     ]
    }
   ],
   "source": [
    "a = 0\n",
    "b =2\n",
    "\n",
    "while a < 4:\n",
    "    print ('---------------------------')\n",
    "    a += 1\n",
    "    b -= 1\n",
    "\n",
    "    try:\n",
    "        a / b\n",
    "    except ZeroDivisionError:\n",
    "        print(\"{0}, {1} - division by 0.\".format(a, b))\n",
    "        continue\n",
    "    finally:\n",
    "        print(\"{0}, {1} - always executes\".format(a,b))\n",
    "\n",
    "    print(\"{0}, {1} - main loop\".format(a,b))"
   ]
  },
  {
   "cell_type": "code",
   "execution_count": 6,
   "metadata": {},
   "outputs": [
    {
     "output_type": "stream",
     "name": "stdout",
     "text": [
      "---------------------------\n1, 1 - always executes\n1, 1 - main loop\n---------------------------\n2, 0 - division by 0.\n2, 0 - always executes\n"
     ]
    }
   ],
   "source": [
    "#using break\n",
    "\n",
    "a = 0\n",
    "b =2\n",
    "\n",
    "while a < 4:\n",
    "    print ('---------------------------')\n",
    "    a += 1\n",
    "    b -= 1\n",
    "\n",
    "    try:\n",
    "        a / b\n",
    "    except ZeroDivisionError:\n",
    "        print(\"{0}, {1} - division by 0.\".format(a, b))\n",
    "        break\n",
    "    finally:\n",
    "        print(\"{0}, {1} - always executes\".format(a,b))\n",
    "\n",
    "    print(\"{0}, {1} - main loop\".format(a,b))"
   ]
  },
  {
   "cell_type": "code",
   "execution_count": 7,
   "metadata": {},
   "outputs": [
    {
     "output_type": "stream",
     "name": "stdout",
     "text": [
      "---------------------------\n1, 9 - always executes\n1, 9 - main loop\n---------------------------\n2, 8 - always executes\n2, 8 - main loop\n---------------------------\n3, 7 - always executes\n3, 7 - main loop\n---------------------------\n4, 6 - always executes\n4, 6 - main loop\nCode executed without a zero division error.\n"
     ]
    }
   ],
   "source": [
    "#adding an else clause\n",
    "a = 0\n",
    "b = 10\n",
    "\n",
    "while a < 4:\n",
    "    print ('---------------------------')\n",
    "    a += 1\n",
    "    b -= 1\n",
    "\n",
    "    try:\n",
    "        a / b\n",
    "    except ZeroDivisionError:\n",
    "        print(\"{0}, {1} - division by 0.\".format(a, b))\n",
    "        break\n",
    "    finally:\n",
    "        print(\"{0}, {1} - always executes\".format(a,b))\n",
    "\n",
    "    print(\"{0}, {1} - main loop\".format(a,b))\n",
    "else:\n",
    "    print('Code executed without a zero division error.')"
   ]
  },
  {
   "cell_type": "code",
   "execution_count": null,
   "metadata": {},
   "outputs": [],
   "source": []
  }
 ]
}