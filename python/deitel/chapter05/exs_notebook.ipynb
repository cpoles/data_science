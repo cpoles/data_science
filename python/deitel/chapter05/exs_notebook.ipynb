{
 "cells": [
  {
   "cell_type": "markdown",
   "metadata": {},
   "source": [
    "# Short Exercises"
   ]
  },
  {
   "cell_type": "markdown",
   "metadata": {},
   "source": [
    "### Duplicate Elimination"
   ]
  },
  {
   "cell_type": "code",
   "execution_count": 9,
   "metadata": {},
   "outputs": [],
   "source": [
    "def elim_duplicates(seq):\n",
    "    '''Eliminates duplicate items'''\n",
    "    for elem in seq:\n",
    "        seq = [elem] + list(filter(lambda x: x != elem, seq))\n",
    "        print(seq)\n",
    "    return seq"
   ]
  },
  {
   "cell_type": "code",
   "execution_count": 14,
   "metadata": {},
   "outputs": [],
   "source": [
    "# using recursion\n",
    "\n",
    "def no_dups_func(seq):\n",
    "    '''Eliminates duplicate items'''\n",
    "    if seq == []:\n",
    "        return []\n",
    "    else:\n",
    "        head, *tail = seq\n",
    "        f_seq = list(filter(lambda x: x != head, tail))\n",
    "        seq = [head] + no_dups_func(f_seq)\n",
    "        print(seq)\n",
    "    return seq"
   ]
  },
  {
   "cell_type": "code",
   "execution_count": 15,
   "metadata": {},
   "outputs": [],
   "source": [
    "numbers = [1, 2, 1, 2, 3, 3, 3]"
   ]
  },
  {
   "cell_type": "code",
   "execution_count": 16,
   "metadata": {},
   "outputs": [
    {
     "output_type": "stream",
     "name": "stdout",
     "text": [
      "[1, 2, 2, 3, 3, 3]\n[2, 1, 3, 3, 3]\n[1, 2, 3, 3, 3]\n[2, 1, 3, 3, 3]\n[3, 2, 1]\n[3, 2, 1]\n[3, 2, 1]\n"
     ]
    }
   ],
   "source": [
    "no_dups = sorted(elim_duplicates(numbers))"
   ]
  },
  {
   "cell_type": "code",
   "execution_count": 17,
   "metadata": {},
   "outputs": [
    {
     "output_type": "stream",
     "name": "stdout",
     "text": [
      "[3]\n[2, 3]\n[1, 2, 3]\n"
     ]
    },
    {
     "output_type": "execute_result",
     "data": {
      "text/plain": [
       "[1, 2, 3]"
      ]
     },
     "metadata": {},
     "execution_count": 17
    }
   ],
   "source": [
    "no_dups_func(numbers)"
   ]
  },
  {
   "cell_type": "code",
   "execution_count": 18,
   "metadata": {},
   "outputs": [
    {
     "output_type": "stream",
     "name": "stdout",
     "text": [
      "['r']\n['a', 'r']\n"
     ]
    },
    {
     "output_type": "execute_result",
     "data": {
      "text/plain": [
       "['a', 'r']"
      ]
     },
     "metadata": {},
     "execution_count": 18
    }
   ],
   "source": [
    "no_dups_func('arara')"
   ]
  },
  {
   "cell_type": "markdown",
   "metadata": {},
   "source": [
    "### Palindrome Tester using append() and pop() as a stack"
   ]
  },
  {
   "cell_type": "code",
   "execution_count": 19,
   "metadata": {},
   "outputs": [],
   "source": [
    "def is_palindrome(word):\n",
    "    word = list(word.lower())\n",
    "    or_word = [x for x in word]\n",
    "    rev_word = []\n",
    "    for _ in or_word:\n",
    "        rev_word.append(word.pop())\n",
    "    return rev_word == or_word"
   ]
  },
  {
   "cell_type": "code",
   "execution_count": 20,
   "metadata": {},
   "outputs": [
    {
     "output_type": "execute_result",
     "data": {
      "text/plain": [
       "True"
      ]
     },
     "metadata": {},
     "execution_count": 20
    }
   ],
   "source": [
    "is_palindrome('arara')"
   ]
  },
  {
   "cell_type": "markdown",
   "metadata": {},
   "source": [
    "### Summarizing Letters"
   ]
  },
  {
   "cell_type": "code",
   "execution_count": 21,
   "metadata": {},
   "outputs": [],
   "source": [
    "def summarize_letters(word):\n",
    "    '''Counts the number of occurrences of chars'''\n",
    "    frequencies = []\n",
    "    word = list(word.lower())\n",
    "    unique = no_dups_func(word)\n",
    "    for ch in unique:\n",
    "        frequencies.append((ch, 0))\n",
    "    print(frequencies)\n",
    "\n",
    "    for ch in word:\n",
    "        for idx, (x, y) in enumerate(frequencies):\n",
    "            if x == ch:\n",
    "                frequencies[idx] = (x, y + 1)\n",
    "               \n",
    "    return frequencies               \n",
    "        \n"
   ]
  },
  {
   "cell_type": "code",
   "execution_count": 25,
   "metadata": {},
   "outputs": [
    {
     "output_type": "stream",
     "name": "stdout",
     "text": [
      "['e']\n['b', 'e']\n['d', 'b', 'e']\n[' ', 'd', 'b', 'e']\n['.', ' ', 'd', 'b', 'e']\n['c', '.', ' ', 'd', 'b', 'e']\n['a', 'c', '.', ' ', 'd', 'b', 'e']\n[('a', 0), ('c', 0), ('.', 0), (' ', 0), ('d', 0), ('b', 0), ('e', 0)]\n"
     ]
    },
    {
     "output_type": "execute_result",
     "data": {
      "text/plain": [
       "[('a', 9), ('c', 3), ('.', 2), (' ', 2), ('d', 3), ('b', 1), ('e', 3)]"
      ]
     },
     "metadata": {},
     "execution_count": 25
    }
   ],
   "source": [
    "summarize_letters('aaccc. aaddd. aabaaeeea')  "
   ]
  },
  {
   "source": [
    "### All letters of the alphabet"
   ],
   "cell_type": "markdown",
   "metadata": {}
  },
  {
   "cell_type": "code",
   "execution_count": 36,
   "metadata": {},
   "outputs": [],
   "source": [
    "\n",
    "def check_letters(text):\n",
    "    '''Checks if a given string contains all characters of the alphabet'''\n",
    "    # build a base list of alpha char frequencies\n",
    "    alphabet = list(map(chr, range(65,91)))\n",
    "    alpha_freq = list(map(lambda x: (x, 0), alphabet))\n",
    "\n",
    "    # filter non-alpha chars\n",
    "    text = list(filter(lambda x: x in alphabet ,list(text.upper())))\n",
    "\n",
    "    for ch in text:\n",
    "        for idx, (x, y) in enumerate(alpha_freq):\n",
    "            if ch == x:\n",
    "                alpha_freq[idx] = (x, y + 1)\n",
    "\n",
    "\n",
    "    return all(list(map(lambda x: x[1] >= 1, alpha_freq)))\n"
   ]
  },
  {
   "cell_type": "code",
   "execution_count": 43,
   "metadata": {},
   "outputs": [
    {
     "output_type": "execute_result",
     "data": {
      "text/plain": [
       "True"
      ]
     },
     "metadata": {},
     "execution_count": 43
    }
   ],
   "source": [
    "alphabet = list(map(chr, range(65,91)))\n",
    "check_letters(''.join(alphabet) + '...////') # true (ignores non-alpha chars)"
   ]
  },
  {
   "cell_type": "code",
   "execution_count": 44,
   "metadata": {},
   "outputs": [
    {
     "output_type": "execute_result",
     "data": {
      "text/plain": [
       "True"
      ]
     },
     "metadata": {},
     "execution_count": 44
    }
   ],
   "source": [
    "check_letters(''.join(alphabet)) # true (all letters)"
   ]
  },
  {
   "cell_type": "code",
   "execution_count": 45,
   "metadata": {},
   "outputs": [
    {
     "output_type": "execute_result",
     "data": {
      "text/plain": [
       "False"
      ]
     },
     "metadata": {},
     "execution_count": 45
    }
   ],
   "source": [
    "check_letters('sadjk nnkasd //asd d jkjkai') # false "
   ]
  },
  {
   "cell_type": "markdown",
   "metadata": {},
   "source": [
    "### Anagrams"
   ]
  },
  {
   "cell_type": "code",
   "execution_count": 23,
   "metadata": {},
   "outputs": [],
   "source": [
    "from itertools import permutations\n",
    "\n",
    "def anagrams(string):\n",
    "    return list(map(lambda x: ''.join(x), list(permutations(string, len(string)))))"
   ]
  },
  {
   "cell_type": "code",
   "execution_count": 24,
   "metadata": {},
   "outputs": [
    {
     "output_type": "execute_result",
     "data": {
      "text/plain": [
       "['clear',\n",
       " 'clera',\n",
       " 'claer',\n",
       " 'clare',\n",
       " 'clrea',\n",
       " 'clrae',\n",
       " 'celar',\n",
       " 'celra',\n",
       " 'cealr',\n",
       " 'cearl',\n",
       " 'cerla',\n",
       " 'ceral',\n",
       " 'caler',\n",
       " 'calre',\n",
       " 'caelr',\n",
       " 'caerl',\n",
       " 'carle',\n",
       " 'carel',\n",
       " 'crlea',\n",
       " 'crlae',\n",
       " 'crela',\n",
       " 'creal',\n",
       " 'crale',\n",
       " 'crael',\n",
       " 'lcear',\n",
       " 'lcera',\n",
       " 'lcaer',\n",
       " 'lcare',\n",
       " 'lcrea',\n",
       " 'lcrae',\n",
       " 'lecar',\n",
       " 'lecra',\n",
       " 'leacr',\n",
       " 'learc',\n",
       " 'lerca',\n",
       " 'lerac',\n",
       " 'lacer',\n",
       " 'lacre',\n",
       " 'laecr',\n",
       " 'laerc',\n",
       " 'larce',\n",
       " 'larec',\n",
       " 'lrcea',\n",
       " 'lrcae',\n",
       " 'lreca',\n",
       " 'lreac',\n",
       " 'lrace',\n",
       " 'lraec',\n",
       " 'eclar',\n",
       " 'eclra',\n",
       " 'ecalr',\n",
       " 'ecarl',\n",
       " 'ecrla',\n",
       " 'ecral',\n",
       " 'elcar',\n",
       " 'elcra',\n",
       " 'elacr',\n",
       " 'elarc',\n",
       " 'elrca',\n",
       " 'elrac',\n",
       " 'eaclr',\n",
       " 'eacrl',\n",
       " 'ealcr',\n",
       " 'ealrc',\n",
       " 'earcl',\n",
       " 'earlc',\n",
       " 'ercla',\n",
       " 'ercal',\n",
       " 'erlca',\n",
       " 'erlac',\n",
       " 'eracl',\n",
       " 'eralc',\n",
       " 'acler',\n",
       " 'aclre',\n",
       " 'acelr',\n",
       " 'acerl',\n",
       " 'acrle',\n",
       " 'acrel',\n",
       " 'alcer',\n",
       " 'alcre',\n",
       " 'alecr',\n",
       " 'alerc',\n",
       " 'alrce',\n",
       " 'alrec',\n",
       " 'aeclr',\n",
       " 'aecrl',\n",
       " 'aelcr',\n",
       " 'aelrc',\n",
       " 'aercl',\n",
       " 'aerlc',\n",
       " 'arcle',\n",
       " 'arcel',\n",
       " 'arlce',\n",
       " 'arlec',\n",
       " 'arecl',\n",
       " 'arelc',\n",
       " 'rclea',\n",
       " 'rclae',\n",
       " 'rcela',\n",
       " 'rceal',\n",
       " 'rcale',\n",
       " 'rcael',\n",
       " 'rlcea',\n",
       " 'rlcae',\n",
       " 'rleca',\n",
       " 'rleac',\n",
       " 'rlace',\n",
       " 'rlaec',\n",
       " 'recla',\n",
       " 'recal',\n",
       " 'relca',\n",
       " 'relac',\n",
       " 'reacl',\n",
       " 'realc',\n",
       " 'racle',\n",
       " 'racel',\n",
       " 'ralce',\n",
       " 'ralec',\n",
       " 'raecl',\n",
       " 'raelc']"
      ]
     },
     "metadata": {},
     "execution_count": 24
    }
   ],
   "source": [
    "anagrams('clear')"
   ]
  },
  {
   "source": [
    "### Sequence Sorted"
   ],
   "cell_type": "markdown",
   "metadata": {}
  },
  {
   "cell_type": "code",
   "execution_count": 60,
   "metadata": {},
   "outputs": [],
   "source": [
    "def is_ordered(seq) -> bool:\n",
    "    '''Implementation follows sorted()function sorting'''\n",
    "    if isinstance(seq, str):\n",
    "        return list(seq) == sorted(list(seq))\n",
    "    else:\n",
    "        return seq == sorted(seq)"
   ]
  },
  {
   "cell_type": "code",
   "execution_count": 61,
   "metadata": {},
   "outputs": [
    {
     "output_type": "execute_result",
     "data": {
      "text/plain": [
       "True"
      ]
     },
     "metadata": {},
     "execution_count": 61
    }
   ],
   "source": [
    "is_ordered('abc')"
   ]
  },
  {
   "cell_type": "code",
   "execution_count": null,
   "metadata": {},
   "outputs": [],
   "source": []
  }
 ],
 "metadata": {
  "kernelspec": {
   "display_name": "Python 3",
   "language": "python",
   "name": "python3"
  },
  "language_info": {
   "codemirror_mode": {
    "name": "ipython",
    "version": 3
   },
   "file_extension": ".py",
   "mimetype": "text/x-python",
   "name": "python",
   "nbconvert_exporter": "python",
   "pygments_lexer": "ipython3",
   "version": "3.7.9-final"
  }
 },
 "nbformat": 4,
 "nbformat_minor": 2
}