{
 "cells": [
  {
   "cell_type": "markdown",
   "id": "floral-richardson",
   "metadata": {},
   "source": [
    "# Chapter 12 - iPython Sessions"
   ]
  },
  {
   "cell_type": "markdown",
   "id": "about-community",
   "metadata": {
    "heading_collapsed": "true"
   },
   "source": [
    "## TextBlob"
   ]
  },
  {
   "cell_type": "markdown",
   "id": "portuguese-penetration",
   "metadata": {
    "heading_collapsed": "true"
   },
   "source": [
    "### Create a TextBlob"
   ]
  },
  {
   "cell_type": "code",
   "execution_count": 1,
   "id": "digital-trace",
   "metadata": {},
   "outputs": [],
   "source": [
    "from textblob import TextBlob"
   ]
  },
  {
   "cell_type": "code",
   "execution_count": 2,
   "id": "unique-packet",
   "metadata": {},
   "outputs": [],
   "source": [
    "text = 'Today is a beautiful day. Tomorrow looks like bad weather.'"
   ]
  },
  {
   "cell_type": "code",
   "execution_count": 3,
   "id": "amended-colony",
   "metadata": {},
   "outputs": [],
   "source": [
    "blob = TextBlob(text)"
   ]
  },
  {
   "cell_type": "code",
   "execution_count": 4,
   "id": "polyphonic-arbor",
   "metadata": {},
   "outputs": [
    {
     "data": {
      "text/plain": [
       "TextBlob(\"Today is a beautiful day. Tomorrow looks like bad weather.\")"
      ]
     },
     "execution_count": 4,
     "metadata": {},
     "output_type": "execute_result"
    }
   ],
   "source": [
    "blob"
   ]
  },
  {
   "cell_type": "markdown",
   "id": "level-potter",
   "metadata": {},
   "source": [
    "#### Self Check"
   ]
  },
  {
   "cell_type": "code",
   "execution_count": 5,
   "id": "quiet-sandwich",
   "metadata": {},
   "outputs": [],
   "source": [
    "exercise_blob = TextBlob('This is a TextBlob')"
   ]
  },
  {
   "cell_type": "code",
   "execution_count": 6,
   "id": "ceramic-method",
   "metadata": {},
   "outputs": [
    {
     "data": {
      "text/plain": [
       "TextBlob(\"This is a TextBlob\")"
      ]
     },
     "execution_count": 6,
     "metadata": {},
     "output_type": "execute_result"
    }
   ],
   "source": [
    "exercise_blob"
   ]
  },
  {
   "cell_type": "markdown",
   "id": "naked-assembly",
   "metadata": {
    "heading_collapsed": "true"
   },
   "source": [
    "### Tokenizing Text into Sentences and Words"
   ]
  },
  {
   "cell_type": "code",
   "execution_count": 7,
   "id": "found-navigator",
   "metadata": {},
   "outputs": [
    {
     "data": {
      "text/plain": [
       "[Sentence(\"Today is a beautiful day.\"),\n",
       " Sentence(\"Tomorrow looks like bad weather.\")]"
      ]
     },
     "execution_count": 7,
     "metadata": {},
     "output_type": "execute_result"
    }
   ],
   "source": [
    "blob.sentences"
   ]
  },
  {
   "cell_type": "code",
   "execution_count": 8,
   "id": "offensive-underground",
   "metadata": {},
   "outputs": [
    {
     "data": {
      "text/plain": [
       "WordList(['Today', 'is', 'a', 'beautiful', 'day', 'Tomorrow', 'looks', 'like', 'bad', 'weather'])"
      ]
     },
     "execution_count": 8,
     "metadata": {},
     "output_type": "execute_result"
    }
   ],
   "source": [
    "# get list of tokens\n",
    "blob.words"
   ]
  },
  {
   "cell_type": "markdown",
   "id": "blind-criminal",
   "metadata": {},
   "source": [
    "#### Self Check"
   ]
  },
  {
   "cell_type": "code",
   "execution_count": 9,
   "id": "partial-keeping",
   "metadata": {},
   "outputs": [],
   "source": [
    "text2 = TextBlob('This is the first sentence. The second sentence is this one here.')"
   ]
  },
  {
   "cell_type": "code",
   "execution_count": 10,
   "id": "synthetic-inquiry",
   "metadata": {},
   "outputs": [
    {
     "data": {
      "text/plain": [
       "[Sentence(\"This is the first sentence.\"),\n",
       " Sentence(\"The second sentence is this one here.\")]"
      ]
     },
     "execution_count": 10,
     "metadata": {},
     "output_type": "execute_result"
    }
   ],
   "source": [
    "text2.sentences"
   ]
  },
  {
   "cell_type": "code",
   "execution_count": 11,
   "id": "sunrise-board",
   "metadata": {},
   "outputs": [
    {
     "data": {
      "text/plain": [
       "defaultdict(int,\n",
       "            {'this': 2,\n",
       "             'is': 2,\n",
       "             'the': 2,\n",
       "             'first': 1,\n",
       "             'sentence': 2,\n",
       "             'second': 1,\n",
       "             'one': 1,\n",
       "             'here': 1})"
      ]
     },
     "execution_count": 11,
     "metadata": {},
     "output_type": "execute_result"
    }
   ],
   "source": [
    "text2.word_counts"
   ]
  },
  {
   "cell_type": "markdown",
   "id": "endangered-debut",
   "metadata": {
    "heading_collapsed": "true"
   },
   "source": [
    "### Parts of Speech Tagging"
   ]
  },
  {
   "cell_type": "code",
   "execution_count": 12,
   "id": "atmospheric-petite",
   "metadata": {},
   "outputs": [
    {
     "data": {
      "text/plain": [
       "TextBlob(\"Today is a beautiful day. Tomorrow looks like bad weather.\")"
      ]
     },
     "execution_count": 12,
     "metadata": {},
     "output_type": "execute_result"
    }
   ],
   "source": [
    "blob"
   ]
  },
  {
   "cell_type": "code",
   "execution_count": 13,
   "id": "ignored-retention",
   "metadata": {},
   "outputs": [
    {
     "data": {
      "text/plain": [
       "[('Today', 'NN'),\n",
       " ('is', 'VBZ'),\n",
       " ('a', 'DT'),\n",
       " ('beautiful', 'JJ'),\n",
       " ('day', 'NN'),\n",
       " ('Tomorrow', 'NNP'),\n",
       " ('looks', 'VBZ'),\n",
       " ('like', 'IN'),\n",
       " ('bad', 'JJ'),\n",
       " ('weather', 'NN')]"
      ]
     },
     "execution_count": 13,
     "metadata": {},
     "output_type": "execute_result"
    }
   ],
   "source": [
    "blob.tags"
   ]
  },
  {
   "cell_type": "markdown",
   "id": "tropical-error",
   "metadata": {},
   "source": [
    "#### Self Check"
   ]
  },
  {
   "cell_type": "code",
   "execution_count": 14,
   "id": "democratic-pittsburgh",
   "metadata": {},
   "outputs": [
    {
     "data": {
      "text/plain": [
       "[('My', 'PRP$'), ('dog', 'NN'), ('is', 'VBZ'), ('cute', 'JJ')]"
      ]
     },
     "execution_count": 14,
     "metadata": {},
     "output_type": "execute_result"
    }
   ],
   "source": [
    "# create TextBlob and get the parts of speech (POS)\n",
    "TextBlob('My dog is cute').tags"
   ]
  },
  {
   "cell_type": "markdown",
   "id": "suitable-villa",
   "metadata": {
    "heading_collapsed": "true"
   },
   "source": [
    "### Extracting Noun Phrases"
   ]
  },
  {
   "cell_type": "code",
   "execution_count": 15,
   "id": "brilliant-captain",
   "metadata": {},
   "outputs": [
    {
     "data": {
      "text/plain": [
       "TextBlob(\"Today is a beautiful day. Tomorrow looks like bad weather.\")"
      ]
     },
     "execution_count": 15,
     "metadata": {},
     "output_type": "execute_result"
    }
   ],
   "source": [
    "blob"
   ]
  },
  {
   "cell_type": "code",
   "execution_count": 16,
   "id": "posted-telescope",
   "metadata": {},
   "outputs": [
    {
     "data": {
      "text/plain": [
       "WordList(['beautiful day', 'tomorrow', 'bad weather'])"
      ]
     },
     "execution_count": 16,
     "metadata": {},
     "output_type": "execute_result"
    }
   ],
   "source": [
    "blob.noun_phrases"
   ]
  },
  {
   "cell_type": "markdown",
   "id": "crude-modification",
   "metadata": {},
   "source": [
    "#### Self Check"
   ]
  },
  {
   "cell_type": "code",
   "execution_count": 17,
   "id": "fantastic-museum",
   "metadata": {},
   "outputs": [
    {
     "data": {
      "text/plain": [
       "WordList(['red brick factory'])"
      ]
     },
     "execution_count": 17,
     "metadata": {},
     "output_type": "execute_result"
    }
   ],
   "source": [
    "# create text blob and show the noun phrases\n",
    "TextBlob('The red brick factory is for sale').noun_phrases"
   ]
  },
  {
   "cell_type": "markdown",
   "id": "collaborative-waters",
   "metadata": {
    "heading_collapsed": "true"
   },
   "source": [
    "### Sentiment Analysis with TextBlob's Default Sentiment Analyser"
   ]
  },
  {
   "cell_type": "code",
   "execution_count": 18,
   "id": "noticed-greensboro",
   "metadata": {},
   "outputs": [
    {
     "data": {
      "text/plain": [
       "TextBlob(\"Today is a beautiful day. Tomorrow looks like bad weather.\")"
      ]
     },
     "execution_count": 18,
     "metadata": {},
     "output_type": "execute_result"
    }
   ],
   "source": [
    "blob"
   ]
  },
  {
   "cell_type": "code",
   "execution_count": 19,
   "id": "local-acoustic",
   "metadata": {},
   "outputs": [
    {
     "data": {
      "text/plain": [
       "Sentiment(polarity=0.07500000000000007, subjectivity=0.8333333333333333)"
      ]
     },
     "execution_count": 19,
     "metadata": {},
     "output_type": "execute_result"
    }
   ],
   "source": [
    "# get the sentiment property\n",
    "blob.sentiment\n",
    "\n",
    "# polarity indicates the sentiment and varies from -1 to 1 being 0 neutral\n",
    "# the subjectivity of the text varies from 0 to 1 being 1 the most subjective"
   ]
  },
  {
   "cell_type": "code",
   "execution_count": 20,
   "id": "beautiful-hawaiian",
   "metadata": {},
   "outputs": [
    {
     "data": {
      "text/plain": [
       "0.075"
      ]
     },
     "execution_count": 20,
     "metadata": {},
     "output_type": "execute_result"
    }
   ],
   "source": [
    "# getting the polarity and subjectivity from the Sentiment object\n",
    "%precision 3\n",
    "blob.sentiment.polarity"
   ]
  },
  {
   "cell_type": "code",
   "execution_count": 21,
   "id": "coated-papua",
   "metadata": {},
   "outputs": [
    {
     "data": {
      "text/plain": [
       "0.833"
      ]
     },
     "execution_count": 21,
     "metadata": {},
     "output_type": "execute_result"
    }
   ],
   "source": [
    "blob.sentiment.subjectivity"
   ]
  },
  {
   "cell_type": "code",
   "execution_count": 22,
   "id": "domestic-palestinian",
   "metadata": {},
   "outputs": [
    {
     "name": "stdout",
     "output_type": "stream",
     "text": [
      "Sentiment(polarity=0.85, subjectivity=1.0)\n",
      "Sentiment(polarity=-0.6999999999999998, subjectivity=0.6666666666666666)\n"
     ]
    }
   ],
   "source": [
    "# getting the sentiment of a Sentence\n",
    "for sentence in blob.sentences:\n",
    "    print(sentence.sentiment)\n",
    "# it might explain why the whole text is neutral. First sentence is 0.85 and the second -0.70"
   ]
  },
  {
   "cell_type": "markdown",
   "id": "breathing-taste",
   "metadata": {},
   "source": [
    "#### Self Check"
   ]
  },
  {
   "cell_type": "code",
   "execution_count": 23,
   "id": "paperback-turkish",
   "metadata": {},
   "outputs": [],
   "source": [
    "# create 3 sentences and analyse their sentiment\n",
    "from textblob import Sentence"
   ]
  },
  {
   "cell_type": "code",
   "execution_count": 24,
   "id": "hindu-sleeve",
   "metadata": {},
   "outputs": [
    {
     "data": {
      "text/plain": [
       "Sentiment(polarity=-0.35, subjectivity=0.6000000000000001)"
      ]
     },
     "execution_count": 24,
     "metadata": {},
     "output_type": "execute_result"
    }
   ],
   "source": [
    "Sentence('The movie is not good.').sentiment"
   ]
  },
  {
   "cell_type": "code",
   "execution_count": 25,
   "id": "chubby-penalty",
   "metadata": {},
   "outputs": [
    {
     "data": {
      "text/plain": [
       "Sentiment(polarity=0.3499999999999999, subjectivity=0.6666666666666666)"
      ]
     },
     "execution_count": 25,
     "metadata": {},
     "output_type": "execute_result"
    }
   ],
   "source": [
    "Sentence(\"The movie was not bad.\").sentiment"
   ]
  },
  {
   "cell_type": "code",
   "execution_count": 26,
   "id": "alpine-quebec",
   "metadata": {},
   "outputs": [
    {
     "data": {
      "text/plain": [
       "Sentiment(polarity=1.0, subjectivity=1.0)"
      ]
     },
     "execution_count": 26,
     "metadata": {},
     "output_type": "execute_result"
    }
   ],
   "source": [
    "Sentence('The movie was excellent!').sentiment"
   ]
  },
  {
   "cell_type": "markdown",
   "id": "connected-grass",
   "metadata": {
    "heading_collapsed": "true"
   },
   "source": [
    "### Sentiment Analysis with the NaiveBayesAnalyzer"
   ]
  },
  {
   "cell_type": "code",
   "execution_count": 27,
   "id": "forbidden-reliance",
   "metadata": {},
   "outputs": [],
   "source": [
    "from textblob.sentiments import NaiveBayesAnalyzer"
   ]
  },
  {
   "cell_type": "code",
   "execution_count": 28,
   "id": "european-station",
   "metadata": {},
   "outputs": [],
   "source": [
    "blob = TextBlob(text, analyzer=NaiveBayesAnalyzer())"
   ]
  },
  {
   "cell_type": "code",
   "execution_count": 29,
   "id": "young-baking",
   "metadata": {},
   "outputs": [
    {
     "data": {
      "text/plain": [
       "TextBlob(\"Today is a beautiful day. Tomorrow looks like bad weather.\")"
      ]
     },
     "execution_count": 29,
     "metadata": {},
     "output_type": "execute_result"
    }
   ],
   "source": [
    "blob"
   ]
  },
  {
   "cell_type": "code",
   "execution_count": 30,
   "id": "political-fiction",
   "metadata": {},
   "outputs": [
    {
     "data": {
      "text/plain": [
       "Sentiment(classification='neg', p_pos=0.47662917962091056, p_neg=0.5233708203790892)"
      ]
     },
     "execution_count": 30,
     "metadata": {},
     "output_type": "execute_result"
    }
   ],
   "source": [
    "# analyse overal sentiment sentiment\n",
    "blob.sentiment"
   ]
  },
  {
   "cell_type": "code",
   "execution_count": 31,
   "id": "pleasant-wilderness",
   "metadata": {},
   "outputs": [
    {
     "name": "stdout",
     "output_type": "stream",
     "text": [
      "Sentence 1: Sentiment(classification='pos', p_pos=0.8117563121751951, p_neg=0.18824368782480477)\n",
      "Sentence 2: Sentiment(classification='neg', p_pos=0.174363226578349, p_neg=0.8256367734216521)\n"
     ]
    }
   ],
   "source": [
    "# analyse each sentence sentiment\n",
    "for idx, sentence in enumerate(blob.sentences):\n",
    "    print(f'Sentence {idx+1}: {sentence.sentiment}')"
   ]
  },
  {
   "cell_type": "markdown",
   "id": "assisted-wrestling",
   "metadata": {},
   "source": [
    "#### Self Check"
   ]
  },
  {
   "cell_type": "code",
   "execution_count": 32,
   "id": "sound-potato",
   "metadata": {},
   "outputs": [],
   "source": [
    "# create a phrase and analyse its sentiment using the NaiveBayesAnalyser\n",
    "phrase = 'The movie was excellent!'"
   ]
  },
  {
   "cell_type": "code",
   "execution_count": 33,
   "id": "nonprofit-spain",
   "metadata": {},
   "outputs": [],
   "source": [
    "ex_blob = TextBlob(phrase, analyzer=NaiveBayesAnalyzer())"
   ]
  },
  {
   "cell_type": "code",
   "execution_count": 34,
   "id": "mounted-affiliation",
   "metadata": {},
   "outputs": [
    {
     "data": {
      "text/plain": [
       "Sentiment(classification='pos', p_pos=0.7318278242290406, p_neg=0.26817217577095936)"
      ]
     },
     "execution_count": 34,
     "metadata": {},
     "output_type": "execute_result"
    }
   ],
   "source": [
    "ex_blob.sentiment"
   ]
  },
  {
   "cell_type": "markdown",
   "id": "weighted-lawrence",
   "metadata": {
    "heading_collapsed": "true"
   },
   "source": [
    "### Language Detection and Translation"
   ]
  },
  {
   "cell_type": "code",
   "execution_count": 35,
   "id": "mighty-latest",
   "metadata": {},
   "outputs": [
    {
     "data": {
      "text/plain": [
       "TextBlob(\"Today is a beautiful day. Tomorrow looks like bad weather.\")"
      ]
     },
     "execution_count": 35,
     "metadata": {},
     "output_type": "execute_result"
    }
   ],
   "source": [
    "blob"
   ]
  },
  {
   "cell_type": "code",
   "execution_count": 36,
   "id": "conceptual-plasma",
   "metadata": {},
   "outputs": [
    {
     "data": {
      "text/plain": [
       "'en'"
      ]
     },
     "execution_count": 36,
     "metadata": {},
     "output_type": "execute_result"
    }
   ],
   "source": [
    "# detect language\n",
    "blob.detect_language()"
   ]
  },
  {
   "cell_type": "code",
   "execution_count": 37,
   "id": "synthetic-database",
   "metadata": {},
   "outputs": [
    {
     "data": {
      "text/plain": [
       "TextBlob(\"Hoy es un hermoso dia. Mañana parece mal tiempo.\")"
      ]
     },
     "execution_count": 37,
     "metadata": {},
     "output_type": "execute_result"
    }
   ],
   "source": [
    "# get translation to Spanish\n",
    "spanish = blob.translate(to='es')\n",
    "spanish"
   ]
  },
  {
   "cell_type": "code",
   "execution_count": 38,
   "id": "pursuant-envelope",
   "metadata": {},
   "outputs": [
    {
     "data": {
      "text/plain": [
       "'es'"
      ]
     },
     "execution_count": 38,
     "metadata": {},
     "output_type": "execute_result"
    }
   ],
   "source": [
    "spanish.detect_language()"
   ]
  },
  {
   "cell_type": "code",
   "execution_count": 39,
   "id": "operational-remedy",
   "metadata": {},
   "outputs": [
    {
     "data": {
      "text/plain": [
       "TextBlob(\"今天是美好的一天。明天看起来天气不好。\")"
      ]
     },
     "execution_count": 39,
     "metadata": {},
     "output_type": "execute_result"
    }
   ],
   "source": [
    "# translate to simplified chinese\n",
    "chinese = blob.translate(to='zh')\n",
    "chinese"
   ]
  },
  {
   "cell_type": "code",
   "execution_count": 40,
   "id": "private-variety",
   "metadata": {},
   "outputs": [
    {
     "data": {
      "text/plain": [
       "'zh-CN'"
      ]
     },
     "execution_count": 40,
     "metadata": {},
     "output_type": "execute_result"
    }
   ],
   "source": [
    "chinese.detect_language()"
   ]
  },
  {
   "cell_type": "code",
   "execution_count": 41,
   "id": "parallel-anderson",
   "metadata": {},
   "outputs": [
    {
     "data": {
      "text/plain": [
       "TextBlob(\"Today is a beautiful day. Tomorrow looks like bad weather.\")"
      ]
     },
     "execution_count": 41,
     "metadata": {},
     "output_type": "execute_result"
    }
   ],
   "source": [
    "# calling translate withou arguments translate the detected language to english\n",
    "spanish.translate()"
   ]
  },
  {
   "cell_type": "code",
   "execution_count": 42,
   "id": "concerned-cartridge",
   "metadata": {},
   "outputs": [
    {
     "data": {
      "text/plain": [
       "TextBlob(\"Today is a beautiful day. The weather looks bad tomorrow.\")"
      ]
     },
     "execution_count": 42,
     "metadata": {},
     "output_type": "execute_result"
    }
   ],
   "source": [
    "chinese.translate()"
   ]
  },
  {
   "cell_type": "markdown",
   "id": "associate-terminal",
   "metadata": {},
   "source": [
    "#### Self Check"
   ]
  },
  {
   "cell_type": "code",
   "execution_count": 43,
   "id": "focal-demonstration",
   "metadata": {},
   "outputs": [
    {
     "data": {
      "text/plain": [
       "TextBlob(\"Aujourd'hui est un beau jour\")"
      ]
     },
     "execution_count": 43,
     "metadata": {},
     "output_type": "execute_result"
    }
   ],
   "source": [
    "# translate a phrase into French then detect the language\n",
    "ex_blob = TextBlob('Today is a beautiful day').translate(to='fr')\n",
    "ex_blob"
   ]
  },
  {
   "cell_type": "code",
   "execution_count": 44,
   "id": "surrounded-annual",
   "metadata": {},
   "outputs": [
    {
     "data": {
      "text/plain": [
       "'fr'"
      ]
     },
     "execution_count": 44,
     "metadata": {},
     "output_type": "execute_result"
    }
   ],
   "source": [
    "ex_blob.detect_language()"
   ]
  },
  {
   "cell_type": "markdown",
   "id": "vulnerable-reading",
   "metadata": {
    "heading_collapsed": "true"
   },
   "source": [
    "### Inflection: Pluralization and Singularization"
   ]
  },
  {
   "cell_type": "code",
   "execution_count": 45,
   "id": "unlikely-cooperation",
   "metadata": {},
   "outputs": [],
   "source": [
    "from textblob import Word"
   ]
  },
  {
   "cell_type": "code",
   "execution_count": 46,
   "id": "reasonable-grass",
   "metadata": {},
   "outputs": [],
   "source": [
    "index = Word('index')"
   ]
  },
  {
   "cell_type": "code",
   "execution_count": 47,
   "id": "executive-green",
   "metadata": {},
   "outputs": [
    {
     "data": {
      "text/plain": [
       "'indices'"
      ]
     },
     "execution_count": 47,
     "metadata": {},
     "output_type": "execute_result"
    }
   ],
   "source": [
    "index.pluralize()"
   ]
  },
  {
   "cell_type": "code",
   "execution_count": 48,
   "id": "electoral-crash",
   "metadata": {},
   "outputs": [],
   "source": [
    "cacti = Word('cacti')"
   ]
  },
  {
   "cell_type": "code",
   "execution_count": 49,
   "id": "turkish-soldier",
   "metadata": {},
   "outputs": [
    {
     "data": {
      "text/plain": [
       "'cactus'"
      ]
     },
     "execution_count": 49,
     "metadata": {},
     "output_type": "execute_result"
    }
   ],
   "source": [
    "cacti.singularize()"
   ]
  },
  {
   "cell_type": "code",
   "execution_count": 50,
   "id": "conditional-school",
   "metadata": {},
   "outputs": [],
   "source": [
    "animals = TextBlob('dog cat fish bird').words"
   ]
  },
  {
   "cell_type": "code",
   "execution_count": 51,
   "id": "downtown-repair",
   "metadata": {},
   "outputs": [
    {
     "data": {
      "text/plain": [
       "WordList(['dogs', 'cats', 'fish', 'birds'])"
      ]
     },
     "execution_count": 51,
     "metadata": {},
     "output_type": "execute_result"
    }
   ],
   "source": [
    "animals.pluralize()"
   ]
  },
  {
   "cell_type": "markdown",
   "id": "express-catalyst",
   "metadata": {},
   "source": [
    "#### Self Check"
   ]
  },
  {
   "cell_type": "code",
   "execution_count": 52,
   "id": "welcome-toronto",
   "metadata": {},
   "outputs": [],
   "source": [
    "# pluralize focus and singularize children\n",
    "children = Word('children')\n",
    "focus = Word('focus')"
   ]
  },
  {
   "cell_type": "code",
   "execution_count": 53,
   "id": "brief-validation",
   "metadata": {},
   "outputs": [
    {
     "data": {
      "text/plain": [
       "'child'"
      ]
     },
     "execution_count": 53,
     "metadata": {},
     "output_type": "execute_result"
    }
   ],
   "source": [
    "children.singularize()"
   ]
  },
  {
   "cell_type": "code",
   "execution_count": 54,
   "id": "straight-grounds",
   "metadata": {},
   "outputs": [
    {
     "data": {
      "text/plain": [
       "'foci'"
      ]
     },
     "execution_count": 54,
     "metadata": {},
     "output_type": "execute_result"
    }
   ],
   "source": [
    "focus.pluralize()"
   ]
  },
  {
   "cell_type": "markdown",
   "id": "complex-convertible",
   "metadata": {
    "heading_collapsed": "true"
   },
   "source": [
    "### Spell Checking and Correction"
   ]
  },
  {
   "cell_type": "code",
   "execution_count": 55,
   "id": "combined-harassment",
   "metadata": {},
   "outputs": [
    {
     "data": {
      "text/plain": [
       "'%.2f'"
      ]
     },
     "execution_count": 55,
     "metadata": {},
     "output_type": "execute_result"
    }
   ],
   "source": [
    "word = Word('theyr')\n",
    "%precision 2"
   ]
  },
  {
   "cell_type": "code",
   "execution_count": 56,
   "id": "bottom-costume",
   "metadata": {},
   "outputs": [
    {
     "data": {
      "text/plain": [
       "[('they', 0.57), ('their', 0.43)]"
      ]
     },
     "execution_count": 56,
     "metadata": {},
     "output_type": "execute_result"
    }
   ],
   "source": [
    "word.spellcheck() # returns a list of tuples  possible correct spellings and a confidence value"
   ]
  },
  {
   "cell_type": "code",
   "execution_count": 57,
   "id": "macro-wrist",
   "metadata": {},
   "outputs": [
    {
     "data": {
      "text/plain": [
       "'they'"
      ]
     },
     "execution_count": 57,
     "metadata": {},
     "output_type": "execute_result"
    }
   ],
   "source": [
    "# correct the word \n",
    "word.correct() # chooses the word with the highest confidence value"
   ]
  },
  {
   "cell_type": "code",
   "execution_count": 58,
   "id": "nuclear-riverside",
   "metadata": {},
   "outputs": [
    {
     "data": {
      "text/plain": [
       "TextBlob(\"Ths sentense has missplled wrds.\")"
      ]
     },
     "execution_count": 58,
     "metadata": {},
     "output_type": "execute_result"
    }
   ],
   "source": [
    "# correct a sentence\n",
    "sentence = TextBlob('Ths sentense has missplled wrds.')\n",
    "sentence"
   ]
  },
  {
   "cell_type": "code",
   "execution_count": 59,
   "id": "stone-niger",
   "metadata": {},
   "outputs": [
    {
     "data": {
      "text/plain": [
       "TextBlob(\"The sentence has misspelled words.\")"
      ]
     },
     "execution_count": 59,
     "metadata": {},
     "output_type": "execute_result"
    }
   ],
   "source": [
    "sentence.correct()"
   ]
  },
  {
   "cell_type": "markdown",
   "id": "dramatic-italian",
   "metadata": {},
   "source": [
    "#### Self Check"
   ]
  },
  {
   "cell_type": "code",
   "execution_count": 60,
   "id": "behind-corpus",
   "metadata": {},
   "outputs": [
    {
     "data": {
      "text/plain": [
       "TextBlob(\"I canot beleive I misspeled thees werds\")"
      ]
     },
     "execution_count": 60,
     "metadata": {},
     "output_type": "execute_result"
    }
   ],
   "source": [
    "# correct the spelling\n",
    "sentence = TextBlob('I canot beleive I misspeled thees werds')\n",
    "sentence"
   ]
  },
  {
   "cell_type": "code",
   "execution_count": 61,
   "id": "promising-speed",
   "metadata": {},
   "outputs": [
    {
     "data": {
      "text/plain": [
       "TextBlob(\"I cannot believe I misspelled these words\")"
      ]
     },
     "execution_count": 61,
     "metadata": {},
     "output_type": "execute_result"
    }
   ],
   "source": [
    "sentence.correct()"
   ]
  },
  {
   "cell_type": "markdown",
   "id": "empirical-cache",
   "metadata": {
    "heading_collapsed": "true"
   },
   "source": [
    "### Normalisation: Stemming and Lemmatisation"
   ]
  },
  {
   "cell_type": "code",
   "execution_count": 62,
   "id": "experimental-alert",
   "metadata": {},
   "outputs": [],
   "source": [
    "word2 = Word('varieties')"
   ]
  },
  {
   "cell_type": "code",
   "execution_count": 63,
   "id": "adjusted-earth",
   "metadata": {},
   "outputs": [
    {
     "data": {
      "text/plain": [
       "'varieti'"
      ]
     },
     "execution_count": 63,
     "metadata": {},
     "output_type": "execute_result"
    }
   ],
   "source": [
    "word2.stem()"
   ]
  },
  {
   "cell_type": "code",
   "execution_count": 64,
   "id": "regulated-jewelry",
   "metadata": {},
   "outputs": [
    {
     "data": {
      "text/plain": [
       "'variety'"
      ]
     },
     "execution_count": 64,
     "metadata": {},
     "output_type": "execute_result"
    }
   ],
   "source": [
    "word2.lemmatize()"
   ]
  },
  {
   "cell_type": "markdown",
   "id": "under-ordinance",
   "metadata": {},
   "source": [
    "#### Self Check"
   ]
  },
  {
   "cell_type": "code",
   "execution_count": 65,
   "id": "roman-writer",
   "metadata": {},
   "outputs": [],
   "source": [
    "word3 = Word('strawberries')"
   ]
  },
  {
   "cell_type": "code",
   "execution_count": 66,
   "id": "naval-teens",
   "metadata": {},
   "outputs": [
    {
     "data": {
      "text/plain": [
       "'strawberri'"
      ]
     },
     "execution_count": 66,
     "metadata": {},
     "output_type": "execute_result"
    }
   ],
   "source": [
    "word3.stem()"
   ]
  },
  {
   "cell_type": "code",
   "execution_count": 67,
   "id": "direct-ideal",
   "metadata": {},
   "outputs": [
    {
     "data": {
      "text/plain": [
       "'strawberry'"
      ]
     },
     "execution_count": 67,
     "metadata": {},
     "output_type": "execute_result"
    }
   ],
   "source": [
    "word3.lemmatize()"
   ]
  },
  {
   "cell_type": "markdown",
   "id": "cleared-virus",
   "metadata": {
    "heading_collapsed": "true"
   },
   "source": [
    "### Word Frequencies"
   ]
  },
  {
   "cell_type": "code",
   "execution_count": 83,
   "id": "controversial-leonard",
   "metadata": {},
   "outputs": [],
   "source": [
    "from pathlib import Path # opens and closes the file after loading"
   ]
  },
  {
   "cell_type": "code",
   "execution_count": 84,
   "id": "varied-guidance",
   "metadata": {},
   "outputs": [],
   "source": [
    "rj_blob = TextBlob(Path('RomeoAndJuliet.txt').read_text())"
   ]
  },
  {
   "cell_type": "code",
   "execution_count": 85,
   "id": "effective-interest",
   "metadata": {},
   "outputs": [
    {
     "data": {
      "text/plain": [
       "collections.defaultdict"
      ]
     },
     "execution_count": 85,
     "metadata": {},
     "output_type": "execute_result"
    }
   ],
   "source": [
    "type(rj_blob.word_counts) # defaultdictionary"
   ]
  },
  {
   "cell_type": "code",
   "execution_count": 86,
   "id": "ordered-saver",
   "metadata": {},
   "outputs": [
    {
     "data": {
      "text/plain": [
       "315"
      ]
     },
     "execution_count": 86,
     "metadata": {},
     "output_type": "execute_result"
    }
   ],
   "source": [
    "rj_blob.word_counts['romeo']"
   ]
  },
  {
   "cell_type": "code",
   "execution_count": 87,
   "id": "possible-parcel",
   "metadata": {},
   "outputs": [
    {
     "data": {
      "text/plain": [
       "190"
      ]
     },
     "execution_count": 87,
     "metadata": {},
     "output_type": "execute_result"
    }
   ],
   "source": [
    "# count words via count method\n",
    "rj_blob.words.count('juliet')"
   ]
  },
  {
   "cell_type": "code",
   "execution_count": 88,
   "id": "fiscal-traffic",
   "metadata": {},
   "outputs": [
    {
     "data": {
      "text/plain": [
       "46"
      ]
     },
     "execution_count": 88,
     "metadata": {},
     "output_type": "execute_result"
    }
   ],
   "source": [
    "# count noun phrases\n",
    "rj_blob.noun_phrases.count('lady capulet')"
   ]
  },
  {
   "cell_type": "markdown",
   "id": "heated-afternoon",
   "metadata": {},
   "source": [
    "#### Self Check"
   ]
  },
  {
   "cell_type": "code",
   "execution_count": 89,
   "id": "stupid-battlefield",
   "metadata": {},
   "outputs": [
    {
     "data": {
      "text/plain": [
       "483"
      ]
     },
     "execution_count": 89,
     "metadata": {},
     "output_type": "execute_result"
    }
   ],
   "source": [
    "# count the number of stopwords 'a', 'the' and 'an'\n",
    "rj_blob.words.count('a')"
   ]
  },
  {
   "cell_type": "code",
   "execution_count": 90,
   "id": "negative-brain",
   "metadata": {},
   "outputs": [
    {
     "data": {
      "text/plain": [
       "688"
      ]
     },
     "execution_count": 90,
     "metadata": {},
     "output_type": "execute_result"
    }
   ],
   "source": [
    "rj_blob.words.count('the')"
   ]
  },
  {
   "cell_type": "code",
   "execution_count": 91,
   "id": "existing-officer",
   "metadata": {},
   "outputs": [
    {
     "data": {
      "text/plain": [
       "71"
      ]
     },
     "execution_count": 91,
     "metadata": {},
     "output_type": "execute_result"
    }
   ],
   "source": [
    "rj_blob.words.count('an')"
   ]
  },
  {
   "cell_type": "markdown",
   "id": "sound-joint",
   "metadata": {
    "heading_collapsed": "true"
   },
   "source": [
    "### Getting Definitions, Synonyms and Anotnyms form WordNet"
   ]
  },
  {
   "cell_type": "code",
   "execution_count": 92,
   "id": "resident-rhythm",
   "metadata": {},
   "outputs": [],
   "source": [
    "happy = Word('happy')"
   ]
  },
  {
   "cell_type": "code",
   "execution_count": 93,
   "id": "tired-presentation",
   "metadata": {},
   "outputs": [
    {
     "data": {
      "text/plain": [
       "['enjoying or showing or marked by joy or pleasure',\n",
       " 'marked by good fortune',\n",
       " 'eagerly disposed to act or to be of service',\n",
       " 'well expressed and to the point']"
      ]
     },
     "execution_count": 93,
     "metadata": {},
     "output_type": "execute_result"
    }
   ],
   "source": [
    "#get definitions\n",
    "happy.definitions"
   ]
  },
  {
   "cell_type": "code",
   "execution_count": 95,
   "id": "challenging-tobacco",
   "metadata": {},
   "outputs": [
    {
     "data": {
      "text/plain": [
       "[Synset('happy.a.01'),\n",
       " Synset('felicitous.s.02'),\n",
       " Synset('glad.s.02'),\n",
       " Synset('happy.s.04')]"
      ]
     },
     "execution_count": 95,
     "metadata": {},
     "output_type": "execute_result"
    }
   ],
   "source": [
    "# get synonyms\n",
    "happy.synsets"
   ]
  },
  {
   "cell_type": "code",
   "execution_count": 96,
   "id": "spread-transfer",
   "metadata": {},
   "outputs": [],
   "source": [
    "synonyms = set()"
   ]
  },
  {
   "cell_type": "code",
   "execution_count": 99,
   "id": "sunset-framing",
   "metadata": {},
   "outputs": [
    {
     "name": "stdout",
     "output_type": "stream",
     "text": [
      "Lemma('happy.a.01.happy')\n",
      "Lemma('felicitous.s.02.felicitous')\n",
      "Lemma('felicitous.s.02.happy')\n",
      "Lemma('glad.s.02.glad')\n",
      "Lemma('glad.s.02.happy')\n",
      "Lemma('happy.s.04.happy')\n",
      "Lemma('happy.s.04.well-chosen')\n"
     ]
    }
   ],
   "source": [
    "for synset in happy.synsets:\n",
    "    for lemma in synset.lemmas():\n",
    "        print(lemma)\n",
    "        synonyms.add(lemma.name())"
   ]
  },
  {
   "cell_type": "code",
   "execution_count": 98,
   "id": "prospective-sharp",
   "metadata": {},
   "outputs": [
    {
     "data": {
      "text/plain": [
       "{'felicitous', 'glad', 'happy', 'well-chosen'}"
      ]
     },
     "execution_count": 98,
     "metadata": {},
     "output_type": "execute_result"
    }
   ],
   "source": [
    "synonyms"
   ]
  },
  {
   "cell_type": "code",
   "execution_count": 100,
   "id": "norwegian-colon",
   "metadata": {},
   "outputs": [
    {
     "data": {
      "text/plain": [
       "[Lemma('happy.a.01.happy')]"
      ]
     },
     "execution_count": 100,
     "metadata": {},
     "output_type": "execute_result"
    }
   ],
   "source": [
    "# getting antonyms\n",
    "lemmas = happy.synsets[0].lemmas()\n",
    "lemmas"
   ]
  },
  {
   "cell_type": "code",
   "execution_count": 102,
   "id": "accompanied-petite",
   "metadata": {},
   "outputs": [
    {
     "data": {
      "text/plain": [
       "[Lemma('unhappy.a.01.unhappy')]"
      ]
     },
     "execution_count": 102,
     "metadata": {},
     "output_type": "execute_result"
    }
   ],
   "source": [
    "lemmas[0].antonyms()"
   ]
  },
  {
   "cell_type": "markdown",
   "id": "personalized-empty",
   "metadata": {},
   "source": [
    "#### Self Check"
   ]
  },
  {
   "cell_type": "code",
   "execution_count": 103,
   "id": "comparable-times",
   "metadata": {},
   "outputs": [],
   "source": [
    "# Display the synsets and definitions for the word 'boat'\n",
    "boat = Word('boat')"
   ]
  },
  {
   "cell_type": "code",
   "execution_count": 104,
   "id": "loaded-suicide",
   "metadata": {},
   "outputs": [
    {
     "data": {
      "text/plain": [
       "[Synset('boat.n.01'), Synset('gravy_boat.n.01'), Synset('boat.v.01')]"
      ]
     },
     "execution_count": 104,
     "metadata": {},
     "output_type": "execute_result"
    }
   ],
   "source": [
    "boat.synsets"
   ]
  },
  {
   "cell_type": "code",
   "execution_count": 105,
   "id": "studied-newark",
   "metadata": {},
   "outputs": [
    {
     "data": {
      "text/plain": [
       "['a small vessel for travel on water',\n",
       " 'a dish (often boat-shaped) for serving gravy or sauce',\n",
       " 'ride in a boat on water']"
      ]
     },
     "execution_count": 105,
     "metadata": {},
     "output_type": "execute_result"
    }
   ],
   "source": [
    "boat.definitions"
   ]
  },
  {
   "cell_type": "markdown",
   "id": "constitutional-discrimination",
   "metadata": {
    "heading_collapsed": "true"
   },
   "source": [
    "### Deleting StopWords"
   ]
  },
  {
   "cell_type": "code",
   "execution_count": 106,
   "id": "bacterial-aggregate",
   "metadata": {},
   "outputs": [],
   "source": [
    "import nltk"
   ]
  },
  {
   "cell_type": "code",
   "execution_count": 107,
   "id": "endangered-iceland",
   "metadata": {},
   "outputs": [
    {
     "name": "stderr",
     "output_type": "stream",
     "text": [
      "[nltk_data] Downloading package stopwords to\n",
      "[nltk_data]     /Users/krustybr/nltk_data...\n",
      "[nltk_data]   Package stopwords is already up-to-date!\n"
     ]
    },
    {
     "data": {
      "text/plain": [
       "True"
      ]
     },
     "execution_count": 107,
     "metadata": {},
     "output_type": "execute_result"
    }
   ],
   "source": [
    "nltk.download('stopwords')"
   ]
  },
  {
   "cell_type": "code",
   "execution_count": 108,
   "id": "classified-climate",
   "metadata": {},
   "outputs": [],
   "source": [
    "from nltk.corpus import stopwords"
   ]
  },
  {
   "cell_type": "code",
   "execution_count": 110,
   "id": "subjective-abortion",
   "metadata": {},
   "outputs": [],
   "source": [
    "stops = stopwords.words('english')"
   ]
  },
  {
   "cell_type": "code",
   "execution_count": 111,
   "id": "vital-egypt",
   "metadata": {},
   "outputs": [],
   "source": [
    "blob = TextBlob('Today is a beautiful day.')"
   ]
  },
  {
   "cell_type": "code",
   "execution_count": 112,
   "id": "compact-clause",
   "metadata": {},
   "outputs": [
    {
     "data": {
      "text/plain": [
       "['Today', 'beautiful', 'day']"
      ]
     },
     "execution_count": 112,
     "metadata": {},
     "output_type": "execute_result"
    }
   ],
   "source": [
    "# remove stopwrods using list comprehension\n",
    "[word for word in blob.words if word not in stops]"
   ]
  },
  {
   "cell_type": "markdown",
   "id": "enclosed-fluid",
   "metadata": {},
   "source": [
    "#### Self Check"
   ]
  },
  {
   "cell_type": "code",
   "execution_count": 113,
   "id": "brown-cholesterol",
   "metadata": {},
   "outputs": [],
   "source": [
    "ex_blob = TextBlob('TextBlob is easy to use.')"
   ]
  },
  {
   "cell_type": "code",
   "execution_count": 114,
   "id": "armed-journalism",
   "metadata": {},
   "outputs": [
    {
     "data": {
      "text/plain": [
       "['TextBlob', 'easy', 'use']"
      ]
     },
     "execution_count": 114,
     "metadata": {},
     "output_type": "execute_result"
    }
   ],
   "source": [
    "[word for word in ex_blob.words if word not in stops]"
   ]
  },
  {
   "cell_type": "markdown",
   "id": "modern-bedroom",
   "metadata": {
    "heading_collapsed": "true"
   },
   "source": [
    "### n-grams"
   ]
  },
  {
   "cell_type": "code",
   "execution_count": 117,
   "id": "formed-membership",
   "metadata": {},
   "outputs": [],
   "source": [
    "text = 'Today is a beautiful day. Tomorrow looks like bad weather'"
   ]
  },
  {
   "cell_type": "code",
   "execution_count": 118,
   "id": "thorough-parks",
   "metadata": {},
   "outputs": [],
   "source": [
    "blob = TextBlob(text)"
   ]
  },
  {
   "cell_type": "code",
   "execution_count": 119,
   "id": "antique-ratio",
   "metadata": {},
   "outputs": [
    {
     "data": {
      "text/plain": [
       "[WordList(['Today', 'is', 'a']),\n",
       " WordList(['is', 'a', 'beautiful']),\n",
       " WordList(['a', 'beautiful', 'day']),\n",
       " WordList(['beautiful', 'day', 'Tomorrow']),\n",
       " WordList(['day', 'Tomorrow', 'looks']),\n",
       " WordList(['Tomorrow', 'looks', 'like']),\n",
       " WordList(['looks', 'like', 'bad']),\n",
       " WordList(['like', 'bad', 'weather'])]"
      ]
     },
     "execution_count": 119,
     "metadata": {},
     "output_type": "execute_result"
    }
   ],
   "source": [
    "# create n-grams - trigrams\n",
    "blob.ngrams()"
   ]
  },
  {
   "cell_type": "code",
   "execution_count": 120,
   "id": "random-penalty",
   "metadata": {},
   "outputs": [
    {
     "data": {
      "text/plain": [
       "[WordList(['Today', 'is', 'a', 'beautiful', 'day']),\n",
       " WordList(['is', 'a', 'beautiful', 'day', 'Tomorrow']),\n",
       " WordList(['a', 'beautiful', 'day', 'Tomorrow', 'looks']),\n",
       " WordList(['beautiful', 'day', 'Tomorrow', 'looks', 'like']),\n",
       " WordList(['day', 'Tomorrow', 'looks', 'like', 'bad']),\n",
       " WordList(['Tomorrow', 'looks', 'like', 'bad', 'weather'])]"
      ]
     },
     "execution_count": 120,
     "metadata": {},
     "output_type": "execute_result"
    }
   ],
   "source": [
    "# create n-grams of five words:\n",
    "blob.ngrams(n=5)"
   ]
  },
  {
   "cell_type": "markdown",
   "id": "drawn-invite",
   "metadata": {},
   "source": [
    "#### Self Check"
   ]
  },
  {
   "cell_type": "code",
   "execution_count": 121,
   "id": "veterinary-interstate",
   "metadata": {},
   "outputs": [],
   "source": [
    "blob = TextBlob('TextBlob is easy to use.')"
   ]
  },
  {
   "cell_type": "code",
   "execution_count": 123,
   "id": "deluxe-waters",
   "metadata": {},
   "outputs": [
    {
     "data": {
      "text/plain": [
       "[WordList(['TextBlob', 'is', 'easy']),\n",
       " WordList(['is', 'easy', 'to']),\n",
       " WordList(['easy', 'to', 'use'])]"
      ]
     },
     "execution_count": 123,
     "metadata": {},
     "output_type": "execute_result"
    }
   ],
   "source": [
    "blob.ngrams()"
   ]
  },
  {
   "cell_type": "markdown",
   "id": "informative-pendant",
   "metadata": {},
   "source": [
    "## Visualisation"
   ]
  },
  {
   "cell_type": "markdown",
   "id": "quarterly-paper",
   "metadata": {
    "heading_collapsed": "true"
   },
   "source": [
    "### Visualising with Pandas"
   ]
  },
  {
   "cell_type": "code",
   "execution_count": 127,
   "id": "meaningful-suffering",
   "metadata": {},
   "outputs": [],
   "source": [
    "import matplotlib.pyplot as plt\n",
    "import pandas as pd"
   ]
  },
  {
   "cell_type": "code",
   "execution_count": 128,
   "id": "heavy-merchandise",
   "metadata": {},
   "outputs": [],
   "source": [
    "# Loading the data\n",
    "blob = TextBlob(Path('RomeoAndJuliet.txt').read_text())"
   ]
  },
  {
   "cell_type": "code",
   "execution_count": 129,
   "id": "operating-jamaica",
   "metadata": {},
   "outputs": [],
   "source": [
    "stop_words = stopwords.words('english')"
   ]
  },
  {
   "cell_type": "code",
   "execution_count": 130,
   "id": "elegant-setup",
   "metadata": {},
   "outputs": [],
   "source": [
    "# Getting the Word Frequencies\n",
    "items = blob.word_counts.items()"
   ]
  },
  {
   "cell_type": "code",
   "execution_count": 132,
   "id": "cardiac-cradle",
   "metadata": {},
   "outputs": [],
   "source": [
    "# Eliminate Stop Words\n",
    "items = [item for item in items if item[0] not in stop_words]"
   ]
  },
  {
   "cell_type": "code",
   "execution_count": 134,
   "id": "large-spank",
   "metadata": {},
   "outputs": [],
   "source": [
    "# Sorting the Words by Frequency\n",
    "from operator import itemgetter"
   ]
  },
  {
   "cell_type": "code",
   "execution_count": 135,
   "id": "informal-moisture",
   "metadata": {},
   "outputs": [],
   "source": [
    "sorted_items = sorted(items, key=itemgetter(1), reverse=True)"
   ]
  },
  {
   "cell_type": "code",
   "execution_count": 137,
   "id": "neutral-banana",
   "metadata": {},
   "outputs": [],
   "source": [
    "top20 = sorted_items[1:21]"
   ]
  },
  {
   "cell_type": "code",
   "execution_count": 139,
   "id": "recreational-locking",
   "metadata": {},
   "outputs": [
    {
     "data": {
      "text/plain": [
       "[('romeo', 315),\n",
       " ('thou', 278),\n",
       " ('juliet', 190),\n",
       " ('thy', 170),\n",
       " ('capulet', 163),\n",
       " ('nurse', 149),\n",
       " ('love', 148),\n",
       " ('thee', 138),\n",
       " ('lady', 117),\n",
       " ('shall', 110),\n",
       " ('friar', 105),\n",
       " ('come', 94),\n",
       " ('mercutio', 88),\n",
       " ('lawrence', 82),\n",
       " ('good', 80),\n",
       " ('benvolio', 79),\n",
       " ('tybalt', 79),\n",
       " ('enter', 75),\n",
       " ('go', 75),\n",
       " ('night', 73)]"
      ]
     },
     "execution_count": 139,
     "metadata": {},
     "output_type": "execute_result"
    }
   ],
   "source": [
    "top20"
   ]
  },
  {
   "cell_type": "code",
   "execution_count": 140,
   "id": "painful-cradle",
   "metadata": {},
   "outputs": [],
   "source": [
    "# Convert top20 to pandas DataFrame\n",
    "df = pd.DataFrame(top20, columns=['word', 'count'])"
   ]
  },
  {
   "cell_type": "code",
   "execution_count": 141,
   "id": "developed-series",
   "metadata": {},
   "outputs": [
    {
     "data": {
      "text/html": [
       "<div>\n",
       "<style scoped>\n",
       "    .dataframe tbody tr th:only-of-type {\n",
       "        vertical-align: middle;\n",
       "    }\n",
       "\n",
       "    .dataframe tbody tr th {\n",
       "        vertical-align: top;\n",
       "    }\n",
       "\n",
       "    .dataframe thead th {\n",
       "        text-align: right;\n",
       "    }\n",
       "</style>\n",
       "<table border=\"1\" class=\"dataframe\">\n",
       "  <thead>\n",
       "    <tr style=\"text-align: right;\">\n",
       "      <th></th>\n",
       "      <th>word</th>\n",
       "      <th>count</th>\n",
       "    </tr>\n",
       "  </thead>\n",
       "  <tbody>\n",
       "    <tr>\n",
       "      <th>0</th>\n",
       "      <td>romeo</td>\n",
       "      <td>315</td>\n",
       "    </tr>\n",
       "    <tr>\n",
       "      <th>1</th>\n",
       "      <td>thou</td>\n",
       "      <td>278</td>\n",
       "    </tr>\n",
       "    <tr>\n",
       "      <th>2</th>\n",
       "      <td>juliet</td>\n",
       "      <td>190</td>\n",
       "    </tr>\n",
       "    <tr>\n",
       "      <th>3</th>\n",
       "      <td>thy</td>\n",
       "      <td>170</td>\n",
       "    </tr>\n",
       "    <tr>\n",
       "      <th>4</th>\n",
       "      <td>capulet</td>\n",
       "      <td>163</td>\n",
       "    </tr>\n",
       "    <tr>\n",
       "      <th>5</th>\n",
       "      <td>nurse</td>\n",
       "      <td>149</td>\n",
       "    </tr>\n",
       "    <tr>\n",
       "      <th>6</th>\n",
       "      <td>love</td>\n",
       "      <td>148</td>\n",
       "    </tr>\n",
       "    <tr>\n",
       "      <th>7</th>\n",
       "      <td>thee</td>\n",
       "      <td>138</td>\n",
       "    </tr>\n",
       "    <tr>\n",
       "      <th>8</th>\n",
       "      <td>lady</td>\n",
       "      <td>117</td>\n",
       "    </tr>\n",
       "    <tr>\n",
       "      <th>9</th>\n",
       "      <td>shall</td>\n",
       "      <td>110</td>\n",
       "    </tr>\n",
       "    <tr>\n",
       "      <th>10</th>\n",
       "      <td>friar</td>\n",
       "      <td>105</td>\n",
       "    </tr>\n",
       "    <tr>\n",
       "      <th>11</th>\n",
       "      <td>come</td>\n",
       "      <td>94</td>\n",
       "    </tr>\n",
       "    <tr>\n",
       "      <th>12</th>\n",
       "      <td>mercutio</td>\n",
       "      <td>88</td>\n",
       "    </tr>\n",
       "    <tr>\n",
       "      <th>13</th>\n",
       "      <td>lawrence</td>\n",
       "      <td>82</td>\n",
       "    </tr>\n",
       "    <tr>\n",
       "      <th>14</th>\n",
       "      <td>good</td>\n",
       "      <td>80</td>\n",
       "    </tr>\n",
       "    <tr>\n",
       "      <th>15</th>\n",
       "      <td>benvolio</td>\n",
       "      <td>79</td>\n",
       "    </tr>\n",
       "    <tr>\n",
       "      <th>16</th>\n",
       "      <td>tybalt</td>\n",
       "      <td>79</td>\n",
       "    </tr>\n",
       "    <tr>\n",
       "      <th>17</th>\n",
       "      <td>enter</td>\n",
       "      <td>75</td>\n",
       "    </tr>\n",
       "    <tr>\n",
       "      <th>18</th>\n",
       "      <td>go</td>\n",
       "      <td>75</td>\n",
       "    </tr>\n",
       "    <tr>\n",
       "      <th>19</th>\n",
       "      <td>night</td>\n",
       "      <td>73</td>\n",
       "    </tr>\n",
       "  </tbody>\n",
       "</table>\n",
       "</div>"
      ],
      "text/plain": [
       "        word  count\n",
       "0      romeo    315\n",
       "1       thou    278\n",
       "2     juliet    190\n",
       "3        thy    170\n",
       "4    capulet    163\n",
       "5      nurse    149\n",
       "6       love    148\n",
       "7       thee    138\n",
       "8       lady    117\n",
       "9      shall    110\n",
       "10     friar    105\n",
       "11      come     94\n",
       "12  mercutio     88\n",
       "13  lawrence     82\n",
       "14      good     80\n",
       "15  benvolio     79\n",
       "16    tybalt     79\n",
       "17     enter     75\n",
       "18        go     75\n",
       "19     night     73"
      ]
     },
     "execution_count": 141,
     "metadata": {},
     "output_type": "execute_result"
    }
   ],
   "source": [
    "df"
   ]
  },
  {
   "cell_type": "code",
   "execution_count": 150,
   "id": "expanded-apparel",
   "metadata": {},
   "outputs": [
    {
     "data": {
      "image/png": "[encoded data removed]",
      "text/plain": [
       "<Figure size 432x288 with 1 Axes>"
      ]
     },
     "metadata": {
      "needs_background": "light"
     },
     "output_type": "display_data"
    }
   ],
   "source": [
    "# Visualising the DataFrame\n",
    "colors = ['yellow', 'black', 'red', 'green', 'blue', 'cyan', 'magenta']\n",
    "axes = (df.plot.bar(x='word', y='count', legend=False, color=colors))"
   ]
  },
  {
   "cell_type": "markdown",
   "id": "close-consumption",
   "metadata": {},
   "source": [
    "### Visualising Word Frequencies with Word Clouds"
   ]
  },
  {
   "cell_type": "code",
   "execution_count": 152,
   "id": "automated-shift",
   "metadata": {},
   "outputs": [],
   "source": [
    "# Loading the Mask Image that Specifies the Word Cloud's Shape\n",
    "import imageio"
   ]
  },
  {
   "cell_type": "code",
   "execution_count": 154,
   "id": "earned-latex",
   "metadata": {},
   "outputs": [],
   "source": [
    "mask_image = imageio.imread('mask_heart.png')"
   ]
  },
  {
   "cell_type": "code",
   "execution_count": 155,
   "id": "experienced-transsexual",
   "metadata": {},
   "outputs": [],
   "source": [
    "# Configuring the Word Cloud Object\n",
    "from wordcloud import WordCloud"
   ]
  },
  {
   "cell_type": "code",
   "execution_count": 156,
   "id": "inside-papua",
   "metadata": {},
   "outputs": [],
   "source": [
    "wordcloud = WordCloud(colormap='prism', mask=mask_image, background_color='white')"
   ]
  },
  {
   "cell_type": "code",
   "execution_count": 158,
   "id": "regular-latex",
   "metadata": {},
   "outputs": [],
   "source": [
    "romeo_juliet = Path('RomeoAndJuliet.txt').read_text()\n",
    "wordcloud = wordcloud.generate(romeo_juliet)"
   ]
  },
  {
   "cell_type": "code",
   "execution_count": 160,
   "id": "fluid-remedy",
   "metadata": {},
   "outputs": [
    {
     "data": {
      "text/plain": [
       "<wordcloud.wordcloud.WordCloud at 0x7f846eb4d5b0>"
      ]
     },
     "execution_count": 160,
     "metadata": {},
     "output_type": "execute_result"
    }
   ],
   "source": [
    "wordcloud.to_file('RomeoAndJulietHeart.png')"
   ]
  },
  {
   "cell_type": "code",
   "execution_count": 163,
   "id": "surrounded-italic",
   "metadata": {},
   "outputs": [
    {
     "data": {
      "text/plain": [
       "<matplotlib.image.AxesImage at 0x7f844edbe5b0>"
      ]
     },
     "execution_count": 163,
     "metadata": {},
     "output_type": "execute_result"
    },
    {
     "data": {
      "image/png": "[encoded data removed]",
      "text/plain": [
       "<Figure size 576x432 with 1 Axes>"
      ]
     },
     "metadata": {
      "needs_background": "light"
     },
     "output_type": "display_data"
    }
   ],
   "source": [
    "# Displaying Image with Matplotlib\n",
    "fig = plt.gcf()\n",
    "fig.set_size_inches(8,6)\n",
    "plt.imshow(wordcloud)"
   ]
  },
  {
   "cell_type": "markdown",
   "id": "monetary-gibson",
   "metadata": {},
   "source": [
    "#### Self Check\n"
   ]
  },
  {
   "cell_type": "code",
   "execution_count": 165,
   "id": "european-plaintiff",
   "metadata": {},
   "outputs": [],
   "source": [
    "# Create a star shaped wordcloud\n",
    "mask_image2 = imageio.imread('mask_star.png')"
   ]
  },
  {
   "cell_type": "code",
   "execution_count": 232,
   "id": "spectacular-label",
   "metadata": {},
   "outputs": [],
   "source": [
    "wordcloud2 = WordCloud(width=300, height=300, colormap='prism', mask=mask_image2, \n",
    "                       background_color='white')"
   ]
  },
  {
   "cell_type": "code",
   "execution_count": 233,
   "id": "deadly-necessity",
   "metadata": {},
   "outputs": [],
   "source": [
    "# create a TextBlob for the book\n",
    "romeo_juliet = TextBlob(Path('RomeoAndJuliet.txt').read_text())"
   ]
  },
  {
   "cell_type": "code",
   "execution_count": 234,
   "id": "liable-testimony",
   "metadata": {},
   "outputs": [],
   "source": [
    "# get a list of tuples with the word count\n",
    "items = romeo_juliet.word_counts.items();"
   ]
  },
  {
   "cell_type": "code",
   "execution_count": 235,
   "id": "velvet-oracle",
   "metadata": {},
   "outputs": [],
   "source": [
    "# remove stop words\n",
    "items = [item for item in items if item[0] not in stop_words]"
   ]
  },
  {
   "cell_type": "code",
   "execution_count": 236,
   "id": "anticipated-pickup",
   "metadata": {},
   "outputs": [
    {
     "data": {
      "text/plain": [
       "<wordcloud.wordcloud.WordCloud at 0x7f843feb7a60>"
      ]
     },
     "execution_count": 236,
     "metadata": {},
     "output_type": "execute_result"
    }
   ],
   "source": [
    "# generate wordcloud using fit_words\n",
    "wordcloud2.fit_words(dict(items))"
   ]
  },
  {
   "cell_type": "code",
   "execution_count": 237,
   "id": "breathing-webcam",
   "metadata": {},
   "outputs": [
    {
     "data": {
      "text/plain": [
       "<matplotlib.image.AxesImage at 0x7f843fefd850>"
      ]
     },
     "execution_count": 237,
     "metadata": {},
     "output_type": "execute_result"
    },
    {
     "data": {
      "image/png": "[encoded data removed]",
      "text/plain": [
       "<Figure size 864x720 with 1 Axes>"
      ]
     },
     "metadata": {
      "needs_background": "light"
     },
     "output_type": "display_data"
    }
   ],
   "source": [
    "# plot the wordcloud\n",
    "fig = plt.gcf()\n",
    "fig.set_size_inches(12,10)\n",
    "plt.imshow(wordcloud2)"
   ]
  },
  {
   "cell_type": "code",
   "execution_count": 238,
   "id": "proud-proportion",
   "metadata": {},
   "outputs": [
    {
     "data": {
      "text/plain": [
       "<wordcloud.wordcloud.WordCloud at 0x7f843feb7a60>"
      ]
     },
     "execution_count": 238,
     "metadata": {},
     "output_type": "execute_result"
    }
   ],
   "source": [
    "# save wordcloud to file\n",
    "wordcloud2.to_file('RomeoAndJulietStar.png')"
   ]
  }
 ],
 "metadata": {
  "kernelspec": {
   "display_name": "Python 3",
   "language": "python",
   "name": "python3"
  },
  "language_info": {
   "codemirror_mode": {
    "name": "ipython",
    "version": 3
   },
   "file_extension": ".py",
   "mimetype": "text/x-python",
   "name": "python",
   "nbconvert_exporter": "python",
   "pygments_lexer": "ipython3",
   "version": "3.8.5"
  }
 },
 "nbformat": 4,
 "nbformat_minor": 5
}
