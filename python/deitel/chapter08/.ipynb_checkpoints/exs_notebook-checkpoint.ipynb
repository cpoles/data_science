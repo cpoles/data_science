{
 "cells": [
  {
   "cell_type": "markdown",
   "id": "structural-child",
   "metadata": {},
   "source": [
    "# Chapter 08 - Short Exercises - Part I "
   ]
  },
  {
   "cell_type": "code",
   "execution_count": null,
   "id": "lesser-venue",
   "metadata": {},
   "outputs": [],
   "source": [
    "for char in range(0, 255):\n",
    "    print(f'{char:c}')"
   ]
  },
  {
   "cell_type": "markdown",
   "id": "colored-attendance",
   "metadata": {},
   "source": [
    "## Pig Latin"
   ]
  },
  {
   "cell_type": "code",
   "execution_count": 102,
   "id": "integral-bearing",
   "metadata": {},
   "outputs": [],
   "source": [
    "import re"
   ]
  },
  {
   "cell_type": "code",
   "execution_count": 103,
   "id": "reverse-stranger",
   "metadata": {},
   "outputs": [],
   "source": [
    "def first_vowel(word: str) -> bool:\n",
    "    '''Checks if the first char of a str > 2 is a vowel'''\n",
    "    regex = r'^[AEIOUaeiou].*$'\n",
    "    \n",
    "    return True if re.fullmatch(vowel, word) else False"
   ]
  },
  {
   "cell_type": "code",
   "execution_count": 104,
   "id": "organizational-military",
   "metadata": {},
   "outputs": [],
   "source": [
    "def translate_pig_latin(word: str) -> str:\n",
    "    if 0 <= len(word) <= 2:\n",
    "        return word\n",
    "    \n",
    "    if first_vowel(word):\n",
    "        return word + 'ay'\n",
    "    else:\n",
    "        head, *tail = word\n",
    "        return ''.join(tail) + head + 'ay'"
   ]
  },
  {
   "cell_type": "code",
   "execution_count": 105,
   "id": "contrary-nomination",
   "metadata": {},
   "outputs": [],
   "source": [
    "def pig_latin(text: str) -> str:\n",
    "    words = text.split()\n",
    "    text = []\n",
    "    if len(words) >= 1:\n",
    "        for word in words:\n",
    "            text.append(translate_pig_latin(word))\n",
    "    \n",
    "        return ' '.join(text)\n",
    "    else:\n",
    "        return []\n",
    "    "
   ]
  },
  {
   "cell_type": "code",
   "execution_count": 106,
   "id": "measured-hebrew",
   "metadata": {},
   "outputs": [
    {
     "data": {
      "text/plain": [
       "'ouYay ancay useay arkdownMay to ormatfay ocumentationday ouyay adday to arkdownMay ellscay in ouryay upyterJay otebooknay'"
      ]
     },
     "execution_count": 106,
     "metadata": {},
     "output_type": "execute_result"
    }
   ],
   "source": [
    "pig_latin('You can use Markdown to format documentation you add to Markdown cells in your Jupyter notebook')"
   ]
  },
  {
   "cell_type": "markdown",
   "id": "metallic-summit",
   "metadata": {},
   "source": [
    "## String Manipulation"
   ]
  },
  {
   "cell_type": "code",
   "execution_count": 107,
   "id": "military-premises",
   "metadata": {},
   "outputs": [],
   "source": [
    "# Reversing a sentence\n",
    "def rev_string(sentence: str) -> str:\n",
    "    if sentence == []:\n",
    "        return []\n",
    "    \n",
    "    sentence = sentence.split()\n",
    "    return ' '.join(reversed(sentence))"
   ]
  },
  {
   "cell_type": "code",
   "execution_count": 108,
   "id": "perceived-opinion",
   "metadata": {},
   "outputs": [
    {
     "data": {
      "text/plain": [
       "'table the on is book The'"
      ]
     },
     "execution_count": 108,
     "metadata": {},
     "output_type": "execute_result"
    }
   ],
   "source": [
    "rev_string('The book is on the table')"
   ]
  },
  {
   "cell_type": "code",
   "execution_count": 109,
   "id": "opened-invitation",
   "metadata": {},
   "outputs": [],
   "source": [
    "# Ending with 'ed'\n",
    "def ending_ed(word: str) -> bool:\n",
    "    '''Checks if a word ends with ed'''\n",
    "    regex = r'\\w*ed\\b'\n",
    "    \n",
    "    return True if re.fullmatch(regex, word) else False"
   ]
  },
  {
   "cell_type": "code",
   "execution_count": 110,
   "id": "underlying-economics",
   "metadata": {},
   "outputs": [
    {
     "data": {
      "text/plain": [
       "True"
      ]
     },
     "execution_count": 110,
     "metadata": {},
     "output_type": "execute_result"
    }
   ],
   "source": [
    "ending_ed('dfgdgfdgdfgded')"
   ]
  },
  {
   "cell_type": "code",
   "execution_count": 125,
   "id": "tracked-popularity",
   "metadata": {},
   "outputs": [
    {
     "name": "stdout",
     "output_type": "stream",
     "text": [
      "😀 😁 😂 😃 😄 😅 😆 😇 😈 😉 😊 😋 😌 😍 😎 😏 😐 😑 😒 😓 😔 😕 😖 😗 😘 😙 😚 😛 😜 😝 😞 😟 😠 😡 😢 😣 😤 😥 😦 😧 😨 😩 😪 😫 😬 😭 😮 😯 😰 😱 😲 😳 😴 😵 😶 😷 😸 😹 😺 😻 😼 😽 😾 😿 🙀 🙁 🙂 🙃 🙄 🙅 🙆 🙇 🙈 🙉 🙊 🙋 🙌 🙍 🙎 🙏 🙐 🙑 🙒 🙓 🙔 🙕 🙖 🙗 🙘 🙙 🙚 🙛 🙜 🙝 🙞 🙟 🙠 🙡 🙢 🙣 🙤 🙥 🙦 🙧 🙨 🙩 🙪 🙫 🙬 🙭 🙮 🙯 🙰 🙱 🙲 🙳 🙴 🙵 🙶 🙷 🙸 🙹 🙺 🙻 🙼 🙽 🙾 🙿 🚀 🚁 🚂 🚃 🚄 🚅 🚆 🚇 🚈 🚉 🚊 🚋 🚌 🚍 🚎 🚏 🚐 🚑 🚒 🚓 🚔 🚕 🚖 🚗 🚘 🚙 🚚 🚛 🚜 🚝 🚞 🚟 🚠 🚡 🚢 🚣 🚤 🚥 🚦 🚧 🚨 🚩 🚪 🚫 🚬 🚭 🚮 🚯 🚰 🚱 🚲 🚳 🚴 🚵 🚶 🚷 🚸 🚹 🚺 🚻 🚼 🚽 🚾 🚿 🛀 🛁 🛂 🛃 🛄 🛅 🛆 🛇 🛈 🛉 🛊 🛋 🛌 🛍 🛎 🛏 🛐 🛑 🛒 🛓 🛔 🛕 🛖 🛗 🛘 🛙 🛚 🛛 🛜 🛝 🛞 🛟 🛠 🛡 🛢 🛣 🛤 🛥 🛦 🛧 🛨 🛩 🛪 🛫 🛬 🛭 🛮 🛯 🛰 🛱 🛲 🛳 🛴 🛵 🛶 🛷 🛸 🛹 🛺 🛻 🛼 🛽 🛾 🛿 🜀 🜁 🜂 🜃 🜄 🜅 🜆 🜇 🜈 🜉 🜊 🜋 🜌 🜍 🜎 🜏 🜐 🜑 🜒 🜓 🜔 🜕 🜖 🜗 🜘 🜙 🜚 🜛 🜜 🜝 🜞 🜟 🜠 🜡 🜢 🜣 🜤 🜥 🜦 🜧 🜨 🜩 🜪 🜫 🜬 🜭 🜮 🜯 🜰 🜱 🜲 🜳 🜴 🜵 🜶 🜷 🜸 🜹 🜺 🜻 🜼 🜽 🜾 🜿 🝀 🝁 🝂 🝃 🝄 🝅 🝆 🝇 🝈 🝉 🝊 🝋 🝌 🝍 🝎 🝏 🝐 🝑 🝒 🝓 🝔 🝕 🝖 🝗 🝘 🝙 🝚 🝛 🝜 🝝 🝞 🝟 🝠 🝡 🝢 🝣 🝤 🝥 🝦 🝧 🝨 🝩 🝪 🝫 🝬 🝭 🝮 🝯 🝰 🝱 🝲 🝳 🝴 🝵 🝶 🝷 🝸 🝹 🝺 🝻 🝼 🝽 🝾 🝿 🞀 🞁 🞂 🞃 🞄 🞅 🞆 🞇 🞈 🞉 🞊 🞋 🞌 🞍 🞎 🞏 🞐 🞑 🞒 🞓 🞔 🞕 🞖 🞗 🞘 🞙 🞚 🞛 🞜 🞝 🞞 🞟 🞠 🞡 🞢 🞣 🞤 🞥 🞦 🞧 🞨 🞩 🞪 🞫 🞬 🞭 🞮 🞯 🞰 🞱 🞲 🞳 🞴 🞵 🞶 🞷 🞸 🞹 🞺 🞻 🞼 🞽 🞾 🞿 🟀 🟁 🟂 🟃 🟄 🟅 🟆 🟇 🟈 🟉 🟊 🟋 🟌 🟍 🟎 🟏 🟐 🟑 🟒 🟓 🟔 🟕 🟖 🟗 🟘 🟙 🟚 🟛 🟜 🟝 🟞 🟟 🟠 🟡 🟢 🟣 🟤 🟥 🟦 🟧 🟨 🟩 🟪 🟫 🟬 🟭 🟮 🟯 🟰 🟱 🟲 🟳 🟴 🟵 🟶 🟷 🟸 🟹 🟺 🟻 🟼 🟽 🟾 🟿 "
     ]
    }
   ],
   "source": [
    "# Emojis\n",
    "for emoji in range(0x1f600, 0x1f800):\n",
    "    print(f'{emoji:c}', end=' ')\n"
   ]
  },
  {
   "cell_type": "code",
   "execution_count": 173,
   "id": "centered-devon",
   "metadata": {},
   "outputs": [],
   "source": [
    "# Evaluate word problems\n",
    "def evaluate_expr(expr: str) -> float:\n",
    "    operations = ['plus', 'minus', 'times', 'divided by']\n",
    "    numbers = pd.DataFrame({'one': [1], 'two': [2], 'three': [3], 'four': [4], \n",
    "                            'five': [5], 'six': [6], 'seven': [7], 'eight': [8], 'nine': [9]})\n",
    "    op1, separator, rest = expr.partition(' ')\n",
    "    operator, separator, op2 = rest.rpartition(' ')\n",
    "    \n",
    "    if (op1 in numbers) and (op2 in numbers) and (operator in operations):\n",
    "        print(f'{op1} {operator} {op2}')\n",
    "        op1 = numbers[op1][0]\n",
    "        op2 = numbers[op2][0]\n",
    "        if operator == 'plus':\n",
    "            return pd.to_numeric(op1) + pd.to_numeric(op2)\n",
    "        elif operator == 'minus':\n",
    "            return pd.to_numeric(op1) - pd.to_numeric(op2)\n",
    "        elif operator == 'times':\n",
    "            return pd.to_numeric(op1) * pd.to_numeric(op2)\n",
    "        else:\n",
    "            return pd.to_numeric(op1) / pd.to_numeric(op2)\n",
    "    else:\n",
    "        raise ValueError('Parse error. Enter a valid expression')\n",
    "        \n",
    "    "
   ]
  },
  {
   "cell_type": "code",
   "execution_count": 176,
   "id": "activated-hours",
   "metadata": {},
   "outputs": [
    {
     "name": "stdout",
     "output_type": "stream",
     "text": [
      "seven times two\n"
     ]
    },
    {
     "data": {
      "text/plain": [
       "14"
      ]
     },
     "execution_count": 176,
     "metadata": {},
     "output_type": "execute_result"
    }
   ],
   "source": [
    "evaluate_expr('seven times two')"
   ]
  },
  {
   "cell_type": "code",
   "execution_count": 149,
   "id": "coastal-bracelet",
   "metadata": {},
   "outputs": [
    {
     "data": {
      "text/plain": [
       "True"
      ]
     },
     "execution_count": 149,
     "metadata": {},
     "output_type": "execute_result"
    }
   ],
   "source": []
  },
  {
   "cell_type": "code",
   "execution_count": null,
   "id": "coordinate-cabin",
   "metadata": {},
   "outputs": [],
   "source": []
  }
 ],
 "metadata": {
  "kernelspec": {
   "display_name": "Python 3.8 (XPython)",
   "language": "python",
   "name": "xpython"
  },
  "language_info": {
   "file_extension": ".py",
   "mimetype": "text/x-python",
   "name": "python",
   "version": "3.8.6"
  }
 },
 "nbformat": 4,
 "nbformat_minor": 5
}
