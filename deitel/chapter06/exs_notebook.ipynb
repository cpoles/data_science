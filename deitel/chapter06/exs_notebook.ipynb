{
 "metadata": {
  "language_info": {
   "codemirror_mode": {
    "name": "ipython",
    "version": 3
   },
   "file_extension": ".py",
   "mimetype": "text/x-python",
   "name": "python",
   "nbconvert_exporter": "python",
   "pygments_lexer": "ipython3",
   "version": "3.8.5-final"
  },
  "orig_nbformat": 2,
  "kernelspec": {
   "name": "python3",
   "display_name": "Python 3",
   "language": "python"
  }
 },
 "nbformat": 4,
 "nbformat_minor": 2,
 "cells": [
  {
   "source": [
    "# Short Exercises - Chapter 06"
   ],
   "cell_type": "markdown",
   "metadata": {}
  },
  {
   "cell_type": "code",
   "execution_count": 5,
   "metadata": {},
   "outputs": [],
   "source": [
    "from collections import Counter"
   ]
  },
  {
   "source": [
    "### Counting Duplicate Words\n"
   ],
   "cell_type": "markdown",
   "metadata": {}
  },
  {
   "cell_type": "code",
   "execution_count": 18,
   "metadata": {},
   "outputs": [],
   "source": [
    "# assumptions:\n",
    "# treat upper and lower case the same\n",
    "# there is no punctuation in the sentence\n",
    "def count_dups(sentence):\n",
    "    words = list(map(lambda x: x.lower(), sentence.split()))\n",
    "    counter = Counter(words)\n",
    "    print('Word\\tCount')\n",
    "    for word, count in sorted(counter.items()):\n",
    "        print(f'{word:>4}\\t{count:>5}')\n",
    "\n"
   ]
  },
  {
   "cell_type": "code",
   "execution_count": 19,
   "metadata": {},
   "outputs": [
    {
     "output_type": "stream",
     "name": "stdout",
     "text": [
      "Word\tCount\n  is\t    2\n  na\t    2\n  po\t    2\n the\t    2\n"
     ]
    }
   ],
   "source": [
    "count_dups('The the is is na po NA PO')"
   ]
  },
  {
   "source": [
    "### Duplicate Word Removal"
   ],
   "cell_type": "markdown",
   "metadata": {}
  },
  {
   "cell_type": "code",
   "execution_count": 24,
   "metadata": {},
   "outputs": [],
   "source": [
    "# treat uppercase and lowercase the same\n",
    "# there is no punctuation in the sentence\n",
    "# function needs to use a set for uniqueness\n",
    "def dup_removal(sentence):\n",
    "    return set(list(map(lambda x: x.lower(), sentence.split())))\n",
    "    "
   ]
  },
  {
   "cell_type": "code",
   "execution_count": 25,
   "metadata": {},
   "outputs": [
    {
     "output_type": "execute_result",
     "data": {
      "text/plain": [
       "{'is', 'na', 'po', 'the'}"
      ]
     },
     "metadata": {},
     "execution_count": 25
    }
   ],
   "source": [
    "dup_removal('The the is is na po NA PO')"
   ]
  },
  {
   "source": [
    "### Character Counts"
   ],
   "cell_type": "markdown",
   "metadata": {}
  },
  {
   "cell_type": "code",
   "execution_count": 31,
   "metadata": {},
   "outputs": [],
   "source": [
    "# ignore blanks and case\n",
    "# there is no punctuation in the sentence\n",
    "def char_counts(sentence):\n",
    "    # split in words, words to lower and join them withou blanks\n",
    "    sentence = ''.join(list(map(lambda x: x.lower(), sentence.split())))\n",
    "    # count char frequency\n",
    "    counter = Counter(sentence)\n",
    "    print(f'Char\\tCount')\n",
    "    for char, count in sorted(counter.items()):\n",
    "        print(f'{char:>3}\\t{count:>5}')"
   ]
  },
  {
   "cell_type": "code",
   "execution_count": 33,
   "metadata": {},
   "outputs": [
    {
     "output_type": "stream",
     "name": "stdout",
     "text": [
      "Char\tCount\n  a\t    1\n  c\t    1\n  e\t    4\n  f\t    1\n  g\t    1\n  i\t    1\n  j\t    1\n  n\t    3\n  o\t    1\n  r\t    1\n  s\t    3\n  t\t    4\n  u\t    1\n"
     ]
    }
   ],
   "source": [
    "char_counts('JusT a sentEncE foR TESTING')"
   ]
  },
  {
   "cell_type": "code",
   "execution_count": 38,
   "metadata": {},
   "outputs": [],
   "source": [
    "# check if the sentence uses all alphabet letters\n",
    "# use set operations\n",
    "def pangram(sentence):\n",
    "    # split sentence, words to upper, join without spaces and make it a set\n",
    "    sentence = set(''.join(list(map(lambda x: x.upper(), sentence.split()))))\n",
    "    # alphabet set\n",
    "    alphabet = set(list(map(chr, list(range(65, 91)))))\n",
    "    # compare sentence and alphabet\n",
    "    return sentence == alphabet\n",
    "\n"
   ]
  },
  {
   "cell_type": "code",
   "execution_count": 39,
   "metadata": {},
   "outputs": [
    {
     "output_type": "execute_result",
     "data": {
      "text/plain": [
       "True"
      ]
     },
     "metadata": {},
     "execution_count": 39
    }
   ],
   "source": [
    "pangram('The quick onyx goblin jumps over the lazy dwarf')"
   ]
  },
  {
   "cell_type": "code",
   "execution_count": null,
   "metadata": {},
   "outputs": [],
   "source": []
  }
 ]
}