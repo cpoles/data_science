{
 "metadata": {
  "language_info": {
   "codemirror_mode": {
    "name": "ipython",
    "version": 3
   },
   "file_extension": ".py",
   "mimetype": "text/x-python",
   "name": "python",
   "nbconvert_exporter": "python",
   "pygments_lexer": "ipython3",
   "version": "3.7.9-final"
  },
  "orig_nbformat": 2,
  "kernelspec": {
   "name": "python3",
   "display_name": "Python 3",
   "language": "python"
  }
 },
 "nbformat": 4,
 "nbformat_minor": 2,
 "cells": [
  {
   "source": [
    "# Short Exercises - Chapter 06"
   ],
   "cell_type": "markdown",
   "metadata": {}
  },
  {
   "cell_type": "code",
   "execution_count": 2,
   "metadata": {},
   "outputs": [],
   "source": [
    "from collections import Counter"
   ]
  },
  {
   "source": [
    "### Counting Duplicate Words\n"
   ],
   "cell_type": "markdown",
   "metadata": {}
  },
  {
   "cell_type": "code",
   "execution_count": 1,
   "metadata": {},
   "outputs": [],
   "source": [
    "# assumptions:\n",
    "# treat upper and lower case the same\n",
    "# there is no punctuation in the sentence\n",
    "def count_dups(sentence):\n",
    "    words = list(map(lambda x: x.lower(), sentence.split()))\n",
    "    counter = Counter(words)\n",
    "    print('Word\\tCount')\n",
    "    for word, count in sorted(counter.items()):\n",
    "        print(f'{word:>4}\\t{count:>5}')\n",
    "\n"
   ]
  },
  {
   "cell_type": "code",
   "execution_count": 3,
   "metadata": {},
   "outputs": [
    {
     "output_type": "stream",
     "name": "stdout",
     "text": [
      "Word\tCount\n  is\t    2\n  na\t    2\n  po\t    2\n the\t    2\n"
     ]
    }
   ],
   "source": [
    "count_dups('The the is is na po NA PO')"
   ]
  },
  {
   "source": [
    "### Duplicate Word Removal"
   ],
   "cell_type": "markdown",
   "metadata": {}
  },
  {
   "cell_type": "code",
   "execution_count": 4,
   "metadata": {},
   "outputs": [],
   "source": [
    "# treat uppercase and lowercase the same\n",
    "# there is no punctuation in the sentence\n",
    "# function needs to use a set for uniqueness\n",
    "def dup_removal(sentence):\n",
    "    return set(list(map(lambda x: x.lower(), sentence.split())))\n",
    "    "
   ]
  },
  {
   "cell_type": "code",
   "execution_count": 5,
   "metadata": {},
   "outputs": [
    {
     "output_type": "execute_result",
     "data": {
      "text/plain": [
       "{'is', 'na', 'po', 'the'}"
      ]
     },
     "metadata": {},
     "execution_count": 5
    }
   ],
   "source": [
    "dup_removal('The the is is na po NA PO')"
   ]
  },
  {
   "source": [
    "### Character Counts"
   ],
   "cell_type": "markdown",
   "metadata": {}
  },
  {
   "cell_type": "code",
   "execution_count": 6,
   "metadata": {},
   "outputs": [],
   "source": [
    "# ignore blanks and case\n",
    "# there is no punctuation in the sentence\n",
    "def char_counts(sentence):\n",
    "    # split in words, words to lower and join them withou blanks\n",
    "    sentence = ''.join(list(map(lambda x: x.lower(), sentence.split())))\n",
    "    # count char frequency\n",
    "    counter = Counter(sentence)\n",
    "    print(f'Char\\tCount')\n",
    "    for char, count in sorted(counter.items()):\n",
    "        print(f'{char:>3}\\t{count:>5}')"
   ]
  },
  {
   "cell_type": "code",
   "execution_count": 7,
   "metadata": {},
   "outputs": [
    {
     "output_type": "stream",
     "name": "stdout",
     "text": [
      "Char\tCount\n  a\t    1\n  c\t    1\n  e\t    4\n  f\t    1\n  g\t    1\n  i\t    1\n  j\t    1\n  n\t    3\n  o\t    1\n  r\t    1\n  s\t    3\n  t\t    4\n  u\t    1\n"
     ]
    }
   ],
   "source": [
    "char_counts('JusT a sentEncE foR TESTING')"
   ]
  },
  {
   "cell_type": "code",
   "execution_count": 8,
   "metadata": {},
   "outputs": [],
   "source": [
    "# check if the sentence uses all alphabet letters\n",
    "# use set operations\n",
    "def pangram(sentence):\n",
    "    # split sentence, words to upper, join without spaces and make it a set\n",
    "    sentence = set(''.join(list(map(lambda x: x.upper(), sentence.split()))))\n",
    "    # alphabet set\n",
    "    alphabet = set(list(map(chr, list(range(65, 91)))))\n",
    "    # compare sentence and alphabet\n",
    "    return sentence == alphabet\n",
    "\n"
   ]
  },
  {
   "cell_type": "code",
   "execution_count": 9,
   "metadata": {},
   "outputs": [
    {
     "output_type": "execute_result",
     "data": {
      "text/plain": [
       "True"
      ]
     },
     "metadata": {},
     "execution_count": 9
    }
   ],
   "source": [
    "pangram('The quick onyx goblin jumps over the lazy dwarf')"
   ]
  },
  {
   "source": [
    "### Word Equivalent of Check Amount"
   ],
   "cell_type": "markdown",
   "metadata": {}
  },
  {
   "cell_type": "code",
   "execution_count": 6,
   "metadata": {},
   "outputs": [],
   "source": [
    "# assumption\n",
    "# number as string\n",
    "# only amounts < 1000\n",
    "\n",
    "amount = '112.43'\n",
    "\n",
    "nword_dic = {1: 'ONE', 2:'TWO', 3:'THREE', 4:'FOUR', 5:'FIVE',\n",
    "             6: 'SIX', 7: 'SEVEN', 8: 'EIGHT', 9:'NINE', 11: 'ELEVEN',\n",
    "            12: 'TWELVE', 13: 'THIRTEEN', 14: 'FOURTENN', 15: 'FIFTEEN',\n",
    "            16: 'SIXTEEN', 17: 'SEVENTEEN', 18: 'EIGHTEEN', 19: 'NINETEEN'}\n",
    "\n",
    "tens = {1: 'TEN', 2: 'TWENTY', 3: 'THIRTY', 4: 'FOURTY', 5: 'FIFTY',\n",
    "        6: 'SIXTY', 7: 'SEVENTY', 8: 'EIGHTY', 9: 'NINETY'}\n"
   ]
  },
  {
   "cell_type": "code",
   "execution_count": 7,
   "metadata": {},
   "outputs": [],
   "source": [
    "def get_tens_hundreds(number):\n",
    "    '''Divides a str number into an list of in for hundreds and tens'''\n",
    "    if len(number) > 1:\n",
    "        hundred, *tens = number\n",
    "        tens = int(''.join(tens))\n",
    "        return [int(hundred), tens]\n",
    "    else:\n",
    "        return [int(number)]\n",
    "\n"
   ]
  },
  {
   "cell_type": "code",
   "execution_count": 8,
   "metadata": {},
   "outputs": [],
   "source": [
    "def ten_to_word(number: int) -> str:\n",
    "    '''Converts any 1 < number < 99 to a string'''\n",
    "    if number < 20:\n",
    "        word = nword_dic[number]\n",
    "    elif number % 10 == 0:\n",
    "        word = tens[number / 10]\n",
    "    else:\n",
    "        number = get_tens_hundreds(str(number))\n",
    "        head, *tail = number\n",
    "        word = f'{tens[head]} {nword_dic[tail.pop()]}'\n",
    " \n",
    "    return word\n",
    "\n",
    "\n"
   ]
  },
  {
   "cell_type": "code",
   "execution_count": 9,
   "metadata": {},
   "outputs": [],
   "source": [
    "def amount_to_word(amount):\n",
    "    '''Converts a string amount to a string repr of the amount'''\n",
    "    int_part = ''\n",
    "    dec_part = ''\n",
    "    ns = amount.split('.')\n",
    "    print(ns)\n",
    "\n",
    "    head, *tail = ns\n",
    "    if not tail:\n",
    "        if int(head) < 100:\n",
    "           return ten_to_word(int(head))\n",
    "        else:\n",
    "            ns = get_tens_hundreds(head)\n",
    "            h1, *t1 = ns\n",
    "            int_part = f'{nword_dic[h1]} HUNDRED {ten_to_word(t1.pop())}'\n",
    "    else:\n",
    "        ns = get_tens_hundreds(head)\n",
    "        h1, *t1 = ns\n",
    "        int_part = f'{nword_dic[h1]} HUNDRED {ten_to_word(t1.pop())}'\n",
    "        dec_part = f' AND {tail[0]}/{10 ** len(tail[0])}'\n",
    "        print(dec_part)\n",
    "  \n",
    "    return int_part + dec_part\n"
   ]
  },
  {
   "cell_type": "code",
   "execution_count": 10,
   "metadata": {},
   "outputs": [
    {
     "output_type": "stream",
     "name": "stdout",
     "text": [
      "['876', '98']\n AND 98/100\n"
     ]
    },
    {
     "output_type": "execute_result",
     "data": {
      "text/plain": [
       "'EIGHT HUNDRED SEVENTY SIX AND 98/100'"
      ]
     },
     "metadata": {},
     "execution_count": 10
    }
   ],
   "source": [
    "amount_to_word('876.98')"
   ]
  },
  {
   "cell_type": "code",
   "execution_count": 12,
   "metadata": {},
   "outputs": [
    {
     "output_type": "stream",
     "name": "stdout",
     "text": [
      "['654', '458']\n AND 458/1000\n"
     ]
    },
    {
     "output_type": "execute_result",
     "data": {
      "text/plain": [
       "'SIX HUNDRED FIFTY FOUR AND 458/1000'"
      ]
     },
     "metadata": {},
     "execution_count": 12
    }
   ],
   "source": [
    "amount_to_word('654.458')"
   ]
  },
  {
   "cell_type": "code",
   "execution_count": null,
   "metadata": {},
   "outputs": [],
   "source": [
    "\n"
   ]
  }
 ]
}