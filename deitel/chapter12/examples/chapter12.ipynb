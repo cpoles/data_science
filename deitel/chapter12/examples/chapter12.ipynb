{
 "cells": [
  {
   "cell_type": "markdown",
   "id": "focal-kansas",
   "metadata": {},
   "source": [
    "# Chapter 12 - iPython Sessions"
   ]
  },
  {
   "cell_type": "markdown",
   "id": "elder-drawing",
   "metadata": {},
   "source": [
    "## TextBlob"
   ]
  },
  {
   "cell_type": "markdown",
   "id": "buried-course",
   "metadata": {},
   "source": [
    "### Create a TextBlob"
   ]
  },
  {
   "cell_type": "code",
   "execution_count": 1,
   "id": "independent-portland",
   "metadata": {},
   "outputs": [],
   "source": [
    "from textblob import TextBlob"
   ]
  },
  {
   "cell_type": "code",
   "execution_count": 2,
   "id": "robust-victorian",
   "metadata": {},
   "outputs": [],
   "source": [
    "text = 'Today is a beautiful day. Tomorrow looks like bad weather.'"
   ]
  },
  {
   "cell_type": "code",
   "execution_count": 3,
   "id": "forced-credit",
   "metadata": {},
   "outputs": [],
   "source": [
    "blob = TextBlob(text)"
   ]
  },
  {
   "cell_type": "code",
   "execution_count": 4,
   "id": "adolescent-trader",
   "metadata": {},
   "outputs": [
    {
     "data": {
      "text/plain": [
       "TextBlob(\"Today is a beautiful day. Tomorrow looks like bad weather.\")"
      ]
     },
     "execution_count": 4,
     "metadata": {},
     "output_type": "execute_result"
    }
   ],
   "source": [
    "blob"
   ]
  },
  {
   "cell_type": "markdown",
   "id": "enclosed-staff",
   "metadata": {},
   "source": [
    "### Self Check"
   ]
  },
  {
   "cell_type": "code",
   "execution_count": 5,
   "id": "worthy-language",
   "metadata": {},
   "outputs": [],
   "source": [
    "exercise_blob = TextBlob('This is a TextBlob')"
   ]
  },
  {
   "cell_type": "code",
   "execution_count": 6,
   "id": "available-cherry",
   "metadata": {},
   "outputs": [
    {
     "data": {
      "text/plain": [
       "TextBlob(\"This is a TextBlob\")"
      ]
     },
     "execution_count": 6,
     "metadata": {},
     "output_type": "execute_result"
    }
   ],
   "source": [
    "exercise_blob"
   ]
  },
  {
   "cell_type": "markdown",
   "id": "collected-baptist",
   "metadata": {},
   "source": [
    "### Tokenizing Text into Sentences and Words"
   ]
  },
  {
   "cell_type": "code",
   "execution_count": 7,
   "id": "reduced-vulnerability",
   "metadata": {},
   "outputs": [
    {
     "data": {
      "text/plain": [
       "[Sentence(\"Today is a beautiful day.\"),\n",
       " Sentence(\"Tomorrow looks like bad weather.\")]"
      ]
     },
     "execution_count": 7,
     "metadata": {},
     "output_type": "execute_result"
    }
   ],
   "source": [
    "blob.sentences"
   ]
  },
  {
   "cell_type": "code",
   "execution_count": 8,
   "id": "developmental-hardwood",
   "metadata": {},
   "outputs": [
    {
     "data": {
      "text/plain": [
       "WordList(['Today', 'is', 'a', 'beautiful', 'day', 'Tomorrow', 'looks', 'like', 'bad', 'weather'])"
      ]
     },
     "execution_count": 8,
     "metadata": {},
     "output_type": "execute_result"
    }
   ],
   "source": [
    "# get list of tokens\n",
    "blob.words"
   ]
  },
  {
   "cell_type": "markdown",
   "id": "noted-ratio",
   "metadata": {},
   "source": [
    "### Self Check"
   ]
  },
  {
   "cell_type": "code",
   "execution_count": 9,
   "id": "precise-christian",
   "metadata": {},
   "outputs": [],
   "source": [
    "text2 = TextBlob('This is the first sentence. The second sentence is this one here.')"
   ]
  },
  {
   "cell_type": "code",
   "execution_count": 10,
   "id": "digital-termination",
   "metadata": {},
   "outputs": [
    {
     "data": {
      "text/plain": [
       "[Sentence(\"This is the first sentence.\"),\n",
       " Sentence(\"The second sentence is this one here.\")]"
      ]
     },
     "execution_count": 10,
     "metadata": {},
     "output_type": "execute_result"
    }
   ],
   "source": [
    "text2.sentences"
   ]
  },
  {
   "cell_type": "code",
   "execution_count": 12,
   "id": "generous-constant",
   "metadata": {},
   "outputs": [
    {
     "data": {
      "text/plain": [
       "defaultdict(int,\n",
       "            {'this': 2,\n",
       "             'is': 2,\n",
       "             'the': 2,\n",
       "             'first': 1,\n",
       "             'sentence': 2,\n",
       "             'second': 1,\n",
       "             'one': 1,\n",
       "             'here': 1})"
      ]
     },
     "execution_count": 12,
     "metadata": {},
     "output_type": "execute_result"
    }
   ],
   "source": [
    "text2.word_counts"
   ]
  },
  {
   "cell_type": "markdown",
   "id": "distant-experiment",
   "metadata": {},
   "source": [
    "### Parts of Speech Tagging"
   ]
  },
  {
   "cell_type": "code",
   "execution_count": 13,
   "id": "military-college",
   "metadata": {},
   "outputs": [
    {
     "data": {
      "text/plain": [
       "TextBlob(\"Today is a beautiful day. Tomorrow looks like bad weather.\")"
      ]
     },
     "execution_count": 13,
     "metadata": {},
     "output_type": "execute_result"
    }
   ],
   "source": [
    "blob"
   ]
  },
  {
   "cell_type": "code",
   "execution_count": 14,
   "id": "biological-speech",
   "metadata": {},
   "outputs": [
    {
     "data": {
      "text/plain": [
       "[('Today', 'NN'),\n",
       " ('is', 'VBZ'),\n",
       " ('a', 'DT'),\n",
       " ('beautiful', 'JJ'),\n",
       " ('day', 'NN'),\n",
       " ('Tomorrow', 'NNP'),\n",
       " ('looks', 'VBZ'),\n",
       " ('like', 'IN'),\n",
       " ('bad', 'JJ'),\n",
       " ('weather', 'NN')]"
      ]
     },
     "execution_count": 14,
     "metadata": {},
     "output_type": "execute_result"
    }
   ],
   "source": [
    "blob.tags"
   ]
  },
  {
   "cell_type": "markdown",
   "id": "apart-wildlife",
   "metadata": {},
   "source": [
    "### Self Check"
   ]
  },
  {
   "cell_type": "code",
   "execution_count": 15,
   "id": "intended-spoke",
   "metadata": {},
   "outputs": [
    {
     "data": {
      "text/plain": [
       "[('My', 'PRP$'), ('dog', 'NN'), ('is', 'VBZ'), ('cute', 'JJ')]"
      ]
     },
     "execution_count": 15,
     "metadata": {},
     "output_type": "execute_result"
    }
   ],
   "source": [
    "TextBlob('My dog is cute').tags"
   ]
  },
  {
   "cell_type": "markdown",
   "id": "adapted-luther",
   "metadata": {},
   "source": [
    "### Extracting Noun Phrases"
   ]
  },
  {
   "cell_type": "code",
   "execution_count": null,
   "id": "painful-advantage",
   "metadata": {},
   "outputs": [],
   "source": []
  }
 ],
 "metadata": {
  "kernelspec": {
   "display_name": "Python 3",
   "language": "python",
   "name": "python3"
  },
  "language_info": {
   "codemirror_mode": {
    "name": "ipython",
    "version": 3
   },
   "file_extension": ".py",
   "mimetype": "text/x-python",
   "name": "python",
   "nbconvert_exporter": "python",
   "pygments_lexer": "ipython3",
   "version": "3.8.5"
  }
 },
 "nbformat": 4,
 "nbformat_minor": 5
}
