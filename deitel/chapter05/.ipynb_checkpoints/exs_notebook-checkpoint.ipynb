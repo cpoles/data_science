{
 "cells": [
  {
   "cell_type": "markdown",
   "metadata": {},
   "source": [
    "# Short Exercises"
   ]
  },
  {
   "cell_type": "markdown",
   "metadata": {},
   "source": [
    "### Duplicate Elimination"
   ]
  },
  {
   "cell_type": "code",
   "execution_count": 7,
   "metadata": {},
   "outputs": [],
   "source": [
    "def elim_duplicates(seq):\n",
    "    '''Eliminates duplicate items'''\n",
    "    for elem in seq:\n",
    "        seq = [elem] + list(filter(lambda x: x != elem, seq))\n",
    "        print(seq)\n",
    "    return seq"
   ]
  },
  {
   "cell_type": "code",
   "execution_count": 8,
   "metadata": {},
   "outputs": [],
   "source": [
    "# using recursion\n",
    "\n",
    "def no_dups_func(seq):\n",
    "    if seq == []:\n",
    "        return []\n",
    "    else:\n",
    "        f_seq = list(filter(lambda x: x != seq[0], seq))\n",
    "        seq = [seq[0]] + no_dups_func(f_seq)\n",
    "        print(seq)\n",
    "    return seq"
   ]
  },
  {
   "cell_type": "code",
   "execution_count": 9,
   "metadata": {},
   "outputs": [],
   "source": [
    "numbers = [1, 2, 1, 2, 3, 3, 3]"
   ]
  },
  {
   "cell_type": "code",
   "execution_count": 10,
   "metadata": {},
   "outputs": [
    {
     "name": "stdout",
     "output_type": "stream",
     "text": [
      "[1, 2, 2, 3, 3, 3]\n",
      "[2, 1, 3, 3, 3]\n",
      "[1, 2, 3, 3, 3]\n",
      "[2, 1, 3, 3, 3]\n",
      "[3, 2, 1]\n",
      "[3, 2, 1]\n",
      "[3, 2, 1]\n"
     ]
    }
   ],
   "source": [
    "no_dups = sorted(elim_duplicates(numbers))"
   ]
  },
  {
   "cell_type": "code",
   "execution_count": 11,
   "metadata": {},
   "outputs": [
    {
     "name": "stdout",
     "output_type": "stream",
     "text": [
      "[3]\n",
      "[2, 3]\n",
      "[1, 2, 3]\n"
     ]
    },
    {
     "data": {
      "text/plain": [
       "[1, 2, 3]"
      ]
     },
     "execution_count": 11,
     "metadata": {},
     "output_type": "execute_result"
    }
   ],
   "source": [
    "no_dups_func(numbers)"
   ]
  },
  {
   "cell_type": "code",
   "execution_count": 12,
   "metadata": {},
   "outputs": [
    {
     "name": "stdout",
     "output_type": "stream",
     "text": [
      "['r']\n",
      "['a', 'r']\n"
     ]
    },
    {
     "data": {
      "text/plain": [
       "['a', 'r']"
      ]
     },
     "execution_count": 12,
     "metadata": {},
     "output_type": "execute_result"
    }
   ],
   "source": [
    "no_dups_func('arara')"
   ]
  },
  {
   "cell_type": "markdown",
   "metadata": {},
   "source": [
    "### Palindrome Tester using append() and pop() as a stack"
   ]
  },
  {
   "cell_type": "code",
   "execution_count": 1,
   "metadata": {},
   "outputs": [],
   "source": [
    "def is_palindrome(word):\n",
    "    word = list(word.lower())\n",
    "    or_word = [x for x in word]\n",
    "    rev_word = []\n",
    "    for _ in or_word:\n",
    "        rev_word.append(word.pop())\n",
    "    return rev_word == or_word"
   ]
  },
  {
   "cell_type": "code",
   "execution_count": 13,
   "metadata": {},
   "outputs": [
    {
     "data": {
      "text/plain": [
       "True"
      ]
     },
     "execution_count": 13,
     "metadata": {},
     "output_type": "execute_result"
    }
   ],
   "source": [
    "is_palindrome('arara')"
   ]
  },
  {
   "cell_type": "markdown",
   "metadata": {},
   "source": [
    "### Summarizing Letters"
   ]
  },
  {
   "cell_type": "code",
   "execution_count": 35,
   "metadata": {},
   "outputs": [],
   "source": [
    "def summarize_letters(word):\n",
    "    '''Counts the number of occurrences of chars'''\n",
    "    frequencies = []\n",
    "    word = list(word.lower())\n",
    "    unique = no_dups_func(word)\n",
    "    for ch in unique:\n",
    "        frequencies.append((ch, 0))\n",
    "    print(frequencies)\n",
    "\n",
    "    for ch in word:\n",
    "        for idx, (x, y) in enumerate(frequencies):\n",
    "            if x == ch:\n",
    "                frequencies[idx] = (x, y + 1)\n",
    "               \n",
    "    return frequencies               \n",
    "        \n"
   ]
  },
  {
   "cell_type": "code",
   "execution_count": 39,
   "metadata": {},
   "outputs": [
    {
     "name": "stdout",
     "output_type": "stream",
     "text": [
      "['e']\n",
      "['b', 'e']\n",
      "['d', 'b', 'e']\n",
      "['c', 'd', 'b', 'e']\n",
      "['a', 'c', 'd', 'b', 'e']\n",
      "[('a', 0), ('c', 0), ('d', 0), ('b', 0), ('e', 0)]\n"
     ]
    },
    {
     "data": {
      "text/plain": [
       "[('a', 9), ('c', 3), ('d', 3), ('b', 1), ('e', 3)]"
      ]
     },
     "execution_count": 39,
     "metadata": {},
     "output_type": "execute_result"
    }
   ],
   "source": [
    "summarize_letters('aacccaadddaabaaeeea')  "
   ]
  },
  {
   "cell_type": "markdown",
   "metadata": {},
   "source": [
    "### Anagrams"
   ]
  },
  {
   "cell_type": "code",
   "execution_count": 59,
   "metadata": {},
   "outputs": [],
   "source": [
    "from itertools import permutations\n",
    "\n",
    "def anagrams(string):\n",
    "    return list(map(lambda x: ''.join(x), list(permutations(string, len(string)))))"
   ]
  },
  {
   "cell_type": "code",
   "execution_count": 60,
   "metadata": {},
   "outputs": [
    {
     "data": {
      "text/plain": [
       "['clear',\n",
       " 'clera',\n",
       " 'claer',\n",
       " 'clare',\n",
       " 'clrea',\n",
       " 'clrae',\n",
       " 'celar',\n",
       " 'celra',\n",
       " 'cealr',\n",
       " 'cearl',\n",
       " 'cerla',\n",
       " 'ceral',\n",
       " 'caler',\n",
       " 'calre',\n",
       " 'caelr',\n",
       " 'caerl',\n",
       " 'carle',\n",
       " 'carel',\n",
       " 'crlea',\n",
       " 'crlae',\n",
       " 'crela',\n",
       " 'creal',\n",
       " 'crale',\n",
       " 'crael',\n",
       " 'lcear',\n",
       " 'lcera',\n",
       " 'lcaer',\n",
       " 'lcare',\n",
       " 'lcrea',\n",
       " 'lcrae',\n",
       " 'lecar',\n",
       " 'lecra',\n",
       " 'leacr',\n",
       " 'learc',\n",
       " 'lerca',\n",
       " 'lerac',\n",
       " 'lacer',\n",
       " 'lacre',\n",
       " 'laecr',\n",
       " 'laerc',\n",
       " 'larce',\n",
       " 'larec',\n",
       " 'lrcea',\n",
       " 'lrcae',\n",
       " 'lreca',\n",
       " 'lreac',\n",
       " 'lrace',\n",
       " 'lraec',\n",
       " 'eclar',\n",
       " 'eclra',\n",
       " 'ecalr',\n",
       " 'ecarl',\n",
       " 'ecrla',\n",
       " 'ecral',\n",
       " 'elcar',\n",
       " 'elcra',\n",
       " 'elacr',\n",
       " 'elarc',\n",
       " 'elrca',\n",
       " 'elrac',\n",
       " 'eaclr',\n",
       " 'eacrl',\n",
       " 'ealcr',\n",
       " 'ealrc',\n",
       " 'earcl',\n",
       " 'earlc',\n",
       " 'ercla',\n",
       " 'ercal',\n",
       " 'erlca',\n",
       " 'erlac',\n",
       " 'eracl',\n",
       " 'eralc',\n",
       " 'acler',\n",
       " 'aclre',\n",
       " 'acelr',\n",
       " 'acerl',\n",
       " 'acrle',\n",
       " 'acrel',\n",
       " 'alcer',\n",
       " 'alcre',\n",
       " 'alecr',\n",
       " 'alerc',\n",
       " 'alrce',\n",
       " 'alrec',\n",
       " 'aeclr',\n",
       " 'aecrl',\n",
       " 'aelcr',\n",
       " 'aelrc',\n",
       " 'aercl',\n",
       " 'aerlc',\n",
       " 'arcle',\n",
       " 'arcel',\n",
       " 'arlce',\n",
       " 'arlec',\n",
       " 'arecl',\n",
       " 'arelc',\n",
       " 'rclea',\n",
       " 'rclae',\n",
       " 'rcela',\n",
       " 'rceal',\n",
       " 'rcale',\n",
       " 'rcael',\n",
       " 'rlcea',\n",
       " 'rlcae',\n",
       " 'rleca',\n",
       " 'rleac',\n",
       " 'rlace',\n",
       " 'rlaec',\n",
       " 'recla',\n",
       " 'recal',\n",
       " 'relca',\n",
       " 'relac',\n",
       " 'reacl',\n",
       " 'realc',\n",
       " 'racle',\n",
       " 'racel',\n",
       " 'ralce',\n",
       " 'ralec',\n",
       " 'raecl',\n",
       " 'raelc']"
      ]
     },
     "execution_count": 60,
     "metadata": {},
     "output_type": "execute_result"
    }
   ],
   "source": [
    "anagrams('clear')"
   ]
  },
  {
   "cell_type": "code",
   "execution_count": null,
   "metadata": {},
   "outputs": [],
   "source": []
  }
 ],
 "metadata": {
  "kernelspec": {
   "display_name": "Python 3",
   "language": "python",
   "name": "python3"
  },
  "language_info": {
   "codemirror_mode": {
    "name": "ipython",
    "version": 3
   },
   "file_extension": ".py",
   "mimetype": "text/x-python",
   "name": "python",
   "nbconvert_exporter": "python",
   "pygments_lexer": "ipython3",
   "version": "3.8.5"
  }
 },
 "nbformat": 4,
 "nbformat_minor": 2
}
