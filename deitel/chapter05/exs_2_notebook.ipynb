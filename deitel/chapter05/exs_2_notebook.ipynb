{
 "metadata": {
  "language_info": {
   "codemirror_mode": {
    "name": "ipython",
    "version": 3
   },
   "file_extension": ".py",
   "mimetype": "text/x-python",
   "name": "python",
   "nbconvert_exporter": "python",
   "pygments_lexer": "ipython3",
   "version": "3.8.5-final"
  },
  "orig_nbformat": 2,
  "kernelspec": {
   "name": "python3",
   "display_name": "Python 3",
   "language": "python"
  }
 },
 "nbformat": 4,
 "nbformat_minor": 2,
 "cells": [
  {
   "source": [
    "# Short Exercises - Part II"
   ],
   "cell_type": "markdown",
   "metadata": {}
  },
  {
   "source": [
    "### Tuples as Invoices"
   ],
   "cell_type": "markdown",
   "metadata": {}
  },
  {
   "cell_type": "code",
   "execution_count": 59,
   "metadata": {},
   "outputs": [],
   "source": [
    "from decimal import Decimal, getcontext\n",
    "from operator import itemgetter\n",
    "import random\n",
    "\n",
    "getcontext().prec = 2"
   ]
  },
  {
   "cell_type": "code",
   "execution_count": 60,
   "metadata": {},
   "outputs": [],
   "source": [
    "invoices = [(83, 'Electric Sander', 7, Decimal('57.98')),\n",
    "            (24, 'Power Saw', 18, Decimal('99.99')),\n",
    "            (7, 'Sledge Hammer', 11, Decimal('21.50')),\n",
    "            (77, 'Hammer', 76, Decimal('11.99')),\n",
    "            (39, 'Jig Saw', 3, Decimal('79.50'))\n",
    "           ]"
   ]
  },
  {
   "cell_type": "code",
   "execution_count": 61,
   "metadata": {},
   "outputs": [
    {
     "output_type": "stream",
     "name": "stdout",
     "text": [
      "[(83, 'Electric Sander', 7, Decimal('57.98')), (77, 'Hammer', 76, Decimal('11.99')), (39, 'Jig Saw', 3, Decimal('79.50')), (24, 'Power Saw', 18, Decimal('99.99')), (7, 'Sledge Hammer', 11, Decimal('21.50'))]\n"
     ]
    }
   ],
   "source": [
    "# sort by part description\n",
    "by_part_desc = sorted(invoices, key=itemgetter(1))\n",
    "print(by_part_desc)"
   ]
  },
  {
   "cell_type": "code",
   "execution_count": 62,
   "metadata": {},
   "outputs": [
    {
     "output_type": "stream",
     "name": "stdout",
     "text": [
      "[(77, 'Hammer', 76, Decimal('11.99')), (7, 'Sledge Hammer', 11, Decimal('21.50')), (83, 'Electric Sander', 7, Decimal('57.98')), (39, 'Jig Saw', 3, Decimal('79.50')), (24, 'Power Saw', 18, Decimal('99.99'))]\n"
     ]
    }
   ],
   "source": [
    "# sort by price\n",
    "by_price = sorted(invoices, key=itemgetter(3))\n",
    "print(by_price)"
   ]
  },
  {
   "cell_type": "code",
   "execution_count": 63,
   "metadata": {},
   "outputs": [
    {
     "output_type": "stream",
     "name": "stdout",
     "text": [
      "[('Jig Saw', 3), ('Electric Sander', 7), ('Sledge Hammer', 11), ('Power Saw', 18), ('Hammer', 76)]\n"
     ]
    }
   ],
   "source": [
    "# map the invoices list to part_description and quantity\n",
    "# sort it by quantity\n",
    "\n",
    "part_desc_qty = sorted(list(map(lambda x: (itemgetter(1)(x), itemgetter(2)(x)), invoices)), key=itemgetter(1))\n",
    "print(part_desc_qty)"
   ]
  },
  {
   "cell_type": "code",
   "execution_count": 64,
   "metadata": {},
   "outputs": [
    {
     "output_type": "stream",
     "name": "stdout",
     "text": [
      "[('Sledge Hammer', Decimal('236.50')), ('Jig Saw', Decimal('238.50')), ('Electric Sander', Decimal('405.86')), ('Hammer', Decimal('911.24')), ('Power Saw', Decimal('1799.82'))]\n"
     ]
    }
   ],
   "source": [
    "# map the invoices to description and value (qty * price)\n",
    "# sort it by value\n",
    "def value(part, description, qty, price):\n",
    "    '''Returns a tuple with description and value'''\n",
    "    return (description, qty * price)\n",
    "\n",
    "descr_value = sorted(list(map(lambda x: value(*x), invoices)), key=itemgetter(1))\n",
    "print(desc_value)"
   ]
  },
  {
   "cell_type": "code",
   "execution_count": 65,
   "metadata": {},
   "outputs": [
    {
     "output_type": "stream",
     "name": "stdout",
     "text": [
      "[('Sledge Hammer', Decimal('236.50')), ('Jig Saw', Decimal('238.50')), ('Electric Sander', Decimal('405.86'))]\n"
     ]
    }
   ],
   "source": [
    "# filter the invoices with values in the range 200 to $500\n",
    "inv_200_500 = list(filter(lambda x: Decimal('200') <= itemgetter(1)(x) <= Decimal('500'), descr_value))\n",
    "print(inv_200_500)"
   ]
  },
  {
   "source": [
    "### Sorting Letters And Removing Duplicates"
   ],
   "cell_type": "markdown",
   "metadata": {}
  },
  {
   "cell_type": "code",
   "execution_count": 66,
   "metadata": {},
   "outputs": [],
   "source": [
    "def no_dups_func(seq):\n",
    "    '''Eliminates duplicate items'''\n",
    "    if seq == []:\n",
    "        return []\n",
    "    else:\n",
    "        head, *tail = seq\n",
    "        f_seq = list(filter(lambda x: x != head, tail))\n",
    "        seq = [head] + no_dups_func(f_seq)\n",
    "        print(seq)\n",
    "    return seq"
   ]
  },
  {
   "cell_type": "code",
   "execution_count": 73,
   "metadata": {},
   "outputs": [
    {
     "output_type": "execute_result",
     "data": {
      "text/plain": [
       "['a',\n",
       " 'c',\n",
       " 'e',\n",
       " 'd',\n",
       " 'd',\n",
       " 'c',\n",
       " 'b',\n",
       " 'f',\n",
       " 'c',\n",
       " 'c',\n",
       " 'f',\n",
       " 'e',\n",
       " 'c',\n",
       " 'f',\n",
       " 'b',\n",
       " 'c',\n",
       " 'd',\n",
       " 'b',\n",
       " 'e',\n",
       " 'd']"
      ]
     },
     "metadata": {},
     "execution_count": 73
    }
   ],
   "source": [
    "letters = [random.randrange(ord('a'), ord('g')) for _ in range(20)]\n",
    "letters = list(map(chr, letters))\n",
    "letters"
   ]
  },
  {
   "cell_type": "code",
   "execution_count": 76,
   "metadata": {},
   "outputs": [
    {
     "output_type": "stream",
     "name": "stdout",
     "text": [
      "['a', 'b', 'b', 'b', 'c', 'c', 'c', 'c', 'c', 'c', 'd', 'd', 'd', 'd', 'e', 'e', 'e', 'f', 'f', 'f']\n"
     ]
    }
   ],
   "source": [
    "ascending_letters = sorted(letters)\n",
    "print(ascending_letters)"
   ]
  },
  {
   "cell_type": "code",
   "execution_count": 79,
   "metadata": {},
   "outputs": [
    {
     "output_type": "stream",
     "name": "stdout",
     "text": [
      "['f', 'f', 'f', 'e', 'e', 'e', 'd', 'd', 'd', 'd', 'c', 'c', 'c', 'c', 'c', 'c', 'b', 'b', 'b', 'a']\n"
     ]
    }
   ],
   "source": [
    "descending_letters = sorted(letters, reverse=True)\n",
    "print(descending_letters)"
   ]
  },
  {
   "cell_type": "code",
   "execution_count": 80,
   "metadata": {},
   "outputs": [
    {
     "output_type": "stream",
     "name": "stdout",
     "text": [
      "['f']\n['b', 'f']\n['d', 'b', 'f']\n['e', 'd', 'b', 'f']\n['c', 'e', 'd', 'b', 'f']\n['a', 'c', 'e', 'd', 'b', 'f']\n"
     ]
    },
    {
     "output_type": "execute_result",
     "data": {
      "text/plain": [
       "['a', 'b', 'c', 'd', 'e', 'f']"
      ]
     },
     "metadata": {},
     "execution_count": 80
    }
   ],
   "source": [
    "unique_ascending = sorted(no_dups_func(letters))\n",
    "unique_ascending"
   ]
  },
  {
   "source": [
    "### Filter/Map Performance"
   ],
   "cell_type": "markdown",
   "metadata": {}
  },
  {
   "cell_type": "code",
   "execution_count": 88,
   "metadata": {},
   "outputs": [],
   "source": [
    "# check the number of calls and compare\n",
    "# filter -> map and map -> filter\n",
    "\n",
    "numbers = [10, 3, 7, 1, 9, 4, 2, 8, 5, 6]"
   ]
  },
  {
   "cell_type": "code",
   "execution_count": 92,
   "metadata": {},
   "outputs": [],
   "source": [
    "def squares(x):\n",
    "    print('Called squares')\n",
    "    return x ** 2\n",
    "\n",
    "\n",
    "def is_odd(x):\n",
    "    print('Called is_odd')\n",
    "    return x % 2 != 0"
   ]
  },
  {
   "cell_type": "code",
   "execution_count": 93,
   "metadata": {},
   "outputs": [
    {
     "output_type": "stream",
     "name": "stdout",
     "text": [
      "Called is_odd\nCalled is_odd\nCalled squares\nCalled is_odd\nCalled squares\nCalled is_odd\nCalled squares\nCalled is_odd\nCalled squares\nCalled is_odd\nCalled is_odd\nCalled is_odd\nCalled is_odd\nCalled squares\nCalled is_odd\n"
     ]
    },
    {
     "output_type": "execute_result",
     "data": {
      "text/plain": [
       "[9, 49, 1, 81, 25]"
      ]
     },
     "metadata": {},
     "execution_count": 93
    }
   ],
   "source": [
    "# calling map first\n",
    "list(map(squares,\n",
    "     filter(is_odd, numbers)))"
   ]
  },
  {
   "cell_type": "code",
   "execution_count": 94,
   "metadata": {},
   "outputs": [
    {
     "output_type": "stream",
     "name": "stdout",
     "text": [
      "Called squares\nCalled is_odd\nCalled squares\nCalled is_odd\nCalled squares\nCalled is_odd\nCalled squares\nCalled is_odd\nCalled squares\nCalled is_odd\nCalled squares\nCalled is_odd\nCalled squares\nCalled is_odd\nCalled squares\nCalled is_odd\nCalled squares\nCalled is_odd\nCalled squares\nCalled is_odd\n"
     ]
    },
    {
     "output_type": "execute_result",
     "data": {
      "text/plain": [
       "[9, 49, 1, 81, 25]"
      ]
     },
     "metadata": {},
     "execution_count": 94
    }
   ],
   "source": [
    "# calling filter first\n",
    "list(filter(is_odd,\n",
    "     map(squares, numbers)))"
   ]
  },
  {
   "source": [
    "### Summing the Triples of the Even Integers from 2 through 10"
   ],
   "cell_type": "markdown",
   "metadata": {}
  },
  {
   "cell_type": "code",
   "execution_count": 118,
   "metadata": {},
   "outputs": [
    {
     "output_type": "stream",
     "name": "stdout",
     "text": [
      "Called is_odd\nCalled is_odd\nCalled is_odd\nCalled is_odd\nCalled is_odd\nCalled is_odd\nCalled is_odd\nCalled is_odd\nCalled is_odd\nCalled is_odd\n"
     ]
    },
    {
     "output_type": "execute_result",
     "data": {
      "text/plain": [
       "90"
      ]
     },
     "metadata": {},
     "execution_count": 118
    }
   ],
   "source": [
    "integers = list(range(1, 11))\n",
    "# using filter and map\n",
    "sum_of_triples_evens = sum(list(map(lambda x: x * 3,\n",
    "                                filter(lambda x: is_odd(x) == False, integers))))\n",
    "\n",
    "sum_of_triples_evens"
   ]
  },
  {
   "cell_type": "code",
   "execution_count": 140,
   "metadata": {},
   "outputs": [],
   "source": [
    "def display_table(td_list):\n",
    "    rows = len(td_list)\n",
    "    columns = max(list(map(len, td_list)))\n",
    "    \n",
    "    # print column numbers\n",
    "    cl_nums = '\\t'\n",
    "    for c in range(0, columns):\n",
    "        cl_nums += f'{c}\\t'\n",
    "    \n",
    "    print(cl_nums)\n",
    "    print()\n",
    "\n",
    "    # print rows and numbers\n",
    "    row_nums = ''\n",
    "\n",
    "    for r, row in enumerate(td_list):\n",
    "        row_nums += f'{r}\\t'\n",
    "        for n in row:\n",
    "            row_nums += f'{n}\\t'\n",
    "        row_nums += '\\n'\n",
    "    print(row_nums)\n",
    "    \n",
    "\n",
    "    print(f'Number of rows: {rows}')\n",
    "    print(f'Number of columns {columns}')\n",
    "\n",
    "\n",
    "\n"
   ]
  },
  {
   "cell_type": "code",
   "execution_count": 141,
   "metadata": {},
   "outputs": [
    {
     "output_type": "stream",
     "name": "stdout",
     "text": [
      "\t0\t1\t2\t3\t4\t5\t\n\n0\t4\t4\t3\t4\t2\t3\t\n1\t4\t5\t6\t6\t6\t6\t\n2\t67\t54\t43\t12\t22\t67\t\n\nNumber of rows: 3\nNumber of columns 6\n"
     ]
    }
   ],
   "source": [
    "display_table([[4,4,3,4,2,3],[4,5,6,6,6,6], [67, 54, 43, 12, 22, 67]])"
   ]
  },
  {
   "cell_type": "code",
   "execution_count": null,
   "metadata": {},
   "outputs": [],
   "source": []
  }
 ]
}