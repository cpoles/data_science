{
 "cells": [
  {
   "cell_type": "markdown",
   "id": "large-leather",
   "metadata": {},
   "source": [
    "# Chapter 08 - Short Exercises - Part I "
   ]
  },
  {
   "cell_type": "code",
   "execution_count": null,
   "id": "talented-cemetery",
   "metadata": {},
   "outputs": [],
   "source": [
    "for char in range(0, 255):\n",
    "    print(f'{char:c}')"
   ]
  },
  {
   "cell_type": "code",
   "execution_count": null,
   "id": "connected-immunology",
   "metadata": {},
   "outputs": [],
   "source": []
  }
 ],
 "metadata": {
  "kernelspec": {
   "display_name": "Python 3",
   "language": "python",
   "name": "python3"
  },
  "language_info": {
   "codemirror_mode": {
    "name": "ipython",
    "version": 3
   },
   "file_extension": ".py",
   "mimetype": "text/x-python",
   "name": "python",
   "nbconvert_exporter": "python",
   "pygments_lexer": "ipython3",
   "version": "3.8.5"
  }
 },
 "nbformat": 4,
 "nbformat_minor": 5
}
