{
 "cells": [
  {
   "cell_type": "markdown",
   "id": "cosmetic-consent",
   "metadata": {},
   "source": [
    "# Data Analysis of the Book Pride and Prejudice"
   ]
  },
  {
   "cell_type": "markdown",
   "id": "conditional-possession",
   "metadata": {},
   "source": [
    "## Data Collection"
   ]
  },
  {
   "cell_type": "code",
   "execution_count": 22,
   "id": "metallic-minimum",
   "metadata": {},
   "outputs": [
    {
     "name": "stdout",
     "output_type": "stream",
     "text": [
      "14416\n"
     ]
    }
   ],
   "source": [
    "try:\n",
    "    with open('pride_prejudice.txt') as ppbook:\n",
    "        lines = ppbook.readlines()\n",
    "        print(len(lines))\n",
    "except FileNotFoundError:\n",
    "    print('File not found.')\n",
    "            "
   ]
  },
  {
   "cell_type": "code",
   "execution_count": 119,
   "id": "undefined-contamination",
   "metadata": {},
   "outputs": [
    {
     "data": {
      "text/plain": [
       "['      Chapter 1\\n',\n",
       " '\\n',\n",
       " '      It is a truth universally acknowledged, that a single man in\\n',\n",
       " '      possession of a good fortune, must be in want of a wife.\\n',\n",
       " '\\n',\n",
       " '      However little known the feelings or views of such a man may be\\n',\n",
       " '      on his first entering a neighbourhood, this truth is so well\\n',\n",
       " '      fixed in the minds of the surrounding families, that he is\\n',\n",
       " '      considered the rightful property of some one or other of their\\n',\n",
       " '      daughters.\\n',\n",
       " '\\n',\n",
       " '      “My dear Mr. Bennet,” said his lady to him one day, “have you\\n',\n",
       " '      heard that Netherfield Park is let at last?”\\n',\n",
       " '\\n',\n",
       " '      Mr. Bennet replied that he had not.\\n']"
      ]
     },
     "execution_count": 119,
     "metadata": {},
     "output_type": "execute_result"
    }
   ],
   "source": [
    "lines[0:15]"
   ]
  },
  {
   "cell_type": "markdown",
   "id": "incomplete-hometown",
   "metadata": {},
   "source": [
    "## Data Munging"
   ]
  },
  {
   "cell_type": "code",
   "execution_count": 24,
   "id": "continuing-warner",
   "metadata": {},
   "outputs": [],
   "source": [
    "# remove punctuation and special characters\n",
    "import re"
   ]
  },
  {
   "cell_type": "markdown",
   "id": "metric-working",
   "metadata": {},
   "source": [
    "### Data Cleaning"
   ]
  },
  {
   "cell_type": "code",
   "execution_count": 161,
   "id": "threaded-michael",
   "metadata": {},
   "outputs": [],
   "source": [
    "def clean_line(line: str) -> str:\n",
    "    # remove trailing and leading spaces\n",
    "    # remove punctuation\n",
    "    return re.sub(r'[\\n,;`:.\"“”‘’„”«»><{}\\[\\]|+=_()*&%$#@!~\\'?]', '', line.strip())"
   ]
  },
  {
   "cell_type": "code",
   "execution_count": 162,
   "id": "searching-clerk",
   "metadata": {},
   "outputs": [],
   "source": [
    "clean_lines = list(map(clean_line, lines))"
   ]
  },
  {
   "cell_type": "code",
   "execution_count": 163,
   "id": "available-junior",
   "metadata": {},
   "outputs": [
    {
     "data": {
      "text/plain": [
       "['Chapter 1',\n",
       " '',\n",
       " 'It is a truth universally acknowledged that a single man in',\n",
       " 'possession of a good fortune must be in want of a wife',\n",
       " '',\n",
       " 'However little known the feelings or views of such a man may be',\n",
       " 'on his first entering a neighbourhood this truth is so well',\n",
       " 'fixed in the minds of the surrounding families that he is',\n",
       " 'considered the rightful property of some one or other of their',\n",
       " 'daughters',\n",
       " '',\n",
       " 'My dear Mr Bennet said his lady to him one day have you',\n",
       " 'heard that Netherfield Park is let at last',\n",
       " '',\n",
       " 'Mr Bennet replied that he had not']"
      ]
     },
     "execution_count": 163,
     "metadata": {},
     "output_type": "execute_result"
    }
   ],
   "source": [
    "clean_lines[0:15]"
   ]
  },
  {
   "cell_type": "code",
   "execution_count": 164,
   "id": "noticed-constant",
   "metadata": {},
   "outputs": [],
   "source": [
    "# remove empty lines\n",
    "clean_lines0 = [line for line in clean_lines if not line == '']"
   ]
  },
  {
   "cell_type": "code",
   "execution_count": 165,
   "id": "duplicate-threat",
   "metadata": {},
   "outputs": [
    {
     "name": "stdout",
     "output_type": "stream",
     "text": [
      "559 µs ± 9.49 µs per loop (mean ± std. dev. of 7 runs, 1000 loops each)\n"
     ]
    }
   ],
   "source": [
    "# time using list comprehension\n",
    "%timeit [line for line in clean_lines if not line == '']"
   ]
  },
  {
   "cell_type": "code",
   "execution_count": 166,
   "id": "electoral-saskatchewan",
   "metadata": {},
   "outputs": [],
   "source": [
    "clean_lines1 = list(filter(lambda x: x != '', clean_lines))"
   ]
  },
  {
   "cell_type": "code",
   "execution_count": 167,
   "id": "steady-beach",
   "metadata": {},
   "outputs": [
    {
     "name": "stdout",
     "output_type": "stream",
     "text": [
      "1.1 ms ± 11.3 µs per loop (mean ± std. dev. of 7 runs, 1000 loops each)\n"
     ]
    }
   ],
   "source": [
    "# time using filter\n",
    "%timeit list(filter(lambda x: x != '', clean_lines))"
   ]
  },
  {
   "cell_type": "code",
   "execution_count": 173,
   "id": "endangered-scale",
   "metadata": {},
   "outputs": [],
   "source": [
    "clean_lines2 = [line for line in clean_lines if not re.fullmatch(r'^\\s*$', line)]"
   ]
  },
  {
   "cell_type": "code",
   "execution_count": 174,
   "id": "higher-passing",
   "metadata": {},
   "outputs": [
    {
     "name": "stdout",
     "output_type": "stream",
     "text": [
      "9.78 ms ± 140 µs per loop (mean ± std. dev. of 7 runs, 100 loops each)\n"
     ]
    }
   ],
   "source": [
    "# time using regex and list comprehension\n",
    "%timeit [line for line in clean_lines if not re.fullmatch(r'^\\s*$', line)]"
   ]
  },
  {
   "cell_type": "code",
   "execution_count": 169,
   "id": "enhanced-republic",
   "metadata": {},
   "outputs": [
    {
     "data": {
      "text/plain": [
       "['Chapter 1',\n",
       " 'It is a truth universally acknowledged that a single man in',\n",
       " 'possession of a good fortune must be in want of a wife',\n",
       " 'However little known the feelings or views of such a man may be',\n",
       " 'on his first entering a neighbourhood this truth is so well',\n",
       " 'fixed in the minds of the surrounding families that he is',\n",
       " 'considered the rightful property of some one or other of their',\n",
       " 'daughters',\n",
       " 'My dear Mr Bennet said his lady to him one day have you',\n",
       " 'heard that Netherfield Park is let at last']"
      ]
     },
     "execution_count": 169,
     "metadata": {},
     "output_type": "execute_result"
    }
   ],
   "source": [
    "clean_lines0[0:10]"
   ]
  },
  {
   "cell_type": "code",
   "execution_count": 170,
   "id": "cutting-decimal",
   "metadata": {},
   "outputs": [
    {
     "data": {
      "text/plain": [
       "['Chapter 1',\n",
       " 'It is a truth universally acknowledged that a single man in',\n",
       " 'possession of a good fortune must be in want of a wife',\n",
       " 'However little known the feelings or views of such a man may be',\n",
       " 'on his first entering a neighbourhood this truth is so well',\n",
       " 'fixed in the minds of the surrounding families that he is',\n",
       " 'considered the rightful property of some one or other of their',\n",
       " 'daughters',\n",
       " 'My dear Mr Bennet said his lady to him one day have you',\n",
       " 'heard that Netherfield Park is let at last']"
      ]
     },
     "execution_count": 170,
     "metadata": {},
     "output_type": "execute_result"
    }
   ],
   "source": [
    "clean_lines1[0:10]"
   ]
  },
  {
   "cell_type": "code",
   "execution_count": 178,
   "id": "metric-symphony",
   "metadata": {},
   "outputs": [
    {
     "data": {
      "text/plain": [
       "['Chapter 1',\n",
       " 'It is a truth universally acknowledged that a single man in',\n",
       " 'possession of a good fortune must be in want of a wife',\n",
       " 'However little known the feelings or views of such a man may be',\n",
       " 'on his first entering a neighbourhood this truth is so well',\n",
       " 'fixed in the minds of the surrounding families that he is',\n",
       " 'considered the rightful property of some one or other of their',\n",
       " 'daughters',\n",
       " 'My dear Mr Bennet said his lady to him one day have you',\n",
       " 'heard that Netherfield Park is let at last']"
      ]
     },
     "execution_count": 178,
     "metadata": {},
     "output_type": "execute_result"
    }
   ],
   "source": [
    "clean_lines2[0:10]"
   ]
  },
  {
   "cell_type": "code",
   "execution_count": 176,
   "id": "included-sullivan",
   "metadata": {},
   "outputs": [
    {
     "data": {
      "text/plain": [
       "True"
      ]
     },
     "execution_count": 176,
     "metadata": {},
     "output_type": "execute_result"
    }
   ],
   "source": [
    "clean_lines0 == clean_lines2 and clean_lines1 == clean_lines0"
   ]
  },
  {
   "cell_type": "markdown",
   "id": "twenty-formation",
   "metadata": {},
   "source": [
    "### Data Manipulation"
   ]
  },
  {
   "cell_type": "code",
   "execution_count": 221,
   "id": "retired-globe",
   "metadata": {},
   "outputs": [],
   "source": [
    "# Tokenize each sentence into words\n",
    "words_list = list(map(lambda x: x.split(), clean_lines0))\n",
    "# make every word the same case (upper or lower)\n",
    "def list_to_lower(seq: list): return list(map(lambda x: x.lower(), seq))\n",
    "words_list = list(map(list_to_lower , words_list))"
   ]
  },
  {
   "cell_type": "code",
   "execution_count": 223,
   "id": "processed-exhibition",
   "metadata": {},
   "outputs": [],
   "source": [
    "# flattening the words_list\n",
    "# concatenate all lists of words\n",
    "wlist_flat = [word for words in words_list for word in words]"
   ]
  },
  {
   "cell_type": "code",
   "execution_count": 232,
   "id": "raised-chapter",
   "metadata": {},
   "outputs": [
    {
     "data": {
      "text/plain": [
       "['chapter',\n",
       " '1',\n",
       " 'it',\n",
       " 'is',\n",
       " 'a',\n",
       " 'truth',\n",
       " 'universally',\n",
       " 'acknowledged',\n",
       " 'that',\n",
       " 'a',\n",
       " 'single',\n",
       " 'man',\n",
       " 'in',\n",
       " 'possession',\n",
       " 'of']"
      ]
     },
     "execution_count": 232,
     "metadata": {},
     "output_type": "execute_result"
    }
   ],
   "source": [
    "wlist_flat[0:15]"
   ]
  },
  {
   "cell_type": "code",
   "execution_count": 225,
   "id": "critical-better",
   "metadata": {},
   "outputs": [
    {
     "name": "stdout",
     "output_type": "stream",
     "text": [
      "3.83 ms ± 161 µs per loop (mean ± std. dev. of 7 runs, 100 loops each)\n"
     ]
    }
   ],
   "source": [
    "# time flattening method 1\n",
    "%timeit [word for words in words_list for word in words]"
   ]
  },
  {
   "cell_type": "code",
   "execution_count": 231,
   "id": "forbidden-julian",
   "metadata": {},
   "outputs": [],
   "source": [
    "# time flattening method 2\n",
    "flattened_list = []"
   ]
  },
  {
   "cell_type": "code",
   "execution_count": 229,
   "id": "widespread-zambia",
   "metadata": {},
   "outputs": [
    {
     "name": "stdout",
     "output_type": "stream",
     "text": [
      "7.61 ms ± 26.5 µs per loop (mean ± std. dev. of 7 runs, 100 loops each)\n"
     ]
    }
   ],
   "source": [
    "%%timeit \n",
    "for x in words_list:\n",
    "    for y in x:\n",
    "        flattened_list.append(y)"
   ]
  },
  {
   "cell_type": "code",
   "execution_count": 230,
   "id": "prompt-session",
   "metadata": {},
   "outputs": [
    {
     "data": {
      "text/plain": [
       "['chapter',\n",
       " '1',\n",
       " 'it',\n",
       " 'is',\n",
       " 'a',\n",
       " 'truth',\n",
       " 'universally',\n",
       " 'acknowledged',\n",
       " 'that',\n",
       " 'a',\n",
       " 'single',\n",
       " 'man',\n",
       " 'in',\n",
       " 'possession',\n",
       " 'of']"
      ]
     },
     "execution_count": 230,
     "metadata": {},
     "output_type": "execute_result"
    }
   ],
   "source": [
    "flattened_list[0:15]"
   ]
  },
  {
   "cell_type": "markdown",
   "id": "curious-healing",
   "metadata": {},
   "source": [
    "### Data Statistics"
   ]
  },
  {
   "cell_type": "code",
   "execution_count": 236,
   "id": "micro-planning",
   "metadata": {},
   "outputs": [
    {
     "data": {
      "text/plain": [
       "7111"
      ]
     },
     "execution_count": 236,
     "metadata": {},
     "output_type": "execute_result"
    }
   ],
   "source": [
    "# create a set to get unique words\n",
    "uniq_w = set(wlist_flat)\n",
    "len(uniq_w)\n",
    "# create a dictionary with unique word: [occurence]\n",
    "# go through the list and count the number of occurrences of each word and update the dictionary\n"
   ]
  },
  {
   "cell_type": "code",
   "execution_count": 182,
   "id": "accessory-evidence",
   "metadata": {},
   "outputs": [],
   "source": [
    "# get average sentence length\n",
    "# map list to a list of its sublists lengths\n",
    "# sum the mapped list\n",
    "sentence_len = sum(list(map(lambda x: len(x), clean_lines0)))\n",
    "avg_sent_len = sentence_len // len(clean_lines0)"
   ]
  },
  {
   "cell_type": "code",
   "execution_count": 185,
   "id": "matched-mailing",
   "metadata": {},
   "outputs": [
    {
     "name": "stdout",
     "output_type": "stream",
     "text": [
      "Average Sentence Length: 55 characters\n"
     ]
    }
   ],
   "source": [
    "print(f'Average Sentence Length: {avg_sent_len} characters')"
   ]
  },
  {
   "cell_type": "code",
   "execution_count": null,
   "id": "technical-stock",
   "metadata": {},
   "outputs": [],
   "source": []
  }
 ],
 "metadata": {
  "kernelspec": {
   "display_name": "Python 3",
   "language": "python",
   "name": "python3"
  },
  "language_info": {
   "codemirror_mode": {
    "name": "ipython",
    "version": 3
   },
   "file_extension": ".py",
   "mimetype": "text/x-python",
   "name": "python",
   "nbconvert_exporter": "python",
   "pygments_lexer": "ipython3",
   "version": "3.8.5"
  }
 },
 "nbformat": 4,
 "nbformat_minor": 5
}
