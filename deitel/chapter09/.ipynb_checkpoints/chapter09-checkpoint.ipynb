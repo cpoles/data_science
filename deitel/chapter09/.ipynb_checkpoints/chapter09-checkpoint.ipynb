{
 "cells": [
  {
   "cell_type": "markdown",
   "id": "oriented-syndrome",
   "metadata": {},
   "source": [
    "# Chapter 09 - IPython Sessions"
   ]
  },
  {
   "cell_type": "markdown",
   "id": "respiratory-anatomy",
   "metadata": {
    "heading_collapsed": "true"
   },
   "source": [
    "## Writing to a Text File:"
   ]
  },
  {
   "cell_type": "code",
   "execution_count": 1,
   "id": "bulgarian-campus",
   "metadata": {},
   "outputs": [],
   "source": [
    "# create accounts.txt and 5 client records\n",
    "with open('accounts.txt', mode='w') as accounts:\n",
    "    accounts.write('100 Jones 24.98\\n')\n",
    "    accounts.write('200 Doe 345.67\\n')\n",
    "    accounts.write('300 White 0.00\\n')\n",
    "    accounts.write('400 Stone -42.16\\n')\n",
    "    accounts.write('500 Rich 224.62\\n')"
   ]
  },
  {
   "cell_type": "code",
   "execution_count": 4,
   "id": "olympic-negative",
   "metadata": {},
   "outputs": [],
   "source": [
    "# write three records of student's grades to a file called grades.txt\n",
    "\n",
    "with open('grades.txt', mode='w') as accounts:\n",
    "    accounts.write('1 Red A\\n')\n",
    "    accounts.write('2 Green B\\n')\n",
    "    accounts.write('3 White A\\n')"
   ]
  },
  {
   "cell_type": "markdown",
   "id": "enhanced-polyester",
   "metadata": {
    "heading_collapsed": "true"
   },
   "source": [
    "## Reading Data from a Text File"
   ]
  },
  {
   "cell_type": "code",
   "execution_count": 5,
   "id": "composed-three",
   "metadata": {},
   "outputs": [
    {
     "name": "stdout",
     "output_type": "stream",
     "text": [
      "Account   Name         Balance\n",
      "100       Jones          24.98\n",
      "200       Doe           345.67\n",
      "300       White           0.00\n",
      "400       Stone         -42.16\n",
      "500       Rich          224.62\n"
     ]
    }
   ],
   "source": [
    "# read data from accounts.txt\n",
    "with open('accounts.txt', mode='r') as accounts:\n",
    "    print(f'{\"Account\":<10}{\"Name\":<10}{\"Balance\":>10}')\n",
    "    for record in accounts:\n",
    "        account, name, balance = record.split()\n",
    "        print(f'{account:<10}{name:<10}{balance:>10}')"
   ]
  },
  {
   "cell_type": "markdown",
   "id": "cosmetic-zambia",
   "metadata": {},
   "source": [
    "### Self Check"
   ]
  },
  {
   "cell_type": "code",
   "execution_count": 7,
   "id": "cardiac-liabilities",
   "metadata": {},
   "outputs": [
    {
     "name": "stdout",
     "output_type": "stream",
     "text": [
      "ID   Name       Grade\n",
      "1    Red            A\n",
      "2    Green          B\n",
      "3    White          A\n"
     ]
    }
   ],
   "source": [
    "# read data from grades.txt\n",
    "with open('grades.txt', mode='r') as grades:\n",
    "    print(f'{\"ID\":<5}{\"Name\":<10}{\"Grade\":>6}')\n",
    "    for student in grades:\n",
    "        st_id, name, grade = student.split()\n",
    "        print(f'{st_id:<5}{name:<10}{grade:>6}')"
   ]
  },
  {
   "cell_type": "markdown",
   "id": "advised-costa",
   "metadata": {
    "heading_collapsed": "true"
   },
   "source": [
    "## Updating Text Files"
   ]
  },
  {
   "cell_type": "code",
   "execution_count": 8,
   "id": "anonymous-insurance",
   "metadata": {},
   "outputs": [],
   "source": [
    "accounts = open('accounts.txt', 'r')"
   ]
  },
  {
   "cell_type": "code",
   "execution_count": 11,
   "id": "central-spine",
   "metadata": {},
   "outputs": [],
   "source": [
    "temp_file = open('temp_file.txt', 'w') # create a temp file"
   ]
  },
  {
   "cell_type": "code",
   "execution_count": 12,
   "id": "tribal-steel",
   "metadata": {},
   "outputs": [],
   "source": [
    "with accounts, temp_file:\n",
    "    for record in accounts:\n",
    "        account, name, balance = record.split()\n",
    "        if account != '300':\n",
    "            temp_file.write(record)\n",
    "        else:\n",
    "            new_record = ' '.join([account, 'Williams', balance])\n",
    "            temp_file.write(new_record + '\\n')"
   ]
  },
  {
   "cell_type": "markdown",
   "id": "decent-report",
   "metadata": {
    "heading_collapsed": "true"
   },
   "source": [
    "## Serialization with JSON"
   ]
  },
  {
   "cell_type": "code",
   "execution_count": 13,
   "id": "focused-beijing",
   "metadata": {},
   "outputs": [],
   "source": [
    "# python standard library module json\n",
    "accounts_dict = {'accounts': [\n",
    "    {'account': 100, 'name': 'Jones', 'balance': 24.98},\n",
    "    {'account': 200, 'name': 'Doe', 'balance': 345.67}]}"
   ]
  },
  {
   "cell_type": "code",
   "execution_count": 15,
   "id": "reported-mailing",
   "metadata": {},
   "outputs": [],
   "source": [
    "# serializing an object to JSON\n",
    "import json"
   ]
  },
  {
   "cell_type": "code",
   "execution_count": 16,
   "id": "innocent-spending",
   "metadata": {},
   "outputs": [],
   "source": [
    "with open('accounts.json', mode='w') as accounts:\n",
    "    json.dump(accounts_dict, accounts)"
   ]
  },
  {
   "cell_type": "code",
   "execution_count": 17,
   "id": "included-romantic",
   "metadata": {},
   "outputs": [],
   "source": [
    "# deserializing the JSON text\n",
    "with open('accounts.json', 'r') as accounts:\n",
    "    accounts_json = json.load(accounts)"
   ]
  },
  {
   "cell_type": "code",
   "execution_count": 20,
   "id": "turkish-sympathy",
   "metadata": {},
   "outputs": [
    {
     "data": {
      "text/plain": [
       "{'accounts': [{'account': 100, 'name': 'Jones', 'balance': 24.98},\n",
       "  {'account': 200, 'name': 'Doe', 'balance': 345.67}]}"
      ]
     },
     "execution_count": 20,
     "metadata": {},
     "output_type": "execute_result"
    }
   ],
   "source": [
    "accounts_json"
   ]
  },
  {
   "cell_type": "code",
   "execution_count": 21,
   "id": "united-plymouth",
   "metadata": {},
   "outputs": [
    {
     "data": {
      "text/plain": [
       "[{'account': 100, 'name': 'Jones', 'balance': 24.98},\n",
       " {'account': 200, 'name': 'Doe', 'balance': 345.67}]"
      ]
     },
     "execution_count": 21,
     "metadata": {},
     "output_type": "execute_result"
    }
   ],
   "source": [
    "# get list of dicts associated with the 'accounts' key\n",
    "accounts_json['accounts']"
   ]
  },
  {
   "cell_type": "code",
   "execution_count": 22,
   "id": "selective-projector",
   "metadata": {},
   "outputs": [
    {
     "data": {
      "text/plain": [
       "{'account': 100, 'name': 'Jones', 'balance': 24.98}"
      ]
     },
     "execution_count": 22,
     "metadata": {},
     "output_type": "execute_result"
    }
   ],
   "source": [
    "accounts_json['accounts'][0]"
   ]
  },
  {
   "cell_type": "code",
   "execution_count": 23,
   "id": "atlantic-dubai",
   "metadata": {},
   "outputs": [
    {
     "data": {
      "text/plain": [
       "{'account': 200, 'name': 'Doe', 'balance': 345.67}"
      ]
     },
     "execution_count": 23,
     "metadata": {},
     "output_type": "execute_result"
    }
   ],
   "source": [
    "accounts_json['accounts'][1]"
   ]
  },
  {
   "cell_type": "code",
   "execution_count": 24,
   "id": "searching-negotiation",
   "metadata": {},
   "outputs": [
    {
     "name": "stdout",
     "output_type": "stream",
     "text": [
      "{\n",
      "    \"accounts\": [\n",
      "        {\n",
      "            \"account\": 100,\n",
      "            \"name\": \"Jones\",\n",
      "            \"balance\": 24.98\n",
      "        },\n",
      "        {\n",
      "            \"account\": 200,\n",
      "            \"name\": \"Doe\",\n",
      "            \"balance\": 345.67\n",
      "        }\n",
      "    ]\n",
      "}\n"
     ]
    }
   ],
   "source": [
    "# Displaying the JSON Text\n",
    "# using dumps with load to do a 'pretty printing'\n",
    "with open('accounts.json', 'r') as accounts:\n",
    "    print(json.dumps(json.load(accounts), indent=4))"
   ]
  },
  {
   "cell_type": "markdown",
   "id": "young-cabinet",
   "metadata": {
    "heading_collapsed": "true"
   },
   "source": [
    "### Self Check"
   ]
  },
  {
   "cell_type": "code",
   "execution_count": 25,
   "id": "miniature-pattern",
   "metadata": {},
   "outputs": [],
   "source": [
    "grades_dict = {'gradebook':\n",
    "              [{'student_id': 1, 'name': 'Red', 'grade': 'A'},\n",
    "               {'student_id': 2, 'name': 'Green', 'grade': 'B'},\n",
    "               {'student_id': 3, 'name': 'White', 'grade': 'A'}]}"
   ]
  },
  {
   "cell_type": "code",
   "execution_count": 28,
   "id": "quality-hundred",
   "metadata": {},
   "outputs": [],
   "source": [
    "# serialising to JSON\n",
    "with open('grades.json', 'w') as grades:\n",
    "    json.dump(grades_dict, grades)\n",
    "    "
   ]
  },
  {
   "cell_type": "code",
   "execution_count": 29,
   "id": "continuous-bahrain",
   "metadata": {},
   "outputs": [],
   "source": [
    "# deserialising to Python object\n",
    "with open('grades.json', 'r') as grades:\n",
    "    grades_json = json.load(grades)"
   ]
  },
  {
   "cell_type": "code",
   "execution_count": 32,
   "id": "facial-preference",
   "metadata": {},
   "outputs": [
    {
     "name": "stdout",
     "output_type": "stream",
     "text": [
      "{\n",
      "    \"gradebook\": [\n",
      "        {\n",
      "            \"student_id\": 1,\n",
      "            \"name\": \"Red\",\n",
      "            \"grade\": \"A\"\n",
      "        },\n",
      "        {\n",
      "            \"student_id\": 2,\n",
      "            \"name\": \"Green\",\n",
      "            \"grade\": \"B\"\n",
      "        },\n",
      "        {\n",
      "            \"student_id\": 3,\n",
      "            \"name\": \"White\",\n",
      "            \"grade\": \"A\"\n",
      "        }\n",
      "    ]\n",
      "}\n"
     ]
    }
   ],
   "source": [
    "# pretty print dic grades_json\n",
    "print(json.dumps(grades_json, indent=4))"
   ]
  },
  {
   "cell_type": "markdown",
   "id": "composite-ribbon",
   "metadata": {},
   "source": [
    "## Handling Exceptions"
   ]
  },
  {
   "cell_type": "code",
   "execution_count": null,
   "id": "optimum-flight",
   "metadata": {},
   "outputs": [],
   "source": []
  }
 ],
 "metadata": {
  "kernelspec": {
   "display_name": "Python 3",
   "language": "python",
   "name": "python3"
  },
  "language_info": {
   "codemirror_mode": {
    "name": "ipython",
    "version": 3
   },
   "file_extension": ".py",
   "mimetype": "text/x-python",
   "name": "python",
   "nbconvert_exporter": "python",
   "pygments_lexer": "ipython3",
   "version": "3.8.5"
  }
 },
 "nbformat": 4,
 "nbformat_minor": 5
}
