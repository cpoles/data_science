{
 "cells": [
  {
   "cell_type": "markdown",
   "id": "opponent-grave",
   "metadata": {},
   "source": [
    "### Chapter 09 - IPython Sessions"
   ]
  },
  {
   "cell_type": "markdown",
   "id": "senior-petite",
   "metadata": {},
   "source": [
    "#### Writing to a Text File:"
   ]
  },
  {
   "cell_type": "code",
   "execution_count": null,
   "id": "extraordinary-textbook",
   "metadata": {},
   "outputs": [],
   "source": [
    "# create accounts.txt and 5 client records\n",
    "with open('accounts.txt', mode='w') as accounts:\n",
    "    accounts.write('100 Jones 24.98\\n')\n",
    "    accounts.write('200 Doe 345.67\\n')\n",
    "    accounts.write('300 White 0.00\\n')\n",
    "    accounts.write('400 Stone -42.16\\n')\n",
    "    accounts.write('500 Rich 224)"
   ]
  }
 ],
 "metadata": {
  "kernelspec": {
   "display_name": "Python 3",
   "language": "python",
   "name": "python3"
  },
  "language_info": {
   "codemirror_mode": {
    "name": "ipython",
    "version": 3
   },
   "file_extension": ".py",
   "mimetype": "text/x-python",
   "name": "python",
   "nbconvert_exporter": "python",
   "pygments_lexer": "ipython3",
   "version": "3.8.5"
  }
 },
 "nbformat": 4,
 "nbformat_minor": 5
}
