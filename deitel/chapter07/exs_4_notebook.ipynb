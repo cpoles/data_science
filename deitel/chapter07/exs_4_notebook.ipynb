{
 "metadata": {
  "language_info": {
   "codemirror_mode": {
    "name": "ipython",
    "version": 3
   },
   "file_extension": ".py",
   "mimetype": "text/x-python",
   "name": "python",
   "nbconvert_exporter": "python",
   "pygments_lexer": "ipython3",
   "version": "3.8.5-final"
  },
  "orig_nbformat": 2,
  "kernelspec": {
   "name": "python3",
   "display_name": "Python 3",
   "language": "python"
  }
 },
 "nbformat": 4,
 "nbformat_minor": 2,
 "cells": [
  {
   "source": [
    "# Short Exercises - Part IV - Chapter 07"
   ],
   "cell_type": "markdown",
   "metadata": {}
  },
  {
   "source": [
    "### Shallow vs Deep Copy"
   ],
   "cell_type": "markdown",
   "metadata": {}
  },
  {
   "cell_type": "code",
   "execution_count": 38,
   "metadata": {},
   "outputs": [],
   "source": [
    "import copy as cp"
   ]
  },
  {
   "cell_type": "code",
   "execution_count": 39,
   "metadata": {},
   "outputs": [
    {
     "output_type": "execute_result",
     "data": {
      "text/plain": [
       "{'Sophia': [97, 88]}"
      ]
     },
     "metadata": {},
     "execution_count": 39
    }
   ],
   "source": [
    "dictionary = {'Sophia': [97, 88]}\n",
    "dictionary"
   ]
  },
  {
   "cell_type": "code",
   "execution_count": 40,
   "metadata": {},
   "outputs": [
    {
     "output_type": "execute_result",
     "data": {
      "text/plain": [
       "{'Sophia': [97, 88]}"
      ]
     },
     "metadata": {},
     "execution_count": 40
    }
   ],
   "source": [
    "# create a shallow copy of dictionary\n",
    "copy_dict = cp.copy(dictionary)\n",
    "copy_dict"
   ]
  },
  {
   "cell_type": "code",
   "execution_count": 45,
   "metadata": {},
   "outputs": [
    {
     "output_type": "execute_result",
     "data": {
      "text/plain": [
       "{'Sophia': [97, 88, 90]}"
      ]
     },
     "metadata": {},
     "execution_count": 45
    }
   ],
   "source": [
    "# create a deep copy of dictionary\n",
    "copy_dict_deep = cp.deepcopy(dictionary)\n",
    "copy_dict_deep"
   ]
  },
  {
   "cell_type": "code",
   "execution_count": 49,
   "metadata": {},
   "outputs": [
    {
     "output_type": "execute_result",
     "data": {
      "text/plain": [
       "{'Sophia': [97, 88]}"
      ]
     },
     "metadata": {},
     "execution_count": 49
    }
   ],
   "source": [
    "# changing original dictionary \n"
   ]
  },
  {
   "source": [
    "### Pandas Series"
   ],
   "cell_type": "markdown",
   "metadata": {}
  },
  {
   "cell_type": "code",
   "execution_count": 16,
   "metadata": {},
   "outputs": [],
   "source": [
    "import pandas as pd"
   ]
  },
  {
   "cell_type": "code",
   "execution_count": 17,
   "metadata": {},
   "outputs": [
    {
     "output_type": "execute_result",
     "data": {
      "text/plain": [
       "0     7\n",
       "1    11\n",
       "2    13\n",
       "3    17\n",
       "dtype: int64"
      ]
     },
     "metadata": {},
     "execution_count": 17
    }
   ],
   "source": [
    "series1 = pd.Series([7, 11, 13, 17])\n",
    "series1"
   ]
  },
  {
   "cell_type": "code",
   "execution_count": 18,
   "metadata": {},
   "outputs": [
    {
     "output_type": "execute_result",
     "data": {
      "text/plain": [
       "0    100.0\n",
       "1    100.0\n",
       "2    100.0\n",
       "3    100.0\n",
       "4    100.0\n",
       "dtype: float64"
      ]
     },
     "metadata": {},
     "execution_count": 18
    }
   ],
   "source": [
    "series2 = pd.Series(100.0, range(5))\n",
    "series2"
   ]
  },
  {
   "cell_type": "code",
   "execution_count": 19,
   "metadata": {},
   "outputs": [],
   "source": [
    "import numpy as np"
   ]
  },
  {
   "cell_type": "code",
   "execution_count": 20,
   "metadata": {},
   "outputs": [
    {
     "output_type": "execute_result",
     "data": {
      "text/plain": [
       "0     35\n",
       "1     14\n",
       "2     31\n",
       "3     77\n",
       "4     17\n",
       "5     30\n",
       "6     33\n",
       "7     93\n",
       "8     99\n",
       "9     72\n",
       "10    83\n",
       "11    88\n",
       "12     1\n",
       "13    96\n",
       "14    60\n",
       "15    38\n",
       "16     0\n",
       "17     8\n",
       "18    82\n",
       "19    64\n",
       "dtype: int64"
      ]
     },
     "metadata": {},
     "execution_count": 20
    }
   ],
   "source": [
    "series3 = pd.Series(np.random.randint(0, 101, 20))\n",
    "series3"
   ]
  },
  {
   "cell_type": "code",
   "execution_count": 21,
   "metadata": {},
   "outputs": [
    {
     "output_type": "execute_result",
     "data": {
      "text/plain": [
       "count    20.000000\n",
       "mean     51.050000\n",
       "std      33.934108\n",
       "min       0.000000\n",
       "25%      26.750000\n",
       "50%      49.000000\n",
       "75%      82.250000\n",
       "max      99.000000\n",
       "dtype: float64"
      ]
     },
     "metadata": {},
     "execution_count": 21
    }
   ],
   "source": [
    "series3.describe()"
   ]
  },
  {
   "cell_type": "code",
   "execution_count": 22,
   "metadata": {},
   "outputs": [
    {
     "output_type": "execute_result",
     "data": {
      "text/plain": [
       "Julie       98.6\n",
       "Charlie     98.9\n",
       "Sam        100.2\n",
       "Andrea      97.9\n",
       "dtype: float64"
      ]
     },
     "metadata": {},
     "execution_count": 22
    }
   ],
   "source": [
    "temperatures = pd.Series([98.6, 98.9, 100.2, 97.9], index=['Julie', 'Charlie', 'Sam', 'Andrea'])\n",
    "temperatures"
   ]
  },
  {
   "cell_type": "code",
   "execution_count": 23,
   "metadata": {},
   "outputs": [
    {
     "output_type": "execute_result",
     "data": {
      "text/plain": [
       "{'Julie': 98.6, 'Charlie': 98.9, 'Sam': 100.2, 'Andrea': 97.9}"
      ]
     },
     "metadata": {},
     "execution_count": 23
    }
   ],
   "source": [
    "# create a dic from the temperatures series\n",
    "temp_dic = {i : v for (i, v) in zip(temperatures.index, temperatures.values)}\n",
    "temp_dic"
   ]
  },
  {
   "cell_type": "code",
   "execution_count": 24,
   "metadata": {},
   "outputs": [],
   "source": [
    "# create a series form the dict temp_dic    "
   ]
  },
  {
   "cell_type": "code",
   "execution_count": 25,
   "metadata": {},
   "outputs": [
    {
     "output_type": "execute_result",
     "data": {
      "text/plain": [
       "Julie       98.6\n",
       "Charlie     98.9\n",
       "Sam        100.2\n",
       "Andrea      97.9\n",
       "dtype: float64"
      ]
     },
     "metadata": {},
     "execution_count": 25
    }
   ],
   "source": [
    "temp_series = pd.Series(temp_dic)\n",
    "temp_series"
   ]
  },
  {
   "source": [
    "### Pandas DataFrames"
   ],
   "cell_type": "markdown",
   "metadata": {}
  },
  {
   "cell_type": "code",
   "execution_count": 29,
   "metadata": {},
   "outputs": [
    {
     "output_type": "execute_result",
     "data": {
      "text/plain": [
       "   Maxine  James  Amanda\n",
       "0      30     50      70\n",
       "1      45     43      90\n",
       "2      43     67      43"
      ],
      "text/html": "<div>\n<style scoped>\n    .dataframe tbody tr th:only-of-type {\n        vertical-align: middle;\n    }\n\n    .dataframe tbody tr th {\n        vertical-align: top;\n    }\n\n    .dataframe thead th {\n        text-align: right;\n    }\n</style>\n<table border=\"1\" class=\"dataframe\">\n  <thead>\n    <tr style=\"text-align: right;\">\n      <th></th>\n      <th>Maxine</th>\n      <th>James</th>\n      <th>Amanda</th>\n    </tr>\n  </thead>\n  <tbody>\n    <tr>\n      <th>0</th>\n      <td>30</td>\n      <td>50</td>\n      <td>70</td>\n    </tr>\n    <tr>\n      <th>1</th>\n      <td>45</td>\n      <td>43</td>\n      <td>90</td>\n    </tr>\n    <tr>\n      <th>2</th>\n      <td>43</td>\n      <td>67</td>\n      <td>43</td>\n    </tr>\n  </tbody>\n</table>\n</div>"
     },
     "metadata": {},
     "execution_count": 29
    }
   ],
   "source": [
    "df_temps = pd.DataFrame({'Maxine': [30, 45, 43], 'James': [50, 43, 67], 'Amanda': [70, 90, 43]})\n",
    "df_temps"
   ]
  },
  {
   "cell_type": "code",
   "execution_count": 37,
   "metadata": {},
   "outputs": [
    {
     "output_type": "execute_result",
     "data": {
      "text/plain": [
       "           Maxine  James  Amanda\n",
       "Morning        30     50      70\n",
       "Afternoon      45     43      90\n",
       "Evening        43     67      43"
      ],
      "text/html": "<div>\n<style scoped>\n    .dataframe tbody tr th:only-of-type {\n        vertical-align: middle;\n    }\n\n    .dataframe tbody tr th {\n        vertical-align: top;\n    }\n\n    .dataframe thead th {\n        text-align: right;\n    }\n</style>\n<table border=\"1\" class=\"dataframe\">\n  <thead>\n    <tr style=\"text-align: right;\">\n      <th></th>\n      <th>Maxine</th>\n      <th>James</th>\n      <th>Amanda</th>\n    </tr>\n  </thead>\n  <tbody>\n    <tr>\n      <th>Morning</th>\n      <td>30</td>\n      <td>50</td>\n      <td>70</td>\n    </tr>\n    <tr>\n      <th>Afternoon</th>\n      <td>45</td>\n      <td>43</td>\n      <td>90</td>\n    </tr>\n    <tr>\n      <th>Evening</th>\n      <td>43</td>\n      <td>67</td>\n      <td>43</td>\n    </tr>\n  </tbody>\n</table>\n</div>"
     },
     "metadata": {},
     "execution_count": 37
    }
   ],
   "source": [
    "df_temps.index = ['Morning', 'Afternoon', 'Evening']\n",
    "df_temps"
   ]
  },
  {
   "cell_type": "code",
   "execution_count": 38,
   "metadata": {},
   "outputs": [
    {
     "output_type": "execute_result",
     "data": {
      "text/plain": [
       "           Maxine  James  Amanda\n",
       "Morning        30     50      70\n",
       "Afternoon      45     43      90\n",
       "Evening        43     67      43"
      ],
      "text/html": "<div>\n<style scoped>\n    .dataframe tbody tr th:only-of-type {\n        vertical-align: middle;\n    }\n\n    .dataframe tbody tr th {\n        vertical-align: top;\n    }\n\n    .dataframe thead th {\n        text-align: right;\n    }\n</style>\n<table border=\"1\" class=\"dataframe\">\n  <thead>\n    <tr style=\"text-align: right;\">\n      <th></th>\n      <th>Maxine</th>\n      <th>James</th>\n      <th>Amanda</th>\n    </tr>\n  </thead>\n  <tbody>\n    <tr>\n      <th>Morning</th>\n      <td>30</td>\n      <td>50</td>\n      <td>70</td>\n    </tr>\n    <tr>\n      <th>Afternoon</th>\n      <td>45</td>\n      <td>43</td>\n      <td>90</td>\n    </tr>\n    <tr>\n      <th>Evening</th>\n      <td>43</td>\n      <td>67</td>\n      <td>43</td>\n    </tr>\n  </tbody>\n</table>\n</div>"
     },
     "metadata": {},
     "execution_count": 38
    }
   ],
   "source": [
    "df_temps = pd.DataFrame({'Maxine': [30, 45, 43], 'James': [50, 43, 67], 'Amanda': [70, 90, 43]}, index=['Morning', 'Afternoon', 'Evening'])\n",
    "df_temps"
   ]
  },
  {
   "cell_type": "code",
   "execution_count": 44,
   "metadata": {},
   "outputs": [
    {
     "output_type": "execute_result",
     "data": {
      "text/plain": [
       "Maxine    30\n",
       "James     50\n",
       "Amanda    70\n",
       "Name: Morning, dtype: int64"
      ]
     },
     "metadata": {},
     "execution_count": 44
    }
   ],
   "source": [
    "df_temps.loc['Morning']"
   ]
  },
  {
   "cell_type": "code",
   "execution_count": 46,
   "metadata": {},
   "outputs": [
    {
     "output_type": "execute_result",
     "data": {
      "text/plain": [
       "         Maxine  James  Amanda\n",
       "Morning      30     50      70\n",
       "Evening      43     67      43"
      ],
      "text/html": "<div>\n<style scoped>\n    .dataframe tbody tr th:only-of-type {\n        vertical-align: middle;\n    }\n\n    .dataframe tbody tr th {\n        vertical-align: top;\n    }\n\n    .dataframe thead th {\n        text-align: right;\n    }\n</style>\n<table border=\"1\" class=\"dataframe\">\n  <thead>\n    <tr style=\"text-align: right;\">\n      <th></th>\n      <th>Maxine</th>\n      <th>James</th>\n      <th>Amanda</th>\n    </tr>\n  </thead>\n  <tbody>\n    <tr>\n      <th>Morning</th>\n      <td>30</td>\n      <td>50</td>\n      <td>70</td>\n    </tr>\n    <tr>\n      <th>Evening</th>\n      <td>43</td>\n      <td>67</td>\n      <td>43</td>\n    </tr>\n  </tbody>\n</table>\n</div>"
     },
     "metadata": {},
     "execution_count": 46
    }
   ],
   "source": [
    "df_temps.loc[['Morning','Evening'],:]"
   ]
  },
  {
   "cell_type": "code",
   "execution_count": 47,
   "metadata": {},
   "outputs": [
    {
     "output_type": "execute_result",
     "data": {
      "text/plain": [
       "           Amanda  Maxine\n",
       "Morning        70      30\n",
       "Afternoon      90      45\n",
       "Evening        43      43"
      ],
      "text/html": "<div>\n<style scoped>\n    .dataframe tbody tr th:only-of-type {\n        vertical-align: middle;\n    }\n\n    .dataframe tbody tr th {\n        vertical-align: top;\n    }\n\n    .dataframe thead th {\n        text-align: right;\n    }\n</style>\n<table border=\"1\" class=\"dataframe\">\n  <thead>\n    <tr style=\"text-align: right;\">\n      <th></th>\n      <th>Amanda</th>\n      <th>Maxine</th>\n    </tr>\n  </thead>\n  <tbody>\n    <tr>\n      <th>Morning</th>\n      <td>70</td>\n      <td>30</td>\n    </tr>\n    <tr>\n      <th>Afternoon</th>\n      <td>90</td>\n      <td>45</td>\n    </tr>\n    <tr>\n      <th>Evening</th>\n      <td>43</td>\n      <td>43</td>\n    </tr>\n  </tbody>\n</table>\n</div>"
     },
     "metadata": {},
     "execution_count": 47
    }
   ],
   "source": [
    "df_temps.loc[:, ['Amanda', 'Maxine']]"
   ]
  },
  {
   "cell_type": "code",
   "execution_count": 48,
   "metadata": {},
   "outputs": [
    {
     "output_type": "execute_result",
     "data": {
      "text/plain": [
       "         Amanda  Maxine\n",
       "Morning      70      30\n",
       "Evening      43      43"
      ],
      "text/html": "<div>\n<style scoped>\n    .dataframe tbody tr th:only-of-type {\n        vertical-align: middle;\n    }\n\n    .dataframe tbody tr th {\n        vertical-align: top;\n    }\n\n    .dataframe thead th {\n        text-align: right;\n    }\n</style>\n<table border=\"1\" class=\"dataframe\">\n  <thead>\n    <tr style=\"text-align: right;\">\n      <th></th>\n      <th>Amanda</th>\n      <th>Maxine</th>\n    </tr>\n  </thead>\n  <tbody>\n    <tr>\n      <th>Morning</th>\n      <td>70</td>\n      <td>30</td>\n    </tr>\n    <tr>\n      <th>Evening</th>\n      <td>43</td>\n      <td>43</td>\n    </tr>\n  </tbody>\n</table>\n</div>"
     },
     "metadata": {},
     "execution_count": 48
    }
   ],
   "source": [
    "df_temps.loc[['Morning', 'Evening'], ['Amanda', 'Maxine']]"
   ]
  },
  {
   "cell_type": "code",
   "execution_count": 49,
   "metadata": {},
   "outputs": [
    {
     "output_type": "execute_result",
     "data": {
      "text/plain": [
       "          Maxine      James     Amanda\n",
       "count   3.000000   3.000000   3.000000\n",
       "mean   39.333333  53.333333  67.666667\n",
       "std     8.144528  12.342339  23.586719\n",
       "min    30.000000  43.000000  43.000000\n",
       "25%    36.500000  46.500000  56.500000\n",
       "50%    43.000000  50.000000  70.000000\n",
       "75%    44.000000  58.500000  80.000000\n",
       "max    45.000000  67.000000  90.000000"
      ],
      "text/html": "<div>\n<style scoped>\n    .dataframe tbody tr th:only-of-type {\n        vertical-align: middle;\n    }\n\n    .dataframe tbody tr th {\n        vertical-align: top;\n    }\n\n    .dataframe thead th {\n        text-align: right;\n    }\n</style>\n<table border=\"1\" class=\"dataframe\">\n  <thead>\n    <tr style=\"text-align: right;\">\n      <th></th>\n      <th>Maxine</th>\n      <th>James</th>\n      <th>Amanda</th>\n    </tr>\n  </thead>\n  <tbody>\n    <tr>\n      <th>count</th>\n      <td>3.000000</td>\n      <td>3.000000</td>\n      <td>3.000000</td>\n    </tr>\n    <tr>\n      <th>mean</th>\n      <td>39.333333</td>\n      <td>53.333333</td>\n      <td>67.666667</td>\n    </tr>\n    <tr>\n      <th>std</th>\n      <td>8.144528</td>\n      <td>12.342339</td>\n      <td>23.586719</td>\n    </tr>\n    <tr>\n      <th>min</th>\n      <td>30.000000</td>\n      <td>43.000000</td>\n      <td>43.000000</td>\n    </tr>\n    <tr>\n      <th>25%</th>\n      <td>36.500000</td>\n      <td>46.500000</td>\n      <td>56.500000</td>\n    </tr>\n    <tr>\n      <th>50%</th>\n      <td>43.000000</td>\n      <td>50.000000</td>\n      <td>70.000000</td>\n    </tr>\n    <tr>\n      <th>75%</th>\n      <td>44.000000</td>\n      <td>58.500000</td>\n      <td>80.000000</td>\n    </tr>\n    <tr>\n      <th>max</th>\n      <td>45.000000</td>\n      <td>67.000000</td>\n      <td>90.000000</td>\n    </tr>\n  </tbody>\n</table>\n</div>"
     },
     "metadata": {},
     "execution_count": 49
    }
   ],
   "source": [
    "df_temps.describe()"
   ]
  },
  {
   "cell_type": "code",
   "execution_count": 50,
   "metadata": {},
   "outputs": [
    {
     "output_type": "execute_result",
     "data": {
      "text/plain": [
       "           Maxine  James  Amanda\n",
       "Morning        30     50      70\n",
       "Afternoon      45     43      90\n",
       "Evening        43     67      43"
      ],
      "text/html": "<div>\n<style scoped>\n    .dataframe tbody tr th:only-of-type {\n        vertical-align: middle;\n    }\n\n    .dataframe tbody tr th {\n        vertical-align: top;\n    }\n\n    .dataframe thead th {\n        text-align: right;\n    }\n</style>\n<table border=\"1\" class=\"dataframe\">\n  <thead>\n    <tr style=\"text-align: right;\">\n      <th></th>\n      <th>Maxine</th>\n      <th>James</th>\n      <th>Amanda</th>\n    </tr>\n  </thead>\n  <tbody>\n    <tr>\n      <th>Morning</th>\n      <td>30</td>\n      <td>50</td>\n      <td>70</td>\n    </tr>\n    <tr>\n      <th>Afternoon</th>\n      <td>45</td>\n      <td>43</td>\n      <td>90</td>\n    </tr>\n    <tr>\n      <th>Evening</th>\n      <td>43</td>\n      <td>67</td>\n      <td>43</td>\n    </tr>\n  </tbody>\n</table>\n</div>"
     },
     "metadata": {},
     "execution_count": 50
    }
   ],
   "source": [
    "df_temps"
   ]
  },
  {
   "cell_type": "code",
   "execution_count": 51,
   "metadata": {},
   "outputs": [
    {
     "output_type": "execute_result",
     "data": {
      "text/plain": [
       "        Morning  Afternoon  Evening\n",
       "Maxine       30         45       43\n",
       "James        50         43       67\n",
       "Amanda       70         90       43"
      ],
      "text/html": "<div>\n<style scoped>\n    .dataframe tbody tr th:only-of-type {\n        vertical-align: middle;\n    }\n\n    .dataframe tbody tr th {\n        vertical-align: top;\n    }\n\n    .dataframe thead th {\n        text-align: right;\n    }\n</style>\n<table border=\"1\" class=\"dataframe\">\n  <thead>\n    <tr style=\"text-align: right;\">\n      <th></th>\n      <th>Morning</th>\n      <th>Afternoon</th>\n      <th>Evening</th>\n    </tr>\n  </thead>\n  <tbody>\n    <tr>\n      <th>Maxine</th>\n      <td>30</td>\n      <td>45</td>\n      <td>43</td>\n    </tr>\n    <tr>\n      <th>James</th>\n      <td>50</td>\n      <td>43</td>\n      <td>67</td>\n    </tr>\n    <tr>\n      <th>Amanda</th>\n      <td>70</td>\n      <td>90</td>\n      <td>43</td>\n    </tr>\n  </tbody>\n</table>\n</div>"
     },
     "metadata": {},
     "execution_count": 51
    }
   ],
   "source": [
    "df_temps.T"
   ]
  },
  {
   "cell_type": "code",
   "execution_count": 56,
   "metadata": {},
   "outputs": [
    {
     "output_type": "execute_result",
     "data": {
      "text/plain": [
       "           Maxine  James  Amanda\n",
       "Afternoon      45     43      90\n",
       "Evening        43     67      43\n",
       "Morning        30     50      70"
      ],
      "text/html": "<div>\n<style scoped>\n    .dataframe tbody tr th:only-of-type {\n        vertical-align: middle;\n    }\n\n    .dataframe tbody tr th {\n        vertical-align: top;\n    }\n\n    .dataframe thead th {\n        text-align: right;\n    }\n</style>\n<table border=\"1\" class=\"dataframe\">\n  <thead>\n    <tr style=\"text-align: right;\">\n      <th></th>\n      <th>Maxine</th>\n      <th>James</th>\n      <th>Amanda</th>\n    </tr>\n  </thead>\n  <tbody>\n    <tr>\n      <th>Afternoon</th>\n      <td>45</td>\n      <td>43</td>\n      <td>90</td>\n    </tr>\n    <tr>\n      <th>Evening</th>\n      <td>43</td>\n      <td>67</td>\n      <td>43</td>\n    </tr>\n    <tr>\n      <th>Morning</th>\n      <td>30</td>\n      <td>50</td>\n      <td>70</td>\n    </tr>\n  </tbody>\n</table>\n</div>"
     },
     "metadata": {},
     "execution_count": 56
    }
   ],
   "source": [
    "df_temps.sort_index(ascending=True)"
   ]
  },
  {
   "cell_type": "code",
   "execution_count": 57,
   "metadata": {},
   "outputs": [
    {
     "output_type": "execute_result",
     "data": {
      "text/plain": [
       "           Maxine  James  Amanda\n",
       "Morning        30     50      70\n",
       "Afternoon      45     43      90\n",
       "Evening        43     67      43"
      ],
      "text/html": "<div>\n<style scoped>\n    .dataframe tbody tr th:only-of-type {\n        vertical-align: middle;\n    }\n\n    .dataframe tbody tr th {\n        vertical-align: top;\n    }\n\n    .dataframe thead th {\n        text-align: right;\n    }\n</style>\n<table border=\"1\" class=\"dataframe\">\n  <thead>\n    <tr style=\"text-align: right;\">\n      <th></th>\n      <th>Maxine</th>\n      <th>James</th>\n      <th>Amanda</th>\n    </tr>\n  </thead>\n  <tbody>\n    <tr>\n      <th>Morning</th>\n      <td>30</td>\n      <td>50</td>\n      <td>70</td>\n    </tr>\n    <tr>\n      <th>Afternoon</th>\n      <td>45</td>\n      <td>43</td>\n      <td>90</td>\n    </tr>\n    <tr>\n      <th>Evening</th>\n      <td>43</td>\n      <td>67</td>\n      <td>43</td>\n    </tr>\n  </tbody>\n</table>\n</div>"
     },
     "metadata": {},
     "execution_count": 57
    }
   ],
   "source": [
    "df_temps"
   ]
  },
  {
   "cell_type": "code",
   "execution_count": 58,
   "metadata": {},
   "outputs": [
    {
     "output_type": "execute_result",
     "data": {
      "text/plain": [
       "           Amanda  James  Maxine\n",
       "Morning        70     50      30\n",
       "Afternoon      90     43      45\n",
       "Evening        43     67      43"
      ],
      "text/html": "<div>\n<style scoped>\n    .dataframe tbody tr th:only-of-type {\n        vertical-align: middle;\n    }\n\n    .dataframe tbody tr th {\n        vertical-align: top;\n    }\n\n    .dataframe thead th {\n        text-align: right;\n    }\n</style>\n<table border=\"1\" class=\"dataframe\">\n  <thead>\n    <tr style=\"text-align: right;\">\n      <th></th>\n      <th>Amanda</th>\n      <th>James</th>\n      <th>Maxine</th>\n    </tr>\n  </thead>\n  <tbody>\n    <tr>\n      <th>Morning</th>\n      <td>70</td>\n      <td>50</td>\n      <td>30</td>\n    </tr>\n    <tr>\n      <th>Afternoon</th>\n      <td>90</td>\n      <td>43</td>\n      <td>45</td>\n    </tr>\n    <tr>\n      <th>Evening</th>\n      <td>43</td>\n      <td>67</td>\n      <td>43</td>\n    </tr>\n  </tbody>\n</table>\n</div>"
     },
     "metadata": {},
     "execution_count": 58
    }
   ],
   "source": [
    "df_temps.sort_index(axis=1)"
   ]
  },
  {
   "cell_type": "code",
   "execution_count": 60,
   "metadata": {},
   "outputs": [
    {
     "output_type": "execute_result",
     "data": {
      "text/plain": [
       "           Maxine  James  Amanda\n",
       "Morning        30     50      70\n",
       "Afternoon      45     43      90\n",
       "Evening        43     67      43"
      ],
      "text/html": "<div>\n<style scoped>\n    .dataframe tbody tr th:only-of-type {\n        vertical-align: middle;\n    }\n\n    .dataframe tbody tr th {\n        vertical-align: top;\n    }\n\n    .dataframe thead th {\n        text-align: right;\n    }\n</style>\n<table border=\"1\" class=\"dataframe\">\n  <thead>\n    <tr style=\"text-align: right;\">\n      <th></th>\n      <th>Maxine</th>\n      <th>James</th>\n      <th>Amanda</th>\n    </tr>\n  </thead>\n  <tbody>\n    <tr>\n      <th>Morning</th>\n      <td>30</td>\n      <td>50</td>\n      <td>70</td>\n    </tr>\n    <tr>\n      <th>Afternoon</th>\n      <td>45</td>\n      <td>43</td>\n      <td>90</td>\n    </tr>\n    <tr>\n      <th>Evening</th>\n      <td>43</td>\n      <td>67</td>\n      <td>43</td>\n    </tr>\n  </tbody>\n</table>\n</div>"
     },
     "metadata": {},
     "execution_count": 60
    }
   ],
   "source": [
    "df_temps.sort_values(by='Morning', axis=1)"
   ]
  },
  {
   "cell_type": "code",
   "execution_count": 61,
   "metadata": {},
   "outputs": [
    {
     "output_type": "execute_result",
     "data": {
      "text/plain": [
       "           Maxine  James  Amanda\n",
       "Morning        30     50      70\n",
       "Afternoon      45     43      90\n",
       "Evening        43     67      43"
      ],
      "text/html": "<div>\n<style scoped>\n    .dataframe tbody tr th:only-of-type {\n        vertical-align: middle;\n    }\n\n    .dataframe tbody tr th {\n        vertical-align: top;\n    }\n\n    .dataframe thead th {\n        text-align: right;\n    }\n</style>\n<table border=\"1\" class=\"dataframe\">\n  <thead>\n    <tr style=\"text-align: right;\">\n      <th></th>\n      <th>Maxine</th>\n      <th>James</th>\n      <th>Amanda</th>\n    </tr>\n  </thead>\n  <tbody>\n    <tr>\n      <th>Morning</th>\n      <td>30</td>\n      <td>50</td>\n      <td>70</td>\n    </tr>\n    <tr>\n      <th>Afternoon</th>\n      <td>45</td>\n      <td>43</td>\n      <td>90</td>\n    </tr>\n    <tr>\n      <th>Evening</th>\n      <td>43</td>\n      <td>67</td>\n      <td>43</td>\n    </tr>\n  </tbody>\n</table>\n</div>"
     },
     "metadata": {},
     "execution_count": 61
    }
   ],
   "source": [
    "df_temps"
   ]
  },
  {
   "cell_type": "code",
   "execution_count": 65,
   "metadata": {},
   "outputs": [
    {
     "output_type": "execute_result",
     "data": {
      "text/plain": [
       "           James  Maxine  Amanda\n",
       "Morning       50      30      70\n",
       "Afternoon     43      45      90\n",
       "Evening       67      43      43"
      ],
      "text/html": "<div>\n<style scoped>\n    .dataframe tbody tr th:only-of-type {\n        vertical-align: middle;\n    }\n\n    .dataframe tbody tr th {\n        vertical-align: top;\n    }\n\n    .dataframe thead th {\n        text-align: right;\n    }\n</style>\n<table border=\"1\" class=\"dataframe\">\n  <thead>\n    <tr style=\"text-align: right;\">\n      <th></th>\n      <th>James</th>\n      <th>Maxine</th>\n      <th>Amanda</th>\n    </tr>\n  </thead>\n  <tbody>\n    <tr>\n      <th>Morning</th>\n      <td>50</td>\n      <td>30</td>\n      <td>70</td>\n    </tr>\n    <tr>\n      <th>Afternoon</th>\n      <td>43</td>\n      <td>45</td>\n      <td>90</td>\n    </tr>\n    <tr>\n      <th>Evening</th>\n      <td>67</td>\n      <td>43</td>\n      <td>43</td>\n    </tr>\n  </tbody>\n</table>\n</div>"
     },
     "metadata": {},
     "execution_count": 65
    }
   ],
   "source": [
    "df_temps.sort_values(by='Afternoon', axis=1)"
   ]
  },
  {
   "cell_type": "code",
   "execution_count": 70,
   "metadata": {},
   "outputs": [
    {
     "output_type": "execute_result",
     "data": {
      "text/plain": [
       "        Morning  Afternoon  Evening\n",
       "Amanda       70         90       43\n",
       "Maxine       30         45       43\n",
       "James        50         43       67"
      ],
      "text/html": "<div>\n<style scoped>\n    .dataframe tbody tr th:only-of-type {\n        vertical-align: middle;\n    }\n\n    .dataframe tbody tr th {\n        vertical-align: top;\n    }\n\n    .dataframe thead th {\n        text-align: right;\n    }\n</style>\n<table border=\"1\" class=\"dataframe\">\n  <thead>\n    <tr style=\"text-align: right;\">\n      <th></th>\n      <th>Morning</th>\n      <th>Afternoon</th>\n      <th>Evening</th>\n    </tr>\n  </thead>\n  <tbody>\n    <tr>\n      <th>Amanda</th>\n      <td>70</td>\n      <td>90</td>\n      <td>43</td>\n    </tr>\n    <tr>\n      <th>Maxine</th>\n      <td>30</td>\n      <td>45</td>\n      <td>43</td>\n    </tr>\n    <tr>\n      <th>James</th>\n      <td>50</td>\n      <td>43</td>\n      <td>67</td>\n    </tr>\n  </tbody>\n</table>\n</div>"
     },
     "metadata": {},
     "execution_count": 70
    }
   ],
   "source": [
    "df_temps.T.sort_values(by='Afternoon', ascending=False)"
   ]
  },
  {
   "cell_type": "code",
   "execution_count": null,
   "metadata": {},
   "outputs": [],
   "source": []
  }
 ]
}