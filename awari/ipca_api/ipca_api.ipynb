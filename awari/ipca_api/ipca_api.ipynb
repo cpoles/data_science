{
 "metadata": {
  "language_info": {
   "codemirror_mode": {
    "name": "ipython",
    "version": 3
   },
   "file_extension": ".py",
   "mimetype": "text/x-python",
   "name": "python",
   "nbconvert_exporter": "python",
   "pygments_lexer": "ipython3",
   "version": "3.8.5-final"
  },
  "orig_nbformat": 2,
  "kernelspec": {
   "name": "python3",
   "display_name": "Python 3",
   "language": "python"
  }
 },
 "nbformat": 4,
 "nbformat_minor": 2,
 "cells": [
  {
   "source": [
    "# API Exercise"
   ],
   "cell_type": "markdown",
   "metadata": {}
  },
  {
   "source": [
    "## Brazilian National Consumer Price Index - IPCA"
   ],
   "cell_type": "markdown",
   "metadata": {}
  },
  {
   "source": [
    "### January 2010 - December 2016"
   ],
   "cell_type": "markdown",
   "metadata": {}
  },
  {
   "cell_type": "code",
   "execution_count": 3,
   "metadata": {},
   "outputs": [],
   "source": [
    "import requests\n",
    "import pandas as pd \n",
    "from datetime import datetime"
   ]
  },
  {
   "cell_type": "code",
   "execution_count": 4,
   "metadata": {},
   "outputs": [
    {
     "output_type": "stream",
     "name": "stdout",
     "text": [
      "200\n"
     ]
    }
   ],
   "source": [
    "# get the response from BACEN API\n",
    "response = requests.get('http://api.bcb.gov.br/dados/serie/bcdata.sgs.16121/dados?formato=json&dataInicial=01/01/2010&dataFinal=31/12/2016')\n",
    "print(response.status_code)"
   ]
  },
  {
   "cell_type": "code",
   "execution_count": 5,
   "metadata": {},
   "outputs": [
    {
     "output_type": "execute_result",
     "data": {
      "text/plain": [
       "         data valor\n",
       "0  01/01/2010  0.59\n",
       "1  01/02/2010  0.68\n",
       "2  01/03/2010  0.42\n",
       "3  01/04/2010  0.42\n",
       "4  01/05/2010  0.56"
      ],
      "text/html": "<div>\n<style scoped>\n    .dataframe tbody tr th:only-of-type {\n        vertical-align: middle;\n    }\n\n    .dataframe tbody tr th {\n        vertical-align: top;\n    }\n\n    .dataframe thead th {\n        text-align: right;\n    }\n</style>\n<table border=\"1\" class=\"dataframe\">\n  <thead>\n    <tr style=\"text-align: right;\">\n      <th></th>\n      <th>data</th>\n      <th>valor</th>\n    </tr>\n  </thead>\n  <tbody>\n    <tr>\n      <th>0</th>\n      <td>01/01/2010</td>\n      <td>0.59</td>\n    </tr>\n    <tr>\n      <th>1</th>\n      <td>01/02/2010</td>\n      <td>0.68</td>\n    </tr>\n    <tr>\n      <th>2</th>\n      <td>01/03/2010</td>\n      <td>0.42</td>\n    </tr>\n    <tr>\n      <th>3</th>\n      <td>01/04/2010</td>\n      <td>0.42</td>\n    </tr>\n    <tr>\n      <th>4</th>\n      <td>01/05/2010</td>\n      <td>0.56</td>\n    </tr>\n  </tbody>\n</table>\n</div>"
     },
     "metadata": {},
     "execution_count": 5
    }
   ],
   "source": [
    "# build a Dataframe from the json file response\n",
    "df_ipca = pd.DataFrame(response.json())\n",
    "df_ipca.head(5)"
   ]
  },
  {
   "cell_type": "code",
   "execution_count": 6,
   "metadata": {},
   "outputs": [
    {
     "output_type": "execute_result",
     "data": {
      "text/plain": [
       "data     object\n",
       "valor    object\n",
       "dtype: object"
      ]
     },
     "metadata": {},
     "execution_count": 6
    }
   ],
   "source": [
    "# get data types\n",
    "df_ipca.dtypes"
   ]
  },
  {
   "cell_type": "code",
   "execution_count": 7,
   "metadata": {},
   "outputs": [
    {
     "output_type": "stream",
     "name": "stdout",
     "text": [
      "<class 'pandas.core.frame.DataFrame'>\nRangeIndex: 84 entries, 0 to 83\nData columns (total 2 columns):\n #   Column  Non-Null Count  Dtype \n---  ------  --------------  ----- \n 0   data    84 non-null     object\n 1   valor   84 non-null     object\ndtypes: object(2)\nmemory usage: 1.4+ KB\n"
     ]
    }
   ],
   "source": [
    "df_ipca.info()"
   ]
  },
  {
   "cell_type": "code",
   "execution_count": 8,
   "metadata": {},
   "outputs": [
    {
     "output_type": "execute_result",
     "data": {
      "text/plain": [
       "         date value\n",
       "0  01/01/2010  0.59\n",
       "1  01/02/2010  0.68\n",
       "2  01/03/2010  0.42\n",
       "3  01/04/2010  0.42\n",
       "4  01/05/2010  0.56"
      ],
      "text/html": "<div>\n<style scoped>\n    .dataframe tbody tr th:only-of-type {\n        vertical-align: middle;\n    }\n\n    .dataframe tbody tr th {\n        vertical-align: top;\n    }\n\n    .dataframe thead th {\n        text-align: right;\n    }\n</style>\n<table border=\"1\" class=\"dataframe\">\n  <thead>\n    <tr style=\"text-align: right;\">\n      <th></th>\n      <th>date</th>\n      <th>value</th>\n    </tr>\n  </thead>\n  <tbody>\n    <tr>\n      <th>0</th>\n      <td>01/01/2010</td>\n      <td>0.59</td>\n    </tr>\n    <tr>\n      <th>1</th>\n      <td>01/02/2010</td>\n      <td>0.68</td>\n    </tr>\n    <tr>\n      <th>2</th>\n      <td>01/03/2010</td>\n      <td>0.42</td>\n    </tr>\n    <tr>\n      <th>3</th>\n      <td>01/04/2010</td>\n      <td>0.42</td>\n    </tr>\n    <tr>\n      <th>4</th>\n      <td>01/05/2010</td>\n      <td>0.56</td>\n    </tr>\n  </tbody>\n</table>\n</div>"
     },
     "metadata": {},
     "execution_count": 8
    }
   ],
   "source": [
    "# change column names\n",
    "df_ipca.columns = ['date','value']\n",
    "df_ipca.head(5)"
   ]
  },
  {
   "cell_type": "code",
   "execution_count": 9,
   "metadata": {},
   "outputs": [
    {
     "output_type": "stream",
     "name": "stdout",
     "text": [
      "<class 'pandas.core.frame.DataFrame'>\nRangeIndex: 84 entries, 0 to 83\nData columns (total 2 columns):\n #   Column  Non-Null Count  Dtype         \n---  ------  --------------  -----         \n 0   date    84 non-null     datetime64[ns]\n 1   value   84 non-null     float64       \ndtypes: datetime64[ns](1), float64(1)\nmemory usage: 1.4 KB\n"
     ]
    }
   ],
   "source": [
    "# cast the date values to datetime and value values to float64\n",
    "df_ipca.date = df_ipca.date.astype('datetime64[ns]')\n",
    "df_ipca.value = df_ipca.value.astype('float64')\n",
    "df_ipca.info()"
   ]
  },
  {
   "cell_type": "code",
   "execution_count": 17,
   "metadata": {},
   "outputs": [
    {
     "output_type": "execute_result",
     "data": {
      "text/plain": [
       "      value\n",
       "date       \n",
       "2010   5.32\n",
       "2011   6.49\n",
       "2012   5.73\n",
       "2013   5.64\n",
       "2014   6.27\n",
       "2015   9.06\n",
       "2016   6.00"
      ],
      "text/html": "<div>\n<style scoped>\n    .dataframe tbody tr th:only-of-type {\n        vertical-align: middle;\n    }\n\n    .dataframe tbody tr th {\n        vertical-align: top;\n    }\n\n    .dataframe thead th {\n        text-align: right;\n    }\n</style>\n<table border=\"1\" class=\"dataframe\">\n  <thead>\n    <tr style=\"text-align: right;\">\n      <th></th>\n      <th>value</th>\n    </tr>\n    <tr>\n      <th>date</th>\n      <th></th>\n    </tr>\n  </thead>\n  <tbody>\n    <tr>\n      <th>2010</th>\n      <td>5.32</td>\n    </tr>\n    <tr>\n      <th>2011</th>\n      <td>6.49</td>\n    </tr>\n    <tr>\n      <th>2012</th>\n      <td>5.73</td>\n    </tr>\n    <tr>\n      <th>2013</th>\n      <td>5.64</td>\n    </tr>\n    <tr>\n      <th>2014</th>\n      <td>6.27</td>\n    </tr>\n    <tr>\n      <th>2015</th>\n      <td>9.06</td>\n    </tr>\n    <tr>\n      <th>2016</th>\n      <td>6.00</td>\n    </tr>\n  </tbody>\n</table>\n</div>"
     },
     "metadata": {},
     "execution_count": 17
    }
   ],
   "source": [
    "# get annual inflation by year\n",
    "df_ipca.groupby(df_ipca.date.dt.year).sum()"
   ]
  },
  {
   "cell_type": "code",
   "execution_count": null,
   "metadata": {},
   "outputs": [],
   "source": []
  }
 ]
}