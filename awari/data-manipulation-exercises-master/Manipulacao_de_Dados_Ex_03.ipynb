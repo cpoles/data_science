{
 "cells": [
  {
   "cell_type": "markdown",
   "metadata": {
    "colab_type": "text",
    "id": "hAcVCqunNHPq"
   },
   "source": [
    "![](https://i.imgur.com/JsMvGnP.png)"
   ]
  },
  {
   "cell_type": "markdown",
   "metadata": {
    "colab_type": "text",
    "id": "xlIVUULwujKa"
   },
   "source": [
    "\n",
    "## Exercícios de manipulação de dados - Parte 3"
   ]
  },
  {
   "cell_type": "markdown",
   "metadata": {
    "colab_type": "text",
    "id": "RoztT_BzujKc"
   },
   "source": [
    "Neste Jupyter notebook você irá resolver uma exercícios utilizando a linguagem Python e a biblioteca Pandas.\n",
    "\n",
    "Todos os datasets utilizados nos exercícios estão salvos na pasta **datasets**.\n",
    "\n",
    "Todo o seu código deve ser executado neste Jupyter Notebook. Por fim, se desejar, revise as respostas com o seu mentor."
   ]
  },
  {
   "cell_type": "markdown",
   "metadata": {
    "colab_type": "text",
    "id": "VYyMlLtIujKe"
   },
   "source": [
    "### Tarefa 1. Importe o dataset e salve os dados em um dataframe\n",
    "\n",
    "Os dados estão salvos no arquivo ***datasets/users_dataset.csv***.\n",
    "\n",
    "Salve os dados em uma variável de nome *users*."
   ]
  },
  {
   "cell_type": "code",
   "execution_count": null,
   "metadata": {},
   "outputs": [],
   "source": [
    "import pandas as pd"
   ]
  },
  {
   "cell_type": "code",
   "execution_count": null,
   "metadata": {},
   "outputs": [],
   "source": [
    "users = pd.read_csv('./datasets/users_dataset.csv', sep='|')"
   ]
  },
  {
   "cell_type": "code",
   "execution_count": null,
   "metadata": {},
   "outputs": [],
   "source": [
    "users.head(4)"
   ]
  },
  {
   "cell_type": "markdown",
   "metadata": {
    "colab_type": "text",
    "id": "GpGg63VvujKh"
   },
   "source": [
    "### Tarefa 2. Descubra qual a idade média por ocupação.\n",
    "\n",
    "*Dica: use a função groupby do Pandas na coluna occupation*"
   ]
  },
  {
   "cell_type": "code",
   "execution_count": null,
   "metadata": {
    "colab": {},
    "colab_type": "code",
    "id": "xCzIIT60ujKi"
   },
   "outputs": [],
   "source": [
    "# Seu código\n",
    "users.groupby('occupation')['age'].mean()"
   ]
  },
  {
   "cell_type": "markdown",
   "metadata": {
    "colab_type": "text",
    "id": "y1R0vw2XujKn"
   },
   "source": [
    "### Tarefa 3. Para cada ocupação descubra a idade mínima e máxima."
   ]
  },
  {
   "cell_type": "code",
   "execution_count": null,
   "metadata": {
    "colab": {},
    "colab_type": "code",
    "id": "GhhaqSCtujKp"
   },
   "outputs": [],
   "source": [
    "# Seu código\n",
    "users.groupby('occupation')['age'].max()"
   ]
  },
  {
   "cell_type": "code",
   "execution_count": null,
   "metadata": {},
   "outputs": [],
   "source": [
    "users.groupby('occupation')['age'].min()"
   ]
  },
  {
   "cell_type": "markdown",
   "metadata": {
    "colab_type": "text",
    "id": "DT-Lcsz2ujKz"
   },
   "source": [
    "### Tarefa 4. Para cada combinação de ocupação e sexo, calcule a idade média.\n",
    "\n",
    "Exemplo:\n",
    "\n",
    "```\n",
    "occupation     gender\n",
    "administrator  F         40.638889\n",
    "               M         37.162791\n",
    "artist         F         30.307692\n",
    "               M         32.333333\n",
    "```"
   ]
  },
  {
   "cell_type": "code",
   "execution_count": null,
   "metadata": {
    "colab": {},
    "colab_type": "code",
    "id": "aMIV75fTujKz"
   },
   "outputs": [],
   "source": [
    "# Seu código\n",
    "users.groupby(['occupation', 'gender'])['age'].mean()"
   ]
  },
  {
   "cell_type": "markdown",
   "metadata": {
    "colab_type": "text",
    "id": "B2TxLDyoujK3"
   },
   "source": [
    "### Tarefa 5. Para cada ocupação calcule a porcentagem de homens e mulheres.\n",
    "\n",
    "Exemplo:\n",
    "\n",
    "```\n",
    "occupation     gender\n",
    "administrator  F          45.569620\n",
    "               M          54.430380\n",
    "artist         F          46.428571\n",
    "               M          53.571429\n",
    "doctor         M         100.000000\n",
    "educator       F          27.368421\n",
    "               M          72.631579\n",
    "```"
   ]
  },
  {
   "cell_type": "code",
   "execution_count": 16,
   "metadata": {
    "colab": {},
    "colab_type": "code",
    "id": "XnBH1LMuujK4"
   },
   "outputs": [],
   "source": [
    "# Seu código\n",
    "by_occ_gender = (users.groupby(['occupation', 'gender'])\n",
    "                 .agg({'gender' : 'count'})\n",
    "                 .rename(columns={'gender' : 'counts'})\n",
    "                 .reset_index())"
   ]
  },
  {
   "cell_type": "code",
   "execution_count": 24,
   "metadata": {},
   "outputs": [],
   "source": [
    "total_occ = by_occ_gender.groupby('occupation').agg({'counts' : 'sum'}).reset_index()"
   ]
  },
  {
   "cell_type": "code",
   "execution_count": 26,
   "metadata": {},
   "outputs": [],
   "source": [
    "by_occ_gender = by_occ_gender.merge(total_occ, on='occupation', how='left')"
   ]
  },
  {
   "cell_type": "code",
   "execution_count": 31,
   "metadata": {},
   "outputs": [
    {
     "output_type": "execute_result",
     "data": {
      "text/plain": [
       "       occupation gender      rate\n",
       "0   administrator      F  0.455696\n",
       "1   administrator      M  0.544304\n",
       "2          artist      F  0.464286\n",
       "3          artist      M  0.535714\n",
       "4          doctor      M  1.000000\n",
       "5        educator      F  0.273684\n",
       "6        educator      M  0.726316\n",
       "7        engineer      F  0.029851\n",
       "8        engineer      M  0.970149\n",
       "9   entertainment      F  0.111111\n",
       "10  entertainment      M  0.888889\n",
       "11      executive      F  0.093750\n",
       "12      executive      M  0.906250\n",
       "13     healthcare      F  0.687500\n",
       "14     healthcare      M  0.312500\n",
       "15      homemaker      F  0.857143\n",
       "16      homemaker      M  0.142857\n",
       "17         lawyer      F  0.166667\n",
       "18         lawyer      M  0.833333\n",
       "19      librarian      F  0.568627\n",
       "20      librarian      M  0.431373\n",
       "21      marketing      F  0.384615\n",
       "22      marketing      M  0.615385\n",
       "23           none      F  0.444444\n",
       "24           none      M  0.555556\n",
       "25          other      F  0.342857\n",
       "26          other      M  0.657143\n",
       "27     programmer      F  0.090909\n",
       "28     programmer      M  0.909091\n",
       "29        retired      F  0.071429\n",
       "30        retired      M  0.928571\n",
       "31       salesman      F  0.250000\n",
       "32       salesman      M  0.750000\n",
       "33      scientist      F  0.096774\n",
       "34      scientist      M  0.903226\n",
       "35        student      F  0.306122\n",
       "36        student      M  0.693878\n",
       "37     technician      F  0.037037\n",
       "38     technician      M  0.962963\n",
       "39         writer      F  0.422222\n",
       "40         writer      M  0.577778"
      ],
      "text/html": "<div>\n<style scoped>\n    .dataframe tbody tr th:only-of-type {\n        vertical-align: middle;\n    }\n\n    .dataframe tbody tr th {\n        vertical-align: top;\n    }\n\n    .dataframe thead th {\n        text-align: right;\n    }\n</style>\n<table border=\"1\" class=\"dataframe\">\n  <thead>\n    <tr style=\"text-align: right;\">\n      <th></th>\n      <th>occupation</th>\n      <th>gender</th>\n      <th>rate</th>\n    </tr>\n  </thead>\n  <tbody>\n    <tr>\n      <th>0</th>\n      <td>administrator</td>\n      <td>F</td>\n      <td>0.455696</td>\n    </tr>\n    <tr>\n      <th>1</th>\n      <td>administrator</td>\n      <td>M</td>\n      <td>0.544304</td>\n    </tr>\n    <tr>\n      <th>2</th>\n      <td>artist</td>\n      <td>F</td>\n      <td>0.464286</td>\n    </tr>\n    <tr>\n      <th>3</th>\n      <td>artist</td>\n      <td>M</td>\n      <td>0.535714</td>\n    </tr>\n    <tr>\n      <th>4</th>\n      <td>doctor</td>\n      <td>M</td>\n      <td>1.000000</td>\n    </tr>\n    <tr>\n      <th>5</th>\n      <td>educator</td>\n      <td>F</td>\n      <td>0.273684</td>\n    </tr>\n    <tr>\n      <th>6</th>\n      <td>educator</td>\n      <td>M</td>\n      <td>0.726316</td>\n    </tr>\n    <tr>\n      <th>7</th>\n      <td>engineer</td>\n      <td>F</td>\n      <td>0.029851</td>\n    </tr>\n    <tr>\n      <th>8</th>\n      <td>engineer</td>\n      <td>M</td>\n      <td>0.970149</td>\n    </tr>\n    <tr>\n      <th>9</th>\n      <td>entertainment</td>\n      <td>F</td>\n      <td>0.111111</td>\n    </tr>\n    <tr>\n      <th>10</th>\n      <td>entertainment</td>\n      <td>M</td>\n      <td>0.888889</td>\n    </tr>\n    <tr>\n      <th>11</th>\n      <td>executive</td>\n      <td>F</td>\n      <td>0.093750</td>\n    </tr>\n    <tr>\n      <th>12</th>\n      <td>executive</td>\n      <td>M</td>\n      <td>0.906250</td>\n    </tr>\n    <tr>\n      <th>13</th>\n      <td>healthcare</td>\n      <td>F</td>\n      <td>0.687500</td>\n    </tr>\n    <tr>\n      <th>14</th>\n      <td>healthcare</td>\n      <td>M</td>\n      <td>0.312500</td>\n    </tr>\n    <tr>\n      <th>15</th>\n      <td>homemaker</td>\n      <td>F</td>\n      <td>0.857143</td>\n    </tr>\n    <tr>\n      <th>16</th>\n      <td>homemaker</td>\n      <td>M</td>\n      <td>0.142857</td>\n    </tr>\n    <tr>\n      <th>17</th>\n      <td>lawyer</td>\n      <td>F</td>\n      <td>0.166667</td>\n    </tr>\n    <tr>\n      <th>18</th>\n      <td>lawyer</td>\n      <td>M</td>\n      <td>0.833333</td>\n    </tr>\n    <tr>\n      <th>19</th>\n      <td>librarian</td>\n      <td>F</td>\n      <td>0.568627</td>\n    </tr>\n    <tr>\n      <th>20</th>\n      <td>librarian</td>\n      <td>M</td>\n      <td>0.431373</td>\n    </tr>\n    <tr>\n      <th>21</th>\n      <td>marketing</td>\n      <td>F</td>\n      <td>0.384615</td>\n    </tr>\n    <tr>\n      <th>22</th>\n      <td>marketing</td>\n      <td>M</td>\n      <td>0.615385</td>\n    </tr>\n    <tr>\n      <th>23</th>\n      <td>none</td>\n      <td>F</td>\n      <td>0.444444</td>\n    </tr>\n    <tr>\n      <th>24</th>\n      <td>none</td>\n      <td>M</td>\n      <td>0.555556</td>\n    </tr>\n    <tr>\n      <th>25</th>\n      <td>other</td>\n      <td>F</td>\n      <td>0.342857</td>\n    </tr>\n    <tr>\n      <th>26</th>\n      <td>other</td>\n      <td>M</td>\n      <td>0.657143</td>\n    </tr>\n    <tr>\n      <th>27</th>\n      <td>programmer</td>\n      <td>F</td>\n      <td>0.090909</td>\n    </tr>\n    <tr>\n      <th>28</th>\n      <td>programmer</td>\n      <td>M</td>\n      <td>0.909091</td>\n    </tr>\n    <tr>\n      <th>29</th>\n      <td>retired</td>\n      <td>F</td>\n      <td>0.071429</td>\n    </tr>\n    <tr>\n      <th>30</th>\n      <td>retired</td>\n      <td>M</td>\n      <td>0.928571</td>\n    </tr>\n    <tr>\n      <th>31</th>\n      <td>salesman</td>\n      <td>F</td>\n      <td>0.250000</td>\n    </tr>\n    <tr>\n      <th>32</th>\n      <td>salesman</td>\n      <td>M</td>\n      <td>0.750000</td>\n    </tr>\n    <tr>\n      <th>33</th>\n      <td>scientist</td>\n      <td>F</td>\n      <td>0.096774</td>\n    </tr>\n    <tr>\n      <th>34</th>\n      <td>scientist</td>\n      <td>M</td>\n      <td>0.903226</td>\n    </tr>\n    <tr>\n      <th>35</th>\n      <td>student</td>\n      <td>F</td>\n      <td>0.306122</td>\n    </tr>\n    <tr>\n      <th>36</th>\n      <td>student</td>\n      <td>M</td>\n      <td>0.693878</td>\n    </tr>\n    <tr>\n      <th>37</th>\n      <td>technician</td>\n      <td>F</td>\n      <td>0.037037</td>\n    </tr>\n    <tr>\n      <th>38</th>\n      <td>technician</td>\n      <td>M</td>\n      <td>0.962963</td>\n    </tr>\n    <tr>\n      <th>39</th>\n      <td>writer</td>\n      <td>F</td>\n      <td>0.422222</td>\n    </tr>\n    <tr>\n      <th>40</th>\n      <td>writer</td>\n      <td>M</td>\n      <td>0.577778</td>\n    </tr>\n  </tbody>\n</table>\n</div>"
     },
     "metadata": {},
     "execution_count": 31
    }
   ],
   "source": [
    "by_occ_gender['rate'] = by_occ_gender.counts_x / by_occ_gender.counts_y\n",
    "by_occ_gender.drop(columns=['counts_x', 'counts_y'], inplace=True)\n",
    "by_occ_gender"
   ]
  },
  {
   "cell_type": "markdown",
   "metadata": {
    "colab_type": "text",
    "id": "Wkw71CayujK-"
   },
   "source": [
    "**Parabéns! Você chegou ao fim!**"
   ]
  }
 ],
 "metadata": {
  "colab": {
   "collapsed_sections": [],
   "name": "Exercicios_unidade_5_Manipulacao_de_Dados_Parte_03.ipynb",
   "provenance": []
  },
  "kernelspec": {
   "display_name": "Python 3",
   "language": "python",
   "name": "python3"
  },
  "language_info": {
   "codemirror_mode": {
    "name": "ipython",
    "version": 3
   },
   "file_extension": ".py",
   "mimetype": "text/x-python",
   "name": "python",
   "nbconvert_exporter": "python",
   "pygments_lexer": "ipython3",
   "version": "3.8.5-final"
  }
 },
 "nbformat": 4,
 "nbformat_minor": 1
}