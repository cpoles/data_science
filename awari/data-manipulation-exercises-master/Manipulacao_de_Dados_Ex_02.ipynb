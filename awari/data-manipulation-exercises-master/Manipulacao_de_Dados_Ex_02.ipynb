{
 "cells": [
  {
   "cell_type": "markdown",
   "metadata": {
    "colab_type": "text",
    "id": "mG98ajLLNIjz"
   },
   "source": [
    "![](https://i.imgur.com/JsMvGnP.png)"
   ]
  },
  {
   "cell_type": "markdown",
   "metadata": {
    "colab_type": "text",
    "id": "7Ch5KPRpui-Q"
   },
   "source": [
    "\n",
    "## Exercícios de manipulação de dados - Parte 2"
   ]
  },
  {
   "cell_type": "markdown",
   "metadata": {
    "colab_type": "text",
    "id": "IscqV7Obui-R"
   },
   "source": [
    "Neste Jupyter notebook você irá resolver uma exercícios utilizando a linguagem Python e a biblioteca Pandas.\n",
    "\n",
    "Todos os datasets utilizados nos exercícios estão salvos na pasta **datasets**.\n",
    "\n",
    "Todo o seu código deve ser executado neste Jupyter Notebook. Por fim, se desejar, revise as respostas com o seu mentor."
   ]
  },
  {
   "cell_type": "markdown",
   "metadata": {
    "colab_type": "text",
    "id": "Trmht8Dfui-S"
   },
   "source": [
    "### Tarefa 1. Importe o dataset e salve os dados em um dataframe\n",
    "\n",
    "Os dados estão salvos no arquivo ***datasets/US_Crime_Rates_1960_2014.csv***.\n",
    "\n",
    "Este dataset contém dados de crimes ocorridos nos Estados Unidos no período de 1960 até 2014.\n",
    "\n",
    "Salve os dados em uma variável de nome *crime*."
   ]
  },
  {
   "cell_type": "code",
   "execution_count": 44,
   "metadata": {
    "colab": {},
    "colab_type": "code",
    "id": "LN4JDdSjui-T"
   },
   "outputs": [],
   "source": [
    "# Seu código\n",
    "import pandas as pd"
   ]
  },
  {
   "cell_type": "code",
   "execution_count": 45,
   "metadata": {},
   "outputs": [],
   "source": [
    "crime = pd.read_csv('./datasets/US_Crime_Rates_1960_2014.csv')"
   ]
  },
  {
   "cell_type": "code",
   "execution_count": 46,
   "metadata": {},
   "outputs": [
    {
     "output_type": "execute_result",
     "data": {
      "text/plain": [
       "   Year  Population    Total  Violent  Property  Murder  Forcible_Rape  \\\n",
       "0  1960   179323175  3384200   288460   3095700    9110          17190   \n",
       "1  1961   182992000  3488000   289390   3198600    8740          17220   \n",
       "2  1962   185771000  3752200   301510   3450700    8530          17550   \n",
       "3  1963   188483000  4109500   316970   3792500    8640          17650   \n",
       "4  1964   191141000  4564600   364220   4200400    9360          21420   \n",
       "\n",
       "   Robbery  Aggravated_assault  Burglary  Larceny_Theft  Vehicle_Theft  \n",
       "0   107840              154320    912100        1855400         328200  \n",
       "1   106670              156760    949600        1913000         336000  \n",
       "2   110860              164570    994300        2089600         366800  \n",
       "3   116470              174210   1086400        2297800         408300  \n",
       "4   130390              203050   1213200        2514400         472800  "
      ],
      "text/html": "<div>\n<style scoped>\n    .dataframe tbody tr th:only-of-type {\n        vertical-align: middle;\n    }\n\n    .dataframe tbody tr th {\n        vertical-align: top;\n    }\n\n    .dataframe thead th {\n        text-align: right;\n    }\n</style>\n<table border=\"1\" class=\"dataframe\">\n  <thead>\n    <tr style=\"text-align: right;\">\n      <th></th>\n      <th>Year</th>\n      <th>Population</th>\n      <th>Total</th>\n      <th>Violent</th>\n      <th>Property</th>\n      <th>Murder</th>\n      <th>Forcible_Rape</th>\n      <th>Robbery</th>\n      <th>Aggravated_assault</th>\n      <th>Burglary</th>\n      <th>Larceny_Theft</th>\n      <th>Vehicle_Theft</th>\n    </tr>\n  </thead>\n  <tbody>\n    <tr>\n      <th>0</th>\n      <td>1960</td>\n      <td>179323175</td>\n      <td>3384200</td>\n      <td>288460</td>\n      <td>3095700</td>\n      <td>9110</td>\n      <td>17190</td>\n      <td>107840</td>\n      <td>154320</td>\n      <td>912100</td>\n      <td>1855400</td>\n      <td>328200</td>\n    </tr>\n    <tr>\n      <th>1</th>\n      <td>1961</td>\n      <td>182992000</td>\n      <td>3488000</td>\n      <td>289390</td>\n      <td>3198600</td>\n      <td>8740</td>\n      <td>17220</td>\n      <td>106670</td>\n      <td>156760</td>\n      <td>949600</td>\n      <td>1913000</td>\n      <td>336000</td>\n    </tr>\n    <tr>\n      <th>2</th>\n      <td>1962</td>\n      <td>185771000</td>\n      <td>3752200</td>\n      <td>301510</td>\n      <td>3450700</td>\n      <td>8530</td>\n      <td>17550</td>\n      <td>110860</td>\n      <td>164570</td>\n      <td>994300</td>\n      <td>2089600</td>\n      <td>366800</td>\n    </tr>\n    <tr>\n      <th>3</th>\n      <td>1963</td>\n      <td>188483000</td>\n      <td>4109500</td>\n      <td>316970</td>\n      <td>3792500</td>\n      <td>8640</td>\n      <td>17650</td>\n      <td>116470</td>\n      <td>174210</td>\n      <td>1086400</td>\n      <td>2297800</td>\n      <td>408300</td>\n    </tr>\n    <tr>\n      <th>4</th>\n      <td>1964</td>\n      <td>191141000</td>\n      <td>4564600</td>\n      <td>364220</td>\n      <td>4200400</td>\n      <td>9360</td>\n      <td>21420</td>\n      <td>130390</td>\n      <td>203050</td>\n      <td>1213200</td>\n      <td>2514400</td>\n      <td>472800</td>\n    </tr>\n  </tbody>\n</table>\n</div>"
     },
     "metadata": {},
     "execution_count": 46
    }
   ],
   "source": [
    "crime.head(5)"
   ]
  },
  {
   "cell_type": "markdown",
   "metadata": {
    "colab_type": "text",
    "id": "8F6IEdZsui-X"
   },
   "source": [
    "### Tarefa 2. Qual o tipo de dados em cada coluna?"
   ]
  },
  {
   "cell_type": "code",
   "execution_count": 47,
   "metadata": {
    "colab": {},
    "colab_type": "code",
    "id": "guR3et-zui-Y"
   },
   "outputs": [
    {
     "output_type": "execute_result",
     "data": {
      "text/plain": [
       "Year                  int64\n",
       "Population            int64\n",
       "Total                 int64\n",
       "Violent               int64\n",
       "Property              int64\n",
       "Murder                int64\n",
       "Forcible_Rape         int64\n",
       "Robbery               int64\n",
       "Aggravated_assault    int64\n",
       "Burglary              int64\n",
       "Larceny_Theft         int64\n",
       "Vehicle_Theft         int64\n",
       "dtype: object"
      ]
     },
     "metadata": {},
     "execution_count": 47
    }
   ],
   "source": [
    "# Seu código\n",
    "crime.dtypes"
   ]
  },
  {
   "cell_type": "markdown",
   "metadata": {
    "colab_type": "text",
    "id": "ZnhPRMhrui-c"
   },
   "source": [
    "### Tarefa 3. Converta o tipo de dado da coluna Year para o tipo datetime\n",
    "\n",
    "*Dica: procure na documentação da biblioteca como fazer tal conversão*"
   ]
  },
  {
   "cell_type": "code",
   "execution_count": 48,
   "metadata": {
    "colab": {},
    "colab_type": "code",
    "id": "HAIM8iB3ui-d"
   },
   "outputs": [],
   "source": [
    "# Seu código\n",
    "crime.Year = pd.to_datetime(crime.Year, format='%Y')"
   ]
  },
  {
   "cell_type": "code",
   "execution_count": 49,
   "metadata": {},
   "outputs": [
    {
     "output_type": "execute_result",
     "data": {
      "text/plain": [
       "        Year  Population    Total  Violent  Property  Murder  Forcible_Rape  \\\n",
       "0 1960-01-01   179323175  3384200   288460   3095700    9110          17190   \n",
       "1 1961-01-01   182992000  3488000   289390   3198600    8740          17220   \n",
       "2 1962-01-01   185771000  3752200   301510   3450700    8530          17550   \n",
       "3 1963-01-01   188483000  4109500   316970   3792500    8640          17650   \n",
       "4 1964-01-01   191141000  4564600   364220   4200400    9360          21420   \n",
       "\n",
       "   Robbery  Aggravated_assault  Burglary  Larceny_Theft  Vehicle_Theft  \n",
       "0   107840              154320    912100        1855400         328200  \n",
       "1   106670              156760    949600        1913000         336000  \n",
       "2   110860              164570    994300        2089600         366800  \n",
       "3   116470              174210   1086400        2297800         408300  \n",
       "4   130390              203050   1213200        2514400         472800  "
      ],
      "text/html": "<div>\n<style scoped>\n    .dataframe tbody tr th:only-of-type {\n        vertical-align: middle;\n    }\n\n    .dataframe tbody tr th {\n        vertical-align: top;\n    }\n\n    .dataframe thead th {\n        text-align: right;\n    }\n</style>\n<table border=\"1\" class=\"dataframe\">\n  <thead>\n    <tr style=\"text-align: right;\">\n      <th></th>\n      <th>Year</th>\n      <th>Population</th>\n      <th>Total</th>\n      <th>Violent</th>\n      <th>Property</th>\n      <th>Murder</th>\n      <th>Forcible_Rape</th>\n      <th>Robbery</th>\n      <th>Aggravated_assault</th>\n      <th>Burglary</th>\n      <th>Larceny_Theft</th>\n      <th>Vehicle_Theft</th>\n    </tr>\n  </thead>\n  <tbody>\n    <tr>\n      <th>0</th>\n      <td>1960-01-01</td>\n      <td>179323175</td>\n      <td>3384200</td>\n      <td>288460</td>\n      <td>3095700</td>\n      <td>9110</td>\n      <td>17190</td>\n      <td>107840</td>\n      <td>154320</td>\n      <td>912100</td>\n      <td>1855400</td>\n      <td>328200</td>\n    </tr>\n    <tr>\n      <th>1</th>\n      <td>1961-01-01</td>\n      <td>182992000</td>\n      <td>3488000</td>\n      <td>289390</td>\n      <td>3198600</td>\n      <td>8740</td>\n      <td>17220</td>\n      <td>106670</td>\n      <td>156760</td>\n      <td>949600</td>\n      <td>1913000</td>\n      <td>336000</td>\n    </tr>\n    <tr>\n      <th>2</th>\n      <td>1962-01-01</td>\n      <td>185771000</td>\n      <td>3752200</td>\n      <td>301510</td>\n      <td>3450700</td>\n      <td>8530</td>\n      <td>17550</td>\n      <td>110860</td>\n      <td>164570</td>\n      <td>994300</td>\n      <td>2089600</td>\n      <td>366800</td>\n    </tr>\n    <tr>\n      <th>3</th>\n      <td>1963-01-01</td>\n      <td>188483000</td>\n      <td>4109500</td>\n      <td>316970</td>\n      <td>3792500</td>\n      <td>8640</td>\n      <td>17650</td>\n      <td>116470</td>\n      <td>174210</td>\n      <td>1086400</td>\n      <td>2297800</td>\n      <td>408300</td>\n    </tr>\n    <tr>\n      <th>4</th>\n      <td>1964-01-01</td>\n      <td>191141000</td>\n      <td>4564600</td>\n      <td>364220</td>\n      <td>4200400</td>\n      <td>9360</td>\n      <td>21420</td>\n      <td>130390</td>\n      <td>203050</td>\n      <td>1213200</td>\n      <td>2514400</td>\n      <td>472800</td>\n    </tr>\n  </tbody>\n</table>\n</div>"
     },
     "metadata": {},
     "execution_count": 49
    }
   ],
   "source": [
    "crime.head(5)"
   ]
  },
  {
   "cell_type": "code",
   "execution_count": 50,
   "metadata": {},
   "outputs": [
    {
     "output_type": "execute_result",
     "data": {
      "text/plain": [
       "Year                  datetime64[ns]\n",
       "Population                     int64\n",
       "Total                          int64\n",
       "Violent                        int64\n",
       "Property                       int64\n",
       "Murder                         int64\n",
       "Forcible_Rape                  int64\n",
       "Robbery                        int64\n",
       "Aggravated_assault             int64\n",
       "Burglary                       int64\n",
       "Larceny_Theft                  int64\n",
       "Vehicle_Theft                  int64\n",
       "dtype: object"
      ]
     },
     "metadata": {},
     "execution_count": 50
    }
   ],
   "source": [
    "crime.dtypes"
   ]
  },
  {
   "cell_type": "markdown",
   "metadata": {
    "colab_type": "text",
    "id": "wUMLk49Wui-h"
   },
   "source": [
    "### Tarefa 4. Configure a coluna Year como index do DataFrame.\n",
    "\n",
    "*Dica: use a função set_index() do Pandas* "
   ]
  },
  {
   "cell_type": "code",
   "execution_count": 51,
   "metadata": {
    "colab": {},
    "colab_type": "code",
    "id": "6n-r6P4jui-i"
   },
   "outputs": [],
   "source": [
    "# Seu código\n",
    "crime.set_index('Year', inplace=True)"
   ]
  },
  {
   "cell_type": "code",
   "execution_count": 52,
   "metadata": {},
   "outputs": [
    {
     "output_type": "execute_result",
     "data": {
      "text/plain": [
       "            Population    Total  Violent  Property  Murder  Forcible_Rape  \\\n",
       "Year                                                                        \n",
       "1960-01-01   179323175  3384200   288460   3095700    9110          17190   \n",
       "1961-01-01   182992000  3488000   289390   3198600    8740          17220   \n",
       "1962-01-01   185771000  3752200   301510   3450700    8530          17550   \n",
       "1963-01-01   188483000  4109500   316970   3792500    8640          17650   \n",
       "1964-01-01   191141000  4564600   364220   4200400    9360          21420   \n",
       "\n",
       "            Robbery  Aggravated_assault  Burglary  Larceny_Theft  \\\n",
       "Year                                                               \n",
       "1960-01-01   107840              154320    912100        1855400   \n",
       "1961-01-01   106670              156760    949600        1913000   \n",
       "1962-01-01   110860              164570    994300        2089600   \n",
       "1963-01-01   116470              174210   1086400        2297800   \n",
       "1964-01-01   130390              203050   1213200        2514400   \n",
       "\n",
       "            Vehicle_Theft  \n",
       "Year                       \n",
       "1960-01-01         328200  \n",
       "1961-01-01         336000  \n",
       "1962-01-01         366800  \n",
       "1963-01-01         408300  \n",
       "1964-01-01         472800  "
      ],
      "text/html": "<div>\n<style scoped>\n    .dataframe tbody tr th:only-of-type {\n        vertical-align: middle;\n    }\n\n    .dataframe tbody tr th {\n        vertical-align: top;\n    }\n\n    .dataframe thead th {\n        text-align: right;\n    }\n</style>\n<table border=\"1\" class=\"dataframe\">\n  <thead>\n    <tr style=\"text-align: right;\">\n      <th></th>\n      <th>Population</th>\n      <th>Total</th>\n      <th>Violent</th>\n      <th>Property</th>\n      <th>Murder</th>\n      <th>Forcible_Rape</th>\n      <th>Robbery</th>\n      <th>Aggravated_assault</th>\n      <th>Burglary</th>\n      <th>Larceny_Theft</th>\n      <th>Vehicle_Theft</th>\n    </tr>\n    <tr>\n      <th>Year</th>\n      <th></th>\n      <th></th>\n      <th></th>\n      <th></th>\n      <th></th>\n      <th></th>\n      <th></th>\n      <th></th>\n      <th></th>\n      <th></th>\n      <th></th>\n    </tr>\n  </thead>\n  <tbody>\n    <tr>\n      <th>1960-01-01</th>\n      <td>179323175</td>\n      <td>3384200</td>\n      <td>288460</td>\n      <td>3095700</td>\n      <td>9110</td>\n      <td>17190</td>\n      <td>107840</td>\n      <td>154320</td>\n      <td>912100</td>\n      <td>1855400</td>\n      <td>328200</td>\n    </tr>\n    <tr>\n      <th>1961-01-01</th>\n      <td>182992000</td>\n      <td>3488000</td>\n      <td>289390</td>\n      <td>3198600</td>\n      <td>8740</td>\n      <td>17220</td>\n      <td>106670</td>\n      <td>156760</td>\n      <td>949600</td>\n      <td>1913000</td>\n      <td>336000</td>\n    </tr>\n    <tr>\n      <th>1962-01-01</th>\n      <td>185771000</td>\n      <td>3752200</td>\n      <td>301510</td>\n      <td>3450700</td>\n      <td>8530</td>\n      <td>17550</td>\n      <td>110860</td>\n      <td>164570</td>\n      <td>994300</td>\n      <td>2089600</td>\n      <td>366800</td>\n    </tr>\n    <tr>\n      <th>1963-01-01</th>\n      <td>188483000</td>\n      <td>4109500</td>\n      <td>316970</td>\n      <td>3792500</td>\n      <td>8640</td>\n      <td>17650</td>\n      <td>116470</td>\n      <td>174210</td>\n      <td>1086400</td>\n      <td>2297800</td>\n      <td>408300</td>\n    </tr>\n    <tr>\n      <th>1964-01-01</th>\n      <td>191141000</td>\n      <td>4564600</td>\n      <td>364220</td>\n      <td>4200400</td>\n      <td>9360</td>\n      <td>21420</td>\n      <td>130390</td>\n      <td>203050</td>\n      <td>1213200</td>\n      <td>2514400</td>\n      <td>472800</td>\n    </tr>\n  </tbody>\n</table>\n</div>"
     },
     "metadata": {},
     "execution_count": 52
    }
   ],
   "source": [
    "crime.head(5)"
   ]
  },
  {
   "cell_type": "markdown",
   "metadata": {
    "colab_type": "text",
    "id": "J-osqYpUui-l"
   },
   "source": [
    "### Tarefa 5. Remova a coluna Total do DataFrame."
   ]
  },
  {
   "cell_type": "code",
   "execution_count": 53,
   "metadata": {
    "colab": {},
    "colab_type": "code",
    "id": "td1aqCVrui-m"
   },
   "outputs": [
    {
     "output_type": "execute_result",
     "data": {
      "text/plain": [
       "            Population  Violent  Property  Murder  Forcible_Rape  Robbery  \\\n",
       "Year                                                                        \n",
       "1960-01-01   179323175   288460   3095700    9110          17190   107840   \n",
       "1961-01-01   182992000   289390   3198600    8740          17220   106670   \n",
       "1962-01-01   185771000   301510   3450700    8530          17550   110860   \n",
       "1963-01-01   188483000   316970   3792500    8640          17650   116470   \n",
       "1964-01-01   191141000   364220   4200400    9360          21420   130390   \n",
       "\n",
       "            Aggravated_assault  Burglary  Larceny_Theft  Vehicle_Theft  \n",
       "Year                                                                    \n",
       "1960-01-01              154320    912100        1855400         328200  \n",
       "1961-01-01              156760    949600        1913000         336000  \n",
       "1962-01-01              164570    994300        2089600         366800  \n",
       "1963-01-01              174210   1086400        2297800         408300  \n",
       "1964-01-01              203050   1213200        2514400         472800  "
      ],
      "text/html": "<div>\n<style scoped>\n    .dataframe tbody tr th:only-of-type {\n        vertical-align: middle;\n    }\n\n    .dataframe tbody tr th {\n        vertical-align: top;\n    }\n\n    .dataframe thead th {\n        text-align: right;\n    }\n</style>\n<table border=\"1\" class=\"dataframe\">\n  <thead>\n    <tr style=\"text-align: right;\">\n      <th></th>\n      <th>Population</th>\n      <th>Violent</th>\n      <th>Property</th>\n      <th>Murder</th>\n      <th>Forcible_Rape</th>\n      <th>Robbery</th>\n      <th>Aggravated_assault</th>\n      <th>Burglary</th>\n      <th>Larceny_Theft</th>\n      <th>Vehicle_Theft</th>\n    </tr>\n    <tr>\n      <th>Year</th>\n      <th></th>\n      <th></th>\n      <th></th>\n      <th></th>\n      <th></th>\n      <th></th>\n      <th></th>\n      <th></th>\n      <th></th>\n      <th></th>\n    </tr>\n  </thead>\n  <tbody>\n    <tr>\n      <th>1960-01-01</th>\n      <td>179323175</td>\n      <td>288460</td>\n      <td>3095700</td>\n      <td>9110</td>\n      <td>17190</td>\n      <td>107840</td>\n      <td>154320</td>\n      <td>912100</td>\n      <td>1855400</td>\n      <td>328200</td>\n    </tr>\n    <tr>\n      <th>1961-01-01</th>\n      <td>182992000</td>\n      <td>289390</td>\n      <td>3198600</td>\n      <td>8740</td>\n      <td>17220</td>\n      <td>106670</td>\n      <td>156760</td>\n      <td>949600</td>\n      <td>1913000</td>\n      <td>336000</td>\n    </tr>\n    <tr>\n      <th>1962-01-01</th>\n      <td>185771000</td>\n      <td>301510</td>\n      <td>3450700</td>\n      <td>8530</td>\n      <td>17550</td>\n      <td>110860</td>\n      <td>164570</td>\n      <td>994300</td>\n      <td>2089600</td>\n      <td>366800</td>\n    </tr>\n    <tr>\n      <th>1963-01-01</th>\n      <td>188483000</td>\n      <td>316970</td>\n      <td>3792500</td>\n      <td>8640</td>\n      <td>17650</td>\n      <td>116470</td>\n      <td>174210</td>\n      <td>1086400</td>\n      <td>2297800</td>\n      <td>408300</td>\n    </tr>\n    <tr>\n      <th>1964-01-01</th>\n      <td>191141000</td>\n      <td>364220</td>\n      <td>4200400</td>\n      <td>9360</td>\n      <td>21420</td>\n      <td>130390</td>\n      <td>203050</td>\n      <td>1213200</td>\n      <td>2514400</td>\n      <td>472800</td>\n    </tr>\n  </tbody>\n</table>\n</div>"
     },
     "metadata": {},
     "execution_count": 53
    }
   ],
   "source": [
    "# Seu código\n",
    "crime = crime.drop(['Total'], axis=1)\n",
    "crime.head(5)"
   ]
  },
  {
   "cell_type": "markdown",
   "metadata": {
    "colab_type": "text",
    "id": "sNRpI3snDwZ7"
   },
   "source": [
    "### Tarefa 6. Encontre o número de roubos de carro do ano de 1978."
   ]
  },
  {
   "cell_type": "code",
   "execution_count": 54,
   "metadata": {
    "colab": {},
    "colab_type": "code",
    "id": "iCHYwMqLECpl"
   },
   "outputs": [
    {
     "output_type": "stream",
     "name": "stdout",
     "text": [
      "Total of vehicle_theft for 1978: Vehicle_Theft    1004100\nName: 1978-01-01 00:00:00, dtype: int64\n"
     ]
    }
   ],
   "source": [
    "# Seu código\n",
    "n_vehicle_theft = crime.loc['1978-01-01', ['Vehicle_Theft']]\n",
    "print(f'Total of vehicle_theft for 1978: {n_vehicle_theft}')"
   ]
  },
  {
   "cell_type": "markdown",
   "metadata": {
    "colab_type": "text",
    "id": "EAlbLVK2ui-q"
   },
   "source": [
    "### Tarefa 7. Retorne a linha do ano em que houve o maior número de assasinatos. \n",
    "\n",
    "*Dica: use a coluna Murder como referência.*"
   ]
  },
  {
   "cell_type": "code",
   "execution_count": 55,
   "metadata": {
    "colab": {},
    "colab_type": "code",
    "id": "GpIqR-6vui-s"
   },
   "outputs": [
    {
     "output_type": "execute_result",
     "data": {
      "text/plain": [
       "Timestamp('1991-01-01 00:00:00')"
      ]
     },
     "metadata": {},
     "execution_count": 55
    }
   ],
   "source": [
    "# Seu código\n",
    "crime.Murder.idxmax()"
   ]
  },
  {
   "cell_type": "markdown",
   "metadata": {
    "colab_type": "text",
    "id": "L7bit-TcEGMm"
   },
   "source": [
    "### Tarefa 8. Retorne o número de assassinatos do ano em que foi registrado o menor número de roubo de carros. \n"
   ]
  },
  {
   "cell_type": "code",
   "execution_count": 56,
   "metadata": {
    "colab": {},
    "colab_type": "code",
    "id": "KAz9sW1oEVeK"
   },
   "outputs": [
    {
     "output_type": "stream",
     "name": "stdout",
     "text": [
      "Number of murders: 9110\n"
     ]
    }
   ],
   "source": [
    "# Seu código\n",
    "r_idx = crime.Vehicle_Theft.argmin() # get the row index for the year with less vehicle theft\n",
    "# get the number of murders for that year\n",
    "n_murder = crime.iloc[r_idx].Murder\n",
    "print(f'Number of murders: {n_murder}')"
   ]
  },
  {
   "cell_type": "markdown",
   "metadata": {
    "colab_type": "text",
    "id": "E0RnhuuMEWsw"
   },
   "source": [
    "**Parabéns! Você chegou ao fim**"
   ]
  }
 ],
 "metadata": {
  "anaconda-cloud": {},
  "colab": {
   "name": "Exercicios_unidade_5_Manipulacao_de_Dados_Parte_02.ipynb",
   "provenance": []
  },
  "kernelspec": {
   "display_name": "Python 3",
   "language": "python",
   "name": "python3"
  },
  "language_info": {
   "codemirror_mode": {
    "name": "ipython",
    "version": 3
   },
   "file_extension": ".py",
   "mimetype": "text/x-python",
   "name": "python",
   "nbconvert_exporter": "python",
   "pygments_lexer": "ipython3",
   "version": "3.8.5-final"
  }
 },
 "nbformat": 4,
 "nbformat_minor": 1
}