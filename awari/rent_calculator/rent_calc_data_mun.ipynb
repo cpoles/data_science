{
 "metadata": {
  "language_info": {
   "codemirror_mode": {
    "name": "ipython",
    "version": 3
   },
   "file_extension": ".py",
   "mimetype": "text/x-python",
   "name": "python",
   "nbconvert_exporter": "python",
   "pygments_lexer": "ipython3",
   "version": "3.8.5-final"
  },
  "orig_nbformat": 2,
  "kernelspec": {
   "name": "python3",
   "display_name": "Python 3",
   "language": "python"
  }
 },
 "nbformat": 4,
 "nbformat_minor": 2,
 "cells": [
  {
   "source": [
    "# Data Mungling for the Rent Calculator"
   ],
   "cell_type": "markdown",
   "metadata": {}
  },
  {
   "cell_type": "code",
   "execution_count": 1,
   "metadata": {},
   "outputs": [],
   "source": [
    "import pandas as pd"
   ]
  },
  {
   "cell_type": "code",
   "execution_count": 7,
   "metadata": {},
   "outputs": [],
   "source": [
    "df = pd.read_csv('banco_alugueis.csv', dtype=str)\n",
    "df = df.drop(['Unnamed: 0'],axis=1)"
   ]
  },
  {
   "cell_type": "code",
   "execution_count": 8,
   "metadata": {},
   "outputs": [
    {
     "output_type": "execute_result",
     "data": {
      "text/plain": [
       "                                  aluguel          quartos  \\\n",
       "0                         R$ 2.000 /Mês      2   Quartos     \n",
       "1                         R$ 7.000 /Mês      2   Quartos     \n",
       "2                         R$ 1.100 /Mês      2   Quartos     \n",
       "3                           R$ 800 /Mês       1   Quarto     \n",
       "4        R$ 5.200 /Mês    R$ 1.249.000       2   Quartos     \n",
       "...                                   ...              ...   \n",
       "7159                      R$ 2.000 /Mês      3   Quartos     \n",
       "7160                      R$ 3.900 /Mês      2   Quartos     \n",
       "7161                      R$ 2.650 /Mês       1   Quarto     \n",
       "7162                      R$ 6.000 /Mês       1   Quarto     \n",
       "7163                      R$ 3.200 /Mês       1   Quarto     \n",
       "\n",
       "                                               endereco           banheiro  \\\n",
       "0     Rua Comendador Miguel Calfat, 62 - Vila Nova C...    2   Banheiros     \n",
       "1     Rua Volta Redonda, 757 - Campo Belo, São Paulo...    5   Banheiros     \n",
       "2     Avenida do Oratório, 5923 - Jardim Ângela (Zon...    2   Banheiros     \n",
       "3     Rua Gomes de Carvalho, 1005 - Vila Olímpia, Sã...     1   Banheiro     \n",
       "4     Rua Nova York - Brooklin Paulista, São Paulo - SP    2   Banheiros     \n",
       "...                                                 ...                ...   \n",
       "7159                          Pinheiros, São Paulo - SP     1   Banheiro     \n",
       "7160   Rua Caio Prado, 363 - Consolação, São Paulo - SP     1   Banheiro     \n",
       "7161           Rua do Paraíso - Paraíso, São Paulo - SP    2   Banheiros     \n",
       "7162  Rua Eugênio de Medeiros, 288 - Pinheiros, São ...    2   Banheiros     \n",
       "7163  Rua Doutor Fadlo Haidar, 75 - Vila Olímpia, Sã...     1   Banheiro     \n",
       "\n",
       "               vaga          area                       bairro  \\\n",
       "0        1   Vaga       56   m²            Vila Nova Conceição   \n",
       "1       3   Vagas      276   m²                     Campo Belo   \n",
       "2        1   Vaga      122   m²     Jardim Ângela (Zona Leste)   \n",
       "3        1   Vaga       30   m²                   Vila Olímpia   \n",
       "4        1   Vaga       71   m²              Brooklin Paulista   \n",
       "...             ...           ...                          ...   \n",
       "7159     1   Vaga       65   m²                             SP   \n",
       "7160     1   Vaga       54   m²                     Consolação   \n",
       "7161     1   Vaga       42   m²                        Paraíso   \n",
       "7162    2   Vagas       60   m²                      Pinheiros   \n",
       "7163     1   Vaga       45   m²                   Vila Olímpia   \n",
       "\n",
       "                                   rua  \n",
       "0     Rua Comendador Miguel Calfat, 62  \n",
       "1               Rua Volta Redonda, 757  \n",
       "2            Avenida do Oratório, 5923  \n",
       "3          Rua Gomes de Carvalho, 1005  \n",
       "4                        Rua Nova York  \n",
       "...                                ...  \n",
       "7159              Pinheiros, São Paulo  \n",
       "7160               Rua Caio Prado, 363  \n",
       "7161                    Rua do Paraíso  \n",
       "7162      Rua Eugênio de Medeiros, 288  \n",
       "7163       Rua Doutor Fadlo Haidar, 75  \n",
       "\n",
       "[7164 rows x 8 columns]"
      ],
      "text/html": "<div>\n<style scoped>\n    .dataframe tbody tr th:only-of-type {\n        vertical-align: middle;\n    }\n\n    .dataframe tbody tr th {\n        vertical-align: top;\n    }\n\n    .dataframe thead th {\n        text-align: right;\n    }\n</style>\n<table border=\"1\" class=\"dataframe\">\n  <thead>\n    <tr style=\"text-align: right;\">\n      <th></th>\n      <th>aluguel</th>\n      <th>quartos</th>\n      <th>endereco</th>\n      <th>banheiro</th>\n      <th>vaga</th>\n      <th>area</th>\n      <th>bairro</th>\n      <th>rua</th>\n    </tr>\n  </thead>\n  <tbody>\n    <tr>\n      <th>0</th>\n      <td>R$ 2.000 /Mês</td>\n      <td>2   Quartos</td>\n      <td>Rua Comendador Miguel Calfat, 62 - Vila Nova C...</td>\n      <td>2   Banheiros</td>\n      <td>1   Vaga</td>\n      <td>56   m²</td>\n      <td>Vila Nova Conceição</td>\n      <td>Rua Comendador Miguel Calfat, 62</td>\n    </tr>\n    <tr>\n      <th>1</th>\n      <td>R$ 7.000 /Mês</td>\n      <td>2   Quartos</td>\n      <td>Rua Volta Redonda, 757 - Campo Belo, São Paulo...</td>\n      <td>5   Banheiros</td>\n      <td>3   Vagas</td>\n      <td>276   m²</td>\n      <td>Campo Belo</td>\n      <td>Rua Volta Redonda, 757</td>\n    </tr>\n    <tr>\n      <th>2</th>\n      <td>R$ 1.100 /Mês</td>\n      <td>2   Quartos</td>\n      <td>Avenida do Oratório, 5923 - Jardim Ângela (Zon...</td>\n      <td>2   Banheiros</td>\n      <td>1   Vaga</td>\n      <td>122   m²</td>\n      <td>Jardim Ângela (Zona Leste)</td>\n      <td>Avenida do Oratório, 5923</td>\n    </tr>\n    <tr>\n      <th>3</th>\n      <td>R$ 800 /Mês</td>\n      <td>1   Quarto</td>\n      <td>Rua Gomes de Carvalho, 1005 - Vila Olímpia, Sã...</td>\n      <td>1   Banheiro</td>\n      <td>1   Vaga</td>\n      <td>30   m²</td>\n      <td>Vila Olímpia</td>\n      <td>Rua Gomes de Carvalho, 1005</td>\n    </tr>\n    <tr>\n      <th>4</th>\n      <td>R$ 5.200 /Mês    R$ 1.249.000</td>\n      <td>2   Quartos</td>\n      <td>Rua Nova York - Brooklin Paulista, São Paulo - SP</td>\n      <td>2   Banheiros</td>\n      <td>1   Vaga</td>\n      <td>71   m²</td>\n      <td>Brooklin Paulista</td>\n      <td>Rua Nova York</td>\n    </tr>\n    <tr>\n      <th>...</th>\n      <td>...</td>\n      <td>...</td>\n      <td>...</td>\n      <td>...</td>\n      <td>...</td>\n      <td>...</td>\n      <td>...</td>\n      <td>...</td>\n    </tr>\n    <tr>\n      <th>7159</th>\n      <td>R$ 2.000 /Mês</td>\n      <td>3   Quartos</td>\n      <td>Pinheiros, São Paulo - SP</td>\n      <td>1   Banheiro</td>\n      <td>1   Vaga</td>\n      <td>65   m²</td>\n      <td>SP</td>\n      <td>Pinheiros, São Paulo</td>\n    </tr>\n    <tr>\n      <th>7160</th>\n      <td>R$ 3.900 /Mês</td>\n      <td>2   Quartos</td>\n      <td>Rua Caio Prado, 363 - Consolação, São Paulo - SP</td>\n      <td>1   Banheiro</td>\n      <td>1   Vaga</td>\n      <td>54   m²</td>\n      <td>Consolação</td>\n      <td>Rua Caio Prado, 363</td>\n    </tr>\n    <tr>\n      <th>7161</th>\n      <td>R$ 2.650 /Mês</td>\n      <td>1   Quarto</td>\n      <td>Rua do Paraíso - Paraíso, São Paulo - SP</td>\n      <td>2   Banheiros</td>\n      <td>1   Vaga</td>\n      <td>42   m²</td>\n      <td>Paraíso</td>\n      <td>Rua do Paraíso</td>\n    </tr>\n    <tr>\n      <th>7162</th>\n      <td>R$ 6.000 /Mês</td>\n      <td>1   Quarto</td>\n      <td>Rua Eugênio de Medeiros, 288 - Pinheiros, São ...</td>\n      <td>2   Banheiros</td>\n      <td>2   Vagas</td>\n      <td>60   m²</td>\n      <td>Pinheiros</td>\n      <td>Rua Eugênio de Medeiros, 288</td>\n    </tr>\n    <tr>\n      <th>7163</th>\n      <td>R$ 3.200 /Mês</td>\n      <td>1   Quarto</td>\n      <td>Rua Doutor Fadlo Haidar, 75 - Vila Olímpia, Sã...</td>\n      <td>1   Banheiro</td>\n      <td>1   Vaga</td>\n      <td>45   m²</td>\n      <td>Vila Olímpia</td>\n      <td>Rua Doutor Fadlo Haidar, 75</td>\n    </tr>\n  </tbody>\n</table>\n<p>7164 rows × 8 columns</p>\n</div>"
     },
     "metadata": {},
     "execution_count": 8
    }
   ],
   "source": [
    "df"
   ]
  },
  {
   "cell_type": "code",
   "execution_count": null,
   "metadata": {},
   "outputs": [],
   "source": []
  }
 ]
}