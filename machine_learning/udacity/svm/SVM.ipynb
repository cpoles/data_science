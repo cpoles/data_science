{
 "cells": [
  {
   "cell_type": "code",
   "execution_count": 1,
   "id": "65dc82bd-1c10-4a79-af43-9ad6e34cf5da",
   "metadata": {},
   "outputs": [],
   "source": [
    "import sys\n",
    "from time import time\n",
    "sys.path.append(\"../tools/\")\n",
    "from email_preprocess import preprocess"
   ]
  },
  {
   "cell_type": "code",
   "execution_count": 2,
   "id": "f75b5785-8045-413b-98b7-9bd80dd64ca7",
   "metadata": {},
   "outputs": [
    {
     "name": "stdout",
     "output_type": "stream",
     "text": [
      "No. of Chris training emails :  7936\n",
      "No. of Sara training emails :  7884\n"
     ]
    }
   ],
   "source": [
    "### features_train and features_test are the features for the training\n",
    "### and testing datasets, respectively\n",
    "### labels_train and labels_test are the corresponding item labels\n",
    "features_train, features_test, labels_train, labels_test = preprocess()\n"
   ]
  },
  {
   "cell_type": "code",
   "execution_count": 7,
   "id": "7a4a0448-96d5-4157-a190-8ad92a51446d",
   "metadata": {},
   "outputs": [
    {
     "name": "stdout",
     "output_type": "stream",
     "text": [
      "SVM Accuracy: 0.98\n"
     ]
    }
   ],
   "source": [
    "#########################################################\n",
    "### your code goes here ###\n",
    "from sklearn.svm import SVC\n",
    "from sklearn.metrics import accuracy_score\n",
    "\n",
    "svc_clf = SVC(kernel='linear')\n",
    "\n",
    "svc_clf.fit(features_train, labels_train)\n",
    "\n",
    "predictions = svc_clf.predict(features_test)\n",
    "\n",
    "accuracy = accuracy_score(labels_test, predictions)\n",
    "\n",
    "print(f'SVM Accuracy: {accuracy:.2f}')\n",
    "\n",
    "#########################################################\n",
    "\n",
    "#########################################################"
   ]
  },
  {
   "cell_type": "code",
   "execution_count": 8,
   "id": "7eb9ecf8-e2a1-458d-8d01-ec83f06f56af",
   "metadata": {},
   "outputs": [
    {
     "name": "stdout",
     "output_type": "stream",
     "text": [
      "Training Time: 77.812 s\n",
      "Predicting Time: 7.61 s\n"
     ]
    }
   ],
   "source": [
    "# timing \n",
    "\n",
    "t0 = time()\n",
    "# # < your clf.fit() line of code >\n",
    "svc_clf.fit(features_train, labels_train)\n",
    "print(\"Training Time:\", round(time()-t0, 3), \"s\")\n",
    "\n",
    "t0 = time()\n",
    "svc_clf.predict(features_test)\n",
    "print(\"Predicting Time:\", round(time()-t0, 3), \"s\")"
   ]
  },
  {
   "cell_type": "code",
   "execution_count": null,
   "id": "a5883e45-8202-4026-b782-1b123cdc1f49",
   "metadata": {},
   "outputs": [],
   "source": [
    "#########################################################\n",
    "\n",
    "#########################################################\n",
    "'''\n",
    "You'll be Provided similar code in the Quiz\n",
    "But the Code provided in Quiz has an Indexing issue\n",
    "The Code Below solves that issue, So use this one\n",
    "'''\n",
    "\n",
    "features_train = features_train[:int(len(features_train)/100)]\n",
    "labels_train = labels_train[:int(len(labels_train)/100)]\n",
    "\n",
    "#########################################################\n"
   ]
  }
 ],
 "metadata": {
  "kernelspec": {
   "display_name": "Python 3",
   "language": "python",
   "name": "python3"
  },
  "language_info": {
   "codemirror_mode": {
    "name": "ipython",
    "version": 3
   },
   "file_extension": ".py",
   "mimetype": "text/x-python",
   "name": "python",
   "nbconvert_exporter": "python",
   "pygments_lexer": "ipython3",
   "version": "3.8.8"
  }
 },
 "nbformat": 4,
 "nbformat_minor": 5
}
