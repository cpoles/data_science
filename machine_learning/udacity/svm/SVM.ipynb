{
 "cells": [
  {
   "cell_type": "code",
   "execution_count": 4,
   "id": "65dc82bd-1c10-4a79-af43-9ad6e34cf5da",
   "metadata": {},
   "outputs": [],
   "source": [
    "import sys\n",
    "from time import time\n",
    "sys.path.append(\"../tools/\")\n",
    "from sklearn.svm import SVC\n",
    "from sklearn.metrics import accuracy_score\n",
    "from email_preprocess import preprocess"
   ]
  },
  {
   "cell_type": "code",
   "execution_count": 5,
   "id": "f75b5785-8045-413b-98b7-9bd80dd64ca7",
   "metadata": {},
   "outputs": [
    {
     "name": "stdout",
     "output_type": "stream",
     "text": [
      "No. of Chris training emails :  7936\n",
      "No. of Sara training emails :  7884\n"
     ]
    }
   ],
   "source": [
    "### features_train and features_test are the features for the training\n",
    "### and testing datasets, respectively\n",
    "### labels_train and labels_test are the corresponding item labels\n",
    "features_train, features_test, labels_train, labels_test = preprocess()\n"
   ]
  },
  {
   "cell_type": "code",
   "execution_count": 7,
   "id": "7a4a0448-96d5-4157-a190-8ad92a51446d",
   "metadata": {},
   "outputs": [
    {
     "name": "stdout",
     "output_type": "stream",
     "text": [
      "SVM Accuracy: 0.98\n"
     ]
    }
   ],
   "source": [
    "#########################################################\n",
    "### your code goes here ###\n",
    "\n",
    "\n",
    "svc_clf = SVC(kernel='linear')\n",
    "\n",
    "svc_clf.fit(features_train, labels_train)\n",
    "\n",
    "predictions = svc_clf.predict(features_test)\n",
    "\n",
    "accuracy = accuracy_score(labels_test, predictions)\n",
    "\n",
    "print(f'SVM Accuracy: {accuracy:.2f}')\n",
    "\n",
    "#########################################################\n",
    "\n",
    "#########################################################"
   ]
  },
  {
   "cell_type": "code",
   "execution_count": 8,
   "id": "7eb9ecf8-e2a1-458d-8d01-ec83f06f56af",
   "metadata": {},
   "outputs": [
    {
     "name": "stdout",
     "output_type": "stream",
     "text": [
      "Training Time: 77.812 s\n",
      "Predicting Time: 7.61 s\n"
     ]
    }
   ],
   "source": [
    "# timing \n",
    "\n",
    "t0 = time()\n",
    "# # < your clf.fit() line of code >\n",
    "svc_clf.fit(features_train, labels_train)\n",
    "print(\"Training Time:\", round(time()-t0, 3), \"s\")\n",
    "\n",
    "t0 = time()\n",
    "svc_clf.predict(features_test)\n",
    "print(\"Predicting Time:\", round(time()-t0, 3), \"s\")"
   ]
  },
  {
   "cell_type": "code",
   "execution_count": 20,
   "id": "a5883e45-8202-4026-b782-1b123cdc1f49",
   "metadata": {},
   "outputs": [
    {
     "name": "stdout",
     "output_type": "stream",
     "text": [
      "SVM Accuracy: 0.88\n"
     ]
    }
   ],
   "source": [
    "#########################################################\n",
    "# TRAINING WITH A SMALLER DATASET\n",
    "\n",
    "# WE CAN SEE THE ACCURACY / TRAINING SPEED TRADEOFF\n",
    "#########################################################\n",
    "\n",
    "features_train = features_train[:int(len(features_train)/100)]\n",
    "labels_train = labels_train[:int(len(labels_train)/100)]\n",
    "\n",
    "#########################################################\n",
    "svc_clf = SVC(kernel='linear')\n",
    "\n",
    "svc_clf.fit(features_train, labels_train)\n",
    "\n",
    "predictions = svc_clf.predict(features_test)\n",
    "\n",
    "accuracy = accuracy_score(labels_test, predictions)\n",
    "\n",
    "print(f'SVM Accuracy: {accuracy:.2f}')"
   ]
  },
  {
   "cell_type": "code",
   "execution_count": 40,
   "id": "4d1314a9-f6cb-48bd-ac87-f7f74d57c41d",
   "metadata": {},
   "outputs": [
    {
     "name": "stdout",
     "output_type": "stream",
     "text": [
      "SVM Accuracy for C=10.0: 0.90\n",
      "SVM Accuracy for C=100.0: 0.90\n",
      "SVM Accuracy for C=1000.0: 0.90\n",
      "SVM Accuracy for C=10000.0: 0.90\n"
     ]
    }
   ],
   "source": [
    "#########################################################\n",
    "# TRAINING WITH A DIFFERENT KERNEL\n",
    "# Try different valyues of C\n",
    "#########################################################\n",
    "features_train = features_train[:int(len(features_train)/100)]\n",
    "labels_train = labels_train[:int(len(labels_train)/100)]\n",
    "\n",
    "#########################################################\n",
    "for c_value in [10.0, 100.0, 1000.0, 10000.0]:\n",
    "    svc_clf = SVC(kernel='rbf', C=c_value)\n",
    "\n",
    "    svc_clf.fit(features_train, labels_train)\n",
    "\n",
    "    predictions = svc_clf.predict(features_test)\n",
    "\n",
    "    accuracy = accuracy_score(labels_test, predictions)\n",
    "\n",
    "    print(f'SVM Accuracy for C={c_value}: {accuracy:.2f}')\n",
    "    \n",
    "\n"
   ]
  },
  {
   "cell_type": "code",
   "execution_count": 45,
   "id": "a576d48b-9b38-4761-9714-0d7aa22f0ed1",
   "metadata": {},
   "outputs": [
    {
     "name": "stdout",
     "output_type": "stream",
     "text": [
      "SVM Accuracy for C=10000.0: 0.90\n",
      "\n",
      "Data Point 10: 1\n",
      "Data Point 26: 0\n",
      "Data Point 50: 1\n"
     ]
    }
   ],
   "source": [
    "features_train = features_train[:int(len(features_train)/100)]\n",
    "labels_train = labels_train[:int(len(labels_train)/100)]\n",
    "\n",
    "svc_clf = SVC(kernel='rbf', C=c_value)\n",
    "\n",
    "svc_clf.fit(features_train, labels_train)\n",
    "\n",
    "predictions = svc_clf.predict(features_test)\n",
    "\n",
    "accuracy = accuracy_score(labels_test, predictions)\n",
    "\n",
    "print(f'SVM Accuracy for C={c_value}: {accuracy:.2f}')\n",
    "print()\n",
    "print(f'Data Point 10: {predictions[10]}')\n",
    "print(f'Data Point 26: {predictions[26]}')\n",
    "print(f'Data Point 50: {predictions[50]}')"
   ]
  },
  {
   "cell_type": "code",
   "execution_count": 7,
   "id": "6083a88f-62dd-409d-981a-3e5872ce4f16",
   "metadata": {},
   "outputs": [
    {
     "name": "stdout",
     "output_type": "stream",
     "text": [
      "SVM Accuracy for C=10_000: 1.00\n",
      "Predicted as Chris: 866\n"
     ]
    }
   ],
   "source": [
    "# How many were predicted as Chris (1)\n",
    "\n",
    "svc_clf = SVC(kernel='rbf', C=10_000)\n",
    "\n",
    "svc_clf.fit(features_train, labels_train)\n",
    "\n",
    "predictions = svc_clf.predict(features_test)\n",
    "\n",
    "accuracy = accuracy_score(labels_test, predictions)\n",
    "\n",
    "print(f'SVM Accuracy for C=10_000: {accuracy:.2f}')\n",
    "\n",
    "\n",
    "print(f'Predicted as Chris: {sum(predictions == 1)}')"
   ]
  },
  {
   "cell_type": "code",
   "execution_count": 8,
   "id": "deb00e2a-0131-47b7-9bbb-0c25a617935a",
   "metadata": {},
   "outputs": [
    {
     "data": {
      "text/plain": [
       "866"
      ]
     },
     "execution_count": 8,
     "metadata": {},
     "output_type": "execute_result"
    }
   ],
   "source": [
    "sum(predictions == 1)"
   ]
  },
  {
   "cell_type": "code",
   "execution_count": 10,
   "id": "969f79db-08cc-4f8d-b38a-69ec867f6cdf",
   "metadata": {},
   "outputs": [
    {
     "data": {
      "text/plain": [
       "1758"
      ]
     },
     "execution_count": 10,
     "metadata": {},
     "output_type": "execute_result"
    }
   ],
   "source": [
    "len(predictions)"
   ]
  },
  {
   "cell_type": "code",
   "execution_count": null,
   "id": "9f123995-63b3-42b7-af8a-13078a614092",
   "metadata": {},
   "outputs": [],
   "source": []
  }
 ],
 "metadata": {
  "kernelspec": {
   "display_name": "Python 3",
   "language": "python",
   "name": "python3"
  },
  "language_info": {
   "codemirror_mode": {
    "name": "ipython",
    "version": 3
   },
   "file_extension": ".py",
   "mimetype": "text/x-python",
   "name": "python",
   "nbconvert_exporter": "python",
   "pygments_lexer": "ipython3",
   "version": "3.8.8"
  }
 },
 "nbformat": 4,
 "nbformat_minor": 5
}
