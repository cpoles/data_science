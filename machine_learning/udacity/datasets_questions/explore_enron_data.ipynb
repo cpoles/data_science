{
 "cells": [
  {
   "cell_type": "code",
   "execution_count": 1,
   "id": "4bb1c37a",
   "metadata": {},
   "outputs": [],
   "source": [
    "import joblib\n",
    "\n",
    "enron_data = joblib.load(open(\"../final_project/final_project_dataset.pkl\", \"rb\"))"
   ]
  },
  {
   "cell_type": "code",
   "execution_count": 2,
   "id": "08971b22",
   "metadata": {},
   "outputs": [
    {
     "data": {
      "text/plain": [
       "dict"
      ]
     },
     "execution_count": 2,
     "metadata": {},
     "output_type": "execute_result"
    }
   ],
   "source": [
    "type(enron_data)"
   ]
  },
  {
   "cell_type": "code",
   "execution_count": 4,
   "id": "330bcf78",
   "metadata": {},
   "outputs": [],
   "source": [
    "import pandas as pd"
   ]
  },
  {
   "cell_type": "code",
   "execution_count": 28,
   "id": "04ca8c8e",
   "metadata": {},
   "outputs": [],
   "source": [
    "enron_df = pd.DataFrame(index=enron_data.keys(), \n",
    "                        columns=list(enron_data.values())[0].keys(),\n",
    "                        data=list(map(lambda x: x.values(), enron_data.values())))"
   ]
  },
  {
   "cell_type": "code",
   "execution_count": 34,
   "id": "cdfc782c",
   "metadata": {},
   "outputs": [
    {
     "data": {
      "text/html": [
       "<div>\n",
       "<style scoped>\n",
       "    .dataframe tbody tr th:only-of-type {\n",
       "        vertical-align: middle;\n",
       "    }\n",
       "\n",
       "    .dataframe tbody tr th {\n",
       "        vertical-align: top;\n",
       "    }\n",
       "\n",
       "    .dataframe thead th {\n",
       "        text-align: right;\n",
       "    }\n",
       "</style>\n",
       "<table border=\"1\" class=\"dataframe\">\n",
       "  <thead>\n",
       "    <tr style=\"text-align: right;\">\n",
       "      <th></th>\n",
       "      <th>salary</th>\n",
       "      <th>to_messages</th>\n",
       "      <th>deferral_payments</th>\n",
       "      <th>total_payments</th>\n",
       "      <th>loan_advances</th>\n",
       "      <th>bonus</th>\n",
       "      <th>email_address</th>\n",
       "      <th>restricted_stock_deferred</th>\n",
       "      <th>deferred_income</th>\n",
       "      <th>total_stock_value</th>\n",
       "      <th>...</th>\n",
       "      <th>from_poi_to_this_person</th>\n",
       "      <th>exercised_stock_options</th>\n",
       "      <th>from_messages</th>\n",
       "      <th>other</th>\n",
       "      <th>from_this_person_to_poi</th>\n",
       "      <th>poi</th>\n",
       "      <th>long_term_incentive</th>\n",
       "      <th>shared_receipt_with_poi</th>\n",
       "      <th>restricted_stock</th>\n",
       "      <th>director_fees</th>\n",
       "    </tr>\n",
       "  </thead>\n",
       "  <tbody>\n",
       "    <tr>\n",
       "      <th>METTS MARK</th>\n",
       "      <td>365788</td>\n",
       "      <td>807</td>\n",
       "      <td>NaN</td>\n",
       "      <td>1061827</td>\n",
       "      <td>NaN</td>\n",
       "      <td>600000</td>\n",
       "      <td>mark.metts@enron.com</td>\n",
       "      <td>NaN</td>\n",
       "      <td>NaN</td>\n",
       "      <td>585062</td>\n",
       "      <td>...</td>\n",
       "      <td>38</td>\n",
       "      <td>NaN</td>\n",
       "      <td>29</td>\n",
       "      <td>1740</td>\n",
       "      <td>1</td>\n",
       "      <td>False</td>\n",
       "      <td>NaN</td>\n",
       "      <td>702</td>\n",
       "      <td>585062</td>\n",
       "      <td>NaN</td>\n",
       "    </tr>\n",
       "    <tr>\n",
       "      <th>BAXTER JOHN C</th>\n",
       "      <td>267102</td>\n",
       "      <td>NaN</td>\n",
       "      <td>1295738</td>\n",
       "      <td>5634343</td>\n",
       "      <td>NaN</td>\n",
       "      <td>1200000</td>\n",
       "      <td>NaN</td>\n",
       "      <td>NaN</td>\n",
       "      <td>-1386055</td>\n",
       "      <td>10623258</td>\n",
       "      <td>...</td>\n",
       "      <td>NaN</td>\n",
       "      <td>6680544</td>\n",
       "      <td>NaN</td>\n",
       "      <td>2660303</td>\n",
       "      <td>NaN</td>\n",
       "      <td>False</td>\n",
       "      <td>1586055</td>\n",
       "      <td>NaN</td>\n",
       "      <td>3942714</td>\n",
       "      <td>NaN</td>\n",
       "    </tr>\n",
       "    <tr>\n",
       "      <th>ELLIOTT STEVEN</th>\n",
       "      <td>170941</td>\n",
       "      <td>NaN</td>\n",
       "      <td>NaN</td>\n",
       "      <td>211725</td>\n",
       "      <td>NaN</td>\n",
       "      <td>350000</td>\n",
       "      <td>steven.elliott@enron.com</td>\n",
       "      <td>NaN</td>\n",
       "      <td>-400729</td>\n",
       "      <td>6678735</td>\n",
       "      <td>...</td>\n",
       "      <td>NaN</td>\n",
       "      <td>4890344</td>\n",
       "      <td>NaN</td>\n",
       "      <td>12961</td>\n",
       "      <td>NaN</td>\n",
       "      <td>False</td>\n",
       "      <td>NaN</td>\n",
       "      <td>NaN</td>\n",
       "      <td>1788391</td>\n",
       "      <td>NaN</td>\n",
       "    </tr>\n",
       "    <tr>\n",
       "      <th>CORDES WILLIAM R</th>\n",
       "      <td>NaN</td>\n",
       "      <td>764</td>\n",
       "      <td>NaN</td>\n",
       "      <td>NaN</td>\n",
       "      <td>NaN</td>\n",
       "      <td>NaN</td>\n",
       "      <td>bill.cordes@enron.com</td>\n",
       "      <td>NaN</td>\n",
       "      <td>NaN</td>\n",
       "      <td>1038185</td>\n",
       "      <td>...</td>\n",
       "      <td>10</td>\n",
       "      <td>651850</td>\n",
       "      <td>12</td>\n",
       "      <td>NaN</td>\n",
       "      <td>0</td>\n",
       "      <td>False</td>\n",
       "      <td>NaN</td>\n",
       "      <td>58</td>\n",
       "      <td>386335</td>\n",
       "      <td>NaN</td>\n",
       "    </tr>\n",
       "    <tr>\n",
       "      <th>HANNON KEVIN P</th>\n",
       "      <td>243293</td>\n",
       "      <td>1045</td>\n",
       "      <td>NaN</td>\n",
       "      <td>288682</td>\n",
       "      <td>NaN</td>\n",
       "      <td>1500000</td>\n",
       "      <td>kevin.hannon@enron.com</td>\n",
       "      <td>NaN</td>\n",
       "      <td>-3117011</td>\n",
       "      <td>6391065</td>\n",
       "      <td>...</td>\n",
       "      <td>32</td>\n",
       "      <td>5538001</td>\n",
       "      <td>32</td>\n",
       "      <td>11350</td>\n",
       "      <td>21</td>\n",
       "      <td>True</td>\n",
       "      <td>1617011</td>\n",
       "      <td>1035</td>\n",
       "      <td>853064</td>\n",
       "      <td>NaN</td>\n",
       "    </tr>\n",
       "  </tbody>\n",
       "</table>\n",
       "<p>5 rows × 21 columns</p>\n",
       "</div>"
      ],
      "text/plain": [
       "                  salary to_messages deferral_payments total_payments  \\\n",
       "METTS MARK        365788         807               NaN        1061827   \n",
       "BAXTER JOHN C     267102         NaN           1295738        5634343   \n",
       "ELLIOTT STEVEN    170941         NaN               NaN         211725   \n",
       "CORDES WILLIAM R     NaN         764               NaN            NaN   \n",
       "HANNON KEVIN P    243293        1045               NaN         288682   \n",
       "\n",
       "                 loan_advances    bonus             email_address  \\\n",
       "METTS MARK                 NaN   600000      mark.metts@enron.com   \n",
       "BAXTER JOHN C              NaN  1200000                       NaN   \n",
       "ELLIOTT STEVEN             NaN   350000  steven.elliott@enron.com   \n",
       "CORDES WILLIAM R           NaN      NaN     bill.cordes@enron.com   \n",
       "HANNON KEVIN P             NaN  1500000    kevin.hannon@enron.com   \n",
       "\n",
       "                 restricted_stock_deferred deferred_income total_stock_value  \\\n",
       "METTS MARK                             NaN             NaN            585062   \n",
       "BAXTER JOHN C                          NaN        -1386055          10623258   \n",
       "ELLIOTT STEVEN                         NaN         -400729           6678735   \n",
       "CORDES WILLIAM R                       NaN             NaN           1038185   \n",
       "HANNON KEVIN P                         NaN        -3117011           6391065   \n",
       "\n",
       "                  ... from_poi_to_this_person exercised_stock_options  \\\n",
       "METTS MARK        ...                      38                     NaN   \n",
       "BAXTER JOHN C     ...                     NaN                 6680544   \n",
       "ELLIOTT STEVEN    ...                     NaN                 4890344   \n",
       "CORDES WILLIAM R  ...                      10                  651850   \n",
       "HANNON KEVIN P    ...                      32                 5538001   \n",
       "\n",
       "                 from_messages    other from_this_person_to_poi    poi  \\\n",
       "METTS MARK                  29     1740                       1  False   \n",
       "BAXTER JOHN C              NaN  2660303                     NaN  False   \n",
       "ELLIOTT STEVEN             NaN    12961                     NaN  False   \n",
       "CORDES WILLIAM R            12      NaN                       0  False   \n",
       "HANNON KEVIN P              32    11350                      21   True   \n",
       "\n",
       "                  long_term_incentive shared_receipt_with_poi  \\\n",
       "METTS MARK                        NaN                     702   \n",
       "BAXTER JOHN C                 1586055                     NaN   \n",
       "ELLIOTT STEVEN                    NaN                     NaN   \n",
       "CORDES WILLIAM R                  NaN                      58   \n",
       "HANNON KEVIN P                1617011                    1035   \n",
       "\n",
       "                 restricted_stock director_fees  \n",
       "METTS MARK                 585062           NaN  \n",
       "BAXTER JOHN C             3942714           NaN  \n",
       "ELLIOTT STEVEN            1788391           NaN  \n",
       "CORDES WILLIAM R           386335           NaN  \n",
       "HANNON KEVIN P             853064           NaN  \n",
       "\n",
       "[5 rows x 21 columns]"
      ]
     },
     "execution_count": 34,
     "metadata": {},
     "output_type": "execute_result"
    }
   ],
   "source": [
    "enron_df.head()"
   ]
  },
  {
   "cell_type": "markdown",
   "id": "e8128d12",
   "metadata": {},
   "source": [
    "How many data points (people) are in the dataset?"
   ]
  },
  {
   "cell_type": "code",
   "execution_count": 30,
   "id": "38c0a055",
   "metadata": {},
   "outputs": [
    {
     "data": {
      "text/plain": [
       "146"
      ]
     },
     "execution_count": 30,
     "metadata": {},
     "output_type": "execute_result"
    }
   ],
   "source": [
    "enron_df.shape[0]"
   ]
  },
  {
   "cell_type": "markdown",
   "id": "3e977486",
   "metadata": {},
   "source": [
    "For each person, how many features are available?"
   ]
  },
  {
   "cell_type": "code",
   "execution_count": 31,
   "id": "0fbf2fa6",
   "metadata": {},
   "outputs": [
    {
     "data": {
      "text/plain": [
       "21"
      ]
     },
     "execution_count": 31,
     "metadata": {},
     "output_type": "execute_result"
    }
   ],
   "source": [
    "enron_df.shape[1]"
   ]
  },
  {
   "cell_type": "markdown",
   "id": "da64d2d1",
   "metadata": {},
   "source": [
    "How many POIs are there in the E+F dataset?"
   ]
  },
  {
   "cell_type": "code",
   "execution_count": 41,
   "id": "f9c110ae",
   "metadata": {},
   "outputs": [
    {
     "data": {
      "text/plain": [
       "18"
      ]
     },
     "execution_count": 41,
     "metadata": {},
     "output_type": "execute_result"
    }
   ],
   "source": [
    "enron_df[enron_df.poi == True].shape[0]"
   ]
  },
  {
   "cell_type": "markdown",
   "id": "78cd8973",
   "metadata": {},
   "source": [
    "What is the total value of the stock belonging to James Prentice?"
   ]
  },
  {
   "cell_type": "code",
   "execution_count": 44,
   "id": "1b767f0e",
   "metadata": {},
   "outputs": [
    {
     "data": {
      "text/plain": [
       "1095040"
      ]
     },
     "execution_count": 44,
     "metadata": {},
     "output_type": "execute_result"
    }
   ],
   "source": [
    "enron_df.loc[\"PRENTICE JAMES\", \"total_stock_value\"]"
   ]
  },
  {
   "cell_type": "markdown",
   "id": "90beff5d",
   "metadata": {},
   "source": [
    "How many email messages do we have from Wesley Colwell to persons of interest?"
   ]
  },
  {
   "cell_type": "code",
   "execution_count": 49,
   "id": "197dc648",
   "metadata": {},
   "outputs": [
    {
     "data": {
      "text/plain": [
       "11"
      ]
     },
     "execution_count": 49,
     "metadata": {},
     "output_type": "execute_result"
    }
   ],
   "source": [
    "enron_df.loc['COLWELL WESLEY', 'from_this_person_to_poi']"
   ]
  },
  {
   "cell_type": "markdown",
   "id": "81539977",
   "metadata": {},
   "source": [
    "What’s the value of stock options exercised by Jeffrey K Skilling?"
   ]
  },
  {
   "cell_type": "code",
   "execution_count": 53,
   "id": "2f723153",
   "metadata": {},
   "outputs": [
    {
     "data": {
      "text/plain": [
       "19250000"
      ]
     },
     "execution_count": 53,
     "metadata": {},
     "output_type": "execute_result"
    }
   ],
   "source": [
    "enron_df.loc['SKILLING JEFFREY K', 'exercised_stock_options']"
   ]
  },
  {
   "cell_type": "markdown",
   "id": "9bdfc0a6",
   "metadata": {},
   "source": [
    "Of these three individuals (Lay, Skilling and Fastow), who took home the most money (largest value of “total_payments” feature)?"
   ]
  },
  {
   "cell_type": "code",
   "execution_count": 62,
   "id": "6f65d6af",
   "metadata": {},
   "outputs": [
    {
     "data": {
      "text/plain": [
       "TOTAL              309886585.0\n",
       "LAY KENNETH L      103559793.0\n",
       "FREVERT MARK A      17252530.0\n",
       "LAVORATO JOHN J     10425757.0\n",
       "Name: total_payments, dtype: float64"
      ]
     },
     "execution_count": 62,
     "metadata": {},
     "output_type": "execute_result"
    }
   ],
   "source": [
    "enron_df.loc[:, 'total_payments'].astype('float64').sort_values(ascending=False).head(4)"
   ]
  },
  {
   "cell_type": "markdown",
   "id": "34d7677a",
   "metadata": {},
   "source": [
    "How many folks in this dataset have a quantified salary? What about a known email address?"
   ]
  },
  {
   "cell_type": "code",
   "execution_count": 66,
   "id": "c72459e5",
   "metadata": {},
   "outputs": [
    {
     "data": {
      "text/plain": [
       "95"
      ]
     },
     "execution_count": 66,
     "metadata": {},
     "output_type": "execute_result"
    }
   ],
   "source": [
    "# quantified salary\n",
    "enron_df.loc[enron_df.salary != 'NaN'].shape[0]"
   ]
  },
  {
   "cell_type": "code",
   "execution_count": 69,
   "id": "0ae4e3a0",
   "metadata": {},
   "outputs": [
    {
     "data": {
      "text/plain": [
       "110"
      ]
     },
     "execution_count": 69,
     "metadata": {},
     "output_type": "execute_result"
    }
   ],
   "source": [
    "# known email address\n",
    "enron_df.loc[enron_df.email_address != 'NaN'].shape[0]"
   ]
  },
  {
   "cell_type": "code",
   "execution_count": 80,
   "id": "424b25de",
   "metadata": {},
   "outputs": [
    {
     "data": {
      "text/plain": [
       "110"
      ]
     },
     "execution_count": 80,
     "metadata": {},
     "output_type": "execute_result"
    }
   ],
   "source": [
    "enron_df.loc[enron_df.email_address != 'NaN', 'email_address'].nunique()"
   ]
  },
  {
   "cell_type": "code",
   "execution_count": 77,
   "id": "bc09224c",
   "metadata": {},
   "outputs": [
    {
     "data": {
      "text/plain": [
       "Index(['salary', 'to_messages', 'deferral_payments', 'total_payments',\n",
       "       'loan_advances', 'bonus', 'email_address', 'restricted_stock_deferred',\n",
       "       'deferred_income', 'total_stock_value', 'expenses',\n",
       "       'from_poi_to_this_person', 'exercised_stock_options', 'from_messages',\n",
       "       'other', 'from_this_person_to_poi', 'poi', 'long_term_incentive',\n",
       "       'shared_receipt_with_poi', 'restricted_stock', 'director_fees'],\n",
       "      dtype='object')"
      ]
     },
     "execution_count": 77,
     "metadata": {},
     "output_type": "execute_result"
    }
   ],
   "source": [
    "enron_df.columns"
   ]
  },
  {
   "cell_type": "markdown",
   "id": "9843ee19",
   "metadata": {},
   "source": [
    "How many people in the E+F dataset (as it currently exists) have “NaN” for their total payments?\n",
    "What percentage of people in the dataset as a whole is this?"
   ]
  },
  {
   "cell_type": "code",
   "execution_count": 92,
   "id": "496d98c6",
   "metadata": {},
   "outputs": [
    {
     "data": {
      "text/plain": [
       "0.1506849315068493"
      ]
     },
     "execution_count": 92,
     "metadata": {},
     "output_type": "execute_result"
    }
   ],
   "source": [
    "import numpy as np\n",
    "\n",
    "np.mean(enron_df.total_payments == 'NaN')"
   ]
  },
  {
   "cell_type": "markdown",
   "id": "550c2a1b",
   "metadata": {},
   "source": [
    "How many POIs in the E+F dataset have “NaN” for their total payments?\n",
    "What percentage of POI’s as a whole is this?"
   ]
  },
  {
   "cell_type": "code",
   "execution_count": 103,
   "id": "77903dd9",
   "metadata": {},
   "outputs": [
    {
     "data": {
      "text/plain": [
       "0.0"
      ]
     },
     "execution_count": 103,
     "metadata": {},
     "output_type": "execute_result"
    }
   ],
   "source": [
    "np.mean(enron_df.loc[(enron_df.poi == True), 'total_payments'] == 'NaN')"
   ]
  },
  {
   "cell_type": "markdown",
   "id": "abb7b9b5",
   "metadata": {},
   "source": [
    "If a machine learning algorithm were to use total_payments as a feature, would you expect it to associate a “NaN” value with POIs or non-POIs?\n",
    "\n",
    "answer: non-POIs"
   ]
  },
  {
   "cell_type": "code",
   "execution_count": 104,
   "id": "975a9607",
   "metadata": {},
   "outputs": [],
   "source": [
    "# answer: non-POIs"
   ]
  },
  {
   "cell_type": "markdown",
   "id": "2a06792e",
   "metadata": {},
   "source": [
    "What is the new number of people of the dataset? \n",
    "What is the new number of folks with “NaN” for total payments?"
   ]
  },
  {
   "cell_type": "code",
   "execution_count": 106,
   "id": "0e16dabe",
   "metadata": {},
   "outputs": [
    {
     "data": {
      "text/plain": [
       "156"
      ]
     },
     "execution_count": 106,
     "metadata": {},
     "output_type": "execute_result"
    }
   ],
   "source": [
    "# adding 10 poi people\n",
    "enron_df.shape[0] + 10"
   ]
  },
  {
   "cell_type": "code",
   "execution_count": 109,
   "id": "61c274b4",
   "metadata": {},
   "outputs": [
    {
     "data": {
      "text/plain": [
       "32"
      ]
     },
     "execution_count": 109,
     "metadata": {},
     "output_type": "execute_result"
    }
   ],
   "source": [
    "# adding 10 obs with nan to total payments\n",
    "enron_df[enron_df.total_payments == 'NaN'].shape[0] + 10"
   ]
  },
  {
   "cell_type": "markdown",
   "id": "f896ec1d",
   "metadata": {},
   "source": [
    "What is the new number of POI’s in the dataset?\n",
    "What is the new number of POI’s with NaN for total_payments?"
   ]
  },
  {
   "cell_type": "code",
   "execution_count": 113,
   "id": "2d23fbba",
   "metadata": {},
   "outputs": [
    {
     "data": {
      "text/plain": [
       "28"
      ]
     },
     "execution_count": 113,
     "metadata": {},
     "output_type": "execute_result"
    }
   ],
   "source": [
    "enron_df[enron_df.poi == True].shape[0] + 10"
   ]
  },
  {
   "cell_type": "code",
   "execution_count": 116,
   "id": "7be82316",
   "metadata": {},
   "outputs": [
    {
     "data": {
      "text/plain": [
       "HANNON KEVIN P             288682\n",
       "COLWELL WESLEY            1490344\n",
       "RIEKER PAULA H            1099100\n",
       "KOPPER MICHAEL J          2652612\n",
       "SHELBY REX                2003885\n",
       "DELAINEY DAVID W          4747979\n",
       "LAY KENNETH L           103559793\n",
       "BOWEN JR RAYMOND M        2669589\n",
       "BELDEN TIMOTHY N          5501630\n",
       "FASTOW ANDREW S           2424083\n",
       "CALGER CHRISTOPHER F      1639297\n",
       "RICE KENNETH D             505050\n",
       "SKILLING JEFFREY K        8682716\n",
       "YEAGER F SCOTT             360300\n",
       "HIRKO JOSEPH                91093\n",
       "KOENIG MARK E             1587421\n",
       "CAUSEY RICHARD A          1868758\n",
       "GLISAN JR BEN F           1272284\n",
       "Name: total_payments, dtype: object"
      ]
     },
     "execution_count": 116,
     "metadata": {},
     "output_type": "execute_result"
    }
   ],
   "source": [
    "enron_df.loc[(enron_df.poi == True), 'total_payments'] \n",
    "\n",
    "# total number would be 10 NaNs as there were not any before"
   ]
  },
  {
   "cell_type": "markdown",
   "id": "8382f41c",
   "metadata": {},
   "source": [
    "Once the new data points are added, do you think a supervised classification algorithm might interpret “NaN” for total_payments as a clue that someone is a POI?"
   ]
  },
  {
   "cell_type": "code",
   "execution_count": 117,
   "id": "daca8dfb",
   "metadata": {},
   "outputs": [],
   "source": [
    "# Yes. If more pois are added and associate with a NaN value for the total_payments feature"
   ]
  },
  {
   "cell_type": "code",
   "execution_count": null,
   "id": "db008a86",
   "metadata": {},
   "outputs": [],
   "source": []
  }
 ],
 "metadata": {
  "kernelspec": {
   "display_name": "Python 3 (ipykernel)",
   "language": "python",
   "name": "python3"
  },
  "language_info": {
   "codemirror_mode": {
    "name": "ipython",
    "version": 3
   },
   "file_extension": ".py",
   "mimetype": "text/x-python",
   "name": "python",
   "nbconvert_exporter": "python",
   "pygments_lexer": "ipython3",
   "version": "3.9.6"
  }
 },
 "nbformat": 4,
 "nbformat_minor": 5
}
