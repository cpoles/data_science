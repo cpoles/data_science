{
 "cells": [
  {
   "cell_type": "code",
   "execution_count": 1,
   "id": "e351abb4",
   "metadata": {},
   "outputs": [],
   "source": [
    "import pandas as pd\n",
    "import numpy as np\n",
    "import matplotlib.pyplot as plt\n",
    "import seaborn as sns"
   ]
  },
  {
   "cell_type": "markdown",
   "id": "63ab91e4",
   "metadata": {},
   "source": [
    "### Load Data"
   ]
  },
  {
   "cell_type": "code",
   "execution_count": 2,
   "id": "eab8655d",
   "metadata": {},
   "outputs": [
    {
     "data": {
      "text/html": [
       "<div>\n",
       "<style scoped>\n",
       "    .dataframe tbody tr th:only-of-type {\n",
       "        vertical-align: middle;\n",
       "    }\n",
       "\n",
       "    .dataframe tbody tr th {\n",
       "        vertical-align: top;\n",
       "    }\n",
       "\n",
       "    .dataframe thead th {\n",
       "        text-align: right;\n",
       "    }\n",
       "</style>\n",
       "<table border=\"1\" class=\"dataframe\">\n",
       "  <thead>\n",
       "    <tr style=\"text-align: right;\">\n",
       "      <th></th>\n",
       "      <th>exam1</th>\n",
       "      <th>exam2</th>\n",
       "      <th>admitted</th>\n",
       "    </tr>\n",
       "  </thead>\n",
       "  <tbody>\n",
       "    <tr>\n",
       "      <th>0</th>\n",
       "      <td>34.623660</td>\n",
       "      <td>78.024693</td>\n",
       "      <td>0</td>\n",
       "    </tr>\n",
       "    <tr>\n",
       "      <th>1</th>\n",
       "      <td>30.286711</td>\n",
       "      <td>43.894998</td>\n",
       "      <td>0</td>\n",
       "    </tr>\n",
       "    <tr>\n",
       "      <th>2</th>\n",
       "      <td>35.847409</td>\n",
       "      <td>72.902198</td>\n",
       "      <td>0</td>\n",
       "    </tr>\n",
       "    <tr>\n",
       "      <th>3</th>\n",
       "      <td>60.182599</td>\n",
       "      <td>86.308552</td>\n",
       "      <td>1</td>\n",
       "    </tr>\n",
       "    <tr>\n",
       "      <th>4</th>\n",
       "      <td>79.032736</td>\n",
       "      <td>75.344376</td>\n",
       "      <td>1</td>\n",
       "    </tr>\n",
       "  </tbody>\n",
       "</table>\n",
       "</div>"
      ],
      "text/plain": [
       "       exam1      exam2  admitted\n",
       "0  34.623660  78.024693         0\n",
       "1  30.286711  43.894998         0\n",
       "2  35.847409  72.902198         0\n",
       "3  60.182599  86.308552         1\n",
       "4  79.032736  75.344376         1"
      ]
     },
     "execution_count": 2,
     "metadata": {},
     "output_type": "execute_result"
    }
   ],
   "source": [
    "data = pd.read_csv('./ex2data1.txt', names=['exam1', 'exam2', 'admitted'])\n",
    "data.head()"
   ]
  },
  {
   "cell_type": "code",
   "execution_count": 3,
   "id": "1bdca455",
   "metadata": {},
   "outputs": [
    {
     "data": {
      "text/html": [
       "<div>\n",
       "<style scoped>\n",
       "    .dataframe tbody tr th:only-of-type {\n",
       "        vertical-align: middle;\n",
       "    }\n",
       "\n",
       "    .dataframe tbody tr th {\n",
       "        vertical-align: top;\n",
       "    }\n",
       "\n",
       "    .dataframe thead th {\n",
       "        text-align: right;\n",
       "    }\n",
       "</style>\n",
       "<table border=\"1\" class=\"dataframe\">\n",
       "  <thead>\n",
       "    <tr style=\"text-align: right;\">\n",
       "      <th></th>\n",
       "      <th>count</th>\n",
       "      <th>mean</th>\n",
       "      <th>std</th>\n",
       "      <th>min</th>\n",
       "      <th>25%</th>\n",
       "      <th>50%</th>\n",
       "      <th>75%</th>\n",
       "      <th>max</th>\n",
       "    </tr>\n",
       "  </thead>\n",
       "  <tbody>\n",
       "    <tr>\n",
       "      <th>exam1</th>\n",
       "      <td>100.0</td>\n",
       "      <td>65.644274</td>\n",
       "      <td>19.458222</td>\n",
       "      <td>30.058822</td>\n",
       "      <td>50.919511</td>\n",
       "      <td>67.032988</td>\n",
       "      <td>80.212529</td>\n",
       "      <td>99.827858</td>\n",
       "    </tr>\n",
       "    <tr>\n",
       "      <th>exam2</th>\n",
       "      <td>100.0</td>\n",
       "      <td>66.221998</td>\n",
       "      <td>18.582783</td>\n",
       "      <td>30.603263</td>\n",
       "      <td>48.179205</td>\n",
       "      <td>67.682381</td>\n",
       "      <td>79.360605</td>\n",
       "      <td>98.869436</td>\n",
       "    </tr>\n",
       "    <tr>\n",
       "      <th>admitted</th>\n",
       "      <td>100.0</td>\n",
       "      <td>0.600000</td>\n",
       "      <td>0.492366</td>\n",
       "      <td>0.000000</td>\n",
       "      <td>0.000000</td>\n",
       "      <td>1.000000</td>\n",
       "      <td>1.000000</td>\n",
       "      <td>1.000000</td>\n",
       "    </tr>\n",
       "  </tbody>\n",
       "</table>\n",
       "</div>"
      ],
      "text/plain": [
       "          count       mean        std        min        25%        50%  \\\n",
       "exam1     100.0  65.644274  19.458222  30.058822  50.919511  67.032988   \n",
       "exam2     100.0  66.221998  18.582783  30.603263  48.179205  67.682381   \n",
       "admitted  100.0   0.600000   0.492366   0.000000   0.000000   1.000000   \n",
       "\n",
       "                75%        max  \n",
       "exam1     80.212529  99.827858  \n",
       "exam2     79.360605  98.869436  \n",
       "admitted   1.000000   1.000000  "
      ]
     },
     "execution_count": 3,
     "metadata": {},
     "output_type": "execute_result"
    }
   ],
   "source": [
    "data.describe().T"
   ]
  },
  {
   "cell_type": "code",
   "execution_count": 4,
   "id": "16aa613d",
   "metadata": {},
   "outputs": [
    {
     "data": {
      "text/plain": [
       "exam1       float64\n",
       "exam2       float64\n",
       "admitted      int64\n",
       "dtype: object"
      ]
     },
     "execution_count": 4,
     "metadata": {},
     "output_type": "execute_result"
    }
   ],
   "source": [
    "data.dtypes"
   ]
  },
  {
   "cell_type": "code",
   "execution_count": 5,
   "id": "4c3cc2ab",
   "metadata": {},
   "outputs": [
    {
     "data": {
      "text/plain": [
       "1    60\n",
       "0    40\n",
       "Name: admitted, dtype: int64"
      ]
     },
     "execution_count": 5,
     "metadata": {},
     "output_type": "execute_result"
    }
   ],
   "source": [
    "data.admitted.value_counts()"
   ]
  },
  {
   "cell_type": "markdown",
   "id": "40b6587d",
   "metadata": {},
   "source": [
    "### Plot Data"
   ]
  },
  {
   "cell_type": "code",
   "execution_count": 6,
   "id": "e5d438e8",
   "metadata": {},
   "outputs": [
    {
     "data": {
      "text/plain": [
       "<seaborn.axisgrid.FacetGrid at 0x11e9b42b0>"
      ]
     },
     "execution_count": 6,
     "metadata": {},
     "output_type": "execute_result"
    },
    {
     "data": {
      "image/png": "[encoded data removed]",
      "text/plain": [
       "<Figure size 413.25x360 with 1 Axes>"
      ]
     },
     "metadata": {
      "needs_background": "light"
     },
     "output_type": "display_data"
    }
   ],
   "source": [
    "sns.displot(data=data, x=\"exam1\", hue=\"admitted\", kind='kde', fill=True)"
   ]
  },
  {
   "cell_type": "code",
   "execution_count": 7,
   "id": "19ec912b",
   "metadata": {},
   "outputs": [
    {
     "data": {
      "text/plain": [
       "<seaborn.axisgrid.FacetGrid at 0x11e9f55e0>"
      ]
     },
     "execution_count": 7,
     "metadata": {},
     "output_type": "execute_result"
    },
    {
     "data": {
      "image/png": "[encoded data removed]",
      "text/plain": [
       "<Figure size 413.25x360 with 1 Axes>"
      ]
     },
     "metadata": {
      "needs_background": "light"
     },
     "output_type": "display_data"
    }
   ],
   "source": [
    "sns.displot(data=data, x=\"exam2\", hue=\"admitted\", kind='kde', fill=True)"
   ]
  },
  {
   "cell_type": "code",
   "execution_count": 8,
   "id": "151f64bf",
   "metadata": {},
   "outputs": [
    {
     "data": {
      "text/plain": [
       "1.0"
      ]
     },
     "execution_count": 8,
     "metadata": {},
     "output_type": "execute_result"
    }
   ],
   "source": [
    "np.exp(0)"
   ]
  },
  {
   "cell_type": "code",
   "execution_count": 9,
   "id": "930abd22",
   "metadata": {},
   "outputs": [
    {
     "data": {
      "text/plain": [
       "<AxesSubplot:xlabel='exam1', ylabel='exam2'>"
      ]
     },
     "execution_count": 9,
     "metadata": {},
     "output_type": "execute_result"
    },
    {
     "data": {
      "image/png": "[encoded data removed]",
      "text/plain": [
       "<Figure size 864x576 with 1 Axes>"
      ]
     },
     "metadata": {
      "needs_background": "light"
     },
     "output_type": "display_data"
    }
   ],
   "source": [
    "plt.figure(figsize=(12,8))\n",
    "sns.scatterplot(data=data, \n",
    "                x=\"exam1\", \n",
    "                y=\"exam2\", \n",
    "                hue='admitted', \n",
    "                style='admitted',\n",
    "                )"
   ]
  },
  {
   "cell_type": "code",
   "execution_count": 10,
   "id": "5abacbb0",
   "metadata": {},
   "outputs": [],
   "source": [
    "from sigmoid import sigmoid"
   ]
  },
  {
   "cell_type": "code",
   "execution_count": 11,
   "id": "76767668",
   "metadata": {},
   "outputs": [],
   "source": [
    "x = np.linspace(-10, 10, 1000)\n",
    "y = sigmoid(x)"
   ]
  },
  {
   "cell_type": "code",
   "execution_count": 12,
   "id": "bf80da7a",
   "metadata": {},
   "outputs": [
    {
     "data": {
      "text/plain": [
       "[<matplotlib.lines.Line2D at 0x11ec988b0>]"
      ]
     },
     "execution_count": 12,
     "metadata": {},
     "output_type": "execute_result"
    },
    {
     "data": {
      "image/png": "[encoded data removed]",
      "text/plain": [
       "<Figure size 432x288 with 1 Axes>"
      ]
     },
     "metadata": {
      "needs_background": "light"
     },
     "output_type": "display_data"
    }
   ],
   "source": [
    "plt.plot(x, y)"
   ]
  },
  {
   "cell_type": "code",
   "execution_count": 13,
   "id": "9c32e4ad",
   "metadata": {},
   "outputs": [
    {
     "data": {
      "text/plain": [
       "array([[0.],\n",
       "       [0.],\n",
       "       [0.]])"
      ]
     },
     "execution_count": 13,
     "metadata": {},
     "output_type": "execute_result"
    }
   ],
   "source": [
    "np.zeros((3, 1))"
   ]
  },
  {
   "cell_type": "code",
   "execution_count": 14,
   "id": "fb30e2b8",
   "metadata": {},
   "outputs": [],
   "source": [
    "# features\n",
    "X = data.iloc[:, 0:2].values\n",
    "# target\n",
    "y = data.admitted.values"
   ]
  },
  {
   "cell_type": "code",
   "execution_count": 15,
   "id": "f1d997ea",
   "metadata": {},
   "outputs": [
    {
     "data": {
      "text/plain": [
       "((100, 2), (100,))"
      ]
     },
     "execution_count": 15,
     "metadata": {},
     "output_type": "execute_result"
    }
   ],
   "source": [
    "X.shape, y.shape"
   ]
  },
  {
   "cell_type": "code",
   "execution_count": 16,
   "id": "f706fe12",
   "metadata": {},
   "outputs": [],
   "source": [
    "# add the intercept (bias) to the dataset\n",
    "m, n = X.shape\n",
    "X_b = np.c_[np.ones((m, 1)), X]"
   ]
  },
  {
   "cell_type": "code",
   "execution_count": 17,
   "id": "5d6edb19",
   "metadata": {},
   "outputs": [],
   "source": [
    "m, n = X_b.shape"
   ]
  },
  {
   "cell_type": "code",
   "execution_count": 75,
   "id": "123d0401",
   "metadata": {},
   "outputs": [],
   "source": [
    "def costFunction(X, y, thetas):\n",
    "    m, n = X.shape\n",
    "    gradients = []\n",
    "    cost = -(1/m) * sum(y.dot(np.log(sigmoid(X.dot(thetas)))) + \\\n",
    "                        (1 - y).dot(np.log(1 - sigmoid(X.dot(thetas)))))\n",
    "    \n",
    "    for i in range(n):    \n",
    "        gradient = sum((sigmoid(X.dot(thetas)) - y).dot(X[:,i])) / m\n",
    "        gradients.append(gradient/100)\n",
    "        \n",
    "    return (cost, np.array(gradients).reshape(thetas.shape))"
   ]
  },
  {
   "cell_type": "code",
   "execution_count": 76,
   "id": "d77c137b",
   "metadata": {},
   "outputs": [],
   "source": [
    "# initialize parameter vector\n",
    "initial_thetas = np.zeros((n, 1))"
   ]
  },
  {
   "cell_type": "code",
   "execution_count": 77,
   "id": "d3708fbf",
   "metadata": {},
   "outputs": [],
   "source": [
    "cost, gradients = costFunction(X_b, y, initial_thetas)"
   ]
  },
  {
   "cell_type": "code",
   "execution_count": 78,
   "id": "2838c498",
   "metadata": {},
   "outputs": [
    {
     "data": {
      "text/plain": [
       "0.6931471805599452"
      ]
     },
     "execution_count": 78,
     "metadata": {},
     "output_type": "execute_result"
    }
   ],
   "source": [
    "cost"
   ]
  },
  {
   "cell_type": "code",
   "execution_count": 79,
   "id": "182f0314",
   "metadata": {},
   "outputs": [
    {
     "data": {
      "text/plain": [
       "array([[ -0.1       ],\n",
       "       [-12.00921659],\n",
       "       [-11.26284221]])"
      ]
     },
     "execution_count": 79,
     "metadata": {},
     "output_type": "execute_result"
    }
   ],
   "source": [
    "gradients"
   ]
  },
  {
   "cell_type": "code",
   "execution_count": 80,
   "id": "33fda7b9",
   "metadata": {},
   "outputs": [],
   "source": [
    "test_theta = np.array([-24, 0.2, 0.2]).reshape(3,1)"
   ]
  },
  {
   "cell_type": "code",
   "execution_count": 81,
   "id": "7841889a",
   "metadata": {},
   "outputs": [],
   "source": [
    "cost1, gradients1 = costFunction(X_b, y, test_theta)"
   ]
  },
  {
   "cell_type": "code",
   "execution_count": 82,
   "id": "e2988d01",
   "metadata": {},
   "outputs": [
    {
     "data": {
      "text/plain": [
       "0.21833019382659793"
      ]
     },
     "execution_count": 82,
     "metadata": {},
     "output_type": "execute_result"
    }
   ],
   "source": [
    "cost1"
   ]
  },
  {
   "cell_type": "code",
   "execution_count": 83,
   "id": "f4cd0fdd",
   "metadata": {},
   "outputs": [
    {
     "data": {
      "text/plain": [
       "array([[ 0.1       ],\n",
       "       [12.00921659],\n",
       "       [11.26284221]])"
      ]
     },
     "execution_count": 83,
     "metadata": {},
     "output_type": "execute_result"
    }
   ],
   "source": [
    "initial_thetas - gradients.reshape(3,1)"
   ]
  },
  {
   "cell_type": "markdown",
   "id": "b2578de9",
   "metadata": {},
   "source": [
    "### Gradient Descent"
   ]
  },
  {
   "cell_type": "code",
   "execution_count": 98,
   "id": "be2bb30d",
   "metadata": {},
   "outputs": [],
   "source": [
    "#best theta\n",
    "def gradientDescent(X, y, thetas, alpha, iterations):\n",
    "    for iteration in range(iterations):\n",
    "        cost, gradients = costFunction(X, y, thetas)\n",
    "        thetas = thetas - (alpha * gradients)\n",
    "    return thetas"
   ]
  },
  {
   "cell_type": "code",
   "execution_count": 120,
   "id": "ee10fa11",
   "metadata": {},
   "outputs": [
    {
     "data": {
      "text/plain": [
       "array([[-0.03787784],\n",
       "       [ 0.23593102],\n",
       "       [-0.18802531]])"
      ]
     },
     "execution_count": 120,
     "metadata": {},
     "output_type": "execute_result"
    }
   ],
   "source": [
    "gradientDescent(X_b, y, initial_thetas, 0.001, 500)"
   ]
  },
  {
   "cell_type": "code",
   "execution_count": 121,
   "id": "fcedc1f0",
   "metadata": {},
   "outputs": [],
   "source": [
    "best_thetas = gradientDescent(X_b, y, initial_thetas, 0.001, 1000)"
   ]
  },
  {
   "cell_type": "code",
   "execution_count": 122,
   "id": "125fc25e",
   "metadata": {},
   "outputs": [],
   "source": [
    "cost, gradients = costFunction(X_b, y, best_thetas)"
   ]
  },
  {
   "cell_type": "code",
   "execution_count": 123,
   "id": "65ce6612",
   "metadata": {},
   "outputs": [
    {
     "data": {
      "text/plain": [
       "3.7966249468268023"
      ]
     },
     "execution_count": 123,
     "metadata": {},
     "output_type": "execute_result"
    }
   ],
   "source": [
    "cost"
   ]
  },
  {
   "cell_type": "code",
   "execution_count": null,
   "id": "13819739",
   "metadata": {},
   "outputs": [],
   "source": []
  }
 ],
 "metadata": {
  "interpreter": {
   "hash": "ba45fdeded601b0febb61b7e1cf4c01588bca0e992721cbcab04a50e2c07478b"
  },
  "kernelspec": {
   "display_name": "Python 3 (ipykernel)",
   "language": "python",
   "name": "python3"
  },
  "language_info": {
   "codemirror_mode": {
    "name": "ipython",
    "version": 3
   },
   "file_extension": ".py",
   "mimetype": "text/x-python",
   "name": "python",
   "nbconvert_exporter": "python",
   "pygments_lexer": "ipython3",
   "version": "3.9.6"
  }
 },
 "nbformat": 4,
 "nbformat_minor": 5
}
