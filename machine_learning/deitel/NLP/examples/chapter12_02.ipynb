{
 "cells": [
  {
   "cell_type": "markdown",
   "id": "theoretical-volunteer",
   "metadata": {},
   "source": [
    "# Chapter 12 IPython Sessions - Part II"
   ]
  },
  {
   "cell_type": "markdown",
   "id": "manual-hurricane",
   "metadata": {},
   "source": [
    "### Named Entity Recognition with spaCy"
   ]
  },
  {
   "cell_type": "code",
   "execution_count": 5,
   "id": "proper-emergency",
   "metadata": {},
   "outputs": [],
   "source": [
    "# import libraries\n",
    "import spacy"
   ]
  },
  {
   "cell_type": "code",
   "execution_count": 7,
   "id": "hidden-pastor",
   "metadata": {},
   "outputs": [],
   "source": [
    "# Load the language model\n",
    "nlp = spacy.load('en_core_web_sm')"
   ]
  },
  {
   "cell_type": "code",
   "execution_count": 16,
   "id": "illegal-quality",
   "metadata": {},
   "outputs": [],
   "source": [
    "# Creating a spaCy doc\n",
    "document = nlp('In 1994, Tim Berners-Lee founded the ' + \n",
    "               'World Wide Web Consortium (W3C), devoted to ' +\n",
    "               'developing web technologies')"
   ]
  },
  {
   "cell_type": "code",
   "execution_count": 17,
   "id": "gross-exchange",
   "metadata": {},
   "outputs": [
    {
     "name": "stdout",
     "output_type": "stream",
     "text": [
      "1994: DATE\n",
      "Tim Berners-Lee: PERSON\n"
     ]
    }
   ],
   "source": [
    "# Getting Named Entities\n",
    "for entity in document.ents:\n",
    "    print(f'{entity.text}: {entity.label_}')"
   ]
  },
  {
   "cell_type": "markdown",
   "id": "worldwide-internship",
   "metadata": {},
   "source": [
    "#### Self Check"
   ]
  },
  {
   "cell_type": "code",
   "execution_count": 18,
   "id": "auburn-final",
   "metadata": {},
   "outputs": [
    {
     "name": "stdout",
     "output_type": "stream",
     "text": [
      "Paul J. Deitel: PERSON\n",
      "Deitel & Associates: ORG\n"
     ]
    }
   ],
   "source": [
    "# Display Named Entities\n",
    "document2 = nlp('Paul J. Deitel is CEO of Deitel & Associates, Inc.')\n",
    "\n",
    "# Getting Named Entities\n",
    "for entity in document2.ents:\n",
    "    print(f'{entity.text}: {entity.label_}')"
   ]
  },
  {
   "cell_type": "markdown",
   "id": "crude-developer",
   "metadata": {},
   "source": [
    "### Similarity Detection with spaCy"
   ]
  },
  {
   "cell_type": "code",
   "execution_count": 19,
   "id": "wireless-implement",
   "metadata": {},
   "outputs": [],
   "source": [
    "# create spacy docs\n",
    "from pathlib import Path"
   ]
  },
  {
   "cell_type": "code",
   "execution_count": 20,
   "id": "simple-singer",
   "metadata": {},
   "outputs": [],
   "source": [
    "doc1 = nlp(Path('RomeoAndJuliet.txt').read_text())\n",
    "doc2 = nlp(Path('EdwardTheSecond.txt').read_text())"
   ]
  },
  {
   "cell_type": "code",
   "execution_count": 21,
   "id": "ranging-andrew",
   "metadata": {},
   "outputs": [
    {
     "name": "stderr",
     "output_type": "stream",
     "text": [
      "<ipython-input-21-d3bf01ccd94a>:1: UserWarning: [W007] The model you're using has no word vectors loaded, so the result of the Doc.similarity method will be based on the tagger, parser and NER, which may not give useful similarity judgements. This may happen if you're using one of the small models, e.g. `en_core_web_sm`, which don't ship with word vectors and only use context-sensitive tensors. You can always add your own word vectors, or use one of the larger models instead if available.\n",
      "  doc1.similarity(doc2)\n"
     ]
    },
    {
     "data": {
      "text/plain": [
       "0.917421119133426"
      ]
     },
     "execution_count": 21,
     "metadata": {},
     "output_type": "execute_result"
    }
   ],
   "source": [
    "doc1.similarity(doc2)"
   ]
  },
  {
   "cell_type": "code",
   "execution_count": null,
   "id": "fitted-founder",
   "metadata": {},
   "outputs": [],
   "source": []
  }
 ],
 "metadata": {
  "kernelspec": {
   "display_name": "Python 3",
   "language": "python",
   "name": "python3"
  },
  "language_info": {
   "codemirror_mode": {
    "name": "ipython",
    "version": 3
   },
   "file_extension": ".py",
   "mimetype": "text/x-python",
   "name": "python",
   "nbconvert_exporter": "python",
   "pygments_lexer": "ipython3",
   "version": "3.8.8"
  }
 },
 "nbformat": 4,
 "nbformat_minor": 5
}
