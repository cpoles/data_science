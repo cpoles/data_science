{
 "metadata": {
  "language_info": {
   "codemirror_mode": {
    "name": "ipython",
    "version": 3
   },
   "file_extension": ".py",
   "mimetype": "text/x-python",
   "name": "python",
   "nbconvert_exporter": "python",
   "pygments_lexer": "ipython3",
   "version": "3.8.5-final"
  },
  "orig_nbformat": 2,
  "kernelspec": {
   "name": "python3",
   "display_name": "Python 3",
   "language": "python"
  }
 },
 "nbformat": 4,
 "nbformat_minor": 2,
 "cells": [
  {
   "source": [
    "# iPython Sessions - Chapter 06"
   ],
   "cell_type": "markdown",
   "metadata": {}
  },
  {
   "source": [
    "### Using the collections module"
   ],
   "cell_type": "markdown",
   "metadata": {}
  },
  {
   "cell_type": "code",
   "execution_count": 7,
   "metadata": {},
   "outputs": [],
   "source": [
    "# import the Counter type to make a dictionary and count key frequency\n",
    "from collections import Counter\n",
    "import random"
   ]
  },
  {
   "cell_type": "code",
   "execution_count": 8,
   "metadata": {},
   "outputs": [],
   "source": [
    "numbers = [random.randrange(1, 6) for _ in range(50)]"
   ]
  },
  {
   "cell_type": "code",
   "execution_count": 9,
   "metadata": {},
   "outputs": [],
   "source": [
    "frequencies = Counter(numbers)"
   ]
  },
  {
   "cell_type": "code",
   "execution_count": 10,
   "metadata": {},
   "outputs": [
    {
     "output_type": "execute_result",
     "data": {
      "text/plain": [
       "Counter({2: 7, 5: 10, 1: 10, 3: 12, 4: 11})"
      ]
     },
     "metadata": {},
     "execution_count": 10
    }
   ],
   "source": [
    "frequencies"
   ]
  },
  {
   "cell_type": "code",
   "execution_count": 16,
   "metadata": {},
   "outputs": [
    {
     "output_type": "stream",
     "name": "stdout",
     "text": [
      "Key\tValue\n  1\t   10\n  2\t    7\n  3\t   12\n  4\t   11\n  5\t   10\n"
     ]
    }
   ],
   "source": [
    "print('Key\\tValue')\n",
    "for key, value in sorted(frequencies.items()):\n",
    "    print(f'{key:>3}\\t{value:>4}')"
   ]
  },
  {
   "source": [
    "### Dictionary Comprehensions"
   ],
   "cell_type": "markdown",
   "metadata": {}
  },
  {
   "cell_type": "code",
   "execution_count": 18,
   "metadata": {},
   "outputs": [],
   "source": [
    "cubes = {number: number ** 3 for number in range(1, 6)}"
   ]
  },
  {
   "cell_type": "code",
   "execution_count": 19,
   "metadata": {},
   "outputs": [
    {
     "output_type": "execute_result",
     "data": {
      "text/plain": [
       "{1: 1, 2: 8, 3: 27, 4: 64, 5: 125}"
      ]
     },
     "metadata": {},
     "execution_count": 19
    }
   ],
   "source": [
    "cubes"
   ]
  },
  {
   "source": [
    "### Set Comparison using issuperset"
   ],
   "cell_type": "markdown",
   "metadata": {}
  },
  {
   "cell_type": "code",
   "execution_count": 21,
   "metadata": {},
   "outputs": [
    {
     "output_type": "execute_result",
     "data": {
      "text/plain": [
       "True"
      ]
     },
     "metadata": {},
     "execution_count": 21
    }
   ],
   "source": [
    "set('abc def ghi jkl mno').issuperset('hi mom')"
   ]
  },
  {
   "source": [
    "### Mathematical Set Operations"
   ],
   "cell_type": "markdown",
   "metadata": {}
  },
  {
   "cell_type": "code",
   "execution_count": 26,
   "metadata": {},
   "outputs": [],
   "source": [
    "ns1 = {10, 20, 30}\n",
    "ns2 = {5, 10 , 15, 20}\n",
    "\n",
    "# a - {30}\n",
    "# b - {5, 15, 20 ,30}\n",
    "# c - {5, 10, 15, 20, 30}\n",
    "# d - {10, 20}"
   ]
  },
  {
   "cell_type": "code",
   "execution_count": 36,
   "metadata": {},
   "outputs": [
    {
     "output_type": "stream",
     "name": "stdout",
     "text": [
      "{30}\n{30}\n"
     ]
    }
   ],
   "source": [
    "# difference\n",
    "a = ns1 - ns2\n",
    "a2 = ns1.difference(ns2)\n",
    "print(f'{a}')\n",
    "print(f'{a2}')"
   ]
  },
  {
   "cell_type": "code",
   "execution_count": 37,
   "metadata": {},
   "outputs": [
    {
     "output_type": "stream",
     "name": "stdout",
     "text": [
      "{5, 30, 15}\n{5, 30, 15}\n"
     ]
    }
   ],
   "source": [
    "b = ns1 ^ ns2\n",
    "b2 = ns1.symmetric_difference(ns2)\n",
    "print(f'{b}')\n",
    "print(f'{b2}')"
   ]
  },
  {
   "cell_type": "code",
   "execution_count": 38,
   "metadata": {},
   "outputs": [
    {
     "output_type": "stream",
     "name": "stdout",
     "text": [
      "{20, 5, 10, 30, 15}\n{20, 5, 10, 30, 15}\n"
     ]
    }
   ],
   "source": [
    "c = ns1 | ns2\n",
    "c2 = ns1.union(ns2)\n",
    "print(f'{c}')\n",
    "print(f'{c2}')\n"
   ]
  },
  {
   "cell_type": "code",
   "execution_count": 39,
   "metadata": {},
   "outputs": [
    {
     "output_type": "stream",
     "name": "stdout",
     "text": [
      "{10, 20}\n{10, 20}\n"
     ]
    }
   ],
   "source": [
    "d = ns1 & ns2\n",
    "d2 = ns1.intersection(ns2)\n",
    "print(f'{d}')\n",
    "print(f'{d2}')"
   ]
  },
  {
   "source": [
    "### Set Comprehensions"
   ],
   "cell_type": "markdown",
   "metadata": {}
  },
  {
   "cell_type": "code",
   "execution_count": 40,
   "metadata": {},
   "outputs": [
    {
     "output_type": "execute_result",
     "data": {
      "text/plain": [
       "{2, 4, 6, 8, 10}"
      ]
     },
     "metadata": {},
     "execution_count": 40
    }
   ],
   "source": [
    "numbers = [1, 2, 2, 3, 4, 5, 6, 6, 7, 8, 9, 10, 10]\n",
    "evens = {item for item in numbers if item % 2 == 0}\n",
    "evens"
   ]
  },
  {
   "cell_type": "code",
   "execution_count": null,
   "metadata": {},
   "outputs": [],
   "source": []
  }
 ]
}