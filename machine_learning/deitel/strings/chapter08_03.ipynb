{
 "cells": [
  {
   "cell_type": "markdown",
   "id": "roman-little",
   "metadata": {},
   "source": [
    "# Chapter 08 iPython Sessions - Part III "
   ]
  },
  {
   "cell_type": "markdown",
   "id": "complex-nevada",
   "metadata": {},
   "source": [
    "### re Module and function fullmatch"
   ]
  },
  {
   "cell_type": "code",
   "execution_count": 1,
   "id": "turkish-growing",
   "metadata": {},
   "outputs": [],
   "source": [
    "import re"
   ]
  },
  {
   "cell_type": "code",
   "execution_count": 2,
   "id": "waiting-temple",
   "metadata": {},
   "outputs": [],
   "source": [
    "pattern = '02215'"
   ]
  },
  {
   "cell_type": "code",
   "execution_count": 3,
   "id": "fundamental-science",
   "metadata": {},
   "outputs": [
    {
     "data": {
      "text/plain": [
       "'Match'"
      ]
     },
     "execution_count": 3,
     "metadata": {},
     "output_type": "execute_result"
    }
   ],
   "source": [
    "'Match' if re.fullmatch(pattern, '02215') else 'No match'"
   ]
  },
  {
   "cell_type": "code",
   "execution_count": 4,
   "id": "false-chinese",
   "metadata": {},
   "outputs": [
    {
     "data": {
      "text/plain": [
       "'No match'"
      ]
     },
     "execution_count": 4,
     "metadata": {},
     "output_type": "execute_result"
    }
   ],
   "source": [
    "'Match' if re.fullmatch(pattern, '51220') else 'No match'"
   ]
  },
  {
   "cell_type": "code",
   "execution_count": 6,
   "id": "committed-learning",
   "metadata": {},
   "outputs": [
    {
     "data": {
      "text/plain": [
       "'Valid'"
      ]
     },
     "execution_count": 6,
     "metadata": {},
     "output_type": "execute_result"
    }
   ],
   "source": [
    "# Metacharacters, Character Classes and Quantifiers\n",
    "'Valid'if re.fullmatch(r'\\d{5}', '02215') else 'Invalid'"
   ]
  },
  {
   "cell_type": "code",
   "execution_count": 7,
   "id": "excess-timeline",
   "metadata": {},
   "outputs": [
    {
     "data": {
      "text/plain": [
       "'Invalid'"
      ]
     },
     "execution_count": 7,
     "metadata": {},
     "output_type": "execute_result"
    }
   ],
   "source": [
    "'Valid'if re.fullmatch(r'\\d{5}', '9876') else 'Invalid'"
   ]
  },
  {
   "cell_type": "code",
   "execution_count": 8,
   "id": "expanded-ceremony",
   "metadata": {},
   "outputs": [
    {
     "data": {
      "text/plain": [
       "'Valid'"
      ]
     },
     "execution_count": 8,
     "metadata": {},
     "output_type": "execute_result"
    }
   ],
   "source": [
    "# Custom Character Classes\n",
    "'Valid' if re.fullmatch('[A-Z][a-z]*', 'Wally') else 'Invalid'"
   ]
  },
  {
   "cell_type": "code",
   "execution_count": 10,
   "id": "martial-newport",
   "metadata": {},
   "outputs": [
    {
     "data": {
      "text/plain": [
       "'Invalid'"
      ]
     },
     "execution_count": 10,
     "metadata": {},
     "output_type": "execute_result"
    }
   ],
   "source": [
    "'Valid' if re.fullmatch('[A-Z][a-z]*', 'eva') else 'Invalid'"
   ]
  },
  {
   "cell_type": "code",
   "execution_count": 12,
   "id": "supreme-demonstration",
   "metadata": {},
   "outputs": [
    {
     "data": {
      "text/plain": [
       "'Match'"
      ]
     },
     "execution_count": 12,
     "metadata": {},
     "output_type": "execute_result"
    }
   ],
   "source": [
    "# Match char not specified using caret ^ \n",
    "'Match' if re.fullmatch('[^a-z]', 'A') else 'No Match'"
   ]
  },
  {
   "cell_type": "code",
   "execution_count": 13,
   "id": "accepted-relief",
   "metadata": {},
   "outputs": [
    {
     "data": {
      "text/plain": [
       "'No Match'"
      ]
     },
     "execution_count": 13,
     "metadata": {},
     "output_type": "execute_result"
    }
   ],
   "source": [
    "'Match' if re.fullmatch('[^a-z]', 'a') else 'No Match'"
   ]
  },
  {
   "cell_type": "code",
   "execution_count": 14,
   "id": "understanding-forge",
   "metadata": {},
   "outputs": [
    {
     "data": {
      "text/plain": [
       "'Match'"
      ]
     },
     "execution_count": 14,
     "metadata": {},
     "output_type": "execute_result"
    }
   ],
   "source": [
    "# Metachars as literal chars in a custom character class\n",
    "'Match' if re.fullmatch('[*+$]', '*') else 'No match'"
   ]
  },
  {
   "cell_type": "code",
   "execution_count": 15,
   "id": "tutorial-messenger",
   "metadata": {},
   "outputs": [
    {
     "data": {
      "text/plain": [
       "'No match'"
      ]
     },
     "execution_count": 15,
     "metadata": {},
     "output_type": "execute_result"
    }
   ],
   "source": [
    "'Match' if re.fullmatch('[*+$]', '!') else 'No match'"
   ]
  },
  {
   "cell_type": "code",
   "execution_count": 16,
   "id": "colonial-sentence",
   "metadata": {},
   "outputs": [
    {
     "data": {
      "text/plain": [
       "'Valid'"
      ]
     },
     "execution_count": 16,
     "metadata": {},
     "output_type": "execute_result"
    }
   ],
   "source": [
    "# * vs + quantifier -> both matches at least one occurrence of the subexpression\n",
    "'Valid'if re.fullmatch('[A-Z][a-z]+', 'Wally') else 'Invalid'"
   ]
  },
  {
   "cell_type": "code",
   "execution_count": 17,
   "id": "suburban-equilibrium",
   "metadata": {},
   "outputs": [
    {
     "data": {
      "text/plain": [
       "'Invalid'"
      ]
     },
     "execution_count": 17,
     "metadata": {},
     "output_type": "execute_result"
    }
   ],
   "source": [
    "'Valid'if re.fullmatch('[A-Z][a-z]+', 'E') else 'Invalid'"
   ]
  },
  {
   "cell_type": "code",
   "execution_count": 19,
   "id": "popular-duncan",
   "metadata": {},
   "outputs": [
    {
     "data": {
      "text/plain": [
       "'Match'"
      ]
     },
     "execution_count": 19,
     "metadata": {},
     "output_type": "execute_result"
    }
   ],
   "source": [
    "# {n, } quantifier\n",
    "'Match' if re.fullmatch(r'\\d{3,}', '123') else 'No match'"
   ]
  },
  {
   "cell_type": "code",
   "execution_count": 20,
   "id": "optional-strip",
   "metadata": {},
   "outputs": [
    {
     "data": {
      "text/plain": [
       "'Match'"
      ]
     },
     "execution_count": 20,
     "metadata": {},
     "output_type": "execute_result"
    }
   ],
   "source": [
    "'Match' if re.fullmatch(r'\\d{3,}', '1234567890') else 'No match'"
   ]
  },
  {
   "cell_type": "code",
   "execution_count": 21,
   "id": "supported-archives",
   "metadata": {},
   "outputs": [
    {
     "data": {
      "text/plain": [
       "'No match'"
      ]
     },
     "execution_count": 21,
     "metadata": {},
     "output_type": "execute_result"
    }
   ],
   "source": [
    "'Match' if re.fullmatch(r'\\d{3,}', '12') else 'No match'"
   ]
  },
  {
   "cell_type": "code",
   "execution_count": 22,
   "id": "european-blank",
   "metadata": {},
   "outputs": [
    {
     "data": {
      "text/plain": [
       "'No match'"
      ]
     },
     "execution_count": 22,
     "metadata": {},
     "output_type": "execute_result"
    }
   ],
   "source": [
    "'Match' if re.fullmatch(r'\\d{3,6}', '12') else 'No match'"
   ]
  },
  {
   "cell_type": "code",
   "execution_count": 23,
   "id": "ethical-moore",
   "metadata": {},
   "outputs": [
    {
     "data": {
      "text/plain": [
       "'Match'"
      ]
     },
     "execution_count": 23,
     "metadata": {},
     "output_type": "execute_result"
    }
   ],
   "source": [
    "'Match' if re.fullmatch(r'\\d{3,6}', '123') else 'No match'"
   ]
  },
  {
   "cell_type": "code",
   "execution_count": 24,
   "id": "satisfied-insight",
   "metadata": {},
   "outputs": [
    {
     "data": {
      "text/plain": [
       "'Match'"
      ]
     },
     "execution_count": 24,
     "metadata": {},
     "output_type": "execute_result"
    }
   ],
   "source": [
    "'Match' if re.fullmatch(r'\\d{3,6}', '1234') else 'No match'"
   ]
  },
  {
   "cell_type": "code",
   "execution_count": 25,
   "id": "standing-liquid",
   "metadata": {},
   "outputs": [
    {
     "data": {
      "text/plain": [
       "'No match'"
      ]
     },
     "execution_count": 25,
     "metadata": {},
     "output_type": "execute_result"
    }
   ],
   "source": [
    "'Match' if re.fullmatch(r'\\d{3,6}', '1234567') else 'No match'"
   ]
  },
  {
   "cell_type": "markdown",
   "id": "nonprofit-mississippi",
   "metadata": {},
   "source": [
    "### Self Check"
   ]
  },
  {
   "cell_type": "code",
   "execution_count": 28,
   "id": "smaller-lindsay",
   "metadata": {},
   "outputs": [],
   "source": [
    "# Create a regex that matches an address as 123 Main Street\n",
    "street_regex = r'\\d+\\s[A-Z][a-z]+\\s[A-Z][a-z]+'"
   ]
  },
  {
   "cell_type": "code",
   "execution_count": 29,
   "id": "statistical-terry",
   "metadata": {},
   "outputs": [
    {
     "data": {
      "text/plain": [
       "'Match'"
      ]
     },
     "execution_count": 29,
     "metadata": {},
     "output_type": "execute_result"
    }
   ],
   "source": [
    "'Match' if re.fullmatch(street_regex, '123 Main Street') else 'No Match'"
   ]
  },
  {
   "cell_type": "code",
   "execution_count": 30,
   "id": "disabled-variable",
   "metadata": {},
   "outputs": [
    {
     "data": {
      "text/plain": [
       "'No Match'"
      ]
     },
     "execution_count": 30,
     "metadata": {},
     "output_type": "execute_result"
    }
   ],
   "source": [
    "'Match' if re.fullmatch(street_regex, 'Main Street') else 'No Match'"
   ]
  },
  {
   "cell_type": "markdown",
   "id": "final-filter",
   "metadata": {},
   "source": [
    "### Replacing Substrings and Splitting Strings"
   ]
  },
  {
   "cell_type": "code",
   "execution_count": 32,
   "id": "empirical-engine",
   "metadata": {},
   "outputs": [
    {
     "data": {
      "text/plain": [
       "'1, 2, 3, 4'"
      ]
     },
     "execution_count": 32,
     "metadata": {},
     "output_type": "execute_result"
    }
   ],
   "source": [
    "# Function Sub - Replacing Patterns\n",
    "re.sub(r'\\t', ', ', '1\\t2\\t3\\t4')"
   ]
  },
  {
   "cell_type": "code",
   "execution_count": 33,
   "id": "welsh-symposium",
   "metadata": {},
   "outputs": [
    {
     "data": {
      "text/plain": [
       "'1, 2, 3\\t4'"
      ]
     },
     "execution_count": 33,
     "metadata": {},
     "output_type": "execute_result"
    }
   ],
   "source": [
    "# specify the number of replacements\n",
    "re.sub(r'\\t', ', ', '1\\t2\\t3\\t4', count=2)"
   ]
  },
  {
   "cell_type": "code",
   "execution_count": 35,
   "id": "numerous-fraud",
   "metadata": {},
   "outputs": [
    {
     "data": {
      "text/plain": [
       "['1', '2', '3', '4', '5', '6', '7', '8']"
      ]
     },
     "execution_count": 35,
     "metadata": {},
     "output_type": "execute_result"
    }
   ],
   "source": [
    "# Function split\n",
    "re.split(r',\\s*', '1,  2,  3, 4, 5,6,7,8')"
   ]
  },
  {
   "cell_type": "code",
   "execution_count": 36,
   "id": "mounted-scanning",
   "metadata": {},
   "outputs": [
    {
     "data": {
      "text/plain": [
       "['1', '2', '3', '4, 5,6,7,8']"
      ]
     },
     "execution_count": 36,
     "metadata": {},
     "output_type": "execute_result"
    }
   ],
   "source": [
    "# specifying max number of splits\n",
    "re.split(r',\\s*', '1,  2,  3, 4, 5,6,7,8', maxsplit=3)"
   ]
  },
  {
   "cell_type": "markdown",
   "id": "bottom-publicity",
   "metadata": {},
   "source": [
    "### Self Check"
   ]
  },
  {
   "cell_type": "code",
   "execution_count": 38,
   "id": "partial-height",
   "metadata": {},
   "outputs": [
    {
     "data": {
      "text/plain": [
       "'A, B, C, D'"
      ]
     },
     "execution_count": 38,
     "metadata": {},
     "output_type": "execute_result"
    }
   ],
   "source": [
    "# replace tabs by comma and space\n",
    "re.sub(r'\\t+', ', ', 'A\\tB\\t\\tC\\t\\t\\tD')"
   ]
  },
  {
   "cell_type": "code",
   "execution_count": 39,
   "id": "chief-healing",
   "metadata": {},
   "outputs": [
    {
     "data": {
      "text/plain": [
       "['123', 'Main', 'Street']"
      ]
     },
     "execution_count": 39,
     "metadata": {},
     "output_type": "execute_result"
    }
   ],
   "source": [
    "re.split(r'\\$+', '123$Main$$$Street')"
   ]
  },
  {
   "cell_type": "markdown",
   "id": "partial-clear",
   "metadata": {},
   "source": [
    "### Accessing Matches"
   ]
  },
  {
   "cell_type": "code",
   "execution_count": 40,
   "id": "thermal-diploma",
   "metadata": {},
   "outputs": [],
   "source": [
    "# Function Search - first match anywhere in a string\n",
    "result = re.search('Python', 'Python is fun')"
   ]
  },
  {
   "cell_type": "code",
   "execution_count": 41,
   "id": "nervous-studio",
   "metadata": {},
   "outputs": [
    {
     "data": {
      "text/plain": [
       "'Python'"
      ]
     },
     "execution_count": 41,
     "metadata": {},
     "output_type": "execute_result"
    }
   ],
   "source": [
    "result.group() if result else 'not found'"
   ]
  },
  {
   "cell_type": "code",
   "execution_count": 42,
   "id": "secret-shelter",
   "metadata": {},
   "outputs": [
    {
     "data": {
      "text/plain": [
       "re.Match"
      ]
     },
     "execution_count": 42,
     "metadata": {},
     "output_type": "execute_result"
    }
   ],
   "source": [
    "type(result)"
   ]
  },
  {
   "cell_type": "code",
   "execution_count": 44,
   "id": "imperial-jacksonville",
   "metadata": {},
   "outputs": [],
   "source": [
    "result2 = re.search('fun!', 'Python is fun')"
   ]
  },
  {
   "cell_type": "code",
   "execution_count": 46,
   "id": "considered-drama",
   "metadata": {},
   "outputs": [
    {
     "data": {
      "text/plain": [
       "'not found'"
      ]
     },
     "execution_count": 46,
     "metadata": {},
     "output_type": "execute_result"
    }
   ],
   "source": [
    "result2.group() if result2 else 'not found'"
   ]
  },
  {
   "cell_type": "code",
   "execution_count": 47,
   "id": "alleged-stone",
   "metadata": {},
   "outputs": [],
   "source": [
    "# Ignoring case with the optional flags keyword argument\n",
    "result3 = re.search('Sam', 'SAM WHITE', flags=re.IGNORECASE)"
   ]
  },
  {
   "cell_type": "code",
   "execution_count": 48,
   "id": "superior-library",
   "metadata": {},
   "outputs": [
    {
     "data": {
      "text/plain": [
       "'SAM'"
      ]
     },
     "execution_count": 48,
     "metadata": {},
     "output_type": "execute_result"
    }
   ],
   "source": [
    "result3.group() if result3 else 'not found'"
   ]
  },
  {
   "cell_type": "code",
   "execution_count": 49,
   "id": "gorgeous-appreciation",
   "metadata": {},
   "outputs": [],
   "source": [
    "# Matching at the beginning of a string using caret ^ \n",
    "result = re.search('^Python', 'Python is fun')"
   ]
  },
  {
   "cell_type": "code",
   "execution_count": 50,
   "id": "restricted-script",
   "metadata": {},
   "outputs": [
    {
     "data": {
      "text/plain": [
       "'Python'"
      ]
     },
     "execution_count": 50,
     "metadata": {},
     "output_type": "execute_result"
    }
   ],
   "source": [
    "result.group() if result else 'not found'"
   ]
  },
  {
   "cell_type": "code",
   "execution_count": 51,
   "id": "occupational-vegetable",
   "metadata": {},
   "outputs": [],
   "source": [
    "result = re.search('^fun', 'Python is fun')"
   ]
  },
  {
   "cell_type": "code",
   "execution_count": 52,
   "id": "split-marsh",
   "metadata": {},
   "outputs": [
    {
     "data": {
      "text/plain": [
       "'not found'"
      ]
     },
     "execution_count": 52,
     "metadata": {},
     "output_type": "execute_result"
    }
   ],
   "source": [
    "result.group() if result else 'not found'"
   ]
  },
  {
   "cell_type": "code",
   "execution_count": 53,
   "id": "executed-treaty",
   "metadata": {},
   "outputs": [],
   "source": [
    "# Matching at the end of a string using $\n",
    "result = re.search('Python$', 'Python is fun')"
   ]
  },
  {
   "cell_type": "code",
   "execution_count": 54,
   "id": "comfortable-therapy",
   "metadata": {},
   "outputs": [
    {
     "data": {
      "text/plain": [
       "'not found'"
      ]
     },
     "execution_count": 54,
     "metadata": {},
     "output_type": "execute_result"
    }
   ],
   "source": [
    "result.group() if result else 'not found'"
   ]
  },
  {
   "cell_type": "code",
   "execution_count": 55,
   "id": "listed-median",
   "metadata": {},
   "outputs": [],
   "source": [
    "result = re.search('fun$', 'Python is fun')"
   ]
  },
  {
   "cell_type": "code",
   "execution_count": 56,
   "id": "incorporate-insert",
   "metadata": {},
   "outputs": [
    {
     "data": {
      "text/plain": [
       "'fun'"
      ]
     },
     "execution_count": 56,
     "metadata": {},
     "output_type": "execute_result"
    }
   ],
   "source": [
    "result.group() if result else 'not found'"
   ]
  },
  {
   "cell_type": "code",
   "execution_count": 58,
   "id": "stupid-scoop",
   "metadata": {},
   "outputs": [],
   "source": [
    "# Function findall and finditer - Find all Matches in a string\n",
    "contact = 'Wally White, Home: 555-555-1234, Work: 555-555-4321'"
   ]
  },
  {
   "cell_type": "code",
   "execution_count": 61,
   "id": "separate-coating",
   "metadata": {},
   "outputs": [
    {
     "data": {
      "text/plain": [
       "['555-555-1234', '555-555-4321']"
      ]
     },
     "execution_count": 61,
     "metadata": {},
     "output_type": "execute_result"
    }
   ],
   "source": [
    "re.findall(r'\\d{3}-\\d{3}-\\d{4}', contact)"
   ]
  },
  {
   "cell_type": "code",
   "execution_count": 60,
   "id": "tested-england",
   "metadata": {},
   "outputs": [
    {
     "name": "stdout",
     "output_type": "stream",
     "text": [
      "555-555-1234\n",
      "555-555-4321\n"
     ]
    }
   ],
   "source": [
    "for phone in re.finditer(r'\\d{3}-\\d{3}-\\d{4}', contact):\n",
    "    print(phone.group())"
   ]
  },
  {
   "cell_type": "code",
   "execution_count": 62,
   "id": "particular-incidence",
   "metadata": {},
   "outputs": [],
   "source": [
    "# Capturing Substrings in a Match\n",
    "text = 'Charlie Cyan, email: demo1@deitel.com'"
   ]
  },
  {
   "cell_type": "code",
   "execution_count": 67,
   "id": "ranking-facial",
   "metadata": {},
   "outputs": [],
   "source": [
    "pattern = r'([A-Z][a-z]+ [A-Z][a-z]+), email: (\\w+@\\w+\\.\\w{3})'"
   ]
  },
  {
   "cell_type": "code",
   "execution_count": 68,
   "id": "instant-heading",
   "metadata": {},
   "outputs": [],
   "source": [
    "result = re.search(pattern, text)"
   ]
  },
  {
   "cell_type": "code",
   "execution_count": 71,
   "id": "broken-gazette",
   "metadata": {},
   "outputs": [
    {
     "data": {
      "text/plain": [
       "('Charlie Cyan', 'demo1@deitel.com')"
      ]
     },
     "execution_count": 71,
     "metadata": {},
     "output_type": "execute_result"
    }
   ],
   "source": [
    "result.groups() # returns a tuple with the captured substrings"
   ]
  },
  {
   "cell_type": "code",
   "execution_count": 72,
   "id": "unknown-loading",
   "metadata": {},
   "outputs": [
    {
     "data": {
      "text/plain": [
       "'Charlie Cyan, email: demo1@deitel.com'"
      ]
     },
     "execution_count": 72,
     "metadata": {},
     "output_type": "execute_result"
    }
   ],
   "source": [
    "result.group() # returns the entire match as single string"
   ]
  },
  {
   "cell_type": "code",
   "execution_count": 73,
   "id": "abstract-boost",
   "metadata": {},
   "outputs": [
    {
     "data": {
      "text/plain": [
       "'Charlie Cyan'"
      ]
     },
     "execution_count": 73,
     "metadata": {},
     "output_type": "execute_result"
    }
   ],
   "source": [
    "# return each match in the group object\n",
    "result.group(1)"
   ]
  },
  {
   "cell_type": "code",
   "execution_count": 74,
   "id": "continuing-flooring",
   "metadata": {},
   "outputs": [
    {
     "data": {
      "text/plain": [
       "'demo1@deitel.com'"
      ]
     },
     "execution_count": 74,
     "metadata": {},
     "output_type": "execute_result"
    }
   ],
   "source": [
    "result.group(2)"
   ]
  },
  {
   "cell_type": "markdown",
   "id": "popular-authority",
   "metadata": {},
   "source": [
    "### Self Check "
   ]
  },
  {
   "cell_type": "code",
   "execution_count": 87,
   "id": "complimentary-garage",
   "metadata": {},
   "outputs": [],
   "source": [
    "# Break the string in operands and operators\n",
    "expression = '10 + 5'"
   ]
  },
  {
   "cell_type": "code",
   "execution_count": 91,
   "id": "conservative-plant",
   "metadata": {},
   "outputs": [],
   "source": [
    "pattern = r'(\\d+) ?([+-/*]) ?(\\d+)'"
   ]
  },
  {
   "cell_type": "code",
   "execution_count": 92,
   "id": "binary-diana",
   "metadata": {},
   "outputs": [],
   "source": [
    "result = re.search(pattern, expression)"
   ]
  },
  {
   "cell_type": "code",
   "execution_count": 93,
   "id": "requested-disposition",
   "metadata": {},
   "outputs": [
    {
     "data": {
      "text/plain": [
       "('10', '+', '5')"
      ]
     },
     "execution_count": 93,
     "metadata": {},
     "output_type": "execute_result"
    }
   ],
   "source": [
    "result.groups()"
   ]
  },
  {
   "cell_type": "code",
   "execution_count": 94,
   "id": "tutorial-tractor",
   "metadata": {},
   "outputs": [
    {
     "data": {
      "text/plain": [
       "'10'"
      ]
     },
     "execution_count": 94,
     "metadata": {},
     "output_type": "execute_result"
    }
   ],
   "source": [
    "result.group(1)"
   ]
  },
  {
   "cell_type": "code",
   "execution_count": 95,
   "id": "durable-mumbai",
   "metadata": {},
   "outputs": [
    {
     "data": {
      "text/plain": [
       "'+'"
      ]
     },
     "execution_count": 95,
     "metadata": {},
     "output_type": "execute_result"
    }
   ],
   "source": [
    "result.group(2)"
   ]
  },
  {
   "cell_type": "code",
   "execution_count": 96,
   "id": "colored-welding",
   "metadata": {},
   "outputs": [
    {
     "data": {
      "text/plain": [
       "'5'"
      ]
     },
     "execution_count": 96,
     "metadata": {},
     "output_type": "execute_result"
    }
   ],
   "source": [
    "result.group(3)"
   ]
  },
  {
   "cell_type": "code",
   "execution_count": null,
   "id": "pretty-appliance",
   "metadata": {},
   "outputs": [],
   "source": []
  }
 ],
 "metadata": {
  "kernelspec": {
   "display_name": "Python 3",
   "language": "python",
   "name": "python3"
  },
  "language_info": {
   "codemirror_mode": {
    "name": "ipython",
    "version": 3
   },
   "file_extension": ".py",
   "mimetype": "text/x-python",
   "name": "python",
   "nbconvert_exporter": "python",
   "pygments_lexer": "ipython3",
   "version": "3.8.5"
  }
 },
 "nbformat": 4,
 "nbformat_minor": 5
}
