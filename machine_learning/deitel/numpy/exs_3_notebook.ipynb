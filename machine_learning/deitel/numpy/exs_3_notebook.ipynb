{
 "metadata": {
  "language_info": {
   "codemirror_mode": {
    "name": "ipython",
    "version": 3
   },
   "file_extension": ".py",
   "mimetype": "text/x-python",
   "name": "python",
   "nbconvert_exporter": "python",
   "pygments_lexer": "ipython3",
   "version": "3.8.5-final"
  },
  "orig_nbformat": 2,
  "kernelspec": {
   "name": "python3",
   "display_name": "Python 3",
   "language": "python"
  }
 },
 "nbformat": 4,
 "nbformat_minor": 2,
 "cells": [
  {
   "source": [
    "# Short Exercises - Part III - Chapter 07"
   ],
   "cell_type": "markdown",
   "metadata": {}
  },
  {
   "source": [
    "### Median and Mode of an ___*array*___"
   ],
   "cell_type": "markdown",
   "metadata": {}
  },
  {
   "cell_type": "code",
   "execution_count": 197,
   "metadata": {},
   "outputs": [],
   "source": [
    "### implement mode and median functions for 1 and 2 dimensional narrays"
   ]
  },
  {
   "cell_type": "code",
   "execution_count": 128,
   "metadata": {},
   "outputs": [],
   "source": [
    "import numpy as np"
   ]
  },
  {
   "cell_type": "code",
   "execution_count": 129,
   "metadata": {},
   "outputs": [
    {
     "output_type": "execute_result",
     "data": {
      "text/plain": [
       "array([66, 43, 13, 92, 69, 91, 70, 92, 23, 98, 95,  1, 49, 12, 11, 26,  7,\n",
       "       12,  4, 18])"
      ]
     },
     "metadata": {},
     "execution_count": 129
    }
   ],
   "source": [
    "arr = np.random.randint(1, 100, 20)\n",
    "arr"
   ]
  },
  {
   "cell_type": "code",
   "execution_count": 132,
   "metadata": {},
   "outputs": [],
   "source": [
    "import statistics"
   ]
  },
  {
   "cell_type": "code",
   "execution_count": 172,
   "metadata": {},
   "outputs": [],
   "source": [
    "def np_median(seq, axis=0):\n",
    "    '''Calculates the median of a numpy array'''\n",
    "    if axis == 1:\n",
    "        seq = seq.T\n",
    "    \n",
    "    seq = sorted(seq.flatten())\n",
    "    if len(seq) % 2 == 0: # if length is even\n",
    "        return (seq[len(seq) // 2] + seq[(len(seq) // 2) - 1]) / 2\n",
    "    \n",
    "    return (seq[len(seq) // 2])\n"
   ]
  },
  {
   "cell_type": "code",
   "execution_count": 173,
   "metadata": {},
   "outputs": [
    {
     "output_type": "execute_result",
     "data": {
      "text/plain": [
       "34.5"
      ]
     },
     "metadata": {},
     "execution_count": 173
    }
   ],
   "source": [
    "np_median(arr)"
   ]
  },
  {
   "cell_type": "code",
   "execution_count": 198,
   "metadata": {},
   "outputs": [
    {
     "output_type": "execute_result",
     "data": {
      "text/plain": [
       "34.5"
      ]
     },
     "metadata": {},
     "execution_count": 198
    }
   ],
   "source": [
    "statistics.median(arr)"
   ]
  },
  {
   "cell_type": "code",
   "execution_count": 199,
   "metadata": {},
   "outputs": [],
   "source": [
    "from operator import itemgetter"
   ]
  },
  {
   "cell_type": "code",
   "execution_count": 200,
   "metadata": {},
   "outputs": [],
   "source": [
    "def np_mode(seq, axis=0):\n",
    "    '''Calculates the mode of a numpy array'''\n",
    "    if axis == 1:\n",
    "        seq = seq.T\n",
    "        \n",
    "    values, frequencies = np.unique(seq, return_counts=True)\n",
    "    head, *tail = list(reversed(sorted(list(zip(values, frequencies)), key=itemgetter(1))))\n",
    "    return head[0]"
   ]
  },
  {
   "cell_type": "code",
   "execution_count": 201,
   "metadata": {},
   "outputs": [
    {
     "output_type": "execute_result",
     "data": {
      "text/plain": [
       "92"
      ]
     },
     "metadata": {},
     "execution_count": 201
    }
   ],
   "source": [
    "statistics.mode(arr)"
   ]
  },
  {
   "cell_type": "code",
   "execution_count": 202,
   "metadata": {},
   "outputs": [
    {
     "output_type": "execute_result",
     "data": {
      "text/plain": [
       "92"
      ]
     },
     "metadata": {},
     "execution_count": 202
    }
   ],
   "source": [
    "np_mode(arr)"
   ]
  },
  {
   "cell_type": "code",
   "execution_count": 203,
   "metadata": {},
   "outputs": [],
   "source": [
    "### Multidimensional narrays"
   ]
  },
  {
   "cell_type": "code",
   "execution_count": 204,
   "metadata": {},
   "outputs": [
    {
     "output_type": "execute_result",
     "data": {
      "text/plain": [
       "array([[ 38,  36,  18,   5,   3],\n",
       "       [ 49,  74,  78,  71,  21],\n",
       "       [ 94,   8,  21,  87,  97],\n",
       "       [ 23,  14,  50,  99,  88],\n",
       "       [100,  62,  75,  65,  54]])"
      ]
     },
     "metadata": {},
     "execution_count": 204
    }
   ],
   "source": [
    "numbers = np.random.randint(1, 101, 25).reshape(5, 5)\n",
    "numbers"
   ]
  },
  {
   "cell_type": "code",
   "execution_count": 205,
   "metadata": {},
   "outputs": [
    {
     "output_type": "execute_result",
     "data": {
      "text/plain": [
       "array([[ 38,  49,  94,  23, 100],\n",
       "       [ 36,  74,   8,  14,  62],\n",
       "       [ 18,  78,  21,  50,  75],\n",
       "       [  5,  71,  87,  99,  65],\n",
       "       [  3,  21,  97,  88,  54]])"
      ]
     },
     "metadata": {},
     "execution_count": 205
    }
   ],
   "source": [
    "numbers.T"
   ]
  },
  {
   "cell_type": "code",
   "execution_count": 206,
   "metadata": {},
   "outputs": [
    {
     "output_type": "execute_result",
     "data": {
      "text/plain": [
       "54"
      ]
     },
     "metadata": {},
     "execution_count": 206
    }
   ],
   "source": [
    "np_median(numbers)"
   ]
  },
  {
   "cell_type": "code",
   "execution_count": 207,
   "metadata": {},
   "outputs": [
    {
     "output_type": "execute_result",
     "data": {
      "text/plain": [
       "54"
      ]
     },
     "metadata": {},
     "execution_count": 207
    }
   ],
   "source": [
    "statistics.median(numbers.flatten())"
   ]
  },
  {
   "cell_type": "code",
   "execution_count": null,
   "metadata": {},
   "outputs": [],
   "source": []
  }
 ]
}