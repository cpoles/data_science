{
 "cells": [
  {
   "cell_type": "markdown",
   "id": "046fc387-503b-4231-86d9-d8a37a1a1542",
   "metadata": {},
   "source": [
    "### Normal Equation"
   ]
  },
  {
   "cell_type": "code",
   "execution_count": 1,
   "id": "5bfbdcc2-3ae4-42b5-964f-f15234fb7cd9",
   "metadata": {},
   "outputs": [],
   "source": [
    "import numpy as np"
   ]
  },
  {
   "cell_type": "code",
   "execution_count": 18,
   "id": "7e12be1d-ab0d-4586-93f5-a2c8b194728b",
   "metadata": {},
   "outputs": [],
   "source": [
    "X = 2 * np.random.rand(100,1)\n",
    "y = 4 + 3 * X + np.random.randn(100,1)"
   ]
  },
  {
   "cell_type": "code",
   "execution_count": 19,
   "id": "0bd50207-0567-4b60-b8fe-0873483fbc8f",
   "metadata": {},
   "outputs": [],
   "source": [
    "import seaborn as sns\n",
    "import matplotlib.pyplot as plt"
   ]
  },
  {
   "cell_type": "code",
   "execution_count": 28,
   "id": "ebf4a13c-edd0-46a0-bb67-3a2f2b18165b",
   "metadata": {},
   "outputs": [
    {
     "data": {
      "text/plain": [
       "Text(0, 0.5, 'y')"
      ]
     },
     "execution_count": 28,
     "metadata": {},
     "output_type": "execute_result"
    },
    {
     "data": {
      "image/png": "[encoded data removed]",
      "text/plain": [
       "<Figure size 432x288 with 1 Axes>"
      ]
     },
     "metadata": {
      "needs_background": "light"
     },
     "output_type": "display_data"
    }
   ],
   "source": [
    "plt.scatter(X.flatten(), y.flatten(), alpha=0.5)\n",
    "plt.xlabel('x1')\n",
    "plt.ylabel('y')"
   ]
  },
  {
   "cell_type": "code",
   "execution_count": 25,
   "id": "9283bf63-fbc0-43f6-a05e-32a3017b3a44",
   "metadata": {},
   "outputs": [],
   "source": [
    "## adding x0 = 1 to each observation in X matrix\n",
    "X_b = np.c_[np.ones((100, 1)), X]\n",
    "theta_best = np.linalg.inv(X_b.T.dot(X_b)).dot(X_b.T).dot(y)"
   ]
  },
  {
   "cell_type": "code",
   "execution_count": 27,
   "id": "a8c7718f-ec73-43c4-8d33-c69101d7f89a",
   "metadata": {},
   "outputs": [
    {
     "data": {
      "text/plain": [
       "array([[3.63282236],\n",
       "       [3.24461751]])"
      ]
     },
     "execution_count": 27,
     "metadata": {},
     "output_type": "execute_result"
    }
   ],
   "source": [
    "theta_best # ideal x0 = 4, x1 = 3 as per y function"
   ]
  },
  {
   "cell_type": "code",
   "execution_count": 31,
   "id": "8fb26905-d195-44f3-a985-40a31c8bd62e",
   "metadata": {},
   "outputs": [],
   "source": [
    "intercept = theta_best[0]\n",
    "theta_1 = theta_best[1]"
   ]
  },
  {
   "cell_type": "markdown",
   "id": "f47cdade-5263-4161-8e76-0e1cd2c43d2e",
   "metadata": {},
   "source": [
    "### Making Predictions"
   ]
  },
  {
   "cell_type": "code",
   "execution_count": 29,
   "id": "1b83afc6-f1de-448d-8f73-d56ba8807364",
   "metadata": {},
   "outputs": [],
   "source": [
    "X_new = np.array([[0], [2]]) # x1 = [0, 2]\n",
    "X_new_b = np.c_[np.ones((2, 1)), X_new] # add 1 to x0\n",
    "y_predict = X_new_b.dot(theta_best)"
   ]
  },
  {
   "cell_type": "code",
   "execution_count": 30,
   "id": "60414ede-2d76-47ec-bb99-ca7b9f19e202",
   "metadata": {},
   "outputs": [
    {
     "data": {
      "text/plain": [
       "array([[ 3.63282236],\n",
       "       [10.12205738]])"
      ]
     },
     "execution_count": 30,
     "metadata": {},
     "output_type": "execute_result"
    }
   ],
   "source": [
    "y_predict"
   ]
  },
  {
   "cell_type": "code",
   "execution_count": 36,
   "id": "b2af2129-8272-4e09-ad2a-cc933f42f74c",
   "metadata": {},
   "outputs": [
    {
     "data": {
      "text/plain": [
       "[<matplotlib.lines.Line2D at 0x7fe9a49a1880>]"
      ]
     },
     "execution_count": 36,
     "metadata": {},
     "output_type": "execute_result"
    },
    {
     "data": {
      "image/png": "[encoded data removed]",
      "text/plain": [
       "<Figure size 648x504 with 1 Axes>"
      ]
     },
     "metadata": {
      "needs_background": "light"
     },
     "output_type": "display_data"
    }
   ],
   "source": [
    "# Initialize layout\n",
    "fig, ax = plt.subplots(figsize = (9, 7))\n",
    "\n",
    "\n",
    "ax.scatter(X.flatten(), y.flatten(), alpha=0.5)\n",
    "\n",
    "ax.plot(X_new, y_predict, \"r-\")"
   ]
  },
  {
   "cell_type": "markdown",
   "id": "57285e60-9e9c-4e83-b9f9-00e50dd2987e",
   "metadata": {},
   "source": [
    "### Using Scikit learn"
   ]
  },
  {
   "cell_type": "code",
   "execution_count": 37,
   "id": "05c06384-d002-4901-8628-07d667ba2848",
   "metadata": {},
   "outputs": [],
   "source": [
    "from sklearn.linear_model import LinearRegression"
   ]
  },
  {
   "cell_type": "code",
   "execution_count": 38,
   "id": "adbe926e-3cdb-4245-b032-2e4918f6c833",
   "metadata": {},
   "outputs": [
    {
     "data": {
      "text/plain": [
       "(array([3.63282236]), array([[3.24461751]]))"
      ]
     },
     "execution_count": 38,
     "metadata": {},
     "output_type": "execute_result"
    }
   ],
   "source": [
    "lin_reg = LinearRegression()\n",
    "lin_reg.fit(X, y)\n",
    "lin_reg.intercept_, lin_reg.coef_"
   ]
  },
  {
   "cell_type": "code",
   "execution_count": 39,
   "id": "0243e122-aa7f-4286-a489-de3a5bce1965",
   "metadata": {},
   "outputs": [
    {
     "data": {
      "text/plain": [
       "array([[ 3.63282236],\n",
       "       [10.12205738]])"
      ]
     },
     "execution_count": 39,
     "metadata": {},
     "output_type": "execute_result"
    }
   ],
   "source": [
    "lin_reg.predict(X_new)"
   ]
  },
  {
   "cell_type": "markdown",
   "id": "fa4e731a-f55d-43ef-afbf-23f1aee02e4c",
   "metadata": {},
   "source": [
    "### Gradient Descent"
   ]
  },
  {
   "cell_type": "code",
   "execution_count": 40,
   "id": "158683c4-1f37-40e4-a7b5-9cf3a595cf20",
   "metadata": {},
   "outputs": [],
   "source": [
    "eta = 0.1 # learning rate\n",
    "n_iterations = 1000\n",
    "m = 100"
   ]
  },
  {
   "cell_type": "code",
   "execution_count": 41,
   "id": "854569c5-a9cb-4b41-8834-a4ecd9932838",
   "metadata": {},
   "outputs": [
    {
     "data": {
      "text/plain": [
       "array([[ 0.39840679],\n",
       "       [-0.23298258]])"
      ]
     },
     "execution_count": 41,
     "metadata": {},
     "output_type": "execute_result"
    }
   ],
   "source": [
    "# initialize theta vector randomly\n",
    "theta = np.random.randn(2,1)\n",
    "theta"
   ]
  },
  {
   "cell_type": "code",
   "execution_count": 43,
   "id": "d53c5ede-0803-4b13-b9f4-dddaf5be5cad",
   "metadata": {},
   "outputs": [],
   "source": [
    "for iteration in range(n_iterations):\n",
    "    # calculate gradient vectors\n",
    "    gradients = 2/m * X_b.T.dot(X_b.dot(theta) - y)\n",
    "    theta = theta - (eta * gradients)"
   ]
  },
  {
   "cell_type": "code",
   "execution_count": 44,
   "id": "b3146bd1-e0e2-41c4-a05d-acf781fc4176",
   "metadata": {},
   "outputs": [
    {
     "data": {
      "text/plain": [
       "array([[3.63282236],\n",
       "       [3.24461751]])"
      ]
     },
     "execution_count": 44,
     "metadata": {},
     "output_type": "execute_result"
    }
   ],
   "source": [
    "theta"
   ]
  },
  {
   "cell_type": "markdown",
   "id": "419a204f-fc47-4495-aad0-cb66b7983dcd",
   "metadata": {},
   "source": [
    "### Stochastic Gradient Descent"
   ]
  },
  {
   "cell_type": "code",
   "execution_count": 50,
   "id": "92a37729-2ef5-49f6-b70d-34e517f8da4c",
   "metadata": {},
   "outputs": [],
   "source": [
    "n_epochs = 50\n",
    "t0, t1 = 5, 50 # learning schedule hyperparameters"
   ]
  },
  {
   "cell_type": "code",
   "execution_count": 51,
   "id": "2ee44ad9-f850-472b-94ed-b485dbed5dce",
   "metadata": {},
   "outputs": [],
   "source": [
    "def learning_schedule(t):\n",
    "    return t0 / (t + t1)"
   ]
  },
  {
   "cell_type": "code",
   "execution_count": 53,
   "id": "bba3b5bf-61ea-4718-a49b-e49ed50f11d0",
   "metadata": {},
   "outputs": [],
   "source": [
    "theta = np.random.randn(2,1) # random initialisation of theta vector"
   ]
  },
  {
   "cell_type": "code",
   "execution_count": 82,
   "id": "e3424ba2-1814-428a-a502-89c103355085",
   "metadata": {},
   "outputs": [],
   "source": [
    "for epoch in range(n_epochs):\n",
    "    for i in range(m):\n",
    "        random_index = np.random.randint(m)\n",
    "        xi = X_b[random_index:random_index+1] # slice to keep (n, m) shape\n",
    "        yi = y[random_index:random_index+1]\n",
    "        gradients = 2 * xi.T.dot(xi.dot(theta) - yi)\n",
    "        eta = learning_schedule(epoch * m + i)\n",
    "        theta = theta - (eta * gradients)\n",
    "        "
   ]
  },
  {
   "cell_type": "code",
   "execution_count": 83,
   "id": "f923e211-e1ae-4e6c-9519-2c5addb3df9c",
   "metadata": {},
   "outputs": [
    {
     "data": {
      "text/plain": [
       "array([[3.58814784],\n",
       "       [3.26020636]])"
      ]
     },
     "execution_count": 83,
     "metadata": {},
     "output_type": "execute_result"
    }
   ],
   "source": [
    "theta"
   ]
  },
  {
   "cell_type": "code",
   "execution_count": 87,
   "id": "2292a0b9-7d32-4d97-924c-ca5b75612605",
   "metadata": {},
   "outputs": [
    {
     "data": {
      "text/plain": [
       "SGDRegressor(eta0=0.1, penalty=None)"
      ]
     },
     "execution_count": 87,
     "metadata": {},
     "output_type": "execute_result"
    }
   ],
   "source": [
    "# using SGDRegressor (uses Squared Error Cost Function)\n",
    "from sklearn.linear_model import SGDRegressor\n",
    "sgd_reg = SGDRegressor(max_iter=1000, tol=1e-3, penalty=None, eta0=0.1)\n",
    "sgd_reg.fit(X, y.ravel())"
   ]
  },
  {
   "cell_type": "code",
   "execution_count": 88,
   "id": "1d9fe8d4-f9d7-4f9b-81a1-83ef8c8f93f1",
   "metadata": {},
   "outputs": [
    {
     "data": {
      "text/plain": [
       "(array([3.63623562]), array([3.28438964]))"
      ]
     },
     "execution_count": 88,
     "metadata": {},
     "output_type": "execute_result"
    }
   ],
   "source": [
    "sgd_reg.intercept_, sgd_reg.coef_"
   ]
  },
  {
   "cell_type": "markdown",
   "id": "fa65ffce-c4d6-4d26-831f-2ab71f9a4eed",
   "metadata": {},
   "source": [
    "### Polynomial Regression"
   ]
  },
  {
   "cell_type": "code",
   "execution_count": 89,
   "id": "ab54a028-edfd-45d1-9771-50b21a406fcb",
   "metadata": {},
   "outputs": [],
   "source": [
    "m = 100\n",
    "X = 6 * np.random.rand(m, 1) - 3\n",
    "y = 0.5 * X**2 + X + 2 + np.random.randn(m, 1)"
   ]
  },
  {
   "cell_type": "code",
   "execution_count": 97,
   "id": "6fc912ba-7d0d-426a-9ab6-d81823c1a4dd",
   "metadata": {},
   "outputs": [
    {
     "data": {
      "text/plain": [
       "<seaborn.axisgrid.FacetGrid at 0x7fe9a61cf8b0>"
      ]
     },
     "execution_count": 97,
     "metadata": {},
     "output_type": "execute_result"
    },
    {
     "data": {
      "image/png": "[encoded data removed]",
      "text/plain": [
       "<Figure size 402.375x360 with 1 Axes>"
      ]
     },
     "metadata": {
      "needs_background": "light"
     },
     "output_type": "display_data"
    }
   ],
   "source": [
    "sns.displot(X, kind='kde')"
   ]
  },
  {
   "cell_type": "code",
   "execution_count": 99,
   "id": "06130e4e-e1fb-4aa9-8e9f-4414ce45b1d7",
   "metadata": {},
   "outputs": [
    {
     "data": {
      "text/plain": [
       "<AxesSubplot:>"
      ]
     },
     "execution_count": 99,
     "metadata": {},
     "output_type": "execute_result"
    },
    {
     "data": {
      "image/png": "[encoded data removed]",
      "text/plain": [
       "<Figure size 432x288 with 1 Axes>"
      ]
     },
     "metadata": {
      "needs_background": "light"
     },
     "output_type": "display_data"
    }
   ],
   "source": [
    "sns.scatterplot(x=X.flatten(), y=y.flatten())"
   ]
  },
  {
   "cell_type": "code",
   "execution_count": 100,
   "id": "5bf38637-fd7a-418f-a9f8-ab5690ec6ffa",
   "metadata": {},
   "outputs": [],
   "source": [
    "from sklearn.preprocessing import PolynomialFeatures"
   ]
  },
  {
   "cell_type": "code",
   "execution_count": 101,
   "id": "8d7d1fa5-d734-41ef-8895-bc584081b1fb",
   "metadata": {},
   "outputs": [],
   "source": [
    "poly_features = PolynomialFeatures(degree=2, include_bias=False)"
   ]
  },
  {
   "cell_type": "code",
   "execution_count": 102,
   "id": "00b23cc0-bc53-4352-bb90-e093a559f535",
   "metadata": {},
   "outputs": [],
   "source": [
    "X_poly = poly_features.fit_transform(X)"
   ]
  },
  {
   "cell_type": "code",
   "execution_count": 103,
   "id": "5944304f-03cb-4c6c-9d2c-0b1c0d9daf5b",
   "metadata": {},
   "outputs": [
    {
     "data": {
      "text/plain": [
       "(array([2.52007753]), array([2.52007753, 6.35079078]))"
      ]
     },
     "execution_count": 103,
     "metadata": {},
     "output_type": "execute_result"
    }
   ],
   "source": [
    "X[0], X_poly[0]"
   ]
  },
  {
   "cell_type": "code",
   "execution_count": 167,
   "id": "7cd857c1-74d7-4372-87c0-ff855edba2bc",
   "metadata": {},
   "outputs": [
    {
     "data": {
      "text/plain": [
       "(array([1.95501498]), array([[0.96395264, 0.49264144]]))"
      ]
     },
     "execution_count": 167,
     "metadata": {},
     "output_type": "execute_result"
    }
   ],
   "source": [
    "# fit a Lin Reg model with the extended data\n",
    "lin_reg = LinearRegression()\n",
    "lin_reg.fit(X_poly, y)\n",
    "lin_reg.intercept_, lin_reg.coef_"
   ]
  },
  {
   "cell_type": "code",
   "execution_count": 168,
   "id": "66dad34e-12da-4153-875f-cc168ed0b466",
   "metadata": {},
   "outputs": [],
   "source": [
    "# 1.96 + 0.96x1 + 0.49x2**2"
   ]
  },
  {
   "cell_type": "code",
   "execution_count": 170,
   "id": "e81fd1b9-2d09-490a-bc89-77b4414d7eca",
   "metadata": {},
   "outputs": [
    {
     "data": {
      "image/png": "[encoded data removed]",
      "text/plain": [
       "<Figure size 432x288 with 1 Axes>"
      ]
     },
     "metadata": {
      "needs_background": "light"
     },
     "output_type": "display_data"
    }
   ],
   "source": [
    "X_new=np.linspace(-3, 3, 100).reshape(100, 1)\n",
    "X_new_poly = poly_features.transform(X_new)\n",
    "y_new = lin_reg.predict(X_new_poly)\n",
    "plt.plot(X, y, \"b.\")\n",
    "plt.plot(X_new, y_new, \"r-\", linewidth=2, label=\"Predictions\")\n",
    "plt.xlabel(\"$x_1$\", fontsize=18)\n",
    "plt.ylabel(\"$y$\", rotation=0, fontsize=18)\n",
    "plt.legend(loc=\"upper left\", fontsize=14)\n",
    "plt.axis([-3, 3, 0, 10])\n",
    "plt.show()"
   ]
  },
  {
   "cell_type": "markdown",
   "id": "7f162908-373c-4e6d-abbd-016a222a1abe",
   "metadata": {},
   "source": [
    "### Learning Curves"
   ]
  },
  {
   "cell_type": "code",
   "execution_count": 174,
   "id": "a0446c79-31fd-4b14-8f47-08af940cc1e8",
   "metadata": {},
   "outputs": [],
   "source": [
    "\n",
    "from sklearn.metrics import mean_squared_error\n",
    "from sklearn.model_selection import train_test_split\n",
    "\n",
    "def plot_learning_curves(model, X, y):\n",
    "    X_train, X_val, y_train, y_val = train_test_split(X, y, test_size=0.2, random_state=10)\n",
    "    train_errors, val_errors = [], []\n",
    "    for m in range(1, len(X_train)):\n",
    "        model.fit(X_train[:m], y_train[:m])\n",
    "        y_train_predict = model.predict(X_train[:m])\n",
    "        y_val_predict = model.predict(X_val)\n",
    "        train_errors.append(mean_squared_error(y_train[:m], y_train_predict))\n",
    "        val_errors.append(mean_squared_error(y_val, y_val_predict))\n",
    "\n",
    "    plt.plot(np.sqrt(train_errors), \"r-+\", linewidth=2, label=\"train\")\n",
    "    plt.plot(np.sqrt(val_errors), \"b-\", linewidth=3, label=\"val\")\n",
    "    plt.legend(loc=\"upper right\", fontsize=14)   \n",
    "    plt.xlabel(\"Training set size\", fontsize=14) \n",
    "    plt.ylabel(\"RMSE\", fontsize=14)              "
   ]
  },
  {
   "cell_type": "code",
   "execution_count": 175,
   "id": "6940b4b3-e4f5-4de8-8e52-7acdfd929e08",
   "metadata": {},
   "outputs": [
    {
     "data": {
      "image/png": "[encoded data removed]",
      "text/plain": [
       "<Figure size 432x288 with 1 Axes>"
      ]
     },
     "metadata": {
      "needs_background": "light"
     },
     "output_type": "display_data"
    }
   ],
   "source": [
    "lin_reg = LinearRegression()\n",
    "plot_learning_curves(lin_reg, X, y)\n",
    "plt.axis([0, 80, 0, 3])                         \n",
    "plt.show()                                      "
   ]
  },
  {
   "cell_type": "code",
   "execution_count": null,
   "id": "08ebb520-dd27-4d3c-9c6b-42a84cff846a",
   "metadata": {},
   "outputs": [],
   "source": []
  }
 ],
 "metadata": {
  "kernelspec": {
   "display_name": "Python 3 (ipykernel)",
   "language": "python",
   "name": "python3"
  },
  "language_info": {
   "codemirror_mode": {
    "name": "ipython",
    "version": 3
   },
   "file_extension": ".py",
   "mimetype": "text/x-python",
   "name": "python",
   "nbconvert_exporter": "python",
   "pygments_lexer": "ipython3",
   "version": "3.8.8"
  }
 },
 "nbformat": 4,
 "nbformat_minor": 5
}
