{
 "cells": [
  {
   "cell_type": "markdown",
   "id": "046fc387-503b-4231-86d9-d8a37a1a1542",
   "metadata": {},
   "source": [
    "### Normal Equation"
   ]
  },
  {
   "cell_type": "code",
   "execution_count": 1,
   "id": "5bfbdcc2-3ae4-42b5-964f-f15234fb7cd9",
   "metadata": {},
   "outputs": [],
   "source": [
    "import numpy as np"
   ]
  },
  {
   "cell_type": "code",
   "execution_count": 2,
   "id": "7e12be1d-ab0d-4586-93f5-a2c8b194728b",
   "metadata": {},
   "outputs": [],
   "source": [
    "X = 2 * np.random.rand(100,1)\n",
    "y = 4 + 3 * X + np.random.randn(100,1)"
   ]
  },
  {
   "cell_type": "code",
   "execution_count": 3,
   "id": "0bd50207-0567-4b60-b8fe-0873483fbc8f",
   "metadata": {},
   "outputs": [],
   "source": [
    "import seaborn as sns\n",
    "import matplotlib.pyplot as plt"
   ]
  },
  {
   "cell_type": "code",
   "execution_count": 4,
   "id": "ebf4a13c-edd0-46a0-bb67-3a2f2b18165b",
   "metadata": {},
   "outputs": [
    {
     "data": {
      "text/plain": [
       "Text(0, 0.5, 'y')"
      ]
     },
     "execution_count": 4,
     "metadata": {},
     "output_type": "execute_result"
    },
    {
     "data": {
      "image/png": "[encoded data removed]",
      "text/plain": [
       "<Figure size 432x288 with 1 Axes>"
      ]
     },
     "metadata": {
      "needs_background": "light"
     },
     "output_type": "display_data"
    }
   ],
   "source": [
    "plt.scatter(X.flatten(), y.flatten(), alpha=0.5)\n",
    "plt.xlabel('x1')\n",
    "plt.ylabel('y')"
   ]
  },
  {
   "cell_type": "code",
   "execution_count": 5,
   "id": "9283bf63-fbc0-43f6-a05e-32a3017b3a44",
   "metadata": {},
   "outputs": [],
   "source": [
    "## adding x0 = 1 to each observation in X matrix\n",
    "X_b = np.c_[np.ones((100, 1)), X]\n",
    "theta_best = np.linalg.inv(X_b.T.dot(X_b)).dot(X_b.T).dot(y)"
   ]
  },
  {
   "cell_type": "code",
   "execution_count": 6,
   "id": "a8c7718f-ec73-43c4-8d33-c69101d7f89a",
   "metadata": {},
   "outputs": [
    {
     "data": {
      "text/plain": [
       "array([[3.88971297],\n",
       "       [2.94440327]])"
      ]
     },
     "execution_count": 6,
     "metadata": {},
     "output_type": "execute_result"
    }
   ],
   "source": [
    "theta_best # ideal x0 = 4, x1 = 3 as per y function"
   ]
  },
  {
   "cell_type": "code",
   "execution_count": 7,
   "id": "8fb26905-d195-44f3-a985-40a31c8bd62e",
   "metadata": {},
   "outputs": [],
   "source": [
    "intercept = theta_best[0]\n",
    "theta_1 = theta_best[1]"
   ]
  },
  {
   "cell_type": "markdown",
   "id": "f47cdade-5263-4161-8e76-0e1cd2c43d2e",
   "metadata": {},
   "source": [
    "### Making Predictions"
   ]
  },
  {
   "cell_type": "code",
   "execution_count": 8,
   "id": "1b83afc6-f1de-448d-8f73-d56ba8807364",
   "metadata": {},
   "outputs": [],
   "source": [
    "X_new = np.array([[0], [2]]) # x1 = [0, 2]\n",
    "X_new_b = np.c_[np.ones((2, 1)), X_new] # add 1 to x0\n",
    "y_predict = X_new_b.dot(theta_best)"
   ]
  },
  {
   "cell_type": "code",
   "execution_count": 9,
   "id": "60414ede-2d76-47ec-bb99-ca7b9f19e202",
   "metadata": {},
   "outputs": [
    {
     "data": {
      "text/plain": [
       "array([[3.88971297],\n",
       "       [9.7785195 ]])"
      ]
     },
     "execution_count": 9,
     "metadata": {},
     "output_type": "execute_result"
    }
   ],
   "source": [
    "y_predict"
   ]
  },
  {
   "cell_type": "code",
   "execution_count": 10,
   "id": "b2af2129-8272-4e09-ad2a-cc933f42f74c",
   "metadata": {},
   "outputs": [
    {
     "data": {
      "text/plain": [
       "[<matplotlib.lines.Line2D at 0x7f8fc79ca760>]"
      ]
     },
     "execution_count": 10,
     "metadata": {},
     "output_type": "execute_result"
    },
    {
     "data": {
      "image/png": "[encoded data removed]",
      "text/plain": [
       "<Figure size 648x504 with 1 Axes>"
      ]
     },
     "metadata": {
      "needs_background": "light"
     },
     "output_type": "display_data"
    }
   ],
   "source": [
    "# Initialize layout\n",
    "fig, ax = plt.subplots(figsize = (9, 7))\n",
    "\n",
    "\n",
    "ax.scatter(X.flatten(), y.flatten(), alpha=0.5)\n",
    "\n",
    "ax.plot(X_new, y_predict, \"r-\")"
   ]
  },
  {
   "cell_type": "markdown",
   "id": "57285e60-9e9c-4e83-b9f9-00e50dd2987e",
   "metadata": {},
   "source": [
    "### Using Scikit learn"
   ]
  },
  {
   "cell_type": "code",
   "execution_count": 11,
   "id": "05c06384-d002-4901-8628-07d667ba2848",
   "metadata": {},
   "outputs": [],
   "source": [
    "from sklearn.linear_model import LinearRegression"
   ]
  },
  {
   "cell_type": "code",
   "execution_count": 12,
   "id": "adbe926e-3cdb-4245-b032-2e4918f6c833",
   "metadata": {},
   "outputs": [
    {
     "data": {
      "text/plain": [
       "(array([3.88971297]), array([[2.94440327]]))"
      ]
     },
     "execution_count": 12,
     "metadata": {},
     "output_type": "execute_result"
    }
   ],
   "source": [
    "lin_reg = LinearRegression()\n",
    "lin_reg.fit(X, y)\n",
    "lin_reg.intercept_, lin_reg.coef_"
   ]
  },
  {
   "cell_type": "code",
   "execution_count": 13,
   "id": "0243e122-aa7f-4286-a489-de3a5bce1965",
   "metadata": {},
   "outputs": [
    {
     "data": {
      "text/plain": [
       "array([[3.88971297],\n",
       "       [9.7785195 ]])"
      ]
     },
     "execution_count": 13,
     "metadata": {},
     "output_type": "execute_result"
    }
   ],
   "source": [
    "lin_reg.predict(X_new)"
   ]
  },
  {
   "cell_type": "markdown",
   "id": "fa4e731a-f55d-43ef-afbf-23f1aee02e4c",
   "metadata": {},
   "source": [
    "### Gradient Descent"
   ]
  },
  {
   "cell_type": "code",
   "execution_count": 14,
   "id": "158683c4-1f37-40e4-a7b5-9cf3a595cf20",
   "metadata": {},
   "outputs": [],
   "source": [
    "eta = 0.1 # learning rate\n",
    "n_iterations = 1000\n",
    "m = 100"
   ]
  },
  {
   "cell_type": "code",
   "execution_count": 15,
   "id": "854569c5-a9cb-4b41-8834-a4ecd9932838",
   "metadata": {},
   "outputs": [
    {
     "data": {
      "text/plain": [
       "array([[ 0.84635096],\n",
       "       [-0.59218793]])"
      ]
     },
     "execution_count": 15,
     "metadata": {},
     "output_type": "execute_result"
    }
   ],
   "source": [
    "# initialize theta vector randomly\n",
    "theta = np.random.randn(2,1)\n",
    "theta"
   ]
  },
  {
   "cell_type": "code",
   "execution_count": 16,
   "id": "d53c5ede-0803-4b13-b9f4-dddaf5be5cad",
   "metadata": {},
   "outputs": [],
   "source": [
    "for iteration in range(n_iterations):\n",
    "    # calculate gradient vectors\n",
    "    gradients = 2/m * X_b.T.dot(X_b.dot(theta) - y)\n",
    "    theta = theta - (eta * gradients)"
   ]
  },
  {
   "cell_type": "code",
   "execution_count": null,
   "id": "b3146bd1-e0e2-41c4-a05d-acf781fc4176",
   "metadata": {},
   "outputs": [],
   "source": [
    "theta"
   ]
  },
  {
   "cell_type": "markdown",
   "id": "419a204f-fc47-4495-aad0-cb66b7983dcd",
   "metadata": {},
   "source": [
    "### Stochastic Gradient Descent"
   ]
  },
  {
   "cell_type": "code",
   "execution_count": null,
   "id": "92a37729-2ef5-49f6-b70d-34e517f8da4c",
   "metadata": {},
   "outputs": [],
   "source": [
    "n_epochs = 50\n",
    "t0, t1 = 5, 50 # learning schedule hyperparameters"
   ]
  },
  {
   "cell_type": "code",
   "execution_count": null,
   "id": "2ee44ad9-f850-472b-94ed-b485dbed5dce",
   "metadata": {},
   "outputs": [],
   "source": [
    "def learning_schedule(t):\n",
    "    return t0 / (t + t1)"
   ]
  },
  {
   "cell_type": "code",
   "execution_count": null,
   "id": "bba3b5bf-61ea-4718-a49b-e49ed50f11d0",
   "metadata": {},
   "outputs": [],
   "source": [
    "theta = np.random.randn(2,1) # random initialisation of theta vector"
   ]
  },
  {
   "cell_type": "code",
   "execution_count": null,
   "id": "e3424ba2-1814-428a-a502-89c103355085",
   "metadata": {},
   "outputs": [],
   "source": [
    "for epoch in range(n_epochs):\n",
    "    for i in range(m):\n",
    "        random_index = np.random.randint(m)\n",
    "        xi = X_b[random_index:random_index+1] # slice to keep (n, m) shape\n",
    "        yi = y[random_index:random_index+1]\n",
    "        gradients = 2 * xi.T.dot(xi.dot(theta) - yi)\n",
    "        eta = learning_schedule(epoch * m + i)\n",
    "        theta = theta - (eta * gradients)\n",
    "        "
   ]
  },
  {
   "cell_type": "code",
   "execution_count": null,
   "id": "f923e211-e1ae-4e6c-9519-2c5addb3df9c",
   "metadata": {},
   "outputs": [],
   "source": [
    "theta"
   ]
  },
  {
   "cell_type": "code",
   "execution_count": null,
   "id": "2292a0b9-7d32-4d97-924c-ca5b75612605",
   "metadata": {},
   "outputs": [],
   "source": [
    "# using SGDRegressor (uses Squared Error Cost Function)\n",
    "from sklearn.linear_model import SGDRegressor\n",
    "sgd_reg = SGDRegressor(max_iter=1000, tol=1e-3, penalty=None, eta0=0.1)\n",
    "sgd_reg.fit(X, y.ravel())"
   ]
  },
  {
   "cell_type": "code",
   "execution_count": 24,
   "id": "1d9fe8d4-f9d7-4f9b-81a1-83ef8c8f93f1",
   "metadata": {},
   "outputs": [
    {
     "data": {
      "text/plain": [
       "(array([3.86958179]), array([2.96369707]))"
      ]
     },
     "execution_count": 24,
     "metadata": {},
     "output_type": "execute_result"
    }
   ],
   "source": [
    "sgd_reg.intercept_, sgd_reg.coef_"
   ]
  },
  {
   "cell_type": "markdown",
   "id": "fa65ffce-c4d6-4d26-831f-2ab71f9a4eed",
   "metadata": {},
   "source": [
    "### Polynomial Regression"
   ]
  },
  {
   "cell_type": "code",
   "execution_count": 25,
   "id": "ab54a028-edfd-45d1-9771-50b21a406fcb",
   "metadata": {},
   "outputs": [],
   "source": [
    "m = 100\n",
    "X = 6 * np.random.rand(m, 1) - 3\n",
    "y = 0.5 * X**2 + X + 2 + np.random.randn(m, 1)"
   ]
  },
  {
   "cell_type": "code",
   "execution_count": 26,
   "id": "6fc912ba-7d0d-426a-9ab6-d81823c1a4dd",
   "metadata": {},
   "outputs": [
    {
     "data": {
      "text/plain": [
       "<seaborn.axisgrid.FacetGrid at 0x7f8fc88ccd30>"
      ]
     },
     "execution_count": 26,
     "metadata": {},
     "output_type": "execute_result"
    },
    {
     "data": {
      "image/png": "[encoded data removed]",
      "text/plain": [
       "<Figure size 402.375x360 with 1 Axes>"
      ]
     },
     "metadata": {
      "needs_background": "light"
     },
     "output_type": "display_data"
    }
   ],
   "source": [
    "sns.displot(X, kind='kde')"
   ]
  },
  {
   "cell_type": "code",
   "execution_count": 27,
   "id": "06130e4e-e1fb-4aa9-8e9f-4414ce45b1d7",
   "metadata": {},
   "outputs": [
    {
     "data": {
      "text/plain": [
       "<AxesSubplot:>"
      ]
     },
     "execution_count": 27,
     "metadata": {},
     "output_type": "execute_result"
    },
    {
     "data": {
      "image/png": "[encoded data removed]",
      "text/plain": [
       "<Figure size 432x288 with 1 Axes>"
      ]
     },
     "metadata": {
      "needs_background": "light"
     },
     "output_type": "display_data"
    }
   ],
   "source": [
    "sns.scatterplot(x=X.flatten(), y=y.flatten())"
   ]
  },
  {
   "cell_type": "code",
   "execution_count": 28,
   "id": "5bf38637-fd7a-418f-a9f8-ab5690ec6ffa",
   "metadata": {},
   "outputs": [],
   "source": [
    "from sklearn.preprocessing import PolynomialFeatures"
   ]
  },
  {
   "cell_type": "code",
   "execution_count": 29,
   "id": "8d7d1fa5-d734-41ef-8895-bc584081b1fb",
   "metadata": {},
   "outputs": [],
   "source": [
    "poly_features = PolynomialFeatures(degree=2, include_bias=False)"
   ]
  },
  {
   "cell_type": "code",
   "execution_count": 30,
   "id": "00b23cc0-bc53-4352-bb90-e093a559f535",
   "metadata": {},
   "outputs": [],
   "source": [
    "X_poly = poly_features.fit_transform(X)"
   ]
  },
  {
   "cell_type": "code",
   "execution_count": 31,
   "id": "5944304f-03cb-4c6c-9d2c-0b1c0d9daf5b",
   "metadata": {},
   "outputs": [
    {
     "data": {
      "text/plain": [
       "(array([0.19454505]), array([0.19454505, 0.03784778]))"
      ]
     },
     "execution_count": 31,
     "metadata": {},
     "output_type": "execute_result"
    }
   ],
   "source": [
    "X[0], X_poly[0]"
   ]
  },
  {
   "cell_type": "code",
   "execution_count": 32,
   "id": "7cd857c1-74d7-4372-87c0-ff855edba2bc",
   "metadata": {},
   "outputs": [
    {
     "data": {
      "text/plain": [
       "(array([2.05814542]), array([[1.04309185, 0.4530643 ]]))"
      ]
     },
     "execution_count": 32,
     "metadata": {},
     "output_type": "execute_result"
    }
   ],
   "source": [
    "# fit a Lin Reg model with the extended data\n",
    "lin_reg = LinearRegression()\n",
    "lin_reg.fit(X_poly, y)\n",
    "lin_reg.intercept_, lin_reg.coef_"
   ]
  },
  {
   "cell_type": "code",
   "execution_count": 33,
   "id": "66dad34e-12da-4153-875f-cc168ed0b466",
   "metadata": {},
   "outputs": [],
   "source": [
    "# 1.96 + 0.96x1 + 0.49x2**2"
   ]
  },
  {
   "cell_type": "code",
   "execution_count": 34,
   "id": "e81fd1b9-2d09-490a-bc89-77b4414d7eca",
   "metadata": {},
   "outputs": [
    {
     "data": {
      "image/png": "[encoded data removed]",
      "text/plain": [
       "<Figure size 432x288 with 1 Axes>"
      ]
     },
     "metadata": {
      "needs_background": "light"
     },
     "output_type": "display_data"
    }
   ],
   "source": [
    "X_new=np.linspace(-3, 3, 100).reshape(100, 1)\n",
    "X_new_poly = poly_features.transform(X_new)\n",
    "y_new = lin_reg.predict(X_new_poly)\n",
    "plt.plot(X, y, \"b.\")\n",
    "plt.plot(X_new, y_new, \"r-\", linewidth=2, label=\"Predictions\")\n",
    "plt.xlabel(\"$x_1$\", fontsize=18)\n",
    "plt.ylabel(\"$y$\", rotation=0, fontsize=18)\n",
    "plt.legend(loc=\"upper left\", fontsize=14)\n",
    "plt.axis([-3, 3, 0, 10])\n",
    "plt.show()"
   ]
  },
  {
   "cell_type": "markdown",
   "id": "7f162908-373c-4e6d-abbd-016a222a1abe",
   "metadata": {},
   "source": [
    "### Learning Curves"
   ]
  },
  {
   "cell_type": "code",
   "execution_count": 35,
   "id": "a0446c79-31fd-4b14-8f47-08af940cc1e8",
   "metadata": {},
   "outputs": [],
   "source": [
    "\n",
    "from sklearn.metrics import mean_squared_error\n",
    "from sklearn.model_selection import train_test_split\n",
    "\n",
    "def plot_learning_curves(model, X, y):\n",
    "    X_train, X_val, y_train, y_val = train_test_split(X, y, test_size=0.2, random_state=10)\n",
    "    train_errors, val_errors = [], []\n",
    "    for m in range(1, len(X_train)):\n",
    "        model.fit(X_train[:m], y_train[:m])\n",
    "        y_train_predict = model.predict(X_train[:m])\n",
    "        y_val_predict = model.predict(X_val)\n",
    "        train_errors.append(mean_squared_error(y_train[:m], y_train_predict))\n",
    "        val_errors.append(mean_squared_error(y_val, y_val_predict))\n",
    "\n",
    "    plt.plot(np.sqrt(train_errors), \"r-+\", linewidth=2, label=\"train\")\n",
    "    plt.plot(np.sqrt(val_errors), \"b-\", linewidth=3, label=\"val\")\n",
    "    plt.legend(loc=\"upper right\", fontsize=14)   \n",
    "    plt.xlabel(\"Training set size\", fontsize=14) \n",
    "    plt.ylabel(\"RMSE\", fontsize=14)              "
   ]
  },
  {
   "cell_type": "code",
   "execution_count": 36,
   "id": "6940b4b3-e4f5-4de8-8e52-7acdfd929e08",
   "metadata": {},
   "outputs": [
    {
     "data": {
      "image/png": "[encoded data removed]",
      "text/plain": [
       "<Figure size 432x288 with 1 Axes>"
      ]
     },
     "metadata": {
      "needs_background": "light"
     },
     "output_type": "display_data"
    }
   ],
   "source": [
    "lin_reg = LinearRegression()\n",
    "plot_learning_curves(lin_reg, X, y)\n",
    "plt.axis([0, 80, 0, 3])                         \n",
    "plt.show()                                      "
   ]
  },
  {
   "cell_type": "markdown",
   "id": "5f91528c-e5b8-426b-923c-dfe0745424f0",
   "metadata": {},
   "source": [
    "### Regularized Linear Models"
   ]
  },
  {
   "cell_type": "code",
   "execution_count": 37,
   "id": "7d29d40e-1004-412b-bc11-8af45b5a533b",
   "metadata": {},
   "outputs": [],
   "source": [
    "m = 100\n",
    "X = 6 * np.random.rand(m, 1) - 3\n",
    "y = 0.5 * X**2 + X + 2 + np.random.randn(m, 1)"
   ]
  },
  {
   "cell_type": "code",
   "execution_count": 38,
   "id": "280e0620-3c2b-46b4-b257-f803b0447a07",
   "metadata": {},
   "outputs": [
    {
     "data": {
      "text/plain": [
       "<AxesSubplot:>"
      ]
     },
     "execution_count": 38,
     "metadata": {},
     "output_type": "execute_result"
    },
    {
     "data": {
      "image/png": "[encoded data removed]",
      "text/plain": [
       "<Figure size 432x288 with 1 Axes>"
      ]
     },
     "metadata": {
      "needs_background": "light"
     },
     "output_type": "display_data"
    }
   ],
   "source": [
    "sns.scatterplot(x=X.flatten(), y=y.flatten())"
   ]
  },
  {
   "cell_type": "markdown",
   "id": "5b562abb-08f1-4c3b-8b3b-5db2bfe37e8a",
   "metadata": {},
   "source": [
    "### Ridge Regression"
   ]
  },
  {
   "cell_type": "code",
   "execution_count": 39,
   "id": "8d248e73-edeb-46df-bc57-0e4c349d2166",
   "metadata": {},
   "outputs": [
    {
     "data": {
      "text/plain": [
       "array([[3.84814393]])"
      ]
     },
     "execution_count": 39,
     "metadata": {},
     "output_type": "execute_result"
    }
   ],
   "source": [
    "from sklearn.linear_model import Ridge\n",
    "# using closed-form solution\n",
    "ridge_reg = Ridge(alpha=1, solver='cholesky')\n",
    "ridge_reg.fit(X_poly, y)\n",
    "ridge_reg.predict([X_poly[0]])"
   ]
  },
  {
   "cell_type": "code",
   "execution_count": 40,
   "id": "3b8fc2c3-f16e-43f1-9d22-39458b40954c",
   "metadata": {},
   "outputs": [
    {
     "data": {
      "text/plain": [
       "array([[3.84808123]])"
      ]
     },
     "execution_count": 40,
     "metadata": {},
     "output_type": "execute_result"
    }
   ],
   "source": [
    "# using closed-form solution\n",
    "ridge_reg = Ridge(alpha=1, solver='sag')\n",
    "ridge_reg.fit(X_poly, y)\n",
    "ridge_reg.predict([X_poly[0]])"
   ]
  },
  {
   "cell_type": "code",
   "execution_count": 41,
   "id": "81cea720-5ed1-4a1f-83e0-45b6844bea8a",
   "metadata": {},
   "outputs": [
    {
     "data": {
      "text/plain": [
       "array([3.75003884])"
      ]
     },
     "execution_count": 41,
     "metadata": {},
     "output_type": "execute_result"
    }
   ],
   "source": [
    "# using Stochastic Gradient Descent\n",
    "sgd_reg = SGDRegressor(penalty='l2')\n",
    "sgd_reg.fit(X_poly, y.ravel())\n",
    "sgd_reg.predict([X_poly[0]])"
   ]
  },
  {
   "cell_type": "code",
   "execution_count": 42,
   "id": "20f44b59-acc9-4a25-9328-e10ad7f5ed9b",
   "metadata": {},
   "outputs": [
    {
     "data": {
      "text/plain": [
       "array([2.23944793])"
      ]
     },
     "execution_count": 42,
     "metadata": {},
     "output_type": "execute_result"
    }
   ],
   "source": [
    "y[0]"
   ]
  },
  {
   "cell_type": "markdown",
   "id": "752201f5-6888-477d-b859-28e6ba492ffe",
   "metadata": {},
   "source": [
    "### Lasso Regression"
   ]
  },
  {
   "cell_type": "code",
   "execution_count": 43,
   "id": "4f9dea89-ed38-447f-b6ee-90a5e222d161",
   "metadata": {},
   "outputs": [
    {
     "data": {
      "text/plain": [
       "array([3.81125319])"
      ]
     },
     "execution_count": 43,
     "metadata": {},
     "output_type": "execute_result"
    }
   ],
   "source": [
    "from sklearn.linear_model import Lasso\n",
    "# using closed-form solution\n",
    "lasso_reg = Lasso(alpha=0.1)\n",
    "lasso_reg.fit(X_poly, y)\n",
    "lasso_reg.predict([X_poly[0]])"
   ]
  },
  {
   "cell_type": "code",
   "execution_count": 44,
   "id": "e08d5163-b2b7-466a-9d82-d641479e323f",
   "metadata": {},
   "outputs": [
    {
     "data": {
      "text/plain": [
       "array([3.52589666])"
      ]
     },
     "execution_count": 44,
     "metadata": {},
     "output_type": "execute_result"
    }
   ],
   "source": [
    "# using Stochastic Gradient Descent\n",
    "sgd_reg = SGDRegressor(penalty='l1')\n",
    "sgd_reg.fit(X_poly, y.ravel())\n",
    "sgd_reg.predict([X_poly[0]])"
   ]
  },
  {
   "cell_type": "markdown",
   "id": "48d21919-6210-478e-ab4b-f4fb0ada3a13",
   "metadata": {},
   "source": [
    "### Elastic Net Regularisation"
   ]
  },
  {
   "cell_type": "code",
   "execution_count": 45,
   "id": "35eb9069-eba4-4d2a-9de8-8372a9c36db6",
   "metadata": {},
   "outputs": [
    {
     "data": {
      "text/plain": [
       "array([3.8289756])"
      ]
     },
     "execution_count": 45,
     "metadata": {},
     "output_type": "execute_result"
    }
   ],
   "source": [
    "from sklearn.linear_model import ElasticNet\n",
    "elastic_net = ElasticNet(alpha=0.1, l1_ratio=0.5)\n",
    "elastic_net.fit(X_poly, y)\n",
    "elastic_net.predict([X_poly[0]])"
   ]
  },
  {
   "cell_type": "markdown",
   "id": "f721aab0-0722-42e2-8cd9-38c984491c4c",
   "metadata": {},
   "source": [
    "### Logistic Regression"
   ]
  },
  {
   "cell_type": "code",
   "execution_count": 46,
   "id": "91c97a25-32ea-4ddf-9a00-180552a607c9",
   "metadata": {},
   "outputs": [],
   "source": [
    "from sklearn import datasets\n",
    "iris = datasets.load_iris()"
   ]
  },
  {
   "cell_type": "code",
   "execution_count": 47,
   "id": "bdf442d4-265b-4f95-b58a-dc5dceff0a9f",
   "metadata": {},
   "outputs": [
    {
     "data": {
      "text/plain": [
       "['data',\n",
       " 'target',\n",
       " 'frame',\n",
       " 'target_names',\n",
       " 'DESCR',\n",
       " 'feature_names',\n",
       " 'filename']"
      ]
     },
     "execution_count": 47,
     "metadata": {},
     "output_type": "execute_result"
    }
   ],
   "source": [
    "list(iris.keys())"
   ]
  },
  {
   "cell_type": "code",
   "execution_count": 53,
   "id": "915b526a-a2e4-438c-a0a8-3dad29f19422",
   "metadata": {},
   "outputs": [
    {
     "data": {
      "text/plain": [
       "['sepal length (cm)',\n",
       " 'sepal width (cm)',\n",
       " 'petal length (cm)',\n",
       " 'petal width (cm)']"
      ]
     },
     "execution_count": 53,
     "metadata": {},
     "output_type": "execute_result"
    }
   ],
   "source": [
    "iris.feature_names"
   ]
  },
  {
   "cell_type": "code",
   "execution_count": 55,
   "id": "ee410be8-2276-4190-90ed-0e5a20f5edf7",
   "metadata": {},
   "outputs": [],
   "source": [
    "X = iris[\"data\"][:, 3:] # petal width\n",
    "y = (iris[\"target\"] == 2).astype(int) "
   ]
  },
  {
   "cell_type": "code",
   "execution_count": 61,
   "id": "adfc293e-d12d-45fc-982d-d6c83ea52284",
   "metadata": {},
   "outputs": [
    {
     "data": {
      "text/plain": [
       "LogisticRegression()"
      ]
     },
     "execution_count": 61,
     "metadata": {},
     "output_type": "execute_result"
    }
   ],
   "source": [
    "from sklearn.linear_model import LogisticRegression\n",
    "log_reg = LogisticRegression()\n",
    "log_reg.fit(X,y)"
   ]
  },
  {
   "cell_type": "code",
   "execution_count": 62,
   "id": "deb7fe34-15d2-4045-bbca-cbf09be145d6",
   "metadata": {},
   "outputs": [],
   "source": [
    "X_new = np.linspace(0, 3, 1000).reshape(-1, 1)\n",
    "y_proba = log_reg.predict_proba(X_new)"
   ]
  },
  {
   "cell_type": "code",
   "execution_count": 68,
   "id": "a9309085-78d1-4346-ac61-eb07d44f69b9",
   "metadata": {},
   "outputs": [
    {
     "data": {
      "text/plain": [
       "Text(0, 0.5, 'Probability')"
      ]
     },
     "execution_count": 68,
     "metadata": {},
     "output_type": "execute_result"
    },
    {
     "data": {
      "image/png": "[encoded data removed]",
      "text/plain": [
       "<Figure size 432x288 with 1 Axes>"
      ]
     },
     "metadata": {
      "needs_background": "light"
     },
     "output_type": "display_data"
    }
   ],
   "source": [
    "plt.plot(X_new, y_proba[:, 0], 'b--', label=\"Not Iris virginica\")\n",
    "plt.plot(X_new, y_proba[:, 1], 'g-', label=\"Iris virginica\")\n",
    "plt.xlabel(\"Petal width (cm)\")\n",
    "plt.ylabel(\"Probability\")"
   ]
  },
  {
   "cell_type": "code",
   "execution_count": 69,
   "id": "eddba7a2-1ae9-4cd9-a920-feb72e1e06f8",
   "metadata": {},
   "outputs": [
    {
     "data": {
      "text/plain": [
       "array([1, 0])"
      ]
     },
     "execution_count": 69,
     "metadata": {},
     "output_type": "execute_result"
    }
   ],
   "source": [
    "# checking the decision boundary around 1.6 cm pedtal width\n",
    "log_reg.predict([[1.7], [1.5]])"
   ]
  },
  {
   "cell_type": "code",
   "execution_count": 70,
   "id": "d5d42d54-dd97-46cd-ac49-135a34ea8bc3",
   "metadata": {},
   "outputs": [],
   "source": [
    "# above 1.6 : Iris\n",
    "# below 1.6 : Not Iris"
   ]
  },
  {
   "cell_type": "code",
   "execution_count": 75,
   "id": "71130c51-fa11-4256-893a-fac45c90d75d",
   "metadata": {},
   "outputs": [
    {
     "data": {
      "image/png": "[encoded data removed]",
      "text/plain": [
       "<Figure size 720x504 with 1 Axes>"
      ]
     },
     "metadata": {
      "needs_background": "light"
     },
     "output_type": "display_data"
    }
   ],
   "source": [
    "X = iris[\"data\"][:, (2, 3)]  # petal length, petal width\n",
    "y = (iris[\"target\"] == 2).astype(int)\n",
    "\n",
    "log_reg = LogisticRegression(solver=\"lbfgs\", C=10**10, random_state=42)\n",
    "log_reg.fit(X, y)\n",
    "\n",
    "x0, x1 = np.meshgrid(\n",
    "        np.linspace(2.9, 7, 500).reshape(-1, 1),\n",
    "        np.linspace(0.8, 2.7, 200).reshape(-1, 1),\n",
    "    )\n",
    "X_new = np.c_[x0.ravel(), x1.ravel()]\n",
    "\n",
    "y_proba = log_reg.predict_proba(X_new)\n",
    "\n",
    "plt.figure(figsize=(10, 7))\n",
    "plt.plot(X[y==0, 0], X[y==0, 1], \"bs\")\n",
    "plt.plot(X[y==1, 0], X[y==1, 1], \"g^\")\n",
    "\n",
    "zz = y_proba[:, 1].reshape(x0.shape)\n",
    "contour = plt.contour(x0, x1, zz, cmap=plt.cm.brg)\n",
    "\n",
    "\n",
    "left_right = np.array([2.9, 7])\n",
    "boundary = -(log_reg.coef_[0][0] * left_right + log_reg.intercept_[0]) / log_reg.coef_[0][1]\n",
    "\n",
    "plt.clabel(contour, inline=1, fontsize=12)\n",
    "plt.plot(left_right, boundary, \"k--\", linewidth=3)\n",
    "plt.text(3.5, 1.5, \"Not Iris virginica\", fontsize=14, color=\"b\", ha=\"center\")\n",
    "plt.text(6.5, 2.3, \"Iris virginica\", fontsize=14, color=\"g\", ha=\"center\")\n",
    "plt.xlabel(\"Petal length\", fontsize=14)\n",
    "plt.ylabel(\"Petal width\", fontsize=14)\n",
    "plt.axis([2.9, 7, 0.8, 2.7])\n",
    "plt.show()"
   ]
  },
  {
   "cell_type": "markdown",
   "id": "0f274769-43be-422a-a3a7-b2d9cf9cf566",
   "metadata": {},
   "source": [
    "### Softmax Regression"
   ]
  },
  {
   "cell_type": "code",
   "execution_count": 76,
   "id": "3a80299c-9a7b-4a3c-8a81-00480d991218",
   "metadata": {},
   "outputs": [],
   "source": [
    "X = iris[\"data\"][:, (2,3)] # petal length, width\n",
    "y = iris[\"target\"]"
   ]
  },
  {
   "cell_type": "code",
   "execution_count": 77,
   "id": "ce6b25a4-1dc6-4efc-9051-d61d7fe97caf",
   "metadata": {},
   "outputs": [
    {
     "data": {
      "text/plain": [
       "LogisticRegression(C=10, multi_class='multinomial')"
      ]
     },
     "execution_count": 77,
     "metadata": {},
     "output_type": "execute_result"
    }
   ],
   "source": [
    "softmax_reg = LogisticRegression(multi_class=\"multinomial\", solver=\"lbfgs\", C=10)\n",
    "softmax_reg.fit(X, y)"
   ]
  },
  {
   "cell_type": "code",
   "execution_count": 79,
   "id": "2e417d45-fa9d-4c3f-af65-7bc802dcb9ab",
   "metadata": {},
   "outputs": [
    {
     "data": {
      "text/plain": [
       "array([2])"
      ]
     },
     "execution_count": 79,
     "metadata": {},
     "output_type": "execute_result"
    }
   ],
   "source": [
    "# making predictions\n",
    "softmax_reg.predict([[5, 2]])"
   ]
  },
  {
   "cell_type": "code",
   "execution_count": 80,
   "id": "dd4fb7cf-4af6-46fb-94f7-e5b57a53f70f",
   "metadata": {},
   "outputs": [
    {
     "data": {
      "text/plain": [
       "array([[6.38014896e-07, 5.74929995e-02, 9.42506362e-01]])"
      ]
     },
     "execution_count": 80,
     "metadata": {},
     "output_type": "execute_result"
    }
   ],
   "source": [
    "softmax_reg.predict_proba([[5, 2]])"
   ]
  },
  {
   "cell_type": "code",
   "execution_count": null,
   "id": "d671f154-f04b-47d2-a730-65a3e476f390",
   "metadata": {},
   "outputs": [],
   "source": []
  }
 ],
 "metadata": {
  "kernelspec": {
   "display_name": "Python 3 (ipykernel)",
   "language": "python",
   "name": "python3"
  },
  "language_info": {
   "codemirror_mode": {
    "name": "ipython",
    "version": 3
   },
   "file_extension": ".py",
   "mimetype": "text/x-python",
   "name": "python",
   "nbconvert_exporter": "python",
   "pygments_lexer": "ipython3",
   "version": "3.8.8"
  }
 },
 "nbformat": 4,
 "nbformat_minor": 5
}
